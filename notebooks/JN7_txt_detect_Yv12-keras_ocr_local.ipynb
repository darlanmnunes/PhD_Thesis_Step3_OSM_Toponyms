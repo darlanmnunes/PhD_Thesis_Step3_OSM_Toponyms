{
 "cells": [
  {
   "cell_type": "markdown",
   "metadata": {
    "id": "Jp1L6IsFa_RU"
   },
   "source": [
    "## Approach using YOLO inference and Keras-OCR framework to detect texts (names) on Mapillary images\n",
    "\n",
    "**Aims**:\n",
    "* Use the best trained model from YOLOv12 to detect text areas in the street-level images (SLI)\n",
    "* Follow up with Keras-OCR framework to text (toponyms) recognition from these areas"
   ]
  },
  {
   "cell_type": "markdown",
   "metadata": {
    "id": "Hqevkj2IN0YX"
   },
   "source": [
    "#### Import necessary libraries and modules"
   ]
  },
  {
   "cell_type": "code",
   "execution_count": 2,
   "metadata": {},
   "outputs": [],
   "source": [
    "import os\n",
    "import numpy as np\n",
    "import gc\n",
    "import torch\n",
    "from datetime import datetime\n",
    "import pandas as pd\n",
    "import geopandas as gpd\n",
    "import fiona\n",
    "from tqdm.notebook import tqdm # tqdm no notebook"
   ]
  },
  {
   "cell_type": "code",
   "execution_count": 4,
   "metadata": {},
   "outputs": [],
   "source": [
    "# recarrega automaticamente as funções\n",
    "%load_ext autoreload\n",
    "%autoreload 2"
   ]
  },
  {
   "cell_type": "code",
   "execution_count": 5,
   "metadata": {},
   "outputs": [],
   "source": [
    "# Import necessary libraries\n",
    "import warnings\n",
    "warnings.filterwarnings('ignore')"
   ]
  },
  {
   "cell_type": "code",
   "execution_count": 6,
   "metadata": {},
   "outputs": [],
   "source": [
    "# Sets the root directory of the project as the working directory\n",
    "os.chdir('..')"
   ]
  },
  {
   "cell_type": "code",
   "execution_count": 7,
   "metadata": {},
   "outputs": [
    {
     "data": {
      "text/plain": [
       "'c:\\\\DEV\\\\PhD_Thesis_Step3_OSM_Toponyms'"
      ]
     },
     "execution_count": 7,
     "metadata": {},
     "output_type": "execute_result"
    }
   ],
   "source": [
    "# Check the current working directory\n",
    "os.getcwd()"
   ]
  },
  {
   "cell_type": "code",
   "execution_count": 6,
   "metadata": {},
   "outputs": [],
   "source": [
    "# Import function from the modules train_yolov12\n",
    "from src.txt_detect_Yv12_keras_ocr import init_recognizer, yolo_predict_and_crop, run_ocr_on_crops, rebuild_df_crops"
   ]
  },
  {
   "cell_type": "markdown",
   "metadata": {
    "id": "B6CsosjS1q9E"
   },
   "source": [
    "#### Applying YOLOv12 best trained model to predict and crop areas with text in the SLI"
   ]
  },
  {
   "cell_type": "code",
   "execution_count": 7,
   "metadata": {},
   "outputs": [
    {
     "name": "stdout",
     "output_type": "stream",
     "text": [
      "yolov12\\runs\\mapillary_only_v1\\weights\\best.pt\n"
     ]
    }
   ],
   "source": [
    "# Path to the best model\n",
    "BEST_MAP = os.path.join('yolov12','runs', 'mapillary_only_v1', 'weights', 'best.pt')\n",
    "print(BEST_MAP)\n",
    "assert os.path.exists(BEST_MAP), f\"Pesos não encontrados: {BEST_MAP}\""
   ]
  },
  {
   "cell_type": "code",
   "execution_count": 8,
   "metadata": {},
   "outputs": [
    {
     "name": "stderr",
     "output_type": "stream",
     "text": [
      "Processando cbge_area_verde\\leisure_park: 100%|██████████| 3/3 [00:00<00:00,  4.38img/s]\n",
      "Processando cbge_area_verde\\leisure_park: 100%|██████████| 12/12 [00:00<00:00, 12.19img/s]\n",
      "Processando cbge_area_verde\\leisure_park: 100%|██████████| 25/25 [00:01<00:00, 12.91img/s]\n",
      "Processando cbge_area_verde\\leisure_park: 100%|██████████| 100/100 [00:08<00:00, 11.13img/s]\n",
      "Processando cbge_area_verde\\leisure_park: 100%|██████████| 6/6 [00:00<00:00, 10.65img/s]\n",
      "Processando cbge_area_verde\\leisure_park: 100%|██████████| 14/14 [00:01<00:00,  8.73img/s]\n",
      "Processando cbge_area_verde\\leisure_park: 100%|██████████| 98/98 [00:10<00:00,  9.34img/s]\n",
      "Processando cbge_area_verde\\leisure_park: 100%|██████████| 93/93 [00:09<00:00, 10.19img/s]\n",
      "Processando cbge_area_verde\\leisure_park: 100%|██████████| 25/25 [00:02<00:00,  9.66img/s]\n",
      "Processando cbge_area_verde\\leisure_park: 100%|██████████| 5/5 [00:00<00:00, 11.97img/s]\n",
      "Processando cbge_area_verde\\leisure_park: 100%|██████████| 30/30 [00:03<00:00,  9.02img/s]\n",
      "Processando cbge_area_verde\\leisure_park: 100%|██████████| 99/99 [00:08<00:00, 11.62img/s]\n",
      "Processando cbge_area_verde\\leisure_park: 100%|██████████| 99/99 [00:10<00:00,  9.14img/s]\n",
      "Processando cbge_area_verde\\leisure_park: 100%|██████████| 100/100 [00:10<00:00,  9.14img/s]\n",
      "Processando cbge_area_verde\\leisure_park: 100%|██████████| 100/100 [00:09<00:00, 11.10img/s]\n",
      "Processando cbge_area_verde\\leisure_park: 100%|██████████| 100/100 [00:09<00:00, 10.70img/s]\n",
      "Processando cbge_area_verde\\leisure_park: 100%|██████████| 100/100 [00:10<00:00,  9.48img/s]\n",
      "Processando cbge_area_verde\\leisure_park: 100%|██████████| 100/100 [00:09<00:00, 10.72img/s]\n",
      "Processando cbge_area_verde\\leisure_park: 100%|██████████| 100/100 [00:09<00:00, 10.56img/s]\n",
      "Processando cbge_area_verde\\leisure_park: 100%|██████████| 100/100 [00:09<00:00, 10.09img/s]\n",
      "Processando cbge_area_verde\\leisure_park: 100%|██████████| 48/48 [00:04<00:00,  9.92img/s]\n",
      "Processando cbge_area_verde\\leisure_park: 100%|██████████| 61/61 [00:07<00:00,  8.07img/s]\n",
      "Processando cbge_area_verde\\leisure_park: 100%|██████████| 100/100 [00:10<00:00,  9.55img/s]\n",
      "Processando cbge_area_verde\\leisure_park: 100%|██████████| 17/17 [00:01<00:00,  9.19img/s]\n",
      "Processando cbge_area_verde\\leisure_park: 100%|██████████| 21/21 [00:02<00:00,  7.23img/s]\n",
      "Processando cbge_area_verde\\leisure_park: 100%|██████████| 21/21 [00:03<00:00,  7.00img/s]\n",
      "Processando cbge_area_verde\\leisure_park: 100%|██████████| 100/100 [00:10<00:00,  9.29img/s]\n",
      "Processando cbge_area_verde\\leisure_park: 100%|██████████| 100/100 [00:10<00:00,  9.48img/s]\n",
      "Processando cbge_area_verde\\leisure_park: 100%|██████████| 100/100 [00:10<00:00,  9.26img/s]\n",
      "Processando cbge_area_verde\\leisure_park: 100%|██████████| 100/100 [00:10<00:00,  9.57img/s]\n",
      "Processando cbge_area_verde\\leisure_park: 100%|██████████| 100/100 [00:09<00:00, 10.33img/s]\n",
      "Processando cbge_area_verde\\leisure_park: 100%|██████████| 100/100 [00:09<00:00, 10.01img/s]\n",
      "Processando cbge_area_verde\\leisure_park: 100%|██████████| 100/100 [00:10<00:00,  9.86img/s]\n",
      "Processando cbge_area_verde\\leisure_park: 100%|██████████| 100/100 [00:09<00:00, 10.16img/s]\n",
      "Processando cbge_area_verde\\leisure_park: 100%|██████████| 100/100 [00:10<00:00,  9.77img/s]\n",
      "Processando cbge_area_verde\\leisure_park: 100%|██████████| 19/19 [00:02<00:00,  7.55img/s]\n",
      "Processando cbge_area_verde\\leisure_park: 100%|██████████| 60/60 [00:05<00:00, 10.31img/s]\n",
      "Processando cbge_praca\\leisure_park: 100%|██████████| 100/100 [00:09<00:00, 10.28img/s]\n",
      "Processando cbge_praca\\leisure_park: 100%|██████████| 100/100 [00:09<00:00, 10.36img/s]\n",
      "Processando cbge_praca\\leisure_park: 100%|██████████| 100/100 [00:10<00:00,  9.86img/s]\n",
      "Processando cbge_praca\\leisure_park: 100%|██████████| 100/100 [00:10<00:00,  9.97img/s]\n",
      "Processando cbge_praca\\leisure_park: 100%|██████████| 96/96 [00:10<00:00,  9.35img/s]\n",
      "Processando cbge_praca\\leisure_park: 100%|██████████| 100/100 [00:08<00:00, 11.26img/s]\n",
      "Processando cbge_praca\\leisure_park: 100%|██████████| 100/100 [00:09<00:00, 10.16img/s]\n",
      "Processando cbge_praca\\leisure_park: 100%|██████████| 100/100 [00:09<00:00, 10.77img/s]\n",
      "Processando cbge_praca\\leisure_park: 100%|██████████| 100/100 [00:09<00:00, 10.14img/s]\n",
      "Processando cbge_praca\\leisure_park: 100%|██████████| 100/100 [00:10<00:00,  9.96img/s]\n",
      "Processando cbge_praca\\leisure_park: 100%|██████████| 99/99 [00:09<00:00, 10.07img/s]\n",
      "Processando cbge_praca\\leisure_park: 100%|██████████| 75/75 [00:07<00:00, 10.10img/s]\n",
      "Processando cbge_praca\\leisure_park: 100%|██████████| 98/98 [00:10<00:00,  9.53img/s]\n",
      "Processando cbge_praca\\leisure_park: 100%|██████████| 11/11 [00:01<00:00,  9.49img/s]\n",
      "Processando cbge_praca\\leisure_park: 100%|██████████| 100/100 [00:10<00:00,  9.89img/s]\n",
      "Processando cbge_praca\\leisure_park: 100%|██████████| 100/100 [00:10<00:00,  9.42img/s]\n",
      "Processando cbge_praca\\leisure_park: 100%|██████████| 99/99 [00:09<00:00, 10.11img/s]\n",
      "Processando cbge_praca\\leisure_park: 100%|██████████| 97/97 [00:09<00:00, 10.22img/s]\n",
      "Processando cbge_praca\\leisure_park: 100%|██████████| 100/100 [00:09<00:00, 10.18img/s]\n",
      "Processando cbge_praca\\leisure_park: 100%|██████████| 100/100 [00:11<00:00,  8.60img/s]\n",
      "Processando cbge_praca\\leisure_park: 100%|██████████| 88/88 [00:10<00:00,  8.11img/s]\n",
      "Processando cbge_praca\\leisure_park: 100%|██████████| 99/99 [00:10<00:00,  9.53img/s]\n",
      "Processando cbge_praca\\leisure_park: 100%|██████████| 90/90 [00:09<00:00,  9.89img/s]\n",
      "Processando cbge_praca\\leisure_park: 100%|██████████| 71/71 [00:07<00:00,  9.05img/s]\n",
      "Processando cbge_praca\\leisure_park: 100%|██████████| 67/67 [00:08<00:00,  8.09img/s]\n",
      "Processando cbge_praca\\leisure_park: 100%|██████████| 100/100 [00:10<00:00,  9.45img/s]\n",
      "Processando cbge_praca\\leisure_park: 100%|██████████| 98/98 [00:09<00:00, 10.32img/s]\n",
      "Processando cbge_praca\\leisure_park: 100%|██████████| 98/98 [00:10<00:00,  9.31img/s]\n",
      "Processando cbge_praca\\leisure_park: 100%|██████████| 100/100 [00:10<00:00,  9.32img/s]\n",
      "Processando cbge_praca\\leisure_park: 100%|██████████| 100/100 [00:10<00:00,  9.99img/s]\n",
      "Processando cbge_praca\\leisure_park: 100%|██████████| 100/100 [00:10<00:00,  9.19img/s]\n",
      "Processando cbge_praca\\leisure_park: 100%|██████████| 100/100 [00:09<00:00, 10.54img/s]\n",
      "Processando cbge_praca\\leisure_park: 100%|██████████| 100/100 [00:10<00:00,  9.81img/s]\n",
      "Processando cbge_praca\\leisure_park: 100%|██████████| 100/100 [00:10<00:00,  9.88img/s]\n",
      "Processando cbge_praca\\leisure_park: 100%|██████████| 100/100 [00:10<00:00,  9.22img/s]\n",
      "Processando cbge_praca\\leisure_park: 100%|██████████| 99/99 [00:09<00:00, 10.04img/s]\n",
      "Processando cbge_praca\\leisure_park: 100%|██████████| 72/72 [00:07<00:00,  9.05img/s]\n",
      "Processando cbge_praca\\leisure_park: 100%|██████████| 99/99 [00:09<00:00,  9.93img/s]\n",
      "Processando cbge_praca\\leisure_park: 100%|██████████| 3/3 [00:00<00:00, 10.53img/s]\n",
      "Processando cbge_praca\\leisure_park: 100%|██████████| 81/81 [00:08<00:00,  9.47img/s]\n",
      "Processando cbge_praca\\leisure_park: 100%|██████████| 69/69 [00:07<00:00,  9.45img/s]\n",
      "Processando cbge_praca\\leisure_park: 100%|██████████| 64/64 [00:07<00:00,  8.34img/s]\n",
      "Processando cbge_praca\\leisure_park: 100%|██████████| 92/92 [00:10<00:00,  8.85img/s]\n",
      "Processando cbge_praca\\leisure_park: 100%|██████████| 98/98 [00:09<00:00, 10.35img/s]\n",
      "Processando cbge_praca\\leisure_park: 100%|██████████| 100/100 [00:10<00:00,  9.75img/s]\n",
      "Processando cbge_praca\\leisure_park: 100%|██████████| 100/100 [00:09<00:00, 10.51img/s]\n",
      "Processando cbge_praca\\leisure_park: 100%|██████████| 100/100 [00:09<00:00, 10.19img/s]\n",
      "Processando cbge_praca\\leisure_park: 100%|██████████| 100/100 [00:10<00:00,  9.30img/s]\n",
      "Processando cbge_praca\\leisure_park: 100%|██████████| 100/100 [00:10<00:00,  9.22img/s]\n",
      "Processando cbge_praca\\leisure_park: 100%|██████████| 100/100 [00:11<00:00,  8.83img/s]\n",
      "Processando cbge_praca\\leisure_park: 100%|██████████| 100/100 [00:13<00:00,  7.30img/s]\n",
      "Processando cbge_praca\\leisure_park: 100%|██████████| 100/100 [00:10<00:00,  9.85img/s]\n",
      "Processando cbge_praca\\leisure_park: 100%|██████████| 88/88 [00:10<00:00,  8.74img/s]\n",
      "Processando cbge_praca\\leisure_park: 100%|██████████| 100/100 [00:10<00:00,  9.48img/s]\n",
      "Processando cbge_praca\\leisure_park: 100%|██████████| 100/100 [00:09<00:00, 10.34img/s]\n",
      "Processando cbge_praca\\leisure_park: 100%|██████████| 96/96 [00:09<00:00, 10.44img/s]\n",
      "Processando cbge_praca\\leisure_park: 100%|██████████| 96/96 [00:09<00:00,  9.89img/s]\n",
      "Processando cbge_praca\\leisure_park: 100%|██████████| 100/100 [00:10<00:00,  9.99img/s]\n",
      "Processando cbge_praca\\leisure_park: 100%|██████████| 98/98 [00:10<00:00,  9.65img/s]\n",
      "Processando cbge_praca\\leisure_park: 100%|██████████| 100/100 [00:09<00:00, 10.27img/s]\n",
      "Processando cbge_praca\\leisure_park: 100%|██████████| 100/100 [00:09<00:00, 10.12img/s]\n",
      "Processando cbge_praca\\leisure_park: 100%|██████████| 16/16 [00:01<00:00, 10.15img/s]\n",
      "Processando cbge_praca\\leisure_park: 100%|██████████| 99/99 [00:09<00:00,  9.96img/s]\n",
      "Processando cbge_praca\\leisure_park: 100%|██████████| 100/100 [00:10<00:00,  9.75img/s]\n",
      "Processando cbge_praca\\leisure_park: 100%|██████████| 95/95 [00:09<00:00,  9.88img/s]\n",
      "Processando cbge_praca\\leisure_park: 100%|██████████| 100/100 [00:09<00:00, 10.05img/s]\n",
      "Processando cbge_praca\\leisure_park: 100%|██████████| 51/51 [00:06<00:00,  8.23img/s]\n",
      "Processando cbge_praca\\leisure_park: 100%|██████████| 100/100 [00:10<00:00,  9.75img/s]\n",
      "Processando cbge_praca\\leisure_park: 100%|██████████| 100/100 [00:11<00:00,  8.53img/s]\n",
      "Processando cbge_praca\\leisure_park: 100%|██████████| 100/100 [00:10<00:00,  9.87img/s]\n",
      "Processando cbge_praca\\leisure_park: 100%|██████████| 100/100 [00:09<00:00, 10.03img/s]\n",
      "Processando cbge_praca\\leisure_park: 100%|██████████| 100/100 [00:12<00:00,  7.95img/s]\n",
      "Processando cbge_praca\\leisure_park: 100%|██████████| 99/99 [00:14<00:00,  6.85img/s]\n",
      "Processando cbge_praca\\leisure_park: 100%|██████████| 98/98 [00:09<00:00,  9.95img/s]\n",
      "Processando cbge_praca\\leisure_park: 100%|██████████| 100/100 [00:10<00:00,  9.60img/s]\n",
      "Processando cbge_praca\\leisure_park: 100%|██████████| 100/100 [00:09<00:00, 10.47img/s]\n",
      "Processando cbge_praca\\leisure_park: 100%|██████████| 100/100 [00:09<00:00, 10.19img/s]\n",
      "Processando cbge_praca\\leisure_park: 100%|██████████| 99/99 [00:09<00:00, 10.13img/s]\n",
      "Processando cbge_praca\\leisure_park: 100%|██████████| 100/100 [00:10<00:00,  9.87img/s]\n",
      "Processando cbge_praca\\leisure_park: 100%|██████████| 100/100 [00:11<00:00,  9.03img/s]\n",
      "Processando cbge_praca\\leisure_park: 100%|██████████| 100/100 [00:11<00:00,  9.02img/s]\n",
      "Processando cbge_praca\\leisure_park: 100%|██████████| 100/100 [00:10<00:00,  9.72img/s]\n",
      "Processando cbge_praca\\leisure_park: 100%|██████████| 100/100 [00:10<00:00,  9.89img/s]\n",
      "Processando cbge_praca\\leisure_park: 100%|██████████| 100/100 [00:11<00:00,  8.60img/s]\n",
      "Processando cbge_praca\\leisure_park: 100%|██████████| 100/100 [00:09<00:00, 10.34img/s]\n",
      "Processando cbge_praca\\leisure_park: 100%|██████████| 6/6 [00:00<00:00, 12.00img/s]\n",
      "Processando cbge_praca\\leisure_park: 100%|██████████| 44/44 [00:04<00:00, 10.73img/s]\n",
      "Processando cbge_praca\\leisure_park: 100%|██████████| 100/100 [00:10<00:00,  9.87img/s]\n",
      "Processando cbge_praca\\leisure_park: 100%|██████████| 53/53 [00:04<00:00, 11.65img/s]\n",
      "Processando cbge_praca\\leisure_park: 100%|██████████| 44/44 [00:04<00:00, 10.08img/s]\n",
      "Processando cbge_praca\\leisure_park: 100%|██████████| 91/91 [00:09<00:00,  9.65img/s]\n",
      "Processando cbge_praca\\leisure_park: 100%|██████████| 100/100 [00:18<00:00,  5.49img/s]\n",
      "Processando cbge_praca\\leisure_park: 100%|██████████| 92/92 [00:12<00:00,  7.62img/s]\n",
      "Processando cbge_praca\\leisure_park: 100%|██████████| 29/29 [00:02<00:00, 10.13img/s]\n",
      "Processando cbge_praca\\leisure_park: 100%|██████████| 100/100 [00:10<00:00,  9.95img/s]\n",
      "Processando cbge_praca\\leisure_park: 100%|██████████| 99/99 [00:09<00:00, 10.29img/s]\n",
      "Processando cbge_praca\\leisure_park: 100%|██████████| 100/100 [00:09<00:00, 10.85img/s]\n",
      "Processando cbge_praca\\leisure_park: 100%|██████████| 100/100 [00:10<00:00,  9.16img/s]\n",
      "Processando cbge_praca\\leisure_park: 100%|██████████| 77/77 [00:08<00:00,  9.31img/s]\n",
      "Processando cbge_praca\\leisure_park: 100%|██████████| 100/100 [00:10<00:00,  9.25img/s]\n",
      "Processando cbge_praca\\leisure_park: 100%|██████████| 96/96 [00:09<00:00, 10.16img/s]\n",
      "Processando cbge_praca\\leisure_park: 100%|██████████| 100/100 [00:10<00:00,  9.73img/s]\n",
      "Processando cbge_praca\\leisure_park: 100%|██████████| 100/100 [00:09<00:00, 10.23img/s]\n",
      "Processando cbge_praca\\leisure_park: 100%|██████████| 98/98 [00:11<00:00,  8.20img/s]\n",
      "Processando cbge_praca\\leisure_park: 100%|██████████| 98/98 [00:11<00:00,  8.25img/s]\n",
      "Processando cbge_praca\\leisure_park: 100%|██████████| 100/100 [00:10<00:00,  9.59img/s]\n",
      "Processando cbge_praca\\leisure_park: 100%|██████████| 99/99 [00:17<00:00,  5.77img/s]\n",
      "Processando cbge_praca\\leisure_park: 100%|██████████| 100/100 [00:08<00:00, 11.29img/s]\n",
      "Processando cbge_praca\\leisure_park: 100%|██████████| 24/24 [00:02<00:00,  8.44img/s]\n",
      "Processando cbge_praca\\leisure_park: 100%|██████████| 98/98 [00:09<00:00, 10.00img/s]\n",
      "Processando cbge_praca\\leisure_park: 100%|██████████| 82/82 [00:09<00:00,  8.24img/s]\n",
      "Processando cbge_praca\\leisure_park: 100%|██████████| 11/11 [00:01<00:00,  8.57img/s]\n",
      "Processando cbge_praca\\leisure_park: 100%|██████████| 48/48 [00:06<00:00,  7.37img/s]\n",
      "Processando cbge_praca\\leisure_park: 100%|██████████| 100/100 [00:09<00:00, 10.03img/s]\n",
      "Processando cbge_praca\\leisure_park: 100%|██████████| 91/91 [00:10<00:00,  8.63img/s]\n",
      "Processando cbge_praca\\leisure_park: 100%|██████████| 100/100 [00:10<00:00,  9.37img/s]\n",
      "Processando cbge_praca\\leisure_park: 100%|██████████| 100/100 [00:11<00:00,  8.90img/s]\n",
      "Processando cbge_praca\\leisure_park: 100%|██████████| 73/73 [00:07<00:00,  9.85img/s]\n",
      "Processando cbge_praca\\leisure_park: 100%|██████████| 99/99 [00:09<00:00, 10.39img/s]\n",
      "Processando cbge_praca\\leisure_park: 100%|██████████| 100/100 [00:10<00:00,  9.44img/s]\n",
      "Processando cbge_praca\\leisure_park: 100%|██████████| 98/98 [00:10<00:00,  9.49img/s]\n",
      "Processando cbge_praca\\leisure_park: 100%|██████████| 8/8 [00:00<00:00, 12.64img/s]\n",
      "Processando cbge_praca\\leisure_park: 100%|██████████| 97/97 [00:09<00:00,  9.76img/s]\n",
      "Processando cbge_praca\\leisure_park: 100%|██████████| 66/66 [00:06<00:00,  9.82img/s]\n",
      "Processando cbge_praca\\leisure_park: 100%|██████████| 88/88 [00:09<00:00,  9.63img/s]\n",
      "Processando cbge_praca\\leisure_park: 100%|██████████| 100/100 [00:10<00:00,  9.17img/s]\n",
      "Processando cbge_praca\\leisure_park: 100%|██████████| 100/100 [00:09<00:00, 10.63img/s]\n",
      "Processando cbge_praca\\leisure_park: 100%|██████████| 98/98 [00:10<00:00,  9.71img/s]\n",
      "Processando cbge_praca\\leisure_park: 100%|██████████| 48/48 [00:04<00:00,  9.73img/s]\n",
      "Processando cbge_praca\\leisure_park: 100%|██████████| 100/100 [00:09<00:00, 10.17img/s]\n",
      "Processando cbge_praca\\leisure_park: 100%|██████████| 100/100 [00:10<00:00,  9.79img/s]\n",
      "Processando cbge_praca\\leisure_park: 100%|██████████| 100/100 [00:09<00:00, 10.13img/s]\n",
      "Processando cbge_praca\\leisure_park: 100%|██████████| 100/100 [00:10<00:00,  9.82img/s]\n",
      "Processando cbge_praca\\leisure_park: 100%|██████████| 100/100 [00:10<00:00,  9.32img/s]\n",
      "Processando cbge_praca\\leisure_park: 100%|██████████| 100/100 [00:10<00:00,  9.73img/s]\n",
      "Processando cbge_praca\\leisure_park: 100%|██████████| 100/100 [00:09<00:00, 10.05img/s]\n",
      "Processando cbge_praca\\leisure_park: 100%|██████████| 100/100 [00:10<00:00,  9.77img/s]\n",
      "Processando cbge_praca\\leisure_park: 100%|██████████| 45/45 [00:06<00:00,  7.44img/s]\n",
      "Processando cbge_praca\\leisure_park: 100%|██████████| 100/100 [00:10<00:00,  9.65img/s]\n",
      "Processando cbge_praca\\leisure_park: 100%|██████████| 99/99 [00:10<00:00,  9.50img/s]\n",
      "Processando cbge_praca\\leisure_park: 100%|██████████| 100/100 [00:10<00:00,  9.24img/s]\n",
      "Processando cbge_praca\\leisure_park: 100%|██████████| 100/100 [00:12<00:00,  8.17img/s]\n",
      "Processando cbge_praca\\leisure_park: 100%|██████████| 25/25 [00:04<00:00,  5.72img/s]\n",
      "Processando cbge_praca\\leisure_park: 100%|██████████| 99/99 [00:10<00:00,  9.13img/s]\n",
      "Processando cbge_praca\\leisure_park: 100%|██████████| 67/67 [00:08<00:00,  7.60img/s]\n",
      "Processando cbge_praca\\leisure_park: 100%|██████████| 100/100 [00:09<00:00, 10.41img/s]\n",
      "Processando cbge_praca\\leisure_park: 100%|██████████| 80/80 [00:07<00:00, 10.26img/s]\n",
      "Processando cbge_praca\\leisure_park: 100%|██████████| 100/100 [00:09<00:00, 10.65img/s]\n",
      "Processando cbge_praca\\leisure_park: 100%|██████████| 45/45 [00:05<00:00,  8.36img/s]\n",
      "Processando cbge_praca\\leisure_park: 100%|██████████| 100/100 [00:10<00:00,  9.88img/s]\n",
      "Processando cbge_praca\\leisure_park: 100%|██████████| 100/100 [00:09<00:00, 10.08img/s]\n",
      "Processando cbge_praca\\leisure_park: 100%|██████████| 56/56 [00:07<00:00,  7.29img/s]\n",
      "Processando cbge_praca\\leisure_park: 100%|██████████| 100/100 [00:10<00:00,  9.79img/s]\n",
      "Processando cbge_praca\\leisure_park: 100%|██████████| 100/100 [00:11<00:00,  8.91img/s]\n",
      "Processando cbge_praca\\leisure_park: 100%|██████████| 100/100 [00:10<00:00,  9.35img/s]\n",
      "Processando cbge_praca\\leisure_park: 100%|██████████| 100/100 [00:11<00:00,  9.05img/s]\n",
      "Processando cbge_praca\\leisure_park: 100%|██████████| 98/98 [00:09<00:00, 10.08img/s]\n",
      "Processando cbge_praca\\leisure_park: 100%|██████████| 100/100 [00:11<00:00,  8.47img/s]\n",
      "Processando cbge_praca\\leisure_park: 100%|██████████| 100/100 [00:09<00:00, 10.17img/s]\n",
      "Processando cbge_praca\\leisure_park: 100%|██████████| 100/100 [00:11<00:00,  8.70img/s]\n",
      "Processando cbge_praca\\leisure_park: 100%|██████████| 100/100 [00:09<00:00, 10.52img/s]\n",
      "Processando cbge_praca\\leisure_park: 100%|██████████| 100/100 [00:14<00:00,  7.02img/s]\n",
      "Processando cbge_praca\\leisure_park: 100%|██████████| 100/100 [00:10<00:00,  9.80img/s]\n",
      "Processando cbge_praca\\leisure_park: 100%|██████████| 100/100 [00:10<00:00,  9.77img/s]\n",
      "Processando cbge_praca\\leisure_park: 100%|██████████| 100/100 [00:10<00:00,  9.75img/s]\n",
      "Processando cbge_praca\\leisure_park: 100%|██████████| 100/100 [00:10<00:00,  9.95img/s]\n",
      "Processando cbge_praca\\leisure_park: 100%|██████████| 97/97 [00:10<00:00,  9.69img/s]\n",
      "Processando cbge_praca\\leisure_park: 100%|██████████| 100/100 [00:13<00:00,  7.50img/s]\n",
      "Processando cbge_praca\\leisure_park: 100%|██████████| 99/99 [00:09<00:00, 10.75img/s]\n",
      "Processando cbge_praca\\leisure_park: 100%|██████████| 100/100 [00:09<00:00, 10.34img/s]\n",
      "Processando cbge_praca\\leisure_park: 100%|██████████| 100/100 [00:09<00:00, 10.13img/s]\n",
      "Processando cbge_praca\\leisure_park: 100%|██████████| 43/43 [00:04<00:00,  9.79img/s]\n",
      "Processando cbge_praca\\leisure_park: 100%|██████████| 100/100 [00:09<00:00, 10.18img/s]\n",
      "Processando cbge_praca\\leisure_park: 100%|██████████| 100/100 [00:10<00:00,  9.84img/s]\n",
      "Processando cbge_praca\\leisure_park: 100%|██████████| 100/100 [00:09<00:00, 10.37img/s]\n",
      "Processando cbge_praca\\leisure_park: 100%|██████████| 100/100 [00:10<00:00,  9.33img/s]\n",
      "Processando cbge_praca\\leisure_park: 100%|██████████| 100/100 [00:10<00:00,  9.37img/s]\n",
      "Processando cbge_praca\\leisure_park: 100%|██████████| 71/71 [00:07<00:00,  9.59img/s]\n",
      "Processando cbge_praca\\leisure_park: 100%|██████████| 22/22 [00:02<00:00,  8.63img/s]\n",
      "Processando cbge_praca\\leisure_park: 100%|██████████| 100/100 [00:10<00:00,  9.35img/s]\n",
      "Processando cbge_praca\\leisure_park: 100%|██████████| 100/100 [00:09<00:00, 10.25img/s]\n",
      "Processando cbge_praca\\leisure_park: 100%|██████████| 55/55 [00:05<00:00,  9.57img/s]\n",
      "Processando cbge_praca\\leisure_park: 100%|██████████| 100/100 [00:09<00:00, 10.46img/s]\n",
      "Processando cbge_praca\\leisure_park: 100%|██████████| 98/98 [00:11<00:00,  8.78img/s]\n",
      "Processando cbge_praca\\leisure_park: 100%|██████████| 100/100 [00:10<00:00,  9.80img/s]\n",
      "Processando cbge_praca\\leisure_park: 100%|██████████| 100/100 [00:09<00:00, 10.10img/s]\n",
      "Processando cbge_praca\\leisure_park: 100%|██████████| 100/100 [00:10<00:00,  9.64img/s]\n",
      "Processando cbge_praca\\leisure_park: 100%|██████████| 43/43 [00:04<00:00,  9.85img/s]\n",
      "Processando cbge_praca\\leisure_park: 100%|██████████| 100/100 [00:12<00:00,  7.88img/s]\n",
      "Processando cbge_praca\\leisure_park: 100%|██████████| 100/100 [00:10<00:00,  9.37img/s]\n",
      "Processando cbge_praca\\leisure_park: 100%|██████████| 11/11 [00:01<00:00,  9.07img/s]\n",
      "Processando cbge_praca\\leisure_park: 100%|██████████| 100/100 [00:10<00:00,  9.58img/s]\n",
      "Processando cbge_praca\\leisure_park: 100%|██████████| 100/100 [00:09<00:00, 10.05img/s]\n",
      "Processando cbge_praca\\leisure_park: 100%|██████████| 100/100 [00:09<00:00, 10.15img/s]\n",
      "Processando cbge_praca\\leisure_park: 100%|██████████| 89/89 [00:09<00:00,  9.86img/s]\n",
      "Processando cbge_praca\\leisure_sports_centre: 100%|██████████| 100/100 [00:12<00:00,  8.22img/s]\n",
      "Processando cbge_praca\\tourism_viewpoint: 100%|██████████| 99/99 [00:09<00:00, 10.95img/s]\n",
      "Processando edif_comerc_serv\\amenity_dentist: 100%|██████████| 98/98 [00:11<00:00,  8.21img/s]\n",
      "Processando edif_comerc_serv\\amenity_dentist: 100%|██████████| 100/100 [00:11<00:00,  8.64img/s]\n",
      "Processando edif_comerc_serv\\amenity_dentist: 100%|██████████| 100/100 [00:10<00:00,  9.76img/s]\n",
      "Processando edif_comerc_serv\\amenity_dentist: 100%|██████████| 99/99 [00:09<00:00, 10.04img/s]\n",
      "Processando edif_comerc_serv\\amenity_dentist: 100%|██████████| 99/99 [00:10<00:00,  9.49img/s]\n",
      "Processando edif_comerc_serv\\amenity_dentist: 100%|██████████| 99/99 [00:10<00:00,  9.07img/s]\n",
      "Processando edif_comerc_serv\\amenity_dentist: 100%|██████████| 99/99 [00:10<00:00,  9.06img/s]\n",
      "Processando edif_comerc_serv\\amenity_dentist: 100%|██████████| 99/99 [00:10<00:00,  9.86img/s]\n",
      "Processando edif_comerc_serv\\amenity_dentist: 100%|██████████| 99/99 [00:09<00:00, 10.25img/s]\n",
      "Processando edif_comerc_serv\\amenity_dentist: 100%|██████████| 100/100 [00:12<00:00,  7.74img/s]\n",
      "Processando edif_comerc_serv\\amenity_dentist: 100%|██████████| 98/98 [00:12<00:00,  7.91img/s]\n",
      "Processando edif_comerc_serv\\amenity_dentist: 100%|██████████| 99/99 [00:10<00:00,  9.88img/s]\n",
      "Processando edif_comerc_serv\\amenity_dentist: 100%|██████████| 99/99 [00:13<00:00,  7.38img/s]\n",
      "Processando edif_comerc_serv\\amenity_dentist: 100%|██████████| 100/100 [00:13<00:00,  7.67img/s]\n",
      "Processando edif_comerc_serv\\amenity_dentist: 100%|██████████| 100/100 [00:11<00:00,  8.65img/s]\n",
      "Processando edif_comerc_serv\\amenity_dentist: 100%|██████████| 100/100 [00:12<00:00,  8.07img/s]\n",
      "Processando edif_comerc_serv\\amenity_dentist: 100%|██████████| 100/100 [00:11<00:00,  8.86img/s]\n",
      "Processando edif_comerc_serv\\amenity_dentist: 100%|██████████| 100/100 [00:11<00:00,  8.42img/s]\n",
      "Processando edif_comerc_serv\\amenity_dentist: 100%|██████████| 99/99 [00:09<00:00, 10.81img/s]\n",
      "Processando edif_comerc_serv\\amenity_dentist: 100%|██████████| 100/100 [00:14<00:00,  6.82img/s]\n",
      "Processando edif_comerc_serv\\amenity_dentist: 100%|██████████| 100/100 [00:10<00:00,  9.47img/s]\n",
      "Processando edif_comerc_serv\\amenity_dentist: 100%|██████████| 100/100 [00:10<00:00,  9.53img/s]\n",
      "Processando edif_comerc_serv\\amenity_dentist: 100%|██████████| 100/100 [00:11<00:00,  8.70img/s]\n",
      "Processando edif_comerc_serv\\amenity_doctors: 100%|██████████| 100/100 [00:14<00:00,  6.94img/s]\n",
      "Processando edif_comerc_serv\\amenity_doctors: 100%|██████████| 100/100 [00:11<00:00,  8.86img/s]\n",
      "Processando edif_comerc_serv\\amenity_doctors: 100%|██████████| 98/98 [00:09<00:00, 10.09img/s]\n",
      "Processando edif_comerc_serv\\amenity_doctors: 100%|██████████| 98/98 [00:10<00:00,  9.61img/s]\n",
      "Processando edif_comerc_serv\\amenity_doctors: 100%|██████████| 100/100 [00:10<00:00,  9.79img/s]\n",
      "Processando edif_comerc_serv\\amenity_doctors: 100%|██████████| 6/6 [00:00<00:00,  8.00img/s]\n",
      "Processando edif_comerc_serv\\amenity_doctors: 100%|██████████| 100/100 [00:10<00:00,  9.65img/s]\n",
      "Processando edif_comerc_serv\\amenity_doctors: 100%|██████████| 83/83 [00:07<00:00, 10.57img/s]\n",
      "Processando edif_comerc_serv\\amenity_doctors: 100%|██████████| 99/99 [00:10<00:00,  9.88img/s]\n",
      "Processando edif_comerc_serv\\amenity_doctors: 100%|██████████| 97/97 [00:09<00:00,  9.91img/s]\n",
      "Processando edif_comerc_serv\\healthcare_any: 100%|██████████| 99/99 [00:09<00:00, 10.04img/s]\n",
      "Processando edif_comerc_serv\\healthcare_any: 100%|██████████| 97/97 [00:09<00:00, 10.14img/s]\n",
      "Processando edif_comerc_serv\\healthcare_any: 100%|██████████| 99/99 [00:09<00:00, 10.29img/s]\n",
      "Processando edif_comerc_serv\\healthcare_any: 100%|██████████| 99/99 [00:09<00:00, 10.53img/s]\n",
      "Processando edif_comerc_serv\\healthcare_any: 100%|██████████| 46/46 [00:04<00:00,  9.65img/s]\n",
      "Processando edif_comerc_serv\\healthcare_any: 100%|██████████| 99/99 [00:13<00:00,  7.48img/s]\n",
      "Processando edif_comerc_serv\\healthcare_any: 100%|██████████| 98/98 [00:11<00:00,  8.71img/s]\n",
      "Processando edif_comerc_serv\\healthcare_any: 100%|██████████| 100/100 [00:11<00:00,  8.49img/s]\n",
      "Processando edif_comerc_serv\\healthcare_any: 100%|██████████| 100/100 [00:12<00:00,  8.05img/s]\n",
      "Processando edif_comerc_serv\\healthcare_any: 100%|██████████| 100/100 [00:12<00:00,  8.02img/s]\n",
      "Processando edif_comerc_serv\\healthcare_any: 100%|██████████| 99/99 [00:11<00:00,  8.91img/s]\n",
      "Processando edif_comerc_serv\\healthcare_any: 100%|██████████| 99/99 [00:10<00:00,  9.68img/s]\n",
      "Processando edif_comerc_serv\\healthcare_any: 100%|██████████| 100/100 [00:10<00:00,  9.28img/s]\n",
      "Processando edif_comerc_serv\\healthcare_any: 100%|██████████| 99/99 [00:12<00:00,  7.62img/s]\n",
      "Processando edif_comerc_serv\\healthcare_any: 100%|██████████| 100/100 [00:12<00:00,  7.91img/s]\n",
      "Processando edif_comerc_serv\\healthcare_any: 100%|██████████| 99/99 [00:09<00:00, 10.32img/s]\n",
      "Processando edif_comerc_serv\\healthcare_any: 100%|██████████| 100/100 [00:10<00:00,  9.93img/s]\n",
      "Processando edif_comerc_serv\\healthcare_any: 100%|██████████| 99/99 [00:09<00:00, 10.04img/s]\n",
      "Processando edif_comerc_serv\\healthcare_any: 100%|██████████| 100/100 [00:10<00:00,  9.31img/s]\n",
      "Processando edif_comerc_serv\\healthcare_any: 100%|██████████| 100/100 [00:10<00:00,  9.53img/s]\n",
      "Processando edif_comerc_serv\\healthcare_any: 100%|██████████| 99/99 [00:11<00:00,  8.98img/s]\n",
      "Processando edif_comerc_serv\\healthcare_any: 100%|██████████| 100/100 [00:11<00:00,  8.42img/s]\n",
      "Processando edif_comerc_serv\\healthcare_any: 100%|██████████| 99/99 [00:11<00:00,  8.81img/s]\n",
      "Processando edif_comerc_serv\\healthcare_any: 100%|██████████| 100/100 [00:13<00:00,  7.18img/s]\n",
      "Processando edif_comerc_serv\\healthcare_any: 100%|██████████| 100/100 [00:12<00:00,  7.90img/s]\n",
      "Processando edif_comerc_serv\\healthcare_any: 100%|██████████| 94/94 [00:12<00:00,  7.37img/s]\n",
      "Processando edif_comerc_serv\\healthcare_any: 100%|██████████| 98/98 [00:10<00:00,  8.97img/s]\n",
      "Processando edif_comerc_serv\\healthcare_any: 100%|██████████| 97/97 [00:11<00:00,  8.61img/s]\n",
      "Processando edif_comerc_serv\\healthcare_any: 100%|██████████| 100/100 [00:10<00:00,  9.11img/s]\n",
      "Processando edif_comerc_serv\\healthcare_any: 100%|██████████| 100/100 [00:13<00:00,  7.60img/s]\n",
      "Processando edif_comerc_serv\\healthcare_any: 100%|██████████| 100/100 [00:13<00:00,  7.47img/s]\n",
      "Processando edif_comerc_serv\\healthcare_any: 100%|██████████| 97/97 [00:09<00:00,  9.82img/s]\n",
      "Processando edif_comerc_serv\\healthcare_any: 100%|██████████| 97/97 [00:10<00:00,  9.07img/s]\n",
      "Processando edif_comerc_serv\\healthcare_any: 100%|██████████| 99/99 [00:10<00:00,  9.76img/s]\n",
      "Processando edif_comerc_serv\\healthcare_any: 100%|██████████| 100/100 [00:10<00:00,  9.30img/s]\n",
      "Processando edif_comerc_serv\\healthcare_any: 100%|██████████| 100/100 [00:11<00:00,  9.00img/s]\n",
      "Processando edif_comerc_serv\\healthcare_any: 100%|██████████| 100/100 [00:10<00:00,  9.22img/s]\n",
      "Processando edif_comerc_serv\\healthcare_any: 100%|██████████| 100/100 [00:11<00:00,  8.59img/s]\n",
      "Processando edif_comerc_serv\\healthcare_any: 100%|██████████| 97/97 [00:09<00:00, 10.27img/s]\n",
      "Processando edif_comerc_serv\\healthcare_any: 100%|██████████| 99/99 [00:10<00:00,  9.49img/s]\n",
      "Processando edif_comerc_serv\\healthcare_any: 100%|██████████| 96/96 [00:10<00:00,  9.24img/s]\n",
      "Processando edif_comerc_serv\\healthcare_any: 100%|██████████| 99/99 [00:10<00:00,  9.70img/s]\n",
      "Processando edif_comerc_serv\\healthcare_any: 100%|██████████| 100/100 [00:13<00:00,  7.50img/s]\n",
      "Processando edif_comerc_serv\\healthcare_any: 100%|██████████| 100/100 [00:13<00:00,  7.45img/s]\n",
      "Processando edif_comerc_serv\\healthcare_any: 100%|██████████| 100/100 [00:12<00:00,  8.14img/s]\n",
      "Processando edif_comerc_serv\\healthcare_any: 100%|██████████| 100/100 [00:14<00:00,  6.76img/s]\n",
      "Processando edif_comerc_serv\\healthcare_any: 100%|██████████| 99/99 [00:12<00:00,  8.21img/s]\n",
      "Processando edif_comerc_serv\\healthcare_any: 100%|██████████| 100/100 [00:11<00:00,  8.60img/s]\n",
      "Processando edif_comerc_serv\\healthcare_any: 100%|██████████| 99/99 [00:10<00:00,  9.56img/s]\n",
      "Processando edif_comerc_serv\\healthcare_any: 100%|██████████| 98/98 [00:10<00:00,  9.25img/s]\n",
      "Processando edif_comerc_serv\\healthcare_any: 100%|██████████| 97/97 [00:09<00:00, 10.23img/s]\n",
      "Processando edif_comerc_serv\\healthcare_any: 100%|██████████| 100/100 [00:11<00:00,  8.44img/s]\n",
      "Processando edif_comerc_serv\\healthcare_any: 100%|██████████| 99/99 [00:12<00:00,  8.20img/s]\n",
      "Processando edif_comerc_serv\\healthcare_any: 100%|██████████| 65/65 [00:07<00:00,  9.21img/s]\n",
      "Processando edif_comerc_serv\\healthcare_any: 100%|██████████| 100/100 [00:10<00:00,  9.32img/s]\n",
      "Processando edif_comerc_serv\\healthcare_any: 100%|██████████| 98/98 [00:10<00:00,  9.61img/s]\n",
      "Processando edif_comerc_serv\\healthcare_any: 100%|██████████| 100/100 [00:10<00:00,  9.10img/s]\n",
      "Processando edif_comerc_serv\\healthcare_any: 100%|██████████| 98/98 [00:10<00:00,  9.41img/s]\n",
      "Processando edif_comerc_serv\\healthcare_any: 100%|██████████| 100/100 [00:10<00:00,  9.21img/s]\n",
      "Processando edif_comerc_serv\\healthcare_any: 100%|██████████| 100/100 [00:10<00:00,  9.50img/s]\n",
      "Processando edif_comerc_serv\\healthcare_any: 100%|██████████| 100/100 [00:11<00:00,  8.34img/s]\n",
      "Processando edif_comerc_serv\\healthcare_any: 100%|██████████| 100/100 [00:10<00:00,  9.80img/s]\n",
      "Processando edif_comerc_serv\\healthcare_any: 100%|██████████| 100/100 [00:11<00:00,  8.99img/s]\n",
      "Processando edif_comerc_serv\\healthcare_any: 100%|██████████| 100/100 [00:12<00:00,  7.88img/s]\n",
      "Processando edif_comerc_serv\\healthcare_any: 100%|██████████| 100/100 [00:11<00:00,  8.96img/s]\n",
      "Processando edif_comerc_serv\\healthcare_any: 100%|██████████| 40/40 [00:04<00:00,  8.89img/s]\n",
      "Processando edif_comerc_serv\\healthcare_any: 100%|██████████| 100/100 [00:09<00:00, 10.04img/s]\n",
      "Processando edif_comerc_serv\\healthcare_any: 100%|██████████| 99/99 [00:11<00:00,  8.91img/s]\n",
      "Processando edif_comerc_serv\\healthcare_any: 100%|██████████| 93/93 [00:10<00:00,  9.01img/s]\n",
      "Processando edif_comerc_serv\\healthcare_any: 100%|██████████| 95/95 [00:09<00:00, 10.04img/s]\n",
      "Processando edif_comerc_serv\\healthcare_any: 100%|██████████| 100/100 [00:11<00:00,  8.63img/s]\n",
      "Processando edif_comerc_serv\\healthcare_any: 100%|██████████| 98/98 [00:09<00:00, 10.17img/s]\n",
      "Processando edif_comerc_serv\\healthcare_any: 100%|██████████| 100/100 [00:10<00:00,  9.41img/s]\n",
      "Processando edif_comerc_serv\\healthcare_any: 100%|██████████| 96/96 [00:10<00:00,  9.48img/s]\n",
      "Processando edif_comerc_serv\\healthcare_any: 100%|██████████| 100/100 [00:10<00:00,  9.36img/s]\n",
      "Processando edif_comerc_serv\\healthcare_any: 100%|██████████| 100/100 [00:10<00:00,  9.68img/s]\n",
      "Processando edif_comerc_serv\\healthcare_any: 100%|██████████| 99/99 [00:11<00:00,  8.37img/s]\n",
      "Processando edif_comerc_serv\\healthcare_any: 100%|██████████| 100/100 [00:11<00:00,  8.44img/s]\n",
      "Processando edif_comerc_serv\\healthcare_any: 100%|██████████| 100/100 [00:11<00:00,  8.51img/s]\n",
      "Processando edif_comerc_serv\\healthcare_any: 100%|██████████| 69/69 [00:06<00:00, 10.00img/s]\n",
      "Processando edif_comerc_serv\\healthcare_any: 100%|██████████| 99/99 [00:10<00:00,  9.79img/s]\n",
      "Processando edif_comerc_serv\\healthcare_any: 100%|██████████| 100/100 [00:10<00:00,  9.64img/s]\n",
      "Processando edif_comerc_serv\\healthcare_any: 100%|██████████| 100/100 [00:11<00:00,  8.51img/s]\n",
      "Processando edif_comerc_serv\\healthcare_any: 100%|██████████| 100/100 [00:10<00:00,  9.16img/s]\n",
      "Processando edif_comerc_serv\\healthcare_any: 100%|██████████| 96/96 [00:10<00:00,  9.34img/s]\n",
      "Processando edif_comerc_serv\\healthcare_any: 100%|██████████| 100/100 [00:11<00:00,  8.81img/s]\n",
      "Processando edif_comerc_serv\\healthcare_any: 100%|██████████| 100/100 [00:11<00:00,  8.80img/s]\n",
      "Processando edif_comerc_serv\\healthcare_any: 100%|██████████| 100/100 [00:10<00:00,  9.22img/s]\n",
      "Processando edif_comerc_serv\\healthcare_any: 100%|██████████| 98/98 [00:11<00:00,  8.42img/s]\n",
      "Processando edif_comerc_serv\\healthcare_any: 100%|██████████| 96/96 [00:09<00:00, 10.08img/s]\n",
      "Processando edif_comerc_serv\\healthcare_any: 100%|██████████| 100/100 [00:11<00:00,  8.88img/s]\n",
      "Processando edif_comerc_serv\\healthcare_any: 100%|██████████| 98/98 [00:11<00:00,  8.58img/s]\n",
      "Processando edif_comerc_serv\\healthcare_any: 100%|██████████| 100/100 [00:11<00:00,  8.90img/s]\n",
      "Processando edif_comerc_serv\\healthcare_any: 100%|██████████| 100/100 [00:11<00:00,  8.91img/s]\n",
      "Processando edif_comerc_serv\\healthcare_any: 100%|██████████| 99/99 [00:10<00:00,  9.27img/s]\n",
      "Processando edif_comerc_serv\\healthcare_any: 100%|██████████| 98/98 [00:11<00:00,  8.86img/s]\n",
      "Processando edif_comerc_serv\\healthcare_any: 100%|██████████| 100/100 [00:10<00:00,  9.35img/s]\n",
      "Processando edif_comerc_serv\\healthcare_any: 100%|██████████| 100/100 [00:11<00:00,  8.47img/s]\n",
      "Processando edif_comerc_serv\\healthcare_any: 100%|██████████| 99/99 [00:11<00:00,  8.85img/s]\n",
      "Processando edif_comerc_serv\\healthcare_any: 100%|██████████| 100/100 [00:13<00:00,  7.36img/s]\n",
      "Processando edif_comerc_serv\\healthcare_any: 100%|██████████| 100/100 [00:10<00:00,  9.66img/s]\n",
      "Processando edif_comerc_serv\\healthcare_any: 100%|██████████| 36/36 [00:03<00:00, 10.12img/s]\n",
      "Processando edif_comerc_serv\\healthcare_any: 100%|██████████| 99/99 [00:09<00:00, 10.67img/s]\n",
      "Processando edif_comerc_serv\\healthcare_any: 100%|██████████| 16/16 [00:01<00:00, 11.62img/s]\n",
      "Processando edif_comerc_serv\\healthcare_any: 100%|██████████| 99/99 [00:10<00:00,  9.89img/s]\n",
      "Processando edif_comerc_serv\\healthcare_any: 100%|██████████| 100/100 [00:11<00:00,  8.81img/s]\n",
      "Processando edif_comerc_serv\\healthcare_any: 100%|██████████| 99/99 [00:11<00:00,  8.77img/s]\n",
      "Processando edif_comerc_serv\\healthcare_any: 100%|██████████| 100/100 [00:14<00:00,  6.81img/s]\n",
      "Processando edif_comerc_serv\\healthcare_any: 100%|██████████| 100/100 [00:15<00:00,  6.64img/s]\n",
      "Processando edif_comerc_serv\\healthcare_any: 100%|██████████| 100/100 [00:14<00:00,  6.69img/s]\n",
      "Processando edif_comerc_serv\\healthcare_any: 100%|██████████| 100/100 [00:14<00:00,  6.67img/s]\n",
      "Processando edif_comerc_serv\\healthcare_any: 100%|██████████| 99/99 [00:10<00:00,  9.03img/s]\n",
      "Processando edif_comerc_serv\\healthcare_any: 100%|██████████| 100/100 [00:16<00:00,  6.05img/s]\n",
      "Processando edif_comerc_serv\\healthcare_any: 100%|██████████| 100/100 [00:11<00:00,  8.36img/s]\n",
      "Processando edif_comerc_serv\\healthcare_any: 100%|██████████| 100/100 [00:12<00:00,  7.93img/s]\n",
      "Processando edif_comerc_serv\\healthcare_any: 100%|██████████| 100/100 [00:09<00:00, 10.27img/s]\n",
      "Processando edif_comerc_serv\\healthcare_any: 100%|██████████| 99/99 [00:11<00:00,  8.74img/s]\n",
      "Processando edif_comerc_serv\\healthcare_any: 100%|██████████| 100/100 [00:15<00:00,  6.65img/s]\n",
      "Processando edif_comerc_serv\\healthcare_any: 100%|██████████| 100/100 [00:10<00:00,  9.92img/s]\n",
      "Processando edif_comerc_serv\\healthcare_any: 100%|██████████| 100/100 [00:11<00:00,  8.96img/s]\n",
      "Processando edif_comerc_serv\\healthcare_any: 100%|██████████| 99/99 [00:09<00:00, 10.43img/s]\n",
      "Processando edif_comerc_serv\\healthcare_any: 100%|██████████| 100/100 [00:11<00:00,  8.60img/s]\n",
      "Processando edif_comerc_serv\\healthcare_any: 100%|██████████| 100/100 [00:13<00:00,  7.19img/s]\n",
      "Processando edif_comerc_serv\\healthcare_any: 100%|██████████| 100/100 [00:10<00:00,  9.21img/s]\n",
      "Processando edif_comerc_serv\\healthcare_any: 100%|██████████| 100/100 [00:10<00:00,  9.71img/s]\n",
      "Processando edif_comerc_serv\\healthcare_any: 100%|██████████| 100/100 [00:13<00:00,  7.52img/s]\n",
      "Processando edif_comerc_serv\\healthcare_any: 100%|██████████| 99/99 [00:13<00:00,  7.21img/s]\n",
      "Processando edif_comerc_serv\\healthcare_any: 100%|██████████| 23/23 [00:02<00:00,  8.34img/s]\n",
      "Processando edif_comerc_serv\\healthcare_any: 100%|██████████| 99/99 [00:09<00:00,  9.96img/s]\n",
      "Processando edif_comerc_serv\\healthcare_any: 100%|██████████| 100/100 [00:11<00:00,  8.64img/s]\n",
      "Processando edif_comerc_serv\\healthcare_any: 100%|██████████| 100/100 [00:12<00:00,  7.87img/s]\n",
      "Processando edif_comerc_serv\\healthcare_any: 100%|██████████| 100/100 [00:10<00:00,  9.95img/s]\n",
      "Processando edif_comerc_serv\\healthcare_any: 100%|██████████| 100/100 [00:11<00:00,  8.48img/s]\n",
      "Processando edif_comerc_serv\\healthcare_any: 100%|██████████| 100/100 [00:10<00:00,  9.25img/s]\n",
      "Processando edif_comerc_serv\\healthcare_any: 100%|██████████| 100/100 [00:09<00:00, 10.56img/s]\n",
      "Processando edif_comerc_serv\\healthcare_any: 100%|██████████| 100/100 [00:10<00:00,  9.49img/s]\n",
      "Processando edif_comerc_serv\\healthcare_any: 100%|██████████| 100/100 [00:11<00:00,  8.41img/s]\n",
      "Processando edif_comerc_serv\\healthcare_any: 100%|██████████| 100/100 [00:11<00:00,  9.07img/s]\n",
      "Processando edif_comerc_serv\\healthcare_any: 100%|██████████| 98/98 [00:09<00:00,  9.81img/s]\n",
      "Processando edif_constr_lazer\\amenity_arts_centre: 100%|██████████| 100/100 [00:09<00:00, 10.69img/s]\n",
      "Processando edif_constr_lazer\\amenity_arts_centre: 100%|██████████| 100/100 [00:12<00:00,  8.08img/s]\n",
      "Processando edif_constr_lazer\\amenity_arts_centre: 100%|██████████| 100/100 [00:11<00:00,  8.90img/s]\n",
      "Processando edif_constr_lazer\\amenity_arts_centre: 100%|██████████| 100/100 [00:10<00:00,  9.13img/s]\n",
      "Processando edif_constr_lazer\\amenity_arts_centre: 100%|██████████| 100/100 [00:09<00:00, 10.10img/s]\n",
      "Processando edif_constr_lazer\\amenity_arts_centre: 100%|██████████| 100/100 [00:12<00:00,  7.79img/s]\n",
      "Processando edif_constr_lazer\\amenity_arts_centre: 100%|██████████| 100/100 [00:08<00:00, 12.12img/s]\n",
      "Processando edif_constr_lazer\\amenity_arts_centre: 100%|██████████| 100/100 [00:10<00:00,  9.82img/s]\n",
      "Processando edif_constr_lazer\\amenity_arts_centre: 100%|██████████| 100/100 [00:09<00:00, 10.12img/s]\n",
      "Processando edif_constr_lazer\\amenity_arts_centre: 100%|██████████| 100/100 [00:09<00:00, 10.29img/s]\n",
      "Processando edif_constr_lazer\\amenity_arts_centre: 100%|██████████| 100/100 [00:11<00:00,  8.72img/s]\n",
      "Processando edif_constr_lazer\\amenity_community_centre: 100%|██████████| 100/100 [00:10<00:00,  9.20img/s]\n",
      "Processando edif_constr_lazer\\amenity_community_centre: 100%|██████████| 100/100 [00:10<00:00,  9.95img/s]\n",
      "Processando edif_constr_lazer\\amenity_community_centre: 100%|██████████| 99/99 [00:10<00:00,  9.44img/s]\n",
      "Processando edif_constr_lazer\\amenity_community_centre: 100%|██████████| 100/100 [00:10<00:00,  9.58img/s]\n",
      "Processando edif_constr_lazer\\amenity_library: 100%|██████████| 100/100 [00:12<00:00,  8.20img/s]\n",
      "Processando edif_constr_lazer\\amenity_library: 100%|██████████| 99/99 [00:08<00:00, 11.77img/s]\n",
      "Processando edif_constr_lazer\\amenity_library: 100%|██████████| 7/7 [00:00<00:00,  9.34img/s]\n",
      "Processando edif_constr_lazer\\amenity_library: 100%|██████████| 97/97 [00:18<00:00,  5.25img/s]\n",
      "Processando edif_constr_lazer\\amenity_library: 100%|██████████| 100/100 [00:09<00:00, 10.23img/s]\n",
      "Processando edif_constr_lazer\\amenity_library: 100%|██████████| 100/100 [00:11<00:00,  8.43img/s]\n",
      "Processando edif_constr_lazer\\amenity_library: 100%|██████████| 100/100 [00:13<00:00,  7.58img/s]\n",
      "Processando edif_constr_lazer\\amenity_library: 100%|██████████| 99/99 [00:11<00:00,  8.48img/s]\n",
      "Processando edif_constr_lazer\\amenity_planetarium: 100%|██████████| 99/99 [00:10<00:00,  9.45img/s]\n",
      "Processando edif_constr_lazer\\amenity_theatre: 100%|██████████| 100/100 [00:11<00:00,  8.46img/s]\n",
      "Processando edif_constr_lazer\\amenity_theatre: 100%|██████████| 100/100 [00:11<00:00,  8.59img/s]\n",
      "Processando edif_constr_lazer\\amenity_theatre: 100%|██████████| 99/99 [00:09<00:00, 10.11img/s]\n",
      "Processando edif_constr_lazer\\amenity_theatre: 100%|██████████| 100/100 [00:09<00:00, 10.02img/s]\n",
      "Processando edif_constr_lazer\\amenity_theatre: 100%|██████████| 44/44 [00:04<00:00,  9.85img/s]\n",
      "Processando edif_constr_lazer\\amenity_theatre: 100%|██████████| 100/100 [00:09<00:00, 10.07img/s]\n",
      "Processando edif_constr_lazer\\amenity_theatre: 100%|██████████| 100/100 [00:09<00:00, 10.51img/s]\n",
      "Processando edif_constr_lazer\\amenity_theatre: 100%|██████████| 100/100 [00:10<00:00,  9.89img/s]\n",
      "Processando edif_constr_lazer\\amenity_theatre: 100%|██████████| 100/100 [00:13<00:00,  7.21img/s]\n",
      "Processando edif_constr_lazer\\amenity_theatre: 100%|██████████| 100/100 [00:10<00:00,  9.33img/s]\n",
      "Processando edif_constr_lazer\\amenity_theatre: 100%|██████████| 100/100 [00:10<00:00,  9.56img/s]\n",
      "Processando edif_constr_lazer\\amenity_theatre: 100%|██████████| 24/24 [00:02<00:00, 10.57img/s]\n",
      "Processando edif_constr_lazer\\amenity_theatre: 100%|██████████| 100/100 [00:09<00:00, 10.52img/s]\n",
      "Processando edif_constr_lazer\\amenity_theatre: 100%|██████████| 100/100 [00:10<00:00,  9.52img/s]\n",
      "Processando edif_constr_lazer\\amenity_theatre: 100%|██████████| 100/100 [00:10<00:00,  9.43img/s]\n",
      "Processando edif_constr_lazer\\amenity_theatre: 100%|██████████| 100/100 [00:10<00:00,  9.99img/s]\n",
      "Processando edif_constr_lazer\\amenity_theatre: 100%|██████████| 100/100 [00:09<00:00, 10.01img/s]\n",
      "Processando edif_constr_lazer\\amenity_theatre: 100%|██████████| 100/100 [00:10<00:00,  9.57img/s]\n",
      "Processando edif_constr_lazer\\amenity_theatre: 100%|██████████| 94/94 [00:11<00:00,  7.85img/s]\n",
      "Processando edif_constr_lazer\\amenity_theatre: 100%|██████████| 100/100 [00:09<00:00, 10.28img/s]\n",
      "Processando edif_constr_lazer\\amenity_theatre: 100%|██████████| 100/100 [00:12<00:00,  7.86img/s]\n",
      "Processando edif_constr_lazer\\amenity_theatre: 100%|██████████| 100/100 [00:10<00:00,  9.19img/s]\n",
      "Processando edif_constr_lazer\\amenity_theatre: 100%|██████████| 100/100 [00:10<00:00,  9.36img/s]\n",
      "Processando edif_constr_lazer\\amenity_theatre: 100%|██████████| 100/100 [00:10<00:00,  9.45img/s]\n",
      "Processando edif_constr_lazer\\amenity_theatre: 100%|██████████| 100/100 [00:10<00:00,  9.50img/s]\n",
      "Processando edif_constr_lazer\\amenity_theatre: 100%|██████████| 100/100 [00:10<00:00,  9.51img/s]\n",
      "Processando edif_constr_lazer\\amenity_theatre: 100%|██████████| 100/100 [00:10<00:00,  9.80img/s]\n",
      "Processando edif_constr_lazer\\leisure_park: 100%|██████████| 100/100 [00:09<00:00, 10.15img/s]\n",
      "Processando edif_constr_lazer\\leisure_park: 100%|██████████| 100/100 [00:11<00:00,  8.93img/s]\n",
      "Processando edif_constr_lazer\\leisure_park: 100%|██████████| 99/99 [00:09<00:00, 10.45img/s]\n",
      "Processando edif_constr_lazer\\leisure_park: 100%|██████████| 98/98 [00:10<00:00,  9.67img/s]\n",
      "Processando edif_constr_lazer\\leisure_park: 100%|██████████| 34/34 [00:02<00:00, 11.51img/s]\n",
      "Processando edif_constr_lazer\\leisure_park: 100%|██████████| 85/85 [00:10<00:00,  8.34img/s]\n",
      "Processando edif_constr_lazer\\leisure_park: 100%|██████████| 72/72 [00:08<00:00,  8.46img/s]\n",
      "Processando edif_constr_lazer\\leisure_park: 100%|██████████| 100/100 [00:08<00:00, 11.29img/s]\n",
      "Processando edif_constr_lazer\\leisure_park: 100%|██████████| 23/23 [00:01<00:00, 11.57img/s]\n",
      "Processando edif_constr_lazer\\leisure_park: 100%|██████████| 99/99 [00:09<00:00, 10.63img/s]\n",
      "Processando edif_constr_lazer\\leisure_park: 100%|██████████| 100/100 [00:10<00:00,  9.25img/s]\n",
      "Processando edif_constr_lazer\\leisure_park: 100%|██████████| 77/77 [00:10<00:00,  7.59img/s]\n",
      "Processando edif_constr_lazer\\leisure_park: 100%|██████████| 17/17 [00:01<00:00, 10.30img/s]\n",
      "Processando edif_constr_lazer\\leisure_park: 100%|██████████| 100/100 [00:10<00:00,  9.58img/s]\n",
      "Processando edif_constr_lazer\\leisure_park: 100%|██████████| 100/100 [00:09<00:00, 10.26img/s]\n",
      "Processando edif_constr_lazer\\leisure_park: 100%|██████████| 98/98 [00:10<00:00,  9.76img/s]\n",
      "Processando edif_constr_lazer\\leisure_park: 100%|██████████| 99/99 [00:09<00:00, 10.25img/s]\n",
      "Processando edif_constr_lazer\\leisure_park: 100%|██████████| 99/99 [00:10<00:00,  9.77img/s]\n",
      "Processando edif_constr_lazer\\leisure_park: 100%|██████████| 26/26 [00:04<00:00,  5.97img/s]\n",
      "Processando edif_constr_lazer\\leisure_park: 100%|██████████| 77/77 [00:07<00:00, 10.25img/s]\n",
      "Processando edif_constr_lazer\\leisure_park: 100%|██████████| 100/100 [00:11<00:00,  9.08img/s]\n",
      "Processando edif_constr_lazer\\leisure_park: 100%|██████████| 43/43 [00:04<00:00, 10.30img/s]\n",
      "Processando edif_constr_lazer\\leisure_park: 100%|██████████| 100/100 [00:10<00:00,  9.80img/s]\n",
      "Processando edif_constr_lazer\\leisure_park: 100%|██████████| 29/29 [00:04<00:00,  7.14img/s]\n",
      "Processando edif_constr_lazer\\leisure_park: 100%|██████████| 5/5 [00:01<00:00,  4.07img/s]\n",
      "Processando edif_constr_lazer\\leisure_park: 100%|██████████| 99/99 [00:09<00:00, 10.65img/s]\n",
      "Processando edif_constr_lazer\\leisure_park: 100%|██████████| 42/42 [00:04<00:00,  9.81img/s]\n",
      "Processando edif_constr_lazer\\leisure_park: 100%|██████████| 100/100 [00:10<00:00,  9.89img/s]\n",
      "Processando edif_constr_lazer\\leisure_park: 100%|██████████| 40/40 [00:05<00:00,  7.02img/s]\n",
      "Processando edif_constr_lazer\\leisure_park: 100%|██████████| 59/59 [00:07<00:00,  8.01img/s]\n",
      "Processando edif_constr_lazer\\leisure_park: 100%|██████████| 14/14 [00:01<00:00,  8.31img/s]\n",
      "Processando edif_constr_lazer\\leisure_park: 100%|██████████| 48/48 [00:06<00:00,  7.86img/s]\n",
      "Processando edif_constr_lazer\\leisure_park: 100%|██████████| 100/100 [00:09<00:00, 10.35img/s]\n",
      "Processando edif_constr_lazer\\leisure_park: 100%|██████████| 100/100 [00:09<00:00, 10.29img/s]\n",
      "Processando edif_constr_lazer\\leisure_park: 100%|██████████| 99/99 [00:10<00:00,  9.73img/s]\n",
      "Processando edif_constr_lazer\\leisure_park: 100%|██████████| 100/100 [00:10<00:00,  9.75img/s]\n",
      "Processando edif_constr_lazer\\leisure_park: 100%|██████████| 74/74 [00:07<00:00,  9.67img/s]\n",
      "Processando edif_constr_lazer\\leisure_park: 100%|██████████| 51/51 [00:08<00:00,  5.81img/s]\n",
      "Processando edif_constr_lazer\\leisure_park: 100%|██████████| 100/100 [00:09<00:00, 10.61img/s]\n",
      "Processando edif_constr_lazer\\leisure_park: 100%|██████████| 98/98 [00:09<00:00, 10.54img/s]\n",
      "Processando edif_constr_lazer\\leisure_park: 100%|██████████| 98/98 [00:10<00:00,  9.39img/s]\n",
      "Processando edif_constr_lazer\\leisure_park: 100%|██████████| 100/100 [00:10<00:00,  9.93img/s]\n",
      "Processando edif_constr_lazer\\leisure_park: 100%|██████████| 100/100 [00:10<00:00,  9.75img/s]\n",
      "Processando edif_constr_lazer\\leisure_park: 100%|██████████| 30/30 [00:02<00:00, 10.37img/s]\n",
      "Processando edif_constr_lazer\\leisure_sports_centre: 100%|██████████| 98/98 [00:09<00:00, 10.01img/s]\n",
      "Processando edif_constr_lazer\\leisure_sports_centre: 100%|██████████| 96/96 [00:09<00:00, 10.02img/s]\n",
      "Processando edif_constr_lazer\\leisure_sports_centre: 100%|██████████| 99/99 [00:10<00:00,  9.69img/s]\n",
      "Processando edif_constr_lazer\\leisure_sports_centre: 100%|██████████| 100/100 [00:11<00:00,  9.03img/s]\n",
      "Processando edif_constr_lazer\\leisure_sports_centre: 100%|██████████| 100/100 [00:10<00:00,  9.51img/s]\n",
      "Processando edif_constr_lazer\\leisure_sports_centre: 100%|██████████| 100/100 [00:11<00:00,  9.09img/s]\n",
      "Processando edif_constr_lazer\\leisure_sports_centre: 100%|██████████| 100/100 [00:10<00:00,  9.66img/s]\n",
      "Processando edif_constr_lazer\\leisure_sports_centre: 100%|██████████| 100/100 [00:10<00:00,  9.34img/s]\n",
      "Processando edif_constr_lazer\\leisure_sports_centre: 100%|██████████| 99/99 [00:10<00:00,  9.76img/s]\n",
      "Processando edif_constr_lazer\\leisure_sports_centre: 100%|██████████| 100/100 [00:10<00:00,  9.58img/s]\n",
      "Processando edif_constr_lazer\\leisure_sports_centre: 100%|██████████| 40/40 [00:04<00:00,  9.97img/s]\n",
      "Processando edif_constr_lazer\\leisure_sports_centre: 100%|██████████| 100/100 [00:10<00:00,  9.83img/s]\n",
      "Processando edif_constr_lazer\\leisure_sports_centre: 100%|██████████| 78/78 [00:07<00:00, 10.31img/s]\n",
      "Processando edif_constr_lazer\\leisure_sports_centre: 100%|██████████| 100/100 [00:09<00:00, 10.46img/s]\n",
      "Processando edif_constr_lazer\\leisure_sports_centre: 100%|██████████| 100/100 [00:14<00:00,  7.08img/s]\n",
      "Processando edif_constr_lazer\\leisure_sports_centre: 100%|██████████| 99/99 [00:10<00:00,  9.21img/s]\n",
      "Processando edif_constr_lazer\\leisure_sports_centre: 100%|██████████| 9/9 [00:00<00:00, 10.51img/s]\n",
      "Processando edif_constr_lazer\\leisure_sports_centre: 100%|██████████| 100/100 [00:13<00:00,  7.37img/s]\n",
      "Processando edif_constr_lazer\\leisure_sports_centre: 100%|██████████| 100/100 [00:09<00:00, 10.30img/s]\n",
      "Processando edif_constr_lazer\\leisure_sports_centre: 100%|██████████| 28/28 [00:02<00:00,  9.49img/s]\n",
      "Processando edif_constr_lazer\\leisure_sports_centre: 100%|██████████| 6/6 [00:00<00:00, 10.58img/s]\n",
      "Processando edif_constr_lazer\\leisure_sports_centre: 100%|██████████| 98/98 [00:11<00:00,  8.90img/s]\n",
      "Processando edif_constr_lazer\\leisure_sports_centre: 100%|██████████| 100/100 [00:10<00:00,  9.17img/s]\n",
      "Processando edif_constr_lazer\\leisure_sports_centre: 100%|██████████| 100/100 [00:09<00:00, 10.04img/s]\n",
      "Processando edif_constr_lazer\\leisure_sports_centre: 100%|██████████| 69/69 [00:06<00:00, 10.67img/s]\n",
      "Processando edif_constr_lazer\\leisure_sports_centre: 100%|██████████| 3/3 [00:00<00:00,  7.97img/s]\n",
      "Processando edif_constr_lazer\\leisure_sports_centre: 100%|██████████| 100/100 [00:09<00:00, 10.25img/s]\n",
      "Processando edif_constr_lazer\\leisure_sports_centre: 100%|██████████| 100/100 [00:10<00:00,  9.78img/s]\n",
      "Processando edif_constr_lazer\\leisure_sports_centre: 100%|██████████| 100/100 [00:11<00:00,  8.63img/s]\n",
      "Processando edif_constr_lazer\\leisure_sports_centre: 100%|██████████| 87/87 [00:10<00:00,  8.60img/s]\n",
      "Processando edif_constr_lazer\\leisure_sports_centre: 100%|██████████| 80/80 [00:09<00:00,  8.14img/s]\n",
      "Processando edif_constr_lazer\\leisure_sports_centre: 100%|██████████| 6/6 [00:00<00:00,  9.13img/s]\n",
      "Processando edif_constr_lazer\\leisure_sports_centre: 100%|██████████| 100/100 [00:17<00:00,  5.60img/s]\n",
      "Processando edif_constr_lazer\\leisure_sports_centre: 100%|██████████| 98/98 [00:11<00:00,  8.77img/s]\n",
      "Processando edif_constr_lazer\\leisure_sports_centre: 100%|██████████| 43/43 [00:05<00:00,  7.58img/s]\n",
      "Processando edif_constr_lazer\\leisure_sports_centre: 100%|██████████| 98/98 [00:10<00:00,  9.62img/s]\n",
      "Processando edif_constr_lazer\\leisure_sports_centre: 100%|██████████| 100/100 [00:09<00:00, 10.54img/s]\n",
      "Processando edif_constr_lazer\\leisure_sports_centre: 100%|██████████| 73/73 [00:07<00:00,  9.46img/s]\n",
      "Processando edif_constr_lazer\\leisure_sports_centre: 100%|██████████| 99/99 [00:11<00:00,  8.46img/s]\n",
      "Processando edif_constr_lazer\\leisure_sports_centre: 100%|██████████| 65/65 [00:06<00:00, 10.44img/s]\n",
      "Processando edif_constr_lazer\\leisure_sports_centre: 100%|██████████| 100/100 [00:10<00:00,  9.19img/s]\n",
      "Processando edif_constr_lazer\\leisure_sports_centre: 100%|██████████| 100/100 [00:10<00:00,  9.70img/s]\n",
      "Processando edif_constr_lazer\\leisure_sports_centre: 100%|██████████| 36/36 [00:03<00:00,  9.42img/s]\n",
      "Processando edif_constr_lazer\\leisure_sports_centre: 100%|██████████| 100/100 [00:10<00:00,  9.73img/s]\n",
      "Processando edif_constr_lazer\\leisure_sports_centre: 100%|██████████| 100/100 [00:09<00:00, 10.08img/s]\n",
      "Processando edif_constr_lazer\\leisure_sports_centre: 100%|██████████| 100/100 [00:11<00:00,  9.05img/s]\n",
      "Processando edif_constr_lazer\\leisure_sports_centre: 100%|██████████| 100/100 [00:11<00:00,  9.04img/s]\n",
      "Processando edif_constr_lazer\\leisure_sports_centre: 100%|██████████| 14/14 [00:01<00:00,  7.83img/s]\n",
      "Processando edif_constr_lazer\\leisure_sports_centre: 100%|██████████| 99/99 [00:11<00:00,  8.53img/s]\n",
      "Processando edif_constr_lazer\\leisure_sports_centre: 100%|██████████| 99/99 [00:10<00:00,  9.63img/s]\n",
      "Processando edif_constr_lazer\\leisure_sports_centre: 100%|██████████| 98/98 [00:10<00:00,  9.63img/s]\n",
      "Processando edif_constr_lazer\\leisure_sports_centre: 100%|██████████| 100/100 [00:09<00:00, 10.12img/s]\n",
      "Processando edif_constr_lazer\\leisure_sports_centre: 100%|██████████| 99/99 [00:10<00:00,  9.59img/s]\n",
      "Processando edif_constr_lazer\\leisure_sports_centre: 100%|██████████| 1/1 [00:00<00:00,  9.05img/s]\n",
      "Processando edif_constr_lazer\\leisure_sports_centre: 100%|██████████| 98/98 [00:10<00:00,  9.55img/s]\n",
      "Processando edif_constr_lazer\\leisure_sports_centre: 100%|██████████| 41/41 [00:03<00:00, 10.35img/s]\n",
      "Processando edif_constr_lazer\\leisure_sports_centre: 100%|██████████| 100/100 [00:09<00:00, 10.16img/s]\n",
      "Processando edif_constr_lazer\\leisure_stadium: 100%|██████████| 24/24 [00:02<00:00, 11.74img/s]\n",
      "Processando edif_constr_lazer\\leisure_stadium: 100%|██████████| 1/1 [00:00<00:00, 11.97img/s]\n",
      "Processando edif_constr_lazer\\leisure_stadium: 100%|██████████| 30/30 [00:03<00:00,  8.40img/s]\n",
      "Processando edif_constr_lazer\\leisure_stadium: 100%|██████████| 100/100 [00:10<00:00,  9.85img/s]\n",
      "Processando edif_constr_lazer\\leisure_stadium: 100%|██████████| 18/18 [00:01<00:00,  9.48img/s]\n",
      "Processando edif_constr_lazer\\leisure_stadium: 100%|██████████| 100/100 [00:10<00:00,  9.53img/s]\n",
      "Processando edif_constr_lazer\\leisure_stadium: 100%|██████████| 100/100 [00:10<00:00,  9.79img/s]\n",
      "Processando edif_constr_lazer\\leisure_stadium: 100%|██████████| 100/100 [00:09<00:00, 10.63img/s]\n",
      "Processando edif_constr_lazer\\leisure_stadium: 100%|██████████| 92/92 [00:09<00:00,  9.72img/s]\n",
      "Processando edif_constr_lazer\\leisure_stadium: 100%|██████████| 86/86 [00:08<00:00,  9.64img/s]\n",
      "Processando edif_constr_lazer\\leisure_stadium: 100%|██████████| 97/97 [00:11<00:00,  8.77img/s]\n",
      "Processando edif_constr_lazer\\leisure_stadium: 100%|██████████| 38/38 [00:05<00:00,  7.53img/s]\n",
      "Processando edif_constr_lazer\\tourism_museum: 100%|██████████| 97/97 [00:11<00:00,  8.37img/s]\n",
      "Processando edif_constr_lazer\\tourism_museum: 100%|██████████| 40/40 [00:03<00:00, 11.09img/s]\n",
      "Processando edif_constr_lazer\\tourism_museum: 100%|██████████| 100/100 [00:10<00:00,  9.78img/s]\n",
      "Processando edif_constr_lazer\\tourism_museum: 100%|██████████| 99/99 [00:11<00:00,  8.33img/s]\n",
      "Processando edif_constr_lazer\\tourism_museum: 100%|██████████| 27/27 [00:04<00:00,  5.91img/s]\n",
      "Processando edif_constr_lazer\\tourism_museum: 100%|██████████| 100/100 [00:11<00:00,  8.80img/s]\n",
      "Processando edif_constr_lazer\\tourism_museum: 100%|██████████| 14/14 [00:01<00:00,  7.35img/s]\n",
      "Processando edif_constr_lazer\\tourism_museum: 100%|██████████| 100/100 [00:10<00:00,  9.66img/s]\n",
      "Processando edif_constr_lazer\\tourism_museum: 100%|██████████| 100/100 [00:10<00:00,  9.83img/s]\n",
      "Processando edif_constr_lazer\\tourism_museum: 100%|██████████| 100/100 [00:11<00:00,  8.92img/s]\n",
      "Processando edif_constr_lazer\\tourism_museum: 100%|██████████| 100/100 [00:10<00:00,  9.69img/s]\n",
      "Processando edif_constr_lazer\\tourism_museum: 100%|██████████| 100/100 [00:10<00:00,  9.32img/s]\n",
      "Processando edif_constr_lazer\\tourism_museum: 100%|██████████| 100/100 [00:11<00:00,  8.62img/s]\n",
      "Processando edif_desenv_social\\amenity_social_facility: 100%|██████████| 99/99 [00:11<00:00,  8.71img/s]\n",
      "Processando edif_desenv_social\\amenity_social_facility: 100%|██████████| 98/98 [00:10<00:00,  8.92img/s]\n",
      "Processando edif_desenv_social\\amenity_social_facility: 100%|██████████| 99/99 [00:09<00:00, 10.35img/s]\n",
      "Processando edif_desenv_social\\amenity_social_facility: 100%|██████████| 99/99 [00:10<00:00,  9.10img/s]\n",
      "Processando edif_desenv_social\\amenity_social_facility: 100%|██████████| 96/96 [00:09<00:00,  9.69img/s]\n",
      "Processando edif_desenv_social\\building_public: 100%|██████████| 95/95 [00:10<00:00,  8.91img/s]\n",
      "Processando edif_desenv_social\\building_public: 100%|██████████| 96/96 [00:11<00:00,  8.55img/s]\n",
      "Processando edif_desenv_social\\building_public: 100%|██████████| 100/100 [00:09<00:00, 10.07img/s]\n",
      "Processando edif_desenv_social\\building_public: 100%|██████████| 99/99 [00:10<00:00,  9.63img/s]\n",
      "Processando edif_desenv_social\\building_public: 100%|██████████| 100/100 [00:11<00:00,  8.74img/s]\n",
      "Processando edif_desenv_social\\building_public: 100%|██████████| 100/100 [00:10<00:00,  9.72img/s]\n",
      "Processando edif_desenv_social\\building_public: 100%|██████████| 95/95 [00:11<00:00,  8.37img/s]\n",
      "Processando edif_desenv_social\\building_public: 100%|██████████| 86/86 [00:09<00:00,  8.96img/s]\n",
      "Processando edif_desenv_social\\building_public: 100%|██████████| 96/96 [00:10<00:00,  9.42img/s]\n",
      "Processando edif_desenv_social\\building_public: 100%|██████████| 99/99 [00:10<00:00,  9.24img/s]\n",
      "Processando edif_desenv_social\\building_public: 100%|██████████| 98/98 [00:09<00:00,  9.92img/s]\n",
      "Processando edif_desenv_social\\building_public: 100%|██████████| 94/94 [00:09<00:00, 10.27img/s]\n",
      "Processando edif_desenv_social\\building_public: 100%|██████████| 97/97 [00:10<00:00,  9.08img/s]\n",
      "Processando edif_desenv_social\\building_public: 100%|██████████| 100/100 [00:11<00:00,  8.43img/s]\n",
      "Processando edif_desenv_social\\building_public: 100%|██████████| 95/95 [00:12<00:00,  7.42img/s]\n",
      "Processando edif_desenv_social\\building_public: 100%|██████████| 46/46 [00:06<00:00,  7.28img/s]\n",
      "Processando edif_desenv_social\\building_public: 100%|██████████| 98/98 [00:10<00:00,  9.69img/s]\n",
      "Processando edif_desenv_social\\building_public: 100%|██████████| 100/100 [00:09<00:00, 10.02img/s]\n",
      "Processando edif_desenv_social\\building_public: 100%|██████████| 95/95 [00:09<00:00, 10.28img/s]\n",
      "Processando edif_ensino\\amenity_kindergarten: 100%|██████████| 98/98 [00:14<00:00,  6.67img/s]\n",
      "Processando edif_ensino\\amenity_kindergarten: 100%|██████████| 96/96 [00:08<00:00, 10.88img/s]\n",
      "Processando edif_ensino\\amenity_kindergarten: 100%|██████████| 93/93 [00:09<00:00,  9.64img/s]\n",
      "Processando edif_ensino\\amenity_kindergarten: 100%|██████████| 94/94 [00:10<00:00,  9.23img/s]\n",
      "Processando edif_ensino\\amenity_kindergarten: 100%|██████████| 82/82 [00:08<00:00,  9.83img/s]\n",
      "Processando edif_ensino\\amenity_kindergarten: 100%|██████████| 95/95 [00:09<00:00,  9.66img/s]\n",
      "Processando edif_ensino\\amenity_kindergarten: 100%|██████████| 95/95 [00:11<00:00,  8.05img/s]\n",
      "Processando edif_ensino\\amenity_kindergarten: 100%|██████████| 92/92 [00:11<00:00,  7.83img/s]\n",
      "Processando edif_ensino\\amenity_kindergarten: 100%|██████████| 84/84 [00:08<00:00, 10.28img/s]\n",
      "Processando edif_ensino\\amenity_kindergarten: 100%|██████████| 94/94 [00:10<00:00,  9.14img/s]\n",
      "Processando edif_ensino\\amenity_kindergarten: 100%|██████████| 88/88 [00:08<00:00,  9.85img/s]\n",
      "Processando edif_ensino\\amenity_kindergarten: 100%|██████████| 99/99 [00:09<00:00, 10.15img/s]\n",
      "Processando edif_ensino\\amenity_kindergarten: 100%|██████████| 98/98 [00:10<00:00,  9.40img/s]\n",
      "Processando edif_ensino\\amenity_school: 100%|██████████| 99/99 [00:10<00:00,  9.05img/s]\n",
      "Processando edif_ensino\\amenity_school: 100%|██████████| 81/81 [00:08<00:00,  9.32img/s]\n",
      "Processando edif_ensino\\amenity_school: 100%|██████████| 94/94 [00:10<00:00,  8.99img/s]\n",
      "Processando edif_ensino\\amenity_school: 100%|██████████| 94/94 [00:09<00:00, 10.36img/s]\n",
      "Processando edif_ensino\\amenity_school: 100%|██████████| 95/95 [00:08<00:00, 10.62img/s]\n",
      "Processando edif_ensino\\amenity_school: 100%|██████████| 95/95 [00:09<00:00, 10.38img/s]\n",
      "Processando edif_ensino\\amenity_school: 100%|██████████| 96/96 [00:09<00:00, 10.45img/s]\n",
      "Processando edif_ensino\\amenity_school: 100%|██████████| 97/97 [00:09<00:00, 10.15img/s]\n",
      "Processando edif_ensino\\amenity_school: 100%|██████████| 97/97 [00:09<00:00, 10.39img/s]\n",
      "Processando edif_ensino\\amenity_school: 100%|██████████| 96/96 [00:09<00:00, 10.36img/s]\n",
      "Processando edif_ensino\\amenity_school: 100%|██████████| 90/90 [00:09<00:00,  9.66img/s]\n",
      "Processando edif_ensino\\amenity_school: 100%|██████████| 95/95 [00:09<00:00, 10.20img/s]\n",
      "Processando edif_ensino\\amenity_school: 100%|██████████| 3/3 [00:00<00:00, 10.87img/s]\n",
      "Processando edif_ensino\\amenity_school: 100%|██████████| 25/25 [00:02<00:00,  9.34img/s]\n",
      "Processando edif_ensino\\amenity_school: 100%|██████████| 82/82 [00:09<00:00,  9.02img/s]\n",
      "Processando edif_ensino\\amenity_school: 100%|██████████| 83/83 [00:09<00:00,  8.81img/s]\n",
      "Processando edif_ensino\\amenity_school: 100%|██████████| 86/86 [00:09<00:00,  8.63img/s]\n",
      "Processando edif_ensino\\amenity_school: 100%|██████████| 98/98 [00:09<00:00, 10.29img/s]\n",
      "Processando edif_ensino\\amenity_school: 100%|██████████| 83/83 [00:09<00:00,  8.71img/s]\n",
      "Processando edif_ensino\\amenity_school: 100%|██████████| 6/6 [00:00<00:00,  6.78img/s]\n",
      "Processando edif_ensino\\amenity_school: 100%|██████████| 87/87 [00:11<00:00,  7.61img/s]\n",
      "Processando edif_ensino\\amenity_school: 100%|██████████| 92/92 [00:10<00:00,  8.69img/s]\n",
      "Processando edif_ensino\\amenity_school: 100%|██████████| 94/94 [00:09<00:00,  9.95img/s]\n",
      "Processando edif_ensino\\amenity_school: 100%|██████████| 95/95 [00:09<00:00,  9.95img/s]\n",
      "Processando edif_ensino\\amenity_school: 100%|██████████| 97/97 [00:09<00:00,  9.97img/s]\n",
      "Processando edif_ensino\\amenity_school: 100%|██████████| 39/39 [00:04<00:00,  9.35img/s]\n",
      "Processando edif_ensino\\amenity_school: 100%|██████████| 97/97 [00:09<00:00, 10.10img/s]\n",
      "Processando edif_ensino\\amenity_school: 100%|██████████| 94/94 [00:11<00:00,  8.04img/s]\n",
      "Processando edif_ensino\\amenity_school: 100%|██████████| 92/92 [00:10<00:00,  8.98img/s]\n",
      "Processando edif_ensino\\amenity_school: 100%|██████████| 63/63 [00:06<00:00,  9.17img/s]\n",
      "Processando edif_ensino\\amenity_school: 100%|██████████| 96/96 [00:09<00:00,  9.74img/s]\n",
      "Processando edif_ensino\\amenity_school: 100%|██████████| 93/93 [00:09<00:00,  9.79img/s]\n",
      "Processando edif_ensino\\amenity_school: 100%|██████████| 63/63 [00:06<00:00, 10.34img/s]\n",
      "Processando edif_ensino\\amenity_school: 100%|██████████| 70/70 [00:06<00:00, 10.04img/s]\n",
      "Processando edif_ensino\\amenity_school: 100%|██████████| 45/45 [00:04<00:00,  9.05img/s]\n",
      "Processando edif_ensino\\amenity_school: 100%|██████████| 89/89 [00:09<00:00,  9.45img/s]\n",
      "Processando edif_ensino\\amenity_school: 100%|██████████| 85/85 [00:09<00:00,  9.41img/s]\n",
      "Processando edif_ensino\\amenity_school: 100%|██████████| 93/93 [00:09<00:00,  9.88img/s]\n",
      "Processando edif_ensino\\amenity_school: 100%|██████████| 68/68 [00:07<00:00,  9.10img/s]\n",
      "Processando edif_ensino\\amenity_school: 100%|██████████| 75/75 [00:08<00:00,  9.29img/s]\n",
      "Processando edif_ensino\\amenity_school: 100%|██████████| 97/97 [00:10<00:00,  9.48img/s]\n",
      "Processando edif_ensino\\amenity_school: 100%|██████████| 95/95 [00:09<00:00,  9.68img/s]\n",
      "Processando edif_ensino\\amenity_school: 100%|██████████| 100/100 [00:10<00:00,  9.71img/s]\n",
      "Processando edif_ensino\\amenity_school: 100%|██████████| 1/1 [00:00<00:00,  7.45img/s]\n",
      "Processando edif_ensino\\amenity_school: 100%|██████████| 22/22 [00:02<00:00, 10.20img/s]\n",
      "Processando edif_ensino\\amenity_school: 100%|██████████| 99/99 [00:09<00:00, 10.22img/s]\n",
      "Processando edif_ensino\\amenity_school: 100%|██████████| 20/20 [00:02<00:00,  7.49img/s]\n",
      "Processando edif_ensino\\amenity_school: 100%|██████████| 84/84 [00:11<00:00,  7.51img/s]\n",
      "Processando edif_ensino\\amenity_school: 100%|██████████| 94/94 [00:11<00:00,  8.50img/s]\n",
      "Processando edif_ensino\\amenity_school: 100%|██████████| 72/72 [00:09<00:00,  7.55img/s]\n",
      "Processando edif_ensino\\amenity_school: 100%|██████████| 25/25 [00:03<00:00,  6.69img/s]\n",
      "Processando edif_ensino\\amenity_school: 100%|██████████| 32/32 [00:04<00:00,  7.21img/s]\n",
      "Processando edif_ensino\\amenity_school: 100%|██████████| 15/15 [00:01<00:00,  8.31img/s]\n",
      "Processando edif_ensino\\amenity_school: 100%|██████████| 60/60 [00:06<00:00,  9.43img/s]\n",
      "Processando edif_ensino\\amenity_school: 100%|██████████| 49/49 [00:05<00:00,  9.16img/s]\n",
      "Processando edif_ensino\\amenity_school: 100%|██████████| 78/78 [00:08<00:00,  8.93img/s]\n",
      "Processando edif_ensino\\amenity_school: 100%|██████████| 91/91 [00:09<00:00,  9.23img/s]\n",
      "Processando edif_ensino\\amenity_school: 100%|██████████| 97/97 [00:09<00:00,  9.79img/s]\n",
      "Processando edif_ensino\\amenity_school: 100%|██████████| 89/89 [00:09<00:00,  9.72img/s]\n",
      "Processando edif_ensino\\amenity_school: 100%|██████████| 11/11 [00:01<00:00,  7.86img/s]\n",
      "Processando edif_ensino\\amenity_school: 100%|██████████| 88/88 [00:10<00:00,  8.41img/s]\n",
      "Processando edif_ensino\\amenity_school: 100%|██████████| 89/89 [00:08<00:00, 10.17img/s]\n",
      "Processando edif_ensino\\amenity_school: 100%|██████████| 100/100 [00:09<00:00, 10.53img/s]\n",
      "Processando edif_ensino\\amenity_school: 100%|██████████| 100/100 [00:10<00:00,  9.36img/s]\n",
      "Processando edif_ensino\\amenity_school: 100%|██████████| 92/92 [00:09<00:00,  9.43img/s]\n",
      "Processando edif_ensino\\amenity_school: 100%|██████████| 82/82 [00:08<00:00,  9.59img/s]\n",
      "Processando edif_ensino\\amenity_school: 100%|██████████| 95/95 [00:09<00:00,  9.53img/s]\n",
      "Processando edif_ensino\\amenity_school: 100%|██████████| 83/83 [00:08<00:00,  9.45img/s]\n",
      "Processando edif_ensino\\amenity_school: 100%|██████████| 40/40 [00:05<00:00,  7.96img/s]\n",
      "Processando edif_ensino\\amenity_school: 100%|██████████| 93/93 [00:10<00:00,  8.57img/s]\n",
      "Processando edif_ensino\\amenity_school: 100%|██████████| 94/94 [00:08<00:00, 11.11img/s]\n",
      "Processando edif_ensino\\amenity_school: 100%|██████████| 95/95 [00:09<00:00, 10.44img/s]\n",
      "Processando edif_ensino\\amenity_school: 100%|██████████| 87/87 [00:08<00:00,  9.87img/s]\n",
      "Processando edif_ensino\\amenity_school: 100%|██████████| 20/20 [00:01<00:00, 11.11img/s]\n",
      "Processando edif_ensino\\amenity_school: 100%|██████████| 90/90 [00:10<00:00,  8.92img/s]\n",
      "Processando edif_ensino\\amenity_school: 100%|██████████| 45/45 [00:04<00:00, 10.06img/s]\n",
      "Processando edif_ensino\\amenity_school: 100%|██████████| 86/86 [00:09<00:00,  9.49img/s]\n",
      "Processando edif_ensino\\amenity_school: 100%|██████████| 85/85 [00:11<00:00,  7.14img/s]\n",
      "Processando edif_ensino\\amenity_school: 100%|██████████| 75/75 [00:09<00:00,  8.07img/s]\n",
      "Processando edif_ensino\\amenity_school: 100%|██████████| 98/98 [00:09<00:00,  9.98img/s]\n",
      "Processando edif_ensino\\amenity_school: 100%|██████████| 92/92 [00:08<00:00, 10.51img/s]\n",
      "Processando edif_ensino\\amenity_school: 100%|██████████| 96/96 [00:10<00:00,  8.84img/s]\n",
      "Processando edif_ensino\\amenity_school: 100%|██████████| 98/98 [00:10<00:00,  9.15img/s]\n",
      "Processando edif_ensino\\amenity_school: 100%|██████████| 100/100 [00:09<00:00, 10.78img/s]\n",
      "Processando edif_ensino\\amenity_school: 100%|██████████| 2/2 [00:00<00:00,  4.78img/s]\n",
      "Processando edif_ensino\\amenity_school: 100%|██████████| 100/100 [00:05<00:00, 17.88img/s]\n",
      "Processando edif_ensino\\amenity_school: 100%|██████████| 89/89 [00:08<00:00, 10.21img/s]\n",
      "Processando edif_ensino\\amenity_school: 100%|██████████| 92/92 [00:08<00:00, 10.68img/s]\n",
      "Processando edif_ensino\\amenity_school: 100%|██████████| 89/89 [00:11<00:00,  7.99img/s]\n",
      "Processando edif_ensino\\amenity_school: 100%|██████████| 90/90 [00:10<00:00,  8.19img/s]\n",
      "Processando edif_ensino\\amenity_school: 100%|██████████| 91/91 [00:11<00:00,  7.97img/s]\n",
      "Processando edif_ensino\\amenity_school: 100%|██████████| 93/93 [00:09<00:00,  9.61img/s]\n",
      "Processando edif_ensino\\amenity_school: 100%|██████████| 94/94 [00:09<00:00, 10.42img/s]\n",
      "Processando edif_ensino\\amenity_school: 100%|██████████| 94/94 [00:09<00:00, 10.28img/s]\n",
      "Processando edif_ensino\\amenity_school: 100%|██████████| 88/88 [00:12<00:00,  7.16img/s]\n",
      "Processando edif_ensino\\amenity_school: 100%|██████████| 29/29 [00:04<00:00,  6.67img/s]\n",
      "Processando edif_ensino\\amenity_school: 100%|██████████| 31/31 [00:04<00:00,  7.28img/s]\n",
      "Processando edif_ensino\\amenity_school: 100%|██████████| 90/90 [00:09<00:00,  9.13img/s]\n",
      "Processando edif_ensino\\amenity_school: 100%|██████████| 16/16 [00:01<00:00, 10.14img/s]\n",
      "Processando edif_ensino\\amenity_school: 100%|██████████| 93/93 [00:09<00:00, 10.17img/s]\n",
      "Processando edif_ensino\\amenity_school: 100%|██████████| 74/74 [00:08<00:00,  8.59img/s]\n",
      "Processando edif_ensino\\amenity_school: 100%|██████████| 91/91 [00:09<00:00,  9.47img/s]\n",
      "Processando edif_ensino\\amenity_school: 100%|██████████| 92/92 [00:09<00:00,  9.75img/s]\n",
      "Processando edif_ensino\\amenity_school: 100%|██████████| 95/95 [00:09<00:00,  9.78img/s]\n",
      "Processando edif_ensino\\amenity_school: 100%|██████████| 98/98 [00:09<00:00,  9.83img/s]\n",
      "Processando edif_ensino\\amenity_school: 100%|██████████| 97/97 [00:09<00:00,  9.82img/s]\n",
      "Processando edif_ensino\\amenity_school: 100%|██████████| 92/92 [00:09<00:00, 10.16img/s]\n",
      "Processando edif_ensino\\amenity_school: 100%|██████████| 90/90 [00:09<00:00,  9.94img/s]\n",
      "Processando edif_ensino\\amenity_school: 100%|██████████| 90/90 [00:10<00:00,  8.58img/s]\n",
      "Processando edif_ensino\\amenity_school: 100%|██████████| 47/47 [00:06<00:00,  6.93img/s]\n",
      "Processando edif_ensino\\amenity_school: 100%|██████████| 77/77 [00:10<00:00,  7.64img/s]\n",
      "Processando edif_ensino\\amenity_school: 100%|██████████| 51/51 [00:07<00:00,  6.51img/s]\n",
      "Processando edif_ensino\\amenity_school: 100%|██████████| 94/94 [00:10<00:00,  9.15img/s]\n",
      "Processando edif_ensino\\amenity_school: 100%|██████████| 1/1 [00:00<00:00, 11.97img/s]\n",
      "Processando edif_ensino\\amenity_school: 100%|██████████| 27/27 [00:03<00:00,  8.93img/s]\n",
      "Processando edif_ensino\\amenity_school: 100%|██████████| 34/34 [00:03<00:00, 10.35img/s]\n",
      "Processando edif_ensino\\amenity_school: 100%|██████████| 92/92 [00:09<00:00,  9.96img/s]\n",
      "Processando edif_ensino\\amenity_school: 100%|██████████| 93/93 [00:09<00:00,  9.99img/s]\n",
      "Processando edif_ensino\\amenity_school: 100%|██████████| 93/93 [00:09<00:00, 10.08img/s]\n",
      "Processando edif_ensino\\amenity_school: 100%|██████████| 85/85 [00:08<00:00, 10.49img/s]\n",
      "Processando edif_ensino\\amenity_school: 100%|██████████| 53/53 [00:05<00:00, 10.46img/s]\n",
      "Processando edif_ensino\\amenity_school: 100%|██████████| 91/91 [00:10<00:00,  8.97img/s]\n",
      "Processando edif_ensino\\amenity_school: 100%|██████████| 85/85 [00:10<00:00,  8.36img/s]\n",
      "Processando edif_ensino\\amenity_school: 100%|██████████| 95/95 [00:09<00:00,  9.86img/s]\n",
      "Processando edif_ensino\\amenity_school: 100%|██████████| 96/96 [00:09<00:00,  9.64img/s]\n",
      "Processando edif_ensino\\amenity_school: 100%|██████████| 92/92 [00:08<00:00, 10.51img/s]\n",
      "Processando edif_ensino\\amenity_school: 100%|██████████| 97/97 [00:09<00:00,  9.92img/s]\n",
      "Processando edif_ensino\\amenity_school: 100%|██████████| 65/65 [00:09<00:00,  6.75img/s]\n",
      "Processando edif_ensino\\amenity_school: 100%|██████████| 93/93 [00:10<00:00,  9.20img/s]\n",
      "Processando edif_ensino\\amenity_school: 100%|██████████| 94/94 [00:09<00:00, 10.09img/s]\n",
      "Processando edif_ensino\\amenity_school: 100%|██████████| 92/92 [00:09<00:00,  9.94img/s]\n",
      "Processando edif_ensino\\amenity_school: 100%|██████████| 90/90 [00:09<00:00,  9.92img/s]\n",
      "Processando edif_ensino\\amenity_school: 100%|██████████| 95/95 [00:09<00:00,  9.73img/s]\n",
      "Processando edif_ensino\\amenity_school: 100%|██████████| 15/15 [00:01<00:00, 10.46img/s]\n",
      "Processando edif_ensino\\amenity_school: 100%|██████████| 94/94 [00:09<00:00,  9.73img/s]\n",
      "Processando edif_ensino\\amenity_school: 100%|██████████| 99/99 [00:10<00:00,  9.38img/s]\n",
      "Processando edif_ensino\\amenity_school: 100%|██████████| 61/61 [00:06<00:00,  9.91img/s]\n",
      "Processando edif_ensino\\amenity_school: 100%|██████████| 96/96 [00:09<00:00, 10.16img/s]\n",
      "Processando edif_ensino\\amenity_school: 100%|██████████| 33/33 [00:03<00:00,  8.97img/s]\n",
      "Processando edif_ensino\\amenity_school: 100%|██████████| 94/94 [00:10<00:00,  9.22img/s]\n",
      "Processando edif_ensino\\amenity_school: 100%|██████████| 15/15 [00:01<00:00, 10.76img/s]\n",
      "Processando edif_ensino\\amenity_school: 100%|██████████| 100/100 [00:10<00:00, 10.00img/s]\n",
      "Processando edif_ensino\\amenity_school: 100%|██████████| 84/84 [00:08<00:00,  9.93img/s]\n",
      "Processando edif_ensino\\amenity_school: 100%|██████████| 95/95 [00:09<00:00, 10.06img/s]\n",
      "Processando edif_ensino\\amenity_school: 100%|██████████| 97/97 [00:10<00:00,  8.92img/s]\n",
      "Processando edif_ensino\\amenity_school: 100%|██████████| 81/81 [00:09<00:00,  8.26img/s]\n",
      "Processando edif_ensino\\amenity_school: 100%|██████████| 100/100 [00:10<00:00,  9.81img/s]\n",
      "Processando edif_ensino\\amenity_school: 100%|██████████| 97/97 [00:10<00:00,  9.68img/s]\n",
      "Processando edif_ensino\\amenity_school: 100%|██████████| 49/49 [00:05<00:00,  9.72img/s]\n",
      "Processando edif_ensino\\amenity_school: 100%|██████████| 96/96 [00:09<00:00,  9.65img/s]\n",
      "Processando edif_ensino\\amenity_school: 100%|██████████| 96/96 [00:10<00:00,  8.74img/s]\n",
      "Processando edif_ensino\\amenity_school: 100%|██████████| 97/97 [00:09<00:00, 10.56img/s]\n",
      "Processando edif_ensino\\amenity_school: 100%|██████████| 91/91 [00:13<00:00,  6.68img/s]\n",
      "Processando edif_ensino\\amenity_school: 100%|██████████| 21/21 [00:02<00:00,  9.29img/s]\n",
      "Processando edif_ensino\\amenity_school: 100%|██████████| 89/89 [00:08<00:00, 10.55img/s]\n",
      "Processando edif_ensino\\amenity_school: 100%|██████████| 87/87 [00:08<00:00,  9.89img/s]\n",
      "Processando edif_ensino\\amenity_school: 100%|██████████| 87/87 [00:08<00:00,  9.86img/s]\n",
      "Processando edif_ensino\\amenity_school: 100%|██████████| 100/100 [00:09<00:00, 11.07img/s]\n",
      "Processando edif_ensino\\amenity_school: 100%|██████████| 11/11 [00:00<00:00, 11.39img/s]\n",
      "Processando edif_ensino\\amenity_school: 100%|██████████| 89/89 [00:08<00:00, 10.51img/s]\n",
      "Processando edif_ensino\\amenity_school: 100%|██████████| 84/84 [00:09<00:00,  8.43img/s]\n",
      "Processando edif_ensino\\amenity_school: 100%|██████████| 95/95 [00:09<00:00,  9.92img/s]\n",
      "Processando edif_ensino\\amenity_school: 100%|██████████| 91/91 [00:10<00:00,  8.53img/s]\n",
      "Processando edif_ensino\\amenity_school: 100%|██████████| 98/98 [00:10<00:00,  9.25img/s]\n",
      "Processando edif_ensino\\amenity_school: 100%|██████████| 85/85 [00:08<00:00,  9.80img/s]\n",
      "Processando edif_ensino\\amenity_school: 100%|██████████| 92/92 [00:09<00:00,  9.22img/s]\n",
      "Processando edif_ensino\\amenity_school: 100%|██████████| 63/63 [00:06<00:00, 10.19img/s]\n",
      "Processando edif_ensino\\amenity_school: 100%|██████████| 29/29 [00:03<00:00,  8.87img/s]\n",
      "Processando edif_ensino\\amenity_school: 100%|██████████| 92/92 [00:09<00:00, 10.19img/s]\n",
      "Processando edif_ensino\\amenity_school: 100%|██████████| 95/95 [00:09<00:00,  9.55img/s]\n",
      "Processando edif_ensino\\amenity_school: 100%|██████████| 100/100 [00:10<00:00,  9.91img/s]\n",
      "Processando edif_ensino\\amenity_school: 100%|██████████| 98/98 [00:10<00:00,  9.63img/s]\n",
      "Processando edif_ensino\\amenity_school: 100%|██████████| 93/93 [00:09<00:00, 10.20img/s]\n",
      "Processando edif_ensino\\amenity_school: 100%|██████████| 99/99 [00:09<00:00, 10.31img/s]\n",
      "Processando edif_ensino\\amenity_school: 100%|██████████| 93/93 [00:10<00:00,  9.24img/s]\n",
      "Processando edif_ensino\\amenity_school: 100%|██████████| 95/95 [00:09<00:00, 10.43img/s]\n",
      "Processando edif_ensino\\amenity_school: 100%|██████████| 94/94 [00:09<00:00, 10.00img/s]\n",
      "Processando edif_ensino\\amenity_school: 100%|██████████| 16/16 [00:01<00:00, 10.17img/s]\n",
      "Processando edif_ensino\\amenity_school: 100%|██████████| 99/99 [00:09<00:00, 10.77img/s]\n",
      "Processando edif_ensino\\amenity_school: 100%|██████████| 98/98 [00:10<00:00,  9.36img/s]\n",
      "Processando edif_ensino\\amenity_school: 100%|██████████| 94/94 [00:09<00:00, 10.10img/s]\n",
      "Processando edif_ensino\\amenity_school: 100%|██████████| 99/99 [00:11<00:00,  8.69img/s]\n",
      "Processando edif_ensino\\amenity_school: 100%|██████████| 95/95 [00:10<00:00,  9.19img/s]\n",
      "Processando edif_ensino\\amenity_school: 100%|██████████| 97/97 [00:12<00:00,  8.05img/s]\n",
      "Processando edif_ensino\\amenity_school: 100%|██████████| 100/100 [00:12<00:00,  8.20img/s]\n",
      "Processando edif_ensino\\amenity_school: 100%|██████████| 41/41 [00:04<00:00,  9.46img/s]\n",
      "Processando edif_ensino\\amenity_school: 100%|██████████| 96/96 [00:09<00:00,  9.82img/s]\n",
      "Processando edif_ensino\\amenity_school: 100%|██████████| 26/26 [00:03<00:00,  8.02img/s]\n",
      "Processando edif_ensino\\amenity_school: 100%|██████████| 31/31 [00:03<00:00,  8.36img/s]\n",
      "Processando edif_ensino\\amenity_school: 100%|██████████| 14/14 [00:02<00:00,  6.72img/s]\n",
      "Processando edif_ensino\\amenity_school: 100%|██████████| 96/96 [00:08<00:00, 10.72img/s]\n",
      "Processando edif_ensino\\amenity_school: 100%|██████████| 58/58 [00:07<00:00,  7.81img/s]\n",
      "Processando edif_ensino\\amenity_school: 100%|██████████| 24/24 [00:02<00:00, 10.91img/s]\n",
      "Processando edif_ensino\\amenity_school: 100%|██████████| 94/94 [00:11<00:00,  8.25img/s]\n",
      "Processando edif_ensino\\amenity_school: 100%|██████████| 95/95 [00:09<00:00,  9.91img/s]\n",
      "Processando edif_ensino\\amenity_school: 100%|██████████| 97/97 [00:10<00:00,  9.13img/s]\n",
      "Processando edif_ensino\\amenity_school: 100%|██████████| 90/90 [00:10<00:00,  8.82img/s]\n",
      "Processando edif_ensino\\amenity_school: 100%|██████████| 96/96 [00:10<00:00,  9.51img/s]\n",
      "Processando edif_ensino\\amenity_school: 100%|██████████| 92/92 [00:08<00:00, 10.76img/s]\n",
      "Processando edif_ensino\\amenity_school: 100%|██████████| 96/96 [00:09<00:00,  9.86img/s]\n",
      "Processando edif_ensino\\amenity_school: 100%|██████████| 57/57 [00:05<00:00, 10.30img/s]\n",
      "Processando edif_ensino\\amenity_school: 100%|██████████| 87/87 [00:11<00:00,  7.89img/s]\n",
      "Processando edif_ensino\\amenity_school: 100%|██████████| 92/92 [00:10<00:00,  8.81img/s]\n",
      "Processando edif_ensino\\amenity_school: 100%|██████████| 96/96 [00:10<00:00,  9.35img/s]\n",
      "Processando edif_ensino\\amenity_school: 100%|██████████| 89/89 [00:08<00:00, 10.36img/s]\n",
      "Processando edif_ensino\\amenity_school: 100%|██████████| 88/88 [00:10<00:00,  8.31img/s]\n",
      "Processando edif_ensino\\amenity_school: 100%|██████████| 92/92 [00:09<00:00,  9.82img/s]\n",
      "Processando edif_ensino\\amenity_school: 100%|██████████| 97/97 [00:10<00:00,  9.49img/s]\n",
      "Processando edif_ensino\\amenity_school: 100%|██████████| 97/97 [00:09<00:00, 10.28img/s]\n",
      "Processando edif_ensino\\amenity_school: 100%|██████████| 94/94 [00:09<00:00,  9.58img/s]\n",
      "Processando edif_ensino\\amenity_school: 100%|██████████| 95/95 [00:09<00:00,  9.69img/s]\n",
      "Processando edif_ensino\\amenity_school: 100%|██████████| 98/98 [00:09<00:00,  9.91img/s]\n",
      "Processando edif_ensino\\amenity_school: 100%|██████████| 100/100 [00:10<00:00,  9.77img/s]\n",
      "Processando edif_ensino\\amenity_school: 100%|██████████| 97/97 [00:11<00:00,  8.18img/s]\n",
      "Processando edif_ensino\\amenity_school: 100%|██████████| 94/94 [00:09<00:00,  9.72img/s]\n",
      "Processando edif_ensino\\amenity_school: 100%|██████████| 92/92 [00:09<00:00, 10.09img/s]\n",
      "Processando edif_ensino\\amenity_school: 100%|██████████| 60/60 [00:08<00:00,  7.10img/s]\n",
      "Processando edif_ensino\\amenity_school: 100%|██████████| 94/94 [00:09<00:00,  9.93img/s]\n",
      "Processando edif_ensino\\amenity_school: 100%|██████████| 95/95 [00:09<00:00, 10.02img/s]\n",
      "Processando edif_ensino\\amenity_school: 100%|██████████| 8/8 [00:01<00:00,  7.28img/s]\n",
      "Processando edif_ensino\\amenity_school: 100%|██████████| 94/94 [00:10<00:00,  9.17img/s]\n",
      "Processando edif_ensino\\amenity_school: 100%|██████████| 3/3 [00:00<00:00, 11.35img/s]\n",
      "Processando edif_ensino\\amenity_school: 100%|██████████| 98/98 [00:09<00:00, 10.09img/s]\n",
      "Processando edif_ensino\\amenity_school: 100%|██████████| 99/99 [00:13<00:00,  7.52img/s]\n",
      "Processando edif_ensino\\amenity_school: 100%|██████████| 92/92 [00:09<00:00,  9.48img/s]\n",
      "Processando edif_ensino\\amenity_school: 100%|██████████| 42/42 [00:04<00:00,  9.32img/s]\n",
      "Processando edif_ensino\\amenity_school: 100%|██████████| 7/7 [00:00<00:00, 10.94img/s]\n",
      "Processando edif_ensino\\amenity_school: 100%|██████████| 99/99 [00:12<00:00,  8.15img/s]\n",
      "Processando edif_ensino\\amenity_school: 100%|██████████| 92/92 [00:10<00:00,  8.47img/s]\n",
      "Processando edif_ensino\\amenity_school: 100%|██████████| 94/94 [00:10<00:00,  8.65img/s]\n",
      "Processando edif_ensino\\amenity_school: 100%|██████████| 41/41 [00:05<00:00,  7.28img/s]\n",
      "Processando edif_ensino\\amenity_school: 100%|██████████| 96/96 [00:11<00:00,  8.46img/s]\n",
      "Processando edif_ensino\\amenity_school: 100%|██████████| 98/98 [00:06<00:00, 15.65img/s]\n",
      "Processando edif_ensino\\amenity_school: 100%|██████████| 98/98 [00:12<00:00,  7.84img/s]\n",
      "Processando edif_ensino\\amenity_school: 100%|██████████| 43/43 [00:04<00:00,  9.46img/s]\n",
      "Processando edif_ensino\\amenity_school: 100%|██████████| 94/94 [00:23<00:00,  4.07img/s]\n",
      "Processando edif_ensino\\amenity_school: 100%|██████████| 96/96 [00:11<00:00,  8.40img/s]\n",
      "Processando edif_ensino\\amenity_school: 100%|██████████| 86/86 [00:10<00:00,  7.82img/s]\n",
      "Processando edif_ensino\\amenity_school: 100%|██████████| 96/96 [00:09<00:00,  9.88img/s]\n",
      "Processando edif_ensino\\amenity_school: 100%|██████████| 88/88 [00:10<00:00,  8.46img/s]\n",
      "Processando edif_ensino\\amenity_school: 100%|██████████| 98/98 [00:10<00:00,  9.48img/s]\n",
      "Processando edif_ensino\\amenity_school: 100%|██████████| 100/100 [00:11<00:00,  8.36img/s]\n",
      "Processando edif_ensino\\amenity_school: 100%|██████████| 91/91 [00:09<00:00,  9.73img/s]\n",
      "Processando edif_ensino\\amenity_school: 100%|██████████| 90/90 [00:09<00:00,  9.57img/s]\n",
      "Processando edif_ensino\\amenity_school: 100%|██████████| 96/96 [00:09<00:00,  9.69img/s]\n",
      "Processando edif_ensino\\amenity_school: 100%|██████████| 92/92 [00:09<00:00,  9.74img/s]\n",
      "Processando edif_ensino\\amenity_school: 100%|██████████| 92/92 [00:15<00:00,  6.03img/s]\n",
      "Processando edif_ensino\\amenity_school: 100%|██████████| 89/89 [00:09<00:00,  9.26img/s]\n",
      "Processando edif_ensino\\amenity_school: 100%|██████████| 85/85 [00:09<00:00,  9.23img/s]\n",
      "Processando edif_ensino\\amenity_school: 100%|██████████| 87/87 [00:08<00:00, 10.32img/s]\n",
      "Processando edif_ensino\\amenity_school: 100%|██████████| 98/98 [00:09<00:00, 10.01img/s]\n",
      "Processando edif_ensino\\amenity_university: 100%|██████████| 79/79 [00:09<00:00,  8.49img/s]\n",
      "Processando edif_ensino\\amenity_university: 100%|██████████| 86/86 [00:10<00:00,  8.51img/s]\n",
      "Processando edif_ensino\\amenity_university: 100%|██████████| 89/89 [00:09<00:00,  8.92img/s]\n",
      "Processando edif_ensino\\amenity_university: 100%|██████████| 2/2 [00:00<00:00,  8.96img/s]\n",
      "Processando edif_ensino\\amenity_university: 100%|██████████| 77/77 [00:07<00:00,  9.98img/s]\n",
      "Processando edif_ensino\\amenity_university: 100%|██████████| 94/94 [00:09<00:00,  9.55img/s]\n",
      "Processando edif_ensino\\amenity_university: 100%|██████████| 98/98 [00:10<00:00,  9.74img/s]\n",
      "Processando edif_ensino\\amenity_university: 100%|██████████| 99/99 [00:13<00:00,  7.46img/s]\n",
      "Processando edif_ensino\\amenity_university: 100%|██████████| 97/97 [00:12<00:00,  8.05img/s]\n",
      "Processando edif_ensino\\amenity_university: 100%|██████████| 12/12 [00:01<00:00,  7.74img/s]\n",
      "Processando edif_ensino\\amenity_university: 100%|██████████| 92/92 [00:12<00:00,  7.19img/s]\n",
      "Processando edif_ensino\\amenity_university: 100%|██████████| 91/91 [00:10<00:00,  9.06img/s]\n",
      "Processando edif_ensino\\amenity_university: 100%|██████████| 85/85 [00:08<00:00, 10.36img/s]\n",
      "Processando edif_ensino\\amenity_university: 100%|██████████| 85/85 [00:09<00:00,  8.89img/s]\n",
      "Processando edif_ensino\\amenity_university: 100%|██████████| 87/87 [00:08<00:00,  9.93img/s]\n",
      "Processando edif_ensino\\amenity_university: 100%|██████████| 92/92 [00:09<00:00, 10.04img/s]\n",
      "Processando edif_ensino\\amenity_university: 100%|██████████| 1/1 [00:00<00:00, 11.68img/s]\n",
      "Processando edif_ensino\\amenity_university: 100%|██████████| 95/95 [00:09<00:00,  9.82img/s]\n",
      "Processando edif_ensino\\amenity_university: 100%|██████████| 34/34 [00:03<00:00,  9.55img/s]\n",
      "Processando edif_ensino\\amenity_university: 100%|██████████| 87/87 [00:08<00:00,  9.94img/s]\n",
      "Processando edif_ensino\\amenity_university: 100%|██████████| 99/99 [00:09<00:00,  9.99img/s]\n",
      "Processando edif_ensino\\amenity_university: 100%|██████████| 91/91 [00:09<00:00,  9.87img/s]\n",
      "Processando edif_ensino\\amenity_university: 100%|██████████| 97/97 [00:09<00:00,  9.80img/s]\n",
      "Processando edif_ensino\\amenity_university: 100%|██████████| 47/47 [00:04<00:00,  9.94img/s]\n",
      "Processando edif_ensino\\amenity_university: 100%|██████████| 97/97 [00:10<00:00,  9.41img/s]\n",
      "Processando edif_ensino\\amenity_university: 100%|██████████| 96/96 [00:10<00:00,  9.08img/s]\n",
      "Processando edif_ensino\\amenity_university: 100%|██████████| 96/96 [00:10<00:00,  9.28img/s]\n",
      "Processando edif_ensino\\amenity_university: 100%|██████████| 99/99 [00:12<00:00,  7.62img/s]\n",
      "Processando edif_ensino\\amenity_university: 100%|██████████| 92/92 [00:08<00:00, 10.65img/s]\n",
      "Processando edif_ensino\\amenity_university: 100%|██████████| 91/91 [00:09<00:00,  9.15img/s]\n",
      "Processando edif_ensino\\amenity_university: 100%|██████████| 90/90 [00:08<00:00, 11.18img/s]\n",
      "Processando edif_ensino\\amenity_university: 100%|██████████| 90/90 [00:09<00:00,  9.24img/s]\n",
      "Processando edif_ensino\\amenity_university: 100%|██████████| 94/94 [00:09<00:00,  9.43img/s]\n",
      "Processando edif_ensino\\amenity_university: 100%|██████████| 63/63 [00:06<00:00,  9.96img/s]\n",
      "Processando edif_ensino\\amenity_university: 100%|██████████| 93/93 [00:10<00:00,  9.04img/s]\n",
      "Processando edif_ensino\\amenity_university: 100%|██████████| 40/40 [00:03<00:00, 12.37img/s]\n",
      "Processando edif_ensino\\amenity_university: 100%|██████████| 20/20 [00:01<00:00, 12.24img/s]\n",
      "Processando edif_ensino\\building_school: 100%|██████████| 91/91 [00:09<00:00, 10.09img/s]\n",
      "Processando edif_ensino\\building_school: 100%|██████████| 98/98 [00:09<00:00, 10.07img/s]\n",
      "Processando edif_ensino\\building_school: 100%|██████████| 9/9 [00:01<00:00,  9.00img/s]\n",
      "Processando edif_ensino\\building_school: 100%|██████████| 91/91 [00:11<00:00,  7.98img/s]\n",
      "Processando edif_ensino\\building_school: 100%|██████████| 91/91 [00:11<00:00,  7.85img/s]\n",
      "Processando edif_ensino\\building_school: 100%|██████████| 65/65 [00:07<00:00,  8.61img/s]\n",
      "Processando edif_ensino\\building_school: 100%|██████████| 96/96 [00:09<00:00, 10.01img/s]\n",
      "Processando edif_ensino\\building_school: 100%|██████████| 90/90 [00:10<00:00,  8.88img/s]\n",
      "Processando edif_ensino\\building_school: 100%|██████████| 89/89 [00:09<00:00,  9.05img/s]\n",
      "Processando edif_ensino\\building_school: 100%|██████████| 90/90 [00:09<00:00,  9.55img/s]\n",
      "Processando edif_ensino\\building_school: 100%|██████████| 89/89 [00:10<00:00,  8.76img/s]\n",
      "Processando edif_ensino\\building_school: 100%|██████████| 90/90 [00:08<00:00, 10.13img/s]\n",
      "Processando edif_ensino\\building_school: 100%|██████████| 89/89 [00:08<00:00, 10.01img/s]\n",
      "Processando edif_ensino\\building_school: 100%|██████████| 93/93 [00:10<00:00,  9.27img/s]\n",
      "Processando edif_ensino\\building_school: 100%|██████████| 93/93 [00:10<00:00,  9.14img/s]\n",
      "Processando edif_ensino\\building_school: 100%|██████████| 24/24 [00:02<00:00,  9.96img/s]\n",
      "Processando edif_ensino\\building_school: 100%|██████████| 28/28 [00:02<00:00,  9.98img/s]\n",
      "Processando edif_ensino\\building_school: 100%|██████████| 83/83 [00:08<00:00,  9.44img/s]\n",
      "Processando edif_ensino\\building_school: 100%|██████████| 72/72 [00:07<00:00,  9.09img/s]\n",
      "Processando edif_ensino\\building_school: 100%|██████████| 87/87 [00:08<00:00,  9.80img/s]\n",
      "Processando edif_ensino\\building_school: 100%|██████████| 43/43 [00:03<00:00, 10.79img/s]\n",
      "Processando edif_ensino\\building_school: 100%|██████████| 29/29 [00:02<00:00, 10.03img/s]\n",
      "Processando edif_ensino\\building_school: 100%|██████████| 45/45 [00:04<00:00, 10.00img/s]\n",
      "Processando edif_ensino\\building_school: 100%|██████████| 81/81 [00:08<00:00,  9.91img/s]\n",
      "Processando edif_ensino\\building_school: 100%|██████████| 97/97 [00:10<00:00,  9.39img/s]\n",
      "Processando edif_ensino\\building_school: 100%|██████████| 86/86 [00:09<00:00,  9.46img/s]\n",
      "Processando edif_ensino\\building_school: 100%|██████████| 95/95 [00:09<00:00, 10.39img/s]\n",
      "Processando edif_ensino\\building_school: 100%|██████████| 81/81 [00:08<00:00, 10.12img/s]\n",
      "Processando edif_ensino\\building_school: 100%|██████████| 90/90 [00:09<00:00,  9.76img/s]\n",
      "Processando edif_ensino\\building_school: 100%|██████████| 49/49 [00:04<00:00, 10.19img/s]\n",
      "Processando edif_ensino\\building_school: 100%|██████████| 87/87 [00:08<00:00,  9.79img/s]\n",
      "Processando edif_ensino\\building_school: 100%|██████████| 98/98 [00:09<00:00, 10.18img/s]\n",
      "Processando edif_ensino\\building_school: 100%|██████████| 100/100 [00:10<00:00,  9.34img/s]\n",
      "Processando edif_ensino\\building_school: 100%|██████████| 10/10 [00:01<00:00,  7.00img/s]\n",
      "Processando edif_ensino\\building_school: 100%|██████████| 95/95 [00:09<00:00,  9.73img/s]\n",
      "Processando edif_ensino\\building_school: 100%|██████████| 64/64 [00:06<00:00, 10.06img/s]\n",
      "Processando edif_ensino\\building_school: 100%|██████████| 95/95 [00:09<00:00, 10.03img/s]\n",
      "Processando edif_ensino\\building_school: 100%|██████████| 96/96 [00:10<00:00,  9.30img/s]\n",
      "Processando edif_ensino\\building_school: 100%|██████████| 27/27 [00:02<00:00,  9.69img/s]\n",
      "Processando edif_ensino\\building_school: 100%|██████████| 30/30 [00:03<00:00,  9.17img/s]\n",
      "Processando edif_ensino\\building_school: 100%|██████████| 98/98 [00:09<00:00, 10.24img/s]\n",
      "Processando edif_ensino\\building_school: 100%|██████████| 11/11 [00:01<00:00,  8.08img/s]\n",
      "Processando edif_ensino\\building_school: 100%|██████████| 14/14 [00:01<00:00,  8.75img/s]\n",
      "Processando edif_ensino\\building_school: 100%|██████████| 91/91 [00:09<00:00,  9.12img/s]\n",
      "Processando edif_ensino\\building_school: 100%|██████████| 92/92 [00:12<00:00,  7.65img/s]\n",
      "Processando edif_ensino\\building_school: 100%|██████████| 90/90 [00:14<00:00,  6.07img/s]\n",
      "Processando edif_ensino\\building_school: 100%|██████████| 88/88 [00:09<00:00,  9.39img/s]\n",
      "Processando edif_ensino\\building_school: 100%|██████████| 91/91 [00:09<00:00,  9.14img/s]\n",
      "Processando edif_ensino\\building_school: 100%|██████████| 98/98 [00:11<00:00,  8.29img/s]\n",
      "Processando edif_ensino\\building_school: 100%|██████████| 97/97 [00:09<00:00,  9.86img/s]\n",
      "Processando edif_ensino\\building_school: 100%|██████████| 99/99 [00:09<00:00, 10.39img/s]\n",
      "Processando edif_ensino\\building_school: 100%|██████████| 97/97 [00:13<00:00,  7.45img/s]\n",
      "Processando edif_ensino\\building_school: 100%|██████████| 85/85 [00:09<00:00,  9.36img/s]\n",
      "Processando edif_ensino\\building_school: 100%|██████████| 88/88 [00:08<00:00, 10.01img/s]\n",
      "Processando edif_ensino\\building_school: 100%|██████████| 87/87 [00:08<00:00,  9.76img/s]\n",
      "Processando edif_ensino\\building_school: 100%|██████████| 14/14 [00:01<00:00,  9.97img/s]\n",
      "Processando edif_ensino\\building_school: 100%|██████████| 88/88 [00:08<00:00, 10.14img/s]\n",
      "Processando edif_ensino\\building_school: 100%|██████████| 37/37 [00:03<00:00,  9.39img/s]\n",
      "Processando edif_ensino\\building_school: 100%|██████████| 13/13 [00:01<00:00,  9.15img/s]\n",
      "Processando edif_ensino\\building_school: 100%|██████████| 81/81 [00:08<00:00,  9.92img/s]\n",
      "Processando edif_metro_ferroviaria\\building_train_station: 100%|██████████| 99/99 [00:09<00:00, 10.14img/s]\n",
      "Processando edif_metro_ferroviaria\\building_train_station: 100%|██████████| 97/97 [00:09<00:00, 10.21img/s]\n",
      "Processando edif_metro_ferroviaria\\building_train_station: 100%|██████████| 99/99 [00:10<00:00,  9.70img/s]\n",
      "Processando edif_metro_ferroviaria\\building_train_station: 100%|██████████| 100/100 [00:09<00:00, 10.22img/s]\n",
      "Processando edif_metro_ferroviaria\\public_transport_station: 100%|██████████| 99/99 [00:09<00:00, 10.00img/s]\n",
      "Processando edif_metro_ferroviaria\\public_transport_station: 100%|██████████| 91/91 [00:09<00:00, 10.08img/s]\n",
      "Processando edif_metro_ferroviaria\\public_transport_station: 100%|██████████| 100/100 [00:10<00:00,  9.99img/s]\n",
      "Processando edif_metro_ferroviaria\\public_transport_station: 100%|██████████| 99/99 [00:09<00:00,  9.99img/s]\n",
      "Processando edif_metro_ferroviaria\\public_transport_station: 100%|██████████| 98/98 [00:09<00:00,  9.85img/s]\n",
      "Processando edif_metro_ferroviaria\\public_transport_station: 100%|██████████| 98/98 [00:09<00:00, 10.47img/s]\n",
      "Processando edif_metro_ferroviaria\\public_transport_station: 100%|██████████| 95/95 [00:09<00:00,  9.80img/s]\n",
      "Processando edif_metro_ferroviaria\\public_transport_station: 100%|██████████| 96/96 [00:09<00:00,  9.71img/s]\n",
      "Processando edif_metro_ferroviaria\\public_transport_station: 100%|██████████| 99/99 [00:10<00:00,  9.48img/s]\n",
      "Processando edif_metro_ferroviaria\\public_transport_station: 100%|██████████| 99/99 [00:10<00:00,  9.86img/s]\n",
      "Processando edif_metro_ferroviaria\\public_transport_station: 100%|██████████| 100/100 [00:10<00:00,  9.69img/s]\n",
      "Processando edif_metro_ferroviaria\\public_transport_station: 100%|██████████| 100/100 [00:09<00:00, 10.34img/s]\n",
      "Processando edif_metro_ferroviaria\\public_transport_station: 100%|██████████| 100/100 [00:09<00:00, 10.48img/s]\n",
      "Processando edif_metro_ferroviaria\\public_transport_station: 100%|██████████| 96/96 [00:10<00:00,  9.50img/s]\n",
      "Processando edif_metro_ferroviaria\\public_transport_station: 100%|██████████| 99/99 [00:10<00:00,  9.51img/s]\n",
      "Processando edif_metro_ferroviaria\\public_transport_station: 100%|██████████| 99/99 [00:09<00:00, 10.38img/s]\n",
      "Processando edif_metro_ferroviaria\\public_transport_station: 100%|██████████| 97/97 [00:11<00:00,  8.62img/s]\n",
      "Processando edif_metro_ferroviaria\\public_transport_station: 100%|██████████| 99/99 [00:11<00:00,  8.80img/s]\n",
      "Processando edif_metro_ferroviaria\\public_transport_station: 100%|██████████| 100/100 [00:10<00:00,  9.10img/s]\n",
      "Processando edif_metro_ferroviaria\\public_transport_station: 100%|██████████| 99/99 [00:10<00:00,  9.51img/s]\n",
      "Processando edif_metro_ferroviaria\\public_transport_station: 100%|██████████| 100/100 [00:10<00:00,  9.37img/s]\n",
      "Processando edif_metro_ferroviaria\\public_transport_station: 100%|██████████| 100/100 [00:10<00:00,  9.41img/s]\n",
      "Processando edif_metro_ferroviaria\\public_transport_station: 100%|██████████| 100/100 [00:09<00:00, 10.17img/s]\n",
      "Processando edif_metro_ferroviaria\\public_transport_station: 100%|██████████| 99/99 [00:12<00:00,  8.03img/s]\n",
      "Processando edif_metro_ferroviaria\\public_transport_station: 100%|██████████| 99/99 [00:10<00:00,  9.39img/s]\n",
      "Processando edif_metro_ferroviaria\\public_transport_station: 100%|██████████| 97/97 [00:09<00:00, 10.48img/s]\n",
      "Processando edif_metro_ferroviaria\\public_transport_station: 100%|██████████| 96/96 [00:09<00:00, 10.08img/s]\n",
      "Processando edif_metro_ferroviaria\\public_transport_station: 100%|██████████| 99/99 [00:10<00:00,  9.34img/s]\n",
      "Processando edif_metro_ferroviaria\\public_transport_station: 100%|██████████| 100/100 [00:11<00:00,  8.77img/s]\n",
      "Processando edif_metro_ferroviaria\\public_transport_station: 100%|██████████| 100/100 [00:09<00:00, 10.64img/s]\n",
      "Processando edif_metro_ferroviaria\\public_transport_station: 100%|██████████| 100/100 [00:10<00:00,  9.60img/s]\n",
      "Processando edif_metro_ferroviaria\\public_transport_station: 100%|██████████| 98/98 [00:10<00:00,  9.63img/s]\n",
      "Processando edif_metro_ferroviaria\\public_transport_station: 100%|██████████| 98/98 [00:08<00:00, 10.98img/s]\n",
      "Processando edif_metro_ferroviaria\\public_transport_station: 100%|██████████| 99/99 [00:10<00:00,  9.28img/s]\n",
      "Processando edif_metro_ferroviaria\\public_transport_station: 100%|██████████| 91/91 [00:09<00:00,  9.39img/s]\n",
      "Processando edif_metro_ferroviaria\\public_transport_station: 100%|██████████| 21/21 [00:02<00:00, 10.29img/s]\n",
      "Processando edif_metro_ferroviaria\\public_transport_station: 100%|██████████| 97/97 [00:09<00:00, 10.21img/s]\n",
      "Processando edif_metro_ferroviaria\\public_transport_station: 100%|██████████| 93/93 [00:09<00:00,  9.63img/s]\n",
      "Processando edif_metro_ferroviaria\\public_transport_station: 100%|██████████| 100/100 [00:09<00:00, 10.23img/s]\n",
      "Processando edif_metro_ferroviaria\\public_transport_station: 100%|██████████| 98/98 [00:10<00:00,  9.62img/s]\n",
      "Processando edif_metro_ferroviaria\\public_transport_station: 100%|██████████| 99/99 [00:10<00:00,  9.10img/s]\n",
      "Processando edif_metro_ferroviaria\\public_transport_station: 100%|██████████| 98/98 [00:09<00:00, 10.23img/s]\n",
      "Processando edif_metro_ferroviaria\\public_transport_station: 100%|██████████| 96/96 [00:09<00:00, 10.25img/s]\n",
      "Processando edif_metro_ferroviaria\\public_transport_station: 100%|██████████| 99/99 [00:09<00:00, 10.40img/s]\n",
      "Processando edif_metro_ferroviaria\\public_transport_station: 100%|██████████| 100/100 [00:10<00:00,  9.43img/s]\n",
      "Processando edif_metro_ferroviaria\\public_transport_station: 100%|██████████| 99/99 [00:09<00:00,  9.98img/s]\n",
      "Processando edif_metro_ferroviaria\\public_transport_station: 100%|██████████| 100/100 [00:09<00:00, 10.02img/s]\n",
      "Processando edif_metro_ferroviaria\\public_transport_station: 100%|██████████| 100/100 [00:09<00:00, 10.46img/s]\n",
      "Processando edif_metro_ferroviaria\\public_transport_station: 100%|██████████| 99/99 [00:09<00:00, 10.74img/s]\n",
      "Processando edif_metro_ferroviaria\\public_transport_station: 100%|██████████| 98/98 [00:10<00:00,  9.69img/s]\n",
      "Processando edif_metro_ferroviaria\\public_transport_station: 100%|██████████| 99/99 [00:11<00:00,  8.96img/s]\n",
      "Processando edif_metro_ferroviaria\\public_transport_station: 100%|██████████| 100/100 [00:10<00:00,  9.39img/s]\n",
      "Processando edif_metro_ferroviaria\\public_transport_station: 100%|██████████| 100/100 [00:12<00:00,  8.09img/s]\n",
      "Processando edif_metro_ferroviaria\\public_transport_station: 100%|██████████| 26/26 [00:02<00:00, 10.79img/s]\n",
      "Processando edif_metro_ferroviaria\\public_transport_station: 100%|██████████| 99/99 [00:12<00:00,  7.88img/s]\n",
      "Processando edif_metro_ferroviaria\\public_transport_station: 100%|██████████| 99/99 [00:11<00:00,  8.39img/s]\n",
      "Processando edif_metro_ferroviaria\\public_transport_station: 100%|██████████| 100/100 [00:11<00:00,  8.91img/s]\n",
      "Processando edif_metro_ferroviaria\\public_transport_station: 100%|██████████| 100/100 [00:09<00:00, 10.95img/s]\n",
      "Processando edif_metro_ferroviaria\\public_transport_station: 100%|██████████| 99/99 [00:10<00:00,  9.73img/s]\n",
      "Processando edif_metro_ferroviaria\\public_transport_station: 100%|██████████| 100/100 [00:09<00:00, 10.19img/s]\n",
      "Processando edif_metro_ferroviaria\\public_transport_station: 100%|██████████| 99/99 [00:10<00:00,  9.30img/s]\n",
      "Processando edif_metro_ferroviaria\\public_transport_station: 100%|██████████| 100/100 [00:11<00:00,  8.93img/s]\n",
      "Processando edif_metro_ferroviaria\\public_transport_station: 100%|██████████| 100/100 [00:10<00:00,  9.20img/s]\n",
      "Processando edif_metro_ferroviaria\\public_transport_station: 100%|██████████| 99/99 [00:10<00:00,  9.90img/s]\n",
      "Processando edif_metro_ferroviaria\\public_transport_station: 100%|██████████| 92/92 [00:10<00:00,  9.08img/s]\n",
      "Processando edif_metro_ferroviaria\\public_transport_station: 100%|██████████| 98/98 [00:09<00:00,  9.82img/s]\n",
      "Processando edif_metro_ferroviaria\\public_transport_station: 100%|██████████| 20/20 [00:01<00:00, 12.20img/s]\n",
      "Processando edif_metro_ferroviaria\\public_transport_station: 100%|██████████| 4/4 [00:00<00:00, 13.39img/s]\n",
      "Processando edif_metro_ferroviaria\\public_transport_station: 100%|██████████| 19/19 [00:01<00:00, 11.70img/s]\n",
      "Processando edif_metro_ferroviaria\\public_transport_station: 100%|██████████| 100/100 [00:11<00:00,  8.66img/s]\n",
      "Processando edif_metro_ferroviaria\\public_transport_station: 100%|██████████| 100/100 [00:12<00:00,  8.24img/s]\n",
      "Processando edif_metro_ferroviaria\\public_transport_station: 100%|██████████| 98/98 [00:09<00:00,  9.98img/s]\n",
      "Processando edif_metro_ferroviaria\\public_transport_station: 100%|██████████| 99/99 [00:09<00:00, 10.03img/s]\n",
      "Processando edif_metro_ferroviaria\\public_transport_station: 100%|██████████| 100/100 [00:10<00:00,  9.47img/s]\n",
      "Processando edif_metro_ferroviaria\\public_transport_station: 100%|██████████| 100/100 [00:09<00:00, 10.09img/s]\n",
      "Processando edif_metro_ferroviaria\\railway_station: 100%|██████████| 100/100 [00:09<00:00, 11.02img/s]\n",
      "Processando edif_metro_ferroviaria\\railway_station: 100%|██████████| 97/97 [00:09<00:00, 10.34img/s]\n",
      "Processando edif_metro_ferroviaria\\railway_station: 100%|██████████| 100/100 [00:10<00:00,  9.59img/s]\n",
      "Processando edif_metro_ferroviaria\\railway_station: 100%|██████████| 45/45 [00:04<00:00,  9.10img/s]\n",
      "Processando edif_metro_ferroviaria\\railway_station: 100%|██████████| 100/100 [00:11<00:00,  8.72img/s]\n",
      "Processando edif_metro_ferroviaria\\railway_station: 100%|██████████| 99/99 [00:09<00:00, 10.07img/s]\n",
      "Processando edif_metro_ferroviaria\\railway_station: 100%|██████████| 100/100 [00:09<00:00, 10.66img/s]\n",
      "Processando edif_metro_ferroviaria\\railway_station: 100%|██████████| 99/99 [00:09<00:00, 10.13img/s]\n",
      "Processando edif_metro_ferroviaria\\railway_station: 100%|██████████| 100/100 [00:09<00:00, 10.13img/s]\n",
      "Processando edif_metro_ferroviaria\\railway_station: 100%|██████████| 100/100 [00:09<00:00, 10.41img/s]\n",
      "Processando edif_metro_ferroviaria\\railway_station: 100%|██████████| 99/99 [00:09<00:00, 10.30img/s]\n",
      "Processando edif_metro_ferroviaria\\railway_station: 100%|██████████| 99/99 [00:10<00:00,  9.55img/s]\n",
      "Processando edif_metro_ferroviaria\\railway_station: 100%|██████████| 100/100 [00:17<00:00,  5.76img/s]\n",
      "Processando edif_metro_ferroviaria\\railway_station: 100%|██████████| 99/99 [00:10<00:00,  9.45img/s]\n",
      "Processando edif_metro_ferroviaria\\railway_station: 100%|██████████| 100/100 [00:11<00:00,  8.42img/s]\n",
      "Processando edif_metro_ferroviaria\\railway_station: 100%|██████████| 12/12 [00:01<00:00,  6.95img/s]\n",
      "Processando edif_metro_ferroviaria\\railway_station: 100%|██████████| 99/99 [00:09<00:00, 10.10img/s]\n",
      "Processando edif_metro_ferroviaria\\railway_station: 100%|██████████| 94/94 [00:10<00:00,  9.38img/s]\n",
      "Processando edif_metro_ferroviaria\\railway_station: 100%|██████████| 100/100 [00:09<00:00, 10.07img/s]\n",
      "Processando edif_pub_civil\\amenity_townhall: 100%|██████████| 97/97 [00:09<00:00,  9.94img/s]\n",
      "Processando edif_pub_civil\\amenity_townhall: 100%|██████████| 98/98 [00:10<00:00,  9.28img/s]\n",
      "Processando edif_pub_civil\\amenity_townhall: 100%|██████████| 100/100 [00:10<00:00,  9.51img/s]\n",
      "Processando edif_pub_civil\\amenity_townhall: 100%|██████████| 96/96 [00:10<00:00,  9.04img/s]\n",
      "Processando edif_pub_civil\\office_government: 100%|██████████| 98/98 [00:10<00:00,  9.77img/s]\n",
      "Processando edif_pub_civil\\office_government: 100%|██████████| 100/100 [00:10<00:00,  9.33img/s]\n",
      "Processando edif_pub_civil\\office_government: 100%|██████████| 97/97 [00:11<00:00,  8.57img/s]\n",
      "Processando edif_pub_civil\\office_government: 100%|██████████| 100/100 [00:10<00:00,  9.39img/s]\n",
      "Processando edif_pub_civil\\office_government: 100%|██████████| 95/95 [00:11<00:00,  8.59img/s]\n",
      "Processando edif_pub_civil\\office_government: 100%|██████████| 97/97 [00:09<00:00, 10.03img/s]\n",
      "Processando edif_pub_civil\\office_government: 100%|██████████| 100/100 [00:09<00:00, 10.04img/s]\n",
      "Processando edif_pub_civil\\office_government: 100%|██████████| 100/100 [00:09<00:00, 10.20img/s]\n",
      "Processando edif_pub_civil\\office_government: 100%|██████████| 99/99 [00:10<00:00,  9.34img/s]\n",
      "Processando edif_pub_civil\\office_government: 100%|██████████| 100/100 [00:10<00:00,  9.70img/s]\n",
      "Processando edif_pub_civil\\office_government: 100%|██████████| 100/100 [00:10<00:00,  9.38img/s]\n",
      "Processando edif_pub_civil\\office_government: 100%|██████████| 36/36 [00:03<00:00, 11.52img/s]\n",
      "Processando edif_pub_civil\\office_government: 100%|██████████| 100/100 [00:12<00:00,  7.98img/s]\n",
      "Processando edif_pub_civil\\office_government: 100%|██████████| 100/100 [00:10<00:00,  9.56img/s]\n",
      "Processando edif_pub_civil\\office_government: 100%|██████████| 100/100 [00:10<00:00,  9.71img/s]\n",
      "Processando edif_pub_civil\\office_government: 100%|██████████| 100/100 [00:10<00:00,  9.71img/s]\n",
      "Processando edif_pub_civil\\office_government: 100%|██████████| 98/98 [00:10<00:00,  9.59img/s]\n",
      "Processando edif_pub_civil\\office_government: 100%|██████████| 100/100 [00:10<00:00,  9.24img/s]\n",
      "Processando edif_pub_civil\\office_government: 100%|██████████| 100/100 [00:10<00:00,  9.77img/s]\n",
      "Processando edif_pub_civil\\office_government: 100%|██████████| 99/99 [00:11<00:00,  8.76img/s]\n",
      "Processando edif_pub_civil\\office_government: 100%|██████████| 100/100 [00:10<00:00,  9.80img/s]\n",
      "Processando edif_pub_civil\\office_government: 100%|██████████| 99/99 [00:10<00:00,  9.72img/s]\n",
      "Processando edif_pub_civil\\office_government: 100%|██████████| 98/98 [00:10<00:00,  9.63img/s]\n",
      "Processando edif_pub_civil\\office_government: 100%|██████████| 99/99 [00:10<00:00,  9.16img/s]\n",
      "Processando edif_pub_civil\\office_government: 100%|██████████| 99/99 [00:10<00:00,  9.83img/s]\n",
      "Processando edif_pub_civil\\office_government: 100%|██████████| 100/100 [00:10<00:00,  9.76img/s]\n",
      "Processando edif_pub_civil\\office_government: 100%|██████████| 100/100 [00:11<00:00,  8.70img/s]\n",
      "Processando edif_pub_civil\\office_government: 100%|██████████| 100/100 [00:11<00:00,  8.41img/s]\n",
      "Processando edif_pub_civil\\office_government: 100%|██████████| 100/100 [00:10<00:00,  9.72img/s]\n",
      "Processando edif_pub_civil\\office_government: 100%|██████████| 99/99 [00:10<00:00,  9.24img/s]\n",
      "Processando edif_pub_civil\\office_government: 100%|██████████| 99/99 [00:10<00:00,  9.69img/s]\n",
      "Processando edif_pub_civil\\office_government: 100%|██████████| 100/100 [00:10<00:00,  9.85img/s]\n",
      "Processando edif_saude\\amenity_clinic: 100%|██████████| 100/100 [00:10<00:00,  9.24img/s]\n",
      "Processando edif_saude\\amenity_clinic: 100%|██████████| 99/99 [00:10<00:00,  9.42img/s]\n",
      "Processando edif_saude\\amenity_clinic: 100%|██████████| 98/98 [00:09<00:00, 10.33img/s]\n",
      "Processando edif_saude\\amenity_clinic: 100%|██████████| 73/73 [00:07<00:00,  9.49img/s]\n",
      "Processando edif_saude\\amenity_clinic: 100%|██████████| 94/94 [00:09<00:00,  9.52img/s]\n",
      "Processando edif_saude\\amenity_clinic: 100%|██████████| 98/98 [00:10<00:00,  9.67img/s]\n",
      "Processando edif_saude\\amenity_clinic: 100%|██████████| 43/43 [00:04<00:00,  9.34img/s]\n",
      "Processando edif_saude\\amenity_clinic: 100%|██████████| 98/98 [00:09<00:00, 10.12img/s]\n",
      "Processando edif_saude\\amenity_clinic: 100%|██████████| 93/93 [00:09<00:00,  9.84img/s]\n",
      "Processando edif_saude\\amenity_clinic: 100%|██████████| 98/98 [00:10<00:00,  9.66img/s]\n",
      "Processando edif_saude\\amenity_clinic: 100%|██████████| 100/100 [00:09<00:00, 10.53img/s]\n",
      "Processando edif_saude\\amenity_clinic: 100%|██████████| 100/100 [00:12<00:00,  8.10img/s]\n",
      "Processando edif_saude\\amenity_clinic: 100%|██████████| 100/100 [00:13<00:00,  7.39img/s]\n",
      "Processando edif_saude\\amenity_clinic: 100%|██████████| 100/100 [00:10<00:00,  9.56img/s]\n",
      "Processando edif_saude\\amenity_clinic: 100%|██████████| 100/100 [00:11<00:00,  9.08img/s]\n",
      "Processando edif_saude\\amenity_clinic: 100%|██████████| 99/99 [00:11<00:00,  8.57img/s]\n",
      "Processando edif_saude\\amenity_clinic: 100%|██████████| 100/100 [00:11<00:00,  9.01img/s]\n",
      "Processando edif_saude\\amenity_clinic: 100%|██████████| 100/100 [00:10<00:00,  9.35img/s]\n",
      "Processando edif_saude\\amenity_clinic: 100%|██████████| 99/99 [00:10<00:00,  9.66img/s]\n",
      "Processando edif_saude\\amenity_clinic: 100%|██████████| 31/31 [00:03<00:00, 10.25img/s]\n",
      "Processando edif_saude\\amenity_clinic: 100%|██████████| 100/100 [00:10<00:00,  9.11img/s]\n",
      "Processando edif_saude\\amenity_clinic: 100%|██████████| 72/72 [00:09<00:00,  7.39img/s]\n",
      "Processando edif_saude\\amenity_clinic: 100%|██████████| 100/100 [00:11<00:00,  8.95img/s]\n",
      "Processando edif_saude\\amenity_clinic: 100%|██████████| 98/98 [00:10<00:00,  9.55img/s]\n",
      "Processando edif_saude\\amenity_clinic: 100%|██████████| 100/100 [00:09<00:00, 10.49img/s]\n",
      "Processando edif_saude\\amenity_clinic: 100%|██████████| 100/100 [00:12<00:00,  8.19img/s]\n",
      "Processando edif_saude\\amenity_clinic: 100%|██████████| 98/98 [00:10<00:00,  9.42img/s]\n",
      "Processando edif_saude\\amenity_clinic: 100%|██████████| 46/46 [00:05<00:00,  7.93img/s]\n",
      "Processando edif_saude\\amenity_clinic: 100%|██████████| 100/100 [00:10<00:00,  9.47img/s]\n",
      "Processando edif_saude\\amenity_clinic: 100%|██████████| 100/100 [00:10<00:00,  9.79img/s]\n",
      "Processando edif_saude\\amenity_clinic: 100%|██████████| 35/35 [00:05<00:00,  6.64img/s]\n",
      "Processando edif_saude\\amenity_clinic: 100%|██████████| 7/7 [00:00<00:00, 10.09img/s]\n",
      "Processando edif_saude\\amenity_clinic: 100%|██████████| 100/100 [00:10<00:00,  9.18img/s]\n",
      "Processando edif_saude\\amenity_clinic: 100%|██████████| 100/100 [00:11<00:00,  8.71img/s]\n",
      "Processando edif_saude\\amenity_clinic: 100%|██████████| 100/100 [00:11<00:00,  8.76img/s]\n",
      "Processando edif_saude\\amenity_clinic: 100%|██████████| 98/98 [00:09<00:00, 10.05img/s]\n",
      "Processando edif_saude\\amenity_clinic: 100%|██████████| 46/46 [00:04<00:00,  9.34img/s]\n",
      "Processando edif_saude\\amenity_clinic: 100%|██████████| 97/97 [00:09<00:00,  9.86img/s]\n",
      "Processando edif_saude\\amenity_clinic: 100%|██████████| 100/100 [00:14<00:00,  7.04img/s]\n",
      "Processando edif_saude\\amenity_clinic: 100%|██████████| 97/97 [00:10<00:00,  9.36img/s]\n",
      "Processando edif_saude\\amenity_clinic: 100%|██████████| 100/100 [00:10<00:00,  9.21img/s]\n",
      "Processando edif_saude\\amenity_clinic: 100%|██████████| 96/96 [00:09<00:00,  9.85img/s]\n",
      "Processando edif_saude\\amenity_clinic: 100%|██████████| 99/99 [00:09<00:00, 10.55img/s]\n",
      "Processando edif_saude\\amenity_hospital: 100%|██████████| 98/98 [00:10<00:00,  9.37img/s]\n",
      "Processando edif_saude\\amenity_hospital: 100%|██████████| 100/100 [00:11<00:00,  8.65img/s]\n",
      "Processando edif_saude\\amenity_hospital: 100%|██████████| 100/100 [00:09<00:00, 10.25img/s]\n",
      "Processando edif_saude\\amenity_hospital: 100%|██████████| 97/97 [00:10<00:00,  9.58img/s]\n",
      "Processando edif_saude\\amenity_hospital: 100%|██████████| 91/91 [00:09<00:00,  9.64img/s]\n",
      "Processando edif_saude\\amenity_hospital: 100%|██████████| 99/99 [00:13<00:00,  7.52img/s]\n",
      "Processando edif_saude\\amenity_hospital: 100%|██████████| 100/100 [00:10<00:00,  9.42img/s]\n",
      "Processando edif_saude\\amenity_hospital: 100%|██████████| 100/100 [00:09<00:00, 10.58img/s]\n",
      "Processando edif_saude\\amenity_hospital: 100%|██████████| 66/66 [00:07<00:00,  8.44img/s]\n",
      "Processando edif_saude\\amenity_hospital: 100%|██████████| 98/98 [00:10<00:00,  9.07img/s]\n",
      "Processando edif_saude\\amenity_hospital: 100%|██████████| 97/97 [00:09<00:00, 10.64img/s]\n",
      "Processando edif_saude\\amenity_hospital: 100%|██████████| 100/100 [00:10<00:00,  9.17img/s]\n",
      "Processando edif_saude\\amenity_hospital: 100%|██████████| 99/99 [00:10<00:00,  9.65img/s]\n",
      "Processando edif_saude\\amenity_hospital: 100%|██████████| 86/86 [00:09<00:00,  8.93img/s]\n",
      "Processando edif_saude\\amenity_hospital: 100%|██████████| 99/99 [00:10<00:00,  9.34img/s]\n",
      "Processando edif_saude\\amenity_hospital: 100%|██████████| 31/31 [00:02<00:00, 10.57img/s]\n",
      "Processando edif_saude\\amenity_hospital: 100%|██████████| 98/98 [00:11<00:00,  8.61img/s]\n",
      "Processando edif_saude\\amenity_hospital: 100%|██████████| 99/99 [00:10<00:00,  9.26img/s]\n",
      "Processando edif_saude\\amenity_hospital: 100%|██████████| 34/34 [00:02<00:00, 12.77img/s]\n",
      "Processando edif_saude\\amenity_hospital: 100%|██████████| 97/97 [00:09<00:00, 10.04img/s]\n",
      "Processando edif_saude\\amenity_hospital: 100%|██████████| 93/93 [00:08<00:00, 10.39img/s]\n",
      "Processando edif_saude\\amenity_hospital: 100%|██████████| 83/83 [00:08<00:00, 10.05img/s]\n",
      "Processando edif_saude\\amenity_hospital: 100%|██████████| 98/98 [00:12<00:00,  7.90img/s]\n",
      "Processando edif_saude\\amenity_hospital: 100%|██████████| 99/99 [00:10<00:00,  9.26img/s]\n",
      "Processando edif_saude\\amenity_hospital: 100%|██████████| 100/100 [00:10<00:00,  9.74img/s]\n",
      "Processando edif_saude\\amenity_hospital: 100%|██████████| 100/100 [00:10<00:00,  9.56img/s]\n",
      "Processando edif_saude\\amenity_hospital: 100%|██████████| 98/98 [00:13<00:00,  7.38img/s]\n",
      "Processando edif_saude\\amenity_hospital: 100%|██████████| 99/99 [00:10<00:00,  9.63img/s]\n",
      "Processando edif_saude\\amenity_hospital: 100%|██████████| 99/99 [00:10<00:00,  9.49img/s]\n",
      "Processando edif_saude\\amenity_hospital: 100%|██████████| 99/99 [00:10<00:00,  9.58img/s]\n",
      "Processando edif_saude\\amenity_hospital: 100%|██████████| 100/100 [00:10<00:00,  9.58img/s]\n",
      "Processando edif_saude\\amenity_hospital: 100%|██████████| 97/97 [00:10<00:00,  9.51img/s]\n",
      "Processando edif_saude\\amenity_hospital: 100%|██████████| 99/99 [00:13<00:00,  7.08img/s]\n",
      "Processando edif_saude\\amenity_hospital: 100%|██████████| 99/99 [00:09<00:00, 10.34img/s]\n",
      "Processando edif_saude\\amenity_hospital: 100%|██████████| 100/100 [00:10<00:00,  9.13img/s]\n",
      "Processando edif_saude\\amenity_hospital: 100%|██████████| 66/66 [00:06<00:00, 10.24img/s]\n",
      "Processando edif_saude\\amenity_hospital: 100%|██████████| 98/98 [00:10<00:00,  9.66img/s]\n",
      "Processando edif_saude\\amenity_hospital: 100%|██████████| 97/97 [00:10<00:00,  9.25img/s]\n",
      "Processando edif_saude\\amenity_hospital: 100%|██████████| 97/97 [00:09<00:00, 10.00img/s]\n",
      "Processando edif_saude\\amenity_hospital: 100%|██████████| 93/93 [00:08<00:00, 10.67img/s]\n",
      "Processando edif_saude\\amenity_hospital: 100%|██████████| 98/98 [00:10<00:00,  9.79img/s]\n",
      "Processando edif_saude\\amenity_hospital: 100%|██████████| 2/2 [00:00<00:00, 12.05img/s]\n",
      "Processando edif_saude\\amenity_hospital: 100%|██████████| 92/92 [00:09<00:00,  9.46img/s]\n",
      "Processando edif_saude\\amenity_hospital: 100%|██████████| 100/100 [00:09<00:00, 10.09img/s]\n",
      "Processando edif_saude\\amenity_hospital: 100%|██████████| 47/47 [00:05<00:00,  8.52img/s]\n",
      "Processando edif_saude\\amenity_hospital: 100%|██████████| 97/97 [00:10<00:00,  9.52img/s]\n",
      "Processando edif_saude\\amenity_hospital: 100%|██████████| 100/100 [00:10<00:00,  9.93img/s]\n",
      "Processando edif_saude\\amenity_hospital: 100%|██████████| 97/97 [00:10<00:00,  9.10img/s]\n",
      "Processando edif_saude\\amenity_hospital: 100%|██████████| 100/100 [00:11<00:00,  8.35img/s]\n",
      "Processando edif_saude\\amenity_hospital: 100%|██████████| 100/100 [00:11<00:00,  9.00img/s]\n",
      "Processando edif_saude\\amenity_hospital: 100%|██████████| 99/99 [00:10<00:00,  9.29img/s]\n",
      "Processando edif_saude\\amenity_hospital: 100%|██████████| 99/99 [00:09<00:00, 10.31img/s]\n",
      "Processando edif_saude\\amenity_hospital: 100%|██████████| 3/3 [00:00<00:00, 15.50img/s]\n",
      "Processando edif_saude\\amenity_hospital: 100%|██████████| 99/99 [00:09<00:00,  9.95img/s]\n",
      "Processando edif_saude\\amenity_hospital: 100%|██████████| 98/98 [00:10<00:00,  9.62img/s]\n",
      "Processando edif_saude\\amenity_hospital: 100%|██████████| 100/100 [00:11<00:00,  8.48img/s]\n",
      "Processando edif_saude\\amenity_hospital: 100%|██████████| 100/100 [00:10<00:00,  9.62img/s]\n",
      "Processando edif_saude\\amenity_hospital: 100%|██████████| 81/81 [00:08<00:00,  9.56img/s]\n",
      "Processando edif_saude\\amenity_hospital: 100%|██████████| 98/98 [00:10<00:00,  9.66img/s]\n",
      "Processando edif_saude\\amenity_hospital: 100%|██████████| 100/100 [00:10<00:00,  9.73img/s]\n",
      "Processando edif_saude\\amenity_hospital: 100%|██████████| 100/100 [00:11<00:00,  9.00img/s]\n",
      "Processando edif_saude\\amenity_hospital: 100%|██████████| 98/98 [00:09<00:00, 10.42img/s]\n",
      "Processando edif_saude\\amenity_hospital: 100%|██████████| 100/100 [00:11<00:00,  8.75img/s]\n",
      "Processando edif_saude\\amenity_hospital: 100%|██████████| 98/98 [00:10<00:00,  9.75img/s]\n",
      "Processando edif_saude\\amenity_hospital: 100%|██████████| 99/99 [00:10<00:00,  9.80img/s]\n",
      "Processando edif_saude\\amenity_hospital: 100%|██████████| 19/19 [00:02<00:00,  7.57img/s]\n",
      "Processando edif_saude\\building_hospital: 100%|██████████| 100/100 [00:11<00:00,  8.93img/s]\n",
      "Processando edif_saude\\building_hospital: 100%|██████████| 53/53 [00:05<00:00, 10.46img/s]\n",
      "Processando edif_saude\\building_hospital: 100%|██████████| 99/99 [00:15<00:00,  6.52img/s]\n",
      "Processando edif_saude\\building_hospital: 100%|██████████| 97/97 [00:09<00:00,  9.70img/s]\n",
      "Processando edif_turistica\\amenity_fountain: 100%|██████████| 98/98 [00:09<00:00, 10.19img/s]\n",
      "Processando edif_turistica\\amenity_fountain: 100%|██████████| 100/100 [00:10<00:00,  9.72img/s]\n",
      "Processando edif_turistica\\amenity_fountain: 100%|██████████| 98/98 [00:09<00:00, 10.47img/s]\n",
      "Processando edif_turistica\\amenity_fountain: 100%|██████████| 99/99 [00:09<00:00, 10.47img/s]\n",
      "Processando edif_turistica\\building_hotel: 100%|██████████| 25/25 [00:03<00:00,  7.78img/s]\n",
      "Processando edif_turistica\\building_hotel: 100%|██████████| 100/100 [00:11<00:00,  8.80img/s]\n",
      "Processando edif_turistica\\building_hotel: 100%|██████████| 100/100 [00:10<00:00,  9.29img/s]\n",
      "Processando edif_turistica\\building_hotel: 100%|██████████| 100/100 [00:10<00:00,  9.76img/s]\n",
      "Processando edif_turistica\\tourism_artwork: 100%|██████████| 100/100 [00:10<00:00,  9.25img/s]\n",
      "Processando edif_turistica\\tourism_artwork: 100%|██████████| 100/100 [00:10<00:00,  9.72img/s]\n",
      "Processando edif_turistica\\tourism_artwork: 100%|██████████| 100/100 [00:09<00:00, 10.18img/s]\n",
      "Processando edif_turistica\\tourism_artwork: 100%|██████████| 100/100 [00:10<00:00,  9.76img/s]\n",
      "Processando edif_turistica\\tourism_artwork: 100%|██████████| 100/100 [00:10<00:00,  9.71img/s]\n",
      "Processando edif_turistica\\tourism_artwork: 100%|██████████| 14/14 [00:02<00:00,  6.02img/s]\n",
      "Processando edif_turistica\\tourism_artwork: 100%|██████████| 100/100 [00:09<00:00, 10.35img/s]\n",
      "Processando edif_turistica\\tourism_artwork: 100%|██████████| 29/29 [00:04<00:00,  6.00img/s]\n",
      "Processando edif_turistica\\tourism_artwork: 100%|██████████| 100/100 [00:09<00:00, 10.66img/s]\n",
      "Processando edif_turistica\\tourism_artwork: 100%|██████████| 100/100 [00:09<00:00, 10.86img/s]\n",
      "Processando edif_turistica\\tourism_artwork: 100%|██████████| 27/27 [00:04<00:00,  5.68img/s]\n",
      "Processando edif_turistica\\tourism_artwork: 100%|██████████| 100/100 [00:10<00:00, 10.00img/s]\n",
      "Processando edif_turistica\\tourism_artwork: 100%|██████████| 100/100 [00:09<00:00, 10.15img/s]\n",
      "Processando edif_turistica\\tourism_artwork: 100%|██████████| 100/100 [00:10<00:00,  9.85img/s]\n",
      "Processando edif_turistica\\tourism_artwork: 100%|██████████| 100/100 [00:09<00:00, 10.12img/s]\n",
      "Processando edif_turistica\\tourism_artwork: 100%|██████████| 100/100 [00:10<00:00,  9.73img/s]\n",
      "Processando edif_turistica\\tourism_artwork: 100%|██████████| 100/100 [00:10<00:00,  9.61img/s]\n",
      "Processando edif_turistica\\tourism_artwork: 100%|██████████| 100/100 [00:10<00:00,  9.42img/s]\n",
      "Processando edif_turistica\\tourism_attraction: 100%|██████████| 100/100 [00:09<00:00, 10.17img/s]\n",
      "Processando edif_turistica\\tourism_attraction: 100%|██████████| 100/100 [00:10<00:00,  9.68img/s]\n",
      "Processando edif_turistica\\tourism_attraction: 100%|██████████| 99/99 [00:10<00:00,  9.39img/s]\n",
      "Processando edif_turistica\\tourism_attraction: 100%|██████████| 99/99 [00:09<00:00, 10.89img/s]\n",
      "Processando edif_turistica\\tourism_viewpoint: 100%|██████████| 100/100 [00:10<00:00,  9.77img/s]\n",
      "Processando edif_turistica\\tourism_viewpoint: 100%|██████████| 100/100 [00:10<00:00,  9.88img/s]\n",
      "Processando edif_turistica\\tourism_viewpoint: 100%|██████████| 100/100 [00:10<00:00,  9.66img/s]\n",
      "Processando edif_turistica\\tourism_viewpoint: 100%|██████████| 100/100 [00:09<00:00, 10.29img/s]\n",
      "Processando edif_turistica\\tourism_viewpoint: 100%|██████████| 100/100 [00:10<00:00,  9.29img/s]\n",
      "Processando edif_turistica\\tourism_viewpoint: 100%|██████████| 100/100 [00:10<00:00,  9.81img/s]\n",
      "Processando edif_turistica\\tourism_viewpoint: 100%|██████████| 100/100 [00:09<00:00, 10.25img/s]\n",
      "Processando edif_turistica\\tourism_viewpoint: 100%|██████████| 100/100 [00:10<00:00,  9.84img/s]\n",
      "Processando edif_turistica\\tourism_viewpoint: 100%|██████████| 100/100 [00:10<00:00,  9.96img/s]\n"
     ]
    },
    {
     "name": "stdout",
     "output_type": "stream",
     "text": [
      "[INFO] Log de imagens sem detecção salvo em c:\\DEV\\PhD_Thesis_Step3_OSM_Toponyms\\results\\6_YOLO_KerasOCR_results\\mpl\\no_detections.csv\n",
      "Total crops: 20029\n"
     ]
    }
   ],
   "source": [
    "# === 1. Predição YOLO + crops ===\n",
    "base = os.getcwd()\n",
    "source_dir = os.path.join(base, \"results\", \"5_CLIP_download_img_mpl\", \"20250825\")\n",
    "output_dir = os.path.join(base, \"results\", \"6_YOLO_KerasOCR_results\", \"mpl\")\n",
    "os.makedirs(output_dir, exist_ok=True)\n",
    "\n",
    "df_crops = yolo_predict_and_crop(\n",
    "    weights=BEST_MAP,\n",
    "    source_dir=source_dir,\n",
    "    output_dir=output_dir ,\n",
    "    img_size=640,\n",
    "    conf_thres=0.25,\n",
    "    iou_thres=0.45,\n",
    "    device=\"cuda\" if torch.cuda.is_available() else \"cpu\",\n",
    "    workers=4\n",
    ")\n",
    "print(\"Total crops:\", len(df_crops))"
   ]
  },
  {
   "cell_type": "code",
   "execution_count": null,
   "metadata": {},
   "outputs": [
    {
     "name": "stdout",
     "output_type": "stream",
     "text": [
      "Total crops encontrados: 182\n"
     ]
    },
    {
     "data": {
      "text/html": [
       "<div>\n",
       "<style scoped>\n",
       "    .dataframe tbody tr th:only-of-type {\n",
       "        vertical-align: middle;\n",
       "    }\n",
       "\n",
       "    .dataframe tbody tr th {\n",
       "        vertical-align: top;\n",
       "    }\n",
       "\n",
       "    .dataframe thead th {\n",
       "        text-align: right;\n",
       "    }\n",
       "</style>\n",
       "<table border=\"1\" class=\"dataframe\">\n",
       "  <thead>\n",
       "    <tr style=\"text-align: right;\">\n",
       "      <th></th>\n",
       "      <th>osmId_formatado</th>\n",
       "      <th>classe</th>\n",
       "      <th>tag_value</th>\n",
       "      <th>image_id</th>\n",
       "      <th>path_crop</th>\n",
       "    </tr>\n",
       "  </thead>\n",
       "  <tbody>\n",
       "    <tr>\n",
       "      <th>0</th>\n",
       "      <td>relation_5462805</td>\n",
       "      <td>edif_constr_lazer</td>\n",
       "      <td>leisure_sports_centre</td>\n",
       "      <td>1447298768958676</td>\n",
       "      <td>c:\\DEV\\PhD_Thesis_Step3_OSM_Toponyms\\results\\0...</td>\n",
       "    </tr>\n",
       "    <tr>\n",
       "      <th>1</th>\n",
       "      <td>relation_5462805</td>\n",
       "      <td>edif_constr_lazer</td>\n",
       "      <td>leisure_sports_centre</td>\n",
       "      <td>175062311211008</td>\n",
       "      <td>c:\\DEV\\PhD_Thesis_Step3_OSM_Toponyms\\results\\0...</td>\n",
       "    </tr>\n",
       "    <tr>\n",
       "      <th>2</th>\n",
       "      <td>relation_5462805</td>\n",
       "      <td>edif_constr_lazer</td>\n",
       "      <td>leisure_sports_centre</td>\n",
       "      <td>182625110412851</td>\n",
       "      <td>c:\\DEV\\PhD_Thesis_Step3_OSM_Toponyms\\results\\0...</td>\n",
       "    </tr>\n",
       "    <tr>\n",
       "      <th>3</th>\n",
       "      <td>relation_5462805</td>\n",
       "      <td>edif_constr_lazer</td>\n",
       "      <td>leisure_sports_centre</td>\n",
       "      <td>4025966667458518</td>\n",
       "      <td>c:\\DEV\\PhD_Thesis_Step3_OSM_Toponyms\\results\\0...</td>\n",
       "    </tr>\n",
       "    <tr>\n",
       "      <th>4</th>\n",
       "      <td>relation_5462805</td>\n",
       "      <td>edif_constr_lazer</td>\n",
       "      <td>leisure_sports_centre</td>\n",
       "      <td>953542098792222</td>\n",
       "      <td>c:\\DEV\\PhD_Thesis_Step3_OSM_Toponyms\\results\\0...</td>\n",
       "    </tr>\n",
       "  </tbody>\n",
       "</table>\n",
       "</div>"
      ],
      "text/plain": [
       "    osmId_formatado             classe              tag_value  \\\n",
       "0  relation_5462805  edif_constr_lazer  leisure_sports_centre   \n",
       "1  relation_5462805  edif_constr_lazer  leisure_sports_centre   \n",
       "2  relation_5462805  edif_constr_lazer  leisure_sports_centre   \n",
       "3  relation_5462805  edif_constr_lazer  leisure_sports_centre   \n",
       "4  relation_5462805  edif_constr_lazer  leisure_sports_centre   \n",
       "\n",
       "           image_id                                          path_crop  \n",
       "0  1447298768958676  c:\\DEV\\PhD_Thesis_Step3_OSM_Toponyms\\results\\0...  \n",
       "1   175062311211008  c:\\DEV\\PhD_Thesis_Step3_OSM_Toponyms\\results\\0...  \n",
       "2   182625110412851  c:\\DEV\\PhD_Thesis_Step3_OSM_Toponyms\\results\\0...  \n",
       "3  4025966667458518  c:\\DEV\\PhD_Thesis_Step3_OSM_Toponyms\\results\\0...  \n",
       "4   953542098792222  c:\\DEV\\PhD_Thesis_Step3_OSM_Toponyms\\results\\0...  "
      ]
     },
     "execution_count": 7,
     "metadata": {},
     "output_type": "execute_result"
    }
   ],
   "source": [
    "# Recuperar o df_crops com mapeamento das saidas\n",
    "base = os.getcwd()\n",
    "output_dir = os.path.join(base, \"results\", \"6_YOLO_KerasOCR_results\",\"mpl\")\n",
    "df_crops = rebuild_df_crops(output_dir)\n",
    "\n",
    "print(\"Total crops encontrados:\", len(df_crops))\n",
    "df_crops.head()"
   ]
  },
  {
   "cell_type": "markdown",
   "metadata": {
    "id": "sr7tKl7JEhXf"
   },
   "source": [
    "#### Applying Keras-OCR to extract the texts from the predicted regions by YOLOv12"
   ]
  },
  {
   "cell_type": "code",
   "execution_count": null,
   "metadata": {},
   "outputs": [
    {
     "name": "stdout",
     "output_type": "stream",
     "text": [
      "Looking for C:\\Users\\SIGEO\\.keras-ocr\\crnn_kurapan.h5\n"
     ]
    }
   ],
   "source": [
    "# Inicializa OCR Recognizer\n",
    "recognizer = init_recognizer()"
   ]
  },
  {
   "cell_type": "code",
   "execution_count": 11,
   "metadata": {},
   "outputs": [
    {
     "name": "stdout",
     "output_type": "stream",
     "text": [
      "1/1 [==============================] - 0s 59ms/step\n"
     ]
    },
    {
     "name": "stderr",
     "output_type": "stream",
     "text": [
      "OCR nos crops:  93%|█████████▎| 18661/20029 [1:17:53<05:49,  3.92img/s]"
     ]
    },
    {
     "name": "stdout",
     "output_type": "stream",
     "text": [
      "1/1 [==============================] - 0s 22ms/step\n"
     ]
    },
    {
     "name": "stderr",
     "output_type": "stream",
     "text": [
      "OCR nos crops:  93%|█████████▎| 18662/20029 [1:17:54<05:34,  4.09img/s]"
     ]
    },
    {
     "name": "stdout",
     "output_type": "stream",
     "text": [
      "1/1 [==============================] - 0s 22ms/step\n"
     ]
    },
    {
     "name": "stderr",
     "output_type": "stream",
     "text": [
      "OCR nos crops:  93%|█████████▎| 18663/20029 [1:17:54<05:25,  4.20img/s]"
     ]
    },
    {
     "name": "stdout",
     "output_type": "stream",
     "text": [
      "1/1 [==============================] - 0s 23ms/step\n"
     ]
    },
    {
     "name": "stderr",
     "output_type": "stream",
     "text": [
      "OCR nos crops:  93%|█████████▎| 18664/20029 [1:17:54<05:16,  4.32img/s]"
     ]
    },
    {
     "name": "stdout",
     "output_type": "stream",
     "text": [
      "1/1 [==============================] - 0s 22ms/step\n"
     ]
    },
    {
     "name": "stderr",
     "output_type": "stream",
     "text": [
      "OCR nos crops:  93%|█████████▎| 18665/20029 [1:17:54<05:07,  4.43img/s]"
     ]
    },
    {
     "name": "stdout",
     "output_type": "stream",
     "text": [
      "1/1 [==============================] - 0s 21ms/step\n"
     ]
    },
    {
     "name": "stderr",
     "output_type": "stream",
     "text": [
      "OCR nos crops:  93%|█████████▎| 18666/20029 [1:17:54<05:01,  4.51img/s]"
     ]
    },
    {
     "name": "stdout",
     "output_type": "stream",
     "text": [
      "1/1 [==============================] - 0s 22ms/step\n"
     ]
    },
    {
     "name": "stderr",
     "output_type": "stream",
     "text": [
      "OCR nos crops:  93%|█████████▎| 18667/20029 [1:17:55<04:59,  4.55img/s]"
     ]
    },
    {
     "name": "stdout",
     "output_type": "stream",
     "text": [
      "1/1 [==============================] - 0s 22ms/step\n"
     ]
    },
    {
     "name": "stderr",
     "output_type": "stream",
     "text": [
      "OCR nos crops:  93%|█████████▎| 18668/20029 [1:17:55<04:55,  4.60img/s]"
     ]
    },
    {
     "name": "stdout",
     "output_type": "stream",
     "text": [
      "1/1 [==============================] - 0s 23ms/step\n"
     ]
    },
    {
     "name": "stderr",
     "output_type": "stream",
     "text": [
      "OCR nos crops:  93%|█████████▎| 18669/20029 [1:17:55<04:59,  4.54img/s]"
     ]
    },
    {
     "name": "stdout",
     "output_type": "stream",
     "text": [
      "1/1 [==============================] - 0s 23ms/step\n"
     ]
    },
    {
     "name": "stderr",
     "output_type": "stream",
     "text": [
      "OCR nos crops:  93%|█████████▎| 18670/20029 [1:17:55<04:59,  4.54img/s]"
     ]
    },
    {
     "name": "stdout",
     "output_type": "stream",
     "text": [
      "1/1 [==============================] - 0s 21ms/step\n"
     ]
    },
    {
     "name": "stderr",
     "output_type": "stream",
     "text": [
      "OCR nos crops:  93%|█████████▎| 18671/20029 [1:17:56<04:59,  4.53img/s]"
     ]
    },
    {
     "name": "stdout",
     "output_type": "stream",
     "text": [
      "1/1 [==============================] - 0s 21ms/step\n"
     ]
    },
    {
     "name": "stderr",
     "output_type": "stream",
     "text": [
      "OCR nos crops:  93%|█████████▎| 18672/20029 [1:17:56<04:58,  4.55img/s]"
     ]
    },
    {
     "name": "stdout",
     "output_type": "stream",
     "text": [
      "1/1 [==============================] - 0s 23ms/step\n"
     ]
    },
    {
     "name": "stderr",
     "output_type": "stream",
     "text": [
      "OCR nos crops:  93%|█████████▎| 18673/20029 [1:17:56<04:57,  4.56img/s]"
     ]
    },
    {
     "name": "stdout",
     "output_type": "stream",
     "text": [
      "1/1 [==============================] - 0s 24ms/step\n"
     ]
    },
    {
     "name": "stderr",
     "output_type": "stream",
     "text": [
      "OCR nos crops:  93%|█████████▎| 18674/20029 [1:17:56<04:55,  4.58img/s]"
     ]
    },
    {
     "name": "stdout",
     "output_type": "stream",
     "text": [
      "1/1 [==============================] - 0s 21ms/step\n"
     ]
    },
    {
     "name": "stderr",
     "output_type": "stream",
     "text": [
      "OCR nos crops:  93%|█████████▎| 18675/20029 [1:17:56<04:56,  4.57img/s]"
     ]
    },
    {
     "name": "stdout",
     "output_type": "stream",
     "text": [
      "1/1 [==============================] - 0s 22ms/step\n"
     ]
    },
    {
     "name": "stderr",
     "output_type": "stream",
     "text": [
      "OCR nos crops:  93%|█████████▎| 18676/20029 [1:17:57<05:00,  4.50img/s]"
     ]
    },
    {
     "name": "stdout",
     "output_type": "stream",
     "text": [
      "1/1 [==============================] - 0s 27ms/step\n"
     ]
    },
    {
     "name": "stderr",
     "output_type": "stream",
     "text": [
      "OCR nos crops:  93%|█████████▎| 18677/20029 [1:17:57<05:04,  4.45img/s]"
     ]
    },
    {
     "name": "stdout",
     "output_type": "stream",
     "text": [
      "1/1 [==============================] - 0s 24ms/step\n"
     ]
    },
    {
     "name": "stderr",
     "output_type": "stream",
     "text": [
      "OCR nos crops:  93%|█████████▎| 18678/20029 [1:17:57<05:03,  4.45img/s]"
     ]
    },
    {
     "name": "stdout",
     "output_type": "stream",
     "text": [
      "1/1 [==============================] - 0s 23ms/step\n"
     ]
    },
    {
     "name": "stderr",
     "output_type": "stream",
     "text": [
      "OCR nos crops:  93%|█████████▎| 18679/20029 [1:17:57<05:03,  4.45img/s]"
     ]
    },
    {
     "name": "stdout",
     "output_type": "stream",
     "text": [
      "1/1 [==============================] - 0s 23ms/step\n"
     ]
    },
    {
     "name": "stderr",
     "output_type": "stream",
     "text": [
      "OCR nos crops:  93%|█████████▎| 18680/20029 [1:17:58<05:03,  4.44img/s]"
     ]
    },
    {
     "name": "stdout",
     "output_type": "stream",
     "text": [
      "1/1 [==============================] - 0s 23ms/step\n"
     ]
    },
    {
     "name": "stderr",
     "output_type": "stream",
     "text": [
      "OCR nos crops:  93%|█████████▎| 18681/20029 [1:17:58<05:02,  4.45img/s]"
     ]
    },
    {
     "name": "stdout",
     "output_type": "stream",
     "text": [
      "1/1 [==============================] - 0s 24ms/step\n"
     ]
    },
    {
     "name": "stderr",
     "output_type": "stream",
     "text": [
      "OCR nos crops:  93%|█████████▎| 18682/20029 [1:17:58<05:03,  4.44img/s]"
     ]
    },
    {
     "name": "stdout",
     "output_type": "stream",
     "text": [
      "1/1 [==============================] - 0s 43ms/step\n"
     ]
    },
    {
     "name": "stderr",
     "output_type": "stream",
     "text": [
      "OCR nos crops:  93%|█████████▎| 18683/20029 [1:17:58<05:10,  4.34img/s]"
     ]
    },
    {
     "name": "stdout",
     "output_type": "stream",
     "text": [
      "1/1 [==============================] - 0s 27ms/step\n"
     ]
    },
    {
     "name": "stderr",
     "output_type": "stream",
     "text": [
      "OCR nos crops:  93%|█████████▎| 18684/20029 [1:17:58<05:08,  4.35img/s]"
     ]
    },
    {
     "name": "stdout",
     "output_type": "stream",
     "text": [
      "1/1 [==============================] - 0s 34ms/step\n"
     ]
    },
    {
     "name": "stderr",
     "output_type": "stream",
     "text": [
      "OCR nos crops:  93%|█████████▎| 18685/20029 [1:17:59<05:09,  4.34img/s]"
     ]
    },
    {
     "name": "stdout",
     "output_type": "stream",
     "text": [
      "1/1 [==============================] - 0s 28ms/step\n"
     ]
    },
    {
     "name": "stderr",
     "output_type": "stream",
     "text": [
      "OCR nos crops:  93%|█████████▎| 18686/20029 [1:17:59<05:13,  4.29img/s]"
     ]
    },
    {
     "name": "stdout",
     "output_type": "stream",
     "text": [
      "1/1 [==============================] - 0s 40ms/step\n"
     ]
    },
    {
     "name": "stderr",
     "output_type": "stream",
     "text": [
      "OCR nos crops:  93%|█████████▎| 18687/20029 [1:17:59<05:18,  4.22img/s]"
     ]
    },
    {
     "name": "stdout",
     "output_type": "stream",
     "text": [
      "1/1 [==============================] - 0s 38ms/step\n"
     ]
    },
    {
     "name": "stderr",
     "output_type": "stream",
     "text": [
      "OCR nos crops:  93%|█████████▎| 18688/20029 [1:17:59<05:19,  4.20img/s]"
     ]
    },
    {
     "name": "stdout",
     "output_type": "stream",
     "text": [
      "1/1 [==============================] - 0s 37ms/step\n"
     ]
    },
    {
     "name": "stderr",
     "output_type": "stream",
     "text": [
      "OCR nos crops:  93%|█████████▎| 18689/20029 [1:18:00<05:19,  4.20img/s]"
     ]
    },
    {
     "name": "stdout",
     "output_type": "stream",
     "text": [
      "1/1 [==============================] - 0s 43ms/step\n"
     ]
    },
    {
     "name": "stderr",
     "output_type": "stream",
     "text": [
      "OCR nos crops:  93%|█████████▎| 18690/20029 [1:18:00<05:22,  4.15img/s]"
     ]
    },
    {
     "name": "stdout",
     "output_type": "stream",
     "text": [
      "1/1 [==============================] - 0s 43ms/step\n"
     ]
    },
    {
     "name": "stderr",
     "output_type": "stream",
     "text": [
      "OCR nos crops:  93%|█████████▎| 18691/20029 [1:18:00<05:23,  4.14img/s]"
     ]
    },
    {
     "name": "stdout",
     "output_type": "stream",
     "text": [
      "1/1 [==============================] - 0s 35ms/step\n"
     ]
    },
    {
     "name": "stderr",
     "output_type": "stream",
     "text": [
      "OCR nos crops:  93%|█████████▎| 18692/20029 [1:18:00<05:23,  4.13img/s]"
     ]
    },
    {
     "name": "stdout",
     "output_type": "stream",
     "text": [
      "1/1 [==============================] - 0s 43ms/step\n"
     ]
    },
    {
     "name": "stderr",
     "output_type": "stream",
     "text": [
      "OCR nos crops:  93%|█████████▎| 18693/20029 [1:18:01<05:24,  4.12img/s]"
     ]
    },
    {
     "name": "stdout",
     "output_type": "stream",
     "text": [
      "1/1 [==============================] - 0s 38ms/step\n"
     ]
    },
    {
     "name": "stderr",
     "output_type": "stream",
     "text": [
      "OCR nos crops:  93%|█████████▎| 18694/20029 [1:18:01<05:21,  4.15img/s]"
     ]
    },
    {
     "name": "stdout",
     "output_type": "stream",
     "text": [
      "1/1 [==============================] - 0s 43ms/step\n"
     ]
    },
    {
     "name": "stderr",
     "output_type": "stream",
     "text": [
      "OCR nos crops:  93%|█████████▎| 18695/20029 [1:18:01<05:20,  4.17img/s]"
     ]
    },
    {
     "name": "stdout",
     "output_type": "stream",
     "text": [
      "1/1 [==============================] - 0s 47ms/step\n"
     ]
    },
    {
     "name": "stderr",
     "output_type": "stream",
     "text": [
      "OCR nos crops:  93%|█████████▎| 18696/20029 [1:18:01<05:22,  4.14img/s]"
     ]
    },
    {
     "name": "stdout",
     "output_type": "stream",
     "text": [
      "1/1 [==============================] - 0s 49ms/step\n"
     ]
    },
    {
     "name": "stderr",
     "output_type": "stream",
     "text": [
      "OCR nos crops:  93%|█████████▎| 18697/20029 [1:18:02<05:25,  4.10img/s]"
     ]
    },
    {
     "name": "stdout",
     "output_type": "stream",
     "text": [
      "1/1 [==============================] - 0s 48ms/step\n"
     ]
    },
    {
     "name": "stderr",
     "output_type": "stream",
     "text": [
      "OCR nos crops:  93%|█████████▎| 18698/20029 [1:18:02<05:24,  4.10img/s]"
     ]
    },
    {
     "name": "stdout",
     "output_type": "stream",
     "text": [
      "1/1 [==============================] - 0s 38ms/step\n"
     ]
    },
    {
     "name": "stderr",
     "output_type": "stream",
     "text": [
      "OCR nos crops:  93%|█████████▎| 18699/20029 [1:18:02<05:21,  4.13img/s]"
     ]
    },
    {
     "name": "stdout",
     "output_type": "stream",
     "text": [
      "1/1 [==============================] - 0s 39ms/step\n"
     ]
    },
    {
     "name": "stderr",
     "output_type": "stream",
     "text": [
      "OCR nos crops:  93%|█████████▎| 18700/20029 [1:18:02<05:19,  4.15img/s]"
     ]
    },
    {
     "name": "stdout",
     "output_type": "stream",
     "text": [
      "1/1 [==============================] - 0s 52ms/step\n"
     ]
    },
    {
     "name": "stderr",
     "output_type": "stream",
     "text": [
      "OCR nos crops:  93%|█████████▎| 18701/20029 [1:18:03<05:25,  4.08img/s]"
     ]
    },
    {
     "name": "stdout",
     "output_type": "stream",
     "text": [
      "1/1 [==============================] - 0s 42ms/step\n"
     ]
    },
    {
     "name": "stderr",
     "output_type": "stream",
     "text": [
      "OCR nos crops:  93%|█████████▎| 18702/20029 [1:18:03<05:25,  4.08img/s]"
     ]
    },
    {
     "name": "stdout",
     "output_type": "stream",
     "text": [
      "1/1 [==============================] - 0s 52ms/step\n"
     ]
    },
    {
     "name": "stderr",
     "output_type": "stream",
     "text": [
      "OCR nos crops:  93%|█████████▎| 18703/20029 [1:18:03<05:29,  4.03img/s]"
     ]
    },
    {
     "name": "stdout",
     "output_type": "stream",
     "text": [
      "1/1 [==============================] - 0s 44ms/step\n"
     ]
    },
    {
     "name": "stderr",
     "output_type": "stream",
     "text": [
      "OCR nos crops:  93%|█████████▎| 18704/20029 [1:18:03<05:28,  4.03img/s]"
     ]
    },
    {
     "name": "stdout",
     "output_type": "stream",
     "text": [
      "1/1 [==============================] - 0s 47ms/step\n"
     ]
    },
    {
     "name": "stderr",
     "output_type": "stream",
     "text": [
      "OCR nos crops:  93%|█████████▎| 18705/20029 [1:18:04<05:31,  3.99img/s]"
     ]
    },
    {
     "name": "stdout",
     "output_type": "stream",
     "text": [
      "1/1 [==============================] - 0s 53ms/step\n"
     ]
    },
    {
     "name": "stderr",
     "output_type": "stream",
     "text": [
      "OCR nos crops:  93%|█████████▎| 18706/20029 [1:18:04<05:34,  3.96img/s]"
     ]
    },
    {
     "name": "stdout",
     "output_type": "stream",
     "text": [
      "1/1 [==============================] - 0s 46ms/step\n"
     ]
    },
    {
     "name": "stderr",
     "output_type": "stream",
     "text": [
      "OCR nos crops:  93%|█████████▎| 18707/20029 [1:18:04<05:33,  3.97img/s]"
     ]
    },
    {
     "name": "stdout",
     "output_type": "stream",
     "text": [
      "1/1 [==============================] - 0s 49ms/step\n"
     ]
    },
    {
     "name": "stderr",
     "output_type": "stream",
     "text": [
      "OCR nos crops:  93%|█████████▎| 18708/20029 [1:18:04<05:32,  3.98img/s]"
     ]
    },
    {
     "name": "stdout",
     "output_type": "stream",
     "text": [
      "1/1 [==============================] - 0s 50ms/step\n"
     ]
    },
    {
     "name": "stderr",
     "output_type": "stream",
     "text": [
      "OCR nos crops:  93%|█████████▎| 18709/20029 [1:18:05<05:31,  3.98img/s]"
     ]
    },
    {
     "name": "stdout",
     "output_type": "stream",
     "text": [
      "1/1 [==============================] - 0s 48ms/step\n"
     ]
    },
    {
     "name": "stderr",
     "output_type": "stream",
     "text": [
      "OCR nos crops:  93%|█████████▎| 18710/20029 [1:18:05<05:30,  3.99img/s]"
     ]
    },
    {
     "name": "stdout",
     "output_type": "stream",
     "text": [
      "1/1 [==============================] - 0s 44ms/step\n"
     ]
    },
    {
     "name": "stderr",
     "output_type": "stream",
     "text": [
      "OCR nos crops:  93%|█████████▎| 18711/20029 [1:18:05<05:28,  4.02img/s]"
     ]
    },
    {
     "name": "stdout",
     "output_type": "stream",
     "text": [
      "1/1 [==============================] - 0s 45ms/step\n"
     ]
    },
    {
     "name": "stderr",
     "output_type": "stream",
     "text": [
      "OCR nos crops:  93%|█████████▎| 18712/20029 [1:18:05<05:36,  3.92img/s]"
     ]
    },
    {
     "name": "stdout",
     "output_type": "stream",
     "text": [
      "1/1 [==============================] - 0s 46ms/step\n"
     ]
    },
    {
     "name": "stderr",
     "output_type": "stream",
     "text": [
      "OCR nos crops:  93%|█████████▎| 18713/20029 [1:18:06<05:33,  3.95img/s]"
     ]
    },
    {
     "name": "stdout",
     "output_type": "stream",
     "text": [
      "1/1 [==============================] - 0s 47ms/step\n"
     ]
    },
    {
     "name": "stderr",
     "output_type": "stream",
     "text": [
      "OCR nos crops:  93%|█████████▎| 18714/20029 [1:18:06<05:54,  3.71img/s]"
     ]
    },
    {
     "name": "stdout",
     "output_type": "stream",
     "text": [
      "1/1 [==============================] - 0s 41ms/step\n"
     ]
    },
    {
     "name": "stderr",
     "output_type": "stream",
     "text": [
      "OCR nos crops:  93%|█████████▎| 18715/20029 [1:18:06<05:44,  3.81img/s]"
     ]
    },
    {
     "name": "stdout",
     "output_type": "stream",
     "text": [
      "1/1 [==============================] - 0s 46ms/step\n"
     ]
    },
    {
     "name": "stderr",
     "output_type": "stream",
     "text": [
      "OCR nos crops:  93%|█████████▎| 18716/20029 [1:18:06<05:41,  3.84img/s]"
     ]
    },
    {
     "name": "stdout",
     "output_type": "stream",
     "text": [
      "1/1 [==============================] - 0s 41ms/step\n"
     ]
    },
    {
     "name": "stderr",
     "output_type": "stream",
     "text": [
      "OCR nos crops:  93%|█████████▎| 18717/20029 [1:18:07<05:35,  3.90img/s]"
     ]
    },
    {
     "name": "stdout",
     "output_type": "stream",
     "text": [
      "1/1 [==============================] - 0s 46ms/step\n"
     ]
    },
    {
     "name": "stderr",
     "output_type": "stream",
     "text": [
      "OCR nos crops:  93%|█████████▎| 18718/20029 [1:18:07<05:28,  3.99img/s]"
     ]
    },
    {
     "name": "stdout",
     "output_type": "stream",
     "text": [
      "1/1 [==============================] - 0s 44ms/step\n"
     ]
    },
    {
     "name": "stderr",
     "output_type": "stream",
     "text": [
      "OCR nos crops:  93%|█████████▎| 18719/20029 [1:18:07<05:23,  4.05img/s]"
     ]
    },
    {
     "name": "stdout",
     "output_type": "stream",
     "text": [
      "1/1 [==============================] - 0s 40ms/step\n"
     ]
    },
    {
     "name": "stderr",
     "output_type": "stream",
     "text": [
      "OCR nos crops:  93%|█████████▎| 18720/20029 [1:18:07<05:17,  4.12img/s]"
     ]
    },
    {
     "name": "stdout",
     "output_type": "stream",
     "text": [
      "1/1 [==============================] - 0s 42ms/step\n"
     ]
    },
    {
     "name": "stderr",
     "output_type": "stream",
     "text": [
      "OCR nos crops:  93%|█████████▎| 18721/20029 [1:18:08<05:15,  4.14img/s]"
     ]
    },
    {
     "name": "stdout",
     "output_type": "stream",
     "text": [
      "1/1 [==============================] - 0s 47ms/step\n"
     ]
    },
    {
     "name": "stderr",
     "output_type": "stream",
     "text": [
      "OCR nos crops:  93%|█████████▎| 18722/20029 [1:18:08<05:14,  4.16img/s]"
     ]
    },
    {
     "name": "stdout",
     "output_type": "stream",
     "text": [
      "1/1 [==============================] - 0s 49ms/step\n"
     ]
    },
    {
     "name": "stderr",
     "output_type": "stream",
     "text": [
      "OCR nos crops:  93%|█████████▎| 18723/20029 [1:18:08<05:14,  4.15img/s]"
     ]
    },
    {
     "name": "stdout",
     "output_type": "stream",
     "text": [
      "1/1 [==============================] - 0s 44ms/step\n"
     ]
    },
    {
     "name": "stderr",
     "output_type": "stream",
     "text": [
      "OCR nos crops:  93%|█████████▎| 18724/20029 [1:18:08<05:14,  4.14img/s]"
     ]
    },
    {
     "name": "stdout",
     "output_type": "stream",
     "text": [
      "1/1 [==============================] - 0s 42ms/step\n"
     ]
    },
    {
     "name": "stderr",
     "output_type": "stream",
     "text": [
      "OCR nos crops:  93%|█████████▎| 18725/20029 [1:18:09<05:12,  4.17img/s]"
     ]
    },
    {
     "name": "stdout",
     "output_type": "stream",
     "text": [
      "1/1 [==============================] - 0s 41ms/step\n"
     ]
    },
    {
     "name": "stderr",
     "output_type": "stream",
     "text": [
      "OCR nos crops:  93%|█████████▎| 18726/20029 [1:18:09<05:12,  4.16img/s]"
     ]
    },
    {
     "name": "stdout",
     "output_type": "stream",
     "text": [
      "1/1 [==============================] - 0s 46ms/step\n"
     ]
    },
    {
     "name": "stderr",
     "output_type": "stream",
     "text": [
      "OCR nos crops:  93%|█████████▎| 18727/20029 [1:18:09<05:13,  4.16img/s]"
     ]
    },
    {
     "name": "stdout",
     "output_type": "stream",
     "text": [
      "1/1 [==============================] - 0s 42ms/step\n"
     ]
    },
    {
     "name": "stderr",
     "output_type": "stream",
     "text": [
      "OCR nos crops:  94%|█████████▎| 18728/20029 [1:18:09<05:14,  4.14img/s]"
     ]
    },
    {
     "name": "stdout",
     "output_type": "stream",
     "text": [
      "1/1 [==============================] - 0s 48ms/step\n"
     ]
    },
    {
     "name": "stderr",
     "output_type": "stream",
     "text": [
      "OCR nos crops:  94%|█████████▎| 18729/20029 [1:18:10<05:14,  4.13img/s]"
     ]
    },
    {
     "name": "stdout",
     "output_type": "stream",
     "text": [
      "1/1 [==============================] - 0s 39ms/step\n"
     ]
    },
    {
     "name": "stderr",
     "output_type": "stream",
     "text": [
      "OCR nos crops:  94%|█████████▎| 18730/20029 [1:18:10<05:11,  4.17img/s]"
     ]
    },
    {
     "name": "stdout",
     "output_type": "stream",
     "text": [
      "1/1 [==============================] - 0s 38ms/step\n"
     ]
    },
    {
     "name": "stderr",
     "output_type": "stream",
     "text": [
      "OCR nos crops:  94%|█████████▎| 18731/20029 [1:18:10<05:08,  4.21img/s]"
     ]
    },
    {
     "name": "stdout",
     "output_type": "stream",
     "text": [
      "1/1 [==============================] - 0s 38ms/step\n"
     ]
    },
    {
     "name": "stderr",
     "output_type": "stream",
     "text": [
      "OCR nos crops:  94%|█████████▎| 18732/20029 [1:18:10<05:07,  4.22img/s]"
     ]
    },
    {
     "name": "stdout",
     "output_type": "stream",
     "text": [
      "1/1 [==============================] - 0s 38ms/step\n"
     ]
    },
    {
     "name": "stderr",
     "output_type": "stream",
     "text": [
      "OCR nos crops:  94%|█████████▎| 18733/20029 [1:18:10<05:04,  4.26img/s]"
     ]
    },
    {
     "name": "stdout",
     "output_type": "stream",
     "text": [
      "1/1 [==============================] - 0s 39ms/step\n"
     ]
    },
    {
     "name": "stderr",
     "output_type": "stream",
     "text": [
      "OCR nos crops:  94%|█████████▎| 18734/20029 [1:18:11<05:04,  4.25img/s]"
     ]
    },
    {
     "name": "stdout",
     "output_type": "stream",
     "text": [
      "1/1 [==============================] - 0s 50ms/step\n"
     ]
    },
    {
     "name": "stderr",
     "output_type": "stream",
     "text": [
      "OCR nos crops:  94%|█████████▎| 18735/20029 [1:18:11<05:08,  4.19img/s]"
     ]
    },
    {
     "name": "stdout",
     "output_type": "stream",
     "text": [
      "1/1 [==============================] - 0s 45ms/step\n"
     ]
    },
    {
     "name": "stderr",
     "output_type": "stream",
     "text": [
      "OCR nos crops:  94%|█████████▎| 18736/20029 [1:18:11<05:08,  4.20img/s]"
     ]
    },
    {
     "name": "stdout",
     "output_type": "stream",
     "text": [
      "1/1 [==============================] - 0s 39ms/step\n"
     ]
    },
    {
     "name": "stderr",
     "output_type": "stream",
     "text": [
      "OCR nos crops:  94%|█████████▎| 18737/20029 [1:18:11<05:08,  4.19img/s]"
     ]
    },
    {
     "name": "stdout",
     "output_type": "stream",
     "text": [
      "1/1 [==============================] - 0s 46ms/step\n"
     ]
    },
    {
     "name": "stderr",
     "output_type": "stream",
     "text": [
      "OCR nos crops:  94%|█████████▎| 18738/20029 [1:18:12<05:10,  4.16img/s]"
     ]
    },
    {
     "name": "stdout",
     "output_type": "stream",
     "text": [
      "1/1 [==============================] - 0s 43ms/step\n"
     ]
    },
    {
     "name": "stderr",
     "output_type": "stream",
     "text": [
      "OCR nos crops:  94%|█████████▎| 18739/20029 [1:18:12<05:09,  4.17img/s]"
     ]
    },
    {
     "name": "stdout",
     "output_type": "stream",
     "text": [
      "1/1 [==============================] - 0s 47ms/step\n"
     ]
    },
    {
     "name": "stderr",
     "output_type": "stream",
     "text": [
      "OCR nos crops:  94%|█████████▎| 18740/20029 [1:18:12<05:10,  4.15img/s]"
     ]
    },
    {
     "name": "stdout",
     "output_type": "stream",
     "text": [
      "1/1 [==============================] - 0s 41ms/step\n"
     ]
    },
    {
     "name": "stderr",
     "output_type": "stream",
     "text": [
      "OCR nos crops:  94%|█████████▎| 18741/20029 [1:18:12<05:09,  4.16img/s]"
     ]
    },
    {
     "name": "stdout",
     "output_type": "stream",
     "text": [
      "1/1 [==============================] - 0s 40ms/step\n"
     ]
    },
    {
     "name": "stderr",
     "output_type": "stream",
     "text": [
      "OCR nos crops:  94%|█████████▎| 18742/20029 [1:18:13<05:08,  4.18img/s]"
     ]
    },
    {
     "name": "stdout",
     "output_type": "stream",
     "text": [
      "1/1 [==============================] - 0s 45ms/step\n"
     ]
    },
    {
     "name": "stderr",
     "output_type": "stream",
     "text": [
      "OCR nos crops:  94%|█████████▎| 18743/20029 [1:18:13<05:07,  4.19img/s]"
     ]
    },
    {
     "name": "stdout",
     "output_type": "stream",
     "text": [
      "1/1 [==============================] - 0s 44ms/step\n"
     ]
    },
    {
     "name": "stderr",
     "output_type": "stream",
     "text": [
      "OCR nos crops:  94%|█████████▎| 18744/20029 [1:18:13<05:06,  4.20img/s]"
     ]
    },
    {
     "name": "stdout",
     "output_type": "stream",
     "text": [
      "1/1 [==============================] - 0s 38ms/step\n"
     ]
    },
    {
     "name": "stderr",
     "output_type": "stream",
     "text": [
      "OCR nos crops:  94%|█████████▎| 18745/20029 [1:18:13<05:04,  4.21img/s]"
     ]
    },
    {
     "name": "stdout",
     "output_type": "stream",
     "text": [
      "1/1 [==============================] - 0s 50ms/step\n"
     ]
    },
    {
     "name": "stderr",
     "output_type": "stream",
     "text": [
      "OCR nos crops:  94%|█████████▎| 18746/20029 [1:18:14<05:09,  4.14img/s]"
     ]
    },
    {
     "name": "stdout",
     "output_type": "stream",
     "text": [
      "1/1 [==============================] - 0s 44ms/step\n"
     ]
    },
    {
     "name": "stderr",
     "output_type": "stream",
     "text": [
      "OCR nos crops:  94%|█████████▎| 18747/20029 [1:18:14<05:12,  4.10img/s]"
     ]
    },
    {
     "name": "stdout",
     "output_type": "stream",
     "text": [
      "1/1 [==============================] - 0s 40ms/step\n"
     ]
    },
    {
     "name": "stderr",
     "output_type": "stream",
     "text": [
      "OCR nos crops:  94%|█████████▎| 18748/20029 [1:18:14<05:09,  4.14img/s]"
     ]
    },
    {
     "name": "stdout",
     "output_type": "stream",
     "text": [
      "1/1 [==============================] - 0s 23ms/step\n"
     ]
    },
    {
     "name": "stderr",
     "output_type": "stream",
     "text": [
      "OCR nos crops:  94%|█████████▎| 18749/20029 [1:18:14<05:00,  4.27img/s]"
     ]
    },
    {
     "name": "stdout",
     "output_type": "stream",
     "text": [
      "1/1 [==============================] - 0s 22ms/step\n"
     ]
    },
    {
     "name": "stderr",
     "output_type": "stream",
     "text": [
      "OCR nos crops:  94%|█████████▎| 18750/20029 [1:18:15<04:53,  4.36img/s]"
     ]
    },
    {
     "name": "stdout",
     "output_type": "stream",
     "text": [
      "1/1 [==============================] - 0s 23ms/step\n"
     ]
    },
    {
     "name": "stderr",
     "output_type": "stream",
     "text": [
      "OCR nos crops:  94%|█████████▎| 18751/20029 [1:18:15<04:48,  4.43img/s]"
     ]
    },
    {
     "name": "stdout",
     "output_type": "stream",
     "text": [
      "1/1 [==============================] - 0s 21ms/step\n"
     ]
    },
    {
     "name": "stderr",
     "output_type": "stream",
     "text": [
      "OCR nos crops:  94%|█████████▎| 18752/20029 [1:18:15<04:45,  4.47img/s]"
     ]
    },
    {
     "name": "stdout",
     "output_type": "stream",
     "text": [
      "1/1 [==============================] - 0s 24ms/step\n"
     ]
    },
    {
     "name": "stderr",
     "output_type": "stream",
     "text": [
      "OCR nos crops:  94%|█████████▎| 18753/20029 [1:18:15<04:42,  4.52img/s]"
     ]
    },
    {
     "name": "stdout",
     "output_type": "stream",
     "text": [
      "1/1 [==============================] - 0s 23ms/step\n"
     ]
    },
    {
     "name": "stderr",
     "output_type": "stream",
     "text": [
      "OCR nos crops:  94%|█████████▎| 18754/20029 [1:18:15<04:41,  4.54img/s]"
     ]
    },
    {
     "name": "stdout",
     "output_type": "stream",
     "text": [
      "1/1 [==============================] - 0s 23ms/step\n"
     ]
    },
    {
     "name": "stderr",
     "output_type": "stream",
     "text": [
      "OCR nos crops:  94%|█████████▎| 18755/20029 [1:18:16<04:41,  4.53img/s]"
     ]
    },
    {
     "name": "stdout",
     "output_type": "stream",
     "text": [
      "1/1 [==============================] - 0s 23ms/step\n"
     ]
    },
    {
     "name": "stderr",
     "output_type": "stream",
     "text": [
      "OCR nos crops:  94%|█████████▎| 18756/20029 [1:18:16<04:40,  4.54img/s]"
     ]
    },
    {
     "name": "stdout",
     "output_type": "stream",
     "text": [
      "1/1 [==============================] - 0s 22ms/step\n"
     ]
    },
    {
     "name": "stderr",
     "output_type": "stream",
     "text": [
      "OCR nos crops:  94%|█████████▎| 18757/20029 [1:18:16<04:44,  4.48img/s]"
     ]
    },
    {
     "name": "stdout",
     "output_type": "stream",
     "text": [
      "1/1 [==============================] - 0s 22ms/step\n"
     ]
    },
    {
     "name": "stderr",
     "output_type": "stream",
     "text": [
      "OCR nos crops:  94%|█████████▎| 18758/20029 [1:18:16<04:42,  4.50img/s]"
     ]
    },
    {
     "name": "stdout",
     "output_type": "stream",
     "text": [
      "1/1 [==============================] - 0s 22ms/step\n"
     ]
    },
    {
     "name": "stderr",
     "output_type": "stream",
     "text": [
      "OCR nos crops:  94%|█████████▎| 18759/20029 [1:18:17<04:41,  4.52img/s]"
     ]
    },
    {
     "name": "stdout",
     "output_type": "stream",
     "text": [
      "1/1 [==============================] - 0s 23ms/step\n"
     ]
    },
    {
     "name": "stderr",
     "output_type": "stream",
     "text": [
      "OCR nos crops:  94%|█████████▎| 18760/20029 [1:18:17<04:40,  4.52img/s]"
     ]
    },
    {
     "name": "stdout",
     "output_type": "stream",
     "text": [
      "1/1 [==============================] - 0s 21ms/step\n"
     ]
    },
    {
     "name": "stderr",
     "output_type": "stream",
     "text": [
      "OCR nos crops:  94%|█████████▎| 18761/20029 [1:18:17<04:39,  4.53img/s]"
     ]
    },
    {
     "name": "stdout",
     "output_type": "stream",
     "text": [
      "1/1 [==============================] - 0s 24ms/step\n"
     ]
    },
    {
     "name": "stderr",
     "output_type": "stream",
     "text": [
      "OCR nos crops:  94%|█████████▎| 18762/20029 [1:18:17<04:39,  4.54img/s]"
     ]
    },
    {
     "name": "stdout",
     "output_type": "stream",
     "text": [
      "1/1 [==============================] - 0s 22ms/step\n"
     ]
    },
    {
     "name": "stderr",
     "output_type": "stream",
     "text": [
      "OCR nos crops:  94%|█████████▎| 18763/20029 [1:18:17<04:38,  4.54img/s]"
     ]
    },
    {
     "name": "stdout",
     "output_type": "stream",
     "text": [
      "1/1 [==============================] - 0s 20ms/step\n"
     ]
    },
    {
     "name": "stderr",
     "output_type": "stream",
     "text": [
      "OCR nos crops:  94%|█████████▎| 18764/20029 [1:18:18<04:40,  4.52img/s]"
     ]
    },
    {
     "name": "stdout",
     "output_type": "stream",
     "text": [
      "1/1 [==============================] - 0s 23ms/step\n"
     ]
    },
    {
     "name": "stderr",
     "output_type": "stream",
     "text": [
      "OCR nos crops:  94%|█████████▎| 18765/20029 [1:18:18<04:38,  4.54img/s]"
     ]
    },
    {
     "name": "stdout",
     "output_type": "stream",
     "text": [
      "1/1 [==============================] - 0s 27ms/step\n"
     ]
    },
    {
     "name": "stderr",
     "output_type": "stream",
     "text": [
      "OCR nos crops:  94%|█████████▎| 18766/20029 [1:18:18<04:41,  4.49img/s]"
     ]
    },
    {
     "name": "stdout",
     "output_type": "stream",
     "text": [
      "1/1 [==============================] - 0s 24ms/step\n"
     ]
    },
    {
     "name": "stderr",
     "output_type": "stream",
     "text": [
      "OCR nos crops:  94%|█████████▎| 18767/20029 [1:18:18<04:43,  4.46img/s]"
     ]
    },
    {
     "name": "stdout",
     "output_type": "stream",
     "text": [
      "1/1 [==============================] - 0s 25ms/step\n"
     ]
    },
    {
     "name": "stderr",
     "output_type": "stream",
     "text": [
      "OCR nos crops:  94%|█████████▎| 18768/20029 [1:18:19<04:43,  4.44img/s]"
     ]
    },
    {
     "name": "stdout",
     "output_type": "stream",
     "text": [
      "1/1 [==============================] - 0s 25ms/step\n"
     ]
    },
    {
     "name": "stderr",
     "output_type": "stream",
     "text": [
      "OCR nos crops:  94%|█████████▎| 18769/20029 [1:18:19<04:42,  4.46img/s]"
     ]
    },
    {
     "name": "stdout",
     "output_type": "stream",
     "text": [
      "1/1 [==============================] - 0s 26ms/step\n"
     ]
    },
    {
     "name": "stderr",
     "output_type": "stream",
     "text": [
      "OCR nos crops:  94%|█████████▎| 18770/20029 [1:18:19<04:42,  4.45img/s]"
     ]
    },
    {
     "name": "stdout",
     "output_type": "stream",
     "text": [
      "1/1 [==============================] - 0s 26ms/step\n"
     ]
    },
    {
     "name": "stderr",
     "output_type": "stream",
     "text": [
      "OCR nos crops:  94%|█████████▎| 18771/20029 [1:18:19<04:42,  4.45img/s]"
     ]
    },
    {
     "name": "stdout",
     "output_type": "stream",
     "text": [
      "1/1 [==============================] - 0s 24ms/step\n"
     ]
    },
    {
     "name": "stderr",
     "output_type": "stream",
     "text": [
      "OCR nos crops:  94%|█████████▎| 18772/20029 [1:18:19<04:41,  4.47img/s]"
     ]
    },
    {
     "name": "stdout",
     "output_type": "stream",
     "text": [
      "1/1 [==============================] - 0s 23ms/step\n"
     ]
    },
    {
     "name": "stderr",
     "output_type": "stream",
     "text": [
      "OCR nos crops:  94%|█████████▎| 18773/20029 [1:18:20<04:40,  4.48img/s]"
     ]
    },
    {
     "name": "stdout",
     "output_type": "stream",
     "text": [
      "1/1 [==============================] - 0s 20ms/step\n"
     ]
    },
    {
     "name": "stderr",
     "output_type": "stream",
     "text": [
      "OCR nos crops:  94%|█████████▎| 18774/20029 [1:18:20<04:36,  4.53img/s]"
     ]
    },
    {
     "name": "stdout",
     "output_type": "stream",
     "text": [
      "1/1 [==============================] - 0s 24ms/step\n"
     ]
    },
    {
     "name": "stderr",
     "output_type": "stream",
     "text": [
      "OCR nos crops:  94%|█████████▎| 18775/20029 [1:18:20<04:35,  4.55img/s]"
     ]
    },
    {
     "name": "stdout",
     "output_type": "stream",
     "text": [
      "1/1 [==============================] - 0s 22ms/step\n"
     ]
    },
    {
     "name": "stderr",
     "output_type": "stream",
     "text": [
      "OCR nos crops:  94%|█████████▎| 18776/20029 [1:18:20<04:34,  4.56img/s]"
     ]
    },
    {
     "name": "stdout",
     "output_type": "stream",
     "text": [
      "1/1 [==============================] - 0s 25ms/step\n"
     ]
    },
    {
     "name": "stderr",
     "output_type": "stream",
     "text": [
      "OCR nos crops:  94%|█████████▎| 18777/20029 [1:18:21<04:35,  4.55img/s]"
     ]
    },
    {
     "name": "stdout",
     "output_type": "stream",
     "text": [
      "1/1 [==============================] - 0s 21ms/step\n"
     ]
    },
    {
     "name": "stderr",
     "output_type": "stream",
     "text": [
      "OCR nos crops:  94%|█████████▍| 18778/20029 [1:18:21<04:33,  4.57img/s]"
     ]
    },
    {
     "name": "stdout",
     "output_type": "stream",
     "text": [
      "1/1 [==============================] - 0s 23ms/step\n"
     ]
    },
    {
     "name": "stderr",
     "output_type": "stream",
     "text": [
      "OCR nos crops:  94%|█████████▍| 18779/20029 [1:18:21<04:32,  4.59img/s]"
     ]
    },
    {
     "name": "stdout",
     "output_type": "stream",
     "text": [
      "1/1 [==============================] - 0s 23ms/step\n"
     ]
    },
    {
     "name": "stderr",
     "output_type": "stream",
     "text": [
      "OCR nos crops:  94%|█████████▍| 18780/20029 [1:18:21<04:31,  4.59img/s]"
     ]
    },
    {
     "name": "stdout",
     "output_type": "stream",
     "text": [
      "1/1 [==============================] - 0s 25ms/step\n"
     ]
    },
    {
     "name": "stderr",
     "output_type": "stream",
     "text": [
      "OCR nos crops:  94%|█████████▍| 18781/20029 [1:18:21<04:31,  4.59img/s]"
     ]
    },
    {
     "name": "stdout",
     "output_type": "stream",
     "text": [
      "1/1 [==============================] - 0s 23ms/step\n"
     ]
    },
    {
     "name": "stderr",
     "output_type": "stream",
     "text": [
      "OCR nos crops:  94%|█████████▍| 18782/20029 [1:18:22<04:31,  4.60img/s]"
     ]
    },
    {
     "name": "stdout",
     "output_type": "stream",
     "text": [
      "1/1 [==============================] - 0s 22ms/step\n"
     ]
    },
    {
     "name": "stderr",
     "output_type": "stream",
     "text": [
      "OCR nos crops:  94%|█████████▍| 18783/20029 [1:18:22<04:28,  4.63img/s]"
     ]
    },
    {
     "name": "stdout",
     "output_type": "stream",
     "text": [
      "1/1 [==============================] - 0s 25ms/step\n"
     ]
    },
    {
     "name": "stderr",
     "output_type": "stream",
     "text": [
      "OCR nos crops:  94%|█████████▍| 18784/20029 [1:18:22<04:28,  4.63img/s]"
     ]
    },
    {
     "name": "stdout",
     "output_type": "stream",
     "text": [
      "1/1 [==============================] - 0s 25ms/step\n"
     ]
    },
    {
     "name": "stderr",
     "output_type": "stream",
     "text": [
      "OCR nos crops:  94%|█████████▍| 18785/20029 [1:18:22<04:30,  4.59img/s]"
     ]
    },
    {
     "name": "stdout",
     "output_type": "stream",
     "text": [
      "1/1 [==============================] - 0s 22ms/step\n"
     ]
    },
    {
     "name": "stderr",
     "output_type": "stream",
     "text": [
      "OCR nos crops:  94%|█████████▍| 18786/20029 [1:18:22<04:29,  4.61img/s]"
     ]
    },
    {
     "name": "stdout",
     "output_type": "stream",
     "text": [
      "1/1 [==============================] - 0s 22ms/step\n"
     ]
    },
    {
     "name": "stderr",
     "output_type": "stream",
     "text": [
      "OCR nos crops:  94%|█████████▍| 18787/20029 [1:18:23<04:33,  4.55img/s]"
     ]
    },
    {
     "name": "stdout",
     "output_type": "stream",
     "text": [
      "1/1 [==============================] - 0s 25ms/step\n"
     ]
    },
    {
     "name": "stderr",
     "output_type": "stream",
     "text": [
      "OCR nos crops:  94%|█████████▍| 18788/20029 [1:18:23<04:34,  4.52img/s]"
     ]
    },
    {
     "name": "stdout",
     "output_type": "stream",
     "text": [
      "1/1 [==============================] - 0s 25ms/step\n"
     ]
    },
    {
     "name": "stderr",
     "output_type": "stream",
     "text": [
      "OCR nos crops:  94%|█████████▍| 18789/20029 [1:18:23<04:33,  4.54img/s]"
     ]
    },
    {
     "name": "stdout",
     "output_type": "stream",
     "text": [
      "1/1 [==============================] - 0s 25ms/step\n"
     ]
    },
    {
     "name": "stderr",
     "output_type": "stream",
     "text": [
      "OCR nos crops:  94%|█████████▍| 18790/20029 [1:18:23<04:33,  4.53img/s]"
     ]
    },
    {
     "name": "stdout",
     "output_type": "stream",
     "text": [
      "1/1 [==============================] - 0s 24ms/step\n"
     ]
    },
    {
     "name": "stderr",
     "output_type": "stream",
     "text": [
      "OCR nos crops:  94%|█████████▍| 18791/20029 [1:18:24<04:33,  4.52img/s]"
     ]
    },
    {
     "name": "stdout",
     "output_type": "stream",
     "text": [
      "1/1 [==============================] - 0s 24ms/step\n"
     ]
    },
    {
     "name": "stderr",
     "output_type": "stream",
     "text": [
      "OCR nos crops:  94%|█████████▍| 18792/20029 [1:18:24<04:31,  4.55img/s]"
     ]
    },
    {
     "name": "stdout",
     "output_type": "stream",
     "text": [
      "1/1 [==============================] - 0s 31ms/step\n"
     ]
    },
    {
     "name": "stderr",
     "output_type": "stream",
     "text": [
      "OCR nos crops:  94%|█████████▍| 18793/20029 [1:18:24<04:34,  4.51img/s]"
     ]
    },
    {
     "name": "stdout",
     "output_type": "stream",
     "text": [
      "1/1 [==============================] - 0s 31ms/step\n"
     ]
    },
    {
     "name": "stderr",
     "output_type": "stream",
     "text": [
      "OCR nos crops:  94%|█████████▍| 18794/20029 [1:18:24<04:37,  4.45img/s]"
     ]
    },
    {
     "name": "stdout",
     "output_type": "stream",
     "text": [
      "1/1 [==============================] - 0s 38ms/step\n"
     ]
    },
    {
     "name": "stderr",
     "output_type": "stream",
     "text": [
      "OCR nos crops:  94%|█████████▍| 18795/20029 [1:18:24<04:39,  4.41img/s]"
     ]
    },
    {
     "name": "stdout",
     "output_type": "stream",
     "text": [
      "1/1 [==============================] - 0s 23ms/step\n"
     ]
    },
    {
     "name": "stderr",
     "output_type": "stream",
     "text": [
      "OCR nos crops:  94%|█████████▍| 18796/20029 [1:18:25<04:38,  4.44img/s]"
     ]
    },
    {
     "name": "stdout",
     "output_type": "stream",
     "text": [
      "1/1 [==============================] - 0s 24ms/step\n"
     ]
    },
    {
     "name": "stderr",
     "output_type": "stream",
     "text": [
      "OCR nos crops:  94%|█████████▍| 18797/20029 [1:18:25<04:36,  4.45img/s]"
     ]
    },
    {
     "name": "stdout",
     "output_type": "stream",
     "text": [
      "1/1 [==============================] - 0s 22ms/step\n"
     ]
    },
    {
     "name": "stderr",
     "output_type": "stream",
     "text": [
      "OCR nos crops:  94%|█████████▍| 18798/20029 [1:18:25<04:34,  4.48img/s]"
     ]
    },
    {
     "name": "stdout",
     "output_type": "stream",
     "text": [
      "1/1 [==============================] - 0s 21ms/step\n"
     ]
    },
    {
     "name": "stderr",
     "output_type": "stream",
     "text": [
      "OCR nos crops:  94%|█████████▍| 18799/20029 [1:18:25<04:31,  4.53img/s]"
     ]
    },
    {
     "name": "stdout",
     "output_type": "stream",
     "text": [
      "1/1 [==============================] - 0s 26ms/step\n"
     ]
    },
    {
     "name": "stderr",
     "output_type": "stream",
     "text": [
      "OCR nos crops:  94%|█████████▍| 18800/20029 [1:18:26<04:30,  4.54img/s]"
     ]
    },
    {
     "name": "stdout",
     "output_type": "stream",
     "text": [
      "1/1 [==============================] - 0s 24ms/step\n"
     ]
    },
    {
     "name": "stderr",
     "output_type": "stream",
     "text": [
      "OCR nos crops:  94%|█████████▍| 18801/20029 [1:18:26<04:29,  4.56img/s]"
     ]
    },
    {
     "name": "stdout",
     "output_type": "stream",
     "text": [
      "1/1 [==============================] - 0s 24ms/step\n"
     ]
    },
    {
     "name": "stderr",
     "output_type": "stream",
     "text": [
      "OCR nos crops:  94%|█████████▍| 18802/20029 [1:18:26<04:28,  4.57img/s]"
     ]
    },
    {
     "name": "stdout",
     "output_type": "stream",
     "text": [
      "1/1 [==============================] - 0s 24ms/step\n"
     ]
    },
    {
     "name": "stderr",
     "output_type": "stream",
     "text": [
      "OCR nos crops:  94%|█████████▍| 18803/20029 [1:18:26<04:28,  4.57img/s]"
     ]
    },
    {
     "name": "stdout",
     "output_type": "stream",
     "text": [
      "1/1 [==============================] - 0s 22ms/step\n"
     ]
    },
    {
     "name": "stderr",
     "output_type": "stream",
     "text": [
      "OCR nos crops:  94%|█████████▍| 18804/20029 [1:18:26<04:27,  4.59img/s]"
     ]
    },
    {
     "name": "stdout",
     "output_type": "stream",
     "text": [
      "1/1 [==============================] - 0s 23ms/step\n"
     ]
    },
    {
     "name": "stderr",
     "output_type": "stream",
     "text": [
      "OCR nos crops:  94%|█████████▍| 18805/20029 [1:18:27<04:25,  4.60img/s]"
     ]
    },
    {
     "name": "stdout",
     "output_type": "stream",
     "text": [
      "1/1 [==============================] - 0s 23ms/step\n"
     ]
    },
    {
     "name": "stderr",
     "output_type": "stream",
     "text": [
      "OCR nos crops:  94%|█████████▍| 18806/20029 [1:18:27<04:28,  4.56img/s]"
     ]
    },
    {
     "name": "stdout",
     "output_type": "stream",
     "text": [
      "1/1 [==============================] - 0s 22ms/step\n"
     ]
    },
    {
     "name": "stderr",
     "output_type": "stream",
     "text": [
      "OCR nos crops:  94%|█████████▍| 18807/20029 [1:18:27<04:24,  4.61img/s]"
     ]
    },
    {
     "name": "stdout",
     "output_type": "stream",
     "text": [
      "1/1 [==============================] - 0s 23ms/step\n"
     ]
    },
    {
     "name": "stderr",
     "output_type": "stream",
     "text": [
      "OCR nos crops:  94%|█████████▍| 18808/20029 [1:18:27<04:23,  4.63img/s]"
     ]
    },
    {
     "name": "stdout",
     "output_type": "stream",
     "text": [
      "1/1 [==============================] - 0s 23ms/step\n"
     ]
    },
    {
     "name": "stderr",
     "output_type": "stream",
     "text": [
      "OCR nos crops:  94%|█████████▍| 18809/20029 [1:18:28<04:24,  4.61img/s]"
     ]
    },
    {
     "name": "stdout",
     "output_type": "stream",
     "text": [
      "1/1 [==============================] - 0s 20ms/step\n"
     ]
    },
    {
     "name": "stderr",
     "output_type": "stream",
     "text": [
      "OCR nos crops:  94%|█████████▍| 18810/20029 [1:18:28<04:23,  4.63img/s]"
     ]
    },
    {
     "name": "stdout",
     "output_type": "stream",
     "text": [
      "1/1 [==============================] - 0s 25ms/step\n"
     ]
    },
    {
     "name": "stderr",
     "output_type": "stream",
     "text": [
      "OCR nos crops:  94%|█████████▍| 18811/20029 [1:18:28<04:23,  4.63img/s]"
     ]
    },
    {
     "name": "stdout",
     "output_type": "stream",
     "text": [
      "1/1 [==============================] - 0s 23ms/step\n"
     ]
    },
    {
     "name": "stderr",
     "output_type": "stream",
     "text": [
      "OCR nos crops:  94%|█████████▍| 18812/20029 [1:18:28<04:23,  4.62img/s]"
     ]
    },
    {
     "name": "stdout",
     "output_type": "stream",
     "text": [
      "1/1 [==============================] - 0s 24ms/step\n"
     ]
    },
    {
     "name": "stderr",
     "output_type": "stream",
     "text": [
      "OCR nos crops:  94%|█████████▍| 18813/20029 [1:18:28<04:24,  4.60img/s]"
     ]
    },
    {
     "name": "stdout",
     "output_type": "stream",
     "text": [
      "1/1 [==============================] - 0s 25ms/step\n"
     ]
    },
    {
     "name": "stderr",
     "output_type": "stream",
     "text": [
      "OCR nos crops:  94%|█████████▍| 18814/20029 [1:18:29<04:25,  4.57img/s]"
     ]
    },
    {
     "name": "stdout",
     "output_type": "stream",
     "text": [
      "1/1 [==============================] - 0s 38ms/step\n"
     ]
    },
    {
     "name": "stderr",
     "output_type": "stream",
     "text": [
      "OCR nos crops:  94%|█████████▍| 18815/20029 [1:18:29<04:30,  4.49img/s]"
     ]
    },
    {
     "name": "stdout",
     "output_type": "stream",
     "text": [
      "1/1 [==============================] - 0s 34ms/step\n"
     ]
    },
    {
     "name": "stderr",
     "output_type": "stream",
     "text": [
      "OCR nos crops:  94%|█████████▍| 18816/20029 [1:18:29<04:34,  4.41img/s]"
     ]
    },
    {
     "name": "stdout",
     "output_type": "stream",
     "text": [
      "1/1 [==============================] - 0s 39ms/step\n"
     ]
    },
    {
     "name": "stderr",
     "output_type": "stream",
     "text": [
      "OCR nos crops:  94%|█████████▍| 18817/20029 [1:18:29<04:38,  4.35img/s]"
     ]
    },
    {
     "name": "stdout",
     "output_type": "stream",
     "text": [
      "1/1 [==============================] - 0s 27ms/step\n"
     ]
    },
    {
     "name": "stderr",
     "output_type": "stream",
     "text": [
      "OCR nos crops:  94%|█████████▍| 18818/20029 [1:18:30<04:37,  4.37img/s]"
     ]
    },
    {
     "name": "stdout",
     "output_type": "stream",
     "text": [
      "1/1 [==============================] - 0s 34ms/step\n"
     ]
    },
    {
     "name": "stderr",
     "output_type": "stream",
     "text": [
      "OCR nos crops:  94%|█████████▍| 18819/20029 [1:18:30<04:36,  4.37img/s]"
     ]
    },
    {
     "name": "stdout",
     "output_type": "stream",
     "text": [
      "1/1 [==============================] - 0s 32ms/step\n"
     ]
    },
    {
     "name": "stderr",
     "output_type": "stream",
     "text": [
      "OCR nos crops:  94%|█████████▍| 18820/20029 [1:18:30<04:35,  4.40img/s]"
     ]
    },
    {
     "name": "stdout",
     "output_type": "stream",
     "text": [
      "1/1 [==============================] - 0s 38ms/step\n"
     ]
    },
    {
     "name": "stderr",
     "output_type": "stream",
     "text": [
      "OCR nos crops:  94%|█████████▍| 18821/20029 [1:18:30<04:34,  4.40img/s]"
     ]
    },
    {
     "name": "stdout",
     "output_type": "stream",
     "text": [
      "1/1 [==============================] - 0s 40ms/step\n"
     ]
    },
    {
     "name": "stderr",
     "output_type": "stream",
     "text": [
      "OCR nos crops:  94%|█████████▍| 18822/20029 [1:18:30<04:39,  4.33img/s]"
     ]
    },
    {
     "name": "stdout",
     "output_type": "stream",
     "text": [
      "1/1 [==============================] - 0s 41ms/step\n"
     ]
    },
    {
     "name": "stderr",
     "output_type": "stream",
     "text": [
      "OCR nos crops:  94%|█████████▍| 18823/20029 [1:18:31<04:41,  4.28img/s]"
     ]
    },
    {
     "name": "stdout",
     "output_type": "stream",
     "text": [
      "1/1 [==============================] - 0s 23ms/step\n"
     ]
    },
    {
     "name": "stderr",
     "output_type": "stream",
     "text": [
      "OCR nos crops:  94%|█████████▍| 18824/20029 [1:18:31<04:36,  4.36img/s]"
     ]
    },
    {
     "name": "stdout",
     "output_type": "stream",
     "text": [
      "1/1 [==============================] - 0s 20ms/step\n"
     ]
    },
    {
     "name": "stderr",
     "output_type": "stream",
     "text": [
      "OCR nos crops:  94%|█████████▍| 18825/20029 [1:18:31<04:32,  4.42img/s]"
     ]
    },
    {
     "name": "stdout",
     "output_type": "stream",
     "text": [
      "1/1 [==============================] - 0s 22ms/step\n"
     ]
    },
    {
     "name": "stderr",
     "output_type": "stream",
     "text": [
      "OCR nos crops:  94%|█████████▍| 18826/20029 [1:18:31<04:28,  4.49img/s]"
     ]
    },
    {
     "name": "stdout",
     "output_type": "stream",
     "text": [
      "1/1 [==============================] - 0s 22ms/step\n"
     ]
    },
    {
     "name": "stderr",
     "output_type": "stream",
     "text": [
      "OCR nos crops:  94%|█████████▍| 18827/20029 [1:18:32<04:27,  4.50img/s]"
     ]
    },
    {
     "name": "stdout",
     "output_type": "stream",
     "text": [
      "1/1 [==============================] - 0s 23ms/step\n"
     ]
    },
    {
     "name": "stderr",
     "output_type": "stream",
     "text": [
      "OCR nos crops:  94%|█████████▍| 18828/20029 [1:18:32<04:24,  4.54img/s]"
     ]
    },
    {
     "name": "stdout",
     "output_type": "stream",
     "text": [
      "1/1 [==============================] - 0s 22ms/step\n"
     ]
    },
    {
     "name": "stderr",
     "output_type": "stream",
     "text": [
      "OCR nos crops:  94%|█████████▍| 18829/20029 [1:18:32<04:22,  4.57img/s]"
     ]
    },
    {
     "name": "stdout",
     "output_type": "stream",
     "text": [
      "1/1 [==============================] - 0s 26ms/step\n"
     ]
    },
    {
     "name": "stderr",
     "output_type": "stream",
     "text": [
      "OCR nos crops:  94%|█████████▍| 18830/20029 [1:18:32<04:23,  4.56img/s]"
     ]
    },
    {
     "name": "stdout",
     "output_type": "stream",
     "text": [
      "1/1 [==============================] - 0s 23ms/step\n"
     ]
    },
    {
     "name": "stderr",
     "output_type": "stream",
     "text": [
      "OCR nos crops:  94%|█████████▍| 18831/20029 [1:18:32<04:21,  4.59img/s]"
     ]
    },
    {
     "name": "stdout",
     "output_type": "stream",
     "text": [
      "1/1 [==============================] - 0s 24ms/step\n"
     ]
    },
    {
     "name": "stderr",
     "output_type": "stream",
     "text": [
      "OCR nos crops:  94%|█████████▍| 18832/20029 [1:18:33<04:22,  4.55img/s]"
     ]
    },
    {
     "name": "stdout",
     "output_type": "stream",
     "text": [
      "1/1 [==============================] - 0s 24ms/step\n"
     ]
    },
    {
     "name": "stderr",
     "output_type": "stream",
     "text": [
      "OCR nos crops:  94%|█████████▍| 18833/20029 [1:18:33<04:26,  4.49img/s]"
     ]
    },
    {
     "name": "stdout",
     "output_type": "stream",
     "text": [
      "1/1 [==============================] - 0s 24ms/step\n"
     ]
    },
    {
     "name": "stderr",
     "output_type": "stream",
     "text": [
      "OCR nos crops:  94%|█████████▍| 18834/20029 [1:18:33<04:28,  4.45img/s]"
     ]
    },
    {
     "name": "stdout",
     "output_type": "stream",
     "text": [
      "1/1 [==============================] - 0s 24ms/step\n"
     ]
    },
    {
     "name": "stderr",
     "output_type": "stream",
     "text": [
      "OCR nos crops:  94%|█████████▍| 18835/20029 [1:18:33<04:27,  4.47img/s]"
     ]
    },
    {
     "name": "stdout",
     "output_type": "stream",
     "text": [
      "1/1 [==============================] - 0s 22ms/step\n"
     ]
    },
    {
     "name": "stderr",
     "output_type": "stream",
     "text": [
      "OCR nos crops:  94%|█████████▍| 18836/20029 [1:18:34<04:28,  4.45img/s]"
     ]
    },
    {
     "name": "stdout",
     "output_type": "stream",
     "text": [
      "1/1 [==============================] - 0s 21ms/step\n"
     ]
    },
    {
     "name": "stderr",
     "output_type": "stream",
     "text": [
      "OCR nos crops:  94%|█████████▍| 18837/20029 [1:18:34<04:24,  4.50img/s]"
     ]
    },
    {
     "name": "stdout",
     "output_type": "stream",
     "text": [
      "1/1 [==============================] - 0s 22ms/step\n"
     ]
    },
    {
     "name": "stderr",
     "output_type": "stream",
     "text": [
      "OCR nos crops:  94%|█████████▍| 18838/20029 [1:18:34<04:23,  4.52img/s]"
     ]
    },
    {
     "name": "stdout",
     "output_type": "stream",
     "text": [
      "1/1 [==============================] - 0s 24ms/step\n"
     ]
    },
    {
     "name": "stderr",
     "output_type": "stream",
     "text": [
      "OCR nos crops:  94%|█████████▍| 18839/20029 [1:18:34<04:23,  4.52img/s]"
     ]
    },
    {
     "name": "stdout",
     "output_type": "stream",
     "text": [
      "1/1 [==============================] - 0s 23ms/step\n"
     ]
    },
    {
     "name": "stderr",
     "output_type": "stream",
     "text": [
      "OCR nos crops:  94%|█████████▍| 18840/20029 [1:18:34<04:22,  4.53img/s]"
     ]
    },
    {
     "name": "stdout",
     "output_type": "stream",
     "text": [
      "1/1 [==============================] - 0s 22ms/step\n"
     ]
    },
    {
     "name": "stderr",
     "output_type": "stream",
     "text": [
      "OCR nos crops:  94%|█████████▍| 18841/20029 [1:18:35<04:22,  4.53img/s]"
     ]
    },
    {
     "name": "stdout",
     "output_type": "stream",
     "text": [
      "1/1 [==============================] - 0s 23ms/step\n"
     ]
    },
    {
     "name": "stderr",
     "output_type": "stream",
     "text": [
      "OCR nos crops:  94%|█████████▍| 18842/20029 [1:18:35<04:20,  4.56img/s]"
     ]
    },
    {
     "name": "stdout",
     "output_type": "stream",
     "text": [
      "1/1 [==============================] - 0s 24ms/step\n"
     ]
    },
    {
     "name": "stderr",
     "output_type": "stream",
     "text": [
      "OCR nos crops:  94%|█████████▍| 18843/20029 [1:18:35<04:24,  4.49img/s]"
     ]
    },
    {
     "name": "stdout",
     "output_type": "stream",
     "text": [
      "1/1 [==============================] - 0s 24ms/step\n"
     ]
    },
    {
     "name": "stderr",
     "output_type": "stream",
     "text": [
      "OCR nos crops:  94%|█████████▍| 18844/20029 [1:18:35<04:22,  4.52img/s]"
     ]
    },
    {
     "name": "stdout",
     "output_type": "stream",
     "text": [
      "1/1 [==============================] - 0s 24ms/step\n"
     ]
    },
    {
     "name": "stderr",
     "output_type": "stream",
     "text": [
      "OCR nos crops:  94%|█████████▍| 18845/20029 [1:18:36<04:24,  4.47img/s]"
     ]
    },
    {
     "name": "stdout",
     "output_type": "stream",
     "text": [
      "1/1 [==============================] - 0s 26ms/step\n"
     ]
    },
    {
     "name": "stderr",
     "output_type": "stream",
     "text": [
      "OCR nos crops:  94%|█████████▍| 18846/20029 [1:18:36<04:25,  4.46img/s]"
     ]
    },
    {
     "name": "stdout",
     "output_type": "stream",
     "text": [
      "1/1 [==============================] - 0s 33ms/step\n"
     ]
    },
    {
     "name": "stderr",
     "output_type": "stream",
     "text": [
      "OCR nos crops:  94%|█████████▍| 18847/20029 [1:18:36<04:28,  4.41img/s]"
     ]
    },
    {
     "name": "stdout",
     "output_type": "stream",
     "text": [
      "1/1 [==============================] - 0s 33ms/step\n"
     ]
    },
    {
     "name": "stderr",
     "output_type": "stream",
     "text": [
      "OCR nos crops:  94%|█████████▍| 18848/20029 [1:18:36<04:30,  4.36img/s]"
     ]
    },
    {
     "name": "stdout",
     "output_type": "stream",
     "text": [
      "1/1 [==============================] - 0s 31ms/step\n"
     ]
    },
    {
     "name": "stderr",
     "output_type": "stream",
     "text": [
      "OCR nos crops:  94%|█████████▍| 18849/20029 [1:18:37<04:33,  4.32img/s]"
     ]
    },
    {
     "name": "stdout",
     "output_type": "stream",
     "text": [
      "1/1 [==============================] - 0s 42ms/step\n"
     ]
    },
    {
     "name": "stderr",
     "output_type": "stream",
     "text": [
      "OCR nos crops:  94%|█████████▍| 18850/20029 [1:18:37<04:37,  4.24img/s]"
     ]
    },
    {
     "name": "stdout",
     "output_type": "stream",
     "text": [
      "1/1 [==============================] - 0s 33ms/step\n"
     ]
    },
    {
     "name": "stderr",
     "output_type": "stream",
     "text": [
      "OCR nos crops:  94%|█████████▍| 18851/20029 [1:18:37<04:38,  4.24img/s]"
     ]
    },
    {
     "name": "stdout",
     "output_type": "stream",
     "text": [
      "1/1 [==============================] - 0s 35ms/step\n"
     ]
    },
    {
     "name": "stderr",
     "output_type": "stream",
     "text": [
      "OCR nos crops:  94%|█████████▍| 18852/20029 [1:18:37<04:37,  4.24img/s]"
     ]
    },
    {
     "name": "stdout",
     "output_type": "stream",
     "text": [
      "1/1 [==============================] - 0s 42ms/step\n"
     ]
    },
    {
     "name": "stderr",
     "output_type": "stream",
     "text": [
      "OCR nos crops:  94%|█████████▍| 18853/20029 [1:18:37<04:40,  4.20img/s]"
     ]
    },
    {
     "name": "stdout",
     "output_type": "stream",
     "text": [
      "1/1 [==============================] - 0s 36ms/step\n"
     ]
    },
    {
     "name": "stderr",
     "output_type": "stream",
     "text": [
      "OCR nos crops:  94%|█████████▍| 18854/20029 [1:18:38<04:37,  4.23img/s]"
     ]
    },
    {
     "name": "stdout",
     "output_type": "stream",
     "text": [
      "1/1 [==============================] - 0s 23ms/step\n"
     ]
    },
    {
     "name": "stderr",
     "output_type": "stream",
     "text": [
      "OCR nos crops:  94%|█████████▍| 18855/20029 [1:18:38<04:31,  4.32img/s]"
     ]
    },
    {
     "name": "stdout",
     "output_type": "stream",
     "text": [
      "1/1 [==============================] - 0s 22ms/step\n"
     ]
    },
    {
     "name": "stderr",
     "output_type": "stream",
     "text": [
      "OCR nos crops:  94%|█████████▍| 18856/20029 [1:18:38<04:25,  4.42img/s]"
     ]
    },
    {
     "name": "stdout",
     "output_type": "stream",
     "text": [
      "1/1 [==============================] - 0s 23ms/step\n"
     ]
    },
    {
     "name": "stderr",
     "output_type": "stream",
     "text": [
      "OCR nos crops:  94%|█████████▍| 18857/20029 [1:18:38<04:23,  4.44img/s]"
     ]
    },
    {
     "name": "stdout",
     "output_type": "stream",
     "text": [
      "1/1 [==============================] - 0s 23ms/step\n"
     ]
    },
    {
     "name": "stderr",
     "output_type": "stream",
     "text": [
      "OCR nos crops:  94%|█████████▍| 18858/20029 [1:18:39<04:21,  4.48img/s]"
     ]
    },
    {
     "name": "stdout",
     "output_type": "stream",
     "text": [
      "1/1 [==============================] - 0s 21ms/step\n"
     ]
    },
    {
     "name": "stderr",
     "output_type": "stream",
     "text": [
      "OCR nos crops:  94%|█████████▍| 18859/20029 [1:18:39<04:18,  4.52img/s]"
     ]
    },
    {
     "name": "stdout",
     "output_type": "stream",
     "text": [
      "1/1 [==============================] - 0s 22ms/step\n"
     ]
    },
    {
     "name": "stderr",
     "output_type": "stream",
     "text": [
      "OCR nos crops:  94%|█████████▍| 18860/20029 [1:18:39<04:18,  4.52img/s]"
     ]
    },
    {
     "name": "stdout",
     "output_type": "stream",
     "text": [
      "1/1 [==============================] - 0s 22ms/step\n"
     ]
    },
    {
     "name": "stderr",
     "output_type": "stream",
     "text": [
      "OCR nos crops:  94%|█████████▍| 18861/20029 [1:18:39<04:16,  4.56img/s]"
     ]
    },
    {
     "name": "stdout",
     "output_type": "stream",
     "text": [
      "1/1 [==============================] - 0s 21ms/step\n"
     ]
    },
    {
     "name": "stderr",
     "output_type": "stream",
     "text": [
      "OCR nos crops:  94%|█████████▍| 18862/20029 [1:18:39<04:16,  4.56img/s]"
     ]
    },
    {
     "name": "stdout",
     "output_type": "stream",
     "text": [
      "1/1 [==============================] - 0s 21ms/step\n"
     ]
    },
    {
     "name": "stderr",
     "output_type": "stream",
     "text": [
      "OCR nos crops:  94%|█████████▍| 18863/20029 [1:18:40<04:16,  4.55img/s]"
     ]
    },
    {
     "name": "stdout",
     "output_type": "stream",
     "text": [
      "1/1 [==============================] - 0s 21ms/step\n"
     ]
    },
    {
     "name": "stderr",
     "output_type": "stream",
     "text": [
      "OCR nos crops:  94%|█████████▍| 18864/20029 [1:18:40<04:13,  4.59img/s]"
     ]
    },
    {
     "name": "stdout",
     "output_type": "stream",
     "text": [
      "1/1 [==============================] - 0s 23ms/step\n"
     ]
    },
    {
     "name": "stderr",
     "output_type": "stream",
     "text": [
      "OCR nos crops:  94%|█████████▍| 18865/20029 [1:18:40<04:13,  4.60img/s]"
     ]
    },
    {
     "name": "stdout",
     "output_type": "stream",
     "text": [
      "1/1 [==============================] - 0s 21ms/step\n"
     ]
    },
    {
     "name": "stderr",
     "output_type": "stream",
     "text": [
      "OCR nos crops:  94%|█████████▍| 18866/20029 [1:18:40<04:13,  4.58img/s]"
     ]
    },
    {
     "name": "stdout",
     "output_type": "stream",
     "text": [
      "1/1 [==============================] - 0s 23ms/step\n"
     ]
    },
    {
     "name": "stderr",
     "output_type": "stream",
     "text": [
      "OCR nos crops:  94%|█████████▍| 18867/20029 [1:18:41<04:14,  4.56img/s]"
     ]
    },
    {
     "name": "stdout",
     "output_type": "stream",
     "text": [
      "1/1 [==============================] - 0s 22ms/step\n"
     ]
    },
    {
     "name": "stderr",
     "output_type": "stream",
     "text": [
      "OCR nos crops:  94%|█████████▍| 18868/20029 [1:18:41<04:12,  4.61img/s]"
     ]
    },
    {
     "name": "stdout",
     "output_type": "stream",
     "text": [
      "1/1 [==============================] - 0s 22ms/step\n"
     ]
    },
    {
     "name": "stderr",
     "output_type": "stream",
     "text": [
      "OCR nos crops:  94%|█████████▍| 18869/20029 [1:18:41<04:13,  4.57img/s]"
     ]
    },
    {
     "name": "stdout",
     "output_type": "stream",
     "text": [
      "1/1 [==============================] - 0s 25ms/step\n"
     ]
    },
    {
     "name": "stderr",
     "output_type": "stream",
     "text": [
      "OCR nos crops:  94%|█████████▍| 18870/20029 [1:18:41<04:13,  4.57img/s]"
     ]
    },
    {
     "name": "stdout",
     "output_type": "stream",
     "text": [
      "1/1 [==============================] - 0s 24ms/step\n"
     ]
    },
    {
     "name": "stderr",
     "output_type": "stream",
     "text": [
      "OCR nos crops:  94%|█████████▍| 18871/20029 [1:18:41<04:13,  4.56img/s]"
     ]
    },
    {
     "name": "stdout",
     "output_type": "stream",
     "text": [
      "1/1 [==============================] - 0s 23ms/step\n"
     ]
    },
    {
     "name": "stderr",
     "output_type": "stream",
     "text": [
      "OCR nos crops:  94%|█████████▍| 18872/20029 [1:18:42<04:13,  4.56img/s]"
     ]
    },
    {
     "name": "stdout",
     "output_type": "stream",
     "text": [
      "1/1 [==============================] - 0s 24ms/step\n"
     ]
    },
    {
     "name": "stderr",
     "output_type": "stream",
     "text": [
      "OCR nos crops:  94%|█████████▍| 18873/20029 [1:18:42<04:13,  4.56img/s]"
     ]
    },
    {
     "name": "stdout",
     "output_type": "stream",
     "text": [
      "1/1 [==============================] - 0s 25ms/step\n"
     ]
    },
    {
     "name": "stderr",
     "output_type": "stream",
     "text": [
      "OCR nos crops:  94%|█████████▍| 18874/20029 [1:18:42<04:15,  4.53img/s]"
     ]
    },
    {
     "name": "stdout",
     "output_type": "stream",
     "text": [
      "1/1 [==============================] - 0s 26ms/step\n"
     ]
    },
    {
     "name": "stderr",
     "output_type": "stream",
     "text": [
      "OCR nos crops:  94%|█████████▍| 18875/20029 [1:18:42<04:14,  4.54img/s]"
     ]
    },
    {
     "name": "stdout",
     "output_type": "stream",
     "text": [
      "1/1 [==============================] - 0s 27ms/step\n"
     ]
    },
    {
     "name": "stderr",
     "output_type": "stream",
     "text": [
      "OCR nos crops:  94%|█████████▍| 18876/20029 [1:18:43<04:13,  4.54img/s]"
     ]
    },
    {
     "name": "stdout",
     "output_type": "stream",
     "text": [
      "1/1 [==============================] - 0s 29ms/step\n"
     ]
    },
    {
     "name": "stderr",
     "output_type": "stream",
     "text": [
      "OCR nos crops:  94%|█████████▍| 18877/20029 [1:18:43<04:15,  4.51img/s]"
     ]
    },
    {
     "name": "stdout",
     "output_type": "stream",
     "text": [
      "1/1 [==============================] - 0s 23ms/step\n"
     ]
    },
    {
     "name": "stderr",
     "output_type": "stream",
     "text": [
      "OCR nos crops:  94%|█████████▍| 18878/20029 [1:18:43<04:15,  4.50img/s]"
     ]
    },
    {
     "name": "stdout",
     "output_type": "stream",
     "text": [
      "1/1 [==============================] - 0s 24ms/step\n"
     ]
    },
    {
     "name": "stderr",
     "output_type": "stream",
     "text": [
      "OCR nos crops:  94%|█████████▍| 18879/20029 [1:18:43<04:14,  4.52img/s]"
     ]
    },
    {
     "name": "stdout",
     "output_type": "stream",
     "text": [
      "1/1 [==============================] - 0s 22ms/step\n"
     ]
    },
    {
     "name": "stderr",
     "output_type": "stream",
     "text": [
      "OCR nos crops:  94%|█████████▍| 18880/20029 [1:18:43<04:12,  4.55img/s]"
     ]
    },
    {
     "name": "stdout",
     "output_type": "stream",
     "text": [
      "1/1 [==============================] - 0s 22ms/step\n"
     ]
    },
    {
     "name": "stderr",
     "output_type": "stream",
     "text": [
      "OCR nos crops:  94%|█████████▍| 18881/20029 [1:18:44<04:12,  4.55img/s]"
     ]
    },
    {
     "name": "stdout",
     "output_type": "stream",
     "text": [
      "1/1 [==============================] - 0s 22ms/step\n"
     ]
    },
    {
     "name": "stderr",
     "output_type": "stream",
     "text": [
      "OCR nos crops:  94%|█████████▍| 18882/20029 [1:18:44<04:11,  4.57img/s]"
     ]
    },
    {
     "name": "stdout",
     "output_type": "stream",
     "text": [
      "1/1 [==============================] - 0s 22ms/step\n"
     ]
    },
    {
     "name": "stderr",
     "output_type": "stream",
     "text": [
      "OCR nos crops:  94%|█████████▍| 18883/20029 [1:18:44<04:10,  4.57img/s]"
     ]
    },
    {
     "name": "stdout",
     "output_type": "stream",
     "text": [
      "1/1 [==============================] - 0s 23ms/step\n"
     ]
    },
    {
     "name": "stderr",
     "output_type": "stream",
     "text": [
      "OCR nos crops:  94%|█████████▍| 18884/20029 [1:18:44<04:11,  4.55img/s]"
     ]
    },
    {
     "name": "stdout",
     "output_type": "stream",
     "text": [
      "1/1 [==============================] - 0s 23ms/step\n"
     ]
    },
    {
     "name": "stderr",
     "output_type": "stream",
     "text": [
      "OCR nos crops:  94%|█████████▍| 18885/20029 [1:18:44<04:11,  4.55img/s]"
     ]
    },
    {
     "name": "stdout",
     "output_type": "stream",
     "text": [
      "1/1 [==============================] - 0s 21ms/step\n"
     ]
    },
    {
     "name": "stderr",
     "output_type": "stream",
     "text": [
      "OCR nos crops:  94%|█████████▍| 18886/20029 [1:18:45<04:13,  4.51img/s]"
     ]
    },
    {
     "name": "stdout",
     "output_type": "stream",
     "text": [
      "1/1 [==============================] - 0s 27ms/step\n"
     ]
    },
    {
     "name": "stderr",
     "output_type": "stream",
     "text": [
      "OCR nos crops:  94%|█████████▍| 18887/20029 [1:18:45<04:12,  4.52img/s]"
     ]
    },
    {
     "name": "stdout",
     "output_type": "stream",
     "text": [
      "1/1 [==============================] - 0s 23ms/step\n"
     ]
    },
    {
     "name": "stderr",
     "output_type": "stream",
     "text": [
      "OCR nos crops:  94%|█████████▍| 18888/20029 [1:18:45<04:13,  4.51img/s]"
     ]
    },
    {
     "name": "stdout",
     "output_type": "stream",
     "text": [
      "1/1 [==============================] - 0s 23ms/step\n"
     ]
    },
    {
     "name": "stderr",
     "output_type": "stream",
     "text": [
      "OCR nos crops:  94%|█████████▍| 18889/20029 [1:18:45<04:10,  4.54img/s]"
     ]
    },
    {
     "name": "stdout",
     "output_type": "stream",
     "text": [
      "1/1 [==============================] - 0s 26ms/step\n"
     ]
    },
    {
     "name": "stderr",
     "output_type": "stream",
     "text": [
      "OCR nos crops:  94%|█████████▍| 18890/20029 [1:18:46<04:09,  4.56img/s]"
     ]
    },
    {
     "name": "stdout",
     "output_type": "stream",
     "text": [
      "1/1 [==============================] - 0s 23ms/step\n"
     ]
    },
    {
     "name": "stderr",
     "output_type": "stream",
     "text": [
      "OCR nos crops:  94%|█████████▍| 18891/20029 [1:18:46<04:07,  4.59img/s]"
     ]
    },
    {
     "name": "stdout",
     "output_type": "stream",
     "text": [
      "1/1 [==============================] - 0s 23ms/step\n"
     ]
    },
    {
     "name": "stderr",
     "output_type": "stream",
     "text": [
      "OCR nos crops:  94%|█████████▍| 18892/20029 [1:18:46<04:07,  4.60img/s]"
     ]
    },
    {
     "name": "stdout",
     "output_type": "stream",
     "text": [
      "1/1 [==============================] - 0s 22ms/step\n"
     ]
    },
    {
     "name": "stderr",
     "output_type": "stream",
     "text": [
      "OCR nos crops:  94%|█████████▍| 18893/20029 [1:18:46<04:07,  4.59img/s]"
     ]
    },
    {
     "name": "stdout",
     "output_type": "stream",
     "text": [
      "1/1 [==============================] - 0s 24ms/step\n"
     ]
    },
    {
     "name": "stderr",
     "output_type": "stream",
     "text": [
      "OCR nos crops:  94%|█████████▍| 18894/20029 [1:18:46<04:06,  4.60img/s]"
     ]
    },
    {
     "name": "stdout",
     "output_type": "stream",
     "text": [
      "1/1 [==============================] - 0s 25ms/step\n"
     ]
    },
    {
     "name": "stderr",
     "output_type": "stream",
     "text": [
      "OCR nos crops:  94%|█████████▍| 18895/20029 [1:18:47<04:08,  4.57img/s]"
     ]
    },
    {
     "name": "stdout",
     "output_type": "stream",
     "text": [
      "1/1 [==============================] - 0s 27ms/step\n"
     ]
    },
    {
     "name": "stderr",
     "output_type": "stream",
     "text": [
      "OCR nos crops:  94%|█████████▍| 18896/20029 [1:18:47<04:08,  4.57img/s]"
     ]
    },
    {
     "name": "stdout",
     "output_type": "stream",
     "text": [
      "1/1 [==============================] - 0s 25ms/step\n"
     ]
    },
    {
     "name": "stderr",
     "output_type": "stream",
     "text": [
      "OCR nos crops:  94%|█████████▍| 18897/20029 [1:18:47<04:08,  4.56img/s]"
     ]
    },
    {
     "name": "stdout",
     "output_type": "stream",
     "text": [
      "1/1 [==============================] - 0s 23ms/step\n"
     ]
    },
    {
     "name": "stderr",
     "output_type": "stream",
     "text": [
      "OCR nos crops:  94%|█████████▍| 18898/20029 [1:18:47<04:06,  4.59img/s]"
     ]
    },
    {
     "name": "stdout",
     "output_type": "stream",
     "text": [
      "1/1 [==============================] - 0s 22ms/step\n"
     ]
    },
    {
     "name": "stderr",
     "output_type": "stream",
     "text": [
      "OCR nos crops:  94%|█████████▍| 18899/20029 [1:18:48<04:05,  4.60img/s]"
     ]
    },
    {
     "name": "stdout",
     "output_type": "stream",
     "text": [
      "1/1 [==============================] - 0s 23ms/step\n"
     ]
    },
    {
     "name": "stderr",
     "output_type": "stream",
     "text": [
      "OCR nos crops:  94%|█████████▍| 18900/20029 [1:18:48<04:07,  4.56img/s]"
     ]
    },
    {
     "name": "stdout",
     "output_type": "stream",
     "text": [
      "1/1 [==============================] - 0s 38ms/step\n"
     ]
    },
    {
     "name": "stderr",
     "output_type": "stream",
     "text": [
      "OCR nos crops:  94%|█████████▍| 18901/20029 [1:18:48<04:15,  4.41img/s]"
     ]
    },
    {
     "name": "stdout",
     "output_type": "stream",
     "text": [
      "1/1 [==============================] - 0s 33ms/step\n"
     ]
    },
    {
     "name": "stderr",
     "output_type": "stream",
     "text": [
      "OCR nos crops:  94%|█████████▍| 18902/20029 [1:18:48<04:15,  4.42img/s]"
     ]
    },
    {
     "name": "stdout",
     "output_type": "stream",
     "text": [
      "1/1 [==============================] - 0s 40ms/step\n"
     ]
    },
    {
     "name": "stderr",
     "output_type": "stream",
     "text": [
      "OCR nos crops:  94%|█████████▍| 18903/20029 [1:18:48<04:20,  4.33img/s]"
     ]
    },
    {
     "name": "stdout",
     "output_type": "stream",
     "text": [
      "1/1 [==============================] - 0s 33ms/step\n"
     ]
    },
    {
     "name": "stderr",
     "output_type": "stream",
     "text": [
      "OCR nos crops:  94%|█████████▍| 18904/20029 [1:18:49<04:17,  4.37img/s]"
     ]
    },
    {
     "name": "stdout",
     "output_type": "stream",
     "text": [
      "1/1 [==============================] - 0s 32ms/step\n"
     ]
    },
    {
     "name": "stderr",
     "output_type": "stream",
     "text": [
      "OCR nos crops:  94%|█████████▍| 18905/20029 [1:18:49<04:16,  4.38img/s]"
     ]
    },
    {
     "name": "stdout",
     "output_type": "stream",
     "text": [
      "1/1 [==============================] - 0s 32ms/step\n"
     ]
    },
    {
     "name": "stderr",
     "output_type": "stream",
     "text": [
      "OCR nos crops:  94%|█████████▍| 18906/20029 [1:18:49<04:17,  4.36img/s]"
     ]
    },
    {
     "name": "stdout",
     "output_type": "stream",
     "text": [
      "1/1 [==============================] - 0s 40ms/step\n"
     ]
    },
    {
     "name": "stderr",
     "output_type": "stream",
     "text": [
      "OCR nos crops:  94%|█████████▍| 18907/20029 [1:18:49<04:17,  4.37img/s]"
     ]
    },
    {
     "name": "stdout",
     "output_type": "stream",
     "text": [
      "1/1 [==============================] - 0s 35ms/step\n"
     ]
    },
    {
     "name": "stderr",
     "output_type": "stream",
     "text": [
      "OCR nos crops:  94%|█████████▍| 18908/20029 [1:18:50<04:20,  4.30img/s]"
     ]
    },
    {
     "name": "stdout",
     "output_type": "stream",
     "text": [
      "1/1 [==============================] - 0s 36ms/step\n"
     ]
    },
    {
     "name": "stderr",
     "output_type": "stream",
     "text": [
      "OCR nos crops:  94%|█████████▍| 18909/20029 [1:18:50<04:20,  4.31img/s]"
     ]
    },
    {
     "name": "stdout",
     "output_type": "stream",
     "text": [
      "1/1 [==============================] - 0s 38ms/step\n"
     ]
    },
    {
     "name": "stderr",
     "output_type": "stream",
     "text": [
      "OCR nos crops:  94%|█████████▍| 18910/20029 [1:18:50<04:21,  4.28img/s]"
     ]
    },
    {
     "name": "stdout",
     "output_type": "stream",
     "text": [
      "1/1 [==============================] - 0s 36ms/step\n"
     ]
    },
    {
     "name": "stderr",
     "output_type": "stream",
     "text": [
      "OCR nos crops:  94%|█████████▍| 18911/20029 [1:18:50<04:20,  4.28img/s]"
     ]
    },
    {
     "name": "stdout",
     "output_type": "stream",
     "text": [
      "1/1 [==============================] - 0s 39ms/step\n"
     ]
    },
    {
     "name": "stderr",
     "output_type": "stream",
     "text": [
      "OCR nos crops:  94%|█████████▍| 18912/20029 [1:18:51<04:21,  4.27img/s]"
     ]
    },
    {
     "name": "stdout",
     "output_type": "stream",
     "text": [
      "1/1 [==============================] - 0s 38ms/step\n"
     ]
    },
    {
     "name": "stderr",
     "output_type": "stream",
     "text": [
      "OCR nos crops:  94%|█████████▍| 18913/20029 [1:18:51<04:19,  4.29img/s]"
     ]
    },
    {
     "name": "stdout",
     "output_type": "stream",
     "text": [
      "1/1 [==============================] - 0s 37ms/step\n"
     ]
    },
    {
     "name": "stderr",
     "output_type": "stream",
     "text": [
      "OCR nos crops:  94%|█████████▍| 18914/20029 [1:18:51<04:20,  4.29img/s]"
     ]
    },
    {
     "name": "stdout",
     "output_type": "stream",
     "text": [
      "1/1 [==============================] - 0s 39ms/step\n"
     ]
    },
    {
     "name": "stderr",
     "output_type": "stream",
     "text": [
      "OCR nos crops:  94%|█████████▍| 18915/20029 [1:18:51<04:19,  4.30img/s]"
     ]
    },
    {
     "name": "stdout",
     "output_type": "stream",
     "text": [
      "1/1 [==============================] - 0s 37ms/step\n"
     ]
    },
    {
     "name": "stderr",
     "output_type": "stream",
     "text": [
      "OCR nos crops:  94%|█████████▍| 18916/20029 [1:18:52<04:19,  4.28img/s]"
     ]
    },
    {
     "name": "stdout",
     "output_type": "stream",
     "text": [
      "1/1 [==============================] - 0s 38ms/step\n"
     ]
    },
    {
     "name": "stderr",
     "output_type": "stream",
     "text": [
      "OCR nos crops:  94%|█████████▍| 18917/20029 [1:18:52<04:20,  4.27img/s]"
     ]
    },
    {
     "name": "stdout",
     "output_type": "stream",
     "text": [
      "1/1 [==============================] - 0s 42ms/step\n"
     ]
    },
    {
     "name": "stderr",
     "output_type": "stream",
     "text": [
      "OCR nos crops:  94%|█████████▍| 18918/20029 [1:18:52<04:23,  4.21img/s]"
     ]
    },
    {
     "name": "stdout",
     "output_type": "stream",
     "text": [
      "1/1 [==============================] - 0s 37ms/step\n"
     ]
    },
    {
     "name": "stderr",
     "output_type": "stream",
     "text": [
      "OCR nos crops:  94%|█████████▍| 18919/20029 [1:18:52<04:22,  4.23img/s]"
     ]
    },
    {
     "name": "stdout",
     "output_type": "stream",
     "text": [
      "1/1 [==============================] - 0s 41ms/step\n"
     ]
    },
    {
     "name": "stderr",
     "output_type": "stream",
     "text": [
      "OCR nos crops:  94%|█████████▍| 18920/20029 [1:18:52<04:23,  4.22img/s]"
     ]
    },
    {
     "name": "stdout",
     "output_type": "stream",
     "text": [
      "1/1 [==============================] - 0s 46ms/step\n"
     ]
    },
    {
     "name": "stderr",
     "output_type": "stream",
     "text": [
      "OCR nos crops:  94%|█████████▍| 18921/20029 [1:18:53<04:25,  4.17img/s]"
     ]
    },
    {
     "name": "stdout",
     "output_type": "stream",
     "text": [
      "1/1 [==============================] - 0s 51ms/step\n"
     ]
    },
    {
     "name": "stderr",
     "output_type": "stream",
     "text": [
      "OCR nos crops:  94%|█████████▍| 18922/20029 [1:18:53<04:27,  4.14img/s]"
     ]
    },
    {
     "name": "stdout",
     "output_type": "stream",
     "text": [
      "1/1 [==============================] - 0s 45ms/step\n"
     ]
    },
    {
     "name": "stderr",
     "output_type": "stream",
     "text": [
      "OCR nos crops:  94%|█████████▍| 18923/20029 [1:18:53<04:30,  4.08img/s]"
     ]
    },
    {
     "name": "stdout",
     "output_type": "stream",
     "text": [
      "1/1 [==============================] - 0s 42ms/step\n"
     ]
    },
    {
     "name": "stderr",
     "output_type": "stream",
     "text": [
      "OCR nos crops:  94%|█████████▍| 18924/20029 [1:18:53<04:29,  4.10img/s]"
     ]
    },
    {
     "name": "stdout",
     "output_type": "stream",
     "text": [
      "1/1 [==============================] - 0s 46ms/step\n"
     ]
    },
    {
     "name": "stderr",
     "output_type": "stream",
     "text": [
      "OCR nos crops:  94%|█████████▍| 18925/20029 [1:18:54<04:28,  4.11img/s]"
     ]
    },
    {
     "name": "stdout",
     "output_type": "stream",
     "text": [
      "1/1 [==============================] - 0s 42ms/step\n"
     ]
    },
    {
     "name": "stderr",
     "output_type": "stream",
     "text": [
      "OCR nos crops:  94%|█████████▍| 18926/20029 [1:18:54<04:28,  4.11img/s]"
     ]
    },
    {
     "name": "stdout",
     "output_type": "stream",
     "text": [
      "1/1 [==============================] - 0s 47ms/step\n"
     ]
    },
    {
     "name": "stderr",
     "output_type": "stream",
     "text": [
      "OCR nos crops:  94%|█████████▍| 18927/20029 [1:18:54<04:27,  4.11img/s]"
     ]
    },
    {
     "name": "stdout",
     "output_type": "stream",
     "text": [
      "1/1 [==============================] - 0s 39ms/step\n"
     ]
    },
    {
     "name": "stderr",
     "output_type": "stream",
     "text": [
      "OCR nos crops:  95%|█████████▍| 18928/20029 [1:18:54<04:25,  4.14img/s]"
     ]
    },
    {
     "name": "stdout",
     "output_type": "stream",
     "text": [
      "1/1 [==============================] - 0s 47ms/step\n"
     ]
    },
    {
     "name": "stderr",
     "output_type": "stream",
     "text": [
      "OCR nos crops:  95%|█████████▍| 18929/20029 [1:18:55<04:28,  4.10img/s]"
     ]
    },
    {
     "name": "stdout",
     "output_type": "stream",
     "text": [
      "1/1 [==============================] - 0s 46ms/step\n"
     ]
    },
    {
     "name": "stderr",
     "output_type": "stream",
     "text": [
      "OCR nos crops:  95%|█████████▍| 18930/20029 [1:18:55<04:28,  4.10img/s]"
     ]
    },
    {
     "name": "stdout",
     "output_type": "stream",
     "text": [
      "1/1 [==============================] - 0s 49ms/step\n"
     ]
    },
    {
     "name": "stderr",
     "output_type": "stream",
     "text": [
      "OCR nos crops:  95%|█████████▍| 18931/20029 [1:18:55<04:28,  4.09img/s]"
     ]
    },
    {
     "name": "stdout",
     "output_type": "stream",
     "text": [
      "1/1 [==============================] - 0s 57ms/step\n"
     ]
    },
    {
     "name": "stderr",
     "output_type": "stream",
     "text": [
      "OCR nos crops:  95%|█████████▍| 18932/20029 [1:18:55<04:30,  4.05img/s]"
     ]
    },
    {
     "name": "stdout",
     "output_type": "stream",
     "text": [
      "1/1 [==============================] - 0s 55ms/step\n"
     ]
    },
    {
     "name": "stderr",
     "output_type": "stream",
     "text": [
      "OCR nos crops:  95%|█████████▍| 18933/20029 [1:18:56<04:32,  4.02img/s]"
     ]
    },
    {
     "name": "stdout",
     "output_type": "stream",
     "text": [
      "1/1 [==============================] - 0s 40ms/step\n"
     ]
    },
    {
     "name": "stderr",
     "output_type": "stream",
     "text": [
      "OCR nos crops:  95%|█████████▍| 18934/20029 [1:18:56<04:29,  4.06img/s]"
     ]
    },
    {
     "name": "stdout",
     "output_type": "stream",
     "text": [
      "1/1 [==============================] - 0s 44ms/step\n"
     ]
    },
    {
     "name": "stderr",
     "output_type": "stream",
     "text": [
      "OCR nos crops:  95%|█████████▍| 18935/20029 [1:18:56<04:26,  4.10img/s]"
     ]
    },
    {
     "name": "stdout",
     "output_type": "stream",
     "text": [
      "1/1 [==============================] - 0s 51ms/step\n"
     ]
    },
    {
     "name": "stderr",
     "output_type": "stream",
     "text": [
      "OCR nos crops:  95%|█████████▍| 18936/20029 [1:18:56<04:26,  4.10img/s]"
     ]
    },
    {
     "name": "stdout",
     "output_type": "stream",
     "text": [
      "1/1 [==============================] - 0s 44ms/step\n"
     ]
    },
    {
     "name": "stderr",
     "output_type": "stream",
     "text": [
      "OCR nos crops:  95%|█████████▍| 18937/20029 [1:18:57<04:23,  4.14img/s]"
     ]
    },
    {
     "name": "stdout",
     "output_type": "stream",
     "text": [
      "1/1 [==============================] - 0s 47ms/step\n"
     ]
    },
    {
     "name": "stderr",
     "output_type": "stream",
     "text": [
      "OCR nos crops:  95%|█████████▍| 18938/20029 [1:18:57<04:22,  4.15img/s]"
     ]
    },
    {
     "name": "stdout",
     "output_type": "stream",
     "text": [
      "1/1 [==============================] - 0s 39ms/step\n"
     ]
    },
    {
     "name": "stderr",
     "output_type": "stream",
     "text": [
      "OCR nos crops:  95%|█████████▍| 18939/20029 [1:18:57<04:19,  4.20img/s]"
     ]
    },
    {
     "name": "stdout",
     "output_type": "stream",
     "text": [
      "1/1 [==============================] - 0s 44ms/step\n"
     ]
    },
    {
     "name": "stderr",
     "output_type": "stream",
     "text": [
      "OCR nos crops:  95%|█████████▍| 18940/20029 [1:18:57<04:19,  4.20img/s]"
     ]
    },
    {
     "name": "stdout",
     "output_type": "stream",
     "text": [
      "1/1 [==============================] - 0s 45ms/step\n"
     ]
    },
    {
     "name": "stderr",
     "output_type": "stream",
     "text": [
      "OCR nos crops:  95%|█████████▍| 18941/20029 [1:18:58<04:19,  4.19img/s]"
     ]
    },
    {
     "name": "stdout",
     "output_type": "stream",
     "text": [
      "1/1 [==============================] - 0s 49ms/step\n"
     ]
    },
    {
     "name": "stderr",
     "output_type": "stream",
     "text": [
      "OCR nos crops:  95%|█████████▍| 18942/20029 [1:18:58<04:19,  4.18img/s]"
     ]
    },
    {
     "name": "stdout",
     "output_type": "stream",
     "text": [
      "1/1 [==============================] - 0s 45ms/step\n"
     ]
    },
    {
     "name": "stderr",
     "output_type": "stream",
     "text": [
      "OCR nos crops:  95%|█████████▍| 18943/20029 [1:18:58<04:18,  4.20img/s]"
     ]
    },
    {
     "name": "stdout",
     "output_type": "stream",
     "text": [
      "1/1 [==============================] - 0s 38ms/step\n"
     ]
    },
    {
     "name": "stderr",
     "output_type": "stream",
     "text": [
      "OCR nos crops:  95%|█████████▍| 18944/20029 [1:18:58<04:16,  4.23img/s]"
     ]
    },
    {
     "name": "stdout",
     "output_type": "stream",
     "text": [
      "1/1 [==============================] - 0s 56ms/step\n"
     ]
    },
    {
     "name": "stderr",
     "output_type": "stream",
     "text": [
      "OCR nos crops:  95%|█████████▍| 18945/20029 [1:18:59<04:22,  4.13img/s]"
     ]
    },
    {
     "name": "stdout",
     "output_type": "stream",
     "text": [
      "1/1 [==============================] - 0s 52ms/step\n"
     ]
    },
    {
     "name": "stderr",
     "output_type": "stream",
     "text": [
      "OCR nos crops:  95%|█████████▍| 18946/20029 [1:18:59<04:25,  4.07img/s]"
     ]
    },
    {
     "name": "stdout",
     "output_type": "stream",
     "text": [
      "1/1 [==============================] - 0s 41ms/step\n"
     ]
    },
    {
     "name": "stderr",
     "output_type": "stream",
     "text": [
      "OCR nos crops:  95%|█████████▍| 18947/20029 [1:18:59<04:21,  4.14img/s]"
     ]
    },
    {
     "name": "stdout",
     "output_type": "stream",
     "text": [
      "1/1 [==============================] - 0s 41ms/step\n"
     ]
    },
    {
     "name": "stderr",
     "output_type": "stream",
     "text": [
      "OCR nos crops:  95%|█████████▍| 18948/20029 [1:18:59<04:18,  4.18img/s]"
     ]
    },
    {
     "name": "stdout",
     "output_type": "stream",
     "text": [
      "1/1 [==============================] - 0s 46ms/step\n"
     ]
    },
    {
     "name": "stderr",
     "output_type": "stream",
     "text": [
      "OCR nos crops:  95%|█████████▍| 18949/20029 [1:19:00<04:19,  4.16img/s]"
     ]
    },
    {
     "name": "stdout",
     "output_type": "stream",
     "text": [
      "1/1 [==============================] - 0s 43ms/step\n"
     ]
    },
    {
     "name": "stderr",
     "output_type": "stream",
     "text": [
      "OCR nos crops:  95%|█████████▍| 18950/20029 [1:19:00<04:17,  4.18img/s]"
     ]
    },
    {
     "name": "stdout",
     "output_type": "stream",
     "text": [
      "1/1 [==============================] - 0s 33ms/step\n"
     ]
    },
    {
     "name": "stderr",
     "output_type": "stream",
     "text": [
      "OCR nos crops:  95%|█████████▍| 18951/20029 [1:19:00<04:14,  4.24img/s]"
     ]
    },
    {
     "name": "stdout",
     "output_type": "stream",
     "text": [
      "1/1 [==============================] - 0s 42ms/step\n"
     ]
    },
    {
     "name": "stderr",
     "output_type": "stream",
     "text": [
      "OCR nos crops:  95%|█████████▍| 18952/20029 [1:19:00<04:13,  4.25img/s]"
     ]
    },
    {
     "name": "stdout",
     "output_type": "stream",
     "text": [
      "1/1 [==============================] - 0s 41ms/step\n"
     ]
    },
    {
     "name": "stderr",
     "output_type": "stream",
     "text": [
      "OCR nos crops:  95%|█████████▍| 18953/20029 [1:19:00<04:13,  4.25img/s]"
     ]
    },
    {
     "name": "stdout",
     "output_type": "stream",
     "text": [
      "1/1 [==============================] - 0s 40ms/step\n"
     ]
    },
    {
     "name": "stderr",
     "output_type": "stream",
     "text": [
      "OCR nos crops:  95%|█████████▍| 18954/20029 [1:19:01<04:12,  4.26img/s]"
     ]
    },
    {
     "name": "stdout",
     "output_type": "stream",
     "text": [
      "1/1 [==============================] - 0s 38ms/step\n"
     ]
    },
    {
     "name": "stderr",
     "output_type": "stream",
     "text": [
      "OCR nos crops:  95%|█████████▍| 18955/20029 [1:19:01<04:13,  4.24img/s]"
     ]
    },
    {
     "name": "stdout",
     "output_type": "stream",
     "text": [
      "1/1 [==============================] - 0s 38ms/step\n"
     ]
    },
    {
     "name": "stderr",
     "output_type": "stream",
     "text": [
      "OCR nos crops:  95%|█████████▍| 18956/20029 [1:19:01<04:11,  4.27img/s]"
     ]
    },
    {
     "name": "stdout",
     "output_type": "stream",
     "text": [
      "1/1 [==============================] - 0s 42ms/step\n"
     ]
    },
    {
     "name": "stderr",
     "output_type": "stream",
     "text": [
      "OCR nos crops:  95%|█████████▍| 18957/20029 [1:19:01<04:10,  4.28img/s]"
     ]
    },
    {
     "name": "stdout",
     "output_type": "stream",
     "text": [
      "1/1 [==============================] - 0s 41ms/step\n"
     ]
    },
    {
     "name": "stderr",
     "output_type": "stream",
     "text": [
      "OCR nos crops:  95%|█████████▍| 18958/20029 [1:19:02<04:11,  4.25img/s]"
     ]
    },
    {
     "name": "stdout",
     "output_type": "stream",
     "text": [
      "1/1 [==============================] - 0s 34ms/step\n"
     ]
    },
    {
     "name": "stderr",
     "output_type": "stream",
     "text": [
      "OCR nos crops:  95%|█████████▍| 18959/20029 [1:19:02<04:08,  4.30img/s]"
     ]
    },
    {
     "name": "stdout",
     "output_type": "stream",
     "text": [
      "1/1 [==============================] - 0s 45ms/step\n"
     ]
    },
    {
     "name": "stderr",
     "output_type": "stream",
     "text": [
      "OCR nos crops:  95%|█████████▍| 18960/20029 [1:19:02<04:09,  4.28img/s]"
     ]
    },
    {
     "name": "stdout",
     "output_type": "stream",
     "text": [
      "1/1 [==============================] - 0s 43ms/step\n"
     ]
    },
    {
     "name": "stderr",
     "output_type": "stream",
     "text": [
      "OCR nos crops:  95%|█████████▍| 18961/20029 [1:19:02<04:10,  4.26img/s]"
     ]
    },
    {
     "name": "stdout",
     "output_type": "stream",
     "text": [
      "1/1 [==============================] - 0s 38ms/step\n"
     ]
    },
    {
     "name": "stderr",
     "output_type": "stream",
     "text": [
      "OCR nos crops:  95%|█████████▍| 18962/20029 [1:19:03<04:08,  4.29img/s]"
     ]
    },
    {
     "name": "stdout",
     "output_type": "stream",
     "text": [
      "1/1 [==============================] - 0s 41ms/step\n"
     ]
    },
    {
     "name": "stderr",
     "output_type": "stream",
     "text": [
      "OCR nos crops:  95%|█████████▍| 18963/20029 [1:19:03<04:10,  4.26img/s]"
     ]
    },
    {
     "name": "stdout",
     "output_type": "stream",
     "text": [
      "1/1 [==============================] - 0s 38ms/step\n"
     ]
    },
    {
     "name": "stderr",
     "output_type": "stream",
     "text": [
      "OCR nos crops:  95%|█████████▍| 18964/20029 [1:19:03<04:10,  4.25img/s]"
     ]
    },
    {
     "name": "stdout",
     "output_type": "stream",
     "text": [
      "1/1 [==============================] - 0s 46ms/step\n"
     ]
    },
    {
     "name": "stderr",
     "output_type": "stream",
     "text": [
      "OCR nos crops:  95%|█████████▍| 18965/20029 [1:19:03<04:14,  4.17img/s]"
     ]
    },
    {
     "name": "stdout",
     "output_type": "stream",
     "text": [
      "1/1 [==============================] - 0s 40ms/step\n"
     ]
    },
    {
     "name": "stderr",
     "output_type": "stream",
     "text": [
      "OCR nos crops:  95%|█████████▍| 18966/20029 [1:19:03<04:10,  4.24img/s]"
     ]
    },
    {
     "name": "stdout",
     "output_type": "stream",
     "text": [
      "1/1 [==============================] - 0s 40ms/step\n"
     ]
    },
    {
     "name": "stderr",
     "output_type": "stream",
     "text": [
      "OCR nos crops:  95%|█████████▍| 18967/20029 [1:19:04<04:10,  4.24img/s]"
     ]
    },
    {
     "name": "stdout",
     "output_type": "stream",
     "text": [
      "1/1 [==============================] - 0s 42ms/step\n"
     ]
    },
    {
     "name": "stderr",
     "output_type": "stream",
     "text": [
      "OCR nos crops:  95%|█████████▍| 18968/20029 [1:19:04<04:09,  4.26img/s]"
     ]
    },
    {
     "name": "stdout",
     "output_type": "stream",
     "text": [
      "1/1 [==============================] - 0s 36ms/step\n"
     ]
    },
    {
     "name": "stderr",
     "output_type": "stream",
     "text": [
      "OCR nos crops:  95%|█████████▍| 18969/20029 [1:19:04<04:06,  4.29img/s]"
     ]
    },
    {
     "name": "stdout",
     "output_type": "stream",
     "text": [
      "1/1 [==============================] - 0s 44ms/step\n"
     ]
    },
    {
     "name": "stderr",
     "output_type": "stream",
     "text": [
      "OCR nos crops:  95%|█████████▍| 18970/20029 [1:19:04<04:06,  4.30img/s]"
     ]
    },
    {
     "name": "stdout",
     "output_type": "stream",
     "text": [
      "1/1 [==============================] - 0s 46ms/step\n"
     ]
    },
    {
     "name": "stderr",
     "output_type": "stream",
     "text": [
      "OCR nos crops:  95%|█████████▍| 18971/20029 [1:19:05<04:09,  4.24img/s]"
     ]
    },
    {
     "name": "stdout",
     "output_type": "stream",
     "text": [
      "1/1 [==============================] - 0s 36ms/step\n"
     ]
    },
    {
     "name": "stderr",
     "output_type": "stream",
     "text": [
      "OCR nos crops:  95%|█████████▍| 18972/20029 [1:19:05<04:08,  4.26img/s]"
     ]
    },
    {
     "name": "stdout",
     "output_type": "stream",
     "text": [
      "1/1 [==============================] - 0s 37ms/step\n"
     ]
    },
    {
     "name": "stderr",
     "output_type": "stream",
     "text": [
      "OCR nos crops:  95%|█████████▍| 18973/20029 [1:19:05<04:06,  4.28img/s]"
     ]
    },
    {
     "name": "stdout",
     "output_type": "stream",
     "text": [
      "1/1 [==============================] - 0s 38ms/step\n"
     ]
    },
    {
     "name": "stderr",
     "output_type": "stream",
     "text": [
      "OCR nos crops:  95%|█████████▍| 18974/20029 [1:19:05<04:06,  4.27img/s]"
     ]
    },
    {
     "name": "stdout",
     "output_type": "stream",
     "text": [
      "1/1 [==============================] - 0s 45ms/step\n"
     ]
    },
    {
     "name": "stderr",
     "output_type": "stream",
     "text": [
      "OCR nos crops:  95%|█████████▍| 18975/20029 [1:19:06<04:08,  4.24img/s]"
     ]
    },
    {
     "name": "stdout",
     "output_type": "stream",
     "text": [
      "1/1 [==============================] - 0s 44ms/step\n"
     ]
    },
    {
     "name": "stderr",
     "output_type": "stream",
     "text": [
      "OCR nos crops:  95%|█████████▍| 18976/20029 [1:19:06<04:09,  4.23img/s]"
     ]
    },
    {
     "name": "stdout",
     "output_type": "stream",
     "text": [
      "1/1 [==============================] - 0s 47ms/step\n"
     ]
    },
    {
     "name": "stderr",
     "output_type": "stream",
     "text": [
      "OCR nos crops:  95%|█████████▍| 18977/20029 [1:19:06<04:09,  4.21img/s]"
     ]
    },
    {
     "name": "stdout",
     "output_type": "stream",
     "text": [
      "1/1 [==============================] - 0s 42ms/step\n"
     ]
    },
    {
     "name": "stderr",
     "output_type": "stream",
     "text": [
      "OCR nos crops:  95%|█████████▍| 18978/20029 [1:19:06<04:08,  4.22img/s]"
     ]
    },
    {
     "name": "stdout",
     "output_type": "stream",
     "text": [
      "1/1 [==============================] - 0s 38ms/step\n"
     ]
    },
    {
     "name": "stderr",
     "output_type": "stream",
     "text": [
      "OCR nos crops:  95%|█████████▍| 18979/20029 [1:19:07<04:07,  4.24img/s]"
     ]
    },
    {
     "name": "stdout",
     "output_type": "stream",
     "text": [
      "1/1 [==============================] - 0s 40ms/step\n"
     ]
    },
    {
     "name": "stderr",
     "output_type": "stream",
     "text": [
      "OCR nos crops:  95%|█████████▍| 18980/20029 [1:19:07<04:07,  4.24img/s]"
     ]
    },
    {
     "name": "stdout",
     "output_type": "stream",
     "text": [
      "1/1 [==============================] - 0s 49ms/step\n"
     ]
    },
    {
     "name": "stderr",
     "output_type": "stream",
     "text": [
      "OCR nos crops:  95%|█████████▍| 18981/20029 [1:19:07<04:09,  4.20img/s]"
     ]
    },
    {
     "name": "stdout",
     "output_type": "stream",
     "text": [
      "1/1 [==============================] - 0s 53ms/step\n"
     ]
    },
    {
     "name": "stderr",
     "output_type": "stream",
     "text": [
      "OCR nos crops:  95%|█████████▍| 18982/20029 [1:19:07<04:11,  4.16img/s]"
     ]
    },
    {
     "name": "stdout",
     "output_type": "stream",
     "text": [
      "1/1 [==============================] - 0s 46ms/step\n"
     ]
    },
    {
     "name": "stderr",
     "output_type": "stream",
     "text": [
      "OCR nos crops:  95%|█████████▍| 18983/20029 [1:19:08<04:12,  4.13img/s]"
     ]
    },
    {
     "name": "stdout",
     "output_type": "stream",
     "text": [
      "1/1 [==============================] - 0s 38ms/step\n"
     ]
    },
    {
     "name": "stderr",
     "output_type": "stream",
     "text": [
      "OCR nos crops:  95%|█████████▍| 18984/20029 [1:19:08<04:07,  4.22img/s]"
     ]
    },
    {
     "name": "stdout",
     "output_type": "stream",
     "text": [
      "1/1 [==============================] - 0s 44ms/step\n"
     ]
    },
    {
     "name": "stderr",
     "output_type": "stream",
     "text": [
      "OCR nos crops:  95%|█████████▍| 18985/20029 [1:19:08<04:08,  4.20img/s]"
     ]
    },
    {
     "name": "stdout",
     "output_type": "stream",
     "text": [
      "1/1 [==============================] - 0s 39ms/step\n"
     ]
    },
    {
     "name": "stderr",
     "output_type": "stream",
     "text": [
      "OCR nos crops:  95%|█████████▍| 18986/20029 [1:19:08<04:03,  4.28img/s]"
     ]
    },
    {
     "name": "stdout",
     "output_type": "stream",
     "text": [
      "1/1 [==============================] - 0s 36ms/step\n"
     ]
    },
    {
     "name": "stderr",
     "output_type": "stream",
     "text": [
      "OCR nos crops:  95%|█████████▍| 18987/20029 [1:19:08<04:01,  4.31img/s]"
     ]
    },
    {
     "name": "stdout",
     "output_type": "stream",
     "text": [
      "1/1 [==============================] - 0s 46ms/step\n"
     ]
    },
    {
     "name": "stderr",
     "output_type": "stream",
     "text": [
      "OCR nos crops:  95%|█████████▍| 18988/20029 [1:19:09<04:04,  4.26img/s]"
     ]
    },
    {
     "name": "stdout",
     "output_type": "stream",
     "text": [
      "1/1 [==============================] - 0s 49ms/step\n"
     ]
    },
    {
     "name": "stderr",
     "output_type": "stream",
     "text": [
      "OCR nos crops:  95%|█████████▍| 18989/20029 [1:19:09<04:06,  4.22img/s]"
     ]
    },
    {
     "name": "stdout",
     "output_type": "stream",
     "text": [
      "1/1 [==============================] - 0s 34ms/step\n"
     ]
    },
    {
     "name": "stderr",
     "output_type": "stream",
     "text": [
      "OCR nos crops:  95%|█████████▍| 18990/20029 [1:19:09<04:03,  4.27img/s]"
     ]
    },
    {
     "name": "stdout",
     "output_type": "stream",
     "text": [
      "1/1 [==============================] - 0s 38ms/step\n"
     ]
    },
    {
     "name": "stderr",
     "output_type": "stream",
     "text": [
      "OCR nos crops:  95%|█████████▍| 18991/20029 [1:19:09<04:03,  4.27img/s]"
     ]
    },
    {
     "name": "stdout",
     "output_type": "stream",
     "text": [
      "1/1 [==============================] - 0s 38ms/step\n"
     ]
    },
    {
     "name": "stderr",
     "output_type": "stream",
     "text": [
      "OCR nos crops:  95%|█████████▍| 18992/20029 [1:19:10<04:03,  4.27img/s]"
     ]
    },
    {
     "name": "stdout",
     "output_type": "stream",
     "text": [
      "1/1 [==============================] - 0s 34ms/step\n"
     ]
    },
    {
     "name": "stderr",
     "output_type": "stream",
     "text": [
      "OCR nos crops:  95%|█████████▍| 18993/20029 [1:19:10<04:00,  4.30img/s]"
     ]
    },
    {
     "name": "stdout",
     "output_type": "stream",
     "text": [
      "1/1 [==============================] - 0s 43ms/step\n"
     ]
    },
    {
     "name": "stderr",
     "output_type": "stream",
     "text": [
      "OCR nos crops:  95%|█████████▍| 18994/20029 [1:19:10<04:04,  4.23img/s]"
     ]
    },
    {
     "name": "stdout",
     "output_type": "stream",
     "text": [
      "1/1 [==============================] - 0s 43ms/step\n"
     ]
    },
    {
     "name": "stderr",
     "output_type": "stream",
     "text": [
      "OCR nos crops:  95%|█████████▍| 18995/20029 [1:19:10<04:04,  4.22img/s]"
     ]
    },
    {
     "name": "stdout",
     "output_type": "stream",
     "text": [
      "1/1 [==============================] - 0s 39ms/step\n"
     ]
    },
    {
     "name": "stderr",
     "output_type": "stream",
     "text": [
      "OCR nos crops:  95%|█████████▍| 18996/20029 [1:19:11<04:05,  4.21img/s]"
     ]
    },
    {
     "name": "stdout",
     "output_type": "stream",
     "text": [
      "1/1 [==============================] - 0s 48ms/step\n"
     ]
    },
    {
     "name": "stderr",
     "output_type": "stream",
     "text": [
      "OCR nos crops:  95%|█████████▍| 18997/20029 [1:19:11<04:06,  4.18img/s]"
     ]
    },
    {
     "name": "stdout",
     "output_type": "stream",
     "text": [
      "1/1 [==============================] - 0s 38ms/step\n"
     ]
    },
    {
     "name": "stderr",
     "output_type": "stream",
     "text": [
      "OCR nos crops:  95%|█████████▍| 18998/20029 [1:19:11<04:06,  4.17img/s]"
     ]
    },
    {
     "name": "stdout",
     "output_type": "stream",
     "text": [
      "1/1 [==============================] - 0s 38ms/step\n"
     ]
    },
    {
     "name": "stderr",
     "output_type": "stream",
     "text": [
      "OCR nos crops:  95%|█████████▍| 18999/20029 [1:19:11<04:04,  4.21img/s]"
     ]
    },
    {
     "name": "stdout",
     "output_type": "stream",
     "text": [
      "1/1 [==============================] - 0s 38ms/step\n"
     ]
    },
    {
     "name": "stderr",
     "output_type": "stream",
     "text": [
      "OCR nos crops:  95%|█████████▍| 19000/20029 [1:19:12<04:04,  4.21img/s]"
     ]
    },
    {
     "name": "stdout",
     "output_type": "stream",
     "text": [
      "1/1 [==============================] - 0s 45ms/step\n"
     ]
    },
    {
     "name": "stderr",
     "output_type": "stream",
     "text": [
      "OCR nos crops:  95%|█████████▍| 19001/20029 [1:19:12<04:06,  4.17img/s]"
     ]
    },
    {
     "name": "stdout",
     "output_type": "stream",
     "text": [
      "1/1 [==============================] - 0s 37ms/step\n"
     ]
    },
    {
     "name": "stderr",
     "output_type": "stream",
     "text": [
      "OCR nos crops:  95%|█████████▍| 19002/20029 [1:19:12<04:05,  4.19img/s]"
     ]
    },
    {
     "name": "stdout",
     "output_type": "stream",
     "text": [
      "1/1 [==============================] - 0s 44ms/step\n"
     ]
    },
    {
     "name": "stderr",
     "output_type": "stream",
     "text": [
      "OCR nos crops:  95%|█████████▍| 19003/20029 [1:19:12<04:07,  4.14img/s]"
     ]
    },
    {
     "name": "stdout",
     "output_type": "stream",
     "text": [
      "1/1 [==============================] - 0s 39ms/step\n"
     ]
    },
    {
     "name": "stderr",
     "output_type": "stream",
     "text": [
      "OCR nos crops:  95%|█████████▍| 19004/20029 [1:19:12<04:07,  4.13img/s]"
     ]
    },
    {
     "name": "stdout",
     "output_type": "stream",
     "text": [
      "1/1 [==============================] - 0s 45ms/step\n"
     ]
    },
    {
     "name": "stderr",
     "output_type": "stream",
     "text": [
      "OCR nos crops:  95%|█████████▍| 19005/20029 [1:19:13<04:04,  4.18img/s]"
     ]
    },
    {
     "name": "stdout",
     "output_type": "stream",
     "text": [
      "1/1 [==============================] - 0s 37ms/step\n"
     ]
    },
    {
     "name": "stderr",
     "output_type": "stream",
     "text": [
      "OCR nos crops:  95%|█████████▍| 19006/20029 [1:19:13<04:04,  4.19img/s]"
     ]
    },
    {
     "name": "stdout",
     "output_type": "stream",
     "text": [
      "1/1 [==============================] - 0s 50ms/step\n"
     ]
    },
    {
     "name": "stderr",
     "output_type": "stream",
     "text": [
      "OCR nos crops:  95%|█████████▍| 19007/20029 [1:19:13<04:05,  4.17img/s]"
     ]
    },
    {
     "name": "stdout",
     "output_type": "stream",
     "text": [
      "1/1 [==============================] - 0s 47ms/step\n"
     ]
    },
    {
     "name": "stderr",
     "output_type": "stream",
     "text": [
      "OCR nos crops:  95%|█████████▍| 19008/20029 [1:19:13<04:04,  4.17img/s]"
     ]
    },
    {
     "name": "stdout",
     "output_type": "stream",
     "text": [
      "1/1 [==============================] - 0s 44ms/step\n"
     ]
    },
    {
     "name": "stderr",
     "output_type": "stream",
     "text": [
      "OCR nos crops:  95%|█████████▍| 19009/20029 [1:19:14<04:03,  4.19img/s]"
     ]
    },
    {
     "name": "stdout",
     "output_type": "stream",
     "text": [
      "1/1 [==============================] - 0s 38ms/step\n"
     ]
    },
    {
     "name": "stderr",
     "output_type": "stream",
     "text": [
      "OCR nos crops:  95%|█████████▍| 19010/20029 [1:19:14<04:02,  4.20img/s]"
     ]
    },
    {
     "name": "stdout",
     "output_type": "stream",
     "text": [
      "1/1 [==============================] - 0s 48ms/step\n"
     ]
    },
    {
     "name": "stderr",
     "output_type": "stream",
     "text": [
      "OCR nos crops:  95%|█████████▍| 19011/20029 [1:19:14<04:06,  4.13img/s]"
     ]
    },
    {
     "name": "stdout",
     "output_type": "stream",
     "text": [
      "1/1 [==============================] - 0s 48ms/step\n"
     ]
    },
    {
     "name": "stderr",
     "output_type": "stream",
     "text": [
      "OCR nos crops:  95%|█████████▍| 19012/20029 [1:19:14<04:07,  4.11img/s]"
     ]
    },
    {
     "name": "stdout",
     "output_type": "stream",
     "text": [
      "1/1 [==============================] - 0s 42ms/step\n"
     ]
    },
    {
     "name": "stderr",
     "output_type": "stream",
     "text": [
      "OCR nos crops:  95%|█████████▍| 19013/20029 [1:19:15<04:06,  4.11img/s]"
     ]
    },
    {
     "name": "stdout",
     "output_type": "stream",
     "text": [
      "1/1 [==============================] - 0s 44ms/step\n"
     ]
    },
    {
     "name": "stderr",
     "output_type": "stream",
     "text": [
      "OCR nos crops:  95%|█████████▍| 19014/20029 [1:19:15<04:07,  4.10img/s]"
     ]
    },
    {
     "name": "stdout",
     "output_type": "stream",
     "text": [
      "1/1 [==============================] - 0s 44ms/step\n"
     ]
    },
    {
     "name": "stderr",
     "output_type": "stream",
     "text": [
      "OCR nos crops:  95%|█████████▍| 19015/20029 [1:19:15<04:05,  4.13img/s]"
     ]
    },
    {
     "name": "stdout",
     "output_type": "stream",
     "text": [
      "1/1 [==============================] - 0s 39ms/step\n"
     ]
    },
    {
     "name": "stderr",
     "output_type": "stream",
     "text": [
      "OCR nos crops:  95%|█████████▍| 19016/20029 [1:19:15<03:59,  4.24img/s]"
     ]
    },
    {
     "name": "stdout",
     "output_type": "stream",
     "text": [
      "1/1 [==============================] - 0s 40ms/step\n"
     ]
    },
    {
     "name": "stderr",
     "output_type": "stream",
     "text": [
      "OCR nos crops:  95%|█████████▍| 19017/20029 [1:19:16<03:59,  4.23img/s]"
     ]
    },
    {
     "name": "stdout",
     "output_type": "stream",
     "text": [
      "1/1 [==============================] - 0s 49ms/step\n"
     ]
    },
    {
     "name": "stderr",
     "output_type": "stream",
     "text": [
      "OCR nos crops:  95%|█████████▍| 19018/20029 [1:19:16<04:00,  4.20img/s]"
     ]
    },
    {
     "name": "stdout",
     "output_type": "stream",
     "text": [
      "1/1 [==============================] - 0s 44ms/step\n"
     ]
    },
    {
     "name": "stderr",
     "output_type": "stream",
     "text": [
      "OCR nos crops:  95%|█████████▍| 19019/20029 [1:19:16<04:01,  4.19img/s]"
     ]
    },
    {
     "name": "stdout",
     "output_type": "stream",
     "text": [
      "1/1 [==============================] - 0s 38ms/step\n"
     ]
    },
    {
     "name": "stderr",
     "output_type": "stream",
     "text": [
      "OCR nos crops:  95%|█████████▍| 19020/20029 [1:19:16<03:58,  4.23img/s]"
     ]
    },
    {
     "name": "stdout",
     "output_type": "stream",
     "text": [
      "1/1 [==============================] - 0s 42ms/step\n"
     ]
    },
    {
     "name": "stderr",
     "output_type": "stream",
     "text": [
      "OCR nos crops:  95%|█████████▍| 19021/20029 [1:19:17<03:57,  4.25img/s]"
     ]
    },
    {
     "name": "stdout",
     "output_type": "stream",
     "text": [
      "1/1 [==============================] - 0s 47ms/step\n"
     ]
    },
    {
     "name": "stderr",
     "output_type": "stream",
     "text": [
      "OCR nos crops:  95%|█████████▍| 19022/20029 [1:19:17<03:58,  4.23img/s]"
     ]
    },
    {
     "name": "stdout",
     "output_type": "stream",
     "text": [
      "1/1 [==============================] - 0s 41ms/step\n"
     ]
    },
    {
     "name": "stderr",
     "output_type": "stream",
     "text": [
      "OCR nos crops:  95%|█████████▍| 19023/20029 [1:19:17<04:00,  4.18img/s]"
     ]
    },
    {
     "name": "stdout",
     "output_type": "stream",
     "text": [
      "1/1 [==============================] - 0s 43ms/step\n"
     ]
    },
    {
     "name": "stderr",
     "output_type": "stream",
     "text": [
      "OCR nos crops:  95%|█████████▍| 19024/20029 [1:19:17<03:59,  4.20img/s]"
     ]
    },
    {
     "name": "stdout",
     "output_type": "stream",
     "text": [
      "1/1 [==============================] - 0s 39ms/step\n"
     ]
    },
    {
     "name": "stderr",
     "output_type": "stream",
     "text": [
      "OCR nos crops:  95%|█████████▍| 19025/20029 [1:19:17<03:56,  4.24img/s]"
     ]
    },
    {
     "name": "stdout",
     "output_type": "stream",
     "text": [
      "1/1 [==============================] - 0s 43ms/step\n"
     ]
    },
    {
     "name": "stderr",
     "output_type": "stream",
     "text": [
      "OCR nos crops:  95%|█████████▍| 19026/20029 [1:19:18<03:56,  4.24img/s]"
     ]
    },
    {
     "name": "stdout",
     "output_type": "stream",
     "text": [
      "1/1 [==============================] - 0s 39ms/step\n"
     ]
    },
    {
     "name": "stderr",
     "output_type": "stream",
     "text": [
      "OCR nos crops:  95%|█████████▍| 19027/20029 [1:19:18<03:54,  4.27img/s]"
     ]
    },
    {
     "name": "stdout",
     "output_type": "stream",
     "text": [
      "1/1 [==============================] - 0s 37ms/step\n"
     ]
    },
    {
     "name": "stderr",
     "output_type": "stream",
     "text": [
      "OCR nos crops:  95%|█████████▌| 19028/20029 [1:19:18<03:55,  4.25img/s]"
     ]
    },
    {
     "name": "stdout",
     "output_type": "stream",
     "text": [
      "1/1 [==============================] - 0s 39ms/step\n"
     ]
    },
    {
     "name": "stderr",
     "output_type": "stream",
     "text": [
      "OCR nos crops:  95%|█████████▌| 19029/20029 [1:19:18<03:54,  4.27img/s]"
     ]
    },
    {
     "name": "stdout",
     "output_type": "stream",
     "text": [
      "1/1 [==============================] - 0s 40ms/step\n"
     ]
    },
    {
     "name": "stderr",
     "output_type": "stream",
     "text": [
      "OCR nos crops:  95%|█████████▌| 19030/20029 [1:19:19<03:54,  4.26img/s]"
     ]
    },
    {
     "name": "stdout",
     "output_type": "stream",
     "text": [
      "1/1 [==============================] - 0s 47ms/step\n"
     ]
    },
    {
     "name": "stderr",
     "output_type": "stream",
     "text": [
      "OCR nos crops:  95%|█████████▌| 19031/20029 [1:19:19<03:53,  4.28img/s]"
     ]
    },
    {
     "name": "stdout",
     "output_type": "stream",
     "text": [
      "1/1 [==============================] - 0s 40ms/step\n"
     ]
    },
    {
     "name": "stderr",
     "output_type": "stream",
     "text": [
      "OCR nos crops:  95%|█████████▌| 19032/20029 [1:19:19<03:55,  4.23img/s]"
     ]
    },
    {
     "name": "stdout",
     "output_type": "stream",
     "text": [
      "1/1 [==============================] - 0s 40ms/step\n"
     ]
    },
    {
     "name": "stderr",
     "output_type": "stream",
     "text": [
      "OCR nos crops:  95%|█████████▌| 19033/20029 [1:19:19<03:54,  4.25img/s]"
     ]
    },
    {
     "name": "stdout",
     "output_type": "stream",
     "text": [
      "1/1 [==============================] - 0s 43ms/step\n"
     ]
    },
    {
     "name": "stderr",
     "output_type": "stream",
     "text": [
      "OCR nos crops:  95%|█████████▌| 19034/20029 [1:19:20<03:54,  4.24img/s]"
     ]
    },
    {
     "name": "stdout",
     "output_type": "stream",
     "text": [
      "1/1 [==============================] - 0s 45ms/step\n"
     ]
    },
    {
     "name": "stderr",
     "output_type": "stream",
     "text": [
      "OCR nos crops:  95%|█████████▌| 19035/20029 [1:19:20<03:55,  4.23img/s]"
     ]
    },
    {
     "name": "stdout",
     "output_type": "stream",
     "text": [
      "1/1 [==============================] - 0s 37ms/step\n"
     ]
    },
    {
     "name": "stderr",
     "output_type": "stream",
     "text": [
      "OCR nos crops:  95%|█████████▌| 19036/20029 [1:19:20<03:52,  4.26img/s]"
     ]
    },
    {
     "name": "stdout",
     "output_type": "stream",
     "text": [
      "1/1 [==============================] - 0s 46ms/step\n"
     ]
    },
    {
     "name": "stderr",
     "output_type": "stream",
     "text": [
      "OCR nos crops:  95%|█████████▌| 19037/20029 [1:19:20<03:53,  4.25img/s]"
     ]
    },
    {
     "name": "stdout",
     "output_type": "stream",
     "text": [
      "1/1 [==============================] - 0s 43ms/step\n"
     ]
    },
    {
     "name": "stderr",
     "output_type": "stream",
     "text": [
      "OCR nos crops:  95%|█████████▌| 19038/20029 [1:19:21<03:51,  4.27img/s]"
     ]
    },
    {
     "name": "stdout",
     "output_type": "stream",
     "text": [
      "1/1 [==============================] - 0s 46ms/step\n"
     ]
    },
    {
     "name": "stderr",
     "output_type": "stream",
     "text": [
      "OCR nos crops:  95%|█████████▌| 19039/20029 [1:19:21<03:55,  4.20img/s]"
     ]
    },
    {
     "name": "stdout",
     "output_type": "stream",
     "text": [
      "1/1 [==============================] - 0s 45ms/step\n"
     ]
    },
    {
     "name": "stderr",
     "output_type": "stream",
     "text": [
      "OCR nos crops:  95%|█████████▌| 19040/20029 [1:19:21<03:55,  4.20img/s]"
     ]
    },
    {
     "name": "stdout",
     "output_type": "stream",
     "text": [
      "1/1 [==============================] - 0s 44ms/step\n"
     ]
    },
    {
     "name": "stderr",
     "output_type": "stream",
     "text": [
      "OCR nos crops:  95%|█████████▌| 19041/20029 [1:19:21<03:56,  4.17img/s]"
     ]
    },
    {
     "name": "stdout",
     "output_type": "stream",
     "text": [
      "1/1 [==============================] - 0s 45ms/step\n"
     ]
    },
    {
     "name": "stderr",
     "output_type": "stream",
     "text": [
      "OCR nos crops:  95%|█████████▌| 19042/20029 [1:19:22<03:56,  4.18img/s]"
     ]
    },
    {
     "name": "stdout",
     "output_type": "stream",
     "text": [
      "1/1 [==============================] - 0s 43ms/step\n"
     ]
    },
    {
     "name": "stderr",
     "output_type": "stream",
     "text": [
      "OCR nos crops:  95%|█████████▌| 19043/20029 [1:19:22<03:55,  4.19img/s]"
     ]
    },
    {
     "name": "stdout",
     "output_type": "stream",
     "text": [
      "1/1 [==============================] - 0s 42ms/step\n"
     ]
    },
    {
     "name": "stderr",
     "output_type": "stream",
     "text": [
      "OCR nos crops:  95%|█████████▌| 19044/20029 [1:19:22<03:52,  4.23img/s]"
     ]
    },
    {
     "name": "stdout",
     "output_type": "stream",
     "text": [
      "1/1 [==============================] - 0s 54ms/step\n"
     ]
    },
    {
     "name": "stderr",
     "output_type": "stream",
     "text": [
      "OCR nos crops:  95%|█████████▌| 19045/20029 [1:19:22<03:56,  4.16img/s]"
     ]
    },
    {
     "name": "stdout",
     "output_type": "stream",
     "text": [
      "1/1 [==============================] - 0s 45ms/step\n"
     ]
    },
    {
     "name": "stderr",
     "output_type": "stream",
     "text": [
      "OCR nos crops:  95%|█████████▌| 19046/20029 [1:19:22<03:55,  4.18img/s]"
     ]
    },
    {
     "name": "stdout",
     "output_type": "stream",
     "text": [
      "1/1 [==============================] - 0s 40ms/step\n"
     ]
    },
    {
     "name": "stderr",
     "output_type": "stream",
     "text": [
      "OCR nos crops:  95%|█████████▌| 19047/20029 [1:19:23<03:54,  4.19img/s]"
     ]
    },
    {
     "name": "stdout",
     "output_type": "stream",
     "text": [
      "1/1 [==============================] - 0s 39ms/step\n"
     ]
    },
    {
     "name": "stderr",
     "output_type": "stream",
     "text": [
      "OCR nos crops:  95%|█████████▌| 19048/20029 [1:19:23<03:52,  4.21img/s]"
     ]
    },
    {
     "name": "stdout",
     "output_type": "stream",
     "text": [
      "1/1 [==============================] - 0s 38ms/step\n"
     ]
    },
    {
     "name": "stderr",
     "output_type": "stream",
     "text": [
      "OCR nos crops:  95%|█████████▌| 19049/20029 [1:19:23<03:51,  4.24img/s]"
     ]
    },
    {
     "name": "stdout",
     "output_type": "stream",
     "text": [
      "1/1 [==============================] - 0s 37ms/step\n"
     ]
    },
    {
     "name": "stderr",
     "output_type": "stream",
     "text": [
      "OCR nos crops:  95%|█████████▌| 19050/20029 [1:19:23<03:51,  4.22img/s]"
     ]
    },
    {
     "name": "stdout",
     "output_type": "stream",
     "text": [
      "1/1 [==============================] - 0s 45ms/step\n"
     ]
    },
    {
     "name": "stderr",
     "output_type": "stream",
     "text": [
      "OCR nos crops:  95%|█████████▌| 19051/20029 [1:19:24<03:53,  4.19img/s]"
     ]
    },
    {
     "name": "stdout",
     "output_type": "stream",
     "text": [
      "1/1 [==============================] - 0s 39ms/step\n"
     ]
    },
    {
     "name": "stderr",
     "output_type": "stream",
     "text": [
      "OCR nos crops:  95%|█████████▌| 19052/20029 [1:19:24<03:51,  4.23img/s]"
     ]
    },
    {
     "name": "stdout",
     "output_type": "stream",
     "text": [
      "1/1 [==============================] - 0s 39ms/step\n"
     ]
    },
    {
     "name": "stderr",
     "output_type": "stream",
     "text": [
      "OCR nos crops:  95%|█████████▌| 19053/20029 [1:19:24<03:50,  4.23img/s]"
     ]
    },
    {
     "name": "stdout",
     "output_type": "stream",
     "text": [
      "1/1 [==============================] - 0s 37ms/step\n"
     ]
    },
    {
     "name": "stderr",
     "output_type": "stream",
     "text": [
      "OCR nos crops:  95%|█████████▌| 19054/20029 [1:19:24<03:47,  4.28img/s]"
     ]
    },
    {
     "name": "stdout",
     "output_type": "stream",
     "text": [
      "1/1 [==============================] - 0s 46ms/step\n"
     ]
    },
    {
     "name": "stderr",
     "output_type": "stream",
     "text": [
      "OCR nos crops:  95%|█████████▌| 19055/20029 [1:19:25<03:48,  4.27img/s]"
     ]
    },
    {
     "name": "stdout",
     "output_type": "stream",
     "text": [
      "1/1 [==============================] - 0s 56ms/step\n"
     ]
    },
    {
     "name": "stderr",
     "output_type": "stream",
     "text": [
      "OCR nos crops:  95%|█████████▌| 19056/20029 [1:19:25<03:52,  4.18img/s]"
     ]
    },
    {
     "name": "stdout",
     "output_type": "stream",
     "text": [
      "1/1 [==============================] - 0s 38ms/step\n"
     ]
    },
    {
     "name": "stderr",
     "output_type": "stream",
     "text": [
      "OCR nos crops:  95%|█████████▌| 19057/20029 [1:19:25<03:51,  4.21img/s]"
     ]
    },
    {
     "name": "stdout",
     "output_type": "stream",
     "text": [
      "1/1 [==============================] - 0s 42ms/step\n"
     ]
    },
    {
     "name": "stderr",
     "output_type": "stream",
     "text": [
      "OCR nos crops:  95%|█████████▌| 19058/20029 [1:19:25<03:50,  4.22img/s]"
     ]
    },
    {
     "name": "stdout",
     "output_type": "stream",
     "text": [
      "1/1 [==============================] - 0s 44ms/step\n"
     ]
    },
    {
     "name": "stderr",
     "output_type": "stream",
     "text": [
      "OCR nos crops:  95%|█████████▌| 19059/20029 [1:19:26<03:49,  4.22img/s]"
     ]
    },
    {
     "name": "stdout",
     "output_type": "stream",
     "text": [
      "1/1 [==============================] - 0s 52ms/step\n"
     ]
    },
    {
     "name": "stderr",
     "output_type": "stream",
     "text": [
      "OCR nos crops:  95%|█████████▌| 19060/20029 [1:19:26<03:51,  4.19img/s]"
     ]
    },
    {
     "name": "stdout",
     "output_type": "stream",
     "text": [
      "1/1 [==============================] - 0s 43ms/step\n"
     ]
    },
    {
     "name": "stderr",
     "output_type": "stream",
     "text": [
      "OCR nos crops:  95%|█████████▌| 19061/20029 [1:19:26<03:50,  4.20img/s]"
     ]
    },
    {
     "name": "stdout",
     "output_type": "stream",
     "text": [
      "1/1 [==============================] - 0s 39ms/step\n"
     ]
    },
    {
     "name": "stderr",
     "output_type": "stream",
     "text": [
      "OCR nos crops:  95%|█████████▌| 19062/20029 [1:19:26<03:50,  4.20img/s]"
     ]
    },
    {
     "name": "stdout",
     "output_type": "stream",
     "text": [
      "1/1 [==============================] - 0s 37ms/step\n"
     ]
    },
    {
     "name": "stderr",
     "output_type": "stream",
     "text": [
      "OCR nos crops:  95%|█████████▌| 19063/20029 [1:19:26<03:48,  4.23img/s]"
     ]
    },
    {
     "name": "stdout",
     "output_type": "stream",
     "text": [
      "1/1 [==============================] - 0s 45ms/step\n"
     ]
    },
    {
     "name": "stderr",
     "output_type": "stream",
     "text": [
      "OCR nos crops:  95%|█████████▌| 19064/20029 [1:19:27<03:49,  4.20img/s]"
     ]
    },
    {
     "name": "stdout",
     "output_type": "stream",
     "text": [
      "1/1 [==============================] - 0s 41ms/step\n"
     ]
    },
    {
     "name": "stderr",
     "output_type": "stream",
     "text": [
      "OCR nos crops:  95%|█████████▌| 19065/20029 [1:19:27<03:49,  4.21img/s]"
     ]
    },
    {
     "name": "stdout",
     "output_type": "stream",
     "text": [
      "1/1 [==============================] - 0s 45ms/step\n"
     ]
    },
    {
     "name": "stderr",
     "output_type": "stream",
     "text": [
      "OCR nos crops:  95%|█████████▌| 19066/20029 [1:19:27<03:47,  4.23img/s]"
     ]
    },
    {
     "name": "stdout",
     "output_type": "stream",
     "text": [
      "1/1 [==============================] - 0s 43ms/step\n"
     ]
    },
    {
     "name": "stderr",
     "output_type": "stream",
     "text": [
      "OCR nos crops:  95%|█████████▌| 19067/20029 [1:19:27<03:45,  4.27img/s]"
     ]
    },
    {
     "name": "stdout",
     "output_type": "stream",
     "text": [
      "1/1 [==============================] - 0s 45ms/step\n"
     ]
    },
    {
     "name": "stderr",
     "output_type": "stream",
     "text": [
      "OCR nos crops:  95%|█████████▌| 19068/20029 [1:19:28<03:48,  4.20img/s]"
     ]
    },
    {
     "name": "stdout",
     "output_type": "stream",
     "text": [
      "1/1 [==============================] - 0s 44ms/step\n"
     ]
    },
    {
     "name": "stderr",
     "output_type": "stream",
     "text": [
      "OCR nos crops:  95%|█████████▌| 19069/20029 [1:19:28<03:48,  4.20img/s]"
     ]
    },
    {
     "name": "stdout",
     "output_type": "stream",
     "text": [
      "1/1 [==============================] - 0s 41ms/step\n"
     ]
    },
    {
     "name": "stderr",
     "output_type": "stream",
     "text": [
      "OCR nos crops:  95%|█████████▌| 19070/20029 [1:19:28<03:48,  4.20img/s]"
     ]
    },
    {
     "name": "stdout",
     "output_type": "stream",
     "text": [
      "1/1 [==============================] - 0s 41ms/step\n"
     ]
    },
    {
     "name": "stderr",
     "output_type": "stream",
     "text": [
      "OCR nos crops:  95%|█████████▌| 19071/20029 [1:19:28<03:45,  4.24img/s]"
     ]
    },
    {
     "name": "stdout",
     "output_type": "stream",
     "text": [
      "1/1 [==============================] - 0s 40ms/step\n"
     ]
    },
    {
     "name": "stderr",
     "output_type": "stream",
     "text": [
      "OCR nos crops:  95%|█████████▌| 19072/20029 [1:19:29<03:45,  4.24img/s]"
     ]
    },
    {
     "name": "stdout",
     "output_type": "stream",
     "text": [
      "1/1 [==============================] - 0s 51ms/step\n"
     ]
    },
    {
     "name": "stderr",
     "output_type": "stream",
     "text": [
      "OCR nos crops:  95%|█████████▌| 19073/20029 [1:19:29<03:48,  4.18img/s]"
     ]
    },
    {
     "name": "stdout",
     "output_type": "stream",
     "text": [
      "1/1 [==============================] - 0s 40ms/step\n"
     ]
    },
    {
     "name": "stderr",
     "output_type": "stream",
     "text": [
      "OCR nos crops:  95%|█████████▌| 19074/20029 [1:19:29<03:47,  4.20img/s]"
     ]
    },
    {
     "name": "stdout",
     "output_type": "stream",
     "text": [
      "1/1 [==============================] - 0s 36ms/step\n"
     ]
    },
    {
     "name": "stderr",
     "output_type": "stream",
     "text": [
      "OCR nos crops:  95%|█████████▌| 19075/20029 [1:19:29<03:46,  4.22img/s]"
     ]
    },
    {
     "name": "stdout",
     "output_type": "stream",
     "text": [
      "1/1 [==============================] - 0s 43ms/step\n"
     ]
    },
    {
     "name": "stderr",
     "output_type": "stream",
     "text": [
      "OCR nos crops:  95%|█████████▌| 19076/20029 [1:19:30<03:46,  4.21img/s]"
     ]
    },
    {
     "name": "stdout",
     "output_type": "stream",
     "text": [
      "1/1 [==============================] - 0s 41ms/step\n"
     ]
    },
    {
     "name": "stderr",
     "output_type": "stream",
     "text": [
      "OCR nos crops:  95%|█████████▌| 19077/20029 [1:19:30<03:47,  4.18img/s]"
     ]
    },
    {
     "name": "stdout",
     "output_type": "stream",
     "text": [
      "1/1 [==============================] - 0s 41ms/step\n"
     ]
    },
    {
     "name": "stderr",
     "output_type": "stream",
     "text": [
      "OCR nos crops:  95%|█████████▌| 19078/20029 [1:19:30<03:46,  4.20img/s]"
     ]
    },
    {
     "name": "stdout",
     "output_type": "stream",
     "text": [
      "1/1 [==============================] - 0s 45ms/step\n"
     ]
    },
    {
     "name": "stderr",
     "output_type": "stream",
     "text": [
      "OCR nos crops:  95%|█████████▌| 19079/20029 [1:19:30<03:49,  4.15img/s]"
     ]
    },
    {
     "name": "stdout",
     "output_type": "stream",
     "text": [
      "1/1 [==============================] - 0s 38ms/step\n"
     ]
    },
    {
     "name": "stderr",
     "output_type": "stream",
     "text": [
      "OCR nos crops:  95%|█████████▌| 19080/20029 [1:19:31<03:46,  4.18img/s]"
     ]
    },
    {
     "name": "stdout",
     "output_type": "stream",
     "text": [
      "1/1 [==============================] - 0s 38ms/step\n"
     ]
    },
    {
     "name": "stderr",
     "output_type": "stream",
     "text": [
      "OCR nos crops:  95%|█████████▌| 19081/20029 [1:19:31<03:45,  4.20img/s]"
     ]
    },
    {
     "name": "stdout",
     "output_type": "stream",
     "text": [
      "1/1 [==============================] - 0s 39ms/step\n"
     ]
    },
    {
     "name": "stderr",
     "output_type": "stream",
     "text": [
      "OCR nos crops:  95%|█████████▌| 19082/20029 [1:19:31<03:45,  4.20img/s]"
     ]
    },
    {
     "name": "stdout",
     "output_type": "stream",
     "text": [
      "1/1 [==============================] - 0s 45ms/step\n"
     ]
    },
    {
     "name": "stderr",
     "output_type": "stream",
     "text": [
      "OCR nos crops:  95%|█████████▌| 19083/20029 [1:19:31<03:45,  4.19img/s]"
     ]
    },
    {
     "name": "stdout",
     "output_type": "stream",
     "text": [
      "1/1 [==============================] - 0s 39ms/step\n"
     ]
    },
    {
     "name": "stderr",
     "output_type": "stream",
     "text": [
      "OCR nos crops:  95%|█████████▌| 19084/20029 [1:19:31<03:44,  4.21img/s]"
     ]
    },
    {
     "name": "stdout",
     "output_type": "stream",
     "text": [
      "1/1 [==============================] - 0s 39ms/step\n"
     ]
    },
    {
     "name": "stderr",
     "output_type": "stream",
     "text": [
      "OCR nos crops:  95%|█████████▌| 19085/20029 [1:19:32<03:44,  4.21img/s]"
     ]
    },
    {
     "name": "stdout",
     "output_type": "stream",
     "text": [
      "1/1 [==============================] - 0s 39ms/step\n"
     ]
    },
    {
     "name": "stderr",
     "output_type": "stream",
     "text": [
      "OCR nos crops:  95%|█████████▌| 19086/20029 [1:19:32<03:44,  4.20img/s]"
     ]
    },
    {
     "name": "stdout",
     "output_type": "stream",
     "text": [
      "1/1 [==============================] - 0s 44ms/step\n"
     ]
    },
    {
     "name": "stderr",
     "output_type": "stream",
     "text": [
      "OCR nos crops:  95%|█████████▌| 19087/20029 [1:19:32<03:45,  4.17img/s]"
     ]
    },
    {
     "name": "stdout",
     "output_type": "stream",
     "text": [
      "1/1 [==============================] - 0s 36ms/step\n"
     ]
    },
    {
     "name": "stderr",
     "output_type": "stream",
     "text": [
      "OCR nos crops:  95%|█████████▌| 19088/20029 [1:19:32<03:45,  4.18img/s]"
     ]
    },
    {
     "name": "stdout",
     "output_type": "stream",
     "text": [
      "1/1 [==============================] - 0s 47ms/step\n"
     ]
    },
    {
     "name": "stderr",
     "output_type": "stream",
     "text": [
      "OCR nos crops:  95%|█████████▌| 19089/20029 [1:19:33<03:47,  4.13img/s]"
     ]
    },
    {
     "name": "stdout",
     "output_type": "stream",
     "text": [
      "1/1 [==============================] - 0s 37ms/step\n"
     ]
    },
    {
     "name": "stderr",
     "output_type": "stream",
     "text": [
      "OCR nos crops:  95%|█████████▌| 19090/20029 [1:19:33<03:46,  4.15img/s]"
     ]
    },
    {
     "name": "stdout",
     "output_type": "stream",
     "text": [
      "1/1 [==============================] - 0s 44ms/step\n"
     ]
    },
    {
     "name": "stderr",
     "output_type": "stream",
     "text": [
      "OCR nos crops:  95%|█████████▌| 19091/20029 [1:19:33<03:47,  4.12img/s]"
     ]
    },
    {
     "name": "stdout",
     "output_type": "stream",
     "text": [
      "1/1 [==============================] - 0s 47ms/step\n"
     ]
    },
    {
     "name": "stderr",
     "output_type": "stream",
     "text": [
      "OCR nos crops:  95%|█████████▌| 19092/20029 [1:19:33<03:49,  4.09img/s]"
     ]
    },
    {
     "name": "stdout",
     "output_type": "stream",
     "text": [
      "1/1 [==============================] - 0s 39ms/step\n"
     ]
    },
    {
     "name": "stderr",
     "output_type": "stream",
     "text": [
      "OCR nos crops:  95%|█████████▌| 19093/20029 [1:19:34<03:47,  4.12img/s]"
     ]
    },
    {
     "name": "stdout",
     "output_type": "stream",
     "text": [
      "1/1 [==============================] - 0s 46ms/step\n"
     ]
    },
    {
     "name": "stderr",
     "output_type": "stream",
     "text": [
      "OCR nos crops:  95%|█████████▌| 19094/20029 [1:19:34<03:47,  4.10img/s]"
     ]
    },
    {
     "name": "stdout",
     "output_type": "stream",
     "text": [
      "1/1 [==============================] - 0s 49ms/step\n"
     ]
    },
    {
     "name": "stderr",
     "output_type": "stream",
     "text": [
      "OCR nos crops:  95%|█████████▌| 19095/20029 [1:19:34<03:49,  4.07img/s]"
     ]
    },
    {
     "name": "stdout",
     "output_type": "stream",
     "text": [
      "1/1 [==============================] - 0s 43ms/step\n"
     ]
    },
    {
     "name": "stderr",
     "output_type": "stream",
     "text": [
      "OCR nos crops:  95%|█████████▌| 19096/20029 [1:19:34<03:47,  4.10img/s]"
     ]
    },
    {
     "name": "stdout",
     "output_type": "stream",
     "text": [
      "1/1 [==============================] - 0s 45ms/step\n"
     ]
    },
    {
     "name": "stderr",
     "output_type": "stream",
     "text": [
      "OCR nos crops:  95%|█████████▌| 19097/20029 [1:19:35<03:46,  4.11img/s]"
     ]
    },
    {
     "name": "stdout",
     "output_type": "stream",
     "text": [
      "1/1 [==============================] - 0s 48ms/step\n"
     ]
    },
    {
     "name": "stderr",
     "output_type": "stream",
     "text": [
      "OCR nos crops:  95%|█████████▌| 19098/20029 [1:19:35<03:48,  4.07img/s]"
     ]
    },
    {
     "name": "stdout",
     "output_type": "stream",
     "text": [
      "1/1 [==============================] - 0s 44ms/step\n"
     ]
    },
    {
     "name": "stderr",
     "output_type": "stream",
     "text": [
      "OCR nos crops:  95%|█████████▌| 19099/20029 [1:19:35<03:47,  4.09img/s]"
     ]
    },
    {
     "name": "stdout",
     "output_type": "stream",
     "text": [
      "1/1 [==============================] - 0s 43ms/step\n"
     ]
    },
    {
     "name": "stderr",
     "output_type": "stream",
     "text": [
      "OCR nos crops:  95%|█████████▌| 19100/20029 [1:19:35<03:44,  4.14img/s]"
     ]
    },
    {
     "name": "stdout",
     "output_type": "stream",
     "text": [
      "1/1 [==============================] - 0s 42ms/step\n"
     ]
    },
    {
     "name": "stderr",
     "output_type": "stream",
     "text": [
      "OCR nos crops:  95%|█████████▌| 19101/20029 [1:19:36<03:42,  4.17img/s]"
     ]
    },
    {
     "name": "stdout",
     "output_type": "stream",
     "text": [
      "1/1 [==============================] - 0s 42ms/step\n"
     ]
    },
    {
     "name": "stderr",
     "output_type": "stream",
     "text": [
      "OCR nos crops:  95%|█████████▌| 19102/20029 [1:19:36<03:40,  4.20img/s]"
     ]
    },
    {
     "name": "stdout",
     "output_type": "stream",
     "text": [
      "1/1 [==============================] - 0s 40ms/step\n"
     ]
    },
    {
     "name": "stderr",
     "output_type": "stream",
     "text": [
      "OCR nos crops:  95%|█████████▌| 19103/20029 [1:19:36<03:42,  4.16img/s]"
     ]
    },
    {
     "name": "stdout",
     "output_type": "stream",
     "text": [
      "1/1 [==============================] - 0s 42ms/step\n"
     ]
    },
    {
     "name": "stderr",
     "output_type": "stream",
     "text": [
      "OCR nos crops:  95%|█████████▌| 19104/20029 [1:19:36<03:42,  4.15img/s]"
     ]
    },
    {
     "name": "stdout",
     "output_type": "stream",
     "text": [
      "1/1 [==============================] - 0s 48ms/step\n"
     ]
    },
    {
     "name": "stderr",
     "output_type": "stream",
     "text": [
      "OCR nos crops:  95%|█████████▌| 19105/20029 [1:19:37<03:41,  4.17img/s]"
     ]
    },
    {
     "name": "stdout",
     "output_type": "stream",
     "text": [
      "1/1 [==============================] - 0s 44ms/step\n"
     ]
    },
    {
     "name": "stderr",
     "output_type": "stream",
     "text": [
      "OCR nos crops:  95%|█████████▌| 19106/20029 [1:19:37<03:41,  4.17img/s]"
     ]
    },
    {
     "name": "stdout",
     "output_type": "stream",
     "text": [
      "1/1 [==============================] - 0s 43ms/step\n"
     ]
    },
    {
     "name": "stderr",
     "output_type": "stream",
     "text": [
      "OCR nos crops:  95%|█████████▌| 19107/20029 [1:19:37<03:40,  4.18img/s]"
     ]
    },
    {
     "name": "stdout",
     "output_type": "stream",
     "text": [
      "1/1 [==============================] - 0s 41ms/step\n"
     ]
    },
    {
     "name": "stderr",
     "output_type": "stream",
     "text": [
      "OCR nos crops:  95%|█████████▌| 19108/20029 [1:19:37<03:39,  4.20img/s]"
     ]
    },
    {
     "name": "stdout",
     "output_type": "stream",
     "text": [
      "1/1 [==============================] - 0s 38ms/step\n"
     ]
    },
    {
     "name": "stderr",
     "output_type": "stream",
     "text": [
      "OCR nos crops:  95%|█████████▌| 19109/20029 [1:19:38<03:37,  4.24img/s]"
     ]
    },
    {
     "name": "stdout",
     "output_type": "stream",
     "text": [
      "1/1 [==============================] - 0s 37ms/step\n"
     ]
    },
    {
     "name": "stderr",
     "output_type": "stream",
     "text": [
      "OCR nos crops:  95%|█████████▌| 19110/20029 [1:19:38<03:36,  4.25img/s]"
     ]
    },
    {
     "name": "stdout",
     "output_type": "stream",
     "text": [
      "1/1 [==============================] - 0s 43ms/step\n"
     ]
    },
    {
     "name": "stderr",
     "output_type": "stream",
     "text": [
      "OCR nos crops:  95%|█████████▌| 19111/20029 [1:19:38<03:38,  4.21img/s]"
     ]
    },
    {
     "name": "stdout",
     "output_type": "stream",
     "text": [
      "1/1 [==============================] - 0s 43ms/step\n"
     ]
    },
    {
     "name": "stderr",
     "output_type": "stream",
     "text": [
      "OCR nos crops:  95%|█████████▌| 19112/20029 [1:19:38<03:37,  4.21img/s]"
     ]
    },
    {
     "name": "stdout",
     "output_type": "stream",
     "text": [
      "1/1 [==============================] - 0s 42ms/step\n"
     ]
    },
    {
     "name": "stderr",
     "output_type": "stream",
     "text": [
      "OCR nos crops:  95%|█████████▌| 19113/20029 [1:19:38<03:37,  4.21img/s]"
     ]
    },
    {
     "name": "stdout",
     "output_type": "stream",
     "text": [
      "1/1 [==============================] - 0s 38ms/step\n"
     ]
    },
    {
     "name": "stderr",
     "output_type": "stream",
     "text": [
      "OCR nos crops:  95%|█████████▌| 19114/20029 [1:19:39<03:35,  4.24img/s]"
     ]
    },
    {
     "name": "stdout",
     "output_type": "stream",
     "text": [
      "1/1 [==============================] - 0s 38ms/step\n"
     ]
    },
    {
     "name": "stderr",
     "output_type": "stream",
     "text": [
      "OCR nos crops:  95%|█████████▌| 19115/20029 [1:19:39<03:33,  4.27img/s]"
     ]
    },
    {
     "name": "stdout",
     "output_type": "stream",
     "text": [
      "1/1 [==============================] - 0s 37ms/step\n"
     ]
    },
    {
     "name": "stderr",
     "output_type": "stream",
     "text": [
      "OCR nos crops:  95%|█████████▌| 19116/20029 [1:19:39<03:32,  4.29img/s]"
     ]
    },
    {
     "name": "stdout",
     "output_type": "stream",
     "text": [
      "1/1 [==============================] - 0s 38ms/step\n"
     ]
    },
    {
     "name": "stderr",
     "output_type": "stream",
     "text": [
      "OCR nos crops:  95%|█████████▌| 19117/20029 [1:19:39<03:32,  4.30img/s]"
     ]
    },
    {
     "name": "stdout",
     "output_type": "stream",
     "text": [
      "1/1 [==============================] - 0s 45ms/step\n"
     ]
    },
    {
     "name": "stderr",
     "output_type": "stream",
     "text": [
      "OCR nos crops:  95%|█████████▌| 19118/20029 [1:19:40<03:33,  4.27img/s]"
     ]
    },
    {
     "name": "stdout",
     "output_type": "stream",
     "text": [
      "1/1 [==============================] - 0s 41ms/step\n"
     ]
    },
    {
     "name": "stderr",
     "output_type": "stream",
     "text": [
      "OCR nos crops:  95%|█████████▌| 19119/20029 [1:19:40<03:35,  4.21img/s]"
     ]
    },
    {
     "name": "stdout",
     "output_type": "stream",
     "text": [
      "1/1 [==============================] - 0s 42ms/step\n"
     ]
    },
    {
     "name": "stderr",
     "output_type": "stream",
     "text": [
      "OCR nos crops:  95%|█████████▌| 19120/20029 [1:19:40<03:35,  4.23img/s]"
     ]
    },
    {
     "name": "stdout",
     "output_type": "stream",
     "text": [
      "1/1 [==============================] - 0s 45ms/step\n"
     ]
    },
    {
     "name": "stderr",
     "output_type": "stream",
     "text": [
      "OCR nos crops:  95%|█████████▌| 19121/20029 [1:19:40<03:36,  4.20img/s]"
     ]
    },
    {
     "name": "stdout",
     "output_type": "stream",
     "text": [
      "1/1 [==============================] - 0s 39ms/step\n"
     ]
    },
    {
     "name": "stderr",
     "output_type": "stream",
     "text": [
      "OCR nos crops:  95%|█████████▌| 19122/20029 [1:19:41<03:34,  4.23img/s]"
     ]
    },
    {
     "name": "stdout",
     "output_type": "stream",
     "text": [
      "1/1 [==============================] - 0s 40ms/step\n"
     ]
    },
    {
     "name": "stderr",
     "output_type": "stream",
     "text": [
      "OCR nos crops:  95%|█████████▌| 19123/20029 [1:19:41<03:35,  4.21img/s]"
     ]
    },
    {
     "name": "stdout",
     "output_type": "stream",
     "text": [
      "1/1 [==============================] - 0s 46ms/step\n"
     ]
    },
    {
     "name": "stderr",
     "output_type": "stream",
     "text": [
      "OCR nos crops:  95%|█████████▌| 19124/20029 [1:19:41<03:35,  4.20img/s]"
     ]
    },
    {
     "name": "stdout",
     "output_type": "stream",
     "text": [
      "1/1 [==============================] - 0s 38ms/step\n"
     ]
    },
    {
     "name": "stderr",
     "output_type": "stream",
     "text": [
      "OCR nos crops:  95%|█████████▌| 19125/20029 [1:19:41<03:33,  4.24img/s]"
     ]
    },
    {
     "name": "stdout",
     "output_type": "stream",
     "text": [
      "1/1 [==============================] - 0s 44ms/step\n"
     ]
    },
    {
     "name": "stderr",
     "output_type": "stream",
     "text": [
      "OCR nos crops:  95%|█████████▌| 19126/20029 [1:19:42<03:32,  4.24img/s]"
     ]
    },
    {
     "name": "stdout",
     "output_type": "stream",
     "text": [
      "1/1 [==============================] - 0s 43ms/step\n"
     ]
    },
    {
     "name": "stderr",
     "output_type": "stream",
     "text": [
      "OCR nos crops:  95%|█████████▌| 19127/20029 [1:19:42<03:35,  4.19img/s]"
     ]
    },
    {
     "name": "stdout",
     "output_type": "stream",
     "text": [
      "1/1 [==============================] - 0s 45ms/step\n"
     ]
    },
    {
     "name": "stderr",
     "output_type": "stream",
     "text": [
      "OCR nos crops:  96%|█████████▌| 19128/20029 [1:19:42<03:36,  4.16img/s]"
     ]
    },
    {
     "name": "stdout",
     "output_type": "stream",
     "text": [
      "1/1 [==============================] - 0s 39ms/step\n"
     ]
    },
    {
     "name": "stderr",
     "output_type": "stream",
     "text": [
      "OCR nos crops:  96%|█████████▌| 19129/20029 [1:19:42<03:34,  4.20img/s]"
     ]
    },
    {
     "name": "stdout",
     "output_type": "stream",
     "text": [
      "1/1 [==============================] - 0s 38ms/step\n"
     ]
    },
    {
     "name": "stderr",
     "output_type": "stream",
     "text": [
      "OCR nos crops:  96%|█████████▌| 19130/20029 [1:19:42<03:33,  4.21img/s]"
     ]
    },
    {
     "name": "stdout",
     "output_type": "stream",
     "text": [
      "1/1 [==============================] - 0s 39ms/step\n"
     ]
    },
    {
     "name": "stderr",
     "output_type": "stream",
     "text": [
      "OCR nos crops:  96%|█████████▌| 19131/20029 [1:19:43<03:31,  4.24img/s]"
     ]
    },
    {
     "name": "stdout",
     "output_type": "stream",
     "text": [
      "1/1 [==============================] - 0s 40ms/step\n"
     ]
    },
    {
     "name": "stderr",
     "output_type": "stream",
     "text": [
      "OCR nos crops:  96%|█████████▌| 19132/20029 [1:19:43<03:30,  4.26img/s]"
     ]
    },
    {
     "name": "stdout",
     "output_type": "stream",
     "text": [
      "1/1 [==============================] - 0s 40ms/step\n"
     ]
    },
    {
     "name": "stderr",
     "output_type": "stream",
     "text": [
      "OCR nos crops:  96%|█████████▌| 19133/20029 [1:19:43<03:29,  4.27img/s]"
     ]
    },
    {
     "name": "stdout",
     "output_type": "stream",
     "text": [
      "1/1 [==============================] - 0s 43ms/step\n"
     ]
    },
    {
     "name": "stderr",
     "output_type": "stream",
     "text": [
      "OCR nos crops:  96%|█████████▌| 19134/20029 [1:19:43<03:30,  4.25img/s]"
     ]
    },
    {
     "name": "stdout",
     "output_type": "stream",
     "text": [
      "1/1 [==============================] - 0s 39ms/step\n"
     ]
    },
    {
     "name": "stderr",
     "output_type": "stream",
     "text": [
      "OCR nos crops:  96%|█████████▌| 19135/20029 [1:19:44<03:32,  4.22img/s]"
     ]
    },
    {
     "name": "stdout",
     "output_type": "stream",
     "text": [
      "1/1 [==============================] - 0s 44ms/step\n"
     ]
    },
    {
     "name": "stderr",
     "output_type": "stream",
     "text": [
      "OCR nos crops:  96%|█████████▌| 19136/20029 [1:19:44<03:32,  4.19img/s]"
     ]
    },
    {
     "name": "stdout",
     "output_type": "stream",
     "text": [
      "1/1 [==============================] - 0s 41ms/step\n"
     ]
    },
    {
     "name": "stderr",
     "output_type": "stream",
     "text": [
      "OCR nos crops:  96%|█████████▌| 19137/20029 [1:19:44<03:31,  4.23img/s]"
     ]
    },
    {
     "name": "stdout",
     "output_type": "stream",
     "text": [
      "1/1 [==============================] - 0s 39ms/step\n"
     ]
    },
    {
     "name": "stderr",
     "output_type": "stream",
     "text": [
      "OCR nos crops:  96%|█████████▌| 19138/20029 [1:19:44<03:31,  4.20img/s]"
     ]
    },
    {
     "name": "stdout",
     "output_type": "stream",
     "text": [
      "1/1 [==============================] - 0s 45ms/step\n"
     ]
    },
    {
     "name": "stderr",
     "output_type": "stream",
     "text": [
      "OCR nos crops:  96%|█████████▌| 19139/20029 [1:19:45<03:34,  4.15img/s]"
     ]
    },
    {
     "name": "stdout",
     "output_type": "stream",
     "text": [
      "1/1 [==============================] - 0s 46ms/step\n"
     ]
    },
    {
     "name": "stderr",
     "output_type": "stream",
     "text": [
      "OCR nos crops:  96%|█████████▌| 19140/20029 [1:19:45<03:34,  4.15img/s]"
     ]
    },
    {
     "name": "stdout",
     "output_type": "stream",
     "text": [
      "1/1 [==============================] - 0s 39ms/step\n"
     ]
    },
    {
     "name": "stderr",
     "output_type": "stream",
     "text": [
      "OCR nos crops:  96%|█████████▌| 19141/20029 [1:19:45<03:32,  4.19img/s]"
     ]
    },
    {
     "name": "stdout",
     "output_type": "stream",
     "text": [
      "1/1 [==============================] - 0s 42ms/step\n"
     ]
    },
    {
     "name": "stderr",
     "output_type": "stream",
     "text": [
      "OCR nos crops:  96%|█████████▌| 19142/20029 [1:19:45<03:30,  4.21img/s]"
     ]
    },
    {
     "name": "stdout",
     "output_type": "stream",
     "text": [
      "1/1 [==============================] - 0s 39ms/step\n"
     ]
    },
    {
     "name": "stderr",
     "output_type": "stream",
     "text": [
      "OCR nos crops:  96%|█████████▌| 19143/20029 [1:19:46<03:32,  4.16img/s]"
     ]
    },
    {
     "name": "stdout",
     "output_type": "stream",
     "text": [
      "1/1 [==============================] - 0s 46ms/step\n"
     ]
    },
    {
     "name": "stderr",
     "output_type": "stream",
     "text": [
      "OCR nos crops:  96%|█████████▌| 19144/20029 [1:19:46<03:32,  4.16img/s]"
     ]
    },
    {
     "name": "stdout",
     "output_type": "stream",
     "text": [
      "1/1 [==============================] - 0s 39ms/step\n"
     ]
    },
    {
     "name": "stderr",
     "output_type": "stream",
     "text": [
      "OCR nos crops:  96%|█████████▌| 19145/20029 [1:19:46<03:30,  4.20img/s]"
     ]
    },
    {
     "name": "stdout",
     "output_type": "stream",
     "text": [
      "1/1 [==============================] - 0s 40ms/step\n"
     ]
    },
    {
     "name": "stderr",
     "output_type": "stream",
     "text": [
      "OCR nos crops:  96%|█████████▌| 19146/20029 [1:19:46<03:30,  4.20img/s]"
     ]
    },
    {
     "name": "stdout",
     "output_type": "stream",
     "text": [
      "1/1 [==============================] - 0s 40ms/step\n"
     ]
    },
    {
     "name": "stderr",
     "output_type": "stream",
     "text": [
      "OCR nos crops:  96%|█████████▌| 19147/20029 [1:19:47<03:28,  4.22img/s]"
     ]
    },
    {
     "name": "stdout",
     "output_type": "stream",
     "text": [
      "1/1 [==============================] - 0s 41ms/step\n"
     ]
    },
    {
     "name": "stderr",
     "output_type": "stream",
     "text": [
      "OCR nos crops:  96%|█████████▌| 19148/20029 [1:19:47<03:29,  4.22img/s]"
     ]
    },
    {
     "name": "stdout",
     "output_type": "stream",
     "text": [
      "1/1 [==============================] - 0s 44ms/step\n"
     ]
    },
    {
     "name": "stderr",
     "output_type": "stream",
     "text": [
      "OCR nos crops:  96%|█████████▌| 19149/20029 [1:19:47<03:28,  4.21img/s]"
     ]
    },
    {
     "name": "stdout",
     "output_type": "stream",
     "text": [
      "1/1 [==============================] - 0s 42ms/step\n"
     ]
    },
    {
     "name": "stderr",
     "output_type": "stream",
     "text": [
      "OCR nos crops:  96%|█████████▌| 19150/20029 [1:19:47<03:27,  4.23img/s]"
     ]
    },
    {
     "name": "stdout",
     "output_type": "stream",
     "text": [
      "1/1 [==============================] - 0s 44ms/step\n"
     ]
    },
    {
     "name": "stderr",
     "output_type": "stream",
     "text": [
      "OCR nos crops:  96%|█████████▌| 19151/20029 [1:19:47<03:29,  4.19img/s]"
     ]
    },
    {
     "name": "stdout",
     "output_type": "stream",
     "text": [
      "1/1 [==============================] - 0s 40ms/step\n"
     ]
    },
    {
     "name": "stderr",
     "output_type": "stream",
     "text": [
      "OCR nos crops:  96%|█████████▌| 19152/20029 [1:19:48<03:29,  4.18img/s]"
     ]
    },
    {
     "name": "stdout",
     "output_type": "stream",
     "text": [
      "1/1 [==============================] - 0s 45ms/step\n"
     ]
    },
    {
     "name": "stderr",
     "output_type": "stream",
     "text": [
      "OCR nos crops:  96%|█████████▌| 19153/20029 [1:19:48<03:28,  4.21img/s]"
     ]
    },
    {
     "name": "stdout",
     "output_type": "stream",
     "text": [
      "1/1 [==============================] - 0s 42ms/step\n"
     ]
    },
    {
     "name": "stderr",
     "output_type": "stream",
     "text": [
      "OCR nos crops:  96%|█████████▌| 19154/20029 [1:19:48<03:26,  4.23img/s]"
     ]
    },
    {
     "name": "stdout",
     "output_type": "stream",
     "text": [
      "1/1 [==============================] - 0s 40ms/step\n"
     ]
    },
    {
     "name": "stderr",
     "output_type": "stream",
     "text": [
      "OCR nos crops:  96%|█████████▌| 19155/20029 [1:19:48<03:24,  4.27img/s]"
     ]
    },
    {
     "name": "stdout",
     "output_type": "stream",
     "text": [
      "1/1 [==============================] - 0s 41ms/step\n"
     ]
    },
    {
     "name": "stderr",
     "output_type": "stream",
     "text": [
      "OCR nos crops:  96%|█████████▌| 19156/20029 [1:19:49<03:24,  4.26img/s]"
     ]
    },
    {
     "name": "stdout",
     "output_type": "stream",
     "text": [
      "1/1 [==============================] - 0s 39ms/step\n"
     ]
    },
    {
     "name": "stderr",
     "output_type": "stream",
     "text": [
      "OCR nos crops:  96%|█████████▌| 19157/20029 [1:19:49<03:26,  4.22img/s]"
     ]
    },
    {
     "name": "stdout",
     "output_type": "stream",
     "text": [
      "1/1 [==============================] - 0s 48ms/step\n"
     ]
    },
    {
     "name": "stderr",
     "output_type": "stream",
     "text": [
      "OCR nos crops:  96%|█████████▌| 19158/20029 [1:19:49<03:28,  4.17img/s]"
     ]
    },
    {
     "name": "stdout",
     "output_type": "stream",
     "text": [
      "1/1 [==============================] - 0s 41ms/step\n"
     ]
    },
    {
     "name": "stderr",
     "output_type": "stream",
     "text": [
      "OCR nos crops:  96%|█████████▌| 19159/20029 [1:19:49<03:29,  4.16img/s]"
     ]
    },
    {
     "name": "stdout",
     "output_type": "stream",
     "text": [
      "1/1 [==============================] - 0s 43ms/step\n"
     ]
    },
    {
     "name": "stderr",
     "output_type": "stream",
     "text": [
      "OCR nos crops:  96%|█████████▌| 19160/20029 [1:19:50<03:28,  4.17img/s]"
     ]
    },
    {
     "name": "stdout",
     "output_type": "stream",
     "text": [
      "1/1 [==============================] - 0s 46ms/step\n"
     ]
    },
    {
     "name": "stderr",
     "output_type": "stream",
     "text": [
      "OCR nos crops:  96%|█████████▌| 19161/20029 [1:19:50<03:28,  4.16img/s]"
     ]
    },
    {
     "name": "stdout",
     "output_type": "stream",
     "text": [
      "1/1 [==============================] - 0s 41ms/step\n"
     ]
    },
    {
     "name": "stderr",
     "output_type": "stream",
     "text": [
      "OCR nos crops:  96%|█████████▌| 19162/20029 [1:19:50<03:27,  4.19img/s]"
     ]
    },
    {
     "name": "stdout",
     "output_type": "stream",
     "text": [
      "1/1 [==============================] - 0s 40ms/step\n"
     ]
    },
    {
     "name": "stderr",
     "output_type": "stream",
     "text": [
      "OCR nos crops:  96%|█████████▌| 19163/20029 [1:19:50<03:27,  4.18img/s]"
     ]
    },
    {
     "name": "stdout",
     "output_type": "stream",
     "text": [
      "1/1 [==============================] - 0s 42ms/step\n"
     ]
    },
    {
     "name": "stderr",
     "output_type": "stream",
     "text": [
      "OCR nos crops:  96%|█████████▌| 19164/20029 [1:19:51<03:27,  4.17img/s]"
     ]
    },
    {
     "name": "stdout",
     "output_type": "stream",
     "text": [
      "1/1 [==============================] - 0s 42ms/step\n"
     ]
    },
    {
     "name": "stderr",
     "output_type": "stream",
     "text": [
      "OCR nos crops:  96%|█████████▌| 19165/20029 [1:19:51<03:29,  4.13img/s]"
     ]
    },
    {
     "name": "stdout",
     "output_type": "stream",
     "text": [
      "1/1 [==============================] - 0s 42ms/step\n"
     ]
    },
    {
     "name": "stderr",
     "output_type": "stream",
     "text": [
      "OCR nos crops:  96%|█████████▌| 19166/20029 [1:19:51<03:28,  4.14img/s]"
     ]
    },
    {
     "name": "stdout",
     "output_type": "stream",
     "text": [
      "1/1 [==============================] - 0s 43ms/step\n"
     ]
    },
    {
     "name": "stderr",
     "output_type": "stream",
     "text": [
      "OCR nos crops:  96%|█████████▌| 19167/20029 [1:19:51<03:28,  4.14img/s]"
     ]
    },
    {
     "name": "stdout",
     "output_type": "stream",
     "text": [
      "1/1 [==============================] - 0s 35ms/step\n"
     ]
    },
    {
     "name": "stderr",
     "output_type": "stream",
     "text": [
      "OCR nos crops:  96%|█████████▌| 19168/20029 [1:19:52<03:25,  4.19img/s]"
     ]
    },
    {
     "name": "stdout",
     "output_type": "stream",
     "text": [
      "1/1 [==============================] - 0s 39ms/step\n"
     ]
    },
    {
     "name": "stderr",
     "output_type": "stream",
     "text": [
      "OCR nos crops:  96%|█████████▌| 19169/20029 [1:19:52<03:24,  4.20img/s]"
     ]
    },
    {
     "name": "stdout",
     "output_type": "stream",
     "text": [
      "1/1 [==============================] - 0s 51ms/step\n"
     ]
    },
    {
     "name": "stderr",
     "output_type": "stream",
     "text": [
      "OCR nos crops:  96%|█████████▌| 19170/20029 [1:19:52<03:27,  4.14img/s]"
     ]
    },
    {
     "name": "stdout",
     "output_type": "stream",
     "text": [
      "1/1 [==============================] - 0s 40ms/step\n"
     ]
    },
    {
     "name": "stderr",
     "output_type": "stream",
     "text": [
      "OCR nos crops:  96%|█████████▌| 19171/20029 [1:19:52<03:26,  4.16img/s]"
     ]
    },
    {
     "name": "stdout",
     "output_type": "stream",
     "text": [
      "1/1 [==============================] - 0s 47ms/step\n"
     ]
    },
    {
     "name": "stderr",
     "output_type": "stream",
     "text": [
      "OCR nos crops:  96%|█████████▌| 19172/20029 [1:19:53<03:27,  4.14img/s]"
     ]
    },
    {
     "name": "stdout",
     "output_type": "stream",
     "text": [
      "1/1 [==============================] - 0s 33ms/step\n"
     ]
    },
    {
     "name": "stderr",
     "output_type": "stream",
     "text": [
      "OCR nos crops:  96%|█████████▌| 19173/20029 [1:19:53<03:25,  4.16img/s]"
     ]
    },
    {
     "name": "stdout",
     "output_type": "stream",
     "text": [
      "1/1 [==============================] - 0s 39ms/step\n"
     ]
    },
    {
     "name": "stderr",
     "output_type": "stream",
     "text": [
      "OCR nos crops:  96%|█████████▌| 19174/20029 [1:19:53<03:23,  4.20img/s]"
     ]
    },
    {
     "name": "stdout",
     "output_type": "stream",
     "text": [
      "1/1 [==============================] - 0s 44ms/step\n"
     ]
    },
    {
     "name": "stderr",
     "output_type": "stream",
     "text": [
      "OCR nos crops:  96%|█████████▌| 19175/20029 [1:19:53<03:25,  4.16img/s]"
     ]
    },
    {
     "name": "stdout",
     "output_type": "stream",
     "text": [
      "1/1 [==============================] - 0s 39ms/step\n"
     ]
    },
    {
     "name": "stderr",
     "output_type": "stream",
     "text": [
      "OCR nos crops:  96%|█████████▌| 19176/20029 [1:19:53<03:24,  4.17img/s]"
     ]
    },
    {
     "name": "stdout",
     "output_type": "stream",
     "text": [
      "1/1 [==============================] - 0s 43ms/step\n"
     ]
    },
    {
     "name": "stderr",
     "output_type": "stream",
     "text": [
      "OCR nos crops:  96%|█████████▌| 19177/20029 [1:19:54<03:24,  4.17img/s]"
     ]
    },
    {
     "name": "stdout",
     "output_type": "stream",
     "text": [
      "1/1 [==============================] - 0s 44ms/step\n"
     ]
    },
    {
     "name": "stderr",
     "output_type": "stream",
     "text": [
      "OCR nos crops:  96%|█████████▌| 19178/20029 [1:19:54<03:23,  4.17img/s]"
     ]
    },
    {
     "name": "stdout",
     "output_type": "stream",
     "text": [
      "1/1 [==============================] - 0s 40ms/step\n"
     ]
    },
    {
     "name": "stderr",
     "output_type": "stream",
     "text": [
      "OCR nos crops:  96%|█████████▌| 19179/20029 [1:19:54<03:22,  4.20img/s]"
     ]
    },
    {
     "name": "stdout",
     "output_type": "stream",
     "text": [
      "1/1 [==============================] - 0s 37ms/step\n"
     ]
    },
    {
     "name": "stderr",
     "output_type": "stream",
     "text": [
      "OCR nos crops:  96%|█████████▌| 19180/20029 [1:19:54<03:20,  4.23img/s]"
     ]
    },
    {
     "name": "stdout",
     "output_type": "stream",
     "text": [
      "1/1 [==============================] - 0s 46ms/step\n"
     ]
    },
    {
     "name": "stderr",
     "output_type": "stream",
     "text": [
      "OCR nos crops:  96%|█████████▌| 19181/20029 [1:19:55<03:22,  4.19img/s]"
     ]
    },
    {
     "name": "stdout",
     "output_type": "stream",
     "text": [
      "1/1 [==============================] - 0s 45ms/step\n"
     ]
    },
    {
     "name": "stderr",
     "output_type": "stream",
     "text": [
      "OCR nos crops:  96%|█████████▌| 19182/20029 [1:19:55<03:24,  4.15img/s]"
     ]
    },
    {
     "name": "stdout",
     "output_type": "stream",
     "text": [
      "1/1 [==============================] - 0s 45ms/step\n"
     ]
    },
    {
     "name": "stderr",
     "output_type": "stream",
     "text": [
      "OCR nos crops:  96%|█████████▌| 19183/20029 [1:19:55<03:24,  4.14img/s]"
     ]
    },
    {
     "name": "stdout",
     "output_type": "stream",
     "text": [
      "1/1 [==============================] - 0s 40ms/step\n"
     ]
    },
    {
     "name": "stderr",
     "output_type": "stream",
     "text": [
      "OCR nos crops:  96%|█████████▌| 19184/20029 [1:19:55<03:22,  4.18img/s]"
     ]
    },
    {
     "name": "stdout",
     "output_type": "stream",
     "text": [
      "1/1 [==============================] - 0s 38ms/step\n"
     ]
    },
    {
     "name": "stderr",
     "output_type": "stream",
     "text": [
      "OCR nos crops:  96%|█████████▌| 19185/20029 [1:19:56<03:20,  4.21img/s]"
     ]
    },
    {
     "name": "stdout",
     "output_type": "stream",
     "text": [
      "1/1 [==============================] - 0s 42ms/step\n"
     ]
    },
    {
     "name": "stderr",
     "output_type": "stream",
     "text": [
      "OCR nos crops:  96%|█████████▌| 19186/20029 [1:19:56<03:19,  4.23img/s]"
     ]
    },
    {
     "name": "stdout",
     "output_type": "stream",
     "text": [
      "1/1 [==============================] - 0s 40ms/step\n"
     ]
    },
    {
     "name": "stderr",
     "output_type": "stream",
     "text": [
      "OCR nos crops:  96%|█████████▌| 19187/20029 [1:19:56<03:18,  4.25img/s]"
     ]
    },
    {
     "name": "stdout",
     "output_type": "stream",
     "text": [
      "1/1 [==============================] - 0s 39ms/step\n"
     ]
    },
    {
     "name": "stderr",
     "output_type": "stream",
     "text": [
      "OCR nos crops:  96%|█████████▌| 19188/20029 [1:19:56<03:17,  4.27img/s]"
     ]
    },
    {
     "name": "stdout",
     "output_type": "stream",
     "text": [
      "1/1 [==============================] - 0s 43ms/step\n"
     ]
    },
    {
     "name": "stderr",
     "output_type": "stream",
     "text": [
      "OCR nos crops:  96%|█████████▌| 19189/20029 [1:19:57<03:16,  4.27img/s]"
     ]
    },
    {
     "name": "stdout",
     "output_type": "stream",
     "text": [
      "1/1 [==============================] - 0s 39ms/step\n"
     ]
    },
    {
     "name": "stderr",
     "output_type": "stream",
     "text": [
      "OCR nos crops:  96%|█████████▌| 19190/20029 [1:19:57<03:18,  4.23img/s]"
     ]
    },
    {
     "name": "stdout",
     "output_type": "stream",
     "text": [
      "1/1 [==============================] - 0s 45ms/step\n"
     ]
    },
    {
     "name": "stderr",
     "output_type": "stream",
     "text": [
      "OCR nos crops:  96%|█████████▌| 19191/20029 [1:19:57<03:19,  4.21img/s]"
     ]
    },
    {
     "name": "stdout",
     "output_type": "stream",
     "text": [
      "1/1 [==============================] - 0s 43ms/step\n"
     ]
    },
    {
     "name": "stderr",
     "output_type": "stream",
     "text": [
      "OCR nos crops:  96%|█████████▌| 19192/20029 [1:19:57<03:18,  4.21img/s]"
     ]
    },
    {
     "name": "stdout",
     "output_type": "stream",
     "text": [
      "1/1 [==============================] - 0s 39ms/step\n"
     ]
    },
    {
     "name": "stderr",
     "output_type": "stream",
     "text": [
      "OCR nos crops:  96%|█████████▌| 19193/20029 [1:19:58<03:18,  4.22img/s]"
     ]
    },
    {
     "name": "stdout",
     "output_type": "stream",
     "text": [
      "1/1 [==============================] - 0s 42ms/step\n"
     ]
    },
    {
     "name": "stderr",
     "output_type": "stream",
     "text": [
      "OCR nos crops:  96%|█████████▌| 19194/20029 [1:19:58<03:18,  4.21img/s]"
     ]
    },
    {
     "name": "stdout",
     "output_type": "stream",
     "text": [
      "1/1 [==============================] - 0s 45ms/step\n"
     ]
    },
    {
     "name": "stderr",
     "output_type": "stream",
     "text": [
      "OCR nos crops:  96%|█████████▌| 19195/20029 [1:19:58<03:19,  4.19img/s]"
     ]
    },
    {
     "name": "stdout",
     "output_type": "stream",
     "text": [
      "1/1 [==============================] - 0s 43ms/step\n"
     ]
    },
    {
     "name": "stderr",
     "output_type": "stream",
     "text": [
      "OCR nos crops:  96%|█████████▌| 19196/20029 [1:19:58<03:19,  4.18img/s]"
     ]
    },
    {
     "name": "stdout",
     "output_type": "stream",
     "text": [
      "1/1 [==============================] - 0s 45ms/step\n"
     ]
    },
    {
     "name": "stderr",
     "output_type": "stream",
     "text": [
      "OCR nos crops:  96%|█████████▌| 19197/20029 [1:19:58<03:19,  4.16img/s]"
     ]
    },
    {
     "name": "stdout",
     "output_type": "stream",
     "text": [
      "1/1 [==============================] - 0s 38ms/step\n"
     ]
    },
    {
     "name": "stderr",
     "output_type": "stream",
     "text": [
      "OCR nos crops:  96%|█████████▌| 19198/20029 [1:19:59<03:20,  4.14img/s]"
     ]
    },
    {
     "name": "stdout",
     "output_type": "stream",
     "text": [
      "1/1 [==============================] - 0s 41ms/step\n"
     ]
    },
    {
     "name": "stderr",
     "output_type": "stream",
     "text": [
      "OCR nos crops:  96%|█████████▌| 19199/20029 [1:19:59<03:19,  4.17img/s]"
     ]
    },
    {
     "name": "stdout",
     "output_type": "stream",
     "text": [
      "1/1 [==============================] - 0s 41ms/step\n"
     ]
    },
    {
     "name": "stderr",
     "output_type": "stream",
     "text": [
      "OCR nos crops:  96%|█████████▌| 19200/20029 [1:19:59<03:18,  4.18img/s]"
     ]
    },
    {
     "name": "stdout",
     "output_type": "stream",
     "text": [
      "1/1 [==============================] - 0s 39ms/step\n"
     ]
    },
    {
     "name": "stderr",
     "output_type": "stream",
     "text": [
      "OCR nos crops:  96%|█████████▌| 19201/20029 [1:19:59<03:16,  4.21img/s]"
     ]
    },
    {
     "name": "stdout",
     "output_type": "stream",
     "text": [
      "1/1 [==============================] - 0s 40ms/step\n"
     ]
    },
    {
     "name": "stderr",
     "output_type": "stream",
     "text": [
      "OCR nos crops:  96%|█████████▌| 19202/20029 [1:20:00<03:16,  4.20img/s]"
     ]
    },
    {
     "name": "stdout",
     "output_type": "stream",
     "text": [
      "1/1 [==============================] - 0s 45ms/step\n"
     ]
    },
    {
     "name": "stderr",
     "output_type": "stream",
     "text": [
      "OCR nos crops:  96%|█████████▌| 19203/20029 [1:20:00<03:17,  4.19img/s]"
     ]
    },
    {
     "name": "stdout",
     "output_type": "stream",
     "text": [
      "1/1 [==============================] - 0s 45ms/step\n"
     ]
    },
    {
     "name": "stderr",
     "output_type": "stream",
     "text": [
      "OCR nos crops:  96%|█████████▌| 19204/20029 [1:20:00<03:17,  4.17img/s]"
     ]
    },
    {
     "name": "stdout",
     "output_type": "stream",
     "text": [
      "1/1 [==============================] - 0s 46ms/step\n"
     ]
    },
    {
     "name": "stderr",
     "output_type": "stream",
     "text": [
      "OCR nos crops:  96%|█████████▌| 19205/20029 [1:20:00<03:17,  4.18img/s]"
     ]
    },
    {
     "name": "stdout",
     "output_type": "stream",
     "text": [
      "1/1 [==============================] - 0s 48ms/step\n"
     ]
    },
    {
     "name": "stderr",
     "output_type": "stream",
     "text": [
      "OCR nos crops:  96%|█████████▌| 19206/20029 [1:20:01<03:17,  4.17img/s]"
     ]
    },
    {
     "name": "stdout",
     "output_type": "stream",
     "text": [
      "1/1 [==============================] - 0s 40ms/step\n"
     ]
    },
    {
     "name": "stderr",
     "output_type": "stream",
     "text": [
      "OCR nos crops:  96%|█████████▌| 19207/20029 [1:20:01<03:15,  4.21img/s]"
     ]
    },
    {
     "name": "stdout",
     "output_type": "stream",
     "text": [
      "1/1 [==============================] - 0s 36ms/step\n"
     ]
    },
    {
     "name": "stderr",
     "output_type": "stream",
     "text": [
      "OCR nos crops:  96%|█████████▌| 19208/20029 [1:20:01<03:12,  4.26img/s]"
     ]
    },
    {
     "name": "stdout",
     "output_type": "stream",
     "text": [
      "1/1 [==============================] - 0s 44ms/step\n"
     ]
    },
    {
     "name": "stderr",
     "output_type": "stream",
     "text": [
      "OCR nos crops:  96%|█████████▌| 19209/20029 [1:20:01<03:13,  4.23img/s]"
     ]
    },
    {
     "name": "stdout",
     "output_type": "stream",
     "text": [
      "1/1 [==============================] - 0s 43ms/step\n"
     ]
    },
    {
     "name": "stderr",
     "output_type": "stream",
     "text": [
      "OCR nos crops:  96%|█████████▌| 19210/20029 [1:20:02<03:12,  4.25img/s]"
     ]
    },
    {
     "name": "stdout",
     "output_type": "stream",
     "text": [
      "1/1 [==============================] - 0s 41ms/step\n"
     ]
    },
    {
     "name": "stderr",
     "output_type": "stream",
     "text": [
      "OCR nos crops:  96%|█████████▌| 19211/20029 [1:20:02<03:11,  4.26img/s]"
     ]
    },
    {
     "name": "stdout",
     "output_type": "stream",
     "text": [
      "1/1 [==============================] - 0s 43ms/step\n"
     ]
    },
    {
     "name": "stderr",
     "output_type": "stream",
     "text": [
      "OCR nos crops:  96%|█████████▌| 19212/20029 [1:20:02<03:12,  4.25img/s]"
     ]
    },
    {
     "name": "stdout",
     "output_type": "stream",
     "text": [
      "1/1 [==============================] - 0s 38ms/step\n"
     ]
    },
    {
     "name": "stderr",
     "output_type": "stream",
     "text": [
      "OCR nos crops:  96%|█████████▌| 19213/20029 [1:20:02<03:12,  4.23img/s]"
     ]
    },
    {
     "name": "stdout",
     "output_type": "stream",
     "text": [
      "1/1 [==============================] - 0s 34ms/step\n"
     ]
    },
    {
     "name": "stderr",
     "output_type": "stream",
     "text": [
      "OCR nos crops:  96%|█████████▌| 19214/20029 [1:20:02<03:09,  4.30img/s]"
     ]
    },
    {
     "name": "stdout",
     "output_type": "stream",
     "text": [
      "1/1 [==============================] - 0s 47ms/step\n"
     ]
    },
    {
     "name": "stderr",
     "output_type": "stream",
     "text": [
      "OCR nos crops:  96%|█████████▌| 19215/20029 [1:20:03<03:12,  4.24img/s]"
     ]
    },
    {
     "name": "stdout",
     "output_type": "stream",
     "text": [
      "1/1 [==============================] - 0s 46ms/step\n"
     ]
    },
    {
     "name": "stderr",
     "output_type": "stream",
     "text": [
      "OCR nos crops:  96%|█████████▌| 19216/20029 [1:20:03<03:12,  4.23img/s]"
     ]
    },
    {
     "name": "stdout",
     "output_type": "stream",
     "text": [
      "1/1 [==============================] - 0s 45ms/step\n"
     ]
    },
    {
     "name": "stderr",
     "output_type": "stream",
     "text": [
      "OCR nos crops:  96%|█████████▌| 19217/20029 [1:20:03<03:12,  4.21img/s]"
     ]
    },
    {
     "name": "stdout",
     "output_type": "stream",
     "text": [
      "1/1 [==============================] - 0s 40ms/step\n"
     ]
    },
    {
     "name": "stderr",
     "output_type": "stream",
     "text": [
      "OCR nos crops:  96%|█████████▌| 19218/20029 [1:20:03<03:11,  4.24img/s]"
     ]
    },
    {
     "name": "stdout",
     "output_type": "stream",
     "text": [
      "1/1 [==============================] - 0s 41ms/step\n"
     ]
    },
    {
     "name": "stderr",
     "output_type": "stream",
     "text": [
      "OCR nos crops:  96%|█████████▌| 19219/20029 [1:20:04<03:11,  4.22img/s]"
     ]
    },
    {
     "name": "stdout",
     "output_type": "stream",
     "text": [
      "1/1 [==============================] - 0s 38ms/step\n"
     ]
    },
    {
     "name": "stderr",
     "output_type": "stream",
     "text": [
      "OCR nos crops:  96%|█████████▌| 19220/20029 [1:20:04<03:09,  4.26img/s]"
     ]
    },
    {
     "name": "stdout",
     "output_type": "stream",
     "text": [
      "1/1 [==============================] - 0s 36ms/step\n"
     ]
    },
    {
     "name": "stderr",
     "output_type": "stream",
     "text": [
      "OCR nos crops:  96%|█████████▌| 19221/20029 [1:20:04<03:09,  4.26img/s]"
     ]
    },
    {
     "name": "stdout",
     "output_type": "stream",
     "text": [
      "1/1 [==============================] - 0s 37ms/step\n"
     ]
    },
    {
     "name": "stderr",
     "output_type": "stream",
     "text": [
      "OCR nos crops:  96%|█████████▌| 19222/20029 [1:20:04<03:09,  4.26img/s]"
     ]
    },
    {
     "name": "stdout",
     "output_type": "stream",
     "text": [
      "1/1 [==============================] - 0s 39ms/step\n"
     ]
    },
    {
     "name": "stderr",
     "output_type": "stream",
     "text": [
      "OCR nos crops:  96%|█████████▌| 19223/20029 [1:20:05<03:09,  4.26img/s]"
     ]
    },
    {
     "name": "stdout",
     "output_type": "stream",
     "text": [
      "1/1 [==============================] - 0s 47ms/step\n"
     ]
    },
    {
     "name": "stderr",
     "output_type": "stream",
     "text": [
      "OCR nos crops:  96%|█████████▌| 19224/20029 [1:20:05<03:11,  4.21img/s]"
     ]
    },
    {
     "name": "stdout",
     "output_type": "stream",
     "text": [
      "1/1 [==============================] - 0s 44ms/step\n"
     ]
    },
    {
     "name": "stderr",
     "output_type": "stream",
     "text": [
      "OCR nos crops:  96%|█████████▌| 19225/20029 [1:20:05<03:11,  4.20img/s]"
     ]
    },
    {
     "name": "stdout",
     "output_type": "stream",
     "text": [
      "1/1 [==============================] - 0s 44ms/step\n"
     ]
    },
    {
     "name": "stderr",
     "output_type": "stream",
     "text": [
      "OCR nos crops:  96%|█████████▌| 19226/20029 [1:20:05<03:11,  4.20img/s]"
     ]
    },
    {
     "name": "stdout",
     "output_type": "stream",
     "text": [
      "1/1 [==============================] - 0s 46ms/step\n"
     ]
    },
    {
     "name": "stderr",
     "output_type": "stream",
     "text": [
      "OCR nos crops:  96%|█████████▌| 19227/20029 [1:20:06<03:12,  4.17img/s]"
     ]
    },
    {
     "name": "stdout",
     "output_type": "stream",
     "text": [
      "1/1 [==============================] - 0s 38ms/step\n"
     ]
    },
    {
     "name": "stderr",
     "output_type": "stream",
     "text": [
      "OCR nos crops:  96%|█████████▌| 19228/20029 [1:20:06<03:10,  4.20img/s]"
     ]
    },
    {
     "name": "stdout",
     "output_type": "stream",
     "text": [
      "1/1 [==============================] - 0s 46ms/step\n"
     ]
    },
    {
     "name": "stderr",
     "output_type": "stream",
     "text": [
      "OCR nos crops:  96%|█████████▌| 19229/20029 [1:20:06<03:11,  4.19img/s]"
     ]
    },
    {
     "name": "stdout",
     "output_type": "stream",
     "text": [
      "1/1 [==============================] - 0s 47ms/step\n"
     ]
    },
    {
     "name": "stderr",
     "output_type": "stream",
     "text": [
      "OCR nos crops:  96%|█████████▌| 19230/20029 [1:20:06<03:11,  4.18img/s]"
     ]
    },
    {
     "name": "stdout",
     "output_type": "stream",
     "text": [
      "1/1 [==============================] - 0s 38ms/step\n"
     ]
    },
    {
     "name": "stderr",
     "output_type": "stream",
     "text": [
      "OCR nos crops:  96%|█████████▌| 19231/20029 [1:20:07<03:09,  4.21img/s]"
     ]
    },
    {
     "name": "stdout",
     "output_type": "stream",
     "text": [
      "1/1 [==============================] - 0s 40ms/step\n"
     ]
    },
    {
     "name": "stderr",
     "output_type": "stream",
     "text": [
      "OCR nos crops:  96%|█████████▌| 19232/20029 [1:20:07<03:09,  4.21img/s]"
     ]
    },
    {
     "name": "stdout",
     "output_type": "stream",
     "text": [
      "1/1 [==============================] - 0s 36ms/step\n"
     ]
    },
    {
     "name": "stderr",
     "output_type": "stream",
     "text": [
      "OCR nos crops:  96%|█████████▌| 19233/20029 [1:20:07<03:07,  4.25img/s]"
     ]
    },
    {
     "name": "stdout",
     "output_type": "stream",
     "text": [
      "1/1 [==============================] - 0s 38ms/step\n"
     ]
    },
    {
     "name": "stderr",
     "output_type": "stream",
     "text": [
      "OCR nos crops:  96%|█████████▌| 19234/20029 [1:20:07<03:08,  4.21img/s]"
     ]
    },
    {
     "name": "stdout",
     "output_type": "stream",
     "text": [
      "1/1 [==============================] - 0s 44ms/step\n"
     ]
    },
    {
     "name": "stderr",
     "output_type": "stream",
     "text": [
      "OCR nos crops:  96%|█████████▌| 19235/20029 [1:20:07<03:09,  4.19img/s]"
     ]
    },
    {
     "name": "stdout",
     "output_type": "stream",
     "text": [
      "1/1 [==============================] - 0s 49ms/step\n"
     ]
    },
    {
     "name": "stderr",
     "output_type": "stream",
     "text": [
      "OCR nos crops:  96%|█████████▌| 19236/20029 [1:20:08<03:11,  4.15img/s]"
     ]
    },
    {
     "name": "stdout",
     "output_type": "stream",
     "text": [
      "1/1 [==============================] - 0s 39ms/step\n"
     ]
    },
    {
     "name": "stderr",
     "output_type": "stream",
     "text": [
      "OCR nos crops:  96%|█████████▌| 19237/20029 [1:20:08<03:12,  4.12img/s]"
     ]
    },
    {
     "name": "stdout",
     "output_type": "stream",
     "text": [
      "1/1 [==============================] - 0s 45ms/step\n"
     ]
    },
    {
     "name": "stderr",
     "output_type": "stream",
     "text": [
      "OCR nos crops:  96%|█████████▌| 19238/20029 [1:20:08<03:11,  4.14img/s]"
     ]
    },
    {
     "name": "stdout",
     "output_type": "stream",
     "text": [
      "1/1 [==============================] - 0s 43ms/step\n"
     ]
    },
    {
     "name": "stderr",
     "output_type": "stream",
     "text": [
      "OCR nos crops:  96%|█████████▌| 19239/20029 [1:20:08<03:10,  4.15img/s]"
     ]
    },
    {
     "name": "stdout",
     "output_type": "stream",
     "text": [
      "1/1 [==============================] - 0s 49ms/step\n"
     ]
    },
    {
     "name": "stderr",
     "output_type": "stream",
     "text": [
      "OCR nos crops:  96%|█████████▌| 19240/20029 [1:20:09<03:12,  4.11img/s]"
     ]
    },
    {
     "name": "stdout",
     "output_type": "stream",
     "text": [
      "1/1 [==============================] - 0s 45ms/step\n"
     ]
    },
    {
     "name": "stderr",
     "output_type": "stream",
     "text": [
      "OCR nos crops:  96%|█████████▌| 19241/20029 [1:20:09<03:12,  4.10img/s]"
     ]
    },
    {
     "name": "stdout",
     "output_type": "stream",
     "text": [
      "1/1 [==============================] - 0s 54ms/step\n"
     ]
    },
    {
     "name": "stderr",
     "output_type": "stream",
     "text": [
      "OCR nos crops:  96%|█████████▌| 19242/20029 [1:20:09<03:12,  4.08img/s]"
     ]
    },
    {
     "name": "stdout",
     "output_type": "stream",
     "text": [
      "1/1 [==============================] - 0s 43ms/step\n"
     ]
    },
    {
     "name": "stderr",
     "output_type": "stream",
     "text": [
      "OCR nos crops:  96%|█████████▌| 19243/20029 [1:20:09<03:12,  4.09img/s]"
     ]
    },
    {
     "name": "stdout",
     "output_type": "stream",
     "text": [
      "1/1 [==============================] - 0s 46ms/step\n"
     ]
    },
    {
     "name": "stderr",
     "output_type": "stream",
     "text": [
      "OCR nos crops:  96%|█████████▌| 19244/20029 [1:20:10<03:13,  4.07img/s]"
     ]
    },
    {
     "name": "stdout",
     "output_type": "stream",
     "text": [
      "1/1 [==============================] - 0s 45ms/step\n"
     ]
    },
    {
     "name": "stderr",
     "output_type": "stream",
     "text": [
      "OCR nos crops:  96%|█████████▌| 19245/20029 [1:20:10<03:12,  4.08img/s]"
     ]
    },
    {
     "name": "stdout",
     "output_type": "stream",
     "text": [
      "1/1 [==============================] - 0s 40ms/step\n"
     ]
    },
    {
     "name": "stderr",
     "output_type": "stream",
     "text": [
      "OCR nos crops:  96%|█████████▌| 19246/20029 [1:20:10<03:10,  4.12img/s]"
     ]
    },
    {
     "name": "stdout",
     "output_type": "stream",
     "text": [
      "1/1 [==============================] - 0s 40ms/step\n"
     ]
    },
    {
     "name": "stderr",
     "output_type": "stream",
     "text": [
      "OCR nos crops:  96%|█████████▌| 19247/20029 [1:20:10<03:09,  4.14img/s]"
     ]
    },
    {
     "name": "stdout",
     "output_type": "stream",
     "text": [
      "1/1 [==============================] - 0s 39ms/step\n"
     ]
    },
    {
     "name": "stderr",
     "output_type": "stream",
     "text": [
      "OCR nos crops:  96%|█████████▌| 19248/20029 [1:20:11<03:09,  4.12img/s]"
     ]
    },
    {
     "name": "stdout",
     "output_type": "stream",
     "text": [
      "1/1 [==============================] - 0s 47ms/step\n"
     ]
    },
    {
     "name": "stderr",
     "output_type": "stream",
     "text": [
      "OCR nos crops:  96%|█████████▌| 19249/20029 [1:20:11<03:12,  4.06img/s]"
     ]
    },
    {
     "name": "stdout",
     "output_type": "stream",
     "text": [
      "1/1 [==============================] - 0s 38ms/step\n"
     ]
    },
    {
     "name": "stderr",
     "output_type": "stream",
     "text": [
      "OCR nos crops:  96%|█████████▌| 19250/20029 [1:20:11<03:09,  4.10img/s]"
     ]
    },
    {
     "name": "stdout",
     "output_type": "stream",
     "text": [
      "1/1 [==============================] - 0s 41ms/step\n"
     ]
    },
    {
     "name": "stderr",
     "output_type": "stream",
     "text": [
      "OCR nos crops:  96%|█████████▌| 19251/20029 [1:20:11<03:08,  4.12img/s]"
     ]
    },
    {
     "name": "stdout",
     "output_type": "stream",
     "text": [
      "1/1 [==============================] - 0s 38ms/step\n"
     ]
    },
    {
     "name": "stderr",
     "output_type": "stream",
     "text": [
      "OCR nos crops:  96%|█████████▌| 19252/20029 [1:20:12<03:06,  4.16img/s]"
     ]
    },
    {
     "name": "stdout",
     "output_type": "stream",
     "text": [
      "1/1 [==============================] - 0s 42ms/step\n"
     ]
    },
    {
     "name": "stderr",
     "output_type": "stream",
     "text": [
      "OCR nos crops:  96%|█████████▌| 19253/20029 [1:20:12<03:06,  4.16img/s]"
     ]
    },
    {
     "name": "stdout",
     "output_type": "stream",
     "text": [
      "1/1 [==============================] - 0s 46ms/step\n"
     ]
    },
    {
     "name": "stderr",
     "output_type": "stream",
     "text": [
      "OCR nos crops:  96%|█████████▌| 19254/20029 [1:20:12<03:06,  4.15img/s]"
     ]
    },
    {
     "name": "stdout",
     "output_type": "stream",
     "text": [
      "1/1 [==============================] - 0s 37ms/step\n"
     ]
    },
    {
     "name": "stderr",
     "output_type": "stream",
     "text": [
      "OCR nos crops:  96%|█████████▌| 19255/20029 [1:20:12<03:04,  4.20img/s]"
     ]
    },
    {
     "name": "stdout",
     "output_type": "stream",
     "text": [
      "1/1 [==============================] - 0s 38ms/step\n"
     ]
    },
    {
     "name": "stderr",
     "output_type": "stream",
     "text": [
      "OCR nos crops:  96%|█████████▌| 19256/20029 [1:20:13<03:05,  4.17img/s]"
     ]
    },
    {
     "name": "stdout",
     "output_type": "stream",
     "text": [
      "1/1 [==============================] - 0s 46ms/step\n"
     ]
    },
    {
     "name": "stderr",
     "output_type": "stream",
     "text": [
      "OCR nos crops:  96%|█████████▌| 19257/20029 [1:20:13<03:05,  4.16img/s]"
     ]
    },
    {
     "name": "stdout",
     "output_type": "stream",
     "text": [
      "1/1 [==============================] - 0s 47ms/step\n"
     ]
    },
    {
     "name": "stderr",
     "output_type": "stream",
     "text": [
      "OCR nos crops:  96%|█████████▌| 19258/20029 [1:20:13<03:05,  4.15img/s]"
     ]
    },
    {
     "name": "stdout",
     "output_type": "stream",
     "text": [
      "1/1 [==============================] - 0s 45ms/step\n"
     ]
    },
    {
     "name": "stderr",
     "output_type": "stream",
     "text": [
      "OCR nos crops:  96%|█████████▌| 19259/20029 [1:20:13<03:04,  4.18img/s]"
     ]
    },
    {
     "name": "stdout",
     "output_type": "stream",
     "text": [
      "1/1 [==============================] - 0s 42ms/step\n"
     ]
    },
    {
     "name": "stderr",
     "output_type": "stream",
     "text": [
      "OCR nos crops:  96%|█████████▌| 19260/20029 [1:20:14<03:02,  4.20img/s]"
     ]
    },
    {
     "name": "stdout",
     "output_type": "stream",
     "text": [
      "1/1 [==============================] - 0s 40ms/step\n"
     ]
    },
    {
     "name": "stderr",
     "output_type": "stream",
     "text": [
      "OCR nos crops:  96%|█████████▌| 19261/20029 [1:20:14<03:02,  4.21img/s]"
     ]
    },
    {
     "name": "stdout",
     "output_type": "stream",
     "text": [
      "1/1 [==============================] - 0s 38ms/step\n"
     ]
    },
    {
     "name": "stderr",
     "output_type": "stream",
     "text": [
      "OCR nos crops:  96%|█████████▌| 19262/20029 [1:20:14<03:02,  4.20img/s]"
     ]
    },
    {
     "name": "stdout",
     "output_type": "stream",
     "text": [
      "1/1 [==============================] - 0s 40ms/step\n"
     ]
    },
    {
     "name": "stderr",
     "output_type": "stream",
     "text": [
      "OCR nos crops:  96%|█████████▌| 19263/20029 [1:20:14<03:03,  4.17img/s]"
     ]
    },
    {
     "name": "stdout",
     "output_type": "stream",
     "text": [
      "1/1 [==============================] - 0s 38ms/step\n"
     ]
    },
    {
     "name": "stderr",
     "output_type": "stream",
     "text": [
      "OCR nos crops:  96%|█████████▌| 19264/20029 [1:20:14<03:01,  4.21img/s]"
     ]
    },
    {
     "name": "stdout",
     "output_type": "stream",
     "text": [
      "1/1 [==============================] - 0s 37ms/step\n"
     ]
    },
    {
     "name": "stderr",
     "output_type": "stream",
     "text": [
      "OCR nos crops:  96%|█████████▌| 19265/20029 [1:20:15<03:00,  4.24img/s]"
     ]
    },
    {
     "name": "stdout",
     "output_type": "stream",
     "text": [
      "1/1 [==============================] - 0s 41ms/step\n"
     ]
    },
    {
     "name": "stderr",
     "output_type": "stream",
     "text": [
      "OCR nos crops:  96%|█████████▌| 19266/20029 [1:20:15<03:00,  4.23img/s]"
     ]
    },
    {
     "name": "stdout",
     "output_type": "stream",
     "text": [
      "1/1 [==============================] - 0s 44ms/step\n"
     ]
    },
    {
     "name": "stderr",
     "output_type": "stream",
     "text": [
      "OCR nos crops:  96%|█████████▌| 19267/20029 [1:20:15<03:02,  4.17img/s]"
     ]
    },
    {
     "name": "stdout",
     "output_type": "stream",
     "text": [
      "1/1 [==============================] - 0s 38ms/step\n"
     ]
    },
    {
     "name": "stderr",
     "output_type": "stream",
     "text": [
      "OCR nos crops:  96%|█████████▌| 19268/20029 [1:20:15<02:59,  4.24img/s]"
     ]
    },
    {
     "name": "stdout",
     "output_type": "stream",
     "text": [
      "1/1 [==============================] - 0s 45ms/step\n"
     ]
    },
    {
     "name": "stderr",
     "output_type": "stream",
     "text": [
      "OCR nos crops:  96%|█████████▌| 19269/20029 [1:20:16<03:01,  4.20img/s]"
     ]
    },
    {
     "name": "stdout",
     "output_type": "stream",
     "text": [
      "1/1 [==============================] - 0s 37ms/step\n"
     ]
    },
    {
     "name": "stderr",
     "output_type": "stream",
     "text": [
      "OCR nos crops:  96%|█████████▌| 19270/20029 [1:20:16<03:01,  4.18img/s]"
     ]
    },
    {
     "name": "stdout",
     "output_type": "stream",
     "text": [
      "1/1 [==============================] - 0s 42ms/step\n"
     ]
    },
    {
     "name": "stderr",
     "output_type": "stream",
     "text": [
      "OCR nos crops:  96%|█████████▌| 19271/20029 [1:20:16<03:01,  4.19img/s]"
     ]
    },
    {
     "name": "stdout",
     "output_type": "stream",
     "text": [
      "1/1 [==============================] - 0s 42ms/step\n"
     ]
    },
    {
     "name": "stderr",
     "output_type": "stream",
     "text": [
      "OCR nos crops:  96%|█████████▌| 19272/20029 [1:20:16<03:00,  4.19img/s]"
     ]
    },
    {
     "name": "stdout",
     "output_type": "stream",
     "text": [
      "1/1 [==============================] - 0s 37ms/step\n"
     ]
    },
    {
     "name": "stderr",
     "output_type": "stream",
     "text": [
      "OCR nos crops:  96%|█████████▌| 19273/20029 [1:20:17<02:57,  4.25img/s]"
     ]
    },
    {
     "name": "stdout",
     "output_type": "stream",
     "text": [
      "1/1 [==============================] - 0s 48ms/step\n"
     ]
    },
    {
     "name": "stderr",
     "output_type": "stream",
     "text": [
      "OCR nos crops:  96%|█████████▌| 19274/20029 [1:20:17<03:01,  4.16img/s]"
     ]
    },
    {
     "name": "stdout",
     "output_type": "stream",
     "text": [
      "1/1 [==============================] - 0s 41ms/step\n"
     ]
    },
    {
     "name": "stderr",
     "output_type": "stream",
     "text": [
      "OCR nos crops:  96%|█████████▌| 19275/20029 [1:20:17<02:59,  4.19img/s]"
     ]
    },
    {
     "name": "stdout",
     "output_type": "stream",
     "text": [
      "1/1 [==============================] - 0s 42ms/step\n"
     ]
    },
    {
     "name": "stderr",
     "output_type": "stream",
     "text": [
      "OCR nos crops:  96%|█████████▌| 19276/20029 [1:20:17<02:58,  4.22img/s]"
     ]
    },
    {
     "name": "stdout",
     "output_type": "stream",
     "text": [
      "1/1 [==============================] - 0s 41ms/step\n"
     ]
    },
    {
     "name": "stderr",
     "output_type": "stream",
     "text": [
      "OCR nos crops:  96%|█████████▌| 19277/20029 [1:20:18<02:59,  4.19img/s]"
     ]
    },
    {
     "name": "stdout",
     "output_type": "stream",
     "text": [
      "1/1 [==============================] - 0s 42ms/step\n"
     ]
    },
    {
     "name": "stderr",
     "output_type": "stream",
     "text": [
      "OCR nos crops:  96%|█████████▋| 19278/20029 [1:20:18<02:58,  4.21img/s]"
     ]
    },
    {
     "name": "stdout",
     "output_type": "stream",
     "text": [
      "1/1 [==============================] - 0s 45ms/step\n"
     ]
    },
    {
     "name": "stderr",
     "output_type": "stream",
     "text": [
      "OCR nos crops:  96%|█████████▋| 19279/20029 [1:20:18<02:58,  4.19img/s]"
     ]
    },
    {
     "name": "stdout",
     "output_type": "stream",
     "text": [
      "1/1 [==============================] - 0s 38ms/step\n"
     ]
    },
    {
     "name": "stderr",
     "output_type": "stream",
     "text": [
      "OCR nos crops:  96%|█████████▋| 19280/20029 [1:20:18<02:57,  4.21img/s]"
     ]
    },
    {
     "name": "stdout",
     "output_type": "stream",
     "text": [
      "1/1 [==============================] - 0s 39ms/step\n"
     ]
    },
    {
     "name": "stderr",
     "output_type": "stream",
     "text": [
      "OCR nos crops:  96%|█████████▋| 19281/20029 [1:20:19<02:56,  4.24img/s]"
     ]
    },
    {
     "name": "stdout",
     "output_type": "stream",
     "text": [
      "1/1 [==============================] - 0s 38ms/step\n"
     ]
    },
    {
     "name": "stderr",
     "output_type": "stream",
     "text": [
      "OCR nos crops:  96%|█████████▋| 19282/20029 [1:20:19<02:55,  4.25img/s]"
     ]
    },
    {
     "name": "stdout",
     "output_type": "stream",
     "text": [
      "1/1 [==============================] - 0s 37ms/step\n"
     ]
    },
    {
     "name": "stderr",
     "output_type": "stream",
     "text": [
      "OCR nos crops:  96%|█████████▋| 19283/20029 [1:20:19<02:55,  4.25img/s]"
     ]
    },
    {
     "name": "stdout",
     "output_type": "stream",
     "text": [
      "1/1 [==============================] - 0s 51ms/step\n"
     ]
    },
    {
     "name": "stderr",
     "output_type": "stream",
     "text": [
      "OCR nos crops:  96%|█████████▋| 19284/20029 [1:20:19<02:58,  4.18img/s]"
     ]
    },
    {
     "name": "stdout",
     "output_type": "stream",
     "text": [
      "1/1 [==============================] - 0s 38ms/step\n"
     ]
    },
    {
     "name": "stderr",
     "output_type": "stream",
     "text": [
      "OCR nos crops:  96%|█████████▋| 19285/20029 [1:20:19<02:56,  4.22img/s]"
     ]
    },
    {
     "name": "stdout",
     "output_type": "stream",
     "text": [
      "1/1 [==============================] - 0s 49ms/step\n"
     ]
    },
    {
     "name": "stderr",
     "output_type": "stream",
     "text": [
      "OCR nos crops:  96%|█████████▋| 19286/20029 [1:20:20<02:57,  4.18img/s]"
     ]
    },
    {
     "name": "stdout",
     "output_type": "stream",
     "text": [
      "1/1 [==============================] - 0s 47ms/step\n"
     ]
    },
    {
     "name": "stderr",
     "output_type": "stream",
     "text": [
      "OCR nos crops:  96%|█████████▋| 19287/20029 [1:20:20<02:58,  4.17img/s]"
     ]
    },
    {
     "name": "stdout",
     "output_type": "stream",
     "text": [
      "1/1 [==============================] - 0s 40ms/step\n"
     ]
    },
    {
     "name": "stderr",
     "output_type": "stream",
     "text": [
      "OCR nos crops:  96%|█████████▋| 19288/20029 [1:20:20<02:55,  4.21img/s]"
     ]
    },
    {
     "name": "stdout",
     "output_type": "stream",
     "text": [
      "1/1 [==============================] - 0s 38ms/step\n"
     ]
    },
    {
     "name": "stderr",
     "output_type": "stream",
     "text": [
      "OCR nos crops:  96%|█████████▋| 19289/20029 [1:20:20<02:54,  4.25img/s]"
     ]
    },
    {
     "name": "stdout",
     "output_type": "stream",
     "text": [
      "1/1 [==============================] - 0s 38ms/step\n"
     ]
    },
    {
     "name": "stderr",
     "output_type": "stream",
     "text": [
      "OCR nos crops:  96%|█████████▋| 19290/20029 [1:20:21<02:52,  4.27img/s]"
     ]
    },
    {
     "name": "stdout",
     "output_type": "stream",
     "text": [
      "1/1 [==============================] - 0s 35ms/step\n"
     ]
    },
    {
     "name": "stderr",
     "output_type": "stream",
     "text": [
      "OCR nos crops:  96%|█████████▋| 19291/20029 [1:20:21<02:53,  4.26img/s]"
     ]
    },
    {
     "name": "stdout",
     "output_type": "stream",
     "text": [
      "1/1 [==============================] - 0s 38ms/step\n"
     ]
    },
    {
     "name": "stderr",
     "output_type": "stream",
     "text": [
      "OCR nos crops:  96%|█████████▋| 19292/20029 [1:20:21<02:52,  4.27img/s]"
     ]
    },
    {
     "name": "stdout",
     "output_type": "stream",
     "text": [
      "1/1 [==============================] - 0s 42ms/step\n"
     ]
    },
    {
     "name": "stderr",
     "output_type": "stream",
     "text": [
      "OCR nos crops:  96%|█████████▋| 19293/20029 [1:20:21<02:52,  4.26img/s]"
     ]
    },
    {
     "name": "stdout",
     "output_type": "stream",
     "text": [
      "1/1 [==============================] - 0s 34ms/step\n"
     ]
    },
    {
     "name": "stderr",
     "output_type": "stream",
     "text": [
      "OCR nos crops:  96%|█████████▋| 19294/20029 [1:20:22<02:50,  4.30img/s]"
     ]
    },
    {
     "name": "stdout",
     "output_type": "stream",
     "text": [
      "1/1 [==============================] - 0s 43ms/step\n"
     ]
    },
    {
     "name": "stderr",
     "output_type": "stream",
     "text": [
      "OCR nos crops:  96%|█████████▋| 19295/20029 [1:20:22<02:52,  4.25img/s]"
     ]
    },
    {
     "name": "stdout",
     "output_type": "stream",
     "text": [
      "1/1 [==============================] - 0s 38ms/step\n"
     ]
    },
    {
     "name": "stderr",
     "output_type": "stream",
     "text": [
      "OCR nos crops:  96%|█████████▋| 19296/20029 [1:20:22<02:51,  4.28img/s]"
     ]
    },
    {
     "name": "stdout",
     "output_type": "stream",
     "text": [
      "1/1 [==============================] - 0s 35ms/step\n"
     ]
    },
    {
     "name": "stderr",
     "output_type": "stream",
     "text": [
      "OCR nos crops:  96%|█████████▋| 19297/20029 [1:20:22<02:52,  4.25img/s]"
     ]
    },
    {
     "name": "stdout",
     "output_type": "stream",
     "text": [
      "1/1 [==============================] - 0s 47ms/step\n"
     ]
    },
    {
     "name": "stderr",
     "output_type": "stream",
     "text": [
      "OCR nos crops:  96%|█████████▋| 19298/20029 [1:20:23<02:55,  4.17img/s]"
     ]
    },
    {
     "name": "stdout",
     "output_type": "stream",
     "text": [
      "1/1 [==============================] - 0s 38ms/step\n"
     ]
    },
    {
     "name": "stderr",
     "output_type": "stream",
     "text": [
      "OCR nos crops:  96%|█████████▋| 19299/20029 [1:20:23<02:53,  4.21img/s]"
     ]
    },
    {
     "name": "stdout",
     "output_type": "stream",
     "text": [
      "1/1 [==============================] - 0s 45ms/step\n"
     ]
    },
    {
     "name": "stderr",
     "output_type": "stream",
     "text": [
      "OCR nos crops:  96%|█████████▋| 19300/20029 [1:20:23<02:54,  4.19img/s]"
     ]
    },
    {
     "name": "stdout",
     "output_type": "stream",
     "text": [
      "1/1 [==============================] - 0s 46ms/step\n"
     ]
    },
    {
     "name": "stderr",
     "output_type": "stream",
     "text": [
      "OCR nos crops:  96%|█████████▋| 19301/20029 [1:20:23<02:53,  4.19img/s]"
     ]
    },
    {
     "name": "stdout",
     "output_type": "stream",
     "text": [
      "1/1 [==============================] - 0s 38ms/step\n"
     ]
    },
    {
     "name": "stderr",
     "output_type": "stream",
     "text": [
      "OCR nos crops:  96%|█████████▋| 19302/20029 [1:20:23<02:52,  4.22img/s]"
     ]
    },
    {
     "name": "stdout",
     "output_type": "stream",
     "text": [
      "1/1 [==============================] - 0s 40ms/step\n"
     ]
    },
    {
     "name": "stderr",
     "output_type": "stream",
     "text": [
      "OCR nos crops:  96%|█████████▋| 19303/20029 [1:20:24<02:52,  4.22img/s]"
     ]
    },
    {
     "name": "stdout",
     "output_type": "stream",
     "text": [
      "1/1 [==============================] - 0s 37ms/step\n"
     ]
    },
    {
     "name": "stderr",
     "output_type": "stream",
     "text": [
      "OCR nos crops:  96%|█████████▋| 19304/20029 [1:20:24<02:50,  4.25img/s]"
     ]
    },
    {
     "name": "stdout",
     "output_type": "stream",
     "text": [
      "1/1 [==============================] - 0s 38ms/step\n"
     ]
    },
    {
     "name": "stderr",
     "output_type": "stream",
     "text": [
      "OCR nos crops:  96%|█████████▋| 19305/20029 [1:20:24<02:50,  4.24img/s]"
     ]
    },
    {
     "name": "stdout",
     "output_type": "stream",
     "text": [
      "1/1 [==============================] - 0s 43ms/step\n"
     ]
    },
    {
     "name": "stderr",
     "output_type": "stream",
     "text": [
      "OCR nos crops:  96%|█████████▋| 19306/20029 [1:20:24<02:52,  4.20img/s]"
     ]
    },
    {
     "name": "stdout",
     "output_type": "stream",
     "text": [
      "1/1 [==============================] - 0s 43ms/step\n"
     ]
    },
    {
     "name": "stderr",
     "output_type": "stream",
     "text": [
      "OCR nos crops:  96%|█████████▋| 19307/20029 [1:20:25<02:52,  4.19img/s]"
     ]
    },
    {
     "name": "stdout",
     "output_type": "stream",
     "text": [
      "1/1 [==============================] - 0s 43ms/step\n"
     ]
    },
    {
     "name": "stderr",
     "output_type": "stream",
     "text": [
      "OCR nos crops:  96%|█████████▋| 19308/20029 [1:20:25<02:53,  4.16img/s]"
     ]
    },
    {
     "name": "stdout",
     "output_type": "stream",
     "text": [
      "1/1 [==============================] - 0s 40ms/step\n"
     ]
    },
    {
     "name": "stderr",
     "output_type": "stream",
     "text": [
      "OCR nos crops:  96%|█████████▋| 19309/20029 [1:20:25<02:51,  4.19img/s]"
     ]
    },
    {
     "name": "stdout",
     "output_type": "stream",
     "text": [
      "1/1 [==============================] - 0s 38ms/step\n"
     ]
    },
    {
     "name": "stderr",
     "output_type": "stream",
     "text": [
      "OCR nos crops:  96%|█████████▋| 19310/20029 [1:20:25<02:50,  4.21img/s]"
     ]
    },
    {
     "name": "stdout",
     "output_type": "stream",
     "text": [
      "1/1 [==============================] - 0s 40ms/step\n"
     ]
    },
    {
     "name": "stderr",
     "output_type": "stream",
     "text": [
      "OCR nos crops:  96%|█████████▋| 19311/20029 [1:20:26<02:50,  4.22img/s]"
     ]
    },
    {
     "name": "stdout",
     "output_type": "stream",
     "text": [
      "1/1 [==============================] - 0s 44ms/step\n"
     ]
    },
    {
     "name": "stderr",
     "output_type": "stream",
     "text": [
      "OCR nos crops:  96%|█████████▋| 19312/20029 [1:20:26<02:52,  4.16img/s]"
     ]
    },
    {
     "name": "stdout",
     "output_type": "stream",
     "text": [
      "1/1 [==============================] - 0s 41ms/step\n"
     ]
    },
    {
     "name": "stderr",
     "output_type": "stream",
     "text": [
      "OCR nos crops:  96%|█████████▋| 19313/20029 [1:20:26<02:51,  4.19img/s]"
     ]
    },
    {
     "name": "stdout",
     "output_type": "stream",
     "text": [
      "1/1 [==============================] - 0s 38ms/step\n"
     ]
    },
    {
     "name": "stderr",
     "output_type": "stream",
     "text": [
      "OCR nos crops:  96%|█████████▋| 19314/20029 [1:20:26<02:50,  4.20img/s]"
     ]
    },
    {
     "name": "stdout",
     "output_type": "stream",
     "text": [
      "1/1 [==============================] - 0s 44ms/step\n"
     ]
    },
    {
     "name": "stderr",
     "output_type": "stream",
     "text": [
      "OCR nos crops:  96%|█████████▋| 19315/20029 [1:20:27<02:50,  4.20img/s]"
     ]
    },
    {
     "name": "stdout",
     "output_type": "stream",
     "text": [
      "1/1 [==============================] - 0s 43ms/step\n"
     ]
    },
    {
     "name": "stderr",
     "output_type": "stream",
     "text": [
      "OCR nos crops:  96%|█████████▋| 19316/20029 [1:20:27<02:50,  4.17img/s]"
     ]
    },
    {
     "name": "stdout",
     "output_type": "stream",
     "text": [
      "1/1 [==============================] - 0s 45ms/step\n"
     ]
    },
    {
     "name": "stderr",
     "output_type": "stream",
     "text": [
      "OCR nos crops:  96%|█████████▋| 19317/20029 [1:20:27<02:51,  4.14img/s]"
     ]
    },
    {
     "name": "stdout",
     "output_type": "stream",
     "text": [
      "1/1 [==============================] - 0s 38ms/step\n"
     ]
    },
    {
     "name": "stderr",
     "output_type": "stream",
     "text": [
      "OCR nos crops:  96%|█████████▋| 19318/20029 [1:20:27<02:50,  4.16img/s]"
     ]
    },
    {
     "name": "stdout",
     "output_type": "stream",
     "text": [
      "1/1 [==============================] - 0s 46ms/step\n"
     ]
    },
    {
     "name": "stderr",
     "output_type": "stream",
     "text": [
      "OCR nos crops:  96%|█████████▋| 19319/20029 [1:20:28<02:52,  4.10img/s]"
     ]
    },
    {
     "name": "stdout",
     "output_type": "stream",
     "text": [
      "1/1 [==============================] - 0s 43ms/step\n"
     ]
    },
    {
     "name": "stderr",
     "output_type": "stream",
     "text": [
      "OCR nos crops:  96%|█████████▋| 19320/20029 [1:20:28<02:54,  4.07img/s]"
     ]
    },
    {
     "name": "stdout",
     "output_type": "stream",
     "text": [
      "1/1 [==============================] - 0s 42ms/step\n"
     ]
    },
    {
     "name": "stderr",
     "output_type": "stream",
     "text": [
      "OCR nos crops:  96%|█████████▋| 19321/20029 [1:20:28<02:51,  4.14img/s]"
     ]
    },
    {
     "name": "stdout",
     "output_type": "stream",
     "text": [
      "1/1 [==============================] - 0s 37ms/step\n"
     ]
    },
    {
     "name": "stderr",
     "output_type": "stream",
     "text": [
      "OCR nos crops:  96%|█████████▋| 19322/20029 [1:20:28<02:49,  4.16img/s]"
     ]
    },
    {
     "name": "stdout",
     "output_type": "stream",
     "text": [
      "1/1 [==============================] - 0s 45ms/step\n"
     ]
    },
    {
     "name": "stderr",
     "output_type": "stream",
     "text": [
      "OCR nos crops:  96%|█████████▋| 19323/20029 [1:20:29<02:49,  4.16img/s]"
     ]
    },
    {
     "name": "stdout",
     "output_type": "stream",
     "text": [
      "1/1 [==============================] - 0s 42ms/step\n"
     ]
    },
    {
     "name": "stderr",
     "output_type": "stream",
     "text": [
      "OCR nos crops:  96%|█████████▋| 19324/20029 [1:20:29<02:49,  4.16img/s]"
     ]
    },
    {
     "name": "stdout",
     "output_type": "stream",
     "text": [
      "1/1 [==============================] - 0s 38ms/step\n"
     ]
    },
    {
     "name": "stderr",
     "output_type": "stream",
     "text": [
      "OCR nos crops:  96%|█████████▋| 19325/20029 [1:20:29<02:49,  4.16img/s]"
     ]
    },
    {
     "name": "stdout",
     "output_type": "stream",
     "text": [
      "1/1 [==============================] - 0s 46ms/step\n"
     ]
    },
    {
     "name": "stderr",
     "output_type": "stream",
     "text": [
      "OCR nos crops:  96%|█████████▋| 19326/20029 [1:20:29<02:50,  4.13img/s]"
     ]
    },
    {
     "name": "stdout",
     "output_type": "stream",
     "text": [
      "1/1 [==============================] - 0s 48ms/step\n"
     ]
    },
    {
     "name": "stderr",
     "output_type": "stream",
     "text": [
      "OCR nos crops:  96%|█████████▋| 19327/20029 [1:20:29<02:50,  4.11img/s]"
     ]
    },
    {
     "name": "stdout",
     "output_type": "stream",
     "text": [
      "1/1 [==============================] - 0s 37ms/step\n"
     ]
    },
    {
     "name": "stderr",
     "output_type": "stream",
     "text": [
      "OCR nos crops:  97%|█████████▋| 19328/20029 [1:20:30<02:50,  4.12img/s]"
     ]
    },
    {
     "name": "stdout",
     "output_type": "stream",
     "text": [
      "1/1 [==============================] - 0s 43ms/step\n"
     ]
    },
    {
     "name": "stderr",
     "output_type": "stream",
     "text": [
      "OCR nos crops:  97%|█████████▋| 19329/20029 [1:20:30<02:48,  4.15img/s]"
     ]
    },
    {
     "name": "stdout",
     "output_type": "stream",
     "text": [
      "1/1 [==============================] - 0s 42ms/step\n"
     ]
    },
    {
     "name": "stderr",
     "output_type": "stream",
     "text": [
      "OCR nos crops:  97%|█████████▋| 19330/20029 [1:20:30<02:47,  4.17img/s]"
     ]
    },
    {
     "name": "stdout",
     "output_type": "stream",
     "text": [
      "1/1 [==============================] - 0s 38ms/step\n"
     ]
    },
    {
     "name": "stderr",
     "output_type": "stream",
     "text": [
      "OCR nos crops:  97%|█████████▋| 19331/20029 [1:20:30<02:46,  4.19img/s]"
     ]
    },
    {
     "name": "stdout",
     "output_type": "stream",
     "text": [
      "1/1 [==============================] - 0s 48ms/step\n"
     ]
    },
    {
     "name": "stderr",
     "output_type": "stream",
     "text": [
      "OCR nos crops:  97%|█████████▋| 19332/20029 [1:20:31<02:48,  4.14img/s]"
     ]
    },
    {
     "name": "stdout",
     "output_type": "stream",
     "text": [
      "1/1 [==============================] - 0s 40ms/step\n"
     ]
    },
    {
     "name": "stderr",
     "output_type": "stream",
     "text": [
      "OCR nos crops:  97%|█████████▋| 19333/20029 [1:20:31<02:48,  4.13img/s]"
     ]
    },
    {
     "name": "stdout",
     "output_type": "stream",
     "text": [
      "1/1 [==============================] - 0s 44ms/step\n"
     ]
    },
    {
     "name": "stderr",
     "output_type": "stream",
     "text": [
      "OCR nos crops:  97%|█████████▋| 19334/20029 [1:20:31<02:47,  4.16img/s]"
     ]
    },
    {
     "name": "stdout",
     "output_type": "stream",
     "text": [
      "1/1 [==============================] - 0s 39ms/step\n"
     ]
    },
    {
     "name": "stderr",
     "output_type": "stream",
     "text": [
      "OCR nos crops:  97%|█████████▋| 19335/20029 [1:20:31<02:45,  4.19img/s]"
     ]
    },
    {
     "name": "stdout",
     "output_type": "stream",
     "text": [
      "1/1 [==============================] - 0s 42ms/step\n"
     ]
    },
    {
     "name": "stderr",
     "output_type": "stream",
     "text": [
      "OCR nos crops:  97%|█████████▋| 19336/20029 [1:20:32<02:45,  4.18img/s]"
     ]
    },
    {
     "name": "stdout",
     "output_type": "stream",
     "text": [
      "1/1 [==============================] - 0s 49ms/step\n"
     ]
    },
    {
     "name": "stderr",
     "output_type": "stream",
     "text": [
      "OCR nos crops:  97%|█████████▋| 19337/20029 [1:20:32<02:46,  4.16img/s]"
     ]
    },
    {
     "name": "stdout",
     "output_type": "stream",
     "text": [
      "1/1 [==============================] - 0s 38ms/step\n"
     ]
    },
    {
     "name": "stderr",
     "output_type": "stream",
     "text": [
      "OCR nos crops:  97%|█████████▋| 19338/20029 [1:20:32<02:43,  4.22img/s]"
     ]
    },
    {
     "name": "stdout",
     "output_type": "stream",
     "text": [
      "1/1 [==============================] - 0s 44ms/step\n"
     ]
    },
    {
     "name": "stderr",
     "output_type": "stream",
     "text": [
      "OCR nos crops:  97%|█████████▋| 19339/20029 [1:20:32<02:43,  4.22img/s]"
     ]
    },
    {
     "name": "stdout",
     "output_type": "stream",
     "text": [
      "1/1 [==============================] - 0s 41ms/step\n"
     ]
    },
    {
     "name": "stderr",
     "output_type": "stream",
     "text": [
      "OCR nos crops:  97%|█████████▋| 19340/20029 [1:20:33<02:42,  4.23img/s]"
     ]
    },
    {
     "name": "stdout",
     "output_type": "stream",
     "text": [
      "1/1 [==============================] - 0s 37ms/step\n"
     ]
    },
    {
     "name": "stderr",
     "output_type": "stream",
     "text": [
      "OCR nos crops:  97%|█████████▋| 19341/20029 [1:20:33<02:41,  4.26img/s]"
     ]
    },
    {
     "name": "stdout",
     "output_type": "stream",
     "text": [
      "1/1 [==============================] - 0s 38ms/step\n"
     ]
    },
    {
     "name": "stderr",
     "output_type": "stream",
     "text": [
      "OCR nos crops:  97%|█████████▋| 19342/20029 [1:20:33<02:41,  4.26img/s]"
     ]
    },
    {
     "name": "stdout",
     "output_type": "stream",
     "text": [
      "1/1 [==============================] - 0s 42ms/step\n"
     ]
    },
    {
     "name": "stderr",
     "output_type": "stream",
     "text": [
      "OCR nos crops:  97%|█████████▋| 19343/20029 [1:20:33<02:41,  4.26img/s]"
     ]
    },
    {
     "name": "stdout",
     "output_type": "stream",
     "text": [
      "1/1 [==============================] - 0s 35ms/step\n"
     ]
    },
    {
     "name": "stderr",
     "output_type": "stream",
     "text": [
      "OCR nos crops:  97%|█████████▋| 19344/20029 [1:20:34<02:39,  4.29img/s]"
     ]
    },
    {
     "name": "stdout",
     "output_type": "stream",
     "text": [
      "1/1 [==============================] - 0s 38ms/step\n"
     ]
    },
    {
     "name": "stderr",
     "output_type": "stream",
     "text": [
      "OCR nos crops:  97%|█████████▋| 19345/20029 [1:20:34<02:40,  4.27img/s]"
     ]
    },
    {
     "name": "stdout",
     "output_type": "stream",
     "text": [
      "1/1 [==============================] - 0s 45ms/step\n"
     ]
    },
    {
     "name": "stderr",
     "output_type": "stream",
     "text": [
      "OCR nos crops:  97%|█████████▋| 19346/20029 [1:20:34<02:40,  4.27img/s]"
     ]
    },
    {
     "name": "stdout",
     "output_type": "stream",
     "text": [
      "1/1 [==============================] - 0s 41ms/step\n"
     ]
    },
    {
     "name": "stderr",
     "output_type": "stream",
     "text": [
      "OCR nos crops:  97%|█████████▋| 19347/20029 [1:20:34<02:40,  4.26img/s]"
     ]
    },
    {
     "name": "stdout",
     "output_type": "stream",
     "text": [
      "1/1 [==============================] - 0s 37ms/step\n"
     ]
    },
    {
     "name": "stderr",
     "output_type": "stream",
     "text": [
      "OCR nos crops:  97%|█████████▋| 19348/20029 [1:20:34<02:39,  4.27img/s]"
     ]
    },
    {
     "name": "stdout",
     "output_type": "stream",
     "text": [
      "1/1 [==============================] - 0s 39ms/step\n"
     ]
    },
    {
     "name": "stderr",
     "output_type": "stream",
     "text": [
      "OCR nos crops:  97%|█████████▋| 19349/20029 [1:20:35<02:38,  4.28img/s]"
     ]
    },
    {
     "name": "stdout",
     "output_type": "stream",
     "text": [
      "1/1 [==============================] - 0s 40ms/step\n"
     ]
    },
    {
     "name": "stderr",
     "output_type": "stream",
     "text": [
      "OCR nos crops:  97%|█████████▋| 19350/20029 [1:20:35<02:38,  4.27img/s]"
     ]
    },
    {
     "name": "stdout",
     "output_type": "stream",
     "text": [
      "1/1 [==============================] - 0s 40ms/step\n"
     ]
    },
    {
     "name": "stderr",
     "output_type": "stream",
     "text": [
      "OCR nos crops:  97%|█████████▋| 19351/20029 [1:20:35<02:38,  4.27img/s]"
     ]
    },
    {
     "name": "stdout",
     "output_type": "stream",
     "text": [
      "1/1 [==============================] - 0s 37ms/step\n"
     ]
    },
    {
     "name": "stderr",
     "output_type": "stream",
     "text": [
      "OCR nos crops:  97%|█████████▋| 19352/20029 [1:20:35<02:37,  4.29img/s]"
     ]
    },
    {
     "name": "stdout",
     "output_type": "stream",
     "text": [
      "1/1 [==============================] - 0s 39ms/step\n"
     ]
    },
    {
     "name": "stderr",
     "output_type": "stream",
     "text": [
      "OCR nos crops:  97%|█████████▋| 19353/20029 [1:20:36<02:39,  4.23img/s]"
     ]
    },
    {
     "name": "stdout",
     "output_type": "stream",
     "text": [
      "1/1 [==============================] - 0s 43ms/step\n"
     ]
    },
    {
     "name": "stderr",
     "output_type": "stream",
     "text": [
      "OCR nos crops:  97%|█████████▋| 19354/20029 [1:20:36<02:39,  4.23img/s]"
     ]
    },
    {
     "name": "stdout",
     "output_type": "stream",
     "text": [
      "1/1 [==============================] - 0s 45ms/step\n"
     ]
    },
    {
     "name": "stderr",
     "output_type": "stream",
     "text": [
      "OCR nos crops:  97%|█████████▋| 19355/20029 [1:20:36<02:39,  4.23img/s]"
     ]
    },
    {
     "name": "stdout",
     "output_type": "stream",
     "text": [
      "1/1 [==============================] - 0s 43ms/step\n"
     ]
    },
    {
     "name": "stderr",
     "output_type": "stream",
     "text": [
      "OCR nos crops:  97%|█████████▋| 19356/20029 [1:20:36<02:39,  4.23img/s]"
     ]
    },
    {
     "name": "stdout",
     "output_type": "stream",
     "text": [
      "1/1 [==============================] - 0s 38ms/step\n"
     ]
    },
    {
     "name": "stderr",
     "output_type": "stream",
     "text": [
      "OCR nos crops:  97%|█████████▋| 19357/20029 [1:20:37<02:37,  4.26img/s]"
     ]
    },
    {
     "name": "stdout",
     "output_type": "stream",
     "text": [
      "1/1 [==============================] - 0s 42ms/step\n"
     ]
    },
    {
     "name": "stderr",
     "output_type": "stream",
     "text": [
      "OCR nos crops:  97%|█████████▋| 19358/20029 [1:20:37<02:37,  4.27img/s]"
     ]
    },
    {
     "name": "stdout",
     "output_type": "stream",
     "text": [
      "1/1 [==============================] - 0s 38ms/step\n"
     ]
    },
    {
     "name": "stderr",
     "output_type": "stream",
     "text": [
      "OCR nos crops:  97%|█████████▋| 19359/20029 [1:20:37<02:37,  4.26img/s]"
     ]
    },
    {
     "name": "stdout",
     "output_type": "stream",
     "text": [
      "1/1 [==============================] - 0s 47ms/step\n"
     ]
    },
    {
     "name": "stderr",
     "output_type": "stream",
     "text": [
      "OCR nos crops:  97%|█████████▋| 19360/20029 [1:20:37<02:39,  4.20img/s]"
     ]
    },
    {
     "name": "stdout",
     "output_type": "stream",
     "text": [
      "1/1 [==============================] - 0s 40ms/step\n"
     ]
    },
    {
     "name": "stderr",
     "output_type": "stream",
     "text": [
      "OCR nos crops:  97%|█████████▋| 19361/20029 [1:20:38<02:38,  4.22img/s]"
     ]
    },
    {
     "name": "stdout",
     "output_type": "stream",
     "text": [
      "1/1 [==============================] - 0s 42ms/step\n"
     ]
    },
    {
     "name": "stderr",
     "output_type": "stream",
     "text": [
      "OCR nos crops:  97%|█████████▋| 19362/20029 [1:20:38<02:38,  4.21img/s]"
     ]
    },
    {
     "name": "stdout",
     "output_type": "stream",
     "text": [
      "1/1 [==============================] - 0s 41ms/step\n"
     ]
    },
    {
     "name": "stderr",
     "output_type": "stream",
     "text": [
      "OCR nos crops:  97%|█████████▋| 19363/20029 [1:20:38<02:37,  4.22img/s]"
     ]
    },
    {
     "name": "stdout",
     "output_type": "stream",
     "text": [
      "1/1 [==============================] - 0s 48ms/step\n"
     ]
    },
    {
     "name": "stderr",
     "output_type": "stream",
     "text": [
      "OCR nos crops:  97%|█████████▋| 19364/20029 [1:20:38<02:38,  4.20img/s]"
     ]
    },
    {
     "name": "stdout",
     "output_type": "stream",
     "text": [
      "1/1 [==============================] - 0s 44ms/step\n"
     ]
    },
    {
     "name": "stderr",
     "output_type": "stream",
     "text": [
      "OCR nos crops:  97%|█████████▋| 19365/20029 [1:20:38<02:38,  4.20img/s]"
     ]
    },
    {
     "name": "stdout",
     "output_type": "stream",
     "text": [
      "1/1 [==============================] - 0s 39ms/step\n"
     ]
    },
    {
     "name": "stderr",
     "output_type": "stream",
     "text": [
      "OCR nos crops:  97%|█████████▋| 19366/20029 [1:20:39<02:38,  4.17img/s]"
     ]
    },
    {
     "name": "stdout",
     "output_type": "stream",
     "text": [
      "1/1 [==============================] - 0s 46ms/step\n"
     ]
    },
    {
     "name": "stderr",
     "output_type": "stream",
     "text": [
      "OCR nos crops:  97%|█████████▋| 19367/20029 [1:20:39<02:38,  4.18img/s]"
     ]
    },
    {
     "name": "stdout",
     "output_type": "stream",
     "text": [
      "1/1 [==============================] - 0s 42ms/step\n"
     ]
    },
    {
     "name": "stderr",
     "output_type": "stream",
     "text": [
      "OCR nos crops:  97%|█████████▋| 19368/20029 [1:20:39<02:38,  4.18img/s]"
     ]
    },
    {
     "name": "stdout",
     "output_type": "stream",
     "text": [
      "1/1 [==============================] - 0s 38ms/step\n"
     ]
    },
    {
     "name": "stderr",
     "output_type": "stream",
     "text": [
      "OCR nos crops:  97%|█████████▋| 19369/20029 [1:20:39<02:37,  4.19img/s]"
     ]
    },
    {
     "name": "stdout",
     "output_type": "stream",
     "text": [
      "1/1 [==============================] - 0s 45ms/step\n"
     ]
    },
    {
     "name": "stderr",
     "output_type": "stream",
     "text": [
      "OCR nos crops:  97%|█████████▋| 19370/20029 [1:20:40<02:37,  4.17img/s]"
     ]
    },
    {
     "name": "stdout",
     "output_type": "stream",
     "text": [
      "1/1 [==============================] - 0s 40ms/step\n"
     ]
    },
    {
     "name": "stderr",
     "output_type": "stream",
     "text": [
      "OCR nos crops:  97%|█████████▋| 19371/20029 [1:20:40<02:36,  4.20img/s]"
     ]
    },
    {
     "name": "stdout",
     "output_type": "stream",
     "text": [
      "1/1 [==============================] - 0s 38ms/step\n"
     ]
    },
    {
     "name": "stderr",
     "output_type": "stream",
     "text": [
      "OCR nos crops:  97%|█████████▋| 19372/20029 [1:20:40<02:35,  4.22img/s]"
     ]
    },
    {
     "name": "stdout",
     "output_type": "stream",
     "text": [
      "1/1 [==============================] - 0s 47ms/step\n"
     ]
    },
    {
     "name": "stderr",
     "output_type": "stream",
     "text": [
      "OCR nos crops:  97%|█████████▋| 19373/20029 [1:20:40<02:37,  4.16img/s]"
     ]
    },
    {
     "name": "stdout",
     "output_type": "stream",
     "text": [
      "1/1 [==============================] - 0s 39ms/step\n"
     ]
    },
    {
     "name": "stderr",
     "output_type": "stream",
     "text": [
      "OCR nos crops:  97%|█████████▋| 19374/20029 [1:20:41<02:36,  4.19img/s]"
     ]
    },
    {
     "name": "stdout",
     "output_type": "stream",
     "text": [
      "1/1 [==============================] - 0s 38ms/step\n"
     ]
    },
    {
     "name": "stderr",
     "output_type": "stream",
     "text": [
      "OCR nos crops:  97%|█████████▋| 19375/20029 [1:20:41<02:35,  4.22img/s]"
     ]
    },
    {
     "name": "stdout",
     "output_type": "stream",
     "text": [
      "1/1 [==============================] - 0s 37ms/step\n"
     ]
    },
    {
     "name": "stderr",
     "output_type": "stream",
     "text": [
      "OCR nos crops:  97%|█████████▋| 19376/20029 [1:20:41<02:33,  4.25img/s]"
     ]
    },
    {
     "name": "stdout",
     "output_type": "stream",
     "text": [
      "1/1 [==============================] - 0s 41ms/step\n"
     ]
    },
    {
     "name": "stderr",
     "output_type": "stream",
     "text": [
      "OCR nos crops:  97%|█████████▋| 19377/20029 [1:20:41<02:34,  4.22img/s]"
     ]
    },
    {
     "name": "stdout",
     "output_type": "stream",
     "text": [
      "1/1 [==============================] - 0s 37ms/step\n"
     ]
    },
    {
     "name": "stderr",
     "output_type": "stream",
     "text": [
      "OCR nos crops:  97%|█████████▋| 19378/20029 [1:20:42<02:32,  4.27img/s]"
     ]
    },
    {
     "name": "stdout",
     "output_type": "stream",
     "text": [
      "1/1 [==============================] - 0s 44ms/step\n"
     ]
    },
    {
     "name": "stderr",
     "output_type": "stream",
     "text": [
      "OCR nos crops:  97%|█████████▋| 19379/20029 [1:20:42<02:33,  4.23img/s]"
     ]
    },
    {
     "name": "stdout",
     "output_type": "stream",
     "text": [
      "1/1 [==============================] - 0s 44ms/step\n"
     ]
    },
    {
     "name": "stderr",
     "output_type": "stream",
     "text": [
      "OCR nos crops:  97%|█████████▋| 19380/20029 [1:20:42<02:33,  4.23img/s]"
     ]
    },
    {
     "name": "stdout",
     "output_type": "stream",
     "text": [
      "1/1 [==============================] - 0s 40ms/step\n"
     ]
    },
    {
     "name": "stderr",
     "output_type": "stream",
     "text": [
      "OCR nos crops:  97%|█████████▋| 19381/20029 [1:20:42<02:32,  4.25img/s]"
     ]
    },
    {
     "name": "stdout",
     "output_type": "stream",
     "text": [
      "1/1 [==============================] - 0s 44ms/step\n"
     ]
    },
    {
     "name": "stderr",
     "output_type": "stream",
     "text": [
      "OCR nos crops:  97%|█████████▋| 19382/20029 [1:20:43<02:33,  4.21img/s]"
     ]
    },
    {
     "name": "stdout",
     "output_type": "stream",
     "text": [
      "1/1 [==============================] - 0s 38ms/step\n"
     ]
    },
    {
     "name": "stderr",
     "output_type": "stream",
     "text": [
      "OCR nos crops:  97%|█████████▋| 19383/20029 [1:20:43<02:32,  4.23img/s]"
     ]
    },
    {
     "name": "stdout",
     "output_type": "stream",
     "text": [
      "1/1 [==============================] - 0s 35ms/step\n"
     ]
    },
    {
     "name": "stderr",
     "output_type": "stream",
     "text": [
      "OCR nos crops:  97%|█████████▋| 19384/20029 [1:20:43<02:30,  4.27img/s]"
     ]
    },
    {
     "name": "stdout",
     "output_type": "stream",
     "text": [
      "1/1 [==============================] - 0s 40ms/step\n"
     ]
    },
    {
     "name": "stderr",
     "output_type": "stream",
     "text": [
      "OCR nos crops:  97%|█████████▋| 19385/20029 [1:20:43<02:33,  4.20img/s]"
     ]
    },
    {
     "name": "stdout",
     "output_type": "stream",
     "text": [
      "1/1 [==============================] - 0s 41ms/step\n"
     ]
    },
    {
     "name": "stderr",
     "output_type": "stream",
     "text": [
      "OCR nos crops:  97%|█████████▋| 19386/20029 [1:20:43<02:33,  4.18img/s]"
     ]
    },
    {
     "name": "stdout",
     "output_type": "stream",
     "text": [
      "1/1 [==============================] - 0s 37ms/step\n"
     ]
    },
    {
     "name": "stderr",
     "output_type": "stream",
     "text": [
      "OCR nos crops:  97%|█████████▋| 19387/20029 [1:20:44<02:31,  4.22img/s]"
     ]
    },
    {
     "name": "stdout",
     "output_type": "stream",
     "text": [
      "1/1 [==============================] - 0s 38ms/step\n"
     ]
    },
    {
     "name": "stderr",
     "output_type": "stream",
     "text": [
      "OCR nos crops:  97%|█████████▋| 19388/20029 [1:20:44<02:30,  4.25img/s]"
     ]
    },
    {
     "name": "stdout",
     "output_type": "stream",
     "text": [
      "1/1 [==============================] - 0s 43ms/step\n"
     ]
    },
    {
     "name": "stderr",
     "output_type": "stream",
     "text": [
      "OCR nos crops:  97%|█████████▋| 19389/20029 [1:20:44<02:30,  4.25img/s]"
     ]
    },
    {
     "name": "stdout",
     "output_type": "stream",
     "text": [
      "1/1 [==============================] - 0s 39ms/step\n"
     ]
    },
    {
     "name": "stderr",
     "output_type": "stream",
     "text": [
      "OCR nos crops:  97%|█████████▋| 19390/20029 [1:20:44<02:30,  4.25img/s]"
     ]
    },
    {
     "name": "stdout",
     "output_type": "stream",
     "text": [
      "1/1 [==============================] - 0s 37ms/step\n"
     ]
    },
    {
     "name": "stderr",
     "output_type": "stream",
     "text": [
      "OCR nos crops:  97%|█████████▋| 19391/20029 [1:20:45<02:30,  4.24img/s]"
     ]
    },
    {
     "name": "stdout",
     "output_type": "stream",
     "text": [
      "1/1 [==============================] - 0s 40ms/step\n"
     ]
    },
    {
     "name": "stderr",
     "output_type": "stream",
     "text": [
      "OCR nos crops:  97%|█████████▋| 19392/20029 [1:20:45<02:29,  4.26img/s]"
     ]
    },
    {
     "name": "stdout",
     "output_type": "stream",
     "text": [
      "1/1 [==============================] - 0s 44ms/step\n"
     ]
    },
    {
     "name": "stderr",
     "output_type": "stream",
     "text": [
      "OCR nos crops:  97%|█████████▋| 19393/20029 [1:20:45<02:30,  4.23img/s]"
     ]
    },
    {
     "name": "stdout",
     "output_type": "stream",
     "text": [
      "1/1 [==============================] - 0s 42ms/step\n"
     ]
    },
    {
     "name": "stderr",
     "output_type": "stream",
     "text": [
      "OCR nos crops:  97%|█████████▋| 19394/20029 [1:20:45<02:30,  4.22img/s]"
     ]
    },
    {
     "name": "stdout",
     "output_type": "stream",
     "text": [
      "1/1 [==============================] - 0s 41ms/step\n"
     ]
    },
    {
     "name": "stderr",
     "output_type": "stream",
     "text": [
      "OCR nos crops:  97%|█████████▋| 19395/20029 [1:20:46<02:29,  4.24img/s]"
     ]
    },
    {
     "name": "stdout",
     "output_type": "stream",
     "text": [
      "1/1 [==============================] - 0s 37ms/step\n"
     ]
    },
    {
     "name": "stderr",
     "output_type": "stream",
     "text": [
      "OCR nos crops:  97%|█████████▋| 19396/20029 [1:20:46<02:28,  4.26img/s]"
     ]
    },
    {
     "name": "stdout",
     "output_type": "stream",
     "text": [
      "1/1 [==============================] - 0s 39ms/step\n"
     ]
    },
    {
     "name": "stderr",
     "output_type": "stream",
     "text": [
      "OCR nos crops:  97%|█████████▋| 19397/20029 [1:20:46<02:29,  4.22img/s]"
     ]
    },
    {
     "name": "stdout",
     "output_type": "stream",
     "text": [
      "1/1 [==============================] - 0s 47ms/step\n"
     ]
    },
    {
     "name": "stderr",
     "output_type": "stream",
     "text": [
      "OCR nos crops:  97%|█████████▋| 19398/20029 [1:20:46<02:30,  4.19img/s]"
     ]
    },
    {
     "name": "stdout",
     "output_type": "stream",
     "text": [
      "1/1 [==============================] - 0s 43ms/step\n"
     ]
    },
    {
     "name": "stderr",
     "output_type": "stream",
     "text": [
      "OCR nos crops:  97%|█████████▋| 19399/20029 [1:20:47<02:29,  4.20img/s]"
     ]
    },
    {
     "name": "stdout",
     "output_type": "stream",
     "text": [
      "1/1 [==============================] - 0s 41ms/step\n"
     ]
    },
    {
     "name": "stderr",
     "output_type": "stream",
     "text": [
      "OCR nos crops:  97%|█████████▋| 19400/20029 [1:20:47<02:30,  4.18img/s]"
     ]
    },
    {
     "name": "stdout",
     "output_type": "stream",
     "text": [
      "1/1 [==============================] - 0s 44ms/step\n"
     ]
    },
    {
     "name": "stderr",
     "output_type": "stream",
     "text": [
      "OCR nos crops:  97%|█████████▋| 19401/20029 [1:20:47<02:31,  4.15img/s]"
     ]
    },
    {
     "name": "stdout",
     "output_type": "stream",
     "text": [
      "1/1 [==============================] - 0s 43ms/step\n"
     ]
    },
    {
     "name": "stderr",
     "output_type": "stream",
     "text": [
      "OCR nos crops:  97%|█████████▋| 19402/20029 [1:20:47<02:30,  4.15img/s]"
     ]
    },
    {
     "name": "stdout",
     "output_type": "stream",
     "text": [
      "1/1 [==============================] - 0s 46ms/step\n"
     ]
    },
    {
     "name": "stderr",
     "output_type": "stream",
     "text": [
      "OCR nos crops:  97%|█████████▋| 19403/20029 [1:20:48<02:31,  4.13img/s]"
     ]
    },
    {
     "name": "stdout",
     "output_type": "stream",
     "text": [
      "1/1 [==============================] - 0s 45ms/step\n"
     ]
    },
    {
     "name": "stderr",
     "output_type": "stream",
     "text": [
      "OCR nos crops:  97%|█████████▋| 19404/20029 [1:20:48<02:31,  4.13img/s]"
     ]
    },
    {
     "name": "stdout",
     "output_type": "stream",
     "text": [
      "1/1 [==============================] - 0s 41ms/step\n"
     ]
    },
    {
     "name": "stderr",
     "output_type": "stream",
     "text": [
      "OCR nos crops:  97%|█████████▋| 19405/20029 [1:20:48<02:29,  4.17img/s]"
     ]
    },
    {
     "name": "stdout",
     "output_type": "stream",
     "text": [
      "1/1 [==============================] - 0s 41ms/step\n"
     ]
    },
    {
     "name": "stderr",
     "output_type": "stream",
     "text": [
      "OCR nos crops:  97%|█████████▋| 19406/20029 [1:20:48<02:29,  4.17img/s]"
     ]
    },
    {
     "name": "stdout",
     "output_type": "stream",
     "text": [
      "1/1 [==============================] - 0s 37ms/step\n"
     ]
    },
    {
     "name": "stderr",
     "output_type": "stream",
     "text": [
      "OCR nos crops:  97%|█████████▋| 19407/20029 [1:20:48<02:28,  4.20img/s]"
     ]
    },
    {
     "name": "stdout",
     "output_type": "stream",
     "text": [
      "1/1 [==============================] - 0s 45ms/step\n"
     ]
    },
    {
     "name": "stderr",
     "output_type": "stream",
     "text": [
      "OCR nos crops:  97%|█████████▋| 19408/20029 [1:20:49<02:28,  4.18img/s]"
     ]
    },
    {
     "name": "stdout",
     "output_type": "stream",
     "text": [
      "1/1 [==============================] - 0s 47ms/step\n"
     ]
    },
    {
     "name": "stderr",
     "output_type": "stream",
     "text": [
      "OCR nos crops:  97%|█████████▋| 19409/20029 [1:20:49<02:31,  4.10img/s]"
     ]
    },
    {
     "name": "stdout",
     "output_type": "stream",
     "text": [
      "1/1 [==============================] - 0s 38ms/step\n"
     ]
    },
    {
     "name": "stderr",
     "output_type": "stream",
     "text": [
      "OCR nos crops:  97%|█████████▋| 19410/20029 [1:20:49<02:30,  4.12img/s]"
     ]
    },
    {
     "name": "stdout",
     "output_type": "stream",
     "text": [
      "1/1 [==============================] - 0s 48ms/step\n"
     ]
    },
    {
     "name": "stderr",
     "output_type": "stream",
     "text": [
      "OCR nos crops:  97%|█████████▋| 19411/20029 [1:20:49<02:31,  4.09img/s]"
     ]
    },
    {
     "name": "stdout",
     "output_type": "stream",
     "text": [
      "1/1 [==============================] - 0s 47ms/step\n"
     ]
    },
    {
     "name": "stderr",
     "output_type": "stream",
     "text": [
      "OCR nos crops:  97%|█████████▋| 19412/20029 [1:20:50<02:31,  4.08img/s]"
     ]
    },
    {
     "name": "stdout",
     "output_type": "stream",
     "text": [
      "1/1 [==============================] - 0s 39ms/step\n"
     ]
    },
    {
     "name": "stderr",
     "output_type": "stream",
     "text": [
      "OCR nos crops:  97%|█████████▋| 19413/20029 [1:20:50<02:28,  4.13img/s]"
     ]
    },
    {
     "name": "stdout",
     "output_type": "stream",
     "text": [
      "1/1 [==============================] - 0s 47ms/step\n"
     ]
    },
    {
     "name": "stderr",
     "output_type": "stream",
     "text": [
      "OCR nos crops:  97%|█████████▋| 19414/20029 [1:20:50<02:29,  4.10img/s]"
     ]
    },
    {
     "name": "stdout",
     "output_type": "stream",
     "text": [
      "1/1 [==============================] - 0s 48ms/step\n"
     ]
    },
    {
     "name": "stderr",
     "output_type": "stream",
     "text": [
      "OCR nos crops:  97%|█████████▋| 19415/20029 [1:20:50<02:30,  4.07img/s]"
     ]
    },
    {
     "name": "stdout",
     "output_type": "stream",
     "text": [
      "1/1 [==============================] - 0s 39ms/step\n"
     ]
    },
    {
     "name": "stderr",
     "output_type": "stream",
     "text": [
      "OCR nos crops:  97%|█████████▋| 19416/20029 [1:20:51<02:29,  4.09img/s]"
     ]
    },
    {
     "name": "stdout",
     "output_type": "stream",
     "text": [
      "1/1 [==============================] - 0s 44ms/step\n"
     ]
    },
    {
     "name": "stderr",
     "output_type": "stream",
     "text": [
      "OCR nos crops:  97%|█████████▋| 19417/20029 [1:20:51<02:29,  4.10img/s]"
     ]
    },
    {
     "name": "stdout",
     "output_type": "stream",
     "text": [
      "1/1 [==============================] - 0s 38ms/step\n"
     ]
    },
    {
     "name": "stderr",
     "output_type": "stream",
     "text": [
      "OCR nos crops:  97%|█████████▋| 19418/20029 [1:20:51<02:26,  4.16img/s]"
     ]
    },
    {
     "name": "stdout",
     "output_type": "stream",
     "text": [
      "1/1 [==============================] - 0s 39ms/step\n"
     ]
    },
    {
     "name": "stderr",
     "output_type": "stream",
     "text": [
      "OCR nos crops:  97%|█████████▋| 19419/20029 [1:20:51<02:25,  4.20img/s]"
     ]
    },
    {
     "name": "stdout",
     "output_type": "stream",
     "text": [
      "1/1 [==============================] - 0s 42ms/step\n"
     ]
    },
    {
     "name": "stderr",
     "output_type": "stream",
     "text": [
      "OCR nos crops:  97%|█████████▋| 19420/20029 [1:20:52<02:23,  4.24img/s]"
     ]
    },
    {
     "name": "stdout",
     "output_type": "stream",
     "text": [
      "1/1 [==============================] - 0s 38ms/step\n"
     ]
    },
    {
     "name": "stderr",
     "output_type": "stream",
     "text": [
      "OCR nos crops:  97%|█████████▋| 19421/20029 [1:20:52<02:24,  4.21img/s]"
     ]
    },
    {
     "name": "stdout",
     "output_type": "stream",
     "text": [
      "1/1 [==============================] - 0s 46ms/step\n"
     ]
    },
    {
     "name": "stderr",
     "output_type": "stream",
     "text": [
      "OCR nos crops:  97%|█████████▋| 19422/20029 [1:20:52<02:24,  4.21img/s]"
     ]
    },
    {
     "name": "stdout",
     "output_type": "stream",
     "text": [
      "1/1 [==============================] - 0s 38ms/step\n"
     ]
    },
    {
     "name": "stderr",
     "output_type": "stream",
     "text": [
      "OCR nos crops:  97%|█████████▋| 19423/20029 [1:20:52<02:24,  4.20img/s]"
     ]
    },
    {
     "name": "stdout",
     "output_type": "stream",
     "text": [
      "1/1 [==============================] - 0s 45ms/step\n"
     ]
    },
    {
     "name": "stderr",
     "output_type": "stream",
     "text": [
      "OCR nos crops:  97%|█████████▋| 19424/20029 [1:20:53<02:23,  4.22img/s]"
     ]
    },
    {
     "name": "stdout",
     "output_type": "stream",
     "text": [
      "1/1 [==============================] - 0s 44ms/step\n"
     ]
    },
    {
     "name": "stderr",
     "output_type": "stream",
     "text": [
      "OCR nos crops:  97%|█████████▋| 19425/20029 [1:20:53<02:22,  4.22img/s]"
     ]
    },
    {
     "name": "stdout",
     "output_type": "stream",
     "text": [
      "1/1 [==============================] - 0s 38ms/step\n"
     ]
    },
    {
     "name": "stderr",
     "output_type": "stream",
     "text": [
      "OCR nos crops:  97%|█████████▋| 19426/20029 [1:20:53<02:21,  4.26img/s]"
     ]
    },
    {
     "name": "stdout",
     "output_type": "stream",
     "text": [
      "1/1 [==============================] - 0s 43ms/step\n"
     ]
    },
    {
     "name": "stderr",
     "output_type": "stream",
     "text": [
      "OCR nos crops:  97%|█████████▋| 19427/20029 [1:20:53<02:23,  4.19img/s]"
     ]
    },
    {
     "name": "stdout",
     "output_type": "stream",
     "text": [
      "1/1 [==============================] - 0s 43ms/step\n"
     ]
    },
    {
     "name": "stderr",
     "output_type": "stream",
     "text": [
      "OCR nos crops:  97%|█████████▋| 19428/20029 [1:20:54<02:23,  4.19img/s]"
     ]
    },
    {
     "name": "stdout",
     "output_type": "stream",
     "text": [
      "1/1 [==============================] - 0s 37ms/step\n"
     ]
    },
    {
     "name": "stderr",
     "output_type": "stream",
     "text": [
      "OCR nos crops:  97%|█████████▋| 19429/20029 [1:20:54<02:22,  4.22img/s]"
     ]
    },
    {
     "name": "stdout",
     "output_type": "stream",
     "text": [
      "1/1 [==============================] - 0s 44ms/step\n"
     ]
    },
    {
     "name": "stderr",
     "output_type": "stream",
     "text": [
      "OCR nos crops:  97%|█████████▋| 19430/20029 [1:20:54<02:21,  4.23img/s]"
     ]
    },
    {
     "name": "stdout",
     "output_type": "stream",
     "text": [
      "1/1 [==============================] - 0s 38ms/step\n"
     ]
    },
    {
     "name": "stderr",
     "output_type": "stream",
     "text": [
      "OCR nos crops:  97%|█████████▋| 19431/20029 [1:20:54<02:20,  4.25img/s]"
     ]
    },
    {
     "name": "stdout",
     "output_type": "stream",
     "text": [
      "1/1 [==============================] - 0s 33ms/step\n"
     ]
    },
    {
     "name": "stderr",
     "output_type": "stream",
     "text": [
      "OCR nos crops:  97%|█████████▋| 19432/20029 [1:20:54<02:18,  4.32img/s]"
     ]
    },
    {
     "name": "stdout",
     "output_type": "stream",
     "text": [
      "1/1 [==============================] - 0s 45ms/step\n"
     ]
    },
    {
     "name": "stderr",
     "output_type": "stream",
     "text": [
      "OCR nos crops:  97%|█████████▋| 19433/20029 [1:20:55<02:20,  4.23img/s]"
     ]
    },
    {
     "name": "stdout",
     "output_type": "stream",
     "text": [
      "1/1 [==============================] - 0s 46ms/step\n"
     ]
    },
    {
     "name": "stderr",
     "output_type": "stream",
     "text": [
      "OCR nos crops:  97%|█████████▋| 19434/20029 [1:20:55<02:21,  4.20img/s]"
     ]
    },
    {
     "name": "stdout",
     "output_type": "stream",
     "text": [
      "1/1 [==============================] - 0s 37ms/step\n"
     ]
    },
    {
     "name": "stderr",
     "output_type": "stream",
     "text": [
      "OCR nos crops:  97%|█████████▋| 19435/20029 [1:20:55<02:20,  4.22img/s]"
     ]
    },
    {
     "name": "stdout",
     "output_type": "stream",
     "text": [
      "1/1 [==============================] - 0s 39ms/step\n"
     ]
    },
    {
     "name": "stderr",
     "output_type": "stream",
     "text": [
      "OCR nos crops:  97%|█████████▋| 19436/20029 [1:20:55<02:19,  4.24img/s]"
     ]
    },
    {
     "name": "stdout",
     "output_type": "stream",
     "text": [
      "1/1 [==============================] - 0s 37ms/step\n"
     ]
    },
    {
     "name": "stderr",
     "output_type": "stream",
     "text": [
      "OCR nos crops:  97%|█████████▋| 19437/20029 [1:20:56<02:18,  4.26img/s]"
     ]
    },
    {
     "name": "stdout",
     "output_type": "stream",
     "text": [
      "1/1 [==============================] - 0s 40ms/step\n"
     ]
    },
    {
     "name": "stderr",
     "output_type": "stream",
     "text": [
      "OCR nos crops:  97%|█████████▋| 19438/20029 [1:20:56<02:19,  4.25img/s]"
     ]
    },
    {
     "name": "stdout",
     "output_type": "stream",
     "text": [
      "1/1 [==============================] - 0s 37ms/step\n"
     ]
    },
    {
     "name": "stderr",
     "output_type": "stream",
     "text": [
      "OCR nos crops:  97%|█████████▋| 19439/20029 [1:20:56<02:19,  4.23img/s]"
     ]
    },
    {
     "name": "stdout",
     "output_type": "stream",
     "text": [
      "1/1 [==============================] - 0s 40ms/step\n"
     ]
    },
    {
     "name": "stderr",
     "output_type": "stream",
     "text": [
      "OCR nos crops:  97%|█████████▋| 19440/20029 [1:20:56<02:19,  4.23img/s]"
     ]
    },
    {
     "name": "stdout",
     "output_type": "stream",
     "text": [
      "1/1 [==============================] - 0s 43ms/step\n"
     ]
    },
    {
     "name": "stderr",
     "output_type": "stream",
     "text": [
      "OCR nos crops:  97%|█████████▋| 19441/20029 [1:20:57<02:19,  4.23img/s]"
     ]
    },
    {
     "name": "stdout",
     "output_type": "stream",
     "text": [
      "1/1 [==============================] - 0s 44ms/step\n"
     ]
    },
    {
     "name": "stderr",
     "output_type": "stream",
     "text": [
      "OCR nos crops:  97%|█████████▋| 19442/20029 [1:20:57<02:19,  4.21img/s]"
     ]
    },
    {
     "name": "stdout",
     "output_type": "stream",
     "text": [
      "1/1 [==============================] - 0s 37ms/step\n"
     ]
    },
    {
     "name": "stderr",
     "output_type": "stream",
     "text": [
      "OCR nos crops:  97%|█████████▋| 19443/20029 [1:20:57<02:17,  4.25img/s]"
     ]
    },
    {
     "name": "stdout",
     "output_type": "stream",
     "text": [
      "1/1 [==============================] - 0s 44ms/step\n"
     ]
    },
    {
     "name": "stderr",
     "output_type": "stream",
     "text": [
      "OCR nos crops:  97%|█████████▋| 19444/20029 [1:20:57<02:19,  4.19img/s]"
     ]
    },
    {
     "name": "stdout",
     "output_type": "stream",
     "text": [
      "1/1 [==============================] - 0s 38ms/step\n"
     ]
    },
    {
     "name": "stderr",
     "output_type": "stream",
     "text": [
      "OCR nos crops:  97%|█████████▋| 19445/20029 [1:20:58<02:19,  4.18img/s]"
     ]
    },
    {
     "name": "stdout",
     "output_type": "stream",
     "text": [
      "1/1 [==============================] - 0s 38ms/step\n"
     ]
    },
    {
     "name": "stderr",
     "output_type": "stream",
     "text": [
      "OCR nos crops:  97%|█████████▋| 19446/20029 [1:20:58<02:18,  4.21img/s]"
     ]
    },
    {
     "name": "stdout",
     "output_type": "stream",
     "text": [
      "1/1 [==============================] - 0s 38ms/step\n"
     ]
    },
    {
     "name": "stderr",
     "output_type": "stream",
     "text": [
      "OCR nos crops:  97%|█████████▋| 19447/20029 [1:20:58<02:17,  4.23img/s]"
     ]
    },
    {
     "name": "stdout",
     "output_type": "stream",
     "text": [
      "1/1 [==============================] - 0s 49ms/step\n"
     ]
    },
    {
     "name": "stderr",
     "output_type": "stream",
     "text": [
      "OCR nos crops:  97%|█████████▋| 19448/20029 [1:20:58<02:18,  4.19img/s]"
     ]
    },
    {
     "name": "stdout",
     "output_type": "stream",
     "text": [
      "1/1 [==============================] - 0s 40ms/step\n"
     ]
    },
    {
     "name": "stderr",
     "output_type": "stream",
     "text": [
      "OCR nos crops:  97%|█████████▋| 19449/20029 [1:20:58<02:17,  4.20img/s]"
     ]
    },
    {
     "name": "stdout",
     "output_type": "stream",
     "text": [
      "1/1 [==============================] - 0s 41ms/step\n"
     ]
    },
    {
     "name": "stderr",
     "output_type": "stream",
     "text": [
      "OCR nos crops:  97%|█████████▋| 19450/20029 [1:20:59<02:16,  4.23img/s]"
     ]
    },
    {
     "name": "stdout",
     "output_type": "stream",
     "text": [
      "1/1 [==============================] - 0s 41ms/step\n"
     ]
    },
    {
     "name": "stderr",
     "output_type": "stream",
     "text": [
      "OCR nos crops:  97%|█████████▋| 19451/20029 [1:20:59<02:17,  4.21img/s]"
     ]
    },
    {
     "name": "stdout",
     "output_type": "stream",
     "text": [
      "1/1 [==============================] - 0s 46ms/step\n"
     ]
    },
    {
     "name": "stderr",
     "output_type": "stream",
     "text": [
      "OCR nos crops:  97%|█████████▋| 19452/20029 [1:20:59<02:17,  4.19img/s]"
     ]
    },
    {
     "name": "stdout",
     "output_type": "stream",
     "text": [
      "1/1 [==============================] - 0s 42ms/step\n"
     ]
    },
    {
     "name": "stderr",
     "output_type": "stream",
     "text": [
      "OCR nos crops:  97%|█████████▋| 19453/20029 [1:20:59<02:17,  4.20img/s]"
     ]
    },
    {
     "name": "stdout",
     "output_type": "stream",
     "text": [
      "1/1 [==============================] - 0s 48ms/step\n"
     ]
    },
    {
     "name": "stderr",
     "output_type": "stream",
     "text": [
      "OCR nos crops:  97%|█████████▋| 19454/20029 [1:21:00<02:19,  4.14img/s]"
     ]
    },
    {
     "name": "stdout",
     "output_type": "stream",
     "text": [
      "1/1 [==============================] - 0s 46ms/step\n"
     ]
    },
    {
     "name": "stderr",
     "output_type": "stream",
     "text": [
      "OCR nos crops:  97%|█████████▋| 19455/20029 [1:21:00<02:19,  4.12img/s]"
     ]
    },
    {
     "name": "stdout",
     "output_type": "stream",
     "text": [
      "1/1 [==============================] - 0s 43ms/step\n"
     ]
    },
    {
     "name": "stderr",
     "output_type": "stream",
     "text": [
      "OCR nos crops:  97%|█████████▋| 19456/20029 [1:21:00<02:18,  4.15img/s]"
     ]
    },
    {
     "name": "stdout",
     "output_type": "stream",
     "text": [
      "1/1 [==============================] - 0s 40ms/step\n"
     ]
    },
    {
     "name": "stderr",
     "output_type": "stream",
     "text": [
      "OCR nos crops:  97%|█████████▋| 19457/20029 [1:21:00<02:18,  4.14img/s]"
     ]
    },
    {
     "name": "stdout",
     "output_type": "stream",
     "text": [
      "1/1 [==============================] - 0s 44ms/step\n"
     ]
    },
    {
     "name": "stderr",
     "output_type": "stream",
     "text": [
      "OCR nos crops:  97%|█████████▋| 19458/20029 [1:21:01<02:18,  4.12img/s]"
     ]
    },
    {
     "name": "stdout",
     "output_type": "stream",
     "text": [
      "1/1 [==============================] - 0s 40ms/step\n"
     ]
    },
    {
     "name": "stderr",
     "output_type": "stream",
     "text": [
      "OCR nos crops:  97%|█████████▋| 19459/20029 [1:21:01<02:17,  4.16img/s]"
     ]
    },
    {
     "name": "stdout",
     "output_type": "stream",
     "text": [
      "1/1 [==============================] - 0s 44ms/step\n"
     ]
    },
    {
     "name": "stderr",
     "output_type": "stream",
     "text": [
      "OCR nos crops:  97%|█████████▋| 19460/20029 [1:21:01<02:17,  4.14img/s]"
     ]
    },
    {
     "name": "stdout",
     "output_type": "stream",
     "text": [
      "1/1 [==============================] - 0s 46ms/step\n"
     ]
    },
    {
     "name": "stderr",
     "output_type": "stream",
     "text": [
      "OCR nos crops:  97%|█████████▋| 19461/20029 [1:21:01<02:18,  4.09img/s]"
     ]
    },
    {
     "name": "stdout",
     "output_type": "stream",
     "text": [
      "1/1 [==============================] - 0s 40ms/step\n"
     ]
    },
    {
     "name": "stderr",
     "output_type": "stream",
     "text": [
      "OCR nos crops:  97%|█████████▋| 19462/20029 [1:21:02<02:17,  4.14img/s]"
     ]
    },
    {
     "name": "stdout",
     "output_type": "stream",
     "text": [
      "1/1 [==============================] - 0s 47ms/step\n"
     ]
    },
    {
     "name": "stderr",
     "output_type": "stream",
     "text": [
      "OCR nos crops:  97%|█████████▋| 19463/20029 [1:21:02<02:18,  4.08img/s]"
     ]
    },
    {
     "name": "stdout",
     "output_type": "stream",
     "text": [
      "1/1 [==============================] - 0s 42ms/step\n"
     ]
    },
    {
     "name": "stderr",
     "output_type": "stream",
     "text": [
      "OCR nos crops:  97%|█████████▋| 19464/20029 [1:21:02<02:16,  4.13img/s]"
     ]
    },
    {
     "name": "stdout",
     "output_type": "stream",
     "text": [
      "1/1 [==============================] - 0s 46ms/step\n"
     ]
    },
    {
     "name": "stderr",
     "output_type": "stream",
     "text": [
      "OCR nos crops:  97%|█████████▋| 19465/20029 [1:21:02<02:16,  4.15img/s]"
     ]
    },
    {
     "name": "stdout",
     "output_type": "stream",
     "text": [
      "1/1 [==============================] - 0s 39ms/step\n"
     ]
    },
    {
     "name": "stderr",
     "output_type": "stream",
     "text": [
      "OCR nos crops:  97%|█████████▋| 19466/20029 [1:21:03<02:14,  4.20img/s]"
     ]
    },
    {
     "name": "stdout",
     "output_type": "stream",
     "text": [
      "1/1 [==============================] - 0s 43ms/step\n"
     ]
    },
    {
     "name": "stderr",
     "output_type": "stream",
     "text": [
      "OCR nos crops:  97%|█████████▋| 19467/20029 [1:21:03<02:14,  4.17img/s]"
     ]
    },
    {
     "name": "stdout",
     "output_type": "stream",
     "text": [
      "1/1 [==============================] - 0s 38ms/step\n"
     ]
    },
    {
     "name": "stderr",
     "output_type": "stream",
     "text": [
      "OCR nos crops:  97%|█████████▋| 19468/20029 [1:21:03<02:12,  4.24img/s]"
     ]
    },
    {
     "name": "stdout",
     "output_type": "stream",
     "text": [
      "1/1 [==============================] - 0s 34ms/step\n"
     ]
    },
    {
     "name": "stderr",
     "output_type": "stream",
     "text": [
      "OCR nos crops:  97%|█████████▋| 19469/20029 [1:21:03<02:11,  4.24img/s]"
     ]
    },
    {
     "name": "stdout",
     "output_type": "stream",
     "text": [
      "1/1 [==============================] - 0s 44ms/step\n"
     ]
    },
    {
     "name": "stderr",
     "output_type": "stream",
     "text": [
      "OCR nos crops:  97%|█████████▋| 19470/20029 [1:21:04<02:11,  4.24img/s]"
     ]
    },
    {
     "name": "stdout",
     "output_type": "stream",
     "text": [
      "1/1 [==============================] - 0s 44ms/step\n"
     ]
    },
    {
     "name": "stderr",
     "output_type": "stream",
     "text": [
      "OCR nos crops:  97%|█████████▋| 19471/20029 [1:21:04<02:12,  4.20img/s]"
     ]
    },
    {
     "name": "stdout",
     "output_type": "stream",
     "text": [
      "1/1 [==============================] - 0s 45ms/step\n"
     ]
    },
    {
     "name": "stderr",
     "output_type": "stream",
     "text": [
      "OCR nos crops:  97%|█████████▋| 19472/20029 [1:21:04<02:13,  4.19img/s]"
     ]
    },
    {
     "name": "stdout",
     "output_type": "stream",
     "text": [
      "1/1 [==============================] - 0s 44ms/step\n"
     ]
    },
    {
     "name": "stderr",
     "output_type": "stream",
     "text": [
      "OCR nos crops:  97%|█████████▋| 19473/20029 [1:21:04<02:13,  4.16img/s]"
     ]
    },
    {
     "name": "stdout",
     "output_type": "stream",
     "text": [
      "1/1 [==============================] - 0s 38ms/step\n"
     ]
    },
    {
     "name": "stderr",
     "output_type": "stream",
     "text": [
      "OCR nos crops:  97%|█████████▋| 19474/20029 [1:21:04<02:12,  4.19img/s]"
     ]
    },
    {
     "name": "stdout",
     "output_type": "stream",
     "text": [
      "1/1 [==============================] - 0s 45ms/step\n"
     ]
    },
    {
     "name": "stderr",
     "output_type": "stream",
     "text": [
      "OCR nos crops:  97%|█████████▋| 19475/20029 [1:21:05<02:13,  4.16img/s]"
     ]
    },
    {
     "name": "stdout",
     "output_type": "stream",
     "text": [
      "1/1 [==============================] - 0s 56ms/step\n"
     ]
    },
    {
     "name": "stderr",
     "output_type": "stream",
     "text": [
      "OCR nos crops:  97%|█████████▋| 19476/20029 [1:21:05<02:15,  4.07img/s]"
     ]
    },
    {
     "name": "stdout",
     "output_type": "stream",
     "text": [
      "1/1 [==============================] - 0s 40ms/step\n"
     ]
    },
    {
     "name": "stderr",
     "output_type": "stream",
     "text": [
      "OCR nos crops:  97%|█████████▋| 19477/20029 [1:21:05<02:13,  4.14img/s]"
     ]
    },
    {
     "name": "stdout",
     "output_type": "stream",
     "text": [
      "1/1 [==============================] - 0s 45ms/step\n"
     ]
    },
    {
     "name": "stderr",
     "output_type": "stream",
     "text": [
      "OCR nos crops:  97%|█████████▋| 19478/20029 [1:21:05<02:15,  4.07img/s]"
     ]
    },
    {
     "name": "stdout",
     "output_type": "stream",
     "text": [
      "1/1 [==============================] - 0s 39ms/step\n"
     ]
    },
    {
     "name": "stderr",
     "output_type": "stream",
     "text": [
      "OCR nos crops:  97%|█████████▋| 19479/20029 [1:21:06<02:13,  4.11img/s]"
     ]
    },
    {
     "name": "stdout",
     "output_type": "stream",
     "text": [
      "1/1 [==============================] - 0s 44ms/step\n"
     ]
    },
    {
     "name": "stderr",
     "output_type": "stream",
     "text": [
      "OCR nos crops:  97%|█████████▋| 19480/20029 [1:21:06<02:15,  4.06img/s]"
     ]
    },
    {
     "name": "stdout",
     "output_type": "stream",
     "text": [
      "1/1 [==============================] - 0s 38ms/step\n"
     ]
    },
    {
     "name": "stderr",
     "output_type": "stream",
     "text": [
      "OCR nos crops:  97%|█████████▋| 19481/20029 [1:21:06<02:15,  4.06img/s]"
     ]
    },
    {
     "name": "stdout",
     "output_type": "stream",
     "text": [
      "1/1 [==============================] - 0s 36ms/step\n"
     ]
    },
    {
     "name": "stderr",
     "output_type": "stream",
     "text": [
      "OCR nos crops:  97%|█████████▋| 19482/20029 [1:21:06<02:15,  4.05img/s]"
     ]
    },
    {
     "name": "stdout",
     "output_type": "stream",
     "text": [
      "1/1 [==============================] - 0s 42ms/step\n"
     ]
    },
    {
     "name": "stderr",
     "output_type": "stream",
     "text": [
      "OCR nos crops:  97%|█████████▋| 19483/20029 [1:21:07<02:14,  4.07img/s]"
     ]
    },
    {
     "name": "stdout",
     "output_type": "stream",
     "text": [
      "1/1 [==============================] - 0s 45ms/step\n"
     ]
    },
    {
     "name": "stderr",
     "output_type": "stream",
     "text": [
      "OCR nos crops:  97%|█████████▋| 19484/20029 [1:21:07<02:15,  4.01img/s]"
     ]
    },
    {
     "name": "stdout",
     "output_type": "stream",
     "text": [
      "1/1 [==============================] - 0s 46ms/step\n"
     ]
    },
    {
     "name": "stderr",
     "output_type": "stream",
     "text": [
      "OCR nos crops:  97%|█████████▋| 19485/20029 [1:21:07<02:15,  4.00img/s]"
     ]
    },
    {
     "name": "stdout",
     "output_type": "stream",
     "text": [
      "1/1 [==============================] - 0s 44ms/step\n"
     ]
    },
    {
     "name": "stderr",
     "output_type": "stream",
     "text": [
      "OCR nos crops:  97%|█████████▋| 19486/20029 [1:21:07<02:15,  4.00img/s]"
     ]
    },
    {
     "name": "stdout",
     "output_type": "stream",
     "text": [
      "1/1 [==============================] - 0s 45ms/step\n"
     ]
    },
    {
     "name": "stderr",
     "output_type": "stream",
     "text": [
      "OCR nos crops:  97%|█████████▋| 19487/20029 [1:21:08<02:14,  4.02img/s]"
     ]
    },
    {
     "name": "stdout",
     "output_type": "stream",
     "text": [
      "1/1 [==============================] - 0s 47ms/step\n"
     ]
    },
    {
     "name": "stderr",
     "output_type": "stream",
     "text": [
      "OCR nos crops:  97%|█████████▋| 19488/20029 [1:21:08<02:15,  3.98img/s]"
     ]
    },
    {
     "name": "stdout",
     "output_type": "stream",
     "text": [
      "1/1 [==============================] - 0s 46ms/step\n"
     ]
    },
    {
     "name": "stderr",
     "output_type": "stream",
     "text": [
      "OCR nos crops:  97%|█████████▋| 19489/20029 [1:21:08<02:13,  4.03img/s]"
     ]
    },
    {
     "name": "stdout",
     "output_type": "stream",
     "text": [
      "1/1 [==============================] - 0s 49ms/step\n"
     ]
    },
    {
     "name": "stderr",
     "output_type": "stream",
     "text": [
      "OCR nos crops:  97%|█████████▋| 19490/20029 [1:21:08<02:13,  4.05img/s]"
     ]
    },
    {
     "name": "stdout",
     "output_type": "stream",
     "text": [
      "1/1 [==============================] - 0s 46ms/step\n"
     ]
    },
    {
     "name": "stderr",
     "output_type": "stream",
     "text": [
      "OCR nos crops:  97%|█████████▋| 19491/20029 [1:21:09<02:12,  4.05img/s]"
     ]
    },
    {
     "name": "stdout",
     "output_type": "stream",
     "text": [
      "1/1 [==============================] - 0s 39ms/step\n"
     ]
    },
    {
     "name": "stderr",
     "output_type": "stream",
     "text": [
      "OCR nos crops:  97%|█████████▋| 19492/20029 [1:21:09<02:12,  4.05img/s]"
     ]
    },
    {
     "name": "stdout",
     "output_type": "stream",
     "text": [
      "1/1 [==============================] - 0s 44ms/step\n"
     ]
    },
    {
     "name": "stderr",
     "output_type": "stream",
     "text": [
      "OCR nos crops:  97%|█████████▋| 19493/20029 [1:21:09<02:11,  4.07img/s]"
     ]
    },
    {
     "name": "stdout",
     "output_type": "stream",
     "text": [
      "1/1 [==============================] - 0s 43ms/step\n"
     ]
    },
    {
     "name": "stderr",
     "output_type": "stream",
     "text": [
      "OCR nos crops:  97%|█████████▋| 19494/20029 [1:21:09<02:12,  4.04img/s]"
     ]
    },
    {
     "name": "stdout",
     "output_type": "stream",
     "text": [
      "1/1 [==============================] - 0s 43ms/step\n"
     ]
    },
    {
     "name": "stderr",
     "output_type": "stream",
     "text": [
      "OCR nos crops:  97%|█████████▋| 19495/20029 [1:21:10<02:11,  4.07img/s]"
     ]
    },
    {
     "name": "stdout",
     "output_type": "stream",
     "text": [
      "1/1 [==============================] - 0s 39ms/step\n"
     ]
    },
    {
     "name": "stderr",
     "output_type": "stream",
     "text": [
      "OCR nos crops:  97%|█████████▋| 19496/20029 [1:21:10<02:09,  4.11img/s]"
     ]
    },
    {
     "name": "stdout",
     "output_type": "stream",
     "text": [
      "1/1 [==============================] - 0s 46ms/step\n"
     ]
    },
    {
     "name": "stderr",
     "output_type": "stream",
     "text": [
      "OCR nos crops:  97%|█████████▋| 19497/20029 [1:21:10<02:09,  4.09img/s]"
     ]
    },
    {
     "name": "stdout",
     "output_type": "stream",
     "text": [
      "1/1 [==============================] - 0s 46ms/step\n"
     ]
    },
    {
     "name": "stderr",
     "output_type": "stream",
     "text": [
      "OCR nos crops:  97%|█████████▋| 19498/20029 [1:21:10<02:10,  4.08img/s]"
     ]
    },
    {
     "name": "stdout",
     "output_type": "stream",
     "text": [
      "1/1 [==============================] - 0s 39ms/step\n"
     ]
    },
    {
     "name": "stderr",
     "output_type": "stream",
     "text": [
      "OCR nos crops:  97%|█████████▋| 19499/20029 [1:21:11<02:07,  4.16img/s]"
     ]
    },
    {
     "name": "stdout",
     "output_type": "stream",
     "text": [
      "1/1 [==============================] - 0s 38ms/step\n"
     ]
    },
    {
     "name": "stderr",
     "output_type": "stream",
     "text": [
      "OCR nos crops:  97%|█████████▋| 19500/20029 [1:21:11<02:06,  4.19img/s]"
     ]
    },
    {
     "name": "stdout",
     "output_type": "stream",
     "text": [
      "1/1 [==============================] - 0s 44ms/step\n"
     ]
    },
    {
     "name": "stderr",
     "output_type": "stream",
     "text": [
      "OCR nos crops:  97%|█████████▋| 19501/20029 [1:21:11<02:05,  4.19img/s]"
     ]
    },
    {
     "name": "stdout",
     "output_type": "stream",
     "text": [
      "1/1 [==============================] - 0s 38ms/step\n"
     ]
    },
    {
     "name": "stderr",
     "output_type": "stream",
     "text": [
      "OCR nos crops:  97%|█████████▋| 19502/20029 [1:21:11<02:04,  4.23img/s]"
     ]
    },
    {
     "name": "stdout",
     "output_type": "stream",
     "text": [
      "1/1 [==============================] - 0s 39ms/step\n"
     ]
    },
    {
     "name": "stderr",
     "output_type": "stream",
     "text": [
      "OCR nos crops:  97%|█████████▋| 19503/20029 [1:21:12<02:04,  4.24img/s]"
     ]
    },
    {
     "name": "stdout",
     "output_type": "stream",
     "text": [
      "1/1 [==============================] - 0s 49ms/step\n"
     ]
    },
    {
     "name": "stderr",
     "output_type": "stream",
     "text": [
      "OCR nos crops:  97%|█████████▋| 19504/20029 [1:21:12<02:05,  4.19img/s]"
     ]
    },
    {
     "name": "stdout",
     "output_type": "stream",
     "text": [
      "1/1 [==============================] - 0s 40ms/step\n"
     ]
    },
    {
     "name": "stderr",
     "output_type": "stream",
     "text": [
      "OCR nos crops:  97%|█████████▋| 19505/20029 [1:21:12<02:04,  4.21img/s]"
     ]
    },
    {
     "name": "stdout",
     "output_type": "stream",
     "text": [
      "1/1 [==============================] - 0s 45ms/step\n"
     ]
    },
    {
     "name": "stderr",
     "output_type": "stream",
     "text": [
      "OCR nos crops:  97%|█████████▋| 19506/20029 [1:21:12<02:05,  4.18img/s]"
     ]
    },
    {
     "name": "stdout",
     "output_type": "stream",
     "text": [
      "1/1 [==============================] - 0s 42ms/step\n"
     ]
    },
    {
     "name": "stderr",
     "output_type": "stream",
     "text": [
      "OCR nos crops:  97%|█████████▋| 19507/20029 [1:21:13<02:05,  4.17img/s]"
     ]
    },
    {
     "name": "stdout",
     "output_type": "stream",
     "text": [
      "1/1 [==============================] - 0s 38ms/step\n"
     ]
    },
    {
     "name": "stderr",
     "output_type": "stream",
     "text": [
      "OCR nos crops:  97%|█████████▋| 19508/20029 [1:21:13<02:04,  4.19img/s]"
     ]
    },
    {
     "name": "stdout",
     "output_type": "stream",
     "text": [
      "1/1 [==============================] - 0s 37ms/step\n"
     ]
    },
    {
     "name": "stderr",
     "output_type": "stream",
     "text": [
      "OCR nos crops:  97%|█████████▋| 19509/20029 [1:21:13<02:04,  4.19img/s]"
     ]
    },
    {
     "name": "stdout",
     "output_type": "stream",
     "text": [
      "1/1 [==============================] - 0s 44ms/step\n"
     ]
    },
    {
     "name": "stderr",
     "output_type": "stream",
     "text": [
      "OCR nos crops:  97%|█████████▋| 19510/20029 [1:21:13<02:03,  4.20img/s]"
     ]
    },
    {
     "name": "stdout",
     "output_type": "stream",
     "text": [
      "1/1 [==============================] - 0s 47ms/step\n"
     ]
    },
    {
     "name": "stderr",
     "output_type": "stream",
     "text": [
      "OCR nos crops:  97%|█████████▋| 19511/20029 [1:21:14<02:04,  4.16img/s]"
     ]
    },
    {
     "name": "stdout",
     "output_type": "stream",
     "text": [
      "1/1 [==============================] - 0s 46ms/step\n"
     ]
    },
    {
     "name": "stderr",
     "output_type": "stream",
     "text": [
      "OCR nos crops:  97%|█████████▋| 19512/20029 [1:21:14<02:03,  4.17img/s]"
     ]
    },
    {
     "name": "stdout",
     "output_type": "stream",
     "text": [
      "1/1 [==============================] - 0s 53ms/step\n"
     ]
    },
    {
     "name": "stderr",
     "output_type": "stream",
     "text": [
      "OCR nos crops:  97%|█████████▋| 19513/20029 [1:21:14<02:05,  4.12img/s]"
     ]
    },
    {
     "name": "stdout",
     "output_type": "stream",
     "text": [
      "1/1 [==============================] - 0s 46ms/step\n"
     ]
    },
    {
     "name": "stderr",
     "output_type": "stream",
     "text": [
      "OCR nos crops:  97%|█████████▋| 19514/20029 [1:21:14<02:05,  4.12img/s]"
     ]
    },
    {
     "name": "stdout",
     "output_type": "stream",
     "text": [
      "1/1 [==============================] - 0s 49ms/step\n"
     ]
    },
    {
     "name": "stderr",
     "output_type": "stream",
     "text": [
      "OCR nos crops:  97%|█████████▋| 19515/20029 [1:21:14<02:04,  4.12img/s]"
     ]
    },
    {
     "name": "stdout",
     "output_type": "stream",
     "text": [
      "1/1 [==============================] - 0s 43ms/step\n"
     ]
    },
    {
     "name": "stderr",
     "output_type": "stream",
     "text": [
      "OCR nos crops:  97%|█████████▋| 19516/20029 [1:21:15<02:03,  4.16img/s]"
     ]
    },
    {
     "name": "stdout",
     "output_type": "stream",
     "text": [
      "1/1 [==============================] - 0s 37ms/step\n"
     ]
    },
    {
     "name": "stderr",
     "output_type": "stream",
     "text": [
      "OCR nos crops:  97%|█████████▋| 19517/20029 [1:21:15<02:01,  4.20img/s]"
     ]
    },
    {
     "name": "stdout",
     "output_type": "stream",
     "text": [
      "1/1 [==============================] - 0s 44ms/step\n"
     ]
    },
    {
     "name": "stderr",
     "output_type": "stream",
     "text": [
      "OCR nos crops:  97%|█████████▋| 19518/20029 [1:21:15<02:01,  4.20img/s]"
     ]
    },
    {
     "name": "stdout",
     "output_type": "stream",
     "text": [
      "1/1 [==============================] - 0s 39ms/step\n"
     ]
    },
    {
     "name": "stderr",
     "output_type": "stream",
     "text": [
      "OCR nos crops:  97%|█████████▋| 19519/20029 [1:21:15<02:01,  4.21img/s]"
     ]
    },
    {
     "name": "stdout",
     "output_type": "stream",
     "text": [
      "1/1 [==============================] - 0s 34ms/step\n"
     ]
    },
    {
     "name": "stderr",
     "output_type": "stream",
     "text": [
      "OCR nos crops:  97%|█████████▋| 19520/20029 [1:21:16<02:01,  4.20img/s]"
     ]
    },
    {
     "name": "stdout",
     "output_type": "stream",
     "text": [
      "1/1 [==============================] - 0s 46ms/step\n"
     ]
    },
    {
     "name": "stderr",
     "output_type": "stream",
     "text": [
      "OCR nos crops:  97%|█████████▋| 19521/20029 [1:21:16<02:01,  4.17img/s]"
     ]
    },
    {
     "name": "stdout",
     "output_type": "stream",
     "text": [
      "1/1 [==============================] - 0s 38ms/step\n"
     ]
    },
    {
     "name": "stderr",
     "output_type": "stream",
     "text": [
      "OCR nos crops:  97%|█████████▋| 19522/20029 [1:21:16<02:00,  4.22img/s]"
     ]
    },
    {
     "name": "stdout",
     "output_type": "stream",
     "text": [
      "1/1 [==============================] - 0s 38ms/step\n"
     ]
    },
    {
     "name": "stderr",
     "output_type": "stream",
     "text": [
      "OCR nos crops:  97%|█████████▋| 19523/20029 [1:21:16<01:59,  4.23img/s]"
     ]
    },
    {
     "name": "stdout",
     "output_type": "stream",
     "text": [
      "1/1 [==============================] - 0s 40ms/step\n"
     ]
    },
    {
     "name": "stderr",
     "output_type": "stream",
     "text": [
      "OCR nos crops:  97%|█████████▋| 19524/20029 [1:21:17<01:58,  4.26img/s]"
     ]
    },
    {
     "name": "stdout",
     "output_type": "stream",
     "text": [
      "1/1 [==============================] - 0s 36ms/step\n"
     ]
    },
    {
     "name": "stderr",
     "output_type": "stream",
     "text": [
      "OCR nos crops:  97%|█████████▋| 19525/20029 [1:21:17<01:59,  4.23img/s]"
     ]
    },
    {
     "name": "stdout",
     "output_type": "stream",
     "text": [
      "1/1 [==============================] - 0s 52ms/step\n"
     ]
    },
    {
     "name": "stderr",
     "output_type": "stream",
     "text": [
      "OCR nos crops:  97%|█████████▋| 19526/20029 [1:21:17<02:02,  4.11img/s]"
     ]
    },
    {
     "name": "stdout",
     "output_type": "stream",
     "text": [
      "1/1 [==============================] - 0s 41ms/step\n"
     ]
    },
    {
     "name": "stderr",
     "output_type": "stream",
     "text": [
      "OCR nos crops:  97%|█████████▋| 19527/20029 [1:21:17<02:00,  4.15img/s]"
     ]
    },
    {
     "name": "stdout",
     "output_type": "stream",
     "text": [
      "1/1 [==============================] - 0s 42ms/step\n"
     ]
    },
    {
     "name": "stderr",
     "output_type": "stream",
     "text": [
      "OCR nos crops:  97%|█████████▋| 19528/20029 [1:21:18<02:00,  4.15img/s]"
     ]
    },
    {
     "name": "stdout",
     "output_type": "stream",
     "text": [
      "1/1 [==============================] - 0s 45ms/step\n"
     ]
    },
    {
     "name": "stderr",
     "output_type": "stream",
     "text": [
      "OCR nos crops:  98%|█████████▊| 19529/20029 [1:21:18<02:00,  4.16img/s]"
     ]
    },
    {
     "name": "stdout",
     "output_type": "stream",
     "text": [
      "1/1 [==============================] - 0s 42ms/step\n"
     ]
    },
    {
     "name": "stderr",
     "output_type": "stream",
     "text": [
      "OCR nos crops:  98%|█████████▊| 19530/20029 [1:21:18<02:00,  4.14img/s]"
     ]
    },
    {
     "name": "stdout",
     "output_type": "stream",
     "text": [
      "1/1 [==============================] - 0s 46ms/step\n"
     ]
    },
    {
     "name": "stderr",
     "output_type": "stream",
     "text": [
      "OCR nos crops:  98%|█████████▊| 19531/20029 [1:21:18<02:01,  4.10img/s]"
     ]
    },
    {
     "name": "stdout",
     "output_type": "stream",
     "text": [
      "1/1 [==============================] - 0s 47ms/step\n"
     ]
    },
    {
     "name": "stderr",
     "output_type": "stream",
     "text": [
      "OCR nos crops:  98%|█████████▊| 19532/20029 [1:21:19<02:00,  4.12img/s]"
     ]
    },
    {
     "name": "stdout",
     "output_type": "stream",
     "text": [
      "1/1 [==============================] - 0s 45ms/step\n"
     ]
    },
    {
     "name": "stderr",
     "output_type": "stream",
     "text": [
      "OCR nos crops:  98%|█████████▊| 19533/20029 [1:21:19<02:01,  4.09img/s]"
     ]
    },
    {
     "name": "stdout",
     "output_type": "stream",
     "text": [
      "1/1 [==============================] - 0s 47ms/step\n"
     ]
    },
    {
     "name": "stderr",
     "output_type": "stream",
     "text": [
      "OCR nos crops:  98%|█████████▊| 19534/20029 [1:21:19<02:00,  4.11img/s]"
     ]
    },
    {
     "name": "stdout",
     "output_type": "stream",
     "text": [
      "1/1 [==============================] - 0s 43ms/step\n"
     ]
    },
    {
     "name": "stderr",
     "output_type": "stream",
     "text": [
      "OCR nos crops:  98%|█████████▊| 19535/20029 [1:21:19<01:58,  4.15img/s]"
     ]
    },
    {
     "name": "stdout",
     "output_type": "stream",
     "text": [
      "1/1 [==============================] - 0s 38ms/step\n"
     ]
    },
    {
     "name": "stderr",
     "output_type": "stream",
     "text": [
      "OCR nos crops:  98%|█████████▊| 19536/20029 [1:21:20<01:57,  4.19img/s]"
     ]
    },
    {
     "name": "stdout",
     "output_type": "stream",
     "text": [
      "1/1 [==============================] - 0s 53ms/step\n"
     ]
    },
    {
     "name": "stderr",
     "output_type": "stream",
     "text": [
      "OCR nos crops:  98%|█████████▊| 19537/20029 [1:21:20<01:58,  4.14img/s]"
     ]
    },
    {
     "name": "stdout",
     "output_type": "stream",
     "text": [
      "1/1 [==============================] - 0s 34ms/step\n"
     ]
    },
    {
     "name": "stderr",
     "output_type": "stream",
     "text": [
      "OCR nos crops:  98%|█████████▊| 19538/20029 [1:21:20<01:56,  4.20img/s]"
     ]
    },
    {
     "name": "stdout",
     "output_type": "stream",
     "text": [
      "1/1 [==============================] - 0s 45ms/step\n"
     ]
    },
    {
     "name": "stderr",
     "output_type": "stream",
     "text": [
      "OCR nos crops:  98%|█████████▊| 19539/20029 [1:21:20<01:57,  4.18img/s]"
     ]
    },
    {
     "name": "stdout",
     "output_type": "stream",
     "text": [
      "1/1 [==============================] - 0s 36ms/step\n"
     ]
    },
    {
     "name": "stderr",
     "output_type": "stream",
     "text": [
      "OCR nos crops:  98%|█████████▊| 19540/20029 [1:21:20<01:56,  4.21img/s]"
     ]
    },
    {
     "name": "stdout",
     "output_type": "stream",
     "text": [
      "1/1 [==============================] - 0s 40ms/step\n"
     ]
    },
    {
     "name": "stderr",
     "output_type": "stream",
     "text": [
      "OCR nos crops:  98%|█████████▊| 19541/20029 [1:21:21<01:55,  4.24img/s]"
     ]
    },
    {
     "name": "stdout",
     "output_type": "stream",
     "text": [
      "1/1 [==============================] - 0s 37ms/step\n"
     ]
    },
    {
     "name": "stderr",
     "output_type": "stream",
     "text": [
      "OCR nos crops:  98%|█████████▊| 19542/20029 [1:21:21<01:55,  4.21img/s]"
     ]
    },
    {
     "name": "stdout",
     "output_type": "stream",
     "text": [
      "1/1 [==============================] - 0s 41ms/step\n"
     ]
    },
    {
     "name": "stderr",
     "output_type": "stream",
     "text": [
      "OCR nos crops:  98%|█████████▊| 19543/20029 [1:21:21<01:55,  4.21img/s]"
     ]
    },
    {
     "name": "stdout",
     "output_type": "stream",
     "text": [
      "1/1 [==============================] - 0s 36ms/step\n"
     ]
    },
    {
     "name": "stderr",
     "output_type": "stream",
     "text": [
      "OCR nos crops:  98%|█████████▊| 19544/20029 [1:21:21<01:54,  4.23img/s]"
     ]
    },
    {
     "name": "stdout",
     "output_type": "stream",
     "text": [
      "1/1 [==============================] - 0s 42ms/step\n"
     ]
    },
    {
     "name": "stderr",
     "output_type": "stream",
     "text": [
      "OCR nos crops:  98%|█████████▊| 19545/20029 [1:21:22<01:54,  4.22img/s]"
     ]
    },
    {
     "name": "stdout",
     "output_type": "stream",
     "text": [
      "1/1 [==============================] - 0s 40ms/step\n"
     ]
    },
    {
     "name": "stderr",
     "output_type": "stream",
     "text": [
      "OCR nos crops:  98%|█████████▊| 19546/20029 [1:21:22<01:54,  4.22img/s]"
     ]
    },
    {
     "name": "stdout",
     "output_type": "stream",
     "text": [
      "1/1 [==============================] - 0s 46ms/step\n"
     ]
    },
    {
     "name": "stderr",
     "output_type": "stream",
     "text": [
      "OCR nos crops:  98%|█████████▊| 19547/20029 [1:21:22<01:54,  4.20img/s]"
     ]
    },
    {
     "name": "stdout",
     "output_type": "stream",
     "text": [
      "1/1 [==============================] - 0s 43ms/step\n"
     ]
    },
    {
     "name": "stderr",
     "output_type": "stream",
     "text": [
      "OCR nos crops:  98%|█████████▊| 19548/20029 [1:21:22<01:54,  4.19img/s]"
     ]
    },
    {
     "name": "stdout",
     "output_type": "stream",
     "text": [
      "1/1 [==============================] - 0s 38ms/step\n"
     ]
    },
    {
     "name": "stderr",
     "output_type": "stream",
     "text": [
      "OCR nos crops:  98%|█████████▊| 19549/20029 [1:21:23<01:54,  4.21img/s]"
     ]
    },
    {
     "name": "stdout",
     "output_type": "stream",
     "text": [
      "1/1 [==============================] - 0s 40ms/step\n"
     ]
    },
    {
     "name": "stderr",
     "output_type": "stream",
     "text": [
      "OCR nos crops:  98%|█████████▊| 19550/20029 [1:21:23<01:53,  4.21img/s]"
     ]
    },
    {
     "name": "stdout",
     "output_type": "stream",
     "text": [
      "1/1 [==============================] - 0s 45ms/step\n"
     ]
    },
    {
     "name": "stderr",
     "output_type": "stream",
     "text": [
      "OCR nos crops:  98%|█████████▊| 19551/20029 [1:21:23<01:54,  4.18img/s]"
     ]
    },
    {
     "name": "stdout",
     "output_type": "stream",
     "text": [
      "1/1 [==============================] - 0s 38ms/step\n"
     ]
    },
    {
     "name": "stderr",
     "output_type": "stream",
     "text": [
      "OCR nos crops:  98%|█████████▊| 19552/20029 [1:21:23<01:52,  4.24img/s]"
     ]
    },
    {
     "name": "stdout",
     "output_type": "stream",
     "text": [
      "1/1 [==============================] - 0s 41ms/step\n"
     ]
    },
    {
     "name": "stderr",
     "output_type": "stream",
     "text": [
      "OCR nos crops:  98%|█████████▊| 19553/20029 [1:21:24<01:53,  4.18img/s]"
     ]
    },
    {
     "name": "stdout",
     "output_type": "stream",
     "text": [
      "1/1 [==============================] - 0s 45ms/step\n"
     ]
    },
    {
     "name": "stderr",
     "output_type": "stream",
     "text": [
      "OCR nos crops:  98%|█████████▊| 19554/20029 [1:21:24<01:54,  4.16img/s]"
     ]
    },
    {
     "name": "stdout",
     "output_type": "stream",
     "text": [
      "1/1 [==============================] - 0s 39ms/step\n"
     ]
    },
    {
     "name": "stderr",
     "output_type": "stream",
     "text": [
      "OCR nos crops:  98%|█████████▊| 19555/20029 [1:21:24<01:53,  4.19img/s]"
     ]
    },
    {
     "name": "stdout",
     "output_type": "stream",
     "text": [
      "1/1 [==============================] - 0s 41ms/step\n"
     ]
    },
    {
     "name": "stderr",
     "output_type": "stream",
     "text": [
      "OCR nos crops:  98%|█████████▊| 19556/20029 [1:21:24<01:52,  4.20img/s]"
     ]
    },
    {
     "name": "stdout",
     "output_type": "stream",
     "text": [
      "1/1 [==============================] - 0s 32ms/step\n"
     ]
    },
    {
     "name": "stderr",
     "output_type": "stream",
     "text": [
      "OCR nos crops:  98%|█████████▊| 19557/20029 [1:21:24<01:51,  4.25img/s]"
     ]
    },
    {
     "name": "stdout",
     "output_type": "stream",
     "text": [
      "1/1 [==============================] - 0s 37ms/step\n"
     ]
    },
    {
     "name": "stderr",
     "output_type": "stream",
     "text": [
      "OCR nos crops:  98%|█████████▊| 19558/20029 [1:21:25<01:50,  4.24img/s]"
     ]
    },
    {
     "name": "stdout",
     "output_type": "stream",
     "text": [
      "1/1 [==============================] - 0s 51ms/step\n"
     ]
    },
    {
     "name": "stderr",
     "output_type": "stream",
     "text": [
      "OCR nos crops:  98%|█████████▊| 19559/20029 [1:21:25<01:52,  4.17img/s]"
     ]
    },
    {
     "name": "stdout",
     "output_type": "stream",
     "text": [
      "1/1 [==============================] - 0s 40ms/step\n"
     ]
    },
    {
     "name": "stderr",
     "output_type": "stream",
     "text": [
      "OCR nos crops:  98%|█████████▊| 19560/20029 [1:21:25<01:51,  4.20img/s]"
     ]
    },
    {
     "name": "stdout",
     "output_type": "stream",
     "text": [
      "1/1 [==============================] - 0s 49ms/step\n"
     ]
    },
    {
     "name": "stderr",
     "output_type": "stream",
     "text": [
      "OCR nos crops:  98%|█████████▊| 19561/20029 [1:21:25<01:52,  4.16img/s]"
     ]
    },
    {
     "name": "stdout",
     "output_type": "stream",
     "text": [
      "1/1 [==============================] - 0s 34ms/step\n"
     ]
    },
    {
     "name": "stderr",
     "output_type": "stream",
     "text": [
      "OCR nos crops:  98%|█████████▊| 19562/20029 [1:21:26<01:51,  4.20img/s]"
     ]
    },
    {
     "name": "stdout",
     "output_type": "stream",
     "text": [
      "1/1 [==============================] - 0s 42ms/step\n"
     ]
    },
    {
     "name": "stderr",
     "output_type": "stream",
     "text": [
      "OCR nos crops:  98%|█████████▊| 19563/20029 [1:21:26<01:51,  4.17img/s]"
     ]
    },
    {
     "name": "stdout",
     "output_type": "stream",
     "text": [
      "1/1 [==============================] - 0s 46ms/step\n"
     ]
    },
    {
     "name": "stderr",
     "output_type": "stream",
     "text": [
      "OCR nos crops:  98%|█████████▊| 19564/20029 [1:21:26<01:52,  4.13img/s]"
     ]
    },
    {
     "name": "stdout",
     "output_type": "stream",
     "text": [
      "1/1 [==============================] - 0s 47ms/step\n"
     ]
    },
    {
     "name": "stderr",
     "output_type": "stream",
     "text": [
      "OCR nos crops:  98%|█████████▊| 19565/20029 [1:21:26<01:52,  4.13img/s]"
     ]
    },
    {
     "name": "stdout",
     "output_type": "stream",
     "text": [
      "1/1 [==============================] - 0s 40ms/step\n"
     ]
    },
    {
     "name": "stderr",
     "output_type": "stream",
     "text": [
      "OCR nos crops:  98%|█████████▊| 19566/20029 [1:21:27<01:51,  4.13img/s]"
     ]
    },
    {
     "name": "stdout",
     "output_type": "stream",
     "text": [
      "1/1 [==============================] - 0s 43ms/step\n"
     ]
    },
    {
     "name": "stderr",
     "output_type": "stream",
     "text": [
      "OCR nos crops:  98%|█████████▊| 19567/20029 [1:21:27<01:51,  4.16img/s]"
     ]
    },
    {
     "name": "stdout",
     "output_type": "stream",
     "text": [
      "1/1 [==============================] - 0s 45ms/step\n"
     ]
    },
    {
     "name": "stderr",
     "output_type": "stream",
     "text": [
      "OCR nos crops:  98%|█████████▊| 19568/20029 [1:21:27<01:51,  4.15img/s]"
     ]
    },
    {
     "name": "stdout",
     "output_type": "stream",
     "text": [
      "1/1 [==============================] - 0s 39ms/step\n"
     ]
    },
    {
     "name": "stderr",
     "output_type": "stream",
     "text": [
      "OCR nos crops:  98%|█████████▊| 19569/20029 [1:21:27<01:50,  4.16img/s]"
     ]
    },
    {
     "name": "stdout",
     "output_type": "stream",
     "text": [
      "1/1 [==============================] - 0s 48ms/step\n"
     ]
    },
    {
     "name": "stderr",
     "output_type": "stream",
     "text": [
      "OCR nos crops:  98%|█████████▊| 19570/20029 [1:21:28<01:50,  4.15img/s]"
     ]
    },
    {
     "name": "stdout",
     "output_type": "stream",
     "text": [
      "1/1 [==============================] - 0s 38ms/step\n"
     ]
    },
    {
     "name": "stderr",
     "output_type": "stream",
     "text": [
      "OCR nos crops:  98%|█████████▊| 19571/20029 [1:21:28<01:49,  4.20img/s]"
     ]
    },
    {
     "name": "stdout",
     "output_type": "stream",
     "text": [
      "1/1 [==============================] - 0s 39ms/step\n"
     ]
    },
    {
     "name": "stderr",
     "output_type": "stream",
     "text": [
      "OCR nos crops:  98%|█████████▊| 19572/20029 [1:21:28<01:48,  4.22img/s]"
     ]
    },
    {
     "name": "stdout",
     "output_type": "stream",
     "text": [
      "1/1 [==============================] - 0s 38ms/step\n"
     ]
    },
    {
     "name": "stderr",
     "output_type": "stream",
     "text": [
      "OCR nos crops:  98%|█████████▊| 19573/20029 [1:21:28<01:48,  4.21img/s]"
     ]
    },
    {
     "name": "stdout",
     "output_type": "stream",
     "text": [
      "1/1 [==============================] - 0s 38ms/step\n"
     ]
    },
    {
     "name": "stderr",
     "output_type": "stream",
     "text": [
      "OCR nos crops:  98%|█████████▊| 19574/20029 [1:21:29<01:47,  4.24img/s]"
     ]
    },
    {
     "name": "stdout",
     "output_type": "stream",
     "text": [
      "1/1 [==============================] - 0s 42ms/step\n"
     ]
    },
    {
     "name": "stderr",
     "output_type": "stream",
     "text": [
      "OCR nos crops:  98%|█████████▊| 19575/20029 [1:21:29<01:48,  4.17img/s]"
     ]
    },
    {
     "name": "stdout",
     "output_type": "stream",
     "text": [
      "1/1 [==============================] - 0s 49ms/step\n"
     ]
    },
    {
     "name": "stderr",
     "output_type": "stream",
     "text": [
      "OCR nos crops:  98%|█████████▊| 19576/20029 [1:21:29<01:50,  4.10img/s]"
     ]
    },
    {
     "name": "stdout",
     "output_type": "stream",
     "text": [
      "1/1 [==============================] - 0s 46ms/step\n"
     ]
    },
    {
     "name": "stderr",
     "output_type": "stream",
     "text": [
      "OCR nos crops:  98%|█████████▊| 19577/20029 [1:21:29<01:49,  4.11img/s]"
     ]
    },
    {
     "name": "stdout",
     "output_type": "stream",
     "text": [
      "1/1 [==============================] - 0s 43ms/step\n"
     ]
    },
    {
     "name": "stderr",
     "output_type": "stream",
     "text": [
      "OCR nos crops:  98%|█████████▊| 19578/20029 [1:21:30<01:49,  4.13img/s]"
     ]
    },
    {
     "name": "stdout",
     "output_type": "stream",
     "text": [
      "1/1 [==============================] - 0s 43ms/step\n"
     ]
    },
    {
     "name": "stderr",
     "output_type": "stream",
     "text": [
      "OCR nos crops:  98%|█████████▊| 19579/20029 [1:21:30<01:49,  4.12img/s]"
     ]
    },
    {
     "name": "stdout",
     "output_type": "stream",
     "text": [
      "1/1 [==============================] - 0s 45ms/step\n"
     ]
    },
    {
     "name": "stderr",
     "output_type": "stream",
     "text": [
      "OCR nos crops:  98%|█████████▊| 19580/20029 [1:21:30<01:48,  4.13img/s]"
     ]
    },
    {
     "name": "stdout",
     "output_type": "stream",
     "text": [
      "1/1 [==============================] - 0s 48ms/step\n"
     ]
    },
    {
     "name": "stderr",
     "output_type": "stream",
     "text": [
      "OCR nos crops:  98%|█████████▊| 19581/20029 [1:21:30<01:49,  4.10img/s]"
     ]
    },
    {
     "name": "stdout",
     "output_type": "stream",
     "text": [
      "1/1 [==============================] - 0s 42ms/step\n"
     ]
    },
    {
     "name": "stderr",
     "output_type": "stream",
     "text": [
      "OCR nos crops:  98%|█████████▊| 19582/20029 [1:21:31<01:47,  4.14img/s]"
     ]
    },
    {
     "name": "stdout",
     "output_type": "stream",
     "text": [
      "1/1 [==============================] - 0s 47ms/step\n"
     ]
    },
    {
     "name": "stderr",
     "output_type": "stream",
     "text": [
      "OCR nos crops:  98%|█████████▊| 19583/20029 [1:21:31<01:48,  4.12img/s]"
     ]
    },
    {
     "name": "stdout",
     "output_type": "stream",
     "text": [
      "1/1 [==============================] - 0s 44ms/step\n"
     ]
    },
    {
     "name": "stderr",
     "output_type": "stream",
     "text": [
      "OCR nos crops:  98%|█████████▊| 19584/20029 [1:21:31<01:47,  4.12img/s]"
     ]
    },
    {
     "name": "stdout",
     "output_type": "stream",
     "text": [
      "1/1 [==============================] - 0s 40ms/step\n"
     ]
    },
    {
     "name": "stderr",
     "output_type": "stream",
     "text": [
      "OCR nos crops:  98%|█████████▊| 19585/20029 [1:21:31<01:46,  4.15img/s]"
     ]
    },
    {
     "name": "stdout",
     "output_type": "stream",
     "text": [
      "1/1 [==============================] - 0s 48ms/step\n"
     ]
    },
    {
     "name": "stderr",
     "output_type": "stream",
     "text": [
      "OCR nos crops:  98%|█████████▊| 19586/20029 [1:21:31<01:47,  4.12img/s]"
     ]
    },
    {
     "name": "stdout",
     "output_type": "stream",
     "text": [
      "1/1 [==============================] - 0s 46ms/step\n"
     ]
    },
    {
     "name": "stderr",
     "output_type": "stream",
     "text": [
      "OCR nos crops:  98%|█████████▊| 19587/20029 [1:21:32<01:47,  4.11img/s]"
     ]
    },
    {
     "name": "stdout",
     "output_type": "stream",
     "text": [
      "1/1 [==============================] - 0s 40ms/step\n"
     ]
    },
    {
     "name": "stderr",
     "output_type": "stream",
     "text": [
      "OCR nos crops:  98%|█████████▊| 19588/20029 [1:21:32<01:46,  4.15img/s]"
     ]
    },
    {
     "name": "stdout",
     "output_type": "stream",
     "text": [
      "1/1 [==============================] - 0s 50ms/step\n"
     ]
    },
    {
     "name": "stderr",
     "output_type": "stream",
     "text": [
      "OCR nos crops:  98%|█████████▊| 19589/20029 [1:21:32<01:46,  4.13img/s]"
     ]
    },
    {
     "name": "stdout",
     "output_type": "stream",
     "text": [
      "1/1 [==============================] - 0s 44ms/step\n"
     ]
    },
    {
     "name": "stderr",
     "output_type": "stream",
     "text": [
      "OCR nos crops:  98%|█████████▊| 19590/20029 [1:21:32<01:46,  4.14img/s]"
     ]
    },
    {
     "name": "stdout",
     "output_type": "stream",
     "text": [
      "1/1 [==============================] - 0s 49ms/step\n"
     ]
    },
    {
     "name": "stderr",
     "output_type": "stream",
     "text": [
      "OCR nos crops:  98%|█████████▊| 19591/20029 [1:21:33<01:46,  4.11img/s]"
     ]
    },
    {
     "name": "stdout",
     "output_type": "stream",
     "text": [
      "1/1 [==============================] - 0s 39ms/step\n"
     ]
    },
    {
     "name": "stderr",
     "output_type": "stream",
     "text": [
      "OCR nos crops:  98%|█████████▊| 19592/20029 [1:21:33<01:45,  4.14img/s]"
     ]
    },
    {
     "name": "stdout",
     "output_type": "stream",
     "text": [
      "1/1 [==============================] - 0s 48ms/step\n"
     ]
    },
    {
     "name": "stderr",
     "output_type": "stream",
     "text": [
      "OCR nos crops:  98%|█████████▊| 19593/20029 [1:21:33<01:44,  4.15img/s]"
     ]
    },
    {
     "name": "stdout",
     "output_type": "stream",
     "text": [
      "1/1 [==============================] - 0s 42ms/step\n"
     ]
    },
    {
     "name": "stderr",
     "output_type": "stream",
     "text": [
      "OCR nos crops:  98%|█████████▊| 19594/20029 [1:21:33<01:44,  4.17img/s]"
     ]
    },
    {
     "name": "stdout",
     "output_type": "stream",
     "text": [
      "1/1 [==============================] - 0s 44ms/step\n"
     ]
    },
    {
     "name": "stderr",
     "output_type": "stream",
     "text": [
      "OCR nos crops:  98%|█████████▊| 19595/20029 [1:21:34<01:43,  4.18img/s]"
     ]
    },
    {
     "name": "stdout",
     "output_type": "stream",
     "text": [
      "1/1 [==============================] - 0s 40ms/step\n"
     ]
    },
    {
     "name": "stderr",
     "output_type": "stream",
     "text": [
      "OCR nos crops:  98%|█████████▊| 19596/20029 [1:21:34<01:43,  4.17img/s]"
     ]
    },
    {
     "name": "stdout",
     "output_type": "stream",
     "text": [
      "1/1 [==============================] - 0s 42ms/step\n"
     ]
    },
    {
     "name": "stderr",
     "output_type": "stream",
     "text": [
      "OCR nos crops:  98%|█████████▊| 19597/20029 [1:21:34<01:42,  4.20img/s]"
     ]
    },
    {
     "name": "stdout",
     "output_type": "stream",
     "text": [
      "1/1 [==============================] - 0s 42ms/step\n"
     ]
    },
    {
     "name": "stderr",
     "output_type": "stream",
     "text": [
      "OCR nos crops:  98%|█████████▊| 19598/20029 [1:21:34<01:42,  4.21img/s]"
     ]
    },
    {
     "name": "stdout",
     "output_type": "stream",
     "text": [
      "1/1 [==============================] - 0s 43ms/step\n"
     ]
    },
    {
     "name": "stderr",
     "output_type": "stream",
     "text": [
      "OCR nos crops:  98%|█████████▊| 19599/20029 [1:21:35<01:42,  4.20img/s]"
     ]
    },
    {
     "name": "stdout",
     "output_type": "stream",
     "text": [
      "1/1 [==============================] - 0s 41ms/step\n"
     ]
    },
    {
     "name": "stderr",
     "output_type": "stream",
     "text": [
      "OCR nos crops:  98%|█████████▊| 19600/20029 [1:21:35<01:42,  4.19img/s]"
     ]
    },
    {
     "name": "stdout",
     "output_type": "stream",
     "text": [
      "1/1 [==============================] - 0s 42ms/step\n"
     ]
    },
    {
     "name": "stderr",
     "output_type": "stream",
     "text": [
      "OCR nos crops:  98%|█████████▊| 19601/20029 [1:21:35<01:42,  4.19img/s]"
     ]
    },
    {
     "name": "stdout",
     "output_type": "stream",
     "text": [
      "1/1 [==============================] - 0s 47ms/step\n"
     ]
    },
    {
     "name": "stderr",
     "output_type": "stream",
     "text": [
      "OCR nos crops:  98%|█████████▊| 19602/20029 [1:21:35<01:43,  4.13img/s]"
     ]
    },
    {
     "name": "stdout",
     "output_type": "stream",
     "text": [
      "1/1 [==============================] - 0s 40ms/step\n"
     ]
    },
    {
     "name": "stderr",
     "output_type": "stream",
     "text": [
      "OCR nos crops:  98%|█████████▊| 19603/20029 [1:21:36<01:41,  4.18img/s]"
     ]
    },
    {
     "name": "stdout",
     "output_type": "stream",
     "text": [
      "1/1 [==============================] - 0s 40ms/step\n"
     ]
    },
    {
     "name": "stderr",
     "output_type": "stream",
     "text": [
      "OCR nos crops:  98%|█████████▊| 19604/20029 [1:21:36<01:41,  4.17img/s]"
     ]
    },
    {
     "name": "stdout",
     "output_type": "stream",
     "text": [
      "1/1 [==============================] - 0s 40ms/step\n"
     ]
    },
    {
     "name": "stderr",
     "output_type": "stream",
     "text": [
      "OCR nos crops:  98%|█████████▊| 19605/20029 [1:21:36<01:40,  4.20img/s]"
     ]
    },
    {
     "name": "stdout",
     "output_type": "stream",
     "text": [
      "1/1 [==============================] - 0s 47ms/step\n"
     ]
    },
    {
     "name": "stderr",
     "output_type": "stream",
     "text": [
      "OCR nos crops:  98%|█████████▊| 19606/20029 [1:21:36<01:42,  4.12img/s]"
     ]
    },
    {
     "name": "stdout",
     "output_type": "stream",
     "text": [
      "1/1 [==============================] - 0s 43ms/step\n"
     ]
    },
    {
     "name": "stderr",
     "output_type": "stream",
     "text": [
      "OCR nos crops:  98%|█████████▊| 19607/20029 [1:21:37<01:41,  4.14img/s]"
     ]
    },
    {
     "name": "stdout",
     "output_type": "stream",
     "text": [
      "1/1 [==============================] - 0s 39ms/step\n"
     ]
    },
    {
     "name": "stderr",
     "output_type": "stream",
     "text": [
      "OCR nos crops:  98%|█████████▊| 19608/20029 [1:21:37<01:40,  4.17img/s]"
     ]
    },
    {
     "name": "stdout",
     "output_type": "stream",
     "text": [
      "1/1 [==============================] - 0s 46ms/step\n"
     ]
    },
    {
     "name": "stderr",
     "output_type": "stream",
     "text": [
      "OCR nos crops:  98%|█████████▊| 19609/20029 [1:21:37<01:40,  4.17img/s]"
     ]
    },
    {
     "name": "stdout",
     "output_type": "stream",
     "text": [
      "1/1 [==============================] - 0s 46ms/step\n"
     ]
    },
    {
     "name": "stderr",
     "output_type": "stream",
     "text": [
      "OCR nos crops:  98%|█████████▊| 19610/20029 [1:21:37<01:41,  4.13img/s]"
     ]
    },
    {
     "name": "stdout",
     "output_type": "stream",
     "text": [
      "1/1 [==============================] - 0s 39ms/step\n"
     ]
    },
    {
     "name": "stderr",
     "output_type": "stream",
     "text": [
      "OCR nos crops:  98%|█████████▊| 19611/20029 [1:21:37<01:40,  4.15img/s]"
     ]
    },
    {
     "name": "stdout",
     "output_type": "stream",
     "text": [
      "1/1 [==============================] - 0s 43ms/step\n"
     ]
    },
    {
     "name": "stderr",
     "output_type": "stream",
     "text": [
      "OCR nos crops:  98%|█████████▊| 19612/20029 [1:21:38<01:40,  4.15img/s]"
     ]
    },
    {
     "name": "stdout",
     "output_type": "stream",
     "text": [
      "1/1 [==============================] - 0s 43ms/step\n"
     ]
    },
    {
     "name": "stderr",
     "output_type": "stream",
     "text": [
      "OCR nos crops:  98%|█████████▊| 19613/20029 [1:21:38<01:40,  4.14img/s]"
     ]
    },
    {
     "name": "stdout",
     "output_type": "stream",
     "text": [
      "1/1 [==============================] - 0s 46ms/step\n"
     ]
    },
    {
     "name": "stderr",
     "output_type": "stream",
     "text": [
      "OCR nos crops:  98%|█████████▊| 19614/20029 [1:21:38<01:40,  4.13img/s]"
     ]
    },
    {
     "name": "stdout",
     "output_type": "stream",
     "text": [
      "1/1 [==============================] - 0s 34ms/step\n"
     ]
    },
    {
     "name": "stderr",
     "output_type": "stream",
     "text": [
      "OCR nos crops:  98%|█████████▊| 19615/20029 [1:21:38<01:38,  4.19img/s]"
     ]
    },
    {
     "name": "stdout",
     "output_type": "stream",
     "text": [
      "1/1 [==============================] - 0s 42ms/step\n"
     ]
    },
    {
     "name": "stderr",
     "output_type": "stream",
     "text": [
      "OCR nos crops:  98%|█████████▊| 19616/20029 [1:21:39<01:39,  4.16img/s]"
     ]
    },
    {
     "name": "stdout",
     "output_type": "stream",
     "text": [
      "1/1 [==============================] - 0s 41ms/step\n"
     ]
    },
    {
     "name": "stderr",
     "output_type": "stream",
     "text": [
      "OCR nos crops:  98%|█████████▊| 19617/20029 [1:21:39<01:38,  4.18img/s]"
     ]
    },
    {
     "name": "stdout",
     "output_type": "stream",
     "text": [
      "1/1 [==============================] - 0s 47ms/step\n"
     ]
    },
    {
     "name": "stderr",
     "output_type": "stream",
     "text": [
      "OCR nos crops:  98%|█████████▊| 19618/20029 [1:21:39<01:38,  4.18img/s]"
     ]
    },
    {
     "name": "stdout",
     "output_type": "stream",
     "text": [
      "1/1 [==============================] - 0s 37ms/step\n"
     ]
    },
    {
     "name": "stderr",
     "output_type": "stream",
     "text": [
      "OCR nos crops:  98%|█████████▊| 19619/20029 [1:21:39<01:37,  4.22img/s]"
     ]
    },
    {
     "name": "stdout",
     "output_type": "stream",
     "text": [
      "1/1 [==============================] - 0s 39ms/step\n"
     ]
    },
    {
     "name": "stderr",
     "output_type": "stream",
     "text": [
      "OCR nos crops:  98%|█████████▊| 19620/20029 [1:21:40<01:36,  4.24img/s]"
     ]
    },
    {
     "name": "stdout",
     "output_type": "stream",
     "text": [
      "1/1 [==============================] - 0s 40ms/step\n"
     ]
    },
    {
     "name": "stderr",
     "output_type": "stream",
     "text": [
      "OCR nos crops:  98%|█████████▊| 19621/20029 [1:21:40<01:37,  4.17img/s]"
     ]
    },
    {
     "name": "stdout",
     "output_type": "stream",
     "text": [
      "1/1 [==============================] - 0s 41ms/step\n"
     ]
    },
    {
     "name": "stderr",
     "output_type": "stream",
     "text": [
      "OCR nos crops:  98%|█████████▊| 19622/20029 [1:21:40<01:37,  4.17img/s]"
     ]
    },
    {
     "name": "stdout",
     "output_type": "stream",
     "text": [
      "1/1 [==============================] - 0s 45ms/step\n"
     ]
    },
    {
     "name": "stderr",
     "output_type": "stream",
     "text": [
      "OCR nos crops:  98%|█████████▊| 19623/20029 [1:21:40<01:37,  4.17img/s]"
     ]
    },
    {
     "name": "stdout",
     "output_type": "stream",
     "text": [
      "1/1 [==============================] - 0s 46ms/step\n"
     ]
    },
    {
     "name": "stderr",
     "output_type": "stream",
     "text": [
      "OCR nos crops:  98%|█████████▊| 19624/20029 [1:21:41<01:36,  4.20img/s]"
     ]
    },
    {
     "name": "stdout",
     "output_type": "stream",
     "text": [
      "1/1 [==============================] - 0s 41ms/step\n"
     ]
    },
    {
     "name": "stderr",
     "output_type": "stream",
     "text": [
      "OCR nos crops:  98%|█████████▊| 19625/20029 [1:21:41<01:36,  4.18img/s]"
     ]
    },
    {
     "name": "stdout",
     "output_type": "stream",
     "text": [
      "1/1 [==============================] - 0s 45ms/step\n"
     ]
    },
    {
     "name": "stderr",
     "output_type": "stream",
     "text": [
      "OCR nos crops:  98%|█████████▊| 19626/20029 [1:21:41<01:36,  4.17img/s]"
     ]
    },
    {
     "name": "stdout",
     "output_type": "stream",
     "text": [
      "1/1 [==============================] - 0s 38ms/step\n"
     ]
    },
    {
     "name": "stderr",
     "output_type": "stream",
     "text": [
      "OCR nos crops:  98%|█████████▊| 19627/20029 [1:21:41<01:35,  4.23img/s]"
     ]
    },
    {
     "name": "stdout",
     "output_type": "stream",
     "text": [
      "1/1 [==============================] - 0s 44ms/step\n"
     ]
    },
    {
     "name": "stderr",
     "output_type": "stream",
     "text": [
      "OCR nos crops:  98%|█████████▊| 19628/20029 [1:21:42<01:35,  4.21img/s]"
     ]
    },
    {
     "name": "stdout",
     "output_type": "stream",
     "text": [
      "1/1 [==============================] - 0s 42ms/step\n"
     ]
    },
    {
     "name": "stderr",
     "output_type": "stream",
     "text": [
      "OCR nos crops:  98%|█████████▊| 19629/20029 [1:21:42<01:34,  4.23img/s]"
     ]
    },
    {
     "name": "stdout",
     "output_type": "stream",
     "text": [
      "1/1 [==============================] - 0s 46ms/step\n"
     ]
    },
    {
     "name": "stderr",
     "output_type": "stream",
     "text": [
      "OCR nos crops:  98%|█████████▊| 19630/20029 [1:21:42<01:35,  4.19img/s]"
     ]
    },
    {
     "name": "stdout",
     "output_type": "stream",
     "text": [
      "1/1 [==============================] - 0s 44ms/step\n"
     ]
    },
    {
     "name": "stderr",
     "output_type": "stream",
     "text": [
      "OCR nos crops:  98%|█████████▊| 19631/20029 [1:21:42<01:36,  4.14img/s]"
     ]
    },
    {
     "name": "stdout",
     "output_type": "stream",
     "text": [
      "1/1 [==============================] - 0s 42ms/step\n"
     ]
    },
    {
     "name": "stderr",
     "output_type": "stream",
     "text": [
      "OCR nos crops:  98%|█████████▊| 19632/20029 [1:21:43<01:35,  4.16img/s]"
     ]
    },
    {
     "name": "stdout",
     "output_type": "stream",
     "text": [
      "1/1 [==============================] - 0s 45ms/step\n"
     ]
    },
    {
     "name": "stderr",
     "output_type": "stream",
     "text": [
      "OCR nos crops:  98%|█████████▊| 19633/20029 [1:21:43<01:34,  4.17img/s]"
     ]
    },
    {
     "name": "stdout",
     "output_type": "stream",
     "text": [
      "1/1 [==============================] - 0s 41ms/step\n"
     ]
    },
    {
     "name": "stderr",
     "output_type": "stream",
     "text": [
      "OCR nos crops:  98%|█████████▊| 19634/20029 [1:21:43<01:34,  4.19img/s]"
     ]
    },
    {
     "name": "stdout",
     "output_type": "stream",
     "text": [
      "1/1 [==============================] - 0s 42ms/step\n"
     ]
    },
    {
     "name": "stderr",
     "output_type": "stream",
     "text": [
      "OCR nos crops:  98%|█████████▊| 19635/20029 [1:21:43<01:33,  4.20img/s]"
     ]
    },
    {
     "name": "stdout",
     "output_type": "stream",
     "text": [
      "1/1 [==============================] - 0s 49ms/step\n"
     ]
    },
    {
     "name": "stderr",
     "output_type": "stream",
     "text": [
      "OCR nos crops:  98%|█████████▊| 19636/20029 [1:21:43<01:35,  4.13img/s]"
     ]
    },
    {
     "name": "stdout",
     "output_type": "stream",
     "text": [
      "1/1 [==============================] - 0s 37ms/step\n"
     ]
    },
    {
     "name": "stderr",
     "output_type": "stream",
     "text": [
      "OCR nos crops:  98%|█████████▊| 19637/20029 [1:21:44<01:33,  4.18img/s]"
     ]
    },
    {
     "name": "stdout",
     "output_type": "stream",
     "text": [
      "1/1 [==============================] - 0s 49ms/step\n"
     ]
    },
    {
     "name": "stderr",
     "output_type": "stream",
     "text": [
      "OCR nos crops:  98%|█████████▊| 19638/20029 [1:21:44<01:34,  4.14img/s]"
     ]
    },
    {
     "name": "stdout",
     "output_type": "stream",
     "text": [
      "1/1 [==============================] - 0s 42ms/step\n"
     ]
    },
    {
     "name": "stderr",
     "output_type": "stream",
     "text": [
      "OCR nos crops:  98%|█████████▊| 19639/20029 [1:21:44<01:33,  4.19img/s]"
     ]
    },
    {
     "name": "stdout",
     "output_type": "stream",
     "text": [
      "1/1 [==============================] - 0s 44ms/step\n"
     ]
    },
    {
     "name": "stderr",
     "output_type": "stream",
     "text": [
      "OCR nos crops:  98%|█████████▊| 19640/20029 [1:21:44<01:33,  4.17img/s]"
     ]
    },
    {
     "name": "stdout",
     "output_type": "stream",
     "text": [
      "1/1 [==============================] - 0s 49ms/step\n"
     ]
    },
    {
     "name": "stderr",
     "output_type": "stream",
     "text": [
      "OCR nos crops:  98%|█████████▊| 19641/20029 [1:21:45<01:34,  4.10img/s]"
     ]
    },
    {
     "name": "stdout",
     "output_type": "stream",
     "text": [
      "1/1 [==============================] - 0s 46ms/step\n"
     ]
    },
    {
     "name": "stderr",
     "output_type": "stream",
     "text": [
      "OCR nos crops:  98%|█████████▊| 19642/20029 [1:21:45<01:34,  4.09img/s]"
     ]
    },
    {
     "name": "stdout",
     "output_type": "stream",
     "text": [
      "1/1 [==============================] - 0s 45ms/step\n"
     ]
    },
    {
     "name": "stderr",
     "output_type": "stream",
     "text": [
      "OCR nos crops:  98%|█████████▊| 19643/20029 [1:21:45<01:34,  4.09img/s]"
     ]
    },
    {
     "name": "stdout",
     "output_type": "stream",
     "text": [
      "1/1 [==============================] - 0s 37ms/step\n"
     ]
    },
    {
     "name": "stderr",
     "output_type": "stream",
     "text": [
      "OCR nos crops:  98%|█████████▊| 19644/20029 [1:21:45<01:31,  4.19img/s]"
     ]
    },
    {
     "name": "stdout",
     "output_type": "stream",
     "text": [
      "1/1 [==============================] - 0s 47ms/step\n"
     ]
    },
    {
     "name": "stderr",
     "output_type": "stream",
     "text": [
      "OCR nos crops:  98%|█████████▊| 19645/20029 [1:21:46<01:32,  4.13img/s]"
     ]
    },
    {
     "name": "stdout",
     "output_type": "stream",
     "text": [
      "1/1 [==============================] - 0s 40ms/step\n"
     ]
    },
    {
     "name": "stderr",
     "output_type": "stream",
     "text": [
      "OCR nos crops:  98%|█████████▊| 19646/20029 [1:21:46<01:33,  4.11img/s]"
     ]
    },
    {
     "name": "stdout",
     "output_type": "stream",
     "text": [
      "1/1 [==============================] - 0s 44ms/step\n"
     ]
    },
    {
     "name": "stderr",
     "output_type": "stream",
     "text": [
      "OCR nos crops:  98%|█████████▊| 19647/20029 [1:21:46<01:33,  4.09img/s]"
     ]
    },
    {
     "name": "stdout",
     "output_type": "stream",
     "text": [
      "1/1 [==============================] - 0s 37ms/step\n"
     ]
    },
    {
     "name": "stderr",
     "output_type": "stream",
     "text": [
      "OCR nos crops:  98%|█████████▊| 19648/20029 [1:21:46<01:31,  4.16img/s]"
     ]
    },
    {
     "name": "stdout",
     "output_type": "stream",
     "text": [
      "1/1 [==============================] - 0s 40ms/step\n"
     ]
    },
    {
     "name": "stderr",
     "output_type": "stream",
     "text": [
      "OCR nos crops:  98%|█████████▊| 19649/20029 [1:21:47<01:31,  4.17img/s]"
     ]
    },
    {
     "name": "stdout",
     "output_type": "stream",
     "text": [
      "1/1 [==============================] - 0s 37ms/step\n"
     ]
    },
    {
     "name": "stderr",
     "output_type": "stream",
     "text": [
      "OCR nos crops:  98%|█████████▊| 19650/20029 [1:21:47<01:30,  4.18img/s]"
     ]
    },
    {
     "name": "stdout",
     "output_type": "stream",
     "text": [
      "1/1 [==============================] - 0s 42ms/step\n"
     ]
    },
    {
     "name": "stderr",
     "output_type": "stream",
     "text": [
      "OCR nos crops:  98%|█████████▊| 19651/20029 [1:21:47<01:29,  4.21img/s]"
     ]
    },
    {
     "name": "stdout",
     "output_type": "stream",
     "text": [
      "1/1 [==============================] - 0s 50ms/step\n"
     ]
    },
    {
     "name": "stderr",
     "output_type": "stream",
     "text": [
      "OCR nos crops:  98%|█████████▊| 19652/20029 [1:21:47<01:31,  4.13img/s]"
     ]
    },
    {
     "name": "stdout",
     "output_type": "stream",
     "text": [
      "1/1 [==============================] - 0s 45ms/step\n"
     ]
    },
    {
     "name": "stderr",
     "output_type": "stream",
     "text": [
      "OCR nos crops:  98%|█████████▊| 19653/20029 [1:21:48<01:30,  4.16img/s]"
     ]
    },
    {
     "name": "stdout",
     "output_type": "stream",
     "text": [
      "1/1 [==============================] - 0s 43ms/step\n"
     ]
    },
    {
     "name": "stderr",
     "output_type": "stream",
     "text": [
      "OCR nos crops:  98%|█████████▊| 19654/20029 [1:21:48<01:30,  4.16img/s]"
     ]
    },
    {
     "name": "stdout",
     "output_type": "stream",
     "text": [
      "1/1 [==============================] - 0s 41ms/step\n"
     ]
    },
    {
     "name": "stderr",
     "output_type": "stream",
     "text": [
      "OCR nos crops:  98%|█████████▊| 19655/20029 [1:21:48<01:29,  4.16img/s]"
     ]
    },
    {
     "name": "stdout",
     "output_type": "stream",
     "text": [
      "1/1 [==============================] - 0s 46ms/step\n"
     ]
    },
    {
     "name": "stderr",
     "output_type": "stream",
     "text": [
      "OCR nos crops:  98%|█████████▊| 19656/20029 [1:21:48<01:30,  4.13img/s]"
     ]
    },
    {
     "name": "stdout",
     "output_type": "stream",
     "text": [
      "1/1 [==============================] - 0s 45ms/step\n"
     ]
    },
    {
     "name": "stderr",
     "output_type": "stream",
     "text": [
      "OCR nos crops:  98%|█████████▊| 19657/20029 [1:21:49<01:30,  4.10img/s]"
     ]
    },
    {
     "name": "stdout",
     "output_type": "stream",
     "text": [
      "1/1 [==============================] - 0s 48ms/step\n"
     ]
    },
    {
     "name": "stderr",
     "output_type": "stream",
     "text": [
      "OCR nos crops:  98%|█████████▊| 19658/20029 [1:21:49<01:30,  4.11img/s]"
     ]
    },
    {
     "name": "stdout",
     "output_type": "stream",
     "text": [
      "1/1 [==============================] - 0s 50ms/step\n"
     ]
    },
    {
     "name": "stderr",
     "output_type": "stream",
     "text": [
      "OCR nos crops:  98%|█████████▊| 19659/20029 [1:21:49<01:30,  4.10img/s]"
     ]
    },
    {
     "name": "stdout",
     "output_type": "stream",
     "text": [
      "1/1 [==============================] - 0s 46ms/step\n"
     ]
    },
    {
     "name": "stderr",
     "output_type": "stream",
     "text": [
      "OCR nos crops:  98%|█████████▊| 19660/20029 [1:21:49<01:29,  4.13img/s]"
     ]
    },
    {
     "name": "stdout",
     "output_type": "stream",
     "text": [
      "1/1 [==============================] - 0s 43ms/step\n"
     ]
    },
    {
     "name": "stderr",
     "output_type": "stream",
     "text": [
      "OCR nos crops:  98%|█████████▊| 19661/20029 [1:21:50<01:28,  4.15img/s]"
     ]
    },
    {
     "name": "stdout",
     "output_type": "stream",
     "text": [
      "1/1 [==============================] - 0s 44ms/step\n"
     ]
    },
    {
     "name": "stderr",
     "output_type": "stream",
     "text": [
      "OCR nos crops:  98%|█████████▊| 19662/20029 [1:21:50<01:28,  4.14img/s]"
     ]
    },
    {
     "name": "stdout",
     "output_type": "stream",
     "text": [
      "1/1 [==============================] - 0s 47ms/step\n"
     ]
    },
    {
     "name": "stderr",
     "output_type": "stream",
     "text": [
      "OCR nos crops:  98%|█████████▊| 19663/20029 [1:21:50<01:28,  4.12img/s]"
     ]
    },
    {
     "name": "stdout",
     "output_type": "stream",
     "text": [
      "1/1 [==============================] - 0s 38ms/step\n"
     ]
    },
    {
     "name": "stderr",
     "output_type": "stream",
     "text": [
      "OCR nos crops:  98%|█████████▊| 19664/20029 [1:21:50<01:27,  4.19img/s]"
     ]
    },
    {
     "name": "stdout",
     "output_type": "stream",
     "text": [
      "1/1 [==============================] - 0s 42ms/step\n"
     ]
    },
    {
     "name": "stderr",
     "output_type": "stream",
     "text": [
      "OCR nos crops:  98%|█████████▊| 19665/20029 [1:21:50<01:26,  4.20img/s]"
     ]
    },
    {
     "name": "stdout",
     "output_type": "stream",
     "text": [
      "1/1 [==============================] - 0s 39ms/step\n"
     ]
    },
    {
     "name": "stderr",
     "output_type": "stream",
     "text": [
      "OCR nos crops:  98%|█████████▊| 19666/20029 [1:21:51<01:25,  4.22img/s]"
     ]
    },
    {
     "name": "stdout",
     "output_type": "stream",
     "text": [
      "1/1 [==============================] - 0s 38ms/step\n"
     ]
    },
    {
     "name": "stderr",
     "output_type": "stream",
     "text": [
      "OCR nos crops:  98%|█████████▊| 19667/20029 [1:21:51<01:26,  4.20img/s]"
     ]
    },
    {
     "name": "stdout",
     "output_type": "stream",
     "text": [
      "1/1 [==============================] - 0s 42ms/step\n"
     ]
    },
    {
     "name": "stderr",
     "output_type": "stream",
     "text": [
      "OCR nos crops:  98%|█████████▊| 19668/20029 [1:21:51<01:25,  4.20img/s]"
     ]
    },
    {
     "name": "stdout",
     "output_type": "stream",
     "text": [
      "1/1 [==============================] - 0s 39ms/step\n"
     ]
    },
    {
     "name": "stderr",
     "output_type": "stream",
     "text": [
      "OCR nos crops:  98%|█████████▊| 19669/20029 [1:21:51<01:25,  4.22img/s]"
     ]
    },
    {
     "name": "stdout",
     "output_type": "stream",
     "text": [
      "1/1 [==============================] - 0s 50ms/step\n"
     ]
    },
    {
     "name": "stderr",
     "output_type": "stream",
     "text": [
      "OCR nos crops:  98%|█████████▊| 19670/20029 [1:21:52<01:26,  4.15img/s]"
     ]
    },
    {
     "name": "stdout",
     "output_type": "stream",
     "text": [
      "1/1 [==============================] - 0s 41ms/step\n"
     ]
    },
    {
     "name": "stderr",
     "output_type": "stream",
     "text": [
      "OCR nos crops:  98%|█████████▊| 19671/20029 [1:21:52<01:25,  4.18img/s]"
     ]
    },
    {
     "name": "stdout",
     "output_type": "stream",
     "text": [
      "1/1 [==============================] - 0s 50ms/step\n"
     ]
    },
    {
     "name": "stderr",
     "output_type": "stream",
     "text": [
      "OCR nos crops:  98%|█████████▊| 19672/20029 [1:21:52<01:27,  4.10img/s]"
     ]
    },
    {
     "name": "stdout",
     "output_type": "stream",
     "text": [
      "1/1 [==============================] - 0s 47ms/step\n"
     ]
    },
    {
     "name": "stderr",
     "output_type": "stream",
     "text": [
      "OCR nos crops:  98%|█████████▊| 19673/20029 [1:21:52<01:26,  4.11img/s]"
     ]
    },
    {
     "name": "stdout",
     "output_type": "stream",
     "text": [
      "1/1 [==============================] - 0s 44ms/step\n"
     ]
    },
    {
     "name": "stderr",
     "output_type": "stream",
     "text": [
      "OCR nos crops:  98%|█████████▊| 19674/20029 [1:21:53<01:25,  4.14img/s]"
     ]
    },
    {
     "name": "stdout",
     "output_type": "stream",
     "text": [
      "1/1 [==============================] - 0s 37ms/step\n"
     ]
    },
    {
     "name": "stderr",
     "output_type": "stream",
     "text": [
      "OCR nos crops:  98%|█████████▊| 19675/20029 [1:21:53<01:24,  4.16img/s]"
     ]
    },
    {
     "name": "stdout",
     "output_type": "stream",
     "text": [
      "1/1 [==============================] - 0s 46ms/step\n"
     ]
    },
    {
     "name": "stderr",
     "output_type": "stream",
     "text": [
      "OCR nos crops:  98%|█████████▊| 19676/20029 [1:21:53<01:24,  4.17img/s]"
     ]
    },
    {
     "name": "stdout",
     "output_type": "stream",
     "text": [
      "1/1 [==============================] - 0s 48ms/step\n"
     ]
    },
    {
     "name": "stderr",
     "output_type": "stream",
     "text": [
      "OCR nos crops:  98%|█████████▊| 19677/20029 [1:21:53<01:25,  4.11img/s]"
     ]
    },
    {
     "name": "stdout",
     "output_type": "stream",
     "text": [
      "1/1 [==============================] - 0s 45ms/step\n"
     ]
    },
    {
     "name": "stderr",
     "output_type": "stream",
     "text": [
      "OCR nos crops:  98%|█████████▊| 19678/20029 [1:21:54<01:25,  4.12img/s]"
     ]
    },
    {
     "name": "stdout",
     "output_type": "stream",
     "text": [
      "1/1 [==============================] - 0s 39ms/step\n"
     ]
    },
    {
     "name": "stderr",
     "output_type": "stream",
     "text": [
      "OCR nos crops:  98%|█████████▊| 19679/20029 [1:21:54<01:23,  4.17img/s]"
     ]
    },
    {
     "name": "stdout",
     "output_type": "stream",
     "text": [
      "1/1 [==============================] - 0s 39ms/step\n"
     ]
    },
    {
     "name": "stderr",
     "output_type": "stream",
     "text": [
      "OCR nos crops:  98%|█████████▊| 19680/20029 [1:21:54<01:23,  4.19img/s]"
     ]
    },
    {
     "name": "stdout",
     "output_type": "stream",
     "text": [
      "1/1 [==============================] - 0s 45ms/step\n"
     ]
    },
    {
     "name": "stderr",
     "output_type": "stream",
     "text": [
      "OCR nos crops:  98%|█████████▊| 19681/20029 [1:21:54<01:23,  4.16img/s]"
     ]
    },
    {
     "name": "stdout",
     "output_type": "stream",
     "text": [
      "1/1 [==============================] - 0s 42ms/step\n"
     ]
    },
    {
     "name": "stderr",
     "output_type": "stream",
     "text": [
      "OCR nos crops:  98%|█████████▊| 19682/20029 [1:21:55<01:24,  4.12img/s]"
     ]
    },
    {
     "name": "stdout",
     "output_type": "stream",
     "text": [
      "1/1 [==============================] - 0s 38ms/step\n"
     ]
    },
    {
     "name": "stderr",
     "output_type": "stream",
     "text": [
      "OCR nos crops:  98%|█████████▊| 19683/20029 [1:21:55<01:22,  4.18img/s]"
     ]
    },
    {
     "name": "stdout",
     "output_type": "stream",
     "text": [
      "1/1 [==============================] - 0s 43ms/step\n"
     ]
    },
    {
     "name": "stderr",
     "output_type": "stream",
     "text": [
      "OCR nos crops:  98%|█████████▊| 19684/20029 [1:21:55<01:22,  4.18img/s]"
     ]
    },
    {
     "name": "stdout",
     "output_type": "stream",
     "text": [
      "1/1 [==============================] - 0s 45ms/step\n"
     ]
    },
    {
     "name": "stderr",
     "output_type": "stream",
     "text": [
      "OCR nos crops:  98%|█████████▊| 19685/20029 [1:21:55<01:21,  4.22img/s]"
     ]
    },
    {
     "name": "stdout",
     "output_type": "stream",
     "text": [
      "1/1 [==============================] - 0s 44ms/step\n"
     ]
    },
    {
     "name": "stderr",
     "output_type": "stream",
     "text": [
      "OCR nos crops:  98%|█████████▊| 19686/20029 [1:21:55<01:21,  4.23img/s]"
     ]
    },
    {
     "name": "stdout",
     "output_type": "stream",
     "text": [
      "1/1 [==============================] - 0s 39ms/step\n"
     ]
    },
    {
     "name": "stderr",
     "output_type": "stream",
     "text": [
      "OCR nos crops:  98%|█████████▊| 19687/20029 [1:21:56<01:21,  4.21img/s]"
     ]
    },
    {
     "name": "stdout",
     "output_type": "stream",
     "text": [
      "1/1 [==============================] - 0s 46ms/step\n"
     ]
    },
    {
     "name": "stderr",
     "output_type": "stream",
     "text": [
      "OCR nos crops:  98%|█████████▊| 19688/20029 [1:21:56<01:21,  4.20img/s]"
     ]
    },
    {
     "name": "stdout",
     "output_type": "stream",
     "text": [
      "1/1 [==============================] - 0s 43ms/step\n"
     ]
    },
    {
     "name": "stderr",
     "output_type": "stream",
     "text": [
      "OCR nos crops:  98%|█████████▊| 19689/20029 [1:21:56<01:20,  4.20img/s]"
     ]
    },
    {
     "name": "stdout",
     "output_type": "stream",
     "text": [
      "1/1 [==============================] - 0s 43ms/step\n"
     ]
    },
    {
     "name": "stderr",
     "output_type": "stream",
     "text": [
      "OCR nos crops:  98%|█████████▊| 19690/20029 [1:21:56<01:19,  4.24img/s]"
     ]
    },
    {
     "name": "stdout",
     "output_type": "stream",
     "text": [
      "1/1 [==============================] - 0s 45ms/step\n"
     ]
    },
    {
     "name": "stderr",
     "output_type": "stream",
     "text": [
      "OCR nos crops:  98%|█████████▊| 19691/20029 [1:21:57<01:19,  4.26img/s]"
     ]
    },
    {
     "name": "stdout",
     "output_type": "stream",
     "text": [
      "1/1 [==============================] - 0s 42ms/step\n"
     ]
    },
    {
     "name": "stderr",
     "output_type": "stream",
     "text": [
      "OCR nos crops:  98%|█████████▊| 19692/20029 [1:21:57<01:20,  4.20img/s]"
     ]
    },
    {
     "name": "stdout",
     "output_type": "stream",
     "text": [
      "1/1 [==============================] - 0s 33ms/step\n"
     ]
    },
    {
     "name": "stderr",
     "output_type": "stream",
     "text": [
      "OCR nos crops:  98%|█████████▊| 19693/20029 [1:21:57<01:19,  4.24img/s]"
     ]
    },
    {
     "name": "stdout",
     "output_type": "stream",
     "text": [
      "1/1 [==============================] - 0s 45ms/step\n"
     ]
    },
    {
     "name": "stderr",
     "output_type": "stream",
     "text": [
      "OCR nos crops:  98%|█████████▊| 19694/20029 [1:21:57<01:19,  4.22img/s]"
     ]
    },
    {
     "name": "stdout",
     "output_type": "stream",
     "text": [
      "1/1 [==============================] - 0s 41ms/step\n"
     ]
    },
    {
     "name": "stderr",
     "output_type": "stream",
     "text": [
      "OCR nos crops:  98%|█████████▊| 19695/20029 [1:21:58<01:19,  4.23img/s]"
     ]
    },
    {
     "name": "stdout",
     "output_type": "stream",
     "text": [
      "1/1 [==============================] - 0s 34ms/step\n"
     ]
    },
    {
     "name": "stderr",
     "output_type": "stream",
     "text": [
      "OCR nos crops:  98%|█████████▊| 19696/20029 [1:21:58<01:17,  4.29img/s]"
     ]
    },
    {
     "name": "stdout",
     "output_type": "stream",
     "text": [
      "1/1 [==============================] - 0s 40ms/step\n"
     ]
    },
    {
     "name": "stderr",
     "output_type": "stream",
     "text": [
      "OCR nos crops:  98%|█████████▊| 19697/20029 [1:21:58<01:17,  4.26img/s]"
     ]
    },
    {
     "name": "stdout",
     "output_type": "stream",
     "text": [
      "1/1 [==============================] - 0s 38ms/step\n"
     ]
    },
    {
     "name": "stderr",
     "output_type": "stream",
     "text": [
      "OCR nos crops:  98%|█████████▊| 19698/20029 [1:21:58<01:16,  4.32img/s]"
     ]
    },
    {
     "name": "stdout",
     "output_type": "stream",
     "text": [
      "1/1 [==============================] - 0s 46ms/step\n"
     ]
    },
    {
     "name": "stderr",
     "output_type": "stream",
     "text": [
      "OCR nos crops:  98%|█████████▊| 19699/20029 [1:21:59<01:16,  4.31img/s]"
     ]
    },
    {
     "name": "stdout",
     "output_type": "stream",
     "text": [
      "1/1 [==============================] - 0s 42ms/step\n"
     ]
    },
    {
     "name": "stderr",
     "output_type": "stream",
     "text": [
      "OCR nos crops:  98%|█████████▊| 19700/20029 [1:21:59<01:16,  4.31img/s]"
     ]
    },
    {
     "name": "stdout",
     "output_type": "stream",
     "text": [
      "1/1 [==============================] - 0s 43ms/step\n"
     ]
    },
    {
     "name": "stderr",
     "output_type": "stream",
     "text": [
      "OCR nos crops:  98%|█████████▊| 19701/20029 [1:21:59<01:16,  4.31img/s]"
     ]
    },
    {
     "name": "stdout",
     "output_type": "stream",
     "text": [
      "1/1 [==============================] - 0s 37ms/step\n"
     ]
    },
    {
     "name": "stderr",
     "output_type": "stream",
     "text": [
      "OCR nos crops:  98%|█████████▊| 19702/20029 [1:21:59<01:16,  4.25img/s]"
     ]
    },
    {
     "name": "stdout",
     "output_type": "stream",
     "text": [
      "1/1 [==============================] - 0s 44ms/step\n"
     ]
    },
    {
     "name": "stderr",
     "output_type": "stream",
     "text": [
      "OCR nos crops:  98%|█████████▊| 19703/20029 [1:21:59<01:16,  4.23img/s]"
     ]
    },
    {
     "name": "stdout",
     "output_type": "stream",
     "text": [
      "1/1 [==============================] - 0s 47ms/step\n"
     ]
    },
    {
     "name": "stderr",
     "output_type": "stream",
     "text": [
      "OCR nos crops:  98%|█████████▊| 19704/20029 [1:22:00<01:17,  4.20img/s]"
     ]
    },
    {
     "name": "stdout",
     "output_type": "stream",
     "text": [
      "1/1 [==============================] - 0s 39ms/step\n"
     ]
    },
    {
     "name": "stderr",
     "output_type": "stream",
     "text": [
      "OCR nos crops:  98%|█████████▊| 19705/20029 [1:22:00<01:16,  4.23img/s]"
     ]
    },
    {
     "name": "stdout",
     "output_type": "stream",
     "text": [
      "1/1 [==============================] - 0s 43ms/step\n"
     ]
    },
    {
     "name": "stderr",
     "output_type": "stream",
     "text": [
      "OCR nos crops:  98%|█████████▊| 19706/20029 [1:22:00<01:16,  4.23img/s]"
     ]
    },
    {
     "name": "stdout",
     "output_type": "stream",
     "text": [
      "1/1 [==============================] - 0s 48ms/step\n"
     ]
    },
    {
     "name": "stderr",
     "output_type": "stream",
     "text": [
      "OCR nos crops:  98%|█████████▊| 19707/20029 [1:22:00<01:17,  4.16img/s]"
     ]
    },
    {
     "name": "stdout",
     "output_type": "stream",
     "text": [
      "1/1 [==============================] - 0s 41ms/step\n"
     ]
    },
    {
     "name": "stderr",
     "output_type": "stream",
     "text": [
      "OCR nos crops:  98%|█████████▊| 19708/20029 [1:22:01<01:16,  4.21img/s]"
     ]
    },
    {
     "name": "stdout",
     "output_type": "stream",
     "text": [
      "1/1 [==============================] - 0s 45ms/step\n"
     ]
    },
    {
     "name": "stderr",
     "output_type": "stream",
     "text": [
      "OCR nos crops:  98%|█████████▊| 19709/20029 [1:22:01<01:16,  4.19img/s]"
     ]
    },
    {
     "name": "stdout",
     "output_type": "stream",
     "text": [
      "1/1 [==============================] - 0s 44ms/step\n"
     ]
    },
    {
     "name": "stderr",
     "output_type": "stream",
     "text": [
      "OCR nos crops:  98%|█████████▊| 19710/20029 [1:22:01<01:16,  4.19img/s]"
     ]
    },
    {
     "name": "stdout",
     "output_type": "stream",
     "text": [
      "1/1 [==============================] - 0s 42ms/step\n"
     ]
    },
    {
     "name": "stderr",
     "output_type": "stream",
     "text": [
      "OCR nos crops:  98%|█████████▊| 19711/20029 [1:22:01<01:15,  4.19img/s]"
     ]
    },
    {
     "name": "stdout",
     "output_type": "stream",
     "text": [
      "1/1 [==============================] - 0s 38ms/step\n"
     ]
    },
    {
     "name": "stderr",
     "output_type": "stream",
     "text": [
      "OCR nos crops:  98%|█████████▊| 19712/20029 [1:22:02<01:15,  4.19img/s]"
     ]
    },
    {
     "name": "stdout",
     "output_type": "stream",
     "text": [
      "1/1 [==============================] - 0s 45ms/step\n"
     ]
    },
    {
     "name": "stderr",
     "output_type": "stream",
     "text": [
      "OCR nos crops:  98%|█████████▊| 19713/20029 [1:22:02<01:15,  4.17img/s]"
     ]
    },
    {
     "name": "stdout",
     "output_type": "stream",
     "text": [
      "1/1 [==============================] - 0s 42ms/step\n"
     ]
    },
    {
     "name": "stderr",
     "output_type": "stream",
     "text": [
      "OCR nos crops:  98%|█████████▊| 19714/20029 [1:22:02<01:15,  4.17img/s]"
     ]
    },
    {
     "name": "stdout",
     "output_type": "stream",
     "text": [
      "1/1 [==============================] - 0s 46ms/step\n"
     ]
    },
    {
     "name": "stderr",
     "output_type": "stream",
     "text": [
      "OCR nos crops:  98%|█████████▊| 19715/20029 [1:22:02<01:15,  4.18img/s]"
     ]
    },
    {
     "name": "stdout",
     "output_type": "stream",
     "text": [
      "1/1 [==============================] - 0s 45ms/step\n"
     ]
    },
    {
     "name": "stderr",
     "output_type": "stream",
     "text": [
      "OCR nos crops:  98%|█████████▊| 19716/20029 [1:22:03<01:14,  4.18img/s]"
     ]
    },
    {
     "name": "stdout",
     "output_type": "stream",
     "text": [
      "1/1 [==============================] - 0s 43ms/step\n"
     ]
    },
    {
     "name": "stderr",
     "output_type": "stream",
     "text": [
      "OCR nos crops:  98%|█████████▊| 19717/20029 [1:22:03<01:15,  4.14img/s]"
     ]
    },
    {
     "name": "stdout",
     "output_type": "stream",
     "text": [
      "1/1 [==============================] - 0s 38ms/step\n"
     ]
    },
    {
     "name": "stderr",
     "output_type": "stream",
     "text": [
      "OCR nos crops:  98%|█████████▊| 19718/20029 [1:22:03<01:16,  4.08img/s]"
     ]
    },
    {
     "name": "stdout",
     "output_type": "stream",
     "text": [
      "1/1 [==============================] - 0s 47ms/step\n"
     ]
    },
    {
     "name": "stderr",
     "output_type": "stream",
     "text": [
      "OCR nos crops:  98%|█████████▊| 19719/20029 [1:22:03<01:17,  4.02img/s]"
     ]
    },
    {
     "name": "stdout",
     "output_type": "stream",
     "text": [
      "1/1 [==============================] - 0s 47ms/step\n"
     ]
    },
    {
     "name": "stderr",
     "output_type": "stream",
     "text": [
      "OCR nos crops:  98%|█████████▊| 19720/20029 [1:22:04<01:16,  4.04img/s]"
     ]
    },
    {
     "name": "stdout",
     "output_type": "stream",
     "text": [
      "1/1 [==============================] - 0s 49ms/step\n"
     ]
    },
    {
     "name": "stderr",
     "output_type": "stream",
     "text": [
      "OCR nos crops:  98%|█████████▊| 19721/20029 [1:22:04<01:16,  4.02img/s]"
     ]
    },
    {
     "name": "stdout",
     "output_type": "stream",
     "text": [
      "1/1 [==============================] - 0s 47ms/step\n"
     ]
    },
    {
     "name": "stderr",
     "output_type": "stream",
     "text": [
      "OCR nos crops:  98%|█████████▊| 19722/20029 [1:22:04<01:17,  3.97img/s]"
     ]
    },
    {
     "name": "stdout",
     "output_type": "stream",
     "text": [
      "1/1 [==============================] - 0s 42ms/step\n"
     ]
    },
    {
     "name": "stderr",
     "output_type": "stream",
     "text": [
      "OCR nos crops:  98%|█████████▊| 19723/20029 [1:22:04<01:17,  3.96img/s]"
     ]
    },
    {
     "name": "stdout",
     "output_type": "stream",
     "text": [
      "1/1 [==============================] - 0s 52ms/step\n"
     ]
    },
    {
     "name": "stderr",
     "output_type": "stream",
     "text": [
      "OCR nos crops:  98%|█████████▊| 19724/20029 [1:22:05<01:17,  3.92img/s]"
     ]
    },
    {
     "name": "stdout",
     "output_type": "stream",
     "text": [
      "1/1 [==============================] - 0s 40ms/step\n"
     ]
    },
    {
     "name": "stderr",
     "output_type": "stream",
     "text": [
      "OCR nos crops:  98%|█████████▊| 19725/20029 [1:22:05<01:17,  3.93img/s]"
     ]
    },
    {
     "name": "stdout",
     "output_type": "stream",
     "text": [
      "1/1 [==============================] - 0s 40ms/step\n"
     ]
    },
    {
     "name": "stderr",
     "output_type": "stream",
     "text": [
      "OCR nos crops:  98%|█████████▊| 19726/20029 [1:22:05<01:15,  4.00img/s]"
     ]
    },
    {
     "name": "stdout",
     "output_type": "stream",
     "text": [
      "1/1 [==============================] - 0s 47ms/step\n"
     ]
    },
    {
     "name": "stderr",
     "output_type": "stream",
     "text": [
      "OCR nos crops:  98%|█████████▊| 19727/20029 [1:22:05<01:16,  3.95img/s]"
     ]
    },
    {
     "name": "stdout",
     "output_type": "stream",
     "text": [
      "1/1 [==============================] - 0s 47ms/step\n"
     ]
    },
    {
     "name": "stderr",
     "output_type": "stream",
     "text": [
      "OCR nos crops:  98%|█████████▊| 19728/20029 [1:22:06<01:15,  3.99img/s]"
     ]
    },
    {
     "name": "stdout",
     "output_type": "stream",
     "text": [
      "1/1 [==============================] - 0s 48ms/step\n"
     ]
    },
    {
     "name": "stderr",
     "output_type": "stream",
     "text": [
      "OCR nos crops:  99%|█████████▊| 19729/20029 [1:22:06<01:15,  3.98img/s]"
     ]
    },
    {
     "name": "stdout",
     "output_type": "stream",
     "text": [
      "1/1 [==============================] - 0s 47ms/step\n"
     ]
    },
    {
     "name": "stderr",
     "output_type": "stream",
     "text": [
      "OCR nos crops:  99%|█████████▊| 19730/20029 [1:22:06<01:15,  3.97img/s]"
     ]
    },
    {
     "name": "stdout",
     "output_type": "stream",
     "text": [
      "1/1 [==============================] - 0s 42ms/step\n"
     ]
    },
    {
     "name": "stderr",
     "output_type": "stream",
     "text": [
      "OCR nos crops:  99%|█████████▊| 19731/20029 [1:22:06<01:13,  4.03img/s]"
     ]
    },
    {
     "name": "stdout",
     "output_type": "stream",
     "text": [
      "1/1 [==============================] - 0s 52ms/step\n"
     ]
    },
    {
     "name": "stderr",
     "output_type": "stream",
     "text": [
      "OCR nos crops:  99%|█████████▊| 19732/20029 [1:22:07<01:15,  3.93img/s]"
     ]
    },
    {
     "name": "stdout",
     "output_type": "stream",
     "text": [
      "1/1 [==============================] - 0s 41ms/step\n"
     ]
    },
    {
     "name": "stderr",
     "output_type": "stream",
     "text": [
      "OCR nos crops:  99%|█████████▊| 19733/20029 [1:22:07<01:14,  3.97img/s]"
     ]
    },
    {
     "name": "stdout",
     "output_type": "stream",
     "text": [
      "1/1 [==============================] - 0s 41ms/step\n"
     ]
    },
    {
     "name": "stderr",
     "output_type": "stream",
     "text": [
      "OCR nos crops:  99%|█████████▊| 19734/20029 [1:22:07<01:12,  4.05img/s]"
     ]
    },
    {
     "name": "stdout",
     "output_type": "stream",
     "text": [
      "1/1 [==============================] - 0s 49ms/step\n"
     ]
    },
    {
     "name": "stderr",
     "output_type": "stream",
     "text": [
      "OCR nos crops:  99%|█████████▊| 19735/20029 [1:22:07<01:12,  4.04img/s]"
     ]
    },
    {
     "name": "stdout",
     "output_type": "stream",
     "text": [
      "1/1 [==============================] - 0s 39ms/step\n"
     ]
    },
    {
     "name": "stderr",
     "output_type": "stream",
     "text": [
      "OCR nos crops:  99%|█████████▊| 19736/20029 [1:22:08<01:11,  4.12img/s]"
     ]
    },
    {
     "name": "stdout",
     "output_type": "stream",
     "text": [
      "1/1 [==============================] - 0s 43ms/step\n"
     ]
    },
    {
     "name": "stderr",
     "output_type": "stream",
     "text": [
      "OCR nos crops:  99%|█████████▊| 19737/20029 [1:22:08<01:11,  4.08img/s]"
     ]
    },
    {
     "name": "stdout",
     "output_type": "stream",
     "text": [
      "1/1 [==============================] - 0s 39ms/step\n"
     ]
    },
    {
     "name": "stderr",
     "output_type": "stream",
     "text": [
      "OCR nos crops:  99%|█████████▊| 19738/20029 [1:22:08<01:10,  4.11img/s]"
     ]
    },
    {
     "name": "stdout",
     "output_type": "stream",
     "text": [
      "1/1 [==============================] - 0s 45ms/step\n"
     ]
    },
    {
     "name": "stderr",
     "output_type": "stream",
     "text": [
      "OCR nos crops:  99%|█████████▊| 19739/20029 [1:22:08<01:10,  4.11img/s]"
     ]
    },
    {
     "name": "stdout",
     "output_type": "stream",
     "text": [
      "1/1 [==============================] - 0s 41ms/step\n"
     ]
    },
    {
     "name": "stderr",
     "output_type": "stream",
     "text": [
      "OCR nos crops:  99%|█████████▊| 19740/20029 [1:22:09<01:10,  4.11img/s]"
     ]
    },
    {
     "name": "stdout",
     "output_type": "stream",
     "text": [
      "1/1 [==============================] - 0s 49ms/step\n"
     ]
    },
    {
     "name": "stderr",
     "output_type": "stream",
     "text": [
      "OCR nos crops:  99%|█████████▊| 19741/20029 [1:22:09<01:10,  4.08img/s]"
     ]
    },
    {
     "name": "stdout",
     "output_type": "stream",
     "text": [
      "1/1 [==============================] - 0s 47ms/step\n"
     ]
    },
    {
     "name": "stderr",
     "output_type": "stream",
     "text": [
      "OCR nos crops:  99%|█████████▊| 19742/20029 [1:22:09<01:11,  4.03img/s]"
     ]
    },
    {
     "name": "stdout",
     "output_type": "stream",
     "text": [
      "1/1 [==============================] - 0s 53ms/step\n"
     ]
    },
    {
     "name": "stderr",
     "output_type": "stream",
     "text": [
      "OCR nos crops:  99%|█████████▊| 19743/20029 [1:22:09<01:11,  4.01img/s]"
     ]
    },
    {
     "name": "stdout",
     "output_type": "stream",
     "text": [
      "1/1 [==============================] - 0s 41ms/step\n"
     ]
    },
    {
     "name": "stderr",
     "output_type": "stream",
     "text": [
      "OCR nos crops:  99%|█████████▊| 19744/20029 [1:22:10<01:10,  4.06img/s]"
     ]
    },
    {
     "name": "stdout",
     "output_type": "stream",
     "text": [
      "1/1 [==============================] - 0s 46ms/step\n"
     ]
    },
    {
     "name": "stderr",
     "output_type": "stream",
     "text": [
      "OCR nos crops:  99%|█████████▊| 19745/20029 [1:22:10<01:09,  4.06img/s]"
     ]
    },
    {
     "name": "stdout",
     "output_type": "stream",
     "text": [
      "1/1 [==============================] - 0s 46ms/step\n"
     ]
    },
    {
     "name": "stderr",
     "output_type": "stream",
     "text": [
      "OCR nos crops:  99%|█████████▊| 19746/20029 [1:22:10<01:09,  4.06img/s]"
     ]
    },
    {
     "name": "stdout",
     "output_type": "stream",
     "text": [
      "1/1 [==============================] - 0s 42ms/step\n"
     ]
    },
    {
     "name": "stderr",
     "output_type": "stream",
     "text": [
      "OCR nos crops:  99%|█████████▊| 19747/20029 [1:22:10<01:10,  4.02img/s]"
     ]
    },
    {
     "name": "stdout",
     "output_type": "stream",
     "text": [
      "1/1 [==============================] - 0s 39ms/step\n"
     ]
    },
    {
     "name": "stderr",
     "output_type": "stream",
     "text": [
      "OCR nos crops:  99%|█████████▊| 19748/20029 [1:22:11<01:08,  4.08img/s]"
     ]
    },
    {
     "name": "stdout",
     "output_type": "stream",
     "text": [
      "1/1 [==============================] - 0s 50ms/step\n"
     ]
    },
    {
     "name": "stderr",
     "output_type": "stream",
     "text": [
      "OCR nos crops:  99%|█████████▊| 19749/20029 [1:22:11<01:09,  4.03img/s]"
     ]
    },
    {
     "name": "stdout",
     "output_type": "stream",
     "text": [
      "1/1 [==============================] - 0s 46ms/step\n"
     ]
    },
    {
     "name": "stderr",
     "output_type": "stream",
     "text": [
      "OCR nos crops:  99%|█████████▊| 19750/20029 [1:22:11<01:08,  4.05img/s]"
     ]
    },
    {
     "name": "stdout",
     "output_type": "stream",
     "text": [
      "1/1 [==============================] - 0s 50ms/step\n"
     ]
    },
    {
     "name": "stderr",
     "output_type": "stream",
     "text": [
      "OCR nos crops:  99%|█████████▊| 19751/20029 [1:22:11<01:08,  4.05img/s]"
     ]
    },
    {
     "name": "stdout",
     "output_type": "stream",
     "text": [
      "1/1 [==============================] - 0s 45ms/step\n"
     ]
    },
    {
     "name": "stderr",
     "output_type": "stream",
     "text": [
      "OCR nos crops:  99%|█████████▊| 19752/20029 [1:22:12<01:09,  3.99img/s]"
     ]
    },
    {
     "name": "stdout",
     "output_type": "stream",
     "text": [
      "1/1 [==============================] - 0s 42ms/step\n"
     ]
    },
    {
     "name": "stderr",
     "output_type": "stream",
     "text": [
      "OCR nos crops:  99%|█████████▊| 19753/20029 [1:22:12<01:08,  4.02img/s]"
     ]
    },
    {
     "name": "stdout",
     "output_type": "stream",
     "text": [
      "1/1 [==============================] - 0s 46ms/step\n"
     ]
    },
    {
     "name": "stderr",
     "output_type": "stream",
     "text": [
      "OCR nos crops:  99%|█████████▊| 19754/20029 [1:22:12<01:08,  4.04img/s]"
     ]
    },
    {
     "name": "stdout",
     "output_type": "stream",
     "text": [
      "1/1 [==============================] - 0s 41ms/step\n"
     ]
    },
    {
     "name": "stderr",
     "output_type": "stream",
     "text": [
      "OCR nos crops:  99%|█████████▊| 19755/20029 [1:22:12<01:07,  4.06img/s]"
     ]
    },
    {
     "name": "stdout",
     "output_type": "stream",
     "text": [
      "1/1 [==============================] - 0s 45ms/step\n"
     ]
    },
    {
     "name": "stderr",
     "output_type": "stream",
     "text": [
      "OCR nos crops:  99%|█████████▊| 19756/20029 [1:22:13<01:07,  4.06img/s]"
     ]
    },
    {
     "name": "stdout",
     "output_type": "stream",
     "text": [
      "1/1 [==============================] - 0s 50ms/step\n"
     ]
    },
    {
     "name": "stderr",
     "output_type": "stream",
     "text": [
      "OCR nos crops:  99%|█████████▊| 19757/20029 [1:22:13<01:06,  4.06img/s]"
     ]
    },
    {
     "name": "stdout",
     "output_type": "stream",
     "text": [
      "1/1 [==============================] - 0s 43ms/step\n"
     ]
    },
    {
     "name": "stderr",
     "output_type": "stream",
     "text": [
      "OCR nos crops:  99%|█████████▊| 19758/20029 [1:22:13<01:06,  4.07img/s]"
     ]
    },
    {
     "name": "stdout",
     "output_type": "stream",
     "text": [
      "1/1 [==============================] - 0s 44ms/step\n"
     ]
    },
    {
     "name": "stderr",
     "output_type": "stream",
     "text": [
      "OCR nos crops:  99%|█████████▊| 19759/20029 [1:22:13<01:06,  4.08img/s]"
     ]
    },
    {
     "name": "stdout",
     "output_type": "stream",
     "text": [
      "1/1 [==============================] - 0s 44ms/step\n"
     ]
    },
    {
     "name": "stderr",
     "output_type": "stream",
     "text": [
      "OCR nos crops:  99%|█████████▊| 19760/20029 [1:22:14<01:05,  4.08img/s]"
     ]
    },
    {
     "name": "stdout",
     "output_type": "stream",
     "text": [
      "1/1 [==============================] - 0s 43ms/step\n"
     ]
    },
    {
     "name": "stderr",
     "output_type": "stream",
     "text": [
      "OCR nos crops:  99%|█████████▊| 19761/20029 [1:22:14<01:06,  4.04img/s]"
     ]
    },
    {
     "name": "stdout",
     "output_type": "stream",
     "text": [
      "1/1 [==============================] - 0s 50ms/step\n"
     ]
    },
    {
     "name": "stderr",
     "output_type": "stream",
     "text": [
      "OCR nos crops:  99%|█████████▊| 19762/20029 [1:22:14<01:06,  4.03img/s]"
     ]
    },
    {
     "name": "stdout",
     "output_type": "stream",
     "text": [
      "1/1 [==============================] - 0s 42ms/step\n"
     ]
    },
    {
     "name": "stderr",
     "output_type": "stream",
     "text": [
      "OCR nos crops:  99%|█████████▊| 19763/20029 [1:22:14<01:05,  4.07img/s]"
     ]
    },
    {
     "name": "stdout",
     "output_type": "stream",
     "text": [
      "1/1 [==============================] - 0s 41ms/step\n"
     ]
    },
    {
     "name": "stderr",
     "output_type": "stream",
     "text": [
      "OCR nos crops:  99%|█████████▊| 19764/20029 [1:22:15<01:05,  4.06img/s]"
     ]
    },
    {
     "name": "stdout",
     "output_type": "stream",
     "text": [
      "1/1 [==============================] - 0s 48ms/step\n"
     ]
    },
    {
     "name": "stderr",
     "output_type": "stream",
     "text": [
      "OCR nos crops:  99%|█████████▊| 19765/20029 [1:22:15<01:04,  4.07img/s]"
     ]
    },
    {
     "name": "stdout",
     "output_type": "stream",
     "text": [
      "1/1 [==============================] - 0s 47ms/step\n"
     ]
    },
    {
     "name": "stderr",
     "output_type": "stream",
     "text": [
      "OCR nos crops:  99%|█████████▊| 19766/20029 [1:22:15<01:04,  4.07img/s]"
     ]
    },
    {
     "name": "stdout",
     "output_type": "stream",
     "text": [
      "1/1 [==============================] - 0s 44ms/step\n"
     ]
    },
    {
     "name": "stderr",
     "output_type": "stream",
     "text": [
      "OCR nos crops:  99%|█████████▊| 19767/20029 [1:22:15<01:03,  4.11img/s]"
     ]
    },
    {
     "name": "stdout",
     "output_type": "stream",
     "text": [
      "1/1 [==============================] - 0s 38ms/step\n"
     ]
    },
    {
     "name": "stderr",
     "output_type": "stream",
     "text": [
      "OCR nos crops:  99%|█████████▊| 19768/20029 [1:22:15<01:02,  4.15img/s]"
     ]
    },
    {
     "name": "stdout",
     "output_type": "stream",
     "text": [
      "1/1 [==============================] - 0s 50ms/step\n"
     ]
    },
    {
     "name": "stderr",
     "output_type": "stream",
     "text": [
      "OCR nos crops:  99%|█████████▊| 19769/20029 [1:22:16<01:03,  4.07img/s]"
     ]
    },
    {
     "name": "stdout",
     "output_type": "stream",
     "text": [
      "1/1 [==============================] - 0s 45ms/step\n"
     ]
    },
    {
     "name": "stderr",
     "output_type": "stream",
     "text": [
      "OCR nos crops:  99%|█████████▊| 19770/20029 [1:22:16<01:04,  4.01img/s]"
     ]
    },
    {
     "name": "stdout",
     "output_type": "stream",
     "text": [
      "1/1 [==============================] - 0s 40ms/step\n"
     ]
    },
    {
     "name": "stderr",
     "output_type": "stream",
     "text": [
      "OCR nos crops:  99%|█████████▊| 19771/20029 [1:22:16<01:03,  4.06img/s]"
     ]
    },
    {
     "name": "stdout",
     "output_type": "stream",
     "text": [
      "1/1 [==============================] - 0s 48ms/step\n"
     ]
    },
    {
     "name": "stderr",
     "output_type": "stream",
     "text": [
      "OCR nos crops:  99%|█████████▊| 19772/20029 [1:22:16<01:03,  4.06img/s]"
     ]
    },
    {
     "name": "stdout",
     "output_type": "stream",
     "text": [
      "1/1 [==============================] - 0s 45ms/step\n"
     ]
    },
    {
     "name": "stderr",
     "output_type": "stream",
     "text": [
      "OCR nos crops:  99%|█████████▊| 19773/20029 [1:22:17<01:03,  4.03img/s]"
     ]
    },
    {
     "name": "stdout",
     "output_type": "stream",
     "text": [
      "1/1 [==============================] - 0s 41ms/step\n"
     ]
    },
    {
     "name": "stderr",
     "output_type": "stream",
     "text": [
      "OCR nos crops:  99%|█████████▊| 19774/20029 [1:22:17<01:03,  4.04img/s]"
     ]
    },
    {
     "name": "stdout",
     "output_type": "stream",
     "text": [
      "1/1 [==============================] - 0s 42ms/step\n"
     ]
    },
    {
     "name": "stderr",
     "output_type": "stream",
     "text": [
      "OCR nos crops:  99%|█████████▊| 19775/20029 [1:22:17<01:02,  4.06img/s]"
     ]
    },
    {
     "name": "stdout",
     "output_type": "stream",
     "text": [
      "1/1 [==============================] - 0s 34ms/step\n"
     ]
    },
    {
     "name": "stderr",
     "output_type": "stream",
     "text": [
      "OCR nos crops:  99%|█████████▊| 19776/20029 [1:22:17<01:01,  4.14img/s]"
     ]
    },
    {
     "name": "stdout",
     "output_type": "stream",
     "text": [
      "1/1 [==============================] - 0s 45ms/step\n"
     ]
    },
    {
     "name": "stderr",
     "output_type": "stream",
     "text": [
      "OCR nos crops:  99%|█████████▊| 19777/20029 [1:22:18<01:01,  4.12img/s]"
     ]
    },
    {
     "name": "stdout",
     "output_type": "stream",
     "text": [
      "1/1 [==============================] - 0s 49ms/step\n"
     ]
    },
    {
     "name": "stderr",
     "output_type": "stream",
     "text": [
      "OCR nos crops:  99%|█████████▊| 19778/20029 [1:22:18<01:01,  4.07img/s]"
     ]
    },
    {
     "name": "stdout",
     "output_type": "stream",
     "text": [
      "1/1 [==============================] - 0s 45ms/step\n"
     ]
    },
    {
     "name": "stderr",
     "output_type": "stream",
     "text": [
      "OCR nos crops:  99%|█████████▉| 19779/20029 [1:22:18<01:02,  3.99img/s]"
     ]
    },
    {
     "name": "stdout",
     "output_type": "stream",
     "text": [
      "1/1 [==============================] - 0s 35ms/step\n"
     ]
    },
    {
     "name": "stderr",
     "output_type": "stream",
     "text": [
      "OCR nos crops:  99%|█████████▉| 19780/20029 [1:22:18<01:01,  4.03img/s]"
     ]
    },
    {
     "name": "stdout",
     "output_type": "stream",
     "text": [
      "1/1 [==============================] - 0s 50ms/step\n"
     ]
    },
    {
     "name": "stderr",
     "output_type": "stream",
     "text": [
      "OCR nos crops:  99%|█████████▉| 19781/20029 [1:22:19<01:01,  4.05img/s]"
     ]
    },
    {
     "name": "stdout",
     "output_type": "stream",
     "text": [
      "1/1 [==============================] - 0s 40ms/step\n"
     ]
    },
    {
     "name": "stderr",
     "output_type": "stream",
     "text": [
      "OCR nos crops:  99%|█████████▉| 19782/20029 [1:22:19<01:00,  4.06img/s]"
     ]
    },
    {
     "name": "stdout",
     "output_type": "stream",
     "text": [
      "1/1 [==============================] - 0s 44ms/step\n"
     ]
    },
    {
     "name": "stderr",
     "output_type": "stream",
     "text": [
      "OCR nos crops:  99%|█████████▉| 19783/20029 [1:22:19<01:00,  4.06img/s]"
     ]
    },
    {
     "name": "stdout",
     "output_type": "stream",
     "text": [
      "1/1 [==============================] - 0s 46ms/step\n"
     ]
    },
    {
     "name": "stderr",
     "output_type": "stream",
     "text": [
      "OCR nos crops:  99%|█████████▉| 19784/20029 [1:22:19<01:00,  4.08img/s]"
     ]
    },
    {
     "name": "stdout",
     "output_type": "stream",
     "text": [
      "1/1 [==============================] - 0s 40ms/step\n"
     ]
    },
    {
     "name": "stderr",
     "output_type": "stream",
     "text": [
      "OCR nos crops:  99%|█████████▉| 19785/20029 [1:22:20<00:59,  4.11img/s]"
     ]
    },
    {
     "name": "stdout",
     "output_type": "stream",
     "text": [
      "1/1 [==============================] - 0s 47ms/step\n"
     ]
    },
    {
     "name": "stderr",
     "output_type": "stream",
     "text": [
      "OCR nos crops:  99%|█████████▉| 19786/20029 [1:22:20<00:59,  4.09img/s]"
     ]
    },
    {
     "name": "stdout",
     "output_type": "stream",
     "text": [
      "1/1 [==============================] - 0s 45ms/step\n"
     ]
    },
    {
     "name": "stderr",
     "output_type": "stream",
     "text": [
      "OCR nos crops:  99%|█████████▉| 19787/20029 [1:22:20<00:59,  4.07img/s]"
     ]
    },
    {
     "name": "stdout",
     "output_type": "stream",
     "text": [
      "1/1 [==============================] - 0s 46ms/step\n"
     ]
    },
    {
     "name": "stderr",
     "output_type": "stream",
     "text": [
      "OCR nos crops:  99%|█████████▉| 19788/20029 [1:22:20<01:00,  3.99img/s]"
     ]
    },
    {
     "name": "stdout",
     "output_type": "stream",
     "text": [
      "1/1 [==============================] - 0s 51ms/step\n"
     ]
    },
    {
     "name": "stderr",
     "output_type": "stream",
     "text": [
      "OCR nos crops:  99%|█████████▉| 19789/20029 [1:22:21<01:00,  3.97img/s]"
     ]
    },
    {
     "name": "stdout",
     "output_type": "stream",
     "text": [
      "1/1 [==============================] - 0s 42ms/step\n"
     ]
    },
    {
     "name": "stderr",
     "output_type": "stream",
     "text": [
      "OCR nos crops:  99%|█████████▉| 19790/20029 [1:22:21<00:59,  4.02img/s]"
     ]
    },
    {
     "name": "stdout",
     "output_type": "stream",
     "text": [
      "1/1 [==============================] - 0s 40ms/step\n"
     ]
    },
    {
     "name": "stderr",
     "output_type": "stream",
     "text": [
      "OCR nos crops:  99%|█████████▉| 19791/20029 [1:22:21<00:58,  4.08img/s]"
     ]
    },
    {
     "name": "stdout",
     "output_type": "stream",
     "text": [
      "1/1 [==============================] - 0s 38ms/step\n"
     ]
    },
    {
     "name": "stderr",
     "output_type": "stream",
     "text": [
      "OCR nos crops:  99%|█████████▉| 19792/20029 [1:22:21<00:57,  4.11img/s]"
     ]
    },
    {
     "name": "stdout",
     "output_type": "stream",
     "text": [
      "1/1 [==============================] - 0s 40ms/step\n"
     ]
    },
    {
     "name": "stderr",
     "output_type": "stream",
     "text": [
      "OCR nos crops:  99%|█████████▉| 19793/20029 [1:22:22<00:57,  4.09img/s]"
     ]
    },
    {
     "name": "stdout",
     "output_type": "stream",
     "text": [
      "1/1 [==============================] - 0s 49ms/step\n"
     ]
    },
    {
     "name": "stderr",
     "output_type": "stream",
     "text": [
      "OCR nos crops:  99%|█████████▉| 19794/20029 [1:22:22<00:57,  4.08img/s]"
     ]
    },
    {
     "name": "stdout",
     "output_type": "stream",
     "text": [
      "1/1 [==============================] - 0s 42ms/step\n"
     ]
    },
    {
     "name": "stderr",
     "output_type": "stream",
     "text": [
      "OCR nos crops:  99%|█████████▉| 19795/20029 [1:22:22<00:57,  4.09img/s]"
     ]
    },
    {
     "name": "stdout",
     "output_type": "stream",
     "text": [
      "1/1 [==============================] - 0s 48ms/step\n"
     ]
    },
    {
     "name": "stderr",
     "output_type": "stream",
     "text": [
      "OCR nos crops:  99%|█████████▉| 19796/20029 [1:22:22<00:57,  4.03img/s]"
     ]
    },
    {
     "name": "stdout",
     "output_type": "stream",
     "text": [
      "1/1 [==============================] - 0s 42ms/step\n"
     ]
    },
    {
     "name": "stderr",
     "output_type": "stream",
     "text": [
      "OCR nos crops:  99%|█████████▉| 19797/20029 [1:22:23<00:56,  4.07img/s]"
     ]
    },
    {
     "name": "stdout",
     "output_type": "stream",
     "text": [
      "1/1 [==============================] - 0s 41ms/step\n"
     ]
    },
    {
     "name": "stderr",
     "output_type": "stream",
     "text": [
      "OCR nos crops:  99%|█████████▉| 19798/20029 [1:22:23<00:57,  4.05img/s]"
     ]
    },
    {
     "name": "stdout",
     "output_type": "stream",
     "text": [
      "1/1 [==============================] - 0s 49ms/step\n"
     ]
    },
    {
     "name": "stderr",
     "output_type": "stream",
     "text": [
      "OCR nos crops:  99%|█████████▉| 19799/20029 [1:22:23<00:56,  4.04img/s]"
     ]
    },
    {
     "name": "stdout",
     "output_type": "stream",
     "text": [
      "1/1 [==============================] - 0s 39ms/step\n"
     ]
    },
    {
     "name": "stderr",
     "output_type": "stream",
     "text": [
      "OCR nos crops:  99%|█████████▉| 19800/20029 [1:22:23<00:55,  4.11img/s]"
     ]
    },
    {
     "name": "stdout",
     "output_type": "stream",
     "text": [
      "1/1 [==============================] - 0s 35ms/step\n"
     ]
    },
    {
     "name": "stderr",
     "output_type": "stream",
     "text": [
      "OCR nos crops:  99%|█████████▉| 19801/20029 [1:22:24<00:54,  4.17img/s]"
     ]
    },
    {
     "name": "stdout",
     "output_type": "stream",
     "text": [
      "1/1 [==============================] - 0s 46ms/step\n"
     ]
    },
    {
     "name": "stderr",
     "output_type": "stream",
     "text": [
      "OCR nos crops:  99%|█████████▉| 19802/20029 [1:22:24<00:55,  4.10img/s]"
     ]
    },
    {
     "name": "stdout",
     "output_type": "stream",
     "text": [
      "1/1 [==============================] - 0s 42ms/step\n"
     ]
    },
    {
     "name": "stderr",
     "output_type": "stream",
     "text": [
      "OCR nos crops:  99%|█████████▉| 19803/20029 [1:22:24<00:55,  4.08img/s]"
     ]
    },
    {
     "name": "stdout",
     "output_type": "stream",
     "text": [
      "1/1 [==============================] - 0s 34ms/step\n"
     ]
    },
    {
     "name": "stderr",
     "output_type": "stream",
     "text": [
      "OCR nos crops:  99%|█████████▉| 19804/20029 [1:22:24<00:54,  4.16img/s]"
     ]
    },
    {
     "name": "stdout",
     "output_type": "stream",
     "text": [
      "1/1 [==============================] - 0s 40ms/step\n"
     ]
    },
    {
     "name": "stderr",
     "output_type": "stream",
     "text": [
      "OCR nos crops:  99%|█████████▉| 19805/20029 [1:22:25<00:54,  4.14img/s]"
     ]
    },
    {
     "name": "stdout",
     "output_type": "stream",
     "text": [
      "1/1 [==============================] - 0s 40ms/step\n"
     ]
    },
    {
     "name": "stderr",
     "output_type": "stream",
     "text": [
      "OCR nos crops:  99%|█████████▉| 19806/20029 [1:22:25<00:53,  4.16img/s]"
     ]
    },
    {
     "name": "stdout",
     "output_type": "stream",
     "text": [
      "1/1 [==============================] - 0s 46ms/step\n"
     ]
    },
    {
     "name": "stderr",
     "output_type": "stream",
     "text": [
      "OCR nos crops:  99%|█████████▉| 19807/20029 [1:22:25<00:53,  4.14img/s]"
     ]
    },
    {
     "name": "stdout",
     "output_type": "stream",
     "text": [
      "1/1 [==============================] - 0s 29ms/step\n"
     ]
    },
    {
     "name": "stderr",
     "output_type": "stream",
     "text": [
      "OCR nos crops:  99%|█████████▉| 19808/20029 [1:22:25<00:52,  4.18img/s]"
     ]
    },
    {
     "name": "stdout",
     "output_type": "stream",
     "text": [
      "1/1 [==============================] - 0s 25ms/step\n"
     ]
    },
    {
     "name": "stderr",
     "output_type": "stream",
     "text": [
      "OCR nos crops:  99%|█████████▉| 19809/20029 [1:22:26<00:51,  4.27img/s]"
     ]
    },
    {
     "name": "stdout",
     "output_type": "stream",
     "text": [
      "1/1 [==============================] - 0s 25ms/step\n"
     ]
    },
    {
     "name": "stderr",
     "output_type": "stream",
     "text": [
      "OCR nos crops:  99%|█████████▉| 19810/20029 [1:22:26<00:49,  4.40img/s]"
     ]
    },
    {
     "name": "stdout",
     "output_type": "stream",
     "text": [
      "1/1 [==============================] - 0s 23ms/step\n"
     ]
    },
    {
     "name": "stderr",
     "output_type": "stream",
     "text": [
      "OCR nos crops:  99%|█████████▉| 19811/20029 [1:22:26<00:48,  4.49img/s]"
     ]
    },
    {
     "name": "stdout",
     "output_type": "stream",
     "text": [
      "1/1 [==============================] - 0s 28ms/step\n"
     ]
    },
    {
     "name": "stderr",
     "output_type": "stream",
     "text": [
      "OCR nos crops:  99%|█████████▉| 19812/20029 [1:22:26<00:49,  4.40img/s]"
     ]
    },
    {
     "name": "stdout",
     "output_type": "stream",
     "text": [
      "1/1 [==============================] - 0s 24ms/step\n"
     ]
    },
    {
     "name": "stderr",
     "output_type": "stream",
     "text": [
      "OCR nos crops:  99%|█████████▉| 19813/20029 [1:22:26<00:48,  4.44img/s]"
     ]
    },
    {
     "name": "stdout",
     "output_type": "stream",
     "text": [
      "1/1 [==============================] - 0s 27ms/step\n"
     ]
    },
    {
     "name": "stderr",
     "output_type": "stream",
     "text": [
      "OCR nos crops:  99%|█████████▉| 19814/20029 [1:22:27<00:48,  4.43img/s]"
     ]
    },
    {
     "name": "stdout",
     "output_type": "stream",
     "text": [
      "1/1 [==============================] - 0s 25ms/step\n"
     ]
    },
    {
     "name": "stderr",
     "output_type": "stream",
     "text": [
      "OCR nos crops:  99%|█████████▉| 19815/20029 [1:22:27<00:47,  4.46img/s]"
     ]
    },
    {
     "name": "stdout",
     "output_type": "stream",
     "text": [
      "1/1 [==============================] - 0s 24ms/step\n"
     ]
    },
    {
     "name": "stderr",
     "output_type": "stream",
     "text": [
      "OCR nos crops:  99%|█████████▉| 19816/20029 [1:22:27<00:47,  4.50img/s]"
     ]
    },
    {
     "name": "stdout",
     "output_type": "stream",
     "text": [
      "1/1 [==============================] - 0s 27ms/step\n"
     ]
    },
    {
     "name": "stderr",
     "output_type": "stream",
     "text": [
      "OCR nos crops:  99%|█████████▉| 19817/20029 [1:22:27<00:47,  4.45img/s]"
     ]
    },
    {
     "name": "stdout",
     "output_type": "stream",
     "text": [
      "1/1 [==============================] - 0s 23ms/step\n"
     ]
    },
    {
     "name": "stderr",
     "output_type": "stream",
     "text": [
      "OCR nos crops:  99%|█████████▉| 19818/20029 [1:22:28<00:46,  4.49img/s]"
     ]
    },
    {
     "name": "stdout",
     "output_type": "stream",
     "text": [
      "1/1 [==============================] - 0s 24ms/step\n"
     ]
    },
    {
     "name": "stderr",
     "output_type": "stream",
     "text": [
      "OCR nos crops:  99%|█████████▉| 19819/20029 [1:22:28<00:47,  4.40img/s]"
     ]
    },
    {
     "name": "stdout",
     "output_type": "stream",
     "text": [
      "1/1 [==============================] - 0s 27ms/step\n"
     ]
    },
    {
     "name": "stderr",
     "output_type": "stream",
     "text": [
      "OCR nos crops:  99%|█████████▉| 19820/20029 [1:22:28<00:46,  4.45img/s]"
     ]
    },
    {
     "name": "stdout",
     "output_type": "stream",
     "text": [
      "1/1 [==============================] - 0s 22ms/step\n"
     ]
    },
    {
     "name": "stderr",
     "output_type": "stream",
     "text": [
      "OCR nos crops:  99%|█████████▉| 19821/20029 [1:22:28<00:46,  4.48img/s]"
     ]
    },
    {
     "name": "stdout",
     "output_type": "stream",
     "text": [
      "1/1 [==============================] - 0s 28ms/step\n"
     ]
    },
    {
     "name": "stderr",
     "output_type": "stream",
     "text": [
      "OCR nos crops:  99%|█████████▉| 19822/20029 [1:22:28<00:46,  4.44img/s]"
     ]
    },
    {
     "name": "stdout",
     "output_type": "stream",
     "text": [
      "1/1 [==============================] - 0s 24ms/step\n"
     ]
    },
    {
     "name": "stderr",
     "output_type": "stream",
     "text": [
      "OCR nos crops:  99%|█████████▉| 19823/20029 [1:22:29<00:46,  4.45img/s]"
     ]
    },
    {
     "name": "stdout",
     "output_type": "stream",
     "text": [
      "1/1 [==============================] - 0s 25ms/step\n"
     ]
    },
    {
     "name": "stderr",
     "output_type": "stream",
     "text": [
      "OCR nos crops:  99%|█████████▉| 19824/20029 [1:22:29<00:46,  4.45img/s]"
     ]
    },
    {
     "name": "stdout",
     "output_type": "stream",
     "text": [
      "1/1 [==============================] - 0s 27ms/step\n"
     ]
    },
    {
     "name": "stderr",
     "output_type": "stream",
     "text": [
      "OCR nos crops:  99%|█████████▉| 19825/20029 [1:22:29<00:45,  4.45img/s]"
     ]
    },
    {
     "name": "stdout",
     "output_type": "stream",
     "text": [
      "1/1 [==============================] - 0s 24ms/step\n"
     ]
    },
    {
     "name": "stderr",
     "output_type": "stream",
     "text": [
      "OCR nos crops:  99%|█████████▉| 19826/20029 [1:22:29<00:45,  4.48img/s]"
     ]
    },
    {
     "name": "stdout",
     "output_type": "stream",
     "text": [
      "1/1 [==============================] - 0s 29ms/step\n"
     ]
    },
    {
     "name": "stderr",
     "output_type": "stream",
     "text": [
      "OCR nos crops:  99%|█████████▉| 19827/20029 [1:22:30<00:46,  4.36img/s]"
     ]
    },
    {
     "name": "stdout",
     "output_type": "stream",
     "text": [
      "1/1 [==============================] - 0s 28ms/step\n"
     ]
    },
    {
     "name": "stderr",
     "output_type": "stream",
     "text": [
      "OCR nos crops:  99%|█████████▉| 19828/20029 [1:22:30<00:45,  4.40img/s]"
     ]
    },
    {
     "name": "stdout",
     "output_type": "stream",
     "text": [
      "1/1 [==============================] - 0s 31ms/step\n"
     ]
    },
    {
     "name": "stderr",
     "output_type": "stream",
     "text": [
      "OCR nos crops:  99%|█████████▉| 19829/20029 [1:22:30<00:45,  4.40img/s]"
     ]
    },
    {
     "name": "stdout",
     "output_type": "stream",
     "text": [
      "1/1 [==============================] - 0s 35ms/step\n"
     ]
    },
    {
     "name": "stderr",
     "output_type": "stream",
     "text": [
      "OCR nos crops:  99%|█████████▉| 19830/20029 [1:22:30<00:45,  4.37img/s]"
     ]
    },
    {
     "name": "stdout",
     "output_type": "stream",
     "text": [
      "1/1 [==============================] - 0s 39ms/step\n"
     ]
    },
    {
     "name": "stderr",
     "output_type": "stream",
     "text": [
      "OCR nos crops:  99%|█████████▉| 19831/20029 [1:22:30<00:46,  4.29img/s]"
     ]
    },
    {
     "name": "stdout",
     "output_type": "stream",
     "text": [
      "1/1 [==============================] - 0s 37ms/step\n"
     ]
    },
    {
     "name": "stderr",
     "output_type": "stream",
     "text": [
      "OCR nos crops:  99%|█████████▉| 19832/20029 [1:22:31<00:46,  4.21img/s]"
     ]
    },
    {
     "name": "stdout",
     "output_type": "stream",
     "text": [
      "1/1 [==============================] - 0s 36ms/step\n"
     ]
    },
    {
     "name": "stderr",
     "output_type": "stream",
     "text": [
      "OCR nos crops:  99%|█████████▉| 19833/20029 [1:22:31<00:46,  4.22img/s]"
     ]
    },
    {
     "name": "stdout",
     "output_type": "stream",
     "text": [
      "1/1 [==============================] - 0s 33ms/step\n"
     ]
    },
    {
     "name": "stderr",
     "output_type": "stream",
     "text": [
      "OCR nos crops:  99%|█████████▉| 19834/20029 [1:22:31<00:46,  4.22img/s]"
     ]
    },
    {
     "name": "stdout",
     "output_type": "stream",
     "text": [
      "1/1 [==============================] - 0s 38ms/step\n"
     ]
    },
    {
     "name": "stderr",
     "output_type": "stream",
     "text": [
      "OCR nos crops:  99%|█████████▉| 19835/20029 [1:22:31<00:46,  4.14img/s]"
     ]
    },
    {
     "name": "stdout",
     "output_type": "stream",
     "text": [
      "1/1 [==============================] - 0s 34ms/step\n"
     ]
    },
    {
     "name": "stderr",
     "output_type": "stream",
     "text": [
      "OCR nos crops:  99%|█████████▉| 19836/20029 [1:22:32<00:46,  4.18img/s]"
     ]
    },
    {
     "name": "stdout",
     "output_type": "stream",
     "text": [
      "1/1 [==============================] - 0s 36ms/step\n"
     ]
    },
    {
     "name": "stderr",
     "output_type": "stream",
     "text": [
      "OCR nos crops:  99%|█████████▉| 19837/20029 [1:22:32<00:46,  4.14img/s]"
     ]
    },
    {
     "name": "stdout",
     "output_type": "stream",
     "text": [
      "1/1 [==============================] - 0s 42ms/step\n"
     ]
    },
    {
     "name": "stderr",
     "output_type": "stream",
     "text": [
      "OCR nos crops:  99%|█████████▉| 19838/20029 [1:22:32<00:46,  4.12img/s]"
     ]
    },
    {
     "name": "stdout",
     "output_type": "stream",
     "text": [
      "1/1 [==============================] - 0s 41ms/step\n"
     ]
    },
    {
     "name": "stderr",
     "output_type": "stream",
     "text": [
      "OCR nos crops:  99%|█████████▉| 19839/20029 [1:22:32<00:45,  4.14img/s]"
     ]
    },
    {
     "name": "stdout",
     "output_type": "stream",
     "text": [
      "1/1 [==============================] - 0s 45ms/step\n"
     ]
    },
    {
     "name": "stderr",
     "output_type": "stream",
     "text": [
      "OCR nos crops:  99%|█████████▉| 19840/20029 [1:22:33<00:45,  4.13img/s]"
     ]
    },
    {
     "name": "stdout",
     "output_type": "stream",
     "text": [
      "1/1 [==============================] - 0s 40ms/step\n"
     ]
    },
    {
     "name": "stderr",
     "output_type": "stream",
     "text": [
      "OCR nos crops:  99%|█████████▉| 19841/20029 [1:22:33<00:45,  4.12img/s]"
     ]
    },
    {
     "name": "stdout",
     "output_type": "stream",
     "text": [
      "1/1 [==============================] - 0s 47ms/step\n"
     ]
    },
    {
     "name": "stderr",
     "output_type": "stream",
     "text": [
      "OCR nos crops:  99%|█████████▉| 19842/20029 [1:22:33<00:46,  4.05img/s]"
     ]
    },
    {
     "name": "stdout",
     "output_type": "stream",
     "text": [
      "1/1 [==============================] - 0s 46ms/step\n"
     ]
    },
    {
     "name": "stderr",
     "output_type": "stream",
     "text": [
      "OCR nos crops:  99%|█████████▉| 19843/20029 [1:22:33<00:45,  4.07img/s]"
     ]
    },
    {
     "name": "stdout",
     "output_type": "stream",
     "text": [
      "1/1 [==============================] - 0s 46ms/step\n"
     ]
    },
    {
     "name": "stderr",
     "output_type": "stream",
     "text": [
      "OCR nos crops:  99%|█████████▉| 19844/20029 [1:22:34<00:45,  4.07img/s]"
     ]
    },
    {
     "name": "stdout",
     "output_type": "stream",
     "text": [
      "1/1 [==============================] - 0s 48ms/step\n"
     ]
    },
    {
     "name": "stderr",
     "output_type": "stream",
     "text": [
      "OCR nos crops:  99%|█████████▉| 19845/20029 [1:22:34<00:45,  4.04img/s]"
     ]
    },
    {
     "name": "stdout",
     "output_type": "stream",
     "text": [
      "1/1 [==============================] - 0s 47ms/step\n"
     ]
    },
    {
     "name": "stderr",
     "output_type": "stream",
     "text": [
      "OCR nos crops:  99%|█████████▉| 19846/20029 [1:22:34<00:45,  4.03img/s]"
     ]
    },
    {
     "name": "stdout",
     "output_type": "stream",
     "text": [
      "1/1 [==============================] - 0s 47ms/step\n"
     ]
    },
    {
     "name": "stderr",
     "output_type": "stream",
     "text": [
      "OCR nos crops:  99%|█████████▉| 19847/20029 [1:22:34<00:45,  3.98img/s]"
     ]
    },
    {
     "name": "stdout",
     "output_type": "stream",
     "text": [
      "1/1 [==============================] - 0s 48ms/step\n"
     ]
    },
    {
     "name": "stderr",
     "output_type": "stream",
     "text": [
      "OCR nos crops:  99%|█████████▉| 19848/20029 [1:22:35<00:44,  4.04img/s]"
     ]
    },
    {
     "name": "stdout",
     "output_type": "stream",
     "text": [
      "1/1 [==============================] - 0s 44ms/step\n"
     ]
    },
    {
     "name": "stderr",
     "output_type": "stream",
     "text": [
      "OCR nos crops:  99%|█████████▉| 19849/20029 [1:22:35<00:44,  4.05img/s]"
     ]
    },
    {
     "name": "stdout",
     "output_type": "stream",
     "text": [
      "1/1 [==============================] - 0s 53ms/step\n"
     ]
    },
    {
     "name": "stderr",
     "output_type": "stream",
     "text": [
      "OCR nos crops:  99%|█████████▉| 19850/20029 [1:22:35<00:44,  4.04img/s]"
     ]
    },
    {
     "name": "stdout",
     "output_type": "stream",
     "text": [
      "1/1 [==============================] - 0s 48ms/step\n"
     ]
    },
    {
     "name": "stderr",
     "output_type": "stream",
     "text": [
      "OCR nos crops:  99%|█████████▉| 19851/20029 [1:22:35<00:43,  4.05img/s]"
     ]
    },
    {
     "name": "stdout",
     "output_type": "stream",
     "text": [
      "1/1 [==============================] - 0s 49ms/step\n"
     ]
    },
    {
     "name": "stderr",
     "output_type": "stream",
     "text": [
      "OCR nos crops:  99%|█████████▉| 19852/20029 [1:22:36<00:44,  3.97img/s]"
     ]
    },
    {
     "name": "stdout",
     "output_type": "stream",
     "text": [
      "1/1 [==============================] - 0s 39ms/step\n"
     ]
    },
    {
     "name": "stderr",
     "output_type": "stream",
     "text": [
      "OCR nos crops:  99%|█████████▉| 19853/20029 [1:22:36<00:43,  4.03img/s]"
     ]
    },
    {
     "name": "stdout",
     "output_type": "stream",
     "text": [
      "1/1 [==============================] - 0s 57ms/step\n"
     ]
    },
    {
     "name": "stderr",
     "output_type": "stream",
     "text": [
      "OCR nos crops:  99%|█████████▉| 19854/20029 [1:22:36<00:43,  4.01img/s]"
     ]
    },
    {
     "name": "stdout",
     "output_type": "stream",
     "text": [
      "1/1 [==============================] - 0s 47ms/step\n"
     ]
    },
    {
     "name": "stderr",
     "output_type": "stream",
     "text": [
      "OCR nos crops:  99%|█████████▉| 19855/20029 [1:22:36<00:42,  4.05img/s]"
     ]
    },
    {
     "name": "stdout",
     "output_type": "stream",
     "text": [
      "1/1 [==============================] - 0s 48ms/step\n"
     ]
    },
    {
     "name": "stderr",
     "output_type": "stream",
     "text": [
      "OCR nos crops:  99%|█████████▉| 19856/20029 [1:22:37<00:42,  4.03img/s]"
     ]
    },
    {
     "name": "stdout",
     "output_type": "stream",
     "text": [
      "1/1 [==============================] - 0s 44ms/step\n"
     ]
    },
    {
     "name": "stderr",
     "output_type": "stream",
     "text": [
      "OCR nos crops:  99%|█████████▉| 19857/20029 [1:22:37<00:42,  4.06img/s]"
     ]
    },
    {
     "name": "stdout",
     "output_type": "stream",
     "text": [
      "1/1 [==============================] - 0s 45ms/step\n"
     ]
    },
    {
     "name": "stderr",
     "output_type": "stream",
     "text": [
      "OCR nos crops:  99%|█████████▉| 19858/20029 [1:22:37<00:42,  4.06img/s]"
     ]
    },
    {
     "name": "stdout",
     "output_type": "stream",
     "text": [
      "1/1 [==============================] - 0s 49ms/step\n"
     ]
    },
    {
     "name": "stderr",
     "output_type": "stream",
     "text": [
      "OCR nos crops:  99%|█████████▉| 19859/20029 [1:22:37<00:41,  4.09img/s]"
     ]
    },
    {
     "name": "stdout",
     "output_type": "stream",
     "text": [
      "1/1 [==============================] - 0s 43ms/step\n"
     ]
    },
    {
     "name": "stderr",
     "output_type": "stream",
     "text": [
      "OCR nos crops:  99%|█████████▉| 19860/20029 [1:22:38<00:41,  4.12img/s]"
     ]
    },
    {
     "name": "stdout",
     "output_type": "stream",
     "text": [
      "1/1 [==============================] - 0s 44ms/step\n"
     ]
    },
    {
     "name": "stderr",
     "output_type": "stream",
     "text": [
      "OCR nos crops:  99%|█████████▉| 19861/20029 [1:22:38<00:41,  4.03img/s]"
     ]
    },
    {
     "name": "stdout",
     "output_type": "stream",
     "text": [
      "1/1 [==============================] - 0s 41ms/step\n"
     ]
    },
    {
     "name": "stderr",
     "output_type": "stream",
     "text": [
      "OCR nos crops:  99%|█████████▉| 19862/20029 [1:22:38<00:40,  4.08img/s]"
     ]
    },
    {
     "name": "stdout",
     "output_type": "stream",
     "text": [
      "1/1 [==============================] - 0s 44ms/step\n"
     ]
    },
    {
     "name": "stderr",
     "output_type": "stream",
     "text": [
      "OCR nos crops:  99%|█████████▉| 19863/20029 [1:22:38<00:40,  4.13img/s]"
     ]
    },
    {
     "name": "stdout",
     "output_type": "stream",
     "text": [
      "1/1 [==============================] - 0s 44ms/step\n"
     ]
    },
    {
     "name": "stderr",
     "output_type": "stream",
     "text": [
      "OCR nos crops:  99%|█████████▉| 19864/20029 [1:22:39<00:39,  4.15img/s]"
     ]
    },
    {
     "name": "stdout",
     "output_type": "stream",
     "text": [
      "1/1 [==============================] - 0s 49ms/step\n"
     ]
    },
    {
     "name": "stderr",
     "output_type": "stream",
     "text": [
      "OCR nos crops:  99%|█████████▉| 19865/20029 [1:22:39<00:39,  4.16img/s]"
     ]
    },
    {
     "name": "stdout",
     "output_type": "stream",
     "text": [
      "1/1 [==============================] - 0s 43ms/step\n"
     ]
    },
    {
     "name": "stderr",
     "output_type": "stream",
     "text": [
      "OCR nos crops:  99%|█████████▉| 19866/20029 [1:22:39<00:39,  4.14img/s]"
     ]
    },
    {
     "name": "stdout",
     "output_type": "stream",
     "text": [
      "1/1 [==============================] - 0s 50ms/step\n"
     ]
    },
    {
     "name": "stderr",
     "output_type": "stream",
     "text": [
      "OCR nos crops:  99%|█████████▉| 19867/20029 [1:22:39<00:39,  4.13img/s]"
     ]
    },
    {
     "name": "stdout",
     "output_type": "stream",
     "text": [
      "1/1 [==============================] - 0s 42ms/step\n"
     ]
    },
    {
     "name": "stderr",
     "output_type": "stream",
     "text": [
      "OCR nos crops:  99%|█████████▉| 19868/20029 [1:22:40<00:39,  4.12img/s]"
     ]
    },
    {
     "name": "stdout",
     "output_type": "stream",
     "text": [
      "1/1 [==============================] - 0s 48ms/step\n"
     ]
    },
    {
     "name": "stderr",
     "output_type": "stream",
     "text": [
      "OCR nos crops:  99%|█████████▉| 19869/20029 [1:22:40<00:39,  4.10img/s]"
     ]
    },
    {
     "name": "stdout",
     "output_type": "stream",
     "text": [
      "1/1 [==============================] - 0s 45ms/step\n"
     ]
    },
    {
     "name": "stderr",
     "output_type": "stream",
     "text": [
      "OCR nos crops:  99%|█████████▉| 19870/20029 [1:22:40<00:38,  4.11img/s]"
     ]
    },
    {
     "name": "stdout",
     "output_type": "stream",
     "text": [
      "1/1 [==============================] - 0s 53ms/step\n"
     ]
    },
    {
     "name": "stderr",
     "output_type": "stream",
     "text": [
      "OCR nos crops:  99%|█████████▉| 19871/20029 [1:22:40<00:39,  4.01img/s]"
     ]
    },
    {
     "name": "stdout",
     "output_type": "stream",
     "text": [
      "1/1 [==============================] - 0s 43ms/step\n"
     ]
    },
    {
     "name": "stderr",
     "output_type": "stream",
     "text": [
      "OCR nos crops:  99%|█████████▉| 19872/20029 [1:22:41<00:38,  4.07img/s]"
     ]
    },
    {
     "name": "stdout",
     "output_type": "stream",
     "text": [
      "1/1 [==============================] - 0s 43ms/step\n"
     ]
    },
    {
     "name": "stderr",
     "output_type": "stream",
     "text": [
      "OCR nos crops:  99%|█████████▉| 19873/20029 [1:22:41<00:37,  4.11img/s]"
     ]
    },
    {
     "name": "stdout",
     "output_type": "stream",
     "text": [
      "1/1 [==============================] - 0s 46ms/step\n"
     ]
    },
    {
     "name": "stderr",
     "output_type": "stream",
     "text": [
      "OCR nos crops:  99%|█████████▉| 19874/20029 [1:22:41<00:37,  4.11img/s]"
     ]
    },
    {
     "name": "stdout",
     "output_type": "stream",
     "text": [
      "1/1 [==============================] - 0s 36ms/step\n"
     ]
    },
    {
     "name": "stderr",
     "output_type": "stream",
     "text": [
      "OCR nos crops:  99%|█████████▉| 19875/20029 [1:22:41<00:36,  4.17img/s]"
     ]
    },
    {
     "name": "stdout",
     "output_type": "stream",
     "text": [
      "1/1 [==============================] - 0s 47ms/step\n"
     ]
    },
    {
     "name": "stderr",
     "output_type": "stream",
     "text": [
      "OCR nos crops:  99%|█████████▉| 19876/20029 [1:22:41<00:37,  4.10img/s]"
     ]
    },
    {
     "name": "stdout",
     "output_type": "stream",
     "text": [
      "1/1 [==============================] - 0s 42ms/step\n"
     ]
    },
    {
     "name": "stderr",
     "output_type": "stream",
     "text": [
      "OCR nos crops:  99%|█████████▉| 19877/20029 [1:22:42<00:36,  4.11img/s]"
     ]
    },
    {
     "name": "stdout",
     "output_type": "stream",
     "text": [
      "1/1 [==============================] - 0s 46ms/step\n"
     ]
    },
    {
     "name": "stderr",
     "output_type": "stream",
     "text": [
      "OCR nos crops:  99%|█████████▉| 19878/20029 [1:22:42<00:37,  4.08img/s]"
     ]
    },
    {
     "name": "stdout",
     "output_type": "stream",
     "text": [
      "1/1 [==============================] - 0s 49ms/step\n"
     ]
    },
    {
     "name": "stderr",
     "output_type": "stream",
     "text": [
      "OCR nos crops:  99%|█████████▉| 19879/20029 [1:22:42<00:37,  4.04img/s]"
     ]
    },
    {
     "name": "stdout",
     "output_type": "stream",
     "text": [
      "1/1 [==============================] - 0s 40ms/step\n"
     ]
    },
    {
     "name": "stderr",
     "output_type": "stream",
     "text": [
      "OCR nos crops:  99%|█████████▉| 19880/20029 [1:22:42<00:36,  4.05img/s]"
     ]
    },
    {
     "name": "stdout",
     "output_type": "stream",
     "text": [
      "1/1 [==============================] - 0s 50ms/step\n"
     ]
    },
    {
     "name": "stderr",
     "output_type": "stream",
     "text": [
      "OCR nos crops:  99%|█████████▉| 19881/20029 [1:22:43<00:36,  4.04img/s]"
     ]
    },
    {
     "name": "stdout",
     "output_type": "stream",
     "text": [
      "1/1 [==============================] - 0s 48ms/step\n"
     ]
    },
    {
     "name": "stderr",
     "output_type": "stream",
     "text": [
      "OCR nos crops:  99%|█████████▉| 19882/20029 [1:22:43<00:36,  4.04img/s]"
     ]
    },
    {
     "name": "stdout",
     "output_type": "stream",
     "text": [
      "1/1 [==============================] - 0s 40ms/step\n"
     ]
    },
    {
     "name": "stderr",
     "output_type": "stream",
     "text": [
      "OCR nos crops:  99%|█████████▉| 19883/20029 [1:22:43<00:36,  4.03img/s]"
     ]
    },
    {
     "name": "stdout",
     "output_type": "stream",
     "text": [
      "1/1 [==============================] - 0s 47ms/step\n"
     ]
    },
    {
     "name": "stderr",
     "output_type": "stream",
     "text": [
      "OCR nos crops:  99%|█████████▉| 19884/20029 [1:22:43<00:36,  4.02img/s]"
     ]
    },
    {
     "name": "stdout",
     "output_type": "stream",
     "text": [
      "1/1 [==============================] - 0s 42ms/step\n"
     ]
    },
    {
     "name": "stderr",
     "output_type": "stream",
     "text": [
      "OCR nos crops:  99%|█████████▉| 19885/20029 [1:22:44<00:35,  4.07img/s]"
     ]
    },
    {
     "name": "stdout",
     "output_type": "stream",
     "text": [
      "1/1 [==============================] - 0s 49ms/step\n"
     ]
    },
    {
     "name": "stderr",
     "output_type": "stream",
     "text": [
      "OCR nos crops:  99%|█████████▉| 19886/20029 [1:22:44<00:35,  4.04img/s]"
     ]
    },
    {
     "name": "stdout",
     "output_type": "stream",
     "text": [
      "1/1 [==============================] - 0s 46ms/step\n"
     ]
    },
    {
     "name": "stderr",
     "output_type": "stream",
     "text": [
      "OCR nos crops:  99%|█████████▉| 19887/20029 [1:22:44<00:35,  4.03img/s]"
     ]
    },
    {
     "name": "stdout",
     "output_type": "stream",
     "text": [
      "1/1 [==============================] - 0s 51ms/step\n"
     ]
    },
    {
     "name": "stderr",
     "output_type": "stream",
     "text": [
      "OCR nos crops:  99%|█████████▉| 19888/20029 [1:22:44<00:35,  4.02img/s]"
     ]
    },
    {
     "name": "stdout",
     "output_type": "stream",
     "text": [
      "1/1 [==============================] - 0s 46ms/step\n"
     ]
    },
    {
     "name": "stderr",
     "output_type": "stream",
     "text": [
      "OCR nos crops:  99%|█████████▉| 19889/20029 [1:22:45<00:34,  4.04img/s]"
     ]
    },
    {
     "name": "stdout",
     "output_type": "stream",
     "text": [
      "1/1 [==============================] - 0s 46ms/step\n"
     ]
    },
    {
     "name": "stderr",
     "output_type": "stream",
     "text": [
      "OCR nos crops:  99%|█████████▉| 19890/20029 [1:22:45<00:34,  4.00img/s]"
     ]
    },
    {
     "name": "stdout",
     "output_type": "stream",
     "text": [
      "1/1 [==============================] - 0s 48ms/step\n"
     ]
    },
    {
     "name": "stderr",
     "output_type": "stream",
     "text": [
      "OCR nos crops:  99%|█████████▉| 19891/20029 [1:22:45<00:34,  4.00img/s]"
     ]
    },
    {
     "name": "stdout",
     "output_type": "stream",
     "text": [
      "1/1 [==============================] - 0s 52ms/step\n"
     ]
    },
    {
     "name": "stderr",
     "output_type": "stream",
     "text": [
      "OCR nos crops:  99%|█████████▉| 19892/20029 [1:22:45<00:34,  3.98img/s]"
     ]
    },
    {
     "name": "stdout",
     "output_type": "stream",
     "text": [
      "1/1 [==============================] - 0s 40ms/step\n"
     ]
    },
    {
     "name": "stderr",
     "output_type": "stream",
     "text": [
      "OCR nos crops:  99%|█████████▉| 19893/20029 [1:22:46<00:33,  4.03img/s]"
     ]
    },
    {
     "name": "stdout",
     "output_type": "stream",
     "text": [
      "1/1 [==============================] - 0s 45ms/step\n"
     ]
    },
    {
     "name": "stderr",
     "output_type": "stream",
     "text": [
      "OCR nos crops:  99%|█████████▉| 19894/20029 [1:22:46<00:34,  3.96img/s]"
     ]
    },
    {
     "name": "stdout",
     "output_type": "stream",
     "text": [
      "1/1 [==============================] - 0s 41ms/step\n"
     ]
    },
    {
     "name": "stderr",
     "output_type": "stream",
     "text": [
      "OCR nos crops:  99%|█████████▉| 19895/20029 [1:22:46<00:33,  4.02img/s]"
     ]
    },
    {
     "name": "stdout",
     "output_type": "stream",
     "text": [
      "1/1 [==============================] - 0s 52ms/step\n"
     ]
    },
    {
     "name": "stderr",
     "output_type": "stream",
     "text": [
      "OCR nos crops:  99%|█████████▉| 19896/20029 [1:22:46<00:33,  4.02img/s]"
     ]
    },
    {
     "name": "stdout",
     "output_type": "stream",
     "text": [
      "1/1 [==============================] - 0s 49ms/step\n"
     ]
    },
    {
     "name": "stderr",
     "output_type": "stream",
     "text": [
      "OCR nos crops:  99%|█████████▉| 19897/20029 [1:22:47<00:32,  4.00img/s]"
     ]
    },
    {
     "name": "stdout",
     "output_type": "stream",
     "text": [
      "1/1 [==============================] - 0s 48ms/step\n"
     ]
    },
    {
     "name": "stderr",
     "output_type": "stream",
     "text": [
      "OCR nos crops:  99%|█████████▉| 19898/20029 [1:22:47<00:33,  3.96img/s]"
     ]
    },
    {
     "name": "stdout",
     "output_type": "stream",
     "text": [
      "1/1 [==============================] - 0s 48ms/step\n"
     ]
    },
    {
     "name": "stderr",
     "output_type": "stream",
     "text": [
      "OCR nos crops:  99%|█████████▉| 19899/20029 [1:22:47<00:32,  3.98img/s]"
     ]
    },
    {
     "name": "stdout",
     "output_type": "stream",
     "text": [
      "1/1 [==============================] - 0s 51ms/step\n"
     ]
    },
    {
     "name": "stderr",
     "output_type": "stream",
     "text": [
      "OCR nos crops:  99%|█████████▉| 19900/20029 [1:22:47<00:32,  3.99img/s]"
     ]
    },
    {
     "name": "stdout",
     "output_type": "stream",
     "text": [
      "1/1 [==============================] - 0s 45ms/step\n"
     ]
    },
    {
     "name": "stderr",
     "output_type": "stream",
     "text": [
      "OCR nos crops:  99%|█████████▉| 19901/20029 [1:22:48<00:31,  4.02img/s]"
     ]
    },
    {
     "name": "stdout",
     "output_type": "stream",
     "text": [
      "1/1 [==============================] - 0s 48ms/step\n"
     ]
    },
    {
     "name": "stderr",
     "output_type": "stream",
     "text": [
      "OCR nos crops:  99%|█████████▉| 19902/20029 [1:22:48<00:31,  3.98img/s]"
     ]
    },
    {
     "name": "stdout",
     "output_type": "stream",
     "text": [
      "1/1 [==============================] - 0s 41ms/step\n"
     ]
    },
    {
     "name": "stderr",
     "output_type": "stream",
     "text": [
      "OCR nos crops:  99%|█████████▉| 19903/20029 [1:22:48<00:31,  4.03img/s]"
     ]
    },
    {
     "name": "stdout",
     "output_type": "stream",
     "text": [
      "1/1 [==============================] - 0s 40ms/step\n"
     ]
    },
    {
     "name": "stderr",
     "output_type": "stream",
     "text": [
      "OCR nos crops:  99%|█████████▉| 19904/20029 [1:22:48<00:30,  4.10img/s]"
     ]
    },
    {
     "name": "stdout",
     "output_type": "stream",
     "text": [
      "1/1 [==============================] - 0s 35ms/step\n"
     ]
    },
    {
     "name": "stderr",
     "output_type": "stream",
     "text": [
      "OCR nos crops:  99%|█████████▉| 19905/20029 [1:22:49<00:29,  4.16img/s]"
     ]
    },
    {
     "name": "stdout",
     "output_type": "stream",
     "text": [
      "1/1 [==============================] - 0s 48ms/step\n"
     ]
    },
    {
     "name": "stderr",
     "output_type": "stream",
     "text": [
      "OCR nos crops:  99%|█████████▉| 19906/20029 [1:22:49<00:29,  4.11img/s]"
     ]
    },
    {
     "name": "stdout",
     "output_type": "stream",
     "text": [
      "1/1 [==============================] - 0s 52ms/step\n"
     ]
    },
    {
     "name": "stderr",
     "output_type": "stream",
     "text": [
      "OCR nos crops:  99%|█████████▉| 19907/20029 [1:22:49<00:30,  4.06img/s]"
     ]
    },
    {
     "name": "stdout",
     "output_type": "stream",
     "text": [
      "1/1 [==============================] - 0s 48ms/step\n"
     ]
    },
    {
     "name": "stderr",
     "output_type": "stream",
     "text": [
      "OCR nos crops:  99%|█████████▉| 19908/20029 [1:22:49<00:30,  4.02img/s]"
     ]
    },
    {
     "name": "stdout",
     "output_type": "stream",
     "text": [
      "1/1 [==============================] - 0s 45ms/step\n"
     ]
    },
    {
     "name": "stderr",
     "output_type": "stream",
     "text": [
      "OCR nos crops:  99%|█████████▉| 19909/20029 [1:22:50<00:29,  4.06img/s]"
     ]
    },
    {
     "name": "stdout",
     "output_type": "stream",
     "text": [
      "1/1 [==============================] - 0s 41ms/step\n"
     ]
    },
    {
     "name": "stderr",
     "output_type": "stream",
     "text": [
      "OCR nos crops:  99%|█████████▉| 19910/20029 [1:22:50<00:29,  4.09img/s]"
     ]
    },
    {
     "name": "stdout",
     "output_type": "stream",
     "text": [
      "1/1 [==============================] - 0s 50ms/step\n"
     ]
    },
    {
     "name": "stderr",
     "output_type": "stream",
     "text": [
      "OCR nos crops:  99%|█████████▉| 19911/20029 [1:22:50<00:29,  3.98img/s]"
     ]
    },
    {
     "name": "stdout",
     "output_type": "stream",
     "text": [
      "1/1 [==============================] - 0s 47ms/step\n"
     ]
    },
    {
     "name": "stderr",
     "output_type": "stream",
     "text": [
      "OCR nos crops:  99%|█████████▉| 19912/20029 [1:22:50<00:29,  4.00img/s]"
     ]
    },
    {
     "name": "stdout",
     "output_type": "stream",
     "text": [
      "1/1 [==============================] - 0s 44ms/step\n"
     ]
    },
    {
     "name": "stderr",
     "output_type": "stream",
     "text": [
      "OCR nos crops:  99%|█████████▉| 19913/20029 [1:22:51<00:28,  4.00img/s]"
     ]
    },
    {
     "name": "stdout",
     "output_type": "stream",
     "text": [
      "1/1 [==============================] - 0s 43ms/step\n"
     ]
    },
    {
     "name": "stderr",
     "output_type": "stream",
     "text": [
      "OCR nos crops:  99%|█████████▉| 19914/20029 [1:22:51<00:28,  4.00img/s]"
     ]
    },
    {
     "name": "stdout",
     "output_type": "stream",
     "text": [
      "1/1 [==============================] - 0s 46ms/step\n"
     ]
    },
    {
     "name": "stderr",
     "output_type": "stream",
     "text": [
      "OCR nos crops:  99%|█████████▉| 19915/20029 [1:22:51<00:28,  3.95img/s]"
     ]
    },
    {
     "name": "stdout",
     "output_type": "stream",
     "text": [
      "1/1 [==============================] - 0s 47ms/step\n"
     ]
    },
    {
     "name": "stderr",
     "output_type": "stream",
     "text": [
      "OCR nos crops:  99%|█████████▉| 19916/20029 [1:22:51<00:28,  3.94img/s]"
     ]
    },
    {
     "name": "stdout",
     "output_type": "stream",
     "text": [
      "1/1 [==============================] - 0s 47ms/step\n"
     ]
    },
    {
     "name": "stderr",
     "output_type": "stream",
     "text": [
      "OCR nos crops:  99%|█████████▉| 19917/20029 [1:22:52<00:28,  3.95img/s]"
     ]
    },
    {
     "name": "stdout",
     "output_type": "stream",
     "text": [
      "1/1 [==============================] - 0s 49ms/step\n"
     ]
    },
    {
     "name": "stderr",
     "output_type": "stream",
     "text": [
      "OCR nos crops:  99%|█████████▉| 19918/20029 [1:22:52<00:28,  3.95img/s]"
     ]
    },
    {
     "name": "stdout",
     "output_type": "stream",
     "text": [
      "1/1 [==============================] - 0s 47ms/step\n"
     ]
    },
    {
     "name": "stderr",
     "output_type": "stream",
     "text": [
      "OCR nos crops:  99%|█████████▉| 19919/20029 [1:22:52<00:28,  3.91img/s]"
     ]
    },
    {
     "name": "stdout",
     "output_type": "stream",
     "text": [
      "1/1 [==============================] - 0s 44ms/step\n"
     ]
    },
    {
     "name": "stderr",
     "output_type": "stream",
     "text": [
      "OCR nos crops:  99%|█████████▉| 19920/20029 [1:22:52<00:27,  3.98img/s]"
     ]
    },
    {
     "name": "stdout",
     "output_type": "stream",
     "text": [
      "1/1 [==============================] - 0s 48ms/step\n"
     ]
    },
    {
     "name": "stderr",
     "output_type": "stream",
     "text": [
      "OCR nos crops:  99%|█████████▉| 19921/20029 [1:22:53<00:26,  4.02img/s]"
     ]
    },
    {
     "name": "stdout",
     "output_type": "stream",
     "text": [
      "1/1 [==============================] - 0s 49ms/step\n"
     ]
    },
    {
     "name": "stderr",
     "output_type": "stream",
     "text": [
      "OCR nos crops:  99%|█████████▉| 19922/20029 [1:22:53<00:26,  4.00img/s]"
     ]
    },
    {
     "name": "stdout",
     "output_type": "stream",
     "text": [
      "1/1 [==============================] - 0s 47ms/step\n"
     ]
    },
    {
     "name": "stderr",
     "output_type": "stream",
     "text": [
      "OCR nos crops:  99%|█████████▉| 19923/20029 [1:22:53<00:26,  3.96img/s]"
     ]
    },
    {
     "name": "stdout",
     "output_type": "stream",
     "text": [
      "1/1 [==============================] - 0s 47ms/step\n"
     ]
    },
    {
     "name": "stderr",
     "output_type": "stream",
     "text": [
      "OCR nos crops:  99%|█████████▉| 19924/20029 [1:22:53<00:26,  4.00img/s]"
     ]
    },
    {
     "name": "stdout",
     "output_type": "stream",
     "text": [
      "1/1 [==============================] - 0s 46ms/step\n"
     ]
    },
    {
     "name": "stderr",
     "output_type": "stream",
     "text": [
      "OCR nos crops:  99%|█████████▉| 19925/20029 [1:22:54<00:25,  4.04img/s]"
     ]
    },
    {
     "name": "stdout",
     "output_type": "stream",
     "text": [
      "1/1 [==============================] - 0s 43ms/step\n"
     ]
    },
    {
     "name": "stderr",
     "output_type": "stream",
     "text": [
      "OCR nos crops:  99%|█████████▉| 19926/20029 [1:22:54<00:25,  4.05img/s]"
     ]
    },
    {
     "name": "stdout",
     "output_type": "stream",
     "text": [
      "1/1 [==============================] - 0s 45ms/step\n"
     ]
    },
    {
     "name": "stderr",
     "output_type": "stream",
     "text": [
      "OCR nos crops:  99%|█████████▉| 19927/20029 [1:22:54<00:25,  3.99img/s]"
     ]
    },
    {
     "name": "stdout",
     "output_type": "stream",
     "text": [
      "1/1 [==============================] - 0s 40ms/step\n"
     ]
    },
    {
     "name": "stderr",
     "output_type": "stream",
     "text": [
      "OCR nos crops:  99%|█████████▉| 19928/20029 [1:22:54<00:24,  4.04img/s]"
     ]
    },
    {
     "name": "stdout",
     "output_type": "stream",
     "text": [
      "1/1 [==============================] - 0s 47ms/step\n"
     ]
    },
    {
     "name": "stderr",
     "output_type": "stream",
     "text": [
      "OCR nos crops: 100%|█████████▉| 19929/20029 [1:22:55<00:24,  4.08img/s]"
     ]
    },
    {
     "name": "stdout",
     "output_type": "stream",
     "text": [
      "1/1 [==============================] - 0s 41ms/step\n"
     ]
    },
    {
     "name": "stderr",
     "output_type": "stream",
     "text": [
      "OCR nos crops: 100%|█████████▉| 19930/20029 [1:22:55<00:24,  4.05img/s]"
     ]
    },
    {
     "name": "stdout",
     "output_type": "stream",
     "text": [
      "1/1 [==============================] - 0s 43ms/step\n"
     ]
    },
    {
     "name": "stderr",
     "output_type": "stream",
     "text": [
      "OCR nos crops: 100%|█████████▉| 19931/20029 [1:22:55<00:24,  4.00img/s]"
     ]
    },
    {
     "name": "stdout",
     "output_type": "stream",
     "text": [
      "1/1 [==============================] - 0s 47ms/step\n"
     ]
    },
    {
     "name": "stderr",
     "output_type": "stream",
     "text": [
      "OCR nos crops: 100%|█████████▉| 19932/20029 [1:22:55<00:24,  4.02img/s]"
     ]
    },
    {
     "name": "stdout",
     "output_type": "stream",
     "text": [
      "1/1 [==============================] - 0s 50ms/step\n"
     ]
    },
    {
     "name": "stderr",
     "output_type": "stream",
     "text": [
      "OCR nos crops: 100%|█████████▉| 19933/20029 [1:22:56<00:23,  4.03img/s]"
     ]
    },
    {
     "name": "stdout",
     "output_type": "stream",
     "text": [
      "1/1 [==============================] - 0s 40ms/step\n"
     ]
    },
    {
     "name": "stderr",
     "output_type": "stream",
     "text": [
      "OCR nos crops: 100%|█████████▉| 19934/20029 [1:22:56<00:23,  4.02img/s]"
     ]
    },
    {
     "name": "stdout",
     "output_type": "stream",
     "text": [
      "1/1 [==============================] - 0s 40ms/step\n"
     ]
    },
    {
     "name": "stderr",
     "output_type": "stream",
     "text": [
      "OCR nos crops: 100%|█████████▉| 19935/20029 [1:22:56<00:23,  3.96img/s]"
     ]
    },
    {
     "name": "stdout",
     "output_type": "stream",
     "text": [
      "1/1 [==============================] - 0s 47ms/step\n"
     ]
    },
    {
     "name": "stderr",
     "output_type": "stream",
     "text": [
      "OCR nos crops: 100%|█████████▉| 19936/20029 [1:22:56<00:23,  3.99img/s]"
     ]
    },
    {
     "name": "stdout",
     "output_type": "stream",
     "text": [
      "1/1 [==============================] - 0s 45ms/step\n"
     ]
    },
    {
     "name": "stderr",
     "output_type": "stream",
     "text": [
      "OCR nos crops: 100%|█████████▉| 19937/20029 [1:22:57<00:22,  4.04img/s]"
     ]
    },
    {
     "name": "stdout",
     "output_type": "stream",
     "text": [
      "1/1 [==============================] - 0s 45ms/step\n"
     ]
    },
    {
     "name": "stderr",
     "output_type": "stream",
     "text": [
      "OCR nos crops: 100%|█████████▉| 19938/20029 [1:22:57<00:22,  3.96img/s]"
     ]
    },
    {
     "name": "stdout",
     "output_type": "stream",
     "text": [
      "1/1 [==============================] - 0s 44ms/step\n"
     ]
    },
    {
     "name": "stderr",
     "output_type": "stream",
     "text": [
      "OCR nos crops: 100%|█████████▉| 19939/20029 [1:22:57<00:22,  4.00img/s]"
     ]
    },
    {
     "name": "stdout",
     "output_type": "stream",
     "text": [
      "1/1 [==============================] - 0s 51ms/step\n"
     ]
    },
    {
     "name": "stderr",
     "output_type": "stream",
     "text": [
      "OCR nos crops: 100%|█████████▉| 19940/20029 [1:22:57<00:22,  4.00img/s]"
     ]
    },
    {
     "name": "stdout",
     "output_type": "stream",
     "text": [
      "1/1 [==============================] - 0s 50ms/step\n"
     ]
    },
    {
     "name": "stderr",
     "output_type": "stream",
     "text": [
      "OCR nos crops: 100%|█████████▉| 19941/20029 [1:22:58<00:22,  3.99img/s]"
     ]
    },
    {
     "name": "stdout",
     "output_type": "stream",
     "text": [
      "1/1 [==============================] - 0s 48ms/step\n"
     ]
    },
    {
     "name": "stderr",
     "output_type": "stream",
     "text": [
      "OCR nos crops: 100%|█████████▉| 19942/20029 [1:22:58<00:21,  3.97img/s]"
     ]
    },
    {
     "name": "stdout",
     "output_type": "stream",
     "text": [
      "1/1 [==============================] - 0s 47ms/step\n"
     ]
    },
    {
     "name": "stderr",
     "output_type": "stream",
     "text": [
      "OCR nos crops: 100%|█████████▉| 19943/20029 [1:22:58<00:21,  3.99img/s]"
     ]
    },
    {
     "name": "stdout",
     "output_type": "stream",
     "text": [
      "1/1 [==============================] - 0s 51ms/step\n"
     ]
    },
    {
     "name": "stderr",
     "output_type": "stream",
     "text": [
      "OCR nos crops: 100%|█████████▉| 19944/20029 [1:22:58<00:21,  3.94img/s]"
     ]
    },
    {
     "name": "stdout",
     "output_type": "stream",
     "text": [
      "1/1 [==============================] - 0s 42ms/step\n"
     ]
    },
    {
     "name": "stderr",
     "output_type": "stream",
     "text": [
      "OCR nos crops: 100%|█████████▉| 19945/20029 [1:22:59<00:20,  4.00img/s]"
     ]
    },
    {
     "name": "stdout",
     "output_type": "stream",
     "text": [
      "1/1 [==============================] - 0s 41ms/step\n"
     ]
    },
    {
     "name": "stderr",
     "output_type": "stream",
     "text": [
      "OCR nos crops: 100%|█████████▉| 19946/20029 [1:22:59<00:20,  4.02img/s]"
     ]
    },
    {
     "name": "stdout",
     "output_type": "stream",
     "text": [
      "1/1 [==============================] - 0s 48ms/step\n"
     ]
    },
    {
     "name": "stderr",
     "output_type": "stream",
     "text": [
      "OCR nos crops: 100%|█████████▉| 19947/20029 [1:22:59<00:20,  4.05img/s]"
     ]
    },
    {
     "name": "stdout",
     "output_type": "stream",
     "text": [
      "1/1 [==============================] - 0s 51ms/step\n"
     ]
    },
    {
     "name": "stderr",
     "output_type": "stream",
     "text": [
      "OCR nos crops: 100%|█████████▉| 19948/20029 [1:22:59<00:20,  4.03img/s]"
     ]
    },
    {
     "name": "stdout",
     "output_type": "stream",
     "text": [
      "1/1 [==============================] - 0s 39ms/step\n"
     ]
    },
    {
     "name": "stderr",
     "output_type": "stream",
     "text": [
      "OCR nos crops: 100%|█████████▉| 19949/20029 [1:23:00<00:19,  4.08img/s]"
     ]
    },
    {
     "name": "stdout",
     "output_type": "stream",
     "text": [
      "1/1 [==============================] - 0s 53ms/step\n"
     ]
    },
    {
     "name": "stderr",
     "output_type": "stream",
     "text": [
      "OCR nos crops: 100%|█████████▉| 19950/20029 [1:23:00<00:19,  4.04img/s]"
     ]
    },
    {
     "name": "stdout",
     "output_type": "stream",
     "text": [
      "1/1 [==============================] - 0s 49ms/step\n"
     ]
    },
    {
     "name": "stderr",
     "output_type": "stream",
     "text": [
      "OCR nos crops: 100%|█████████▉| 19951/20029 [1:23:00<00:19,  4.01img/s]"
     ]
    },
    {
     "name": "stdout",
     "output_type": "stream",
     "text": [
      "1/1 [==============================] - 0s 48ms/step\n"
     ]
    },
    {
     "name": "stderr",
     "output_type": "stream",
     "text": [
      "OCR nos crops: 100%|█████████▉| 19952/20029 [1:23:00<00:19,  3.95img/s]"
     ]
    },
    {
     "name": "stdout",
     "output_type": "stream",
     "text": [
      "1/1 [==============================] - 0s 46ms/step\n"
     ]
    },
    {
     "name": "stderr",
     "output_type": "stream",
     "text": [
      "OCR nos crops: 100%|█████████▉| 19953/20029 [1:23:01<00:18,  4.00img/s]"
     ]
    },
    {
     "name": "stdout",
     "output_type": "stream",
     "text": [
      "1/1 [==============================] - 0s 47ms/step\n"
     ]
    },
    {
     "name": "stderr",
     "output_type": "stream",
     "text": [
      "OCR nos crops: 100%|█████████▉| 19954/20029 [1:23:01<00:18,  3.96img/s]"
     ]
    },
    {
     "name": "stdout",
     "output_type": "stream",
     "text": [
      "1/1 [==============================] - 0s 40ms/step\n"
     ]
    },
    {
     "name": "stderr",
     "output_type": "stream",
     "text": [
      "OCR nos crops: 100%|█████████▉| 19955/20029 [1:23:01<00:18,  4.00img/s]"
     ]
    },
    {
     "name": "stdout",
     "output_type": "stream",
     "text": [
      "1/1 [==============================] - 0s 41ms/step\n"
     ]
    },
    {
     "name": "stderr",
     "output_type": "stream",
     "text": [
      "OCR nos crops: 100%|█████████▉| 19956/20029 [1:23:01<00:18,  3.98img/s]"
     ]
    },
    {
     "name": "stdout",
     "output_type": "stream",
     "text": [
      "1/1 [==============================] - 0s 40ms/step\n"
     ]
    },
    {
     "name": "stderr",
     "output_type": "stream",
     "text": [
      "OCR nos crops: 100%|█████████▉| 19957/20029 [1:23:02<00:17,  4.05img/s]"
     ]
    },
    {
     "name": "stdout",
     "output_type": "stream",
     "text": [
      "1/1 [==============================] - 0s 50ms/step\n"
     ]
    },
    {
     "name": "stderr",
     "output_type": "stream",
     "text": [
      "OCR nos crops: 100%|█████████▉| 19958/20029 [1:23:02<00:17,  4.04img/s]"
     ]
    },
    {
     "name": "stdout",
     "output_type": "stream",
     "text": [
      "1/1 [==============================] - 0s 47ms/step\n"
     ]
    },
    {
     "name": "stderr",
     "output_type": "stream",
     "text": [
      "OCR nos crops: 100%|█████████▉| 19959/20029 [1:23:02<00:17,  4.03img/s]"
     ]
    },
    {
     "name": "stdout",
     "output_type": "stream",
     "text": [
      "1/1 [==============================] - 0s 40ms/step\n"
     ]
    },
    {
     "name": "stderr",
     "output_type": "stream",
     "text": [
      "OCR nos crops: 100%|█████████▉| 19960/20029 [1:23:02<00:17,  4.01img/s]"
     ]
    },
    {
     "name": "stdout",
     "output_type": "stream",
     "text": [
      "1/1 [==============================] - 0s 50ms/step\n"
     ]
    },
    {
     "name": "stderr",
     "output_type": "stream",
     "text": [
      "OCR nos crops: 100%|█████████▉| 19961/20029 [1:23:03<00:17,  4.00img/s]"
     ]
    },
    {
     "name": "stdout",
     "output_type": "stream",
     "text": [
      "1/1 [==============================] - 0s 46ms/step\n"
     ]
    },
    {
     "name": "stderr",
     "output_type": "stream",
     "text": [
      "OCR nos crops: 100%|█████████▉| 19962/20029 [1:23:03<00:16,  3.95img/s]"
     ]
    },
    {
     "name": "stdout",
     "output_type": "stream",
     "text": [
      "1/1 [==============================] - 0s 41ms/step\n"
     ]
    },
    {
     "name": "stderr",
     "output_type": "stream",
     "text": [
      "OCR nos crops: 100%|█████████▉| 19963/20029 [1:23:03<00:16,  4.01img/s]"
     ]
    },
    {
     "name": "stdout",
     "output_type": "stream",
     "text": [
      "1/1 [==============================] - 0s 47ms/step\n"
     ]
    },
    {
     "name": "stderr",
     "output_type": "stream",
     "text": [
      "OCR nos crops: 100%|█████████▉| 19964/20029 [1:23:03<00:16,  3.97img/s]"
     ]
    },
    {
     "name": "stdout",
     "output_type": "stream",
     "text": [
      "1/1 [==============================] - 0s 45ms/step\n"
     ]
    },
    {
     "name": "stderr",
     "output_type": "stream",
     "text": [
      "OCR nos crops: 100%|█████████▉| 19965/20029 [1:23:04<00:16,  4.00img/s]"
     ]
    },
    {
     "name": "stdout",
     "output_type": "stream",
     "text": [
      "1/1 [==============================] - 0s 46ms/step\n"
     ]
    },
    {
     "name": "stderr",
     "output_type": "stream",
     "text": [
      "OCR nos crops: 100%|█████████▉| 19966/20029 [1:23:04<00:15,  3.99img/s]"
     ]
    },
    {
     "name": "stdout",
     "output_type": "stream",
     "text": [
      "1/1 [==============================] - 0s 49ms/step\n"
     ]
    },
    {
     "name": "stderr",
     "output_type": "stream",
     "text": [
      "OCR nos crops: 100%|█████████▉| 19967/20029 [1:23:04<00:15,  4.01img/s]"
     ]
    },
    {
     "name": "stdout",
     "output_type": "stream",
     "text": [
      "1/1 [==============================] - 0s 45ms/step\n"
     ]
    },
    {
     "name": "stderr",
     "output_type": "stream",
     "text": [
      "OCR nos crops: 100%|█████████▉| 19968/20029 [1:23:04<00:15,  4.00img/s]"
     ]
    },
    {
     "name": "stdout",
     "output_type": "stream",
     "text": [
      "1/1 [==============================] - 0s 46ms/step\n"
     ]
    },
    {
     "name": "stderr",
     "output_type": "stream",
     "text": [
      "OCR nos crops: 100%|█████████▉| 19969/20029 [1:23:05<00:14,  4.03img/s]"
     ]
    },
    {
     "name": "stdout",
     "output_type": "stream",
     "text": [
      "1/1 [==============================] - 0s 51ms/step\n"
     ]
    },
    {
     "name": "stderr",
     "output_type": "stream",
     "text": [
      "OCR nos crops: 100%|█████████▉| 19970/20029 [1:23:05<00:14,  4.00img/s]"
     ]
    },
    {
     "name": "stdout",
     "output_type": "stream",
     "text": [
      "1/1 [==============================] - 0s 47ms/step\n"
     ]
    },
    {
     "name": "stderr",
     "output_type": "stream",
     "text": [
      "OCR nos crops: 100%|█████████▉| 19971/20029 [1:23:05<00:14,  4.02img/s]"
     ]
    },
    {
     "name": "stdout",
     "output_type": "stream",
     "text": [
      "1/1 [==============================] - 0s 47ms/step\n"
     ]
    },
    {
     "name": "stderr",
     "output_type": "stream",
     "text": [
      "OCR nos crops: 100%|█████████▉| 19972/20029 [1:23:05<00:14,  3.95img/s]"
     ]
    },
    {
     "name": "stdout",
     "output_type": "stream",
     "text": [
      "1/1 [==============================] - 0s 46ms/step\n"
     ]
    },
    {
     "name": "stderr",
     "output_type": "stream",
     "text": [
      "OCR nos crops: 100%|█████████▉| 19973/20029 [1:23:06<00:14,  3.99img/s]"
     ]
    },
    {
     "name": "stdout",
     "output_type": "stream",
     "text": [
      "1/1 [==============================] - 0s 48ms/step\n"
     ]
    },
    {
     "name": "stderr",
     "output_type": "stream",
     "text": [
      "OCR nos crops: 100%|█████████▉| 19974/20029 [1:23:06<00:13,  4.02img/s]"
     ]
    },
    {
     "name": "stdout",
     "output_type": "stream",
     "text": [
      "1/1 [==============================] - 0s 45ms/step\n"
     ]
    },
    {
     "name": "stderr",
     "output_type": "stream",
     "text": [
      "OCR nos crops: 100%|█████████▉| 19975/20029 [1:23:06<00:13,  4.03img/s]"
     ]
    },
    {
     "name": "stdout",
     "output_type": "stream",
     "text": [
      "1/1 [==============================] - 0s 37ms/step\n"
     ]
    },
    {
     "name": "stderr",
     "output_type": "stream",
     "text": [
      "OCR nos crops: 100%|█████████▉| 19976/20029 [1:23:06<00:13,  4.00img/s]"
     ]
    },
    {
     "name": "stdout",
     "output_type": "stream",
     "text": [
      "1/1 [==============================] - 0s 51ms/step\n"
     ]
    },
    {
     "name": "stderr",
     "output_type": "stream",
     "text": [
      "OCR nos crops: 100%|█████████▉| 19977/20029 [1:23:07<00:13,  3.98img/s]"
     ]
    },
    {
     "name": "stdout",
     "output_type": "stream",
     "text": [
      "1/1 [==============================] - 0s 45ms/step\n"
     ]
    },
    {
     "name": "stderr",
     "output_type": "stream",
     "text": [
      "OCR nos crops: 100%|█████████▉| 19978/20029 [1:23:07<00:12,  3.98img/s]"
     ]
    },
    {
     "name": "stdout",
     "output_type": "stream",
     "text": [
      "1/1 [==============================] - 0s 44ms/step\n"
     ]
    },
    {
     "name": "stderr",
     "output_type": "stream",
     "text": [
      "OCR nos crops: 100%|█████████▉| 19979/20029 [1:23:07<00:12,  4.00img/s]"
     ]
    },
    {
     "name": "stdout",
     "output_type": "stream",
     "text": [
      "1/1 [==============================] - 0s 47ms/step\n"
     ]
    },
    {
     "name": "stderr",
     "output_type": "stream",
     "text": [
      "OCR nos crops: 100%|█████████▉| 19980/20029 [1:23:07<00:12,  3.94img/s]"
     ]
    },
    {
     "name": "stdout",
     "output_type": "stream",
     "text": [
      "1/1 [==============================] - 0s 42ms/step\n"
     ]
    },
    {
     "name": "stderr",
     "output_type": "stream",
     "text": [
      "OCR nos crops: 100%|█████████▉| 19981/20029 [1:23:08<00:11,  4.02img/s]"
     ]
    },
    {
     "name": "stdout",
     "output_type": "stream",
     "text": [
      "1/1 [==============================] - 0s 47ms/step\n"
     ]
    },
    {
     "name": "stderr",
     "output_type": "stream",
     "text": [
      "OCR nos crops: 100%|█████████▉| 19982/20029 [1:23:08<00:11,  4.02img/s]"
     ]
    },
    {
     "name": "stdout",
     "output_type": "stream",
     "text": [
      "1/1 [==============================] - 0s 42ms/step\n"
     ]
    },
    {
     "name": "stderr",
     "output_type": "stream",
     "text": [
      "OCR nos crops: 100%|█████████▉| 19983/20029 [1:23:08<00:11,  4.06img/s]"
     ]
    },
    {
     "name": "stdout",
     "output_type": "stream",
     "text": [
      "1/1 [==============================] - 0s 43ms/step\n"
     ]
    },
    {
     "name": "stderr",
     "output_type": "stream",
     "text": [
      "OCR nos crops: 100%|█████████▉| 19984/20029 [1:23:08<00:11,  4.01img/s]"
     ]
    },
    {
     "name": "stdout",
     "output_type": "stream",
     "text": [
      "1/1 [==============================] - 0s 43ms/step\n"
     ]
    },
    {
     "name": "stderr",
     "output_type": "stream",
     "text": [
      "OCR nos crops: 100%|█████████▉| 19985/20029 [1:23:09<00:10,  4.02img/s]"
     ]
    },
    {
     "name": "stdout",
     "output_type": "stream",
     "text": [
      "1/1 [==============================] - 0s 47ms/step\n"
     ]
    },
    {
     "name": "stderr",
     "output_type": "stream",
     "text": [
      "OCR nos crops: 100%|█████████▉| 19986/20029 [1:23:09<00:10,  4.04img/s]"
     ]
    },
    {
     "name": "stdout",
     "output_type": "stream",
     "text": [
      "1/1 [==============================] - 0s 44ms/step\n"
     ]
    },
    {
     "name": "stderr",
     "output_type": "stream",
     "text": [
      "OCR nos crops: 100%|█████████▉| 19987/20029 [1:23:09<00:10,  4.05img/s]"
     ]
    },
    {
     "name": "stdout",
     "output_type": "stream",
     "text": [
      "1/1 [==============================] - 0s 39ms/step\n"
     ]
    },
    {
     "name": "stderr",
     "output_type": "stream",
     "text": [
      "OCR nos crops: 100%|█████████▉| 19988/20029 [1:23:09<00:10,  4.05img/s]"
     ]
    },
    {
     "name": "stdout",
     "output_type": "stream",
     "text": [
      "1/1 [==============================] - 0s 40ms/step\n"
     ]
    },
    {
     "name": "stderr",
     "output_type": "stream",
     "text": [
      "OCR nos crops: 100%|█████████▉| 19989/20029 [1:23:10<00:09,  4.10img/s]"
     ]
    },
    {
     "name": "stdout",
     "output_type": "stream",
     "text": [
      "1/1 [==============================] - 0s 36ms/step\n"
     ]
    },
    {
     "name": "stderr",
     "output_type": "stream",
     "text": [
      "OCR nos crops: 100%|█████████▉| 19990/20029 [1:23:10<00:09,  4.12img/s]"
     ]
    },
    {
     "name": "stdout",
     "output_type": "stream",
     "text": [
      "1/1 [==============================] - 0s 50ms/step\n"
     ]
    },
    {
     "name": "stderr",
     "output_type": "stream",
     "text": [
      "OCR nos crops: 100%|█████████▉| 19991/20029 [1:23:10<00:09,  4.13img/s]"
     ]
    },
    {
     "name": "stdout",
     "output_type": "stream",
     "text": [
      "1/1 [==============================] - 0s 38ms/step\n"
     ]
    },
    {
     "name": "stderr",
     "output_type": "stream",
     "text": [
      "OCR nos crops: 100%|█████████▉| 19992/20029 [1:23:10<00:08,  4.16img/s]"
     ]
    },
    {
     "name": "stdout",
     "output_type": "stream",
     "text": [
      "1/1 [==============================] - 0s 41ms/step\n"
     ]
    },
    {
     "name": "stderr",
     "output_type": "stream",
     "text": [
      "OCR nos crops: 100%|█████████▉| 19993/20029 [1:23:11<00:08,  4.14img/s]"
     ]
    },
    {
     "name": "stdout",
     "output_type": "stream",
     "text": [
      "1/1 [==============================] - 0s 46ms/step\n"
     ]
    },
    {
     "name": "stderr",
     "output_type": "stream",
     "text": [
      "OCR nos crops: 100%|█████████▉| 19994/20029 [1:23:11<00:08,  4.13img/s]"
     ]
    },
    {
     "name": "stdout",
     "output_type": "stream",
     "text": [
      "1/1 [==============================] - 0s 36ms/step\n"
     ]
    },
    {
     "name": "stderr",
     "output_type": "stream",
     "text": [
      "OCR nos crops: 100%|█████████▉| 19995/20029 [1:23:11<00:08,  4.16img/s]"
     ]
    },
    {
     "name": "stdout",
     "output_type": "stream",
     "text": [
      "1/1 [==============================] - 0s 44ms/step\n"
     ]
    },
    {
     "name": "stderr",
     "output_type": "stream",
     "text": [
      "OCR nos crops: 100%|█████████▉| 19996/20029 [1:23:11<00:08,  4.12img/s]"
     ]
    },
    {
     "name": "stdout",
     "output_type": "stream",
     "text": [
      "1/1 [==============================] - 0s 45ms/step\n"
     ]
    },
    {
     "name": "stderr",
     "output_type": "stream",
     "text": [
      "OCR nos crops: 100%|█████████▉| 19997/20029 [1:23:12<00:07,  4.04img/s]"
     ]
    },
    {
     "name": "stdout",
     "output_type": "stream",
     "text": [
      "1/1 [==============================] - 0s 35ms/step\n"
     ]
    },
    {
     "name": "stderr",
     "output_type": "stream",
     "text": [
      "OCR nos crops: 100%|█████████▉| 19998/20029 [1:23:12<00:07,  4.11img/s]"
     ]
    },
    {
     "name": "stdout",
     "output_type": "stream",
     "text": [
      "1/1 [==============================] - 0s 42ms/step\n"
     ]
    },
    {
     "name": "stderr",
     "output_type": "stream",
     "text": [
      "OCR nos crops: 100%|█████████▉| 19999/20029 [1:23:12<00:07,  4.14img/s]"
     ]
    },
    {
     "name": "stdout",
     "output_type": "stream",
     "text": [
      "1/1 [==============================] - 0s 46ms/step\n"
     ]
    },
    {
     "name": "stderr",
     "output_type": "stream",
     "text": [
      "OCR nos crops: 100%|█████████▉| 20000/20029 [1:23:12<00:07,  4.14img/s]"
     ]
    },
    {
     "name": "stdout",
     "output_type": "stream",
     "text": [
      "1/1 [==============================] - 0s 49ms/step\n"
     ]
    },
    {
     "name": "stderr",
     "output_type": "stream",
     "text": [
      "OCR nos crops: 100%|█████████▉| 20001/20029 [1:23:13<00:06,  4.01img/s]"
     ]
    },
    {
     "name": "stdout",
     "output_type": "stream",
     "text": [
      "1/1 [==============================] - 0s 44ms/step\n"
     ]
    },
    {
     "name": "stderr",
     "output_type": "stream",
     "text": [
      "OCR nos crops: 100%|█████████▉| 20002/20029 [1:23:13<00:06,  4.03img/s]"
     ]
    },
    {
     "name": "stdout",
     "output_type": "stream",
     "text": [
      "1/1 [==============================] - 0s 45ms/step\n"
     ]
    },
    {
     "name": "stderr",
     "output_type": "stream",
     "text": [
      "OCR nos crops: 100%|█████████▉| 20003/20029 [1:23:13<00:06,  4.04img/s]"
     ]
    },
    {
     "name": "stdout",
     "output_type": "stream",
     "text": [
      "1/1 [==============================] - 0s 37ms/step\n"
     ]
    },
    {
     "name": "stderr",
     "output_type": "stream",
     "text": [
      "OCR nos crops: 100%|█████████▉| 20004/20029 [1:23:13<00:06,  4.11img/s]"
     ]
    },
    {
     "name": "stdout",
     "output_type": "stream",
     "text": [
      "1/1 [==============================] - 0s 46ms/step\n"
     ]
    },
    {
     "name": "stderr",
     "output_type": "stream",
     "text": [
      "OCR nos crops: 100%|█████████▉| 20005/20029 [1:23:14<00:05,  4.05img/s]"
     ]
    },
    {
     "name": "stdout",
     "output_type": "stream",
     "text": [
      "1/1 [==============================] - 0s 48ms/step\n"
     ]
    },
    {
     "name": "stderr",
     "output_type": "stream",
     "text": [
      "OCR nos crops: 100%|█████████▉| 20006/20029 [1:23:14<00:05,  4.07img/s]"
     ]
    },
    {
     "name": "stdout",
     "output_type": "stream",
     "text": [
      "1/1 [==============================] - 0s 48ms/step\n"
     ]
    },
    {
     "name": "stderr",
     "output_type": "stream",
     "text": [
      "OCR nos crops: 100%|█████████▉| 20007/20029 [1:23:14<00:05,  4.07img/s]"
     ]
    },
    {
     "name": "stdout",
     "output_type": "stream",
     "text": [
      "1/1 [==============================] - 0s 45ms/step\n"
     ]
    },
    {
     "name": "stderr",
     "output_type": "stream",
     "text": [
      "OCR nos crops: 100%|█████████▉| 20008/20029 [1:23:14<00:05,  4.08img/s]"
     ]
    },
    {
     "name": "stdout",
     "output_type": "stream",
     "text": [
      "1/1 [==============================] - 0s 43ms/step\n"
     ]
    },
    {
     "name": "stderr",
     "output_type": "stream",
     "text": [
      "OCR nos crops: 100%|█████████▉| 20009/20029 [1:23:15<00:04,  4.08img/s]"
     ]
    },
    {
     "name": "stdout",
     "output_type": "stream",
     "text": [
      "1/1 [==============================] - 0s 44ms/step\n"
     ]
    },
    {
     "name": "stderr",
     "output_type": "stream",
     "text": [
      "OCR nos crops: 100%|█████████▉| 20010/20029 [1:23:15<00:04,  4.14img/s]"
     ]
    },
    {
     "name": "stdout",
     "output_type": "stream",
     "text": [
      "1/1 [==============================] - 0s 40ms/step\n"
     ]
    },
    {
     "name": "stderr",
     "output_type": "stream",
     "text": [
      "OCR nos crops: 100%|█████████▉| 20011/20029 [1:23:15<00:04,  4.15img/s]"
     ]
    },
    {
     "name": "stdout",
     "output_type": "stream",
     "text": [
      "1/1 [==============================] - 0s 45ms/step\n"
     ]
    },
    {
     "name": "stderr",
     "output_type": "stream",
     "text": [
      "OCR nos crops: 100%|█████████▉| 20012/20029 [1:23:15<00:04,  4.18img/s]"
     ]
    },
    {
     "name": "stdout",
     "output_type": "stream",
     "text": [
      "1/1 [==============================] - 0s 49ms/step\n"
     ]
    },
    {
     "name": "stderr",
     "output_type": "stream",
     "text": [
      "OCR nos crops: 100%|█████████▉| 20013/20029 [1:23:16<00:03,  4.08img/s]"
     ]
    },
    {
     "name": "stdout",
     "output_type": "stream",
     "text": [
      "1/1 [==============================] - 0s 47ms/step\n"
     ]
    },
    {
     "name": "stderr",
     "output_type": "stream",
     "text": [
      "OCR nos crops: 100%|█████████▉| 20014/20029 [1:23:16<00:03,  4.06img/s]"
     ]
    },
    {
     "name": "stdout",
     "output_type": "stream",
     "text": [
      "1/1 [==============================] - 0s 53ms/step\n"
     ]
    },
    {
     "name": "stderr",
     "output_type": "stream",
     "text": [
      "OCR nos crops: 100%|█████████▉| 20015/20029 [1:23:16<00:03,  4.01img/s]"
     ]
    },
    {
     "name": "stdout",
     "output_type": "stream",
     "text": [
      "1/1 [==============================] - 0s 46ms/step\n"
     ]
    },
    {
     "name": "stderr",
     "output_type": "stream",
     "text": [
      "OCR nos crops: 100%|█████████▉| 20016/20029 [1:23:16<00:03,  4.01img/s]"
     ]
    },
    {
     "name": "stdout",
     "output_type": "stream",
     "text": [
      "1/1 [==============================] - 0s 47ms/step\n"
     ]
    },
    {
     "name": "stderr",
     "output_type": "stream",
     "text": [
      "OCR nos crops: 100%|█████████▉| 20017/20029 [1:23:17<00:03,  3.98img/s]"
     ]
    },
    {
     "name": "stdout",
     "output_type": "stream",
     "text": [
      "1/1 [==============================] - 0s 44ms/step\n"
     ]
    },
    {
     "name": "stderr",
     "output_type": "stream",
     "text": [
      "OCR nos crops: 100%|█████████▉| 20018/20029 [1:23:17<00:02,  4.00img/s]"
     ]
    },
    {
     "name": "stdout",
     "output_type": "stream",
     "text": [
      "1/1 [==============================] - 0s 47ms/step\n"
     ]
    },
    {
     "name": "stderr",
     "output_type": "stream",
     "text": [
      "OCR nos crops: 100%|█████████▉| 20019/20029 [1:23:17<00:02,  4.01img/s]"
     ]
    },
    {
     "name": "stdout",
     "output_type": "stream",
     "text": [
      "1/1 [==============================] - 0s 47ms/step\n"
     ]
    },
    {
     "name": "stderr",
     "output_type": "stream",
     "text": [
      "OCR nos crops: 100%|█████████▉| 20020/20029 [1:23:17<00:02,  4.01img/s]"
     ]
    },
    {
     "name": "stdout",
     "output_type": "stream",
     "text": [
      "1/1 [==============================] - 0s 47ms/step\n"
     ]
    },
    {
     "name": "stderr",
     "output_type": "stream",
     "text": [
      "OCR nos crops: 100%|█████████▉| 20021/20029 [1:23:18<00:02,  3.97img/s]"
     ]
    },
    {
     "name": "stdout",
     "output_type": "stream",
     "text": [
      "1/1 [==============================] - 0s 46ms/step\n"
     ]
    },
    {
     "name": "stderr",
     "output_type": "stream",
     "text": [
      "OCR nos crops: 100%|█████████▉| 20022/20029 [1:23:18<00:01,  4.02img/s]"
     ]
    },
    {
     "name": "stdout",
     "output_type": "stream",
     "text": [
      "1/1 [==============================] - 0s 47ms/step\n"
     ]
    },
    {
     "name": "stderr",
     "output_type": "stream",
     "text": [
      "OCR nos crops: 100%|█████████▉| 20023/20029 [1:23:18<00:01,  4.02img/s]"
     ]
    },
    {
     "name": "stdout",
     "output_type": "stream",
     "text": [
      "1/1 [==============================] - 0s 49ms/step\n"
     ]
    },
    {
     "name": "stderr",
     "output_type": "stream",
     "text": [
      "OCR nos crops: 100%|█████████▉| 20024/20029 [1:23:18<00:01,  4.02img/s]"
     ]
    },
    {
     "name": "stdout",
     "output_type": "stream",
     "text": [
      "1/1 [==============================] - 0s 47ms/step\n"
     ]
    },
    {
     "name": "stderr",
     "output_type": "stream",
     "text": [
      "OCR nos crops: 100%|█████████▉| 20025/20029 [1:23:19<00:01,  3.94img/s]"
     ]
    },
    {
     "name": "stdout",
     "output_type": "stream",
     "text": [
      "1/1 [==============================] - 0s 41ms/step\n"
     ]
    },
    {
     "name": "stderr",
     "output_type": "stream",
     "text": [
      "OCR nos crops: 100%|█████████▉| 20026/20029 [1:23:19<00:00,  4.01img/s]"
     ]
    },
    {
     "name": "stdout",
     "output_type": "stream",
     "text": [
      "1/1 [==============================] - 0s 47ms/step\n"
     ]
    },
    {
     "name": "stderr",
     "output_type": "stream",
     "text": [
      "OCR nos crops: 100%|█████████▉| 20027/20029 [1:23:19<00:00,  4.03img/s]"
     ]
    },
    {
     "name": "stdout",
     "output_type": "stream",
     "text": [
      "1/1 [==============================] - 0s 53ms/step\n"
     ]
    },
    {
     "name": "stderr",
     "output_type": "stream",
     "text": [
      "OCR nos crops: 100%|█████████▉| 20028/20029 [1:23:19<00:00,  4.00img/s]"
     ]
    },
    {
     "name": "stdout",
     "output_type": "stream",
     "text": [
      "1/1 [==============================] - 0s 45ms/step\n"
     ]
    },
    {
     "name": "stderr",
     "output_type": "stream",
     "text": [
      "OCR nos crops: 100%|██████████| 20029/20029 [1:23:20<00:00,  4.01img/s]\n"
     ]
    }
   ],
   "source": [
    "# === 2. OCR nos crops ===\n",
    "df_results = run_ocr_on_crops(df_crops, recognizer)"
   ]
  },
  {
   "cell_type": "code",
   "execution_count": 12,
   "metadata": {},
   "outputs": [
    {
     "data": {
      "text/html": [
       "<div>\n",
       "<style scoped>\n",
       "    .dataframe tbody tr th:only-of-type {\n",
       "        vertical-align: middle;\n",
       "    }\n",
       "\n",
       "    .dataframe tbody tr th {\n",
       "        vertical-align: top;\n",
       "    }\n",
       "\n",
       "    .dataframe thead th {\n",
       "        text-align: right;\n",
       "    }\n",
       "</style>\n",
       "<table border=\"1\" class=\"dataframe\">\n",
       "  <thead>\n",
       "    <tr style=\"text-align: right;\">\n",
       "      <th></th>\n",
       "      <th>osmId_formatado</th>\n",
       "      <th>classe</th>\n",
       "      <th>tag_value</th>\n",
       "      <th>image_id</th>\n",
       "      <th>words_sli</th>\n",
       "      <th>texto_sli</th>\n",
       "      <th>path_crop</th>\n",
       "    </tr>\n",
       "  </thead>\n",
       "  <tbody>\n",
       "    <tr>\n",
       "      <th>0</th>\n",
       "      <td>relation_8013500</td>\n",
       "      <td>cbge_area_verde</td>\n",
       "      <td>leisure_park</td>\n",
       "      <td>384344719496346</td>\n",
       "      <td>[]</td>\n",
       "      <td></td>\n",
       "      <td>c:\\DEV\\PhD_Thesis_Step3_OSM_Toponyms\\results\\6...</td>\n",
       "    </tr>\n",
       "    <tr>\n",
       "      <th>1</th>\n",
       "      <td>relation_8013500</td>\n",
       "      <td>cbge_area_verde</td>\n",
       "      <td>leisure_park</td>\n",
       "      <td>801899957379381</td>\n",
       "      <td>a</td>\n",
       "      <td>a</td>\n",
       "      <td>c:\\DEV\\PhD_Thesis_Step3_OSM_Toponyms\\results\\6...</td>\n",
       "    </tr>\n",
       "    <tr>\n",
       "      <th>2</th>\n",
       "      <td>way_100290466</td>\n",
       "      <td>cbge_area_verde</td>\n",
       "      <td>leisure_park</td>\n",
       "      <td>520526909141952</td>\n",
       "      <td>le</td>\n",
       "      <td>l e</td>\n",
       "      <td>c:\\DEV\\PhD_Thesis_Step3_OSM_Toponyms\\results\\6...</td>\n",
       "    </tr>\n",
       "    <tr>\n",
       "      <th>3</th>\n",
       "      <td>way_1026854836</td>\n",
       "      <td>cbge_area_verde</td>\n",
       "      <td>leisure_park</td>\n",
       "      <td>149091137259541</td>\n",
       "      <td>ies</td>\n",
       "      <td>i e s</td>\n",
       "      <td>c:\\DEV\\PhD_Thesis_Step3_OSM_Toponyms\\results\\6...</td>\n",
       "    </tr>\n",
       "    <tr>\n",
       "      <th>4</th>\n",
       "      <td>way_1026854836</td>\n",
       "      <td>cbge_area_verde</td>\n",
       "      <td>leisure_park</td>\n",
       "      <td>1605443426327906</td>\n",
       "      <td>baa</td>\n",
       "      <td>b a a</td>\n",
       "      <td>c:\\DEV\\PhD_Thesis_Step3_OSM_Toponyms\\results\\6...</td>\n",
       "    </tr>\n",
       "    <tr>\n",
       "      <th>...</th>\n",
       "      <td>...</td>\n",
       "      <td>...</td>\n",
       "      <td>...</td>\n",
       "      <td>...</td>\n",
       "      <td>...</td>\n",
       "      <td>...</td>\n",
       "      <td>...</td>\n",
       "    </tr>\n",
       "    <tr>\n",
       "      <th>20024</th>\n",
       "      <td>node_5363657442</td>\n",
       "      <td>edif_turistica</td>\n",
       "      <td>tourism_viewpoint</td>\n",
       "      <td>953465825485344</td>\n",
       "      <td>niee</td>\n",
       "      <td>n i e e</td>\n",
       "      <td>c:\\DEV\\PhD_Thesis_Step3_OSM_Toponyms\\results\\6...</td>\n",
       "    </tr>\n",
       "    <tr>\n",
       "      <th>20025</th>\n",
       "      <td>node_5363657452</td>\n",
       "      <td>edif_turistica</td>\n",
       "      <td>tourism_viewpoint</td>\n",
       "      <td>1143601826125378</td>\n",
       "      <td>se</td>\n",
       "      <td>s e</td>\n",
       "      <td>c:\\DEV\\PhD_Thesis_Step3_OSM_Toponyms\\results\\6...</td>\n",
       "    </tr>\n",
       "    <tr>\n",
       "      <th>20026</th>\n",
       "      <td>node_5363657452</td>\n",
       "      <td>edif_turistica</td>\n",
       "      <td>tourism_viewpoint</td>\n",
       "      <td>1183758152100706</td>\n",
       "      <td>des</td>\n",
       "      <td>d e s</td>\n",
       "      <td>c:\\DEV\\PhD_Thesis_Step3_OSM_Toponyms\\results\\6...</td>\n",
       "    </tr>\n",
       "    <tr>\n",
       "      <th>20027</th>\n",
       "      <td>node_5363657452</td>\n",
       "      <td>edif_turistica</td>\n",
       "      <td>tourism_viewpoint</td>\n",
       "      <td>223260119237378</td>\n",
       "      <td>is</td>\n",
       "      <td>i s</td>\n",
       "      <td>c:\\DEV\\PhD_Thesis_Step3_OSM_Toponyms\\results\\6...</td>\n",
       "    </tr>\n",
       "    <tr>\n",
       "      <th>20028</th>\n",
       "      <td>node_5363657452</td>\n",
       "      <td>edif_turistica</td>\n",
       "      <td>tourism_viewpoint</td>\n",
       "      <td>389831545904464</td>\n",
       "      <td>ka</td>\n",
       "      <td>k a</td>\n",
       "      <td>c:\\DEV\\PhD_Thesis_Step3_OSM_Toponyms\\results\\6...</td>\n",
       "    </tr>\n",
       "  </tbody>\n",
       "</table>\n",
       "<p>20029 rows × 7 columns</p>\n",
       "</div>"
      ],
      "text/plain": [
       "        osmId_formatado           classe          tag_value          image_id  \\\n",
       "0      relation_8013500  cbge_area_verde       leisure_park   384344719496346   \n",
       "1      relation_8013500  cbge_area_verde       leisure_park   801899957379381   \n",
       "2         way_100290466  cbge_area_verde       leisure_park   520526909141952   \n",
       "3        way_1026854836  cbge_area_verde       leisure_park   149091137259541   \n",
       "4        way_1026854836  cbge_area_verde       leisure_park  1605443426327906   \n",
       "...                 ...              ...                ...               ...   \n",
       "20024   node_5363657442   edif_turistica  tourism_viewpoint   953465825485344   \n",
       "20025   node_5363657452   edif_turistica  tourism_viewpoint  1143601826125378   \n",
       "20026   node_5363657452   edif_turistica  tourism_viewpoint  1183758152100706   \n",
       "20027   node_5363657452   edif_turistica  tourism_viewpoint   223260119237378   \n",
       "20028   node_5363657452   edif_turistica  tourism_viewpoint   389831545904464   \n",
       "\n",
       "      words_sli texto_sli                                          path_crop  \n",
       "0            []            c:\\DEV\\PhD_Thesis_Step3_OSM_Toponyms\\results\\6...  \n",
       "1             a         a  c:\\DEV\\PhD_Thesis_Step3_OSM_Toponyms\\results\\6...  \n",
       "2            le       l e  c:\\DEV\\PhD_Thesis_Step3_OSM_Toponyms\\results\\6...  \n",
       "3           ies     i e s  c:\\DEV\\PhD_Thesis_Step3_OSM_Toponyms\\results\\6...  \n",
       "4           baa     b a a  c:\\DEV\\PhD_Thesis_Step3_OSM_Toponyms\\results\\6...  \n",
       "...         ...       ...                                                ...  \n",
       "20024      niee   n i e e  c:\\DEV\\PhD_Thesis_Step3_OSM_Toponyms\\results\\6...  \n",
       "20025        se       s e  c:\\DEV\\PhD_Thesis_Step3_OSM_Toponyms\\results\\6...  \n",
       "20026       des     d e s  c:\\DEV\\PhD_Thesis_Step3_OSM_Toponyms\\results\\6...  \n",
       "20027        is       i s  c:\\DEV\\PhD_Thesis_Step3_OSM_Toponyms\\results\\6...  \n",
       "20028        ka       k a  c:\\DEV\\PhD_Thesis_Step3_OSM_Toponyms\\results\\6...  \n",
       "\n",
       "[20029 rows x 7 columns]"
      ]
     },
     "metadata": {},
     "output_type": "display_data"
    }
   ],
   "source": [
    "# Visualizar\n",
    "display(df_results)"
   ]
  },
  {
   "cell_type": "code",
   "execution_count": 13,
   "metadata": {},
   "outputs": [],
   "source": [
    "# Salvar\n",
    "df_results.to_csv(os.path.join(output_dir,\"mlp_ocr_results.csv\"), index=False)"
   ]
  },
  {
   "cell_type": "markdown",
   "metadata": {},
   "source": [
    "#### Retriving and associate df_results to mapillary points (clip_vitL14_mpl_matches)"
   ]
  },
  {
   "cell_type": "code",
   "execution_count": 8,
   "metadata": {},
   "outputs": [
    {
     "name": "stdout",
     "output_type": "stream",
     "text": [
      "(20029, 7)\n"
     ]
    },
    {
     "data": {
      "text/html": [
       "<div>\n",
       "<style scoped>\n",
       "    .dataframe tbody tr th:only-of-type {\n",
       "        vertical-align: middle;\n",
       "    }\n",
       "\n",
       "    .dataframe tbody tr th {\n",
       "        vertical-align: top;\n",
       "    }\n",
       "\n",
       "    .dataframe thead th {\n",
       "        text-align: right;\n",
       "    }\n",
       "</style>\n",
       "<table border=\"1\" class=\"dataframe\">\n",
       "  <thead>\n",
       "    <tr style=\"text-align: right;\">\n",
       "      <th></th>\n",
       "      <th>osmId_formatado</th>\n",
       "      <th>classe</th>\n",
       "      <th>tag_value</th>\n",
       "      <th>image_id</th>\n",
       "      <th>words_sli</th>\n",
       "      <th>texto_sli</th>\n",
       "      <th>path_crop</th>\n",
       "    </tr>\n",
       "  </thead>\n",
       "  <tbody>\n",
       "    <tr>\n",
       "      <th>0</th>\n",
       "      <td>relation_8013500</td>\n",
       "      <td>cbge_area_verde</td>\n",
       "      <td>leisure_park</td>\n",
       "      <td>384344719496346</td>\n",
       "      <td>[]</td>\n",
       "      <td>NaN</td>\n",
       "      <td>c:\\DEV\\PhD_Thesis_Step3_OSM_Toponyms\\results\\6...</td>\n",
       "    </tr>\n",
       "    <tr>\n",
       "      <th>1</th>\n",
       "      <td>relation_8013500</td>\n",
       "      <td>cbge_area_verde</td>\n",
       "      <td>leisure_park</td>\n",
       "      <td>801899957379381</td>\n",
       "      <td>a</td>\n",
       "      <td>a</td>\n",
       "      <td>c:\\DEV\\PhD_Thesis_Step3_OSM_Toponyms\\results\\6...</td>\n",
       "    </tr>\n",
       "    <tr>\n",
       "      <th>2</th>\n",
       "      <td>way_100290466</td>\n",
       "      <td>cbge_area_verde</td>\n",
       "      <td>leisure_park</td>\n",
       "      <td>520526909141952</td>\n",
       "      <td>le</td>\n",
       "      <td>l e</td>\n",
       "      <td>c:\\DEV\\PhD_Thesis_Step3_OSM_Toponyms\\results\\6...</td>\n",
       "    </tr>\n",
       "    <tr>\n",
       "      <th>3</th>\n",
       "      <td>way_1026854836</td>\n",
       "      <td>cbge_area_verde</td>\n",
       "      <td>leisure_park</td>\n",
       "      <td>149091137259541</td>\n",
       "      <td>ies</td>\n",
       "      <td>i e s</td>\n",
       "      <td>c:\\DEV\\PhD_Thesis_Step3_OSM_Toponyms\\results\\6...</td>\n",
       "    </tr>\n",
       "    <tr>\n",
       "      <th>4</th>\n",
       "      <td>way_1026854836</td>\n",
       "      <td>cbge_area_verde</td>\n",
       "      <td>leisure_park</td>\n",
       "      <td>1605443426327906</td>\n",
       "      <td>baa</td>\n",
       "      <td>b a a</td>\n",
       "      <td>c:\\DEV\\PhD_Thesis_Step3_OSM_Toponyms\\results\\6...</td>\n",
       "    </tr>\n",
       "  </tbody>\n",
       "</table>\n",
       "</div>"
      ],
      "text/plain": [
       "    osmId_formatado           classe     tag_value          image_id  \\\n",
       "0  relation_8013500  cbge_area_verde  leisure_park   384344719496346   \n",
       "1  relation_8013500  cbge_area_verde  leisure_park   801899957379381   \n",
       "2     way_100290466  cbge_area_verde  leisure_park   520526909141952   \n",
       "3    way_1026854836  cbge_area_verde  leisure_park   149091137259541   \n",
       "4    way_1026854836  cbge_area_verde  leisure_park  1605443426327906   \n",
       "\n",
       "  words_sli texto_sli                                          path_crop  \n",
       "0        []       NaN  c:\\DEV\\PhD_Thesis_Step3_OSM_Toponyms\\results\\6...  \n",
       "1         a         a  c:\\DEV\\PhD_Thesis_Step3_OSM_Toponyms\\results\\6...  \n",
       "2        le       l e  c:\\DEV\\PhD_Thesis_Step3_OSM_Toponyms\\results\\6...  \n",
       "3       ies     i e s  c:\\DEV\\PhD_Thesis_Step3_OSM_Toponyms\\results\\6...  \n",
       "4       baa     b a a  c:\\DEV\\PhD_Thesis_Step3_OSM_Toponyms\\results\\6...  "
      ]
     },
     "execution_count": 8,
     "metadata": {},
     "output_type": "execute_result"
    }
   ],
   "source": [
    "# Recuperar o df_results a partir do csv salvo\n",
    "base = os.getcwd()\n",
    "csv_path = os.path.join(base, \"results\", \"6_YOLO_KerasOCR_results\",\"mpl\", \"mlp_ocr_results.csv\")\n",
    "\n",
    "df_results = pd.read_csv(csv_path)\n",
    "\n",
    "# Conferir\n",
    "print(df_results.shape)\n",
    "df_results.head()"
   ]
  },
  {
   "cell_type": "code",
   "execution_count": null,
   "metadata": {},
   "outputs": [
    {
     "data": {
      "application/vnd.jupyter.widget-view+json": {
       "model_id": "97c67958f8db40b68a19f181e7e42609",
       "version_major": 2,
       "version_minor": 0
      },
      "text/plain": [
       "Carregando CSV:   0%|          | 0/1 [00:00<?, ?it/s]"
      ]
     },
     "metadata": {},
     "output_type": "display_data"
    },
    {
     "name": "stdout",
     "output_type": "stream",
     "text": [
      "Shape: (20029, 7)\n"
     ]
    },
    {
     "data": {
      "text/html": [
       "<div>\n",
       "<style scoped>\n",
       "    .dataframe tbody tr th:only-of-type {\n",
       "        vertical-align: middle;\n",
       "    }\n",
       "\n",
       "    .dataframe tbody tr th {\n",
       "        vertical-align: top;\n",
       "    }\n",
       "\n",
       "    .dataframe thead th {\n",
       "        text-align: right;\n",
       "    }\n",
       "</style>\n",
       "<table border=\"1\" class=\"dataframe\">\n",
       "  <thead>\n",
       "    <tr style=\"text-align: right;\">\n",
       "      <th></th>\n",
       "      <th>osmId_formatado</th>\n",
       "      <th>classe</th>\n",
       "      <th>tag_value</th>\n",
       "      <th>image_id</th>\n",
       "      <th>words_sli</th>\n",
       "      <th>texto_sli</th>\n",
       "      <th>path_crop</th>\n",
       "    </tr>\n",
       "  </thead>\n",
       "  <tbody>\n",
       "    <tr>\n",
       "      <th>0</th>\n",
       "      <td>relation_8013500</td>\n",
       "      <td>cbge_area_verde</td>\n",
       "      <td>leisure_park</td>\n",
       "      <td>384344719496346</td>\n",
       "      <td>[]</td>\n",
       "      <td>NaN</td>\n",
       "      <td>c:\\DEV\\PhD_Thesis_Step3_OSM_Toponyms\\results\\6...</td>\n",
       "    </tr>\n",
       "    <tr>\n",
       "      <th>1</th>\n",
       "      <td>relation_8013500</td>\n",
       "      <td>cbge_area_verde</td>\n",
       "      <td>leisure_park</td>\n",
       "      <td>801899957379381</td>\n",
       "      <td>a</td>\n",
       "      <td>a</td>\n",
       "      <td>c:\\DEV\\PhD_Thesis_Step3_OSM_Toponyms\\results\\6...</td>\n",
       "    </tr>\n",
       "    <tr>\n",
       "      <th>2</th>\n",
       "      <td>way_100290466</td>\n",
       "      <td>cbge_area_verde</td>\n",
       "      <td>leisure_park</td>\n",
       "      <td>520526909141952</td>\n",
       "      <td>le</td>\n",
       "      <td>l e</td>\n",
       "      <td>c:\\DEV\\PhD_Thesis_Step3_OSM_Toponyms\\results\\6...</td>\n",
       "    </tr>\n",
       "    <tr>\n",
       "      <th>3</th>\n",
       "      <td>way_1026854836</td>\n",
       "      <td>cbge_area_verde</td>\n",
       "      <td>leisure_park</td>\n",
       "      <td>149091137259541</td>\n",
       "      <td>ies</td>\n",
       "      <td>i e s</td>\n",
       "      <td>c:\\DEV\\PhD_Thesis_Step3_OSM_Toponyms\\results\\6...</td>\n",
       "    </tr>\n",
       "    <tr>\n",
       "      <th>4</th>\n",
       "      <td>way_1026854836</td>\n",
       "      <td>cbge_area_verde</td>\n",
       "      <td>leisure_park</td>\n",
       "      <td>1605443426327906</td>\n",
       "      <td>baa</td>\n",
       "      <td>b a a</td>\n",
       "      <td>c:\\DEV\\PhD_Thesis_Step3_OSM_Toponyms\\results\\6...</td>\n",
       "    </tr>\n",
       "  </tbody>\n",
       "</table>\n",
       "</div>"
      ],
      "text/plain": [
       "    osmId_formatado           classe     tag_value          image_id  \\\n",
       "0  relation_8013500  cbge_area_verde  leisure_park   384344719496346   \n",
       "1  relation_8013500  cbge_area_verde  leisure_park   801899957379381   \n",
       "2     way_100290466  cbge_area_verde  leisure_park   520526909141952   \n",
       "3    way_1026854836  cbge_area_verde  leisure_park   149091137259541   \n",
       "4    way_1026854836  cbge_area_verde  leisure_park  1605443426327906   \n",
       "\n",
       "  words_sli texto_sli                                          path_crop  \n",
       "0        []       NaN  c:\\DEV\\PhD_Thesis_Step3_OSM_Toponyms\\results\\6...  \n",
       "1         a         a  c:\\DEV\\PhD_Thesis_Step3_OSM_Toponyms\\results\\6...  \n",
       "2        le       l e  c:\\DEV\\PhD_Thesis_Step3_OSM_Toponyms\\results\\6...  \n",
       "3       ies     i e s  c:\\DEV\\PhD_Thesis_Step3_OSM_Toponyms\\results\\6...  \n",
       "4       baa     b a a  c:\\DEV\\PhD_Thesis_Step3_OSM_Toponyms\\results\\6...  "
      ]
     },
     "metadata": {},
     "output_type": "display_data"
    }
   ],
   "source": [
    "# Versao mais robusta\n",
    "base = os.getcwd()\n",
    "csv_path = os.path.join(base, \"results\", \"6_YOLO_KerasOCR_results\", \"mpl\", \"mlp_ocr_results.csv\")\n",
    "\n",
    "# total de linhas (# -1 cabeçalho)\n",
    "total_lines = sum(1 for _ in open(csv_path, encoding=\"utf-8\")) - 1\n",
    "chunk_size = 50_000\n",
    "\n",
    "dfs = []\n",
    "for chunk in tqdm(pd.read_csv(csv_path, chunksize=chunk_size), \n",
    "                  total=(total_lines // chunk_size) + 1, \n",
    "                  desc=\"Carregando CSV\"):\n",
    "    dfs.append(chunk)\n",
    "\n",
    "df_results = pd.concat(dfs, ignore_index=True)\n",
    "\n",
    "print(\"Shape:\", df_results.shape)\n",
    "display(df_results.head())"
   ]
  },
  {
   "cell_type": "code",
   "execution_count": null,
   "metadata": {},
   "outputs": [
    {
     "name": "stdout",
     "output_type": "stream",
     "text": [
      "Total de feições na layer 'clip_vitL14_mpl_matches': 108475\n"
     ]
    },
    {
     "data": {
      "application/vnd.jupyter.widget-view+json": {
       "model_id": "850fc256202540bc96a6db0707317746",
       "version_major": 2,
       "version_minor": 0
      },
      "text/plain": [
       "Carregando 'clip_vitL14_mpl_matches':   0%|          | 0/108475 [00:00<?, ?it/s]"
      ]
     },
     "metadata": {},
     "output_type": "display_data"
    },
    {
     "name": "stdout",
     "output_type": "stream",
     "text": [
      "GeoDataFrame final: (108475, 239)\n"
     ]
    },
    {
     "data": {
      "text/plain": [
       "18"
      ]
     },
     "execution_count": 9,
     "metadata": {},
     "output_type": "execute_result"
    }
   ],
   "source": [
    "# Reload do clip_vitL14_mpl_matches do gpkg \"20250822_152831_clip_osm_mpl_results_final.gpkg\"\n",
    "\n",
    "# Caminhos\n",
    "base = os.getcwd()\n",
    "results_path = \"results/4_CLIP_results/2_ViT_L14/20250819\"\n",
    "fp_gpkg = os.path.join(base, results_path, \"20250822_152831_clip_osm_mpl_results_final.gpkg\")\n",
    "layer_name = \"clip_vitL14_mpl_matches\"\n",
    "\n",
    "# Verifica se a layer existe\n",
    "layers = fiona.listlayers(fp_gpkg)\n",
    "if layer_name not in layers:\n",
    "    raise ValueError(f\"Layer '{layer_name}' não encontrada no arquivo. Layers disponíveis: {layers}\")\n",
    "\n",
    "# Conta feições da layer\n",
    "with fiona.open(fp_gpkg, layer=layer_name) as src:\n",
    "    total_features = len(src)\n",
    "print(f\"Total de feições na layer '{layer_name}': {total_features}\")\n",
    "\n",
    "# Leitura em chunks\n",
    "chunk_size = 10_000\n",
    "dfs = []\n",
    "\n",
    "with fiona.open(fp_gpkg, layer=layer_name) as src:\n",
    "    features = []\n",
    "    for i, feat in enumerate(tqdm(src, total=total_features, desc=f\"Carregando '{layer_name}'\")):\n",
    "        features.append(feat)\n",
    "        if (i + 1) % chunk_size == 0 or (i + 1) == total_features:\n",
    "            # CRS: Fiona pode retornar dict (src.crs) ou WKT (src.crs_wkt)\n",
    "            crs = src.crs\n",
    "            if crs is None and getattr(src, \"crs_wkt\", None):\n",
    "                try:\n",
    "                    from pyproj import CRS\n",
    "                    crs = CRS.from_wkt(src.crs_wkt).to_wkt()\n",
    "                except Exception:\n",
    "                    crs = None\n",
    "\n",
    "            df_chunk = gpd.GeoDataFrame.from_features(features, crs=crs)\n",
    "            dfs.append(df_chunk)\n",
    "\n",
    "            # Limpeza\n",
    "            features.clear()\n",
    "            del df_chunk\n",
    "            gc.collect()\n",
    "\n",
    "# Concatena tudo em um único GeoDataFrame final\n",
    "if not dfs:\n",
    "    # vazio\n",
    "    gdf_mpl_final = gpd.GeoDataFrame(geometry=[])\n",
    "else:\n",
    "    gdf_mpl_final = gpd.GeoDataFrame(\n",
    "        pd.concat(dfs, ignore_index=True),\n",
    "        crs=dfs[0].crs\n",
    "    )\n",
    "\n",
    "print(\"GeoDataFrame final:\", gdf_mpl_final.shape)\n",
    "\n",
    "# Libera memória intermediária\n",
    "del dfs\n",
    "gc.collect()"
   ]
  },
  {
   "cell_type": "code",
   "execution_count": 10,
   "metadata": {},
   "outputs": [],
   "source": [
    "# Preparar os IDs para join\n",
    "df_results[\"image_id\"] = df_results[\"image_id\"].astype(str)\n",
    "gdf_mpl_final[\"image_id\"] = gdf_mpl_final[\"image_id\"].astype(str)"
   ]
  },
  {
   "cell_type": "code",
   "execution_count": null,
   "metadata": {},
   "outputs": [
    {
     "name": "stdout",
     "output_type": "stream",
     "text": [
      "Iniciando merge OCR → CLIP em chunks ...\n"
     ]
    },
    {
     "data": {
      "application/vnd.jupyter.widget-view+json": {
       "model_id": "db7269e7b6744eeb82d9ee5e48b01f92",
       "version_major": 2,
       "version_minor": 0
      },
      "text/plain": [
       "Join OCR-CLIP:   0%|          | 0/2 [00:00<?, ?chunk/s]"
      ]
     },
     "metadata": {},
     "output_type": "display_data"
    },
    {
     "name": "stdout",
     "output_type": "stream",
     "text": [
      "Merge concluído: (229006, 247)\n"
     ]
    },
    {
     "data": {
      "text/html": [
       "<div>\n",
       "<style scoped>\n",
       "    .dataframe tbody tr th:only-of-type {\n",
       "        vertical-align: middle;\n",
       "    }\n",
       "\n",
       "    .dataframe tbody tr th {\n",
       "        vertical-align: top;\n",
       "    }\n",
       "\n",
       "    .dataframe thead th {\n",
       "        text-align: right;\n",
       "    }\n",
       "</style>\n",
       "<table border=\"1\" class=\"dataframe\">\n",
       "  <thead>\n",
       "    <tr style=\"text-align: right;\">\n",
       "      <th></th>\n",
       "      <th>index_x</th>\n",
       "      <th>geometry</th>\n",
       "      <th>id_celula</th>\n",
       "      <th>classe_x</th>\n",
       "      <th>tag</th>\n",
       "      <th>value</th>\n",
       "      <th>@changesetId</th>\n",
       "      <th>@contributionChangesetId</th>\n",
       "      <th>@creation</th>\n",
       "      <th>@osmId</th>\n",
       "      <th>...</th>\n",
       "      <th>dist_m</th>\n",
       "      <th>score</th>\n",
       "      <th>unique_key</th>\n",
       "      <th>index_y</th>\n",
       "      <th>osmId_formatado</th>\n",
       "      <th>classe_y</th>\n",
       "      <th>tag_value</th>\n",
       "      <th>words_sli</th>\n",
       "      <th>texto_sli</th>\n",
       "      <th>path_crop</th>\n",
       "    </tr>\n",
       "  </thead>\n",
       "  <tbody>\n",
       "    <tr>\n",
       "      <th>0</th>\n",
       "      <td>0</td>\n",
       "      <td>POINT (-44.04466 -19.99024)</td>\n",
       "      <td>200ME60356N90866</td>\n",
       "      <td>edif_ensino</td>\n",
       "      <td>amenity</td>\n",
       "      <td>school</td>\n",
       "      <td>12291812</td>\n",
       "      <td>12291812.0</td>\n",
       "      <td>1</td>\n",
       "      <td>node/1830091373</td>\n",
       "      <td>...</td>\n",
       "      <td>37.792386</td>\n",
       "      <td>0.355469</td>\n",
       "      <td>node/1830091373_294025759131160</td>\n",
       "      <td>NaN</td>\n",
       "      <td>NaN</td>\n",
       "      <td>NaN</td>\n",
       "      <td>NaN</td>\n",
       "      <td>NaN</td>\n",
       "      <td>NaN</td>\n",
       "      <td>NaN</td>\n",
       "    </tr>\n",
       "    <tr>\n",
       "      <th>1</th>\n",
       "      <td>1</td>\n",
       "      <td>POINT (-44.04468 -19.99028)</td>\n",
       "      <td>200ME60356N90866</td>\n",
       "      <td>edif_ensino</td>\n",
       "      <td>amenity</td>\n",
       "      <td>school</td>\n",
       "      <td>12291812</td>\n",
       "      <td>12291812.0</td>\n",
       "      <td>1</td>\n",
       "      <td>node/1830091373</td>\n",
       "      <td>...</td>\n",
       "      <td>37.804249</td>\n",
       "      <td>0.584961</td>\n",
       "      <td>node/1830091373_307923321060745</td>\n",
       "      <td>NaN</td>\n",
       "      <td>NaN</td>\n",
       "      <td>NaN</td>\n",
       "      <td>NaN</td>\n",
       "      <td>NaN</td>\n",
       "      <td>NaN</td>\n",
       "      <td>NaN</td>\n",
       "    </tr>\n",
       "    <tr>\n",
       "      <th>2</th>\n",
       "      <td>2</td>\n",
       "      <td>POINT (-44.04470 -19.99031)</td>\n",
       "      <td>200ME60356N90866</td>\n",
       "      <td>edif_ensino</td>\n",
       "      <td>amenity</td>\n",
       "      <td>school</td>\n",
       "      <td>12291812</td>\n",
       "      <td>12291812.0</td>\n",
       "      <td>1</td>\n",
       "      <td>node/1830091373</td>\n",
       "      <td>...</td>\n",
       "      <td>38.413131</td>\n",
       "      <td>0.592773</td>\n",
       "      <td>node/1830091373_982441749168567</td>\n",
       "      <td>11289.0</td>\n",
       "      <td>node_1830091373</td>\n",
       "      <td>edif_ensino</td>\n",
       "      <td>amenity_school</td>\n",
       "      <td>ses</td>\n",
       "      <td>s e s</td>\n",
       "      <td>c:\\DEV\\PhD_Thesis_Step3_OSM_Toponyms\\results\\6...</td>\n",
       "    </tr>\n",
       "    <tr>\n",
       "      <th>3</th>\n",
       "      <td>3</td>\n",
       "      <td>POINT (-44.04463 -19.99021)</td>\n",
       "      <td>200ME60356N90866</td>\n",
       "      <td>edif_ensino</td>\n",
       "      <td>amenity</td>\n",
       "      <td>school</td>\n",
       "      <td>12291812</td>\n",
       "      <td>12291812.0</td>\n",
       "      <td>1</td>\n",
       "      <td>node/1830091373</td>\n",
       "      <td>...</td>\n",
       "      <td>38.629732</td>\n",
       "      <td>0.440186</td>\n",
       "      <td>node/1830091373_798420737483679</td>\n",
       "      <td>NaN</td>\n",
       "      <td>NaN</td>\n",
       "      <td>NaN</td>\n",
       "      <td>NaN</td>\n",
       "      <td>NaN</td>\n",
       "      <td>NaN</td>\n",
       "      <td>NaN</td>\n",
       "    </tr>\n",
       "    <tr>\n",
       "      <th>4</th>\n",
       "      <td>4</td>\n",
       "      <td>POINT (-44.04473 -19.99034)</td>\n",
       "      <td>200ME60356N90866</td>\n",
       "      <td>edif_ensino</td>\n",
       "      <td>amenity</td>\n",
       "      <td>school</td>\n",
       "      <td>12291812</td>\n",
       "      <td>12291812.0</td>\n",
       "      <td>1</td>\n",
       "      <td>node/1830091373</td>\n",
       "      <td>...</td>\n",
       "      <td>39.079634</td>\n",
       "      <td>0.346680</td>\n",
       "      <td>node/1830091373_970234847060373</td>\n",
       "      <td>NaN</td>\n",
       "      <td>NaN</td>\n",
       "      <td>NaN</td>\n",
       "      <td>NaN</td>\n",
       "      <td>NaN</td>\n",
       "      <td>NaN</td>\n",
       "      <td>NaN</td>\n",
       "    </tr>\n",
       "  </tbody>\n",
       "</table>\n",
       "<p>5 rows × 247 columns</p>\n",
       "</div>"
      ],
      "text/plain": [
       "   index_x                     geometry         id_celula     classe_x  \\\n",
       "0        0  POINT (-44.04466 -19.99024)  200ME60356N90866  edif_ensino   \n",
       "1        1  POINT (-44.04468 -19.99028)  200ME60356N90866  edif_ensino   \n",
       "2        2  POINT (-44.04470 -19.99031)  200ME60356N90866  edif_ensino   \n",
       "3        3  POINT (-44.04463 -19.99021)  200ME60356N90866  edif_ensino   \n",
       "4        4  POINT (-44.04473 -19.99034)  200ME60356N90866  edif_ensino   \n",
       "\n",
       "       tag   value  @changesetId  @contributionChangesetId @creation  \\\n",
       "0  amenity  school      12291812                12291812.0         1   \n",
       "1  amenity  school      12291812                12291812.0         1   \n",
       "2  amenity  school      12291812                12291812.0         1   \n",
       "3  amenity  school      12291812                12291812.0         1   \n",
       "4  amenity  school      12291812                12291812.0         1   \n",
       "\n",
       "            @osmId  ...     dist_m     score                       unique_key  \\\n",
       "0  node/1830091373  ...  37.792386  0.355469  node/1830091373_294025759131160   \n",
       "1  node/1830091373  ...  37.804249  0.584961  node/1830091373_307923321060745   \n",
       "2  node/1830091373  ...  38.413131  0.592773  node/1830091373_982441749168567   \n",
       "3  node/1830091373  ...  38.629732  0.440186  node/1830091373_798420737483679   \n",
       "4  node/1830091373  ...  39.079634  0.346680  node/1830091373_970234847060373   \n",
       "\n",
       "   index_y  osmId_formatado     classe_y       tag_value words_sli texto_sli  \\\n",
       "0      NaN              NaN          NaN             NaN       NaN       NaN   \n",
       "1      NaN              NaN          NaN             NaN       NaN       NaN   \n",
       "2  11289.0  node_1830091373  edif_ensino  amenity_school       ses     s e s   \n",
       "3      NaN              NaN          NaN             NaN       NaN       NaN   \n",
       "4      NaN              NaN          NaN             NaN       NaN       NaN   \n",
       "\n",
       "                                           path_crop  \n",
       "0                                                NaN  \n",
       "1                                                NaN  \n",
       "2  c:\\DEV\\PhD_Thesis_Step3_OSM_Toponyms\\results\\6...  \n",
       "3                                                NaN  \n",
       "4                                                NaN  \n",
       "\n",
       "[5 rows x 247 columns]"
      ]
     },
     "metadata": {},
     "output_type": "display_data"
    }
   ],
   "source": [
    "# Join OCR → CLIP (gdf_mpl_final → clip_vitL14_mpl_matches)\n",
    "\n",
    "print(\"Iniciando merge OCR → CLIP match results em chunks ...\")\n",
    "chunk_size = 20000\n",
    "dfs_merged = []\n",
    "\n",
    "for i in tqdm(np.arange(0, len(df_results), chunk_size), desc=\"Join OCR-CLIP\", unit=\"chunk\"):\n",
    "    df_chunk = df_results.iloc[i:i+chunk_size]\n",
    "    merged_chunk = gdf_mpl_final.reset_index().merge(\n",
    "        df_chunk.reset_index(),\n",
    "        on=\"image_id\",\n",
    "        how=\"left\",\n",
    "        copy=False\n",
    "    )\n",
    "    dfs_merged.append(merged_chunk)\n",
    "\n",
    "gdf_merged = pd.concat(dfs_merged, ignore_index=True)\n",
    "print(\"Merge concluído:\", gdf_merged.shape)\n",
    "display(gdf_merged.head())"
   ]
  },
  {
   "cell_type": "code",
   "execution_count": 13,
   "metadata": {},
   "outputs": [
    {
     "name": "stdout",
     "output_type": "stream",
     "text": [
      "Total de feições em step7: 1627\n"
     ]
    },
    {
     "data": {
      "application/vnd.jupyter.widget-view+json": {
       "model_id": "1adea9f97a884d8a8b4271c70aba5f03",
       "version_major": 2,
       "version_minor": 0
      },
      "text/plain": [
       "Carregando step7_consolidado_ohsome_filtrado:   0%|          | 0/1627 [00:00<?, ?it/s]"
      ]
     },
     "metadata": {},
     "output_type": "display_data"
    },
    {
     "name": "stdout",
     "output_type": "stream",
     "text": [
      "GeoDataFrame step7: (1627, 190)\n"
     ]
    },
    {
     "data": {
      "text/html": [
       "<div>\n",
       "<style scoped>\n",
       "    .dataframe tbody tr th:only-of-type {\n",
       "        vertical-align: middle;\n",
       "    }\n",
       "\n",
       "    .dataframe tbody tr th {\n",
       "        vertical-align: top;\n",
       "    }\n",
       "\n",
       "    .dataframe thead th {\n",
       "        text-align: right;\n",
       "    }\n",
       "</style>\n",
       "<table border=\"1\" class=\"dataframe\">\n",
       "  <thead>\n",
       "    <tr style=\"text-align: right;\">\n",
       "      <th></th>\n",
       "      <th>geometry</th>\n",
       "      <th>id_celula</th>\n",
       "      <th>classe</th>\n",
       "      <th>tag</th>\n",
       "      <th>value</th>\n",
       "      <th>@changesetId</th>\n",
       "      <th>@contributionChangesetId</th>\n",
       "      <th>@creation</th>\n",
       "      <th>@osmId</th>\n",
       "      <th>@osmType</th>\n",
       "      <th>...</th>\n",
       "      <th>addr:province</th>\n",
       "      <th>indoor</th>\n",
       "      <th>building:use</th>\n",
       "      <th>training</th>\n",
       "      <th>subject:wikidata</th>\n",
       "      <th>subject:wikipedia</th>\n",
       "      <th>payment:account_cards</th>\n",
       "      <th>shop</th>\n",
       "      <th>int_name</th>\n",
       "      <th>nohousenumber</th>\n",
       "    </tr>\n",
       "  </thead>\n",
       "  <tbody>\n",
       "    <tr>\n",
       "      <th>0</th>\n",
       "      <td>POINT (-44.05274 -19.99391)</td>\n",
       "      <td>200ME60348N90864</td>\n",
       "      <td>cbge_praca</td>\n",
       "      <td>leisure</td>\n",
       "      <td>park</td>\n",
       "      <td>12479899</td>\n",
       "      <td>12479899.0</td>\n",
       "      <td>1</td>\n",
       "      <td>way/172871822</td>\n",
       "      <td>way</td>\n",
       "      <td>...</td>\n",
       "      <td>None</td>\n",
       "      <td>None</td>\n",
       "      <td>None</td>\n",
       "      <td>None</td>\n",
       "      <td>None</td>\n",
       "      <td>None</td>\n",
       "      <td>None</td>\n",
       "      <td>None</td>\n",
       "      <td>None</td>\n",
       "      <td>None</td>\n",
       "    </tr>\n",
       "    <tr>\n",
       "      <th>1</th>\n",
       "      <td>POINT (-44.05412 -19.99387)</td>\n",
       "      <td>200ME60346N90862</td>\n",
       "      <td>edif_constr_lazer</td>\n",
       "      <td>amenity</td>\n",
       "      <td>library</td>\n",
       "      <td>12479899</td>\n",
       "      <td>12479899.0</td>\n",
       "      <td>1</td>\n",
       "      <td>node/1837185237</td>\n",
       "      <td>node</td>\n",
       "      <td>...</td>\n",
       "      <td>None</td>\n",
       "      <td>None</td>\n",
       "      <td>None</td>\n",
       "      <td>None</td>\n",
       "      <td>None</td>\n",
       "      <td>None</td>\n",
       "      <td>None</td>\n",
       "      <td>None</td>\n",
       "      <td>None</td>\n",
       "      <td>None</td>\n",
       "    </tr>\n",
       "    <tr>\n",
       "      <th>2</th>\n",
       "      <td>POINT (-44.05395 -19.99415)</td>\n",
       "      <td>200ME60346N90864</td>\n",
       "      <td>edif_ensino</td>\n",
       "      <td>amenity</td>\n",
       "      <td>school</td>\n",
       "      <td>56647215</td>\n",
       "      <td>56647215.0</td>\n",
       "      <td>1</td>\n",
       "      <td>way/172871823</td>\n",
       "      <td>way</td>\n",
       "      <td>...</td>\n",
       "      <td>None</td>\n",
       "      <td>None</td>\n",
       "      <td>None</td>\n",
       "      <td>None</td>\n",
       "      <td>None</td>\n",
       "      <td>None</td>\n",
       "      <td>None</td>\n",
       "      <td>None</td>\n",
       "      <td>None</td>\n",
       "      <td>None</td>\n",
       "    </tr>\n",
       "    <tr>\n",
       "      <th>3</th>\n",
       "      <td>POINT (-44.06307 -19.97691)</td>\n",
       "      <td>200ME60338N90882</td>\n",
       "      <td>cbge_praca</td>\n",
       "      <td>leisure</td>\n",
       "      <td>park</td>\n",
       "      <td>105601725</td>\n",
       "      <td>105601725.0</td>\n",
       "      <td>1</td>\n",
       "      <td>way/511117205</td>\n",
       "      <td>way</td>\n",
       "      <td>...</td>\n",
       "      <td>None</td>\n",
       "      <td>None</td>\n",
       "      <td>None</td>\n",
       "      <td>None</td>\n",
       "      <td>None</td>\n",
       "      <td>None</td>\n",
       "      <td>None</td>\n",
       "      <td>None</td>\n",
       "      <td>None</td>\n",
       "      <td>None</td>\n",
       "    </tr>\n",
       "    <tr>\n",
       "      <th>4</th>\n",
       "      <td>POINT (-44.05539 -19.98152)</td>\n",
       "      <td>200ME60346N90876</td>\n",
       "      <td>edif_ensino</td>\n",
       "      <td>amenity</td>\n",
       "      <td>school</td>\n",
       "      <td>56647215</td>\n",
       "      <td>56647215.0</td>\n",
       "      <td>1</td>\n",
       "      <td>way/563950983</td>\n",
       "      <td>way</td>\n",
       "      <td>...</td>\n",
       "      <td>None</td>\n",
       "      <td>None</td>\n",
       "      <td>None</td>\n",
       "      <td>None</td>\n",
       "      <td>None</td>\n",
       "      <td>None</td>\n",
       "      <td>None</td>\n",
       "      <td>None</td>\n",
       "      <td>None</td>\n",
       "      <td>None</td>\n",
       "    </tr>\n",
       "  </tbody>\n",
       "</table>\n",
       "<p>5 rows × 190 columns</p>\n",
       "</div>"
      ],
      "text/plain": [
       "                      geometry         id_celula             classe      tag  \\\n",
       "0  POINT (-44.05274 -19.99391)  200ME60348N90864         cbge_praca  leisure   \n",
       "1  POINT (-44.05412 -19.99387)  200ME60346N90862  edif_constr_lazer  amenity   \n",
       "2  POINT (-44.05395 -19.99415)  200ME60346N90864        edif_ensino  amenity   \n",
       "3  POINT (-44.06307 -19.97691)  200ME60338N90882         cbge_praca  leisure   \n",
       "4  POINT (-44.05539 -19.98152)  200ME60346N90876        edif_ensino  amenity   \n",
       "\n",
       "     value  @changesetId  @contributionChangesetId @creation           @osmId  \\\n",
       "0     park      12479899                12479899.0         1    way/172871822   \n",
       "1  library      12479899                12479899.0         1  node/1837185237   \n",
       "2   school      56647215                56647215.0         1    way/172871823   \n",
       "3     park     105601725               105601725.0         1    way/511117205   \n",
       "4   school      56647215                56647215.0         1    way/563950983   \n",
       "\n",
       "  @osmType  ... addr:province  indoor building:use training subject:wikidata  \\\n",
       "0      way  ...          None    None         None     None             None   \n",
       "1     node  ...          None    None         None     None             None   \n",
       "2      way  ...          None    None         None     None             None   \n",
       "3      way  ...          None    None         None     None             None   \n",
       "4      way  ...          None    None         None     None             None   \n",
       "\n",
       "  subject:wikipedia payment:account_cards  shop int_name nohousenumber  \n",
       "0              None                  None  None     None          None  \n",
       "1              None                  None  None     None          None  \n",
       "2              None                  None  None     None          None  \n",
       "3              None                  None  None     None          None  \n",
       "4              None                  None  None     None          None  \n",
       "\n",
       "[5 rows x 190 columns]"
      ]
     },
     "metadata": {},
     "output_type": "display_data"
    }
   ],
   "source": [
    "# Reload dos POIs OSM (com classes atualizadas)\n",
    "# === Caminho do step7 ===\n",
    "base = os.getcwd()\n",
    "results_path = \"results/2_toponyms_retrieval/step7_latest_name_ohsome\"\n",
    "gpkg_path = os.path.join(base, results_path, \"step7_consolidado_ohsome_filtrado.gpkg\")\n",
    "layer_step7 = \"step7_consolidado_ohsome_filtrado\"\n",
    "\n",
    "# Verifica layers disponíveis\n",
    "layers = fiona.listlayers(gpkg_path)\n",
    "if layer_step7 not in layers:\n",
    "    raise ValueError(f\"Layer '{layer_step7}' não encontrada. Disponíveis: {layers}\")\n",
    "\n",
    "# Conta feições\n",
    "with fiona.open(gpkg_path, layer=layer_step7) as src:\n",
    "    total_features = len(src)\n",
    "print(f\"Total de feições em step7: {total_features}\")\n",
    "\n",
    "# === Leitura em chunks ===\n",
    "chunk_size = 20_000\n",
    "dfs = []\n",
    "\n",
    "with fiona.open(gpkg_path, layer=layer_step7) as src:\n",
    "    features = []\n",
    "    for i, feat in enumerate(tqdm(src, total=total_features, desc=f\"Carregando {layer_step7}\")):\n",
    "        features.append(feat)\n",
    "        if (i + 1) % chunk_size == 0 or (i + 1) == total_features:\n",
    "            crs = src.crs\n",
    "            if crs is None and getattr(src, \"crs_wkt\", None):\n",
    "                from pyproj import CRS\n",
    "                try:\n",
    "                    crs = CRS.from_wkt(src.crs_wkt).to_wkt()\n",
    "                except Exception:\n",
    "                    crs = None\n",
    "\n",
    "            df_chunk = gpd.GeoDataFrame.from_features(features, crs=crs)\n",
    "            dfs.append(df_chunk)\n",
    "\n",
    "            features.clear()\n",
    "            del df_chunk\n",
    "            gc.collect()\n",
    "\n",
    "# Concatena todos os chunks\n",
    "gdf_step7 = gpd.GeoDataFrame(\n",
    "    pd.concat(dfs, ignore_index=True),\n",
    "    crs=dfs[0].crs if dfs else None\n",
    ")\n",
    "del dfs\n",
    "gc.collect()\n",
    "\n",
    "print(\"GeoDataFrame step7:\", gdf_step7.shape)\n",
    "display(gdf_step7.head())\n"
   ]
  },
  {
   "cell_type": "code",
   "execution_count": 14,
   "metadata": {},
   "outputs": [
    {
     "name": "stdout",
     "output_type": "stream",
     "text": [
      "Fazendo merge otimizado para atualizar 'classe' ...\n",
      "Colunas após merge: ['index_x', 'geometry', 'id_celula', 'classe_x', 'tag', 'value', '@changesetId', '@contributionChangesetId', '@creation', '@osmId', '@osmType', '@timestamp', '@version', 'addr:housenumber', 'addr:street', 'amenity', 'contact:phone', 'name', 'operator', 'leisure', '@geometryChange', '@tagChange', 'addr:city', 'addr:postcode', 'addr:suburb', 'short_name', 'sport', 'type', 'healthcare', 'healthcare:speciality', 'operator:type', 'phone', 'tourism', 'opening_hours', 'landuse', 'natural', 'wheelchair', 'admin_level', 'source', 'building', 'dog', 'email', 'fixme', 'phone_1', 'alt_name', 'check_date', 'brand', 'brand:wikidata', 'dispensing', 'internet_access', 'internet_access:fee', 'public_transport', 'railway', 'station', 'subway', 'wikidata', 'garden:type', 'theatre:genre', 'website', 'brand:wikipedia', 'surface', 'school', 'emergency', 'government', 'office', 'smoking', 'building:levels', 'height', 'grades', 'religion', 'level', 'drive_through', 'payment:cash', 'payment:credit_cards', 'payment:debit_cards', 'man_made', 'highway', 'ref:CNES', 'note:pt', 'name:pt', 'toilets:wheelchair', 'network', 'layer', 'ref:PBH', 'barrier', 'social_facility', 'preschool', 'source:name', 'url', 'ref', 'addr:country', 'description', 'loc_name', 'wikimedia_commons', 'wikipedia', 'direction', 'contact:email', 'square', 'addr:place', 'addr:state', 'operator:short', 'operator:wikidata', 'old_name', 'social_facility:for', 'name:en', 'official_name', 'official_name:en', 'bus', '2016olympicgames', 'nickname', 'contact:facebook', 'contact:instagram', 'contact:twitter', 'contact:website', 'contact:youtube', 'museum', 'noexit', 'pound', 'boundary', 'internet_access:ssid', 'access', 'place', 'ownership', 'capacity', 'denomination', 'image', 'polling_station', 'start_date', 'footway', 'contact:whatsapp', 'addr:housename', 'note', 'crás', 'opening_hours:covid19', 'ref:vatin', 'building:levels:underground', 'toilet', 'branch', 'faculty', 'artist_name', 'artwork_type', 'roof:levels', 'maxspeed', 'fee', 'source:amenity', 'building:name', 'charge', 'mapillary', 'fax', 'related_law', 'service', 'currency:XBT', 'payment:PIX', 'payment:lightning', 'payment:lightning_contactless', 'payment:onchain', 'material', 'sidewalk', 'historic', 'source:alt_name', 'operator:ref:vatin', 'name:es', 'designation', 'room', 'building:min_level', 'ele', 'pets_allowed', 'drinking_water', 'lit', 'covered', 'source:addr:street', 'payment:coins', 'memorial', 'pharmacy', 'inscription', 'train', 'contact:flickr', 'contact:issu', 'wikipedia:pt', 'air_conditioning', 'area', 'addr:province', 'indoor', 'building:use', 'training', 'subject:wikidata', 'subject:wikipedia', 'payment:account_cards', 'shop', 'int_name', 'nohousenumber', 'image_id', 'captured_at_original', 'compass_angle_original', 'creator_id_original', 'sequence_id', 'is_pano_original', 'organization_id', 'tile_z', 'tile_x', 'tile_y', 'altitude', 'atomic_scale', 'camera_parameters', 'camera_type', 'captured_at_meta', 'compass_angle_meta', 'computed_altitude', 'computed_compass_angle', 'computed_geometry', 'computed_rotation', 'creator', 'exif_orientation', 'geometry_meta', 'is_pano_meta', 'make', 'model', 'thumb_256_url', 'thumb_1024_url', 'thumb_2048_url', 'thumb_original_url', 'merge_cc', 'sequence', 'sfm_cluster', 'width', 'detections', 'id', 'creator_id_meta', 'creator_username', 'sfm_cluster_id', 'computed_geometry_type', 'computed_geometry_coordinates', 'captured_date', 'mesh', 'mesh_id', 'mesh_url', 'sfm_cluster_url', 'dist_m', 'score', 'unique_key', 'index_y', 'osmId_formatado', 'classe_y', 'tag_value', 'words_sli', 'texto_sli', 'path_crop', 'classe']\n",
      "Atualização concluída: (229006, 248)\n"
     ]
    },
    {
     "data": {
      "text/html": [
       "<div>\n",
       "<style scoped>\n",
       "    .dataframe tbody tr th:only-of-type {\n",
       "        vertical-align: middle;\n",
       "    }\n",
       "\n",
       "    .dataframe tbody tr th {\n",
       "        vertical-align: top;\n",
       "    }\n",
       "\n",
       "    .dataframe thead th {\n",
       "        text-align: right;\n",
       "    }\n",
       "</style>\n",
       "<table border=\"1\" class=\"dataframe\">\n",
       "  <thead>\n",
       "    <tr style=\"text-align: right;\">\n",
       "      <th></th>\n",
       "      <th>index_x</th>\n",
       "      <th>geometry</th>\n",
       "      <th>id_celula</th>\n",
       "      <th>classe_x</th>\n",
       "      <th>tag</th>\n",
       "      <th>value</th>\n",
       "      <th>@changesetId</th>\n",
       "      <th>@contributionChangesetId</th>\n",
       "      <th>@creation</th>\n",
       "      <th>@osmId</th>\n",
       "      <th>...</th>\n",
       "      <th>score</th>\n",
       "      <th>unique_key</th>\n",
       "      <th>index_y</th>\n",
       "      <th>osmId_formatado</th>\n",
       "      <th>classe_y</th>\n",
       "      <th>tag_value</th>\n",
       "      <th>words_sli</th>\n",
       "      <th>texto_sli</th>\n",
       "      <th>path_crop</th>\n",
       "      <th>classe</th>\n",
       "    </tr>\n",
       "  </thead>\n",
       "  <tbody>\n",
       "    <tr>\n",
       "      <th>0</th>\n",
       "      <td>0</td>\n",
       "      <td>POINT (-44.04466 -19.99024)</td>\n",
       "      <td>200ME60356N90866</td>\n",
       "      <td>edif_ensino</td>\n",
       "      <td>amenity</td>\n",
       "      <td>school</td>\n",
       "      <td>12291812</td>\n",
       "      <td>12291812.0</td>\n",
       "      <td>1</td>\n",
       "      <td>node/1830091373</td>\n",
       "      <td>...</td>\n",
       "      <td>0.355469</td>\n",
       "      <td>node/1830091373_294025759131160</td>\n",
       "      <td>NaN</td>\n",
       "      <td>NaN</td>\n",
       "      <td>NaN</td>\n",
       "      <td>NaN</td>\n",
       "      <td>NaN</td>\n",
       "      <td>NaN</td>\n",
       "      <td>NaN</td>\n",
       "      <td>edif_ensino</td>\n",
       "    </tr>\n",
       "    <tr>\n",
       "      <th>1</th>\n",
       "      <td>1</td>\n",
       "      <td>POINT (-44.04468 -19.99028)</td>\n",
       "      <td>200ME60356N90866</td>\n",
       "      <td>edif_ensino</td>\n",
       "      <td>amenity</td>\n",
       "      <td>school</td>\n",
       "      <td>12291812</td>\n",
       "      <td>12291812.0</td>\n",
       "      <td>1</td>\n",
       "      <td>node/1830091373</td>\n",
       "      <td>...</td>\n",
       "      <td>0.584961</td>\n",
       "      <td>node/1830091373_307923321060745</td>\n",
       "      <td>NaN</td>\n",
       "      <td>NaN</td>\n",
       "      <td>NaN</td>\n",
       "      <td>NaN</td>\n",
       "      <td>NaN</td>\n",
       "      <td>NaN</td>\n",
       "      <td>NaN</td>\n",
       "      <td>edif_ensino</td>\n",
       "    </tr>\n",
       "    <tr>\n",
       "      <th>2</th>\n",
       "      <td>2</td>\n",
       "      <td>POINT (-44.04470 -19.99031)</td>\n",
       "      <td>200ME60356N90866</td>\n",
       "      <td>edif_ensino</td>\n",
       "      <td>amenity</td>\n",
       "      <td>school</td>\n",
       "      <td>12291812</td>\n",
       "      <td>12291812.0</td>\n",
       "      <td>1</td>\n",
       "      <td>node/1830091373</td>\n",
       "      <td>...</td>\n",
       "      <td>0.592773</td>\n",
       "      <td>node/1830091373_982441749168567</td>\n",
       "      <td>11289.0</td>\n",
       "      <td>node_1830091373</td>\n",
       "      <td>edif_ensino</td>\n",
       "      <td>amenity_school</td>\n",
       "      <td>ses</td>\n",
       "      <td>s e s</td>\n",
       "      <td>c:\\DEV\\PhD_Thesis_Step3_OSM_Toponyms\\results\\6...</td>\n",
       "      <td>edif_ensino</td>\n",
       "    </tr>\n",
       "    <tr>\n",
       "      <th>3</th>\n",
       "      <td>3</td>\n",
       "      <td>POINT (-44.04463 -19.99021)</td>\n",
       "      <td>200ME60356N90866</td>\n",
       "      <td>edif_ensino</td>\n",
       "      <td>amenity</td>\n",
       "      <td>school</td>\n",
       "      <td>12291812</td>\n",
       "      <td>12291812.0</td>\n",
       "      <td>1</td>\n",
       "      <td>node/1830091373</td>\n",
       "      <td>...</td>\n",
       "      <td>0.440186</td>\n",
       "      <td>node/1830091373_798420737483679</td>\n",
       "      <td>NaN</td>\n",
       "      <td>NaN</td>\n",
       "      <td>NaN</td>\n",
       "      <td>NaN</td>\n",
       "      <td>NaN</td>\n",
       "      <td>NaN</td>\n",
       "      <td>NaN</td>\n",
       "      <td>edif_ensino</td>\n",
       "    </tr>\n",
       "    <tr>\n",
       "      <th>4</th>\n",
       "      <td>4</td>\n",
       "      <td>POINT (-44.04473 -19.99034)</td>\n",
       "      <td>200ME60356N90866</td>\n",
       "      <td>edif_ensino</td>\n",
       "      <td>amenity</td>\n",
       "      <td>school</td>\n",
       "      <td>12291812</td>\n",
       "      <td>12291812.0</td>\n",
       "      <td>1</td>\n",
       "      <td>node/1830091373</td>\n",
       "      <td>...</td>\n",
       "      <td>0.346680</td>\n",
       "      <td>node/1830091373_970234847060373</td>\n",
       "      <td>NaN</td>\n",
       "      <td>NaN</td>\n",
       "      <td>NaN</td>\n",
       "      <td>NaN</td>\n",
       "      <td>NaN</td>\n",
       "      <td>NaN</td>\n",
       "      <td>NaN</td>\n",
       "      <td>edif_ensino</td>\n",
       "    </tr>\n",
       "  </tbody>\n",
       "</table>\n",
       "<p>5 rows × 248 columns</p>\n",
       "</div>"
      ],
      "text/plain": [
       "   index_x                     geometry         id_celula     classe_x  \\\n",
       "0        0  POINT (-44.04466 -19.99024)  200ME60356N90866  edif_ensino   \n",
       "1        1  POINT (-44.04468 -19.99028)  200ME60356N90866  edif_ensino   \n",
       "2        2  POINT (-44.04470 -19.99031)  200ME60356N90866  edif_ensino   \n",
       "3        3  POINT (-44.04463 -19.99021)  200ME60356N90866  edif_ensino   \n",
       "4        4  POINT (-44.04473 -19.99034)  200ME60356N90866  edif_ensino   \n",
       "\n",
       "       tag   value  @changesetId  @contributionChangesetId @creation  \\\n",
       "0  amenity  school      12291812                12291812.0         1   \n",
       "1  amenity  school      12291812                12291812.0         1   \n",
       "2  amenity  school      12291812                12291812.0         1   \n",
       "3  amenity  school      12291812                12291812.0         1   \n",
       "4  amenity  school      12291812                12291812.0         1   \n",
       "\n",
       "            @osmId  ...     score                       unique_key  index_y  \\\n",
       "0  node/1830091373  ...  0.355469  node/1830091373_294025759131160      NaN   \n",
       "1  node/1830091373  ...  0.584961  node/1830091373_307923321060745      NaN   \n",
       "2  node/1830091373  ...  0.592773  node/1830091373_982441749168567  11289.0   \n",
       "3  node/1830091373  ...  0.440186  node/1830091373_798420737483679      NaN   \n",
       "4  node/1830091373  ...  0.346680  node/1830091373_970234847060373      NaN   \n",
       "\n",
       "   osmId_formatado     classe_y       tag_value words_sli texto_sli  \\\n",
       "0              NaN          NaN             NaN       NaN       NaN   \n",
       "1              NaN          NaN             NaN       NaN       NaN   \n",
       "2  node_1830091373  edif_ensino  amenity_school       ses     s e s   \n",
       "3              NaN          NaN             NaN       NaN       NaN   \n",
       "4              NaN          NaN             NaN       NaN       NaN   \n",
       "\n",
       "                                           path_crop       classe  \n",
       "0                                                NaN  edif_ensino  \n",
       "1                                                NaN  edif_ensino  \n",
       "2  c:\\DEV\\PhD_Thesis_Step3_OSM_Toponyms\\results\\6...  edif_ensino  \n",
       "3                                                NaN  edif_ensino  \n",
       "4                                                NaN  edif_ensino  \n",
       "\n",
       "[5 rows x 248 columns]"
      ]
     },
     "metadata": {},
     "output_type": "display_data"
    }
   ],
   "source": [
    "# === Atualizar classe_x no gdf_merged ===\n",
    "\n",
    "# Garantir que ambas têm a chave @osmId\n",
    "if \"@osmId\" not in gdf_step7.columns:\n",
    "    raise KeyError(\"Coluna @osmId não encontrada em step7\")\n",
    "if \"@osmId\" not in gdf_merged.columns:\n",
    "    raise KeyError(\"Coluna @osmId não encontrada em gdf_merged\")\n",
    "\n",
    "# Garante cópias (não mexe nos originais)\n",
    "gdf_merged_upd = gdf_merged.copy()\n",
    "df_update = gdf_step7[[\"@osmId\", \"classe\"]].drop_duplicates().copy()\n",
    "\n",
    "print(\"Fazendo merge otimizado para atualizar 'classe' ...\")\n",
    "\n",
    "gdf_merged_upd = gdf_merged_upd.merge(\n",
    "    df_update,\n",
    "    on=\"@osmId\",\n",
    "    how=\"left\",\n",
    "    suffixes=(\"_old\", \"_new\")  # força sufixos\n",
    ")\n",
    "\n",
    "# Checar colunas após merge\n",
    "print(\"Colunas após merge:\", gdf_merged_upd.columns.tolist())\n",
    "\n",
    "# Atualizar se ambas existirem\n",
    "if \"classe_new\" in gdf_merged_upd.columns and \"classe_old\" in gdf_merged_upd.columns:\n",
    "    gdf_merged_upd[\"classe\"] = gdf_merged_upd[\"classe_new\"].combine_first(\n",
    "        gdf_merged_upd[\"classe_old\"]\n",
    "    )\n",
    "    gdf_merged_upd = gdf_merged_upd.drop(columns=[\"classe_old\", \"classe_new\"])\n",
    "\n",
    "elif \"classe_new\" in gdf_merged_upd.columns:\n",
    "    # caso só exista new\n",
    "    gdf_merged_upd = gdf_merged_upd.rename(columns={\"classe_new\": \"classe\"})\n",
    "\n",
    "elif \"classe_old\" in gdf_merged_upd.columns:\n",
    "    # caso só exista old\n",
    "    gdf_merged_upd = gdf_merged_upd.rename(columns={\"classe_old\": \"classe\"})\n",
    "\n",
    "print(\"Atualização concluída:\", gdf_merged_upd.shape)\n",
    "display (gdf_merged_upd.head())"
   ]
  },
  {
   "cell_type": "code",
   "execution_count": 15,
   "metadata": {},
   "outputs": [
    {
     "data": {
      "text/html": [
       "<div>\n",
       "<style scoped>\n",
       "    .dataframe tbody tr th:only-of-type {\n",
       "        vertical-align: middle;\n",
       "    }\n",
       "\n",
       "    .dataframe tbody tr th {\n",
       "        vertical-align: top;\n",
       "    }\n",
       "\n",
       "    .dataframe thead th {\n",
       "        text-align: right;\n",
       "    }\n",
       "</style>\n",
       "<table border=\"1\" class=\"dataframe\">\n",
       "  <thead>\n",
       "    <tr style=\"text-align: right;\">\n",
       "      <th></th>\n",
       "      <th>index_x</th>\n",
       "      <th>geometry</th>\n",
       "      <th>id_celula</th>\n",
       "      <th>classe_x</th>\n",
       "      <th>tag</th>\n",
       "      <th>value</th>\n",
       "      <th>@changesetId</th>\n",
       "      <th>@contributionChangesetId</th>\n",
       "      <th>@creation</th>\n",
       "      <th>@osmId</th>\n",
       "      <th>...</th>\n",
       "      <th>score</th>\n",
       "      <th>unique_key</th>\n",
       "      <th>index_y</th>\n",
       "      <th>osmId_formatado</th>\n",
       "      <th>classe_y</th>\n",
       "      <th>tag_value</th>\n",
       "      <th>words_sli</th>\n",
       "      <th>texto_sli</th>\n",
       "      <th>path_crop</th>\n",
       "      <th>classe</th>\n",
       "    </tr>\n",
       "  </thead>\n",
       "  <tbody>\n",
       "    <tr>\n",
       "      <th>2</th>\n",
       "      <td>2</td>\n",
       "      <td>POINT (-44.04470 -19.99031)</td>\n",
       "      <td>200ME60356N90866</td>\n",
       "      <td>edif_ensino</td>\n",
       "      <td>amenity</td>\n",
       "      <td>school</td>\n",
       "      <td>12291812</td>\n",
       "      <td>12291812.0</td>\n",
       "      <td>1</td>\n",
       "      <td>node/1830091373</td>\n",
       "      <td>...</td>\n",
       "      <td>0.592773</td>\n",
       "      <td>node/1830091373_982441749168567</td>\n",
       "      <td>11289.0</td>\n",
       "      <td>node_1830091373</td>\n",
       "      <td>edif_ensino</td>\n",
       "      <td>amenity_school</td>\n",
       "      <td>ses</td>\n",
       "      <td>s e s</td>\n",
       "      <td>c:\\DEV\\PhD_Thesis_Step3_OSM_Toponyms\\results\\6...</td>\n",
       "      <td>edif_ensino</td>\n",
       "    </tr>\n",
       "    <tr>\n",
       "      <th>6</th>\n",
       "      <td>6</td>\n",
       "      <td>POINT (-44.04476 -19.99037)</td>\n",
       "      <td>200ME60356N90866</td>\n",
       "      <td>edif_ensino</td>\n",
       "      <td>amenity</td>\n",
       "      <td>school</td>\n",
       "      <td>12291812</td>\n",
       "      <td>12291812.0</td>\n",
       "      <td>1</td>\n",
       "      <td>node/1830091373</td>\n",
       "      <td>...</td>\n",
       "      <td>0.365479</td>\n",
       "      <td>node/1830091373_775809203082616</td>\n",
       "      <td>11287.0</td>\n",
       "      <td>node_1830091373</td>\n",
       "      <td>edif_ensino</td>\n",
       "      <td>amenity_school</td>\n",
       "      <td>plris</td>\n",
       "      <td>p l r i s</td>\n",
       "      <td>c:\\DEV\\PhD_Thesis_Step3_OSM_Toponyms\\results\\6...</td>\n",
       "      <td>edif_ensino</td>\n",
       "    </tr>\n",
       "    <tr>\n",
       "      <th>9</th>\n",
       "      <td>9</td>\n",
       "      <td>POINT (-44.04462 -19.99025)</td>\n",
       "      <td>200ME60356N90866</td>\n",
       "      <td>edif_ensino</td>\n",
       "      <td>amenity</td>\n",
       "      <td>school</td>\n",
       "      <td>12291812</td>\n",
       "      <td>12291812.0</td>\n",
       "      <td>1</td>\n",
       "      <td>node/1830091373</td>\n",
       "      <td>...</td>\n",
       "      <td>0.407715</td>\n",
       "      <td>node/1830091373_354746259401102</td>\n",
       "      <td>11264.0</td>\n",
       "      <td>node_1830091373</td>\n",
       "      <td>edif_ensino</td>\n",
       "      <td>amenity_school</td>\n",
       "      <td>ie</td>\n",
       "      <td>i e</td>\n",
       "      <td>c:\\DEV\\PhD_Thesis_Step3_OSM_Toponyms\\results\\6...</td>\n",
       "      <td>edif_ensino</td>\n",
       "    </tr>\n",
       "    <tr>\n",
       "      <th>11</th>\n",
       "      <td>11</td>\n",
       "      <td>POINT (-44.04463 -19.99027)</td>\n",
       "      <td>200ME60356N90866</td>\n",
       "      <td>edif_ensino</td>\n",
       "      <td>amenity</td>\n",
       "      <td>school</td>\n",
       "      <td>12291812</td>\n",
       "      <td>12291812.0</td>\n",
       "      <td>1</td>\n",
       "      <td>node/1830091373</td>\n",
       "      <td>...</td>\n",
       "      <td>0.259277</td>\n",
       "      <td>node/1830091373_1074621596400304</td>\n",
       "      <td>11240.0</td>\n",
       "      <td>node_1830091373</td>\n",
       "      <td>edif_ensino</td>\n",
       "      <td>amenity_school</td>\n",
       "      <td>ettan</td>\n",
       "      <td>e t t a n</td>\n",
       "      <td>c:\\DEV\\PhD_Thesis_Step3_OSM_Toponyms\\results\\6...</td>\n",
       "      <td>edif_ensino</td>\n",
       "    </tr>\n",
       "    <tr>\n",
       "      <th>13</th>\n",
       "      <td>13</td>\n",
       "      <td>POINT (-44.04469 -19.99034)</td>\n",
       "      <td>200ME60356N90866</td>\n",
       "      <td>edif_ensino</td>\n",
       "      <td>amenity</td>\n",
       "      <td>school</td>\n",
       "      <td>12291812</td>\n",
       "      <td>12291812.0</td>\n",
       "      <td>1</td>\n",
       "      <td>node/1830091373</td>\n",
       "      <td>...</td>\n",
       "      <td>0.396240</td>\n",
       "      <td>node/1830091373_2900608136921624</td>\n",
       "      <td>11255.0</td>\n",
       "      <td>node_1830091373</td>\n",
       "      <td>edif_ensino</td>\n",
       "      <td>amenity_school</td>\n",
       "      <td>es</td>\n",
       "      <td>e s</td>\n",
       "      <td>c:\\DEV\\PhD_Thesis_Step3_OSM_Toponyms\\results\\6...</td>\n",
       "      <td>edif_ensino</td>\n",
       "    </tr>\n",
       "    <tr>\n",
       "      <th>...</th>\n",
       "      <td>...</td>\n",
       "      <td>...</td>\n",
       "      <td>...</td>\n",
       "      <td>...</td>\n",
       "      <td>...</td>\n",
       "      <td>...</td>\n",
       "      <td>...</td>\n",
       "      <td>...</td>\n",
       "      <td>...</td>\n",
       "      <td>...</td>\n",
       "      <td>...</td>\n",
       "      <td>...</td>\n",
       "      <td>...</td>\n",
       "      <td>...</td>\n",
       "      <td>...</td>\n",
       "      <td>...</td>\n",
       "      <td>...</td>\n",
       "      <td>...</td>\n",
       "      <td>...</td>\n",
       "      <td>...</td>\n",
       "      <td>...</td>\n",
       "    </tr>\n",
       "    <tr>\n",
       "      <th>150273</th>\n",
       "      <td>29742</td>\n",
       "      <td>POINT (-43.98947 -19.84453)</td>\n",
       "      <td>200ME60420N91026</td>\n",
       "      <td>cbge_praca</td>\n",
       "      <td>leisure</td>\n",
       "      <td>park</td>\n",
       "      <td>74217699</td>\n",
       "      <td>95159631.0</td>\n",
       "      <td>None</td>\n",
       "      <td>way/556003068</td>\n",
       "      <td>...</td>\n",
       "      <td>0.771484</td>\n",
       "      <td>way/556003068_223260119237378</td>\n",
       "      <td>20027.0</td>\n",
       "      <td>node_5363657452</td>\n",
       "      <td>edif_turistica</td>\n",
       "      <td>tourism_viewpoint</td>\n",
       "      <td>is</td>\n",
       "      <td>i s</td>\n",
       "      <td>c:\\DEV\\PhD_Thesis_Step3_OSM_Toponyms\\results\\6...</td>\n",
       "      <td>cbge_praca</td>\n",
       "    </tr>\n",
       "    <tr>\n",
       "      <th>150332</th>\n",
       "      <td>29801</td>\n",
       "      <td>POINT (-43.98921 -19.84463)</td>\n",
       "      <td>200ME60420N91026</td>\n",
       "      <td>edif_turistica</td>\n",
       "      <td>tourism</td>\n",
       "      <td>viewpoint</td>\n",
       "      <td>55773766</td>\n",
       "      <td>55773766.0</td>\n",
       "      <td>1</td>\n",
       "      <td>node/5363657452</td>\n",
       "      <td>...</td>\n",
       "      <td>0.647461</td>\n",
       "      <td>node/5363657452_1143601826125378</td>\n",
       "      <td>20025.0</td>\n",
       "      <td>node_5363657452</td>\n",
       "      <td>edif_turistica</td>\n",
       "      <td>tourism_viewpoint</td>\n",
       "      <td>se</td>\n",
       "      <td>s e</td>\n",
       "      <td>c:\\DEV\\PhD_Thesis_Step3_OSM_Toponyms\\results\\6...</td>\n",
       "      <td>edif_turistica</td>\n",
       "    </tr>\n",
       "    <tr>\n",
       "      <th>150337</th>\n",
       "      <td>29806</td>\n",
       "      <td>POINT (-43.98889 -19.84489)</td>\n",
       "      <td>200ME60420N91026</td>\n",
       "      <td>edif_turistica</td>\n",
       "      <td>tourism</td>\n",
       "      <td>viewpoint</td>\n",
       "      <td>55773766</td>\n",
       "      <td>55773766.0</td>\n",
       "      <td>1</td>\n",
       "      <td>node/5363657452</td>\n",
       "      <td>...</td>\n",
       "      <td>0.884277</td>\n",
       "      <td>node/5363657452_1183758152100706</td>\n",
       "      <td>20026.0</td>\n",
       "      <td>node_5363657452</td>\n",
       "      <td>edif_turistica</td>\n",
       "      <td>tourism_viewpoint</td>\n",
       "      <td>des</td>\n",
       "      <td>d e s</td>\n",
       "      <td>c:\\DEV\\PhD_Thesis_Step3_OSM_Toponyms\\results\\6...</td>\n",
       "      <td>edif_turistica</td>\n",
       "    </tr>\n",
       "    <tr>\n",
       "      <th>150356</th>\n",
       "      <td>29825</td>\n",
       "      <td>POINT (-43.98947 -19.84453)</td>\n",
       "      <td>200ME60420N91026</td>\n",
       "      <td>edif_turistica</td>\n",
       "      <td>tourism</td>\n",
       "      <td>viewpoint</td>\n",
       "      <td>55773766</td>\n",
       "      <td>55773766.0</td>\n",
       "      <td>1</td>\n",
       "      <td>node/5363657452</td>\n",
       "      <td>...</td>\n",
       "      <td>0.462891</td>\n",
       "      <td>node/5363657452_223260119237378</td>\n",
       "      <td>20027.0</td>\n",
       "      <td>node_5363657452</td>\n",
       "      <td>edif_turistica</td>\n",
       "      <td>tourism_viewpoint</td>\n",
       "      <td>is</td>\n",
       "      <td>i s</td>\n",
       "      <td>c:\\DEV\\PhD_Thesis_Step3_OSM_Toponyms\\results\\6...</td>\n",
       "      <td>edif_turistica</td>\n",
       "    </tr>\n",
       "    <tr>\n",
       "      <th>150396</th>\n",
       "      <td>29865</td>\n",
       "      <td>POINT (-43.98970 -19.84435)</td>\n",
       "      <td>200ME60420N91026</td>\n",
       "      <td>edif_turistica</td>\n",
       "      <td>tourism</td>\n",
       "      <td>viewpoint</td>\n",
       "      <td>55773766</td>\n",
       "      <td>55773766.0</td>\n",
       "      <td>1</td>\n",
       "      <td>node/5363657452</td>\n",
       "      <td>...</td>\n",
       "      <td>0.417969</td>\n",
       "      <td>node/5363657452_389831545904464</td>\n",
       "      <td>20028.0</td>\n",
       "      <td>node_5363657452</td>\n",
       "      <td>edif_turistica</td>\n",
       "      <td>tourism_viewpoint</td>\n",
       "      <td>ka</td>\n",
       "      <td>k a</td>\n",
       "      <td>c:\\DEV\\PhD_Thesis_Step3_OSM_Toponyms\\results\\6...</td>\n",
       "      <td>edif_turistica</td>\n",
       "    </tr>\n",
       "  </tbody>\n",
       "</table>\n",
       "<p>28526 rows × 248 columns</p>\n",
       "</div>"
      ],
      "text/plain": [
       "        index_x                     geometry         id_celula  \\\n",
       "2             2  POINT (-44.04470 -19.99031)  200ME60356N90866   \n",
       "6             6  POINT (-44.04476 -19.99037)  200ME60356N90866   \n",
       "9             9  POINT (-44.04462 -19.99025)  200ME60356N90866   \n",
       "11           11  POINT (-44.04463 -19.99027)  200ME60356N90866   \n",
       "13           13  POINT (-44.04469 -19.99034)  200ME60356N90866   \n",
       "...         ...                          ...               ...   \n",
       "150273    29742  POINT (-43.98947 -19.84453)  200ME60420N91026   \n",
       "150332    29801  POINT (-43.98921 -19.84463)  200ME60420N91026   \n",
       "150337    29806  POINT (-43.98889 -19.84489)  200ME60420N91026   \n",
       "150356    29825  POINT (-43.98947 -19.84453)  200ME60420N91026   \n",
       "150396    29865  POINT (-43.98970 -19.84435)  200ME60420N91026   \n",
       "\n",
       "              classe_x      tag      value  @changesetId  \\\n",
       "2          edif_ensino  amenity     school      12291812   \n",
       "6          edif_ensino  amenity     school      12291812   \n",
       "9          edif_ensino  amenity     school      12291812   \n",
       "11         edif_ensino  amenity     school      12291812   \n",
       "13         edif_ensino  amenity     school      12291812   \n",
       "...                ...      ...        ...           ...   \n",
       "150273      cbge_praca  leisure       park      74217699   \n",
       "150332  edif_turistica  tourism  viewpoint      55773766   \n",
       "150337  edif_turistica  tourism  viewpoint      55773766   \n",
       "150356  edif_turistica  tourism  viewpoint      55773766   \n",
       "150396  edif_turistica  tourism  viewpoint      55773766   \n",
       "\n",
       "        @contributionChangesetId @creation           @osmId  ...     score  \\\n",
       "2                     12291812.0         1  node/1830091373  ...  0.592773   \n",
       "6                     12291812.0         1  node/1830091373  ...  0.365479   \n",
       "9                     12291812.0         1  node/1830091373  ...  0.407715   \n",
       "11                    12291812.0         1  node/1830091373  ...  0.259277   \n",
       "13                    12291812.0         1  node/1830091373  ...  0.396240   \n",
       "...                          ...       ...              ...  ...       ...   \n",
       "150273                95159631.0      None    way/556003068  ...  0.771484   \n",
       "150332                55773766.0         1  node/5363657452  ...  0.647461   \n",
       "150337                55773766.0         1  node/5363657452  ...  0.884277   \n",
       "150356                55773766.0         1  node/5363657452  ...  0.462891   \n",
       "150396                55773766.0         1  node/5363657452  ...  0.417969   \n",
       "\n",
       "                              unique_key  index_y  osmId_formatado  \\\n",
       "2        node/1830091373_982441749168567  11289.0  node_1830091373   \n",
       "6        node/1830091373_775809203082616  11287.0  node_1830091373   \n",
       "9        node/1830091373_354746259401102  11264.0  node_1830091373   \n",
       "11      node/1830091373_1074621596400304  11240.0  node_1830091373   \n",
       "13      node/1830091373_2900608136921624  11255.0  node_1830091373   \n",
       "...                                  ...      ...              ...   \n",
       "150273     way/556003068_223260119237378  20027.0  node_5363657452   \n",
       "150332  node/5363657452_1143601826125378  20025.0  node_5363657452   \n",
       "150337  node/5363657452_1183758152100706  20026.0  node_5363657452   \n",
       "150356   node/5363657452_223260119237378  20027.0  node_5363657452   \n",
       "150396   node/5363657452_389831545904464  20028.0  node_5363657452   \n",
       "\n",
       "              classe_y          tag_value words_sli  texto_sli  \\\n",
       "2          edif_ensino     amenity_school       ses      s e s   \n",
       "6          edif_ensino     amenity_school     plris  p l r i s   \n",
       "9          edif_ensino     amenity_school        ie        i e   \n",
       "11         edif_ensino     amenity_school     ettan  e t t a n   \n",
       "13         edif_ensino     amenity_school        es        e s   \n",
       "...                ...                ...       ...        ...   \n",
       "150273  edif_turistica  tourism_viewpoint        is        i s   \n",
       "150332  edif_turistica  tourism_viewpoint        se        s e   \n",
       "150337  edif_turistica  tourism_viewpoint       des      d e s   \n",
       "150356  edif_turistica  tourism_viewpoint        is        i s   \n",
       "150396  edif_turistica  tourism_viewpoint        ka        k a   \n",
       "\n",
       "                                                path_crop          classe  \n",
       "2       c:\\DEV\\PhD_Thesis_Step3_OSM_Toponyms\\results\\6...     edif_ensino  \n",
       "6       c:\\DEV\\PhD_Thesis_Step3_OSM_Toponyms\\results\\6...     edif_ensino  \n",
       "9       c:\\DEV\\PhD_Thesis_Step3_OSM_Toponyms\\results\\6...     edif_ensino  \n",
       "11      c:\\DEV\\PhD_Thesis_Step3_OSM_Toponyms\\results\\6...     edif_ensino  \n",
       "13      c:\\DEV\\PhD_Thesis_Step3_OSM_Toponyms\\results\\6...     edif_ensino  \n",
       "...                                                   ...             ...  \n",
       "150273  c:\\DEV\\PhD_Thesis_Step3_OSM_Toponyms\\results\\6...      cbge_praca  \n",
       "150332  c:\\DEV\\PhD_Thesis_Step3_OSM_Toponyms\\results\\6...  edif_turistica  \n",
       "150337  c:\\DEV\\PhD_Thesis_Step3_OSM_Toponyms\\results\\6...  edif_turistica  \n",
       "150356  c:\\DEV\\PhD_Thesis_Step3_OSM_Toponyms\\results\\6...  edif_turistica  \n",
       "150396  c:\\DEV\\PhD_Thesis_Step3_OSM_Toponyms\\results\\6...  edif_turistica  \n",
       "\n",
       "[28526 rows x 248 columns]"
      ]
     },
     "metadata": {},
     "output_type": "display_data"
    }
   ],
   "source": [
    "# Manter apenas registros onde texto foi extraído\n",
    "gdf_detected = gdf_merged_upd[gdf_merged_upd[\"path_crop\"].notna()].copy()\n",
    "display(gdf_detected)"
   ]
  },
  {
   "cell_type": "code",
   "execution_count": null,
   "metadata": {},
   "outputs": [
    {
     "name": "stdout",
     "output_type": "stream",
     "text": [
      "[OK] GeoPackage 'detected' salvo em results/6_YOLO_KerasOCR_results/mpl\\mpl_ocr_results_clip_detected.gpkg com 28526 registros\n"
     ]
    }
   ],
   "source": [
    "# Salvar geopackge (mpl_ocr_results_clip) só com detectados\n",
    "# Caminho do GeoPackage de saída\n",
    "base = os.getcwd()\n",
    "out_dir = \"results/6_YOLO_KerasOCR_results/mpl\"\n",
    "\n",
    "out_gpkg_detected = os.path.join(out_dir, \"mpl_ocr_results_merged_clipMatches.gpkg\")\n",
    "\n",
    "gdf_detected.to_file(out_gpkg_detected, driver=\"GPKG\")\n",
    "print(f\"[OK] GeoPackage 'detected' salvo em {out_gpkg_detected} com {len(gdf_detected)} registros\")"
   ]
  }
 ],
 "metadata": {
  "accelerator": "GPU",
  "colab": {
   "authorship_tag": "ABX9TyPEVxC4nh0e+VTR2Fly/8mM",
   "collapsed_sections": [
    "ACqW7gnjnipC"
   ],
   "gpuType": "T4",
   "provenance": []
  },
  "kernelspec": {
   "display_name": "env-GeoPython-ia",
   "language": "python",
   "name": "python3"
  },
  "language_info": {
   "codemirror_mode": {
    "name": "ipython",
    "version": 3
   },
   "file_extension": ".py",
   "mimetype": "text/x-python",
   "name": "python",
   "nbconvert_exporter": "python",
   "pygments_lexer": "ipython3",
   "version": "3.9.19"
  }
 },
 "nbformat": 4,
 "nbformat_minor": 0
}
