{
 "cells": [
  {
   "cell_type": "code",
   "execution_count": 2,
   "id": "860fe2ca",
   "metadata": {},
   "outputs": [],
   "source": [
    "# Import library and some pre-installed modules\n",
    "import os\n",
    "from IPython.display import display, Markdown"
   ]
  },
  {
   "cell_type": "code",
   "execution_count": 3,
   "id": "fd310426",
   "metadata": {},
   "outputs": [],
   "source": [
    "# Sets the root directory of the project as the working directory\n",
    "os.chdir('..')"
   ]
  },
  {
   "cell_type": "code",
   "execution_count": 4,
   "id": "36379e0d",
   "metadata": {},
   "outputs": [
    {
     "data": {
      "text/plain": [
       "'/Users/darlanmnunes/Dev/DSc_git/PhD_Thesis_Step3_OSM_Toponyms'"
      ]
     },
     "execution_count": 4,
     "metadata": {},
     "output_type": "execute_result"
    }
   ],
   "source": [
    "# Get current working directory\n",
    "os.getcwd()\n"
   ]
  },
  {
   "cell_type": "markdown",
   "id": "7e705ee5",
   "metadata": {},
   "source": [
    "## Import the modules"
   ]
  },
  {
   "cell_type": "code",
   "execution_count": 14,
   "id": "5b5adb60",
   "metadata": {},
   "outputs": [
    {
     "data": {
      "text/plain": [
       "<module 'src.processar_com_ohsome' from '/Users/darlanmnunes/Dev/DSc_git/PhD_Thesis_Step3_OSM_Toponyms/src/processar_com_ohsome.py'>"
      ]
     },
     "execution_count": 14,
     "metadata": {},
     "output_type": "execute_result"
    }
   ],
   "source": [
    "# Reload the utils and processar_com_overpass modules to ensure any changes are reflected\n",
    "import importlib\n",
    "import sys\n",
    "\n",
    "import src.utils as utils\n",
    "import src.processar_com_overpass as processar_com_overpass\n",
    "import src.processar_com_ohsome as processar_com_ohsome\n",
    "\n",
    "importlib.reload(utils)\n",
    "importlib.reload(processar_com_overpass)\n",
    "importlib.reload(processar_com_ohsome)\n",
    "\n",
    "#Alternativa\n",
    "#importlib.reload(sys.modules[\"src.utils\"])\n",
    "#importlib.reload(sys.modules[\"src.processar_com_overpass\"])\n",
    "#importlib.reload(sys.modules[\"src.processar_com_ohsome\"])"
   ]
  },
  {
   "cell_type": "markdown",
   "id": "7671b8df",
   "metadata": {},
   "source": [
    "## Retrieving data from OpenStreetMap using APIs"
   ]
  },
  {
   "cell_type": "markdown",
   "id": "203e6467",
   "metadata": {},
   "source": [
    "### Define ET-EDGV class dictionary with respective OSM tags"
   ]
  },
  {
   "cell_type": "code",
   "execution_count": 6,
   "id": "e0bb9e44",
   "metadata": {},
   "outputs": [
    {
     "data": {
      "text/plain": [
       "{'edif_ensino': [('amenity', 'school'),\n",
       "  ('amenity', 'university'),\n",
       "  ('building', 'school'),\n",
       "  ('amenity', 'kindergarten')],\n",
       " 'edif_saude': [('amenity', 'hospital'),\n",
       "  ('amenity', 'clinic'),\n",
       "  ('building', 'hospital'),\n",
       "  ('amenity', 'doctors'),\n",
       "  ('amenity', 'dentist'),\n",
       "  ('healthcare', '*')],\n",
       " 'edif_desenv_social': [('amenity', 'social_facility'),\n",
       "  ('building', 'public'),\n",
       "  ('social_facility', '*')],\n",
       " 'edif_constr_lazer': [('leisure', 'park'),\n",
       "  ('leisure', 'sports_centre'),\n",
       "  ('leisure', 'stadium'),\n",
       "  ('amenity', 'theatre'),\n",
       "  ('amenity', 'library'),\n",
       "  ('amenity', 'community_centre'),\n",
       "  ('amenity', 'arts_centre'),\n",
       "  ('amenity', 'planetarium'),\n",
       "  ('building', 'grandstand'),\n",
       "  ('building', 'stadium'),\n",
       "  ('tourism', 'museum')],\n",
       " 'edif_pub_civil': [('building', 'public'),\n",
       "  ('amenity', 'townhall'),\n",
       "  ('office', 'government')],\n",
       " 'edif_turistica': [('tourism', 'attraction'),\n",
       "  ('tourism', 'artwork'),\n",
       "  ('tourism', 'viewpoint'),\n",
       "  ('amenity', 'fountain'),\n",
       "  ('building', 'hotel')],\n",
       " 'edif_metro_ferroviaria': [('railway', 'station'),\n",
       "  ('railway', 'halt'),\n",
       "  ('building', 'train_station'),\n",
       "  ('public_transport', 'station')]}"
      ]
     },
     "execution_count": 6,
     "metadata": {},
     "output_type": "execute_result"
    }
   ],
   "source": [
    "# Novo dicionário de classes ET-EDGV com respectivas tags OSM\n",
    "classe_et_edgv_to_tags = {\n",
    "    'edif_ensino': [\n",
    "        ('amenity', 'school'), ('amenity', 'university'),\n",
    "        ('building', 'school'), ('amenity', 'kindergarten')\n",
    "    ],\n",
    "    'edif_saude': [\n",
    "        ('amenity', 'hospital'), ('amenity', 'clinic'),\n",
    "        ('building', 'hospital'), ('amenity', 'doctors'),\n",
    "        ('amenity', 'dentist'), ('healthcare', '*')\n",
    "    ],\n",
    "    'edif_desenv_social': [\n",
    "        ('amenity', 'social_facility'), ('building', 'public'),\n",
    "        ('social_facility', '*')\n",
    "    ],\n",
    "    'edif_constr_lazer': [\n",
    "        ('leisure', 'park'), ('leisure', 'sports_centre'),\n",
    "        ('leisure', 'stadium'), ('amenity', 'theatre'),\n",
    "        ('amenity', 'library'), ('amenity', 'community_centre'),\n",
    "        ('amenity', 'arts_centre'), ('amenity', 'planetarium'),\n",
    "        ('building', 'grandstand'), ('building', 'stadium'),\n",
    "        ('tourism', 'museum')\n",
    "    ],\n",
    "    'edif_pub_civil': [\n",
    "        ('building', 'public'), ('amenity', 'townhall'),\n",
    "        ('office', 'government')\n",
    "    ],\n",
    "    'edif_turistica': [\n",
    "        ('tourism', 'attraction'), ('tourism', 'artwork'),\n",
    "        ('tourism', 'viewpoint'), ('amenity', 'fountain'),\n",
    "        ('building', 'hotel')\n",
    "    ],\n",
    "    'edif_metro_ferroviaria': [\n",
    "        ('railway', 'station'), ('railway', 'halt'),\n",
    "        ('building', 'train_station'), ('public_transport', 'station')\n",
    "    ]\n",
    "}\n",
    "classe_et_edgv_to_tags"
   ]
  },
  {
   "cell_type": "markdown",
   "id": "6f64442c",
   "metadata": {},
   "source": [
    "### Step 7 - Retrieval of the last toponyms by the most recent feature"
   ]
  },
  {
   "cell_type": "markdown",
   "id": "e3cdb58d",
   "metadata": {},
   "source": [
    "#### PostGIS - Open the database connection"
   ]
  },
  {
   "cell_type": "code",
   "execution_count": 7,
   "id": "b10b2d8f",
   "metadata": {},
   "outputs": [],
   "source": [
    "# Conexão ao Banco PostGIS\n",
    "import psycopg2\n",
    "\n",
    "# Function to load database credentials from a text file\n",
    "def load_credentials_from_txt(file_path):\n",
    "    credentials = {}\n",
    "    try:\n",
    "        with open(file_path, 'r') as f:\n",
    "            for line in f:\n",
    "                if '=' in line:\n",
    "                    key, value = line.strip().split('=', 1)\n",
    "                    credentials[key.strip()] = value.strip()\n",
    "    except FileNotFoundError:\n",
    "        print(f\"Arquivo de credenciais não encontrado: {file_path}\")\n",
    "    except Exception as e:\n",
    "        print(f\"Erro ao ler credenciais: {e}\")\n",
    "    return credentials\n",
    "\n",
    "def connect_to_postgis(txt_path='configs/db_credentials.txt'):\n",
    "    creds = load_credentials_from_txt(txt_path)\n",
    "\n",
    "    required_keys = ['DB_NAME', 'DB_USER', 'DB_PASSWORD', 'DB_HOST', 'DB_PORT']\n",
    "    if not all(k in creds for k in required_keys):\n",
    "        print(\"Credenciais incompletas no arquivo de configuração.\")\n",
    "        return None\n",
    "\n",
    "    try:\n",
    "        conn = psycopg2.connect(\n",
    "            dbname=creds['DB_NAME'],\n",
    "            user=creds['DB_USER'],\n",
    "            password=creds['DB_PASSWORD'],\n",
    "            host=creds['DB_HOST'],\n",
    "            port=creds['DB_PORT']\n",
    "        )\n",
    "        print(\"Conexão ao PostGIS estabelecida com sucesso!\")\n",
    "        return conn\n",
    "\n",
    "    except Exception as e:\n",
    "        print(f\" Erro ao conectar ao PostGIS: {e}\")\n",
    "        return None"
   ]
  },
  {
   "cell_type": "code",
   "execution_count": 8,
   "id": "e5ec3843",
   "metadata": {},
   "outputs": [
    {
     "name": "stdout",
     "output_type": "stream",
     "text": [
      "Conexão ao PostGIS estabelecida com sucesso!\n"
     ]
    }
   ],
   "source": [
    "# Open the database connection\n",
    "conn = connect_to_postgis()"
   ]
  },
  {
   "cell_type": "markdown",
   "id": "7004a37a",
   "metadata": {},
   "source": [
    "#### Filter grid cells from the database with name_ratio > 0\n",
    "\n",
    " * Pré-filtragem SQL\n",
    " * Garantir que pelo menos uma classe tem name_ratio > 0 para cada célula da grade\n"
   ]
  },
  {
   "cell_type": "code",
   "execution_count": 10,
   "id": "685267f7",
   "metadata": {},
   "outputs": [],
   "source": [
    "# Function to fetch valid grid cells from the database\n",
    "from shapely import wkt\n",
    "import pandas as pd\n",
    "import geopandas as gpd\n",
    "\n",
    "def fetch_geometries_psycopg2(conn, classe_et_edgv_to_tags, table_name):\n",
    "    \"\"\"\n",
    "    Recupera geometrias do PostGIS com base nos filtros name_ratio > 0 usando psycopg2.\n",
    "    Retorna um GeoDataFrame.\n",
    "    \"\"\"\n",
    "    try:\n",
    "        # Garante que qualquer erro anterior seja limpo\n",
    "        conn.rollback()\n",
    "\n",
    "        # Monta cláusula WHERE\n",
    "        where_clause = \" OR \".join([\n",
    "            f\"step1_consolidado_{classe}_name_ratio > 0\" for classe in classe_et_edgv_to_tags\n",
    "        ])\n",
    "\n",
    "        query = f\"\"\"\n",
    "            SELECT *, ST_AsText(geom) AS wkt_geom\n",
    "            FROM public.{table_name}\n",
    "            WHERE {where_clause}\n",
    "        \"\"\"\n",
    "\n",
    "        with conn.cursor() as cur:\n",
    "            cur.execute(query)\n",
    "            colnames = [desc[0] for desc in cur.description]\n",
    "            rows = cur.fetchall()\n",
    "\n",
    "        # Monta DataFrame\n",
    "        df = pd.DataFrame(rows, columns=colnames)\n",
    "\n",
    "        # Converte geometria WKT em shapely\n",
    "        df[\"geometry\"] = df[\"wkt_geom\"].apply(wkt.loads)\n",
    "        gdf = gpd.GeoDataFrame(df.drop(columns=[\"wkt_geom\"]), geometry=\"geometry\")\n",
    "\n",
    "        # Define CRS padrão\n",
    "        gdf.set_crs(epsg=4674, inplace=True)\n",
    "\n",
    "        print(f\"Consulta retornou {len(gdf)} registros.\")\n",
    "        return gdf\n",
    "\n",
    "    except psycopg2.Error as e:\n",
    "        conn.rollback()\n",
    "        print(\"Erro ao executar a consulta SQL:\")\n",
    "        print(e.pgerror)\n",
    "        raise"
   ]
  },
  {
   "cell_type": "code",
   "execution_count": 11,
   "id": "027cfb70",
   "metadata": {},
   "outputs": [
    {
     "name": "stdout",
     "output_type": "stream",
     "text": [
      "Consulta retornou 2265 registros.\n"
     ]
    },
    {
     "data": {
      "text/html": [
       "<div>\n",
       "<style scoped>\n",
       "    .dataframe tbody tr th:only-of-type {\n",
       "        vertical-align: middle;\n",
       "    }\n",
       "\n",
       "    .dataframe tbody tr th {\n",
       "        vertical-align: top;\n",
       "    }\n",
       "\n",
       "    .dataframe thead th {\n",
       "        text-align: right;\n",
       "    }\n",
       "</style>\n",
       "<table border=\"1\" class=\"dataframe\">\n",
       "  <thead>\n",
       "    <tr style=\"text-align: right;\">\n",
       "      <th></th>\n",
       "      <th>id</th>\n",
       "      <th>geom</th>\n",
       "      <th>fid</th>\n",
       "      <th>POP10</th>\n",
       "      <th>step1_consolidado_edif_ensino_total_count</th>\n",
       "      <th>step1_consolidado_edif_ensino_name_count</th>\n",
       "      <th>step1_consolidado_edif_ensino_name_ratio</th>\n",
       "      <th>step1_consolidado_edif_saude_total_count</th>\n",
       "      <th>step1_consolidado_edif_saude_name_count</th>\n",
       "      <th>step1_consolidado_edif_saude_name_ratio</th>\n",
       "      <th>...</th>\n",
       "      <th>step6_consolidado_edif_metro_ferroviaria_sigmoid_pct_erro</th>\n",
       "      <th>step6_consolidado_edif_metro_ferroviaria_sigmoid_a</th>\n",
       "      <th>step6_consolidado_edif_metro_ferroviaria_sigmoid_b</th>\n",
       "      <th>step6_consolidado_edif_metro_ferroviaria_sigmoid_c</th>\n",
       "      <th>step6_consolidado_edif_metro_ferroviaria_sigmoid_d</th>\n",
       "      <th>step6_consolidado_edif_metro_ferroviaria_inflexao_idx</th>\n",
       "      <th>step6_consolidado_edif_metro_ferroviaria_inflexao_data</th>\n",
       "      <th>step6_consolidado_edif_metro_ferroviaria_sigmoid_fit_overflow</th>\n",
       "      <th>step6_consolidado_edif_metro_ferroviaria_dias_desde_inflexao</th>\n",
       "      <th>geometry</th>\n",
       "    </tr>\n",
       "  </thead>\n",
       "  <tbody>\n",
       "    <tr>\n",
       "      <th>0</th>\n",
       "      <td>200ME60338N90882</td>\n",
       "      <td>0106000020421200000100000001030000000100000005...</td>\n",
       "      <td>1</td>\n",
       "      <td>345</td>\n",
       "      <td>0.0</td>\n",
       "      <td>0.0</td>\n",
       "      <td>0.0</td>\n",
       "      <td>0.0</td>\n",
       "      <td>0.0</td>\n",
       "      <td>0.0</td>\n",
       "      <td>...</td>\n",
       "      <td>NaN</td>\n",
       "      <td>NaN</td>\n",
       "      <td>NaN</td>\n",
       "      <td>NaN</td>\n",
       "      <td>NaN</td>\n",
       "      <td>NaN</td>\n",
       "      <td>None</td>\n",
       "      <td>None</td>\n",
       "      <td>NaN</td>\n",
       "      <td>MULTIPOLYGON (((-44.06371 -19.97798, -44.06378...</td>\n",
       "    </tr>\n",
       "    <tr>\n",
       "      <th>1</th>\n",
       "      <td>200ME60346N90862</td>\n",
       "      <td>0106000020421200000100000001030000000100000005...</td>\n",
       "      <td>8</td>\n",
       "      <td>202</td>\n",
       "      <td>1.0</td>\n",
       "      <td>1.0</td>\n",
       "      <td>100.0</td>\n",
       "      <td>0.0</td>\n",
       "      <td>0.0</td>\n",
       "      <td>0.0</td>\n",
       "      <td>...</td>\n",
       "      <td>NaN</td>\n",
       "      <td>NaN</td>\n",
       "      <td>NaN</td>\n",
       "      <td>NaN</td>\n",
       "      <td>NaN</td>\n",
       "      <td>NaN</td>\n",
       "      <td>None</td>\n",
       "      <td>None</td>\n",
       "      <td>NaN</td>\n",
       "      <td>MULTIPOLYGON (((-44.05535 -19.99568, -44.05542...</td>\n",
       "    </tr>\n",
       "    <tr>\n",
       "      <th>2</th>\n",
       "      <td>200ME60348N90862</td>\n",
       "      <td>0106000020421200000100000001030000000100000005...</td>\n",
       "      <td>9</td>\n",
       "      <td>525</td>\n",
       "      <td>1.0</td>\n",
       "      <td>1.0</td>\n",
       "      <td>100.0</td>\n",
       "      <td>0.0</td>\n",
       "      <td>0.0</td>\n",
       "      <td>0.0</td>\n",
       "      <td>...</td>\n",
       "      <td>NaN</td>\n",
       "      <td>NaN</td>\n",
       "      <td>NaN</td>\n",
       "      <td>NaN</td>\n",
       "      <td>NaN</td>\n",
       "      <td>NaN</td>\n",
       "      <td>None</td>\n",
       "      <td>None</td>\n",
       "      <td>NaN</td>\n",
       "      <td>MULTIPOLYGON (((-44.05343 -19.99561, -44.05350...</td>\n",
       "    </tr>\n",
       "    <tr>\n",
       "      <th>3</th>\n",
       "      <td>200ME60346N90864</td>\n",
       "      <td>0106000020421200000100000001030000000100000005...</td>\n",
       "      <td>11</td>\n",
       "      <td>349</td>\n",
       "      <td>1.0</td>\n",
       "      <td>1.0</td>\n",
       "      <td>100.0</td>\n",
       "      <td>0.0</td>\n",
       "      <td>0.0</td>\n",
       "      <td>0.0</td>\n",
       "      <td>...</td>\n",
       "      <td>NaN</td>\n",
       "      <td>NaN</td>\n",
       "      <td>NaN</td>\n",
       "      <td>NaN</td>\n",
       "      <td>NaN</td>\n",
       "      <td>NaN</td>\n",
       "      <td>None</td>\n",
       "      <td>None</td>\n",
       "      <td>NaN</td>\n",
       "      <td>MULTIPOLYGON (((-44.05542 -19.99388, -44.05548...</td>\n",
       "    </tr>\n",
       "    <tr>\n",
       "      <th>4</th>\n",
       "      <td>200ME60348N90864</td>\n",
       "      <td>0106000020421200000100000001030000000100000005...</td>\n",
       "      <td>12</td>\n",
       "      <td>500</td>\n",
       "      <td>0.0</td>\n",
       "      <td>0.0</td>\n",
       "      <td>0.0</td>\n",
       "      <td>0.0</td>\n",
       "      <td>0.0</td>\n",
       "      <td>0.0</td>\n",
       "      <td>...</td>\n",
       "      <td>NaN</td>\n",
       "      <td>NaN</td>\n",
       "      <td>NaN</td>\n",
       "      <td>NaN</td>\n",
       "      <td>NaN</td>\n",
       "      <td>NaN</td>\n",
       "      <td>None</td>\n",
       "      <td>None</td>\n",
       "      <td>NaN</td>\n",
       "      <td>MULTIPOLYGON (((-44.05350 -19.99382, -44.05356...</td>\n",
       "    </tr>\n",
       "  </tbody>\n",
       "</table>\n",
       "<p>5 rows × 103 columns</p>\n",
       "</div>"
      ],
      "text/plain": [
       "                 id                                               geom  fid  \\\n",
       "0  200ME60338N90882  0106000020421200000100000001030000000100000005...    1   \n",
       "1  200ME60346N90862  0106000020421200000100000001030000000100000005...    8   \n",
       "2  200ME60348N90862  0106000020421200000100000001030000000100000005...    9   \n",
       "3  200ME60346N90864  0106000020421200000100000001030000000100000005...   11   \n",
       "4  200ME60348N90864  0106000020421200000100000001030000000100000005...   12   \n",
       "\n",
       "   POP10  step1_consolidado_edif_ensino_total_count  \\\n",
       "0    345                                        0.0   \n",
       "1    202                                        1.0   \n",
       "2    525                                        1.0   \n",
       "3    349                                        1.0   \n",
       "4    500                                        0.0   \n",
       "\n",
       "   step1_consolidado_edif_ensino_name_count  \\\n",
       "0                                       0.0   \n",
       "1                                       1.0   \n",
       "2                                       1.0   \n",
       "3                                       1.0   \n",
       "4                                       0.0   \n",
       "\n",
       "   step1_consolidado_edif_ensino_name_ratio  \\\n",
       "0                                       0.0   \n",
       "1                                     100.0   \n",
       "2                                     100.0   \n",
       "3                                     100.0   \n",
       "4                                       0.0   \n",
       "\n",
       "   step1_consolidado_edif_saude_total_count  \\\n",
       "0                                       0.0   \n",
       "1                                       0.0   \n",
       "2                                       0.0   \n",
       "3                                       0.0   \n",
       "4                                       0.0   \n",
       "\n",
       "   step1_consolidado_edif_saude_name_count  \\\n",
       "0                                      0.0   \n",
       "1                                      0.0   \n",
       "2                                      0.0   \n",
       "3                                      0.0   \n",
       "4                                      0.0   \n",
       "\n",
       "   step1_consolidado_edif_saude_name_ratio  ...  \\\n",
       "0                                      0.0  ...   \n",
       "1                                      0.0  ...   \n",
       "2                                      0.0  ...   \n",
       "3                                      0.0  ...   \n",
       "4                                      0.0  ...   \n",
       "\n",
       "   step6_consolidado_edif_metro_ferroviaria_sigmoid_pct_erro  \\\n",
       "0                                                NaN           \n",
       "1                                                NaN           \n",
       "2                                                NaN           \n",
       "3                                                NaN           \n",
       "4                                                NaN           \n",
       "\n",
       "   step6_consolidado_edif_metro_ferroviaria_sigmoid_a  \\\n",
       "0                                                NaN    \n",
       "1                                                NaN    \n",
       "2                                                NaN    \n",
       "3                                                NaN    \n",
       "4                                                NaN    \n",
       "\n",
       "   step6_consolidado_edif_metro_ferroviaria_sigmoid_b  \\\n",
       "0                                                NaN    \n",
       "1                                                NaN    \n",
       "2                                                NaN    \n",
       "3                                                NaN    \n",
       "4                                                NaN    \n",
       "\n",
       "   step6_consolidado_edif_metro_ferroviaria_sigmoid_c  \\\n",
       "0                                                NaN    \n",
       "1                                                NaN    \n",
       "2                                                NaN    \n",
       "3                                                NaN    \n",
       "4                                                NaN    \n",
       "\n",
       "   step6_consolidado_edif_metro_ferroviaria_sigmoid_d  \\\n",
       "0                                                NaN    \n",
       "1                                                NaN    \n",
       "2                                                NaN    \n",
       "3                                                NaN    \n",
       "4                                                NaN    \n",
       "\n",
       "   step6_consolidado_edif_metro_ferroviaria_inflexao_idx  \\\n",
       "0                                                NaN       \n",
       "1                                                NaN       \n",
       "2                                                NaN       \n",
       "3                                                NaN       \n",
       "4                                                NaN       \n",
       "\n",
       "   step6_consolidado_edif_metro_ferroviaria_inflexao_data  \\\n",
       "0                                               None        \n",
       "1                                               None        \n",
       "2                                               None        \n",
       "3                                               None        \n",
       "4                                               None        \n",
       "\n",
       "   step6_consolidado_edif_metro_ferroviaria_sigmoid_fit_overflow  \\\n",
       "0                                               None               \n",
       "1                                               None               \n",
       "2                                               None               \n",
       "3                                               None               \n",
       "4                                               None               \n",
       "\n",
       "   step6_consolidado_edif_metro_ferroviaria_dias_desde_inflexao  \\\n",
       "0                                                NaN              \n",
       "1                                                NaN              \n",
       "2                                                NaN              \n",
       "3                                                NaN              \n",
       "4                                                NaN              \n",
       "\n",
       "                                            geometry  \n",
       "0  MULTIPOLYGON (((-44.06371 -19.97798, -44.06378...  \n",
       "1  MULTIPOLYGON (((-44.05535 -19.99568, -44.05542...  \n",
       "2  MULTIPOLYGON (((-44.05343 -19.99561, -44.05350...  \n",
       "3  MULTIPOLYGON (((-44.05542 -19.99388, -44.05548...  \n",
       "4  MULTIPOLYGON (((-44.05350 -19.99382, -44.05356...  \n",
       "\n",
       "[5 rows x 103 columns]"
      ]
     },
     "metadata": {},
     "output_type": "display_data"
    }
   ],
   "source": [
    "# Get the valid grid cell (name_ratio>0)from the database using psycopg2\n",
    "gdf_cells_valid = fetch_geometries_psycopg2(conn, classe_et_edgv_to_tags, table_name=\"steps1e6_consolidado\")\n",
    "display(gdf_cells_valid.head())"
   ]
  },
  {
   "cell_type": "code",
   "execution_count": 12,
   "id": "a8ee135c",
   "metadata": {},
   "outputs": [
    {
     "data": {
      "text/plain": [
       "['id',\n",
       " 'geom',\n",
       " 'fid',\n",
       " 'POP10',\n",
       " 'step1_consolidado_edif_ensino_total_count',\n",
       " 'step1_consolidado_edif_ensino_name_count',\n",
       " 'step1_consolidado_edif_ensino_name_ratio',\n",
       " 'step1_consolidado_edif_saude_total_count',\n",
       " 'step1_consolidado_edif_saude_name_count',\n",
       " 'step1_consolidado_edif_saude_name_ratio',\n",
       " 'step1_consolidado_edif_desenv_social_total_count',\n",
       " 'step1_consolidado_edif_desenv_social_name_count',\n",
       " 'step1_consolidado_edif_desenv_social_name_ratio',\n",
       " 'step1_consolidado_edif_constr_lazer_total_count',\n",
       " 'step1_consolidado_edif_constr_lazer_name_count',\n",
       " 'step1_consolidado_edif_constr_lazer_name_ratio',\n",
       " 'step1_consolidado_edif_pub_civil_total_count',\n",
       " 'step1_consolidado_edif_pub_civil_name_count',\n",
       " 'step1_consolidado_edif_pub_civil_name_ratio',\n",
       " 'step1_consolidado_edif_turistica_total_count',\n",
       " 'step1_consolidado_edif_turistica_name_count',\n",
       " 'step1_consolidado_edif_turistica_name_ratio',\n",
       " 'step1_consolidado_edif_metro_ferroviaria_total_count',\n",
       " 'step1_consolidado_edif_metro_ferroviaria_name_count',\n",
       " 'step1_consolidado_edif_metro_ferroviaria_name_ratio',\n",
       " 'step6_consolidado_edif_ensino_contribuicoes_finais',\n",
       " 'step6_consolidado_edif_ensino_sigmoid_rmse',\n",
       " 'step6_consolidado_edif_ensino_sigmoid_pct_erro',\n",
       " 'step6_consolidado_edif_ensino_sigmoid_a',\n",
       " 'step6_consolidado_edif_ensino_sigmoid_b',\n",
       " 'step6_consolidado_edif_ensino_sigmoid_c',\n",
       " 'step6_consolidado_edif_ensino_sigmoid_d',\n",
       " 'step6_consolidado_edif_ensino_inflexao_idx',\n",
       " 'step6_consolidado_edif_ensino_inflexao_data',\n",
       " 'step6_consolidado_edif_ensino_sigmoid_fit_overflow',\n",
       " 'step6_consolidado_edif_ensino_dias_desde_inflexao',\n",
       " 'step6_consolidado_edif_saude_contribuicoes_finais',\n",
       " 'step6_consolidado_edif_saude_sigmoid_rmse',\n",
       " 'step6_consolidado_edif_saude_sigmoid_pct_erro',\n",
       " 'step6_consolidado_edif_saude_sigmoid_a',\n",
       " 'step6_consolidado_edif_saude_sigmoid_b',\n",
       " 'step6_consolidado_edif_saude_sigmoid_c',\n",
       " 'step6_consolidado_edif_saude_sigmoid_d',\n",
       " 'step6_consolidado_edif_saude_inflexao_idx',\n",
       " 'step6_consolidado_edif_saude_inflexao_data',\n",
       " 'step6_consolidado_edif_saude_sigmoid_fit_overflow',\n",
       " 'step6_consolidado_edif_saude_dias_desde_inflexao',\n",
       " 'step6_consolidado_edif_desenv_social_contribuicoes_finais',\n",
       " 'step6_consolidado_edif_desenv_social_sigmoid_rmse',\n",
       " 'step6_consolidado_edif_desenv_social_sigmoid_pct_erro',\n",
       " 'step6_consolidado_edif_desenv_social_sigmoid_a',\n",
       " 'step6_consolidado_edif_desenv_social_sigmoid_b',\n",
       " 'step6_consolidado_edif_desenv_social_sigmoid_c',\n",
       " 'step6_consolidado_edif_desenv_social_sigmoid_d',\n",
       " 'step6_consolidado_edif_desenv_social_inflexao_idx',\n",
       " 'step6_consolidado_edif_desenv_social_inflexao_data',\n",
       " 'step6_consolidado_edif_desenv_social_sigmoid_fit_overflow',\n",
       " 'step6_consolidado_edif_desenv_social_dias_desde_inflexao',\n",
       " 'step6_consolidado_edif_constr_lazer_contribuicoes_finais',\n",
       " 'step6_consolidado_edif_constr_lazer_sigmoid_rmse',\n",
       " 'step6_consolidado_edif_constr_lazer_sigmoid_pct_erro',\n",
       " 'step6_consolidado_edif_constr_lazer_sigmoid_a',\n",
       " 'step6_consolidado_edif_constr_lazer_sigmoid_b',\n",
       " 'step6_consolidado_edif_constr_lazer_sigmoid_c',\n",
       " 'step6_consolidado_edif_constr_lazer_sigmoid_d',\n",
       " 'step6_consolidado_edif_constr_lazer_inflexao_idx',\n",
       " 'step6_consolidado_edif_constr_lazer_inflexao_data',\n",
       " 'step6_consolidado_edif_constr_lazer_sigmoid_fit_overflow',\n",
       " 'step6_consolidado_edif_constr_lazer_dias_desde_inflexao',\n",
       " 'step6_consolidado_edif_pub_civil_contribuicoes_finais',\n",
       " 'step6_consolidado_edif_pub_civil_sigmoid_rmse',\n",
       " 'step6_consolidado_edif_pub_civil_sigmoid_pct_erro',\n",
       " 'step6_consolidado_edif_pub_civil_sigmoid_a',\n",
       " 'step6_consolidado_edif_pub_civil_sigmoid_b',\n",
       " 'step6_consolidado_edif_pub_civil_sigmoid_c',\n",
       " 'step6_consolidado_edif_pub_civil_sigmoid_d',\n",
       " 'step6_consolidado_edif_pub_civil_inflexao_idx',\n",
       " 'step6_consolidado_edif_pub_civil_inflexao_data',\n",
       " 'step6_consolidado_edif_pub_civil_sigmoid_fit_overflow',\n",
       " 'step6_consolidado_edif_pub_civil_dias_desde_inflexao',\n",
       " 'step6_consolidado_edif_turistica_contribuicoes_finais',\n",
       " 'step6_consolidado_edif_turistica_sigmoid_rmse',\n",
       " 'step6_consolidado_edif_turistica_sigmoid_pct_erro',\n",
       " 'step6_consolidado_edif_turistica_sigmoid_a',\n",
       " 'step6_consolidado_edif_turistica_sigmoid_b',\n",
       " 'step6_consolidado_edif_turistica_sigmoid_c',\n",
       " 'step6_consolidado_edif_turistica_sigmoid_d',\n",
       " 'step6_consolidado_edif_turistica_inflexao_idx',\n",
       " 'step6_consolidado_edif_turistica_inflexao_data',\n",
       " 'step6_consolidado_edif_turistica_sigmoid_fit_overflow',\n",
       " 'step6_consolidado_edif_turistica_dias_desde_inflexao',\n",
       " 'step6_consolidado_edif_metro_ferroviaria_contribuicoes_finais',\n",
       " 'step6_consolidado_edif_metro_ferroviaria_sigmoid_rmse',\n",
       " 'step6_consolidado_edif_metro_ferroviaria_sigmoid_pct_erro',\n",
       " 'step6_consolidado_edif_metro_ferroviaria_sigmoid_a',\n",
       " 'step6_consolidado_edif_metro_ferroviaria_sigmoid_b',\n",
       " 'step6_consolidado_edif_metro_ferroviaria_sigmoid_c',\n",
       " 'step6_consolidado_edif_metro_ferroviaria_sigmoid_d',\n",
       " 'step6_consolidado_edif_metro_ferroviaria_inflexao_idx',\n",
       " 'step6_consolidado_edif_metro_ferroviaria_inflexao_data',\n",
       " 'step6_consolidado_edif_metro_ferroviaria_sigmoid_fit_overflow',\n",
       " 'step6_consolidado_edif_metro_ferroviaria_dias_desde_inflexao',\n",
       " 'geometry']"
      ]
     },
     "execution_count": 12,
     "metadata": {},
     "output_type": "execute_result"
    }
   ],
   "source": [
    "# Verifica se as colunas estão corretas\n",
    "gdf_cells_valid.columns.tolist()"
   ]
  },
  {
   "cell_type": "markdown",
   "id": "d4823a98",
   "metadata": {},
   "source": [
    "#### **Request last toponyms and metadata – OHSOME API**"
   ]
  },
  {
   "cell_type": "markdown",
   "id": "386beb1f",
   "metadata": {},
   "source": [
    "\n",
    "1. Conectar ao PostGIS para filtrar apenas células onde name_ratio > 0 para pelo menos uma classe.\n",
    "\n",
    "2. Pré-filtragem das por células das classe com as tags do dicionário classe_et_edgv_to_tags - aumentar performance.\n",
    "\n",
    "3. Para cada célula e classe com name_ratio > 0:\n",
    "\n",
    "  * Extrair bbox da célula válida;\n",
    "\n",
    "  * Uso do inflexao_data (step6) como início da janela temporal\n",
    "\n",
    "  * Fazer chamada A API OSHOME para para recuperar a contribuição mais recente com name=*\n",
    "    - Endpoint: POST /contributions/latest/geometry;\n",
    "\n",
    "  * Respeito à data de inflexão (step6_consolidado_{classe}_inflexao_data)\n",
    "\n",
    "  * Resgatar geometria (pontos) e metadados:\n",
    "    - Metadados: @timestamp, @osmId, tags, name.\n",
    "\n",
    "4. Paralelização por célula\n",
    "\n",
    "5. Log detalhado e consolidação final\n",
    "\n",
    "6. Salvar os resultados em GeoJSON incremental."
   ]
  },
  {
   "cell_type": "code",
   "execution_count": 13,
   "id": "afdb47c1",
   "metadata": {},
   "outputs": [
    {
     "name": "stdout",
     "output_type": "stream",
     "text": [
      "Dados recebidos:\n"
     ]
    },
    {
     "data": {
      "text/plain": [
       "{'attribution': {'url': 'https://ohsome.org/copyrights',\n",
       "  'text': '© OpenStreetMap contributors'},\n",
       " 'apiVersion': '1.10.4',\n",
       " 'timeout': 600.0,\n",
       " 'extractRegion': {'spatialExtent': {'type': 'Polygon',\n",
       "   'coordinates': [[[-180.0, -90.0],\n",
       "     [180.0, -90.0],\n",
       "     [180.0, 90.0],\n",
       "     [-180.0, 90.0],\n",
       "     [-180.0, -90.0]]]},\n",
       "  'temporalExtent': {'fromTimestamp': '2007-10-08T00:00:00Z',\n",
       "   'toTimestamp': '2025-04-06T13:00Z'},\n",
       "  'replicationSequenceNumber': 110142}}"
      ]
     },
     "metadata": {},
     "output_type": "display_data"
    }
   ],
   "source": [
    "# Fetch metadata from the ohsome API\n",
    "# This code fetches metadata from the ohsome API and handles potential JSON decoding errors.\n",
    "import requests\n",
    "\n",
    "URL = 'https://api.ohsome.org/v1/metadata'\n",
    "response = requests.get(URL)\n",
    "\n",
    "if response.status_code == 200:\n",
    "    try:\n",
    "        data = response.json()\n",
    "        print(\"Dados recebidos:\")\n",
    "        display(data)\n",
    "    except ValueError:\n",
    "        print(\"Erro ao decodificar JSON. Conteúdo bruto:\")\n",
    "        display(response.text)\n",
    "else:\n",
    "    display(f\"Erro HTTP {response.status_code}\")\n",
    "    print(\"Resposta:\")\n",
    "    display(response.text)"
   ]
  },
  {
   "cell_type": "markdown",
   "id": "9ae4b05b",
   "metadata": {},
   "source": [
    "##### Implementação sem módulos externos"
   ]
  },
  {
   "cell_type": "code",
   "execution_count": null,
   "id": "c02b9fcc",
   "metadata": {},
   "outputs": [],
   "source": [
    "# === STEP 7: Último topônimo OSM por classe usando a API OHSOME ===\n",
    "# Versão final com paralelização, logs, output GeoJSON e metadados completos\n",
    "\n",
    "# Sem módulos externos (Utils), apenas bibliotecas padrão e geopandas\n",
    "\n",
    "# === Import necessary libraries ===\n",
    "import requests\n",
    "import json\n",
    "from shapely.geometry import shape, mapping\n",
    "import time\n",
    "import math\n",
    "import csv\n",
    "from pathlib import Path\n",
    "import pandas as pd\n",
    "from concurrent.futures import ThreadPoolExecutor, as_completed\n",
    "from datetime import timedelta\n",
    "import threading\n",
    "from tqdm import tqdm\n",
    "import glob\n",
    "\n",
    "# === CONFIGURAÇÕES GERAIS ===\n",
    "output_dir = Path(\"data/output_code1/20cells_tests/step7_latest_name\")\n",
    "output_dir.mkdir(parents=True, exist_ok=True)\n",
    "\n",
    "log_path = output_dir / \"log_step7.csv\"\n",
    "ultimo_lote_path = output_dir / \"ultimo_lote_step7.txt\"\n",
    "url_ohsome_latest = \"https://api.ohsome.org/v1/contributions/latest/geometry\"\n",
    "\n",
    "# === INICIALIZAÇÃO DO LOG ===\n",
    "if not log_path.exists():\n",
    "    with open(log_path, 'w', newline='') as f:\n",
    "        csv.writer(f).writerow([\"lote\", \"mensagem\", \"timestamp\"])\n",
    "\n",
    "def log_mensagem(lote, mensagem):\n",
    "    timestamp = time.strftime('%Y-%m-%d %H:%M:%S')\n",
    "    with open(log_path, 'a', newline='') as f:\n",
    "        csv.writer(f).writerow([lote, mensagem, timestamp])\n",
    "\n",
    "# === KEEP ALIVE (com controle de término) ===\n",
    "# Flag global para controle\n",
    "keep_alive_running = True\n",
    "\n",
    "def keep_alive():\n",
    "    while keep_alive_running:\n",
    "        time.sleep(300)\n",
    "        print(\"Ainda trabalhando...\")\n",
    "        log_mensagem(\"keep_alive\", \"Ainda trabalhando...\")\n",
    "\n",
    "keep_alive_thread = threading.Thread(target=keep_alive, daemon=True)\n",
    "keep_alive_thread.start()\n",
    "\n",
    "# === FUNÇÃO PARA PROCESSAR UMA CÉLULA ===\n",
    "def processar_ultima_contribuicao(cell_row):\n",
    "    id_celula = cell_row[\"id\"]\n",
    "    bbox = cell_row.geometry.bounds  # (minx, miny, maxx, maxy)\n",
    "    features_resultantes = []\n",
    "\n",
    "    for classe, tags in classe_et_edgv_to_tags.items():\n",
    "        ratio_col = f\"step1_consolidado_{classe}_name_ratio\"\n",
    "        inflexao_col = f\"step6_consolidado_{classe}_inflexao_data\"\n",
    "\n",
    "        if pd.isna(cell_row.get(ratio_col)) or cell_row[ratio_col] <= 0:\n",
    "            continue\n",
    "\n",
    "        data_inicio_str = cell_row.get(inflexao_col) # Uso do inflexao_data como início da janela temporal\n",
    "        if not isinstance(data_inicio_str, str) or data_inicio_str.strip() == \"\" or data_inicio_str.lower() == \"none\":\n",
    "            continue\n",
    "\n",
    "        try:\n",
    "            data_inicio = pd.to_datetime(data_inicio_str, errors=\"coerce\")\n",
    "            if pd.isna(data_inicio):\n",
    "                continue\n",
    "        except Exception as e:\n",
    "            log_mensagem(id_celula, f\"[ERRO] Conversão de data inflexão inválida: {data_inicio_str} - {e}\")\n",
    "            continue\n",
    "\n",
    "        data_fim = pd.Timestamp(\"2025-04-06T13:00Z\").strftime(\"%Y-%m-%d\") # data_fim fixa de acordo com API metadata ('temporalExtent')\n",
    "        data_inicio_str = data_inicio.strftime(\"%Y-%m-%d\")\n",
    "\n",
    "        for tag, value in tags:\n",
    "            payload = {\n",
    "                \"bboxes\": f\"{bbox[0]},{bbox[1]},{bbox[2]},{bbox[3]}\",\n",
    "                \"time\": f\"{data_inicio_str},{data_fim}\",\n",
    "                \"filter\": f\"{tag}={value} and name=*\",\n",
    "                \"properties\": \"metadata,tags\",\n",
    "                \"clipGeometry\": \"false\"\n",
    "            }\n",
    "\n",
    "            try:\n",
    "                response = requests.post(url_ohsome_latest, data=payload)\n",
    "                \n",
    "                print(f\"[DEBUG] Célula: {id_celula}, Classe: {classe}, Tag={tag}, Value={value}\")\n",
    "                print(f\"[DEBUG] Payload: {json.dumps(payload)}\")\n",
    "                print(f\"[DEBUG] Status Code: {response.status_code}\")\n",
    "                print(f\"[DEBUG] Response Text: {response.text[:300]}\")  # apenas os primeiros 300 chars\n",
    "\n",
    "                response.raise_for_status()\n",
    "                dados = response.json()\n",
    "\n",
    "                for feat in dados.get(\"features\", []):\n",
    "                    geom_data = feat.get(\"geometry\")\n",
    "                    props = feat.get(\"properties\", {})\n",
    "\n",
    "                    if geom_data is None:\n",
    "                        continue\n",
    "\n",
    "                    geom = shape(geom_data)\n",
    "                    if geom.geom_type in [\"Polygon\", \"MultiPolygon\"]:\n",
    "                        geom = geom.centroid\n",
    "\n",
    "                    props_clean = {\n",
    "                        \"id_celula\": id_celula,\n",
    "                        \"classe\": classe,\n",
    "                        \"tag\": tag,\n",
    "                        \"value\": value,\n",
    "                        **props\n",
    "                    }\n",
    "\n",
    "                    features_resultantes.append({\n",
    "                        \"type\": \"Feature\",\n",
    "                        \"geometry\": mapping(geom),\n",
    "                        \"properties\": props_clean\n",
    "                    })\n",
    "\n",
    "            except Exception as e:\n",
    "                log_mensagem(id_celula, f\"[ERRO OHSOME {classe}] {tag}={value}: {str(e)}\")\n",
    "\n",
    "    return features_resultantes\n",
    "\n",
    "try:\n",
    "    # === EXECUÇÃO EM LOTE ===\n",
    "    ultimo_lote = 0\n",
    "    if ultimo_lote_path.exists():\n",
    "        with open(ultimo_lote_path, 'r') as f:\n",
    "            ultimo_lote = int(f.read().strip())\n",
    "\n",
    "    lote_size = 20\n",
    "    total_lotes = math.ceil(len(gdf_cells_valid) / lote_size)\n",
    "\n",
    "    for lote_index in range(ultimo_lote, total_lotes):\n",
    "        start_time = time.time()\n",
    "        features_final = []\n",
    "\n",
    "        subset = gdf_cells_valid.iloc[lote_index * lote_size: (lote_index + 1) * lote_size]\n",
    "\n",
    "        with ThreadPoolExecutor(max_workers=5) as executor:\n",
    "            futures = [executor.submit(processar_ultima_contribuicao, row) for _, row in subset.iterrows()]\n",
    "            for future in tqdm(as_completed(futures), total=len(futures), desc=f\"Lote {lote_index + 1} (Step 7)\"):\n",
    "                try:\n",
    "                    features_final.extend(future.result())\n",
    "                except Exception as e:\n",
    "                    log_mensagem(lote_index + 1, f\"[FALHA GERAL]: {e}\")\n",
    "\n",
    "        # Salva lote em GeoJSON\n",
    "        fc = {\"type\": \"FeatureCollection\", \"features\": features_final}\n",
    "        out_path = output_dir / f\"step7_lote{lote_index + 1}.geojson\"\n",
    "        with open(out_path, 'w', encoding='utf-8') as f:\n",
    "            json.dump(fc, f)\n",
    "        log_mensagem(lote_index + 1, f\"SALVO {out_path.name}\")\n",
    "\n",
    "        # Atualiza consolidação incremental\n",
    "        arquivos = sorted(output_dir.glob(\"step7_lote*.geojson\"))\n",
    "        todas_features = []\n",
    "        for arquivo in arquivos:\n",
    "            with open(arquivo, 'r', encoding='utf-8') as f:\n",
    "                fc_parcial = json.load(f)\n",
    "                todas_features.extend(fc_parcial['features'])\n",
    "\n",
    "        final_fc = {\"type\": \"FeatureCollection\", \"features\": todas_features}\n",
    "        with open(output_dir / \"step7_consolidado.geojson\", 'w', encoding='utf-8') as f:\n",
    "            json.dump(final_fc, f)\n",
    "        log_mensagem(lote_index + 1, \"CONSOLIDADO atualizado\")\n",
    "\n",
    "        with open(ultimo_lote_path, 'w') as f:\n",
    "            f.write(str(lote_index + 1))\n",
    "\n",
    "        tempo_msg = f\"Tempo lote {lote_index + 1}: {str(timedelta(seconds=int(time.time() - start_time)))}\"\n",
    "        print(tempo_msg)\n",
    "        log_mensagem(lote_index + 1, tempo_msg)\n",
    "\n",
    "    print(\"Step 7 (último topônimo por classe) finalizado com sucesso.\")\n",
    "    log_mensagem(\"step7\", \"Processamento finalizado\")\n",
    "\n",
    "finally:\n",
    "    keep_alive_running = False\n",
    "    keep_alive_thread.join(timeout=1)"
   ]
  },
  {
   "cell_type": "markdown",
   "id": "a44a0c0d",
   "metadata": {},
   "source": [
    "##### Implementação com módulos externos"
   ]
  },
  {
   "cell_type": "code",
   "execution_count": 15,
   "id": "d122633c",
   "metadata": {},
   "outputs": [
    {
     "name": "stderr",
     "output_type": "stream",
     "text": [
      "Lote 45 (Step 7 OHSOME):  80%|████████  | 16/20 [04:56<01:26, 21.66s/it]"
     ]
    },
    {
     "name": "stdout",
     "output_type": "stream",
     "text": [
      "Ainda trabalhando...\n"
     ]
    },
    {
     "name": "stderr",
     "output_type": "stream",
     "text": [
      "Lote 45 (Step 7 OHSOME): 100%|██████████| 20/20 [05:57<00:00, 17.90s/it]\n"
     ]
    },
    {
     "name": "stdout",
     "output_type": "stream",
     "text": [
      "Lote 45 concluído em 0:05:58\n"
     ]
    },
    {
     "name": "stderr",
     "output_type": "stream",
     "text": [
      "Lote 46 (Step 7 OHSOME):  75%|███████▌  | 15/20 [03:23<01:14, 14.86s/it]"
     ]
    },
    {
     "name": "stdout",
     "output_type": "stream",
     "text": [
      "Ainda trabalhando...\n"
     ]
    },
    {
     "name": "stderr",
     "output_type": "stream",
     "text": [
      "Lote 46 (Step 7 OHSOME): 100%|██████████| 20/20 [05:39<00:00, 16.95s/it]\n"
     ]
    },
    {
     "name": "stdout",
     "output_type": "stream",
     "text": [
      "Lote 46 concluído em 0:05:39\n"
     ]
    },
    {
     "name": "stderr",
     "output_type": "stream",
     "text": [
      "Lote 47 (Step 7 OHSOME):  30%|███       | 6/20 [02:08<05:01, 21.55s/it]"
     ]
    },
    {
     "name": "stdout",
     "output_type": "stream",
     "text": [
      "Ainda trabalhando...\n"
     ]
    },
    {
     "name": "stderr",
     "output_type": "stream",
     "text": [
      "Lote 47 (Step 7 OHSOME): 100%|██████████| 20/20 [07:38<00:00, 22.94s/it]\n"
     ]
    },
    {
     "name": "stdout",
     "output_type": "stream",
     "text": [
      "Lote 47 concluído em 0:07:38\n"
     ]
    },
    {
     "name": "stderr",
     "output_type": "stream",
     "text": [
      "Lote 48 (Step 7 OHSOME):   0%|          | 0/20 [00:00<?, ?it/s]"
     ]
    },
    {
     "name": "stdout",
     "output_type": "stream",
     "text": [
      "Ainda trabalhando...\n"
     ]
    },
    {
     "name": "stderr",
     "output_type": "stream",
     "text": [
      "Lote 48 (Step 7 OHSOME):  75%|███████▌  | 15/20 [05:27<01:20, 16.14s/it]"
     ]
    },
    {
     "name": "stdout",
     "output_type": "stream",
     "text": [
      "Ainda trabalhando...\n"
     ]
    },
    {
     "name": "stderr",
     "output_type": "stream",
     "text": [
      "Lote 48 (Step 7 OHSOME): 100%|██████████| 20/20 [07:58<00:00, 23.94s/it]\n"
     ]
    },
    {
     "name": "stdout",
     "output_type": "stream",
     "text": [
      "Lote 48 concluído em 0:07:58\n"
     ]
    },
    {
     "name": "stderr",
     "output_type": "stream",
     "text": [
      "Lote 49 (Step 7 OHSOME):  25%|██▌       | 5/20 [02:40<06:09, 24.64s/it]"
     ]
    },
    {
     "name": "stdout",
     "output_type": "stream",
     "text": [
      "Ainda trabalhando...\n"
     ]
    },
    {
     "name": "stderr",
     "output_type": "stream",
     "text": [
      "Lote 49 (Step 7 OHSOME): 100%|██████████| 20/20 [07:34<00:00, 22.71s/it]\n"
     ]
    },
    {
     "name": "stdout",
     "output_type": "stream",
     "text": [
      "Lote 49 concluído em 0:07:34\n"
     ]
    },
    {
     "name": "stderr",
     "output_type": "stream",
     "text": [
      "Lote 50 (Step 7 OHSOME):   0%|          | 0/20 [00:00<?, ?it/s]"
     ]
    },
    {
     "name": "stdout",
     "output_type": "stream",
     "text": [
      "Ainda trabalhando...\n"
     ]
    },
    {
     "name": "stderr",
     "output_type": "stream",
     "text": [
      "Lote 50 (Step 7 OHSOME):  80%|████████  | 16/20 [05:09<01:07, 16.96s/it]"
     ]
    },
    {
     "name": "stdout",
     "output_type": "stream",
     "text": [
      "Ainda trabalhando...\n"
     ]
    },
    {
     "name": "stderr",
     "output_type": "stream",
     "text": [
      "Lote 50 (Step 7 OHSOME): 100%|██████████| 20/20 [05:39<00:00, 16.97s/it]\n"
     ]
    },
    {
     "name": "stdout",
     "output_type": "stream",
     "text": [
      "Lote 50 concluído em 0:05:39\n"
     ]
    },
    {
     "name": "stderr",
     "output_type": "stream",
     "text": [
      "Lote 51 (Step 7 OHSOME): 100%|██████████| 20/20 [04:24<00:00, 13.24s/it]\n"
     ]
    },
    {
     "name": "stdout",
     "output_type": "stream",
     "text": [
      "Lote 51 concluído em 0:04:24\n"
     ]
    },
    {
     "name": "stderr",
     "output_type": "stream",
     "text": [
      "Lote 52 (Step 7 OHSOME):   0%|          | 0/20 [00:00<?, ?it/s]"
     ]
    },
    {
     "name": "stdout",
     "output_type": "stream",
     "text": [
      "Ainda trabalhando...\n"
     ]
    },
    {
     "name": "stderr",
     "output_type": "stream",
     "text": [
      "Lote 52 (Step 7 OHSOME):  75%|███████▌  | 15/20 [04:31<03:54, 46.85s/it]"
     ]
    },
    {
     "name": "stdout",
     "output_type": "stream",
     "text": [
      "Ainda trabalhando...\n"
     ]
    },
    {
     "name": "stderr",
     "output_type": "stream",
     "text": [
      "Lote 52 (Step 7 OHSOME): 100%|██████████| 20/20 [05:37<00:00, 16.87s/it]\n"
     ]
    },
    {
     "name": "stdout",
     "output_type": "stream",
     "text": [
      "Lote 52 concluído em 0:05:37\n"
     ]
    },
    {
     "name": "stderr",
     "output_type": "stream",
     "text": [
      "Lote 53 (Step 7 OHSOME):  50%|█████     | 10/20 [04:25<03:28, 20.84s/it]"
     ]
    },
    {
     "name": "stdout",
     "output_type": "stream",
     "text": [
      "Ainda trabalhando...\n"
     ]
    },
    {
     "name": "stderr",
     "output_type": "stream",
     "text": [
      "Lote 53 (Step 7 OHSOME):  90%|█████████ | 18/20 [08:11<00:30, 15.40s/it]"
     ]
    },
    {
     "name": "stdout",
     "output_type": "stream",
     "text": [
      "Ainda trabalhando...\n"
     ]
    },
    {
     "name": "stderr",
     "output_type": "stream",
     "text": [
      "Lote 53 (Step 7 OHSOME): 100%|██████████| 20/20 [09:43<00:00, 29.15s/it]\n"
     ]
    },
    {
     "name": "stdout",
     "output_type": "stream",
     "text": [
      "Lote 53 concluído em 0:09:43\n"
     ]
    },
    {
     "name": "stderr",
     "output_type": "stream",
     "text": [
      "Lote 54 (Step 7 OHSOME):  80%|████████  | 16/20 [04:43<00:47, 11.93s/it]"
     ]
    },
    {
     "name": "stdout",
     "output_type": "stream",
     "text": [
      "Ainda trabalhando...\n"
     ]
    },
    {
     "name": "stderr",
     "output_type": "stream",
     "text": [
      "Lote 54 (Step 7 OHSOME): 100%|██████████| 20/20 [06:12<00:00, 18.64s/it]\n"
     ]
    },
    {
     "name": "stdout",
     "output_type": "stream",
     "text": [
      "Lote 54 concluído em 0:06:12\n"
     ]
    },
    {
     "name": "stderr",
     "output_type": "stream",
     "text": [
      "Lote 55 (Step 7 OHSOME):  30%|███       | 6/20 [03:12<05:32, 23.73s/it] "
     ]
    },
    {
     "name": "stdout",
     "output_type": "stream",
     "text": [
      "Ainda trabalhando...\n"
     ]
    },
    {
     "name": "stderr",
     "output_type": "stream",
     "text": [
      "Lote 55 (Step 7 OHSOME): 100%|██████████| 20/20 [07:22<00:00, 22.13s/it]\n"
     ]
    },
    {
     "name": "stdout",
     "output_type": "stream",
     "text": [
      "Lote 55 concluído em 0:07:22\n"
     ]
    },
    {
     "name": "stderr",
     "output_type": "stream",
     "text": [
      "Lote 56 (Step 7 OHSOME):   0%|          | 0/20 [00:00<?, ?it/s]"
     ]
    },
    {
     "name": "stdout",
     "output_type": "stream",
     "text": [
      "Ainda trabalhando...\n"
     ]
    },
    {
     "name": "stderr",
     "output_type": "stream",
     "text": [
      "Lote 56 (Step 7 OHSOME): 100%|██████████| 20/20 [05:56<00:00, 17.84s/it]\n"
     ]
    },
    {
     "name": "stdout",
     "output_type": "stream",
     "text": [
      "Lote 56 concluído em 0:05:56\n"
     ]
    },
    {
     "name": "stderr",
     "output_type": "stream",
     "text": [
      "Lote 57 (Step 7 OHSOME):   0%|          | 0/20 [00:00<?, ?it/s]"
     ]
    },
    {
     "name": "stdout",
     "output_type": "stream",
     "text": [
      "Ainda trabalhando...\n"
     ]
    },
    {
     "name": "stderr",
     "output_type": "stream",
     "text": [
      "Lote 57 (Step 7 OHSOME):  60%|██████    | 12/20 [04:23<03:52, 29.05s/it]"
     ]
    },
    {
     "name": "stdout",
     "output_type": "stream",
     "text": [
      "Ainda trabalhando...\n"
     ]
    },
    {
     "name": "stderr",
     "output_type": "stream",
     "text": [
      "Lote 57 (Step 7 OHSOME): 100%|██████████| 20/20 [08:15<00:00, 24.78s/it]\n"
     ]
    },
    {
     "name": "stdout",
     "output_type": "stream",
     "text": [
      "Lote 57 concluído em 0:08:15\n"
     ]
    },
    {
     "name": "stderr",
     "output_type": "stream",
     "text": [
      "Lote 58 (Step 7 OHSOME):  25%|██▌       | 5/20 [01:47<03:15, 13.05s/it]"
     ]
    },
    {
     "name": "stdout",
     "output_type": "stream",
     "text": [
      "Ainda trabalhando...\n"
     ]
    },
    {
     "name": "stderr",
     "output_type": "stream",
     "text": [
      "Lote 58 (Step 7 OHSOME): 100%|██████████| 20/20 [06:31<00:00, 19.60s/it]\n"
     ]
    },
    {
     "name": "stdout",
     "output_type": "stream",
     "text": [
      "Lote 58 concluído em 0:06:32\n"
     ]
    },
    {
     "name": "stderr",
     "output_type": "stream",
     "text": [
      "Lote 59 (Step 7 OHSOME):   0%|          | 0/20 [00:00<?, ?it/s]"
     ]
    },
    {
     "name": "stdout",
     "output_type": "stream",
     "text": [
      "Ainda trabalhando...\n"
     ]
    },
    {
     "name": "stderr",
     "output_type": "stream",
     "text": [
      "Lote 59 (Step 7 OHSOME):  95%|█████████▌| 19/20 [05:15<00:14, 14.54s/it]"
     ]
    },
    {
     "name": "stdout",
     "output_type": "stream",
     "text": [
      "Ainda trabalhando...\n"
     ]
    },
    {
     "name": "stderr",
     "output_type": "stream",
     "text": [
      "Lote 59 (Step 7 OHSOME): 100%|██████████| 20/20 [06:37<00:00, 19.88s/it]\n"
     ]
    },
    {
     "name": "stdout",
     "output_type": "stream",
     "text": [
      "Lote 59 concluído em 0:06:37\n"
     ]
    },
    {
     "name": "stderr",
     "output_type": "stream",
     "text": [
      "Lote 60 (Step 7 OHSOME):  40%|████      | 8/20 [03:35<06:20, 31.72s/it]"
     ]
    },
    {
     "name": "stdout",
     "output_type": "stream",
     "text": [
      "Ainda trabalhando...\n"
     ]
    },
    {
     "name": "stderr",
     "output_type": "stream",
     "text": [
      "Lote 60 (Step 7 OHSOME): 100%|██████████| 20/20 [06:54<00:00, 20.71s/it]\n"
     ]
    },
    {
     "name": "stdout",
     "output_type": "stream",
     "text": [
      "Lote 60 concluído em 0:06:54\n"
     ]
    },
    {
     "name": "stderr",
     "output_type": "stream",
     "text": [
      "Lote 61 (Step 7 OHSOME):  25%|██▌       | 5/20 [01:44<03:38, 14.58s/it]"
     ]
    },
    {
     "name": "stdout",
     "output_type": "stream",
     "text": [
      "Ainda trabalhando...\n"
     ]
    },
    {
     "name": "stderr",
     "output_type": "stream",
     "text": [
      "Lote 61 (Step 7 OHSOME): 100%|██████████| 20/20 [06:46<00:00, 20.31s/it]\n"
     ]
    },
    {
     "name": "stdout",
     "output_type": "stream",
     "text": [
      "Lote 61 concluído em 0:06:46\n"
     ]
    },
    {
     "name": "stderr",
     "output_type": "stream",
     "text": [
      "Lote 62 (Step 7 OHSOME):   0%|          | 0/20 [00:00<?, ?it/s]"
     ]
    },
    {
     "name": "stdout",
     "output_type": "stream",
     "text": [
      "Ainda trabalhando...\n"
     ]
    },
    {
     "name": "stderr",
     "output_type": "stream",
     "text": [
      "Lote 62 (Step 7 OHSOME):  90%|█████████ | 18/20 [04:44<01:12, 36.50s/it]"
     ]
    },
    {
     "name": "stdout",
     "output_type": "stream",
     "text": [
      "Ainda trabalhando...\n"
     ]
    },
    {
     "name": "stderr",
     "output_type": "stream",
     "text": [
      "Lote 62 (Step 7 OHSOME): 100%|██████████| 20/20 [05:47<00:00, 17.37s/it]\n"
     ]
    },
    {
     "name": "stdout",
     "output_type": "stream",
     "text": [
      "Lote 62 concluído em 0:05:47\n"
     ]
    },
    {
     "name": "stderr",
     "output_type": "stream",
     "text": [
      "Lote 63 (Step 7 OHSOME):  50%|█████     | 10/20 [03:50<02:01, 12.15s/it]"
     ]
    },
    {
     "name": "stdout",
     "output_type": "stream",
     "text": [
      "Ainda trabalhando...\n"
     ]
    },
    {
     "name": "stderr",
     "output_type": "stream",
     "text": [
      "Lote 63 (Step 7 OHSOME): 100%|██████████| 20/20 [08:41<00:00, 26.09s/it]\n"
     ]
    },
    {
     "name": "stdout",
     "output_type": "stream",
     "text": [
      "Lote 63 concluído em 0:08:41\n"
     ]
    },
    {
     "name": "stderr",
     "output_type": "stream",
     "text": [
      "Lote 64 (Step 7 OHSOME):   0%|          | 0/20 [00:00<?, ?it/s]"
     ]
    },
    {
     "name": "stdout",
     "output_type": "stream",
     "text": [
      "Ainda trabalhando...\n"
     ]
    },
    {
     "name": "stderr",
     "output_type": "stream",
     "text": [
      "Lote 64 (Step 7 OHSOME):  60%|██████    | 12/20 [05:12<03:15, 24.45s/it]"
     ]
    },
    {
     "name": "stdout",
     "output_type": "stream",
     "text": [
      "Ainda trabalhando...\n"
     ]
    },
    {
     "name": "stderr",
     "output_type": "stream",
     "text": [
      "Lote 64 (Step 7 OHSOME): 100%|██████████| 20/20 [07:20<00:00, 22.04s/it]\n"
     ]
    },
    {
     "name": "stdout",
     "output_type": "stream",
     "text": [
      "Lote 64 concluído em 0:07:20\n"
     ]
    },
    {
     "name": "stderr",
     "output_type": "stream",
     "text": [
      "Lote 65 (Step 7 OHSOME):  35%|███▌      | 7/20 [02:42<04:25, 20.42s/it]"
     ]
    },
    {
     "name": "stdout",
     "output_type": "stream",
     "text": [
      "Ainda trabalhando...\n"
     ]
    },
    {
     "name": "stderr",
     "output_type": "stream",
     "text": [
      "Lote 65 (Step 7 OHSOME): 100%|██████████| 20/20 [07:07<00:00, 21.36s/it]\n"
     ]
    },
    {
     "name": "stdout",
     "output_type": "stream",
     "text": [
      "Lote 65 concluído em 0:07:07\n"
     ]
    },
    {
     "name": "stderr",
     "output_type": "stream",
     "text": [
      "Lote 66 (Step 7 OHSOME):  20%|██        | 4/20 [01:01<04:01, 15.11s/it]"
     ]
    },
    {
     "name": "stdout",
     "output_type": "stream",
     "text": [
      "Ainda trabalhando...\n"
     ]
    },
    {
     "name": "stderr",
     "output_type": "stream",
     "text": [
      "Lote 66 (Step 7 OHSOME):  95%|█████████▌| 19/20 [05:47<00:13, 13.79s/it]"
     ]
    },
    {
     "name": "stdout",
     "output_type": "stream",
     "text": [
      "Ainda trabalhando...\n"
     ]
    },
    {
     "name": "stderr",
     "output_type": "stream",
     "text": [
      "Lote 66 (Step 7 OHSOME): 100%|██████████| 20/20 [07:08<00:00, 21.40s/it]\n"
     ]
    },
    {
     "name": "stdout",
     "output_type": "stream",
     "text": [
      "Lote 66 concluído em 0:07:08\n"
     ]
    },
    {
     "name": "stderr",
     "output_type": "stream",
     "text": [
      "Lote 67 (Step 7 OHSOME):  50%|█████     | 10/20 [03:55<04:07, 24.77s/it]"
     ]
    },
    {
     "name": "stdout",
     "output_type": "stream",
     "text": [
      "Ainda trabalhando...\n"
     ]
    },
    {
     "name": "stderr",
     "output_type": "stream",
     "text": [
      "Lote 67 (Step 7 OHSOME): 100%|██████████| 20/20 [06:57<00:00, 20.85s/it]\n"
     ]
    },
    {
     "name": "stdout",
     "output_type": "stream",
     "text": [
      "Lote 67 concluído em 0:06:57\n"
     ]
    },
    {
     "name": "stderr",
     "output_type": "stream",
     "text": [
      "Lote 68 (Step 7 OHSOME):  35%|███▌      | 7/20 [01:44<02:04,  9.57s/it]"
     ]
    },
    {
     "name": "stdout",
     "output_type": "stream",
     "text": [
      "Ainda trabalhando...\n"
     ]
    },
    {
     "name": "stderr",
     "output_type": "stream",
     "text": [
      "Lote 68 (Step 7 OHSOME): 100%|██████████| 20/20 [06:53<00:00, 20.69s/it]\n"
     ]
    },
    {
     "name": "stdout",
     "output_type": "stream",
     "text": [
      "Lote 68 concluído em 0:06:54\n"
     ]
    },
    {
     "name": "stderr",
     "output_type": "stream",
     "text": [
      "Lote 69 (Step 7 OHSOME):   0%|          | 0/20 [00:00<?, ?it/s]"
     ]
    },
    {
     "name": "stdout",
     "output_type": "stream",
     "text": [
      "Ainda trabalhando...\n"
     ]
    },
    {
     "name": "stderr",
     "output_type": "stream",
     "text": [
      "Lote 69 (Step 7 OHSOME):  65%|██████▌   | 13/20 [04:36<02:08, 18.31s/it]"
     ]
    },
    {
     "name": "stdout",
     "output_type": "stream",
     "text": [
      "Ainda trabalhando...\n"
     ]
    },
    {
     "name": "stderr",
     "output_type": "stream",
     "text": [
      "Lote 69 (Step 7 OHSOME): 100%|██████████| 20/20 [07:58<00:00, 23.93s/it]\n"
     ]
    },
    {
     "name": "stdout",
     "output_type": "stream",
     "text": [
      "Lote 69 concluído em 0:07:58\n"
     ]
    },
    {
     "name": "stderr",
     "output_type": "stream",
     "text": [
      "Lote 70 (Step 7 OHSOME):   5%|▌         | 1/20 [01:31<29:00, 91.63s/it]"
     ]
    },
    {
     "name": "stdout",
     "output_type": "stream",
     "text": [
      "Ainda trabalhando...\n"
     ]
    },
    {
     "name": "stderr",
     "output_type": "stream",
     "text": [
      "Lote 70 (Step 7 OHSOME):  75%|███████▌  | 15/20 [06:31<01:27, 17.56s/it]"
     ]
    },
    {
     "name": "stdout",
     "output_type": "stream",
     "text": [
      "Ainda trabalhando...\n"
     ]
    },
    {
     "name": "stderr",
     "output_type": "stream",
     "text": [
      "Lote 70 (Step 7 OHSOME): 100%|██████████| 20/20 [10:53<00:00, 32.66s/it]\n"
     ]
    },
    {
     "name": "stdout",
     "output_type": "stream",
     "text": [
      "Lote 70 concluído em 0:10:53\n"
     ]
    },
    {
     "name": "stderr",
     "output_type": "stream",
     "text": [
      "Lote 71 (Step 7 OHSOME):  20%|██        | 4/20 [00:39<01:40,  6.25s/it]"
     ]
    },
    {
     "name": "stdout",
     "output_type": "stream",
     "text": [
      "Ainda trabalhando...\n"
     ]
    },
    {
     "name": "stderr",
     "output_type": "stream",
     "text": [
      "Lote 71 (Step 7 OHSOME): 100%|██████████| 20/20 [05:26<00:00, 16.30s/it]\n"
     ]
    },
    {
     "name": "stdout",
     "output_type": "stream",
     "text": [
      "Lote 71 concluído em 0:05:26\n"
     ]
    },
    {
     "name": "stderr",
     "output_type": "stream",
     "text": [
      "Lote 72 (Step 7 OHSOME):   0%|          | 0/20 [00:00<?, ?it/s]"
     ]
    },
    {
     "name": "stdout",
     "output_type": "stream",
     "text": [
      "Ainda trabalhando...\n"
     ]
    },
    {
     "name": "stderr",
     "output_type": "stream",
     "text": [
      "Lote 72 (Step 7 OHSOME):  85%|████████▌ | 17/20 [05:46<00:59, 19.92s/it]"
     ]
    },
    {
     "name": "stdout",
     "output_type": "stream",
     "text": [
      "Ainda trabalhando...\n"
     ]
    },
    {
     "name": "stderr",
     "output_type": "stream",
     "text": [
      "Lote 72 (Step 7 OHSOME): 100%|██████████| 20/20 [06:13<00:00, 18.67s/it]\n"
     ]
    },
    {
     "name": "stdout",
     "output_type": "stream",
     "text": [
      "Lote 72 concluído em 0:06:13\n"
     ]
    },
    {
     "name": "stderr",
     "output_type": "stream",
     "text": [
      "Lote 73 (Step 7 OHSOME):  45%|████▌     | 9/20 [04:31<04:06, 22.38s/it]"
     ]
    },
    {
     "name": "stdout",
     "output_type": "stream",
     "text": [
      "Ainda trabalhando...\n"
     ]
    },
    {
     "name": "stderr",
     "output_type": "stream",
     "text": [
      "Lote 73 (Step 7 OHSOME): 100%|██████████| 20/20 [07:48<00:00, 23.40s/it]\n"
     ]
    },
    {
     "name": "stdout",
     "output_type": "stream",
     "text": [
      "Lote 73 concluído em 0:07:48\n"
     ]
    },
    {
     "name": "stderr",
     "output_type": "stream",
     "text": [
      "Lote 74 (Step 7 OHSOME):  15%|█▌        | 3/20 [01:45<11:04, 39.10s/it]"
     ]
    },
    {
     "name": "stdout",
     "output_type": "stream",
     "text": [
      "Ainda trabalhando...\n"
     ]
    },
    {
     "name": "stderr",
     "output_type": "stream",
     "text": [
      "Lote 74 (Step 7 OHSOME): 100%|██████████| 20/20 [05:21<00:00, 16.07s/it]\n"
     ]
    },
    {
     "name": "stdout",
     "output_type": "stream",
     "text": [
      "Lote 74 concluído em 0:05:21\n"
     ]
    },
    {
     "name": "stderr",
     "output_type": "stream",
     "text": [
      "Lote 75 (Step 7 OHSOME):  40%|████      | 8/20 [01:24<01:48,  9.01s/it]"
     ]
    },
    {
     "name": "stdout",
     "output_type": "stream",
     "text": [
      "Ainda trabalhando...\n"
     ]
    },
    {
     "name": "stderr",
     "output_type": "stream",
     "text": [
      "Lote 75 (Step 7 OHSOME): 100%|██████████| 20/20 [04:56<00:00, 14.81s/it]\n"
     ]
    },
    {
     "name": "stdout",
     "output_type": "stream",
     "text": [
      "Lote 75 concluído em 0:04:56\n"
     ]
    },
    {
     "name": "stderr",
     "output_type": "stream",
     "text": [
      "Lote 76 (Step 7 OHSOME):   0%|          | 0/20 [00:00<?, ?it/s]"
     ]
    },
    {
     "name": "stdout",
     "output_type": "stream",
     "text": [
      "Ainda trabalhando...\n"
     ]
    },
    {
     "name": "stderr",
     "output_type": "stream",
     "text": [
      "Lote 76 (Step 7 OHSOME):  75%|███████▌  | 15/20 [06:16<01:10, 14.14s/it]"
     ]
    },
    {
     "name": "stdout",
     "output_type": "stream",
     "text": [
      "Ainda trabalhando...\n"
     ]
    },
    {
     "name": "stderr",
     "output_type": "stream",
     "text": [
      "Lote 76 (Step 7 OHSOME): 100%|██████████| 20/20 [08:09<00:00, 24.48s/it]\n"
     ]
    },
    {
     "name": "stdout",
     "output_type": "stream",
     "text": [
      "Lote 76 concluído em 0:08:09\n"
     ]
    },
    {
     "name": "stderr",
     "output_type": "stream",
     "text": [
      "Lote 77 (Step 7 OHSOME):  30%|███       | 6/20 [03:16<06:19, 27.14s/it]"
     ]
    },
    {
     "name": "stdout",
     "output_type": "stream",
     "text": [
      "Ainda trabalhando...\n"
     ]
    },
    {
     "name": "stderr",
     "output_type": "stream",
     "text": [
      "Lote 77 (Step 7 OHSOME):  95%|█████████▌| 19/20 [08:02<00:23, 23.95s/it]"
     ]
    },
    {
     "name": "stdout",
     "output_type": "stream",
     "text": [
      "Ainda trabalhando...\n"
     ]
    },
    {
     "name": "stderr",
     "output_type": "stream",
     "text": [
      "Lote 77 (Step 7 OHSOME): 100%|██████████| 20/20 [09:34<00:00, 28.75s/it]\n"
     ]
    },
    {
     "name": "stdout",
     "output_type": "stream",
     "text": [
      "Lote 77 concluído em 0:09:35\n"
     ]
    },
    {
     "name": "stderr",
     "output_type": "stream",
     "text": [
      "Lote 78 (Step 7 OHSOME):  30%|███       | 6/20 [03:29<05:29, 23.55s/it]"
     ]
    },
    {
     "name": "stdout",
     "output_type": "stream",
     "text": [
      "Ainda trabalhando...\n"
     ]
    },
    {
     "name": "stderr",
     "output_type": "stream",
     "text": [
      "Lote 78 (Step 7 OHSOME):  75%|███████▌  | 15/20 [08:15<02:07, 25.45s/it]"
     ]
    },
    {
     "name": "stdout",
     "output_type": "stream",
     "text": [
      "Ainda trabalhando...\n"
     ]
    },
    {
     "name": "stderr",
     "output_type": "stream",
     "text": [
      "Lote 78 (Step 7 OHSOME): 100%|██████████| 20/20 [10:42<00:00, 32.14s/it]\n"
     ]
    },
    {
     "name": "stdout",
     "output_type": "stream",
     "text": [
      "Lote 78 concluído em 0:10:42\n"
     ]
    },
    {
     "name": "stderr",
     "output_type": "stream",
     "text": [
      "Lote 79 (Step 7 OHSOME):  15%|█▌        | 3/20 [02:53<14:41, 51.88s/it]"
     ]
    },
    {
     "name": "stdout",
     "output_type": "stream",
     "text": [
      "Ainda trabalhando...\n"
     ]
    },
    {
     "name": "stderr",
     "output_type": "stream",
     "text": [
      "Lote 79 (Step 7 OHSOME):  80%|████████  | 16/20 [07:41<01:16, 19.22s/it]"
     ]
    },
    {
     "name": "stdout",
     "output_type": "stream",
     "text": [
      "Ainda trabalhando...\n"
     ]
    },
    {
     "name": "stderr",
     "output_type": "stream",
     "text": [
      "Lote 79 (Step 7 OHSOME): 100%|██████████| 20/20 [09:53<00:00, 29.65s/it]\n"
     ]
    },
    {
     "name": "stdout",
     "output_type": "stream",
     "text": [
      "Lote 79 concluído em 0:09:53\n"
     ]
    },
    {
     "name": "stderr",
     "output_type": "stream",
     "text": [
      "Lote 80 (Step 7 OHSOME):  35%|███▌      | 7/20 [02:49<04:04, 18.79s/it]"
     ]
    },
    {
     "name": "stdout",
     "output_type": "stream",
     "text": [
      "Ainda trabalhando...\n"
     ]
    },
    {
     "name": "stderr",
     "output_type": "stream",
     "text": [
      "Lote 80 (Step 7 OHSOME): 100%|██████████| 20/20 [07:59<00:00, 23.97s/it]\n"
     ]
    },
    {
     "name": "stdout",
     "output_type": "stream",
     "text": [
      "Lote 80 concluído em 0:07:59\n"
     ]
    },
    {
     "name": "stderr",
     "output_type": "stream",
     "text": [
      "Lote 81 (Step 7 OHSOME):   0%|          | 0/20 [00:00<?, ?it/s]"
     ]
    },
    {
     "name": "stdout",
     "output_type": "stream",
     "text": [
      "Ainda trabalhando...\n"
     ]
    },
    {
     "name": "stderr",
     "output_type": "stream",
     "text": [
      "Lote 81 (Step 7 OHSOME):  60%|██████    | 12/20 [04:58<02:27, 18.43s/it]"
     ]
    },
    {
     "name": "stdout",
     "output_type": "stream",
     "text": [
      "Ainda trabalhando...\n"
     ]
    },
    {
     "name": "stderr",
     "output_type": "stream",
     "text": [
      "Lote 81 (Step 7 OHSOME): 100%|██████████| 20/20 [08:48<00:00, 26.41s/it]\n"
     ]
    },
    {
     "name": "stdout",
     "output_type": "stream",
     "text": [
      "Lote 81 concluído em 0:08:48\n"
     ]
    },
    {
     "name": "stderr",
     "output_type": "stream",
     "text": [
      "Lote 82 (Step 7 OHSOME):   0%|          | 0/20 [00:00<?, ?it/s]"
     ]
    },
    {
     "name": "stdout",
     "output_type": "stream",
     "text": [
      "Ainda trabalhando...\n"
     ]
    },
    {
     "name": "stderr",
     "output_type": "stream",
     "text": [
      "Lote 82 (Step 7 OHSOME):  50%|█████     | 10/20 [03:48<01:53, 11.33s/it]"
     ]
    },
    {
     "name": "stdout",
     "output_type": "stream",
     "text": [
      "Ainda trabalhando...\n"
     ]
    },
    {
     "name": "stderr",
     "output_type": "stream",
     "text": [
      "Lote 82 (Step 7 OHSOME):  95%|█████████▌| 19/20 [11:16<00:34, 34.07s/it]"
     ]
    },
    {
     "name": "stdout",
     "output_type": "stream",
     "text": [
      "Ainda trabalhando...\n"
     ]
    },
    {
     "name": "stderr",
     "output_type": "stream",
     "text": [
      "Lote 82 (Step 7 OHSOME): 100%|██████████| 20/20 [11:27<00:00, 34.37s/it]\n"
     ]
    },
    {
     "name": "stdout",
     "output_type": "stream",
     "text": [
      "Lote 82 concluído em 0:11:27\n"
     ]
    },
    {
     "name": "stderr",
     "output_type": "stream",
     "text": [
      "Lote 83 (Step 7 OHSOME):  75%|███████▌  | 15/20 [04:16<01:59, 23.90s/it]"
     ]
    },
    {
     "name": "stdout",
     "output_type": "stream",
     "text": [
      "Ainda trabalhando...\n"
     ]
    },
    {
     "name": "stderr",
     "output_type": "stream",
     "text": [
      "Lote 83 (Step 7 OHSOME): 100%|██████████| 20/20 [05:59<00:00, 17.99s/it]\n"
     ]
    },
    {
     "name": "stdout",
     "output_type": "stream",
     "text": [
      "Lote 83 concluído em 0:06:00\n"
     ]
    },
    {
     "name": "stderr",
     "output_type": "stream",
     "text": [
      "Lote 84 (Step 7 OHSOME):  55%|█████▌    | 11/20 [03:09<02:47, 18.65s/it]"
     ]
    },
    {
     "name": "stdout",
     "output_type": "stream",
     "text": [
      "Ainda trabalhando...\n"
     ]
    },
    {
     "name": "stderr",
     "output_type": "stream",
     "text": [
      "Lote 84 (Step 7 OHSOME): 100%|██████████| 20/20 [07:01<00:00, 21.06s/it]\n"
     ]
    },
    {
     "name": "stdout",
     "output_type": "stream",
     "text": [
      "Lote 84 concluído em 0:07:01\n"
     ]
    },
    {
     "name": "stderr",
     "output_type": "stream",
     "text": [
      "Lote 85 (Step 7 OHSOME):  15%|█▌        | 3/20 [01:46<08:42, 30.74s/it]"
     ]
    },
    {
     "name": "stdout",
     "output_type": "stream",
     "text": [
      "Ainda trabalhando...\n"
     ]
    },
    {
     "name": "stderr",
     "output_type": "stream",
     "text": [
      "Lote 85 (Step 7 OHSOME):  85%|████████▌ | 17/20 [06:45<00:42, 14.10s/it]"
     ]
    },
    {
     "name": "stdout",
     "output_type": "stream",
     "text": [
      "Ainda trabalhando...\n"
     ]
    },
    {
     "name": "stderr",
     "output_type": "stream",
     "text": [
      "Lote 85 (Step 7 OHSOME): 100%|██████████| 20/20 [07:44<00:00, 23.23s/it]\n"
     ]
    },
    {
     "name": "stdout",
     "output_type": "stream",
     "text": [
      "Lote 85 concluído em 0:07:44\n"
     ]
    },
    {
     "name": "stderr",
     "output_type": "stream",
     "text": [
      "Lote 86 (Step 7 OHSOME):  35%|███▌      | 7/20 [03:08<06:20, 29.24s/it]"
     ]
    },
    {
     "name": "stdout",
     "output_type": "stream",
     "text": [
      "Ainda trabalhando...\n"
     ]
    },
    {
     "name": "stderr",
     "output_type": "stream",
     "text": [
      "Lote 86 (Step 7 OHSOME):  95%|█████████▌| 19/20 [08:28<00:19, 19.35s/it]"
     ]
    },
    {
     "name": "stdout",
     "output_type": "stream",
     "text": [
      "Ainda trabalhando...\n"
     ]
    },
    {
     "name": "stderr",
     "output_type": "stream",
     "text": [
      "Lote 86 (Step 7 OHSOME): 100%|██████████| 20/20 [09:34<00:00, 28.72s/it]\n"
     ]
    },
    {
     "name": "stdout",
     "output_type": "stream",
     "text": [
      "Lote 86 concluído em 0:09:34\n"
     ]
    },
    {
     "name": "stderr",
     "output_type": "stream",
     "text": [
      "Lote 87 (Step 7 OHSOME):  45%|████▌     | 9/20 [04:29<02:58, 16.24s/it]"
     ]
    },
    {
     "name": "stdout",
     "output_type": "stream",
     "text": [
      "Ainda trabalhando...\n"
     ]
    },
    {
     "name": "stderr",
     "output_type": "stream",
     "text": [
      "Lote 87 (Step 7 OHSOME): 100%|██████████| 20/20 [06:27<00:00, 19.40s/it]\n"
     ]
    },
    {
     "name": "stdout",
     "output_type": "stream",
     "text": [
      "Lote 87 concluído em 0:06:28\n"
     ]
    },
    {
     "name": "stderr",
     "output_type": "stream",
     "text": [
      "Lote 88 (Step 7 OHSOME):  35%|███▌      | 7/20 [02:44<03:26, 15.91s/it]"
     ]
    },
    {
     "name": "stdout",
     "output_type": "stream",
     "text": [
      "Ainda trabalhando...\n"
     ]
    },
    {
     "name": "stderr",
     "output_type": "stream",
     "text": [
      "Lote 88 (Step 7 OHSOME):  85%|████████▌ | 17/20 [08:02<01:40, 33.33s/it]"
     ]
    },
    {
     "name": "stdout",
     "output_type": "stream",
     "text": [
      "Ainda trabalhando...\n"
     ]
    },
    {
     "name": "stderr",
     "output_type": "stream",
     "text": [
      "Lote 88 (Step 7 OHSOME): 100%|██████████| 20/20 [08:49<00:00, 26.50s/it]\n"
     ]
    },
    {
     "name": "stdout",
     "output_type": "stream",
     "text": [
      "Lote 88 concluído em 0:08:50\n"
     ]
    },
    {
     "name": "stderr",
     "output_type": "stream",
     "text": [
      "Lote 89 (Step 7 OHSOME):  95%|█████████▌| 19/20 [04:15<00:08,  8.08s/it]"
     ]
    },
    {
     "name": "stdout",
     "output_type": "stream",
     "text": [
      "Ainda trabalhando...\n"
     ]
    },
    {
     "name": "stderr",
     "output_type": "stream",
     "text": [
      "Lote 89 (Step 7 OHSOME): 100%|██████████| 20/20 [04:18<00:00, 12.93s/it]\n"
     ]
    },
    {
     "name": "stdout",
     "output_type": "stream",
     "text": [
      "Lote 89 concluído em 0:04:18\n"
     ]
    },
    {
     "name": "stderr",
     "output_type": "stream",
     "text": [
      "Lote 90 (Step 7 OHSOME):  45%|████▌     | 9/20 [04:54<05:59, 32.72s/it]"
     ]
    },
    {
     "name": "stdout",
     "output_type": "stream",
     "text": [
      "Ainda trabalhando...\n"
     ]
    },
    {
     "name": "stderr",
     "output_type": "stream",
     "text": [
      "Lote 90 (Step 7 OHSOME): 100%|██████████| 20/20 [07:28<00:00, 22.41s/it]\n"
     ]
    },
    {
     "name": "stdout",
     "output_type": "stream",
     "text": [
      "Lote 90 concluído em 0:07:28\n"
     ]
    },
    {
     "name": "stderr",
     "output_type": "stream",
     "text": [
      "Lote 91 (Step 7 OHSOME):  25%|██▌       | 5/20 [02:07<03:07, 12.51s/it] "
     ]
    },
    {
     "name": "stdout",
     "output_type": "stream",
     "text": [
      "Ainda trabalhando...\n"
     ]
    },
    {
     "name": "stderr",
     "output_type": "stream",
     "text": [
      "Lote 91 (Step 7 OHSOME): 100%|██████████| 20/20 [06:32<00:00, 19.61s/it]\n"
     ]
    },
    {
     "name": "stdout",
     "output_type": "stream",
     "text": [
      "Lote 91 concluído em 0:06:32\n"
     ]
    },
    {
     "name": "stderr",
     "output_type": "stream",
     "text": [
      "Lote 92 (Step 7 OHSOME):   0%|          | 0/20 [00:00<?, ?it/s]"
     ]
    },
    {
     "name": "stdout",
     "output_type": "stream",
     "text": [
      "Ainda trabalhando...\n"
     ]
    },
    {
     "name": "stderr",
     "output_type": "stream",
     "text": [
      "Lote 92 (Step 7 OHSOME):  50%|█████     | 10/20 [05:14<03:22, 20.21s/it]"
     ]
    },
    {
     "name": "stdout",
     "output_type": "stream",
     "text": [
      "Ainda trabalhando...\n"
     ]
    },
    {
     "name": "stderr",
     "output_type": "stream",
     "text": [
      "Lote 92 (Step 7 OHSOME): 100%|██████████| 20/20 [08:20<00:00, 25.04s/it]\n"
     ]
    },
    {
     "name": "stdout",
     "output_type": "stream",
     "text": [
      "Lote 92 concluído em 0:08:21\n"
     ]
    },
    {
     "name": "stderr",
     "output_type": "stream",
     "text": [
      "Lote 93 (Step 7 OHSOME):  20%|██        | 4/20 [02:10<07:40, 28.77s/it]"
     ]
    },
    {
     "name": "stdout",
     "output_type": "stream",
     "text": [
      "Ainda trabalhando...\n"
     ]
    },
    {
     "name": "stderr",
     "output_type": "stream",
     "text": [
      "Lote 93 (Step 7 OHSOME):  70%|███████   | 14/20 [07:28<03:33, 35.59s/it]"
     ]
    },
    {
     "name": "stdout",
     "output_type": "stream",
     "text": [
      "Ainda trabalhando...\n"
     ]
    },
    {
     "name": "stderr",
     "output_type": "stream",
     "text": [
      "Lote 93 (Step 7 OHSOME): 100%|██████████| 20/20 [09:41<00:00, 29.05s/it]\n"
     ]
    },
    {
     "name": "stdout",
     "output_type": "stream",
     "text": [
      "Lote 93 concluído em 0:09:41\n"
     ]
    },
    {
     "name": "stderr",
     "output_type": "stream",
     "text": [
      "Lote 94 (Step 7 OHSOME):  35%|███▌      | 7/20 [02:25<04:14, 19.56s/it]"
     ]
    },
    {
     "name": "stdout",
     "output_type": "stream",
     "text": [
      "Ainda trabalhando...\n"
     ]
    },
    {
     "name": "stderr",
     "output_type": "stream",
     "text": [
      "Lote 94 (Step 7 OHSOME):  85%|████████▌ | 17/20 [06:49<00:54, 18.03s/it]"
     ]
    },
    {
     "name": "stdout",
     "output_type": "stream",
     "text": [
      "Ainda trabalhando...\n"
     ]
    },
    {
     "name": "stderr",
     "output_type": "stream",
     "text": [
      "Lote 94 (Step 7 OHSOME): 100%|██████████| 20/20 [08:11<00:00, 24.59s/it]\n"
     ]
    },
    {
     "name": "stdout",
     "output_type": "stream",
     "text": [
      "Lote 94 concluído em 0:08:12\n"
     ]
    },
    {
     "name": "stderr",
     "output_type": "stream",
     "text": [
      "Lote 95 (Step 7 OHSOME):  55%|█████▌    | 11/20 [04:37<04:39, 31.05s/it]"
     ]
    },
    {
     "name": "stdout",
     "output_type": "stream",
     "text": [
      "Ainda trabalhando...\n"
     ]
    },
    {
     "name": "stderr",
     "output_type": "stream",
     "text": [
      "Lote 95 (Step 7 OHSOME): 100%|██████████| 20/20 [07:54<00:00, 23.71s/it]\n"
     ]
    },
    {
     "name": "stdout",
     "output_type": "stream",
     "text": [
      "Lote 95 concluído em 0:07:54\n"
     ]
    },
    {
     "name": "stderr",
     "output_type": "stream",
     "text": [
      "Lote 96 (Step 7 OHSOME):  10%|█         | 2/20 [01:12<09:25, 31.42s/it]"
     ]
    },
    {
     "name": "stdout",
     "output_type": "stream",
     "text": [
      "Ainda trabalhando...\n"
     ]
    },
    {
     "name": "stderr",
     "output_type": "stream",
     "text": [
      "Lote 96 (Step 7 OHSOME):  45%|████▌     | 9/20 [06:22<07:36, 41.49s/it]"
     ]
    },
    {
     "name": "stdout",
     "output_type": "stream",
     "text": [
      "Ainda trabalhando...\n"
     ]
    },
    {
     "name": "stderr",
     "output_type": "stream",
     "text": [
      "Lote 96 (Step 7 OHSOME):  95%|█████████▌| 19/20 [11:23<00:22, 22.41s/it]"
     ]
    },
    {
     "name": "stdout",
     "output_type": "stream",
     "text": [
      "Ainda trabalhando...\n"
     ]
    },
    {
     "name": "stderr",
     "output_type": "stream",
     "text": [
      "Lote 96 (Step 7 OHSOME): 100%|██████████| 20/20 [13:31<00:00, 40.60s/it]\n"
     ]
    },
    {
     "name": "stdout",
     "output_type": "stream",
     "text": [
      "Lote 96 concluído em 0:13:32\n"
     ]
    },
    {
     "name": "stderr",
     "output_type": "stream",
     "text": [
      "Lote 97 (Step 7 OHSOME):  20%|██        | 4/20 [02:48<07:21, 27.62s/it] "
     ]
    },
    {
     "name": "stdout",
     "output_type": "stream",
     "text": [
      "Ainda trabalhando...\n"
     ]
    },
    {
     "name": "stderr",
     "output_type": "stream",
     "text": [
      "Lote 97 (Step 7 OHSOME):  75%|███████▌  | 15/20 [08:00<02:20, 28.00s/it]"
     ]
    },
    {
     "name": "stdout",
     "output_type": "stream",
     "text": [
      "Ainda trabalhando...\n"
     ]
    },
    {
     "name": "stderr",
     "output_type": "stream",
     "text": [
      "Lote 97 (Step 7 OHSOME): 100%|██████████| 20/20 [11:03<00:00, 33.16s/it]\n"
     ]
    },
    {
     "name": "stdout",
     "output_type": "stream",
     "text": [
      "Lote 97 concluído em 0:11:03\n"
     ]
    },
    {
     "name": "stderr",
     "output_type": "stream",
     "text": [
      "Lote 98 (Step 7 OHSOME):  15%|█▌        | 3/20 [02:10<10:56, 38.60s/it]"
     ]
    },
    {
     "name": "stdout",
     "output_type": "stream",
     "text": [
      "Ainda trabalhando...\n"
     ]
    },
    {
     "name": "stderr",
     "output_type": "stream",
     "text": [
      "Lote 98 (Step 7 OHSOME):  90%|█████████ | 18/20 [07:05<00:39, 19.76s/it]"
     ]
    },
    {
     "name": "stdout",
     "output_type": "stream",
     "text": [
      "Ainda trabalhando...\n"
     ]
    },
    {
     "name": "stderr",
     "output_type": "stream",
     "text": [
      "Lote 98 (Step 7 OHSOME): 100%|██████████| 20/20 [07:19<00:00, 21.96s/it]\n"
     ]
    },
    {
     "name": "stdout",
     "output_type": "stream",
     "text": [
      "Lote 98 concluído em 0:07:19\n"
     ]
    },
    {
     "name": "stderr",
     "output_type": "stream",
     "text": [
      "Lote 99 (Step 7 OHSOME):  55%|█████▌    | 11/20 [04:28<02:29, 16.63s/it]"
     ]
    },
    {
     "name": "stdout",
     "output_type": "stream",
     "text": [
      "Ainda trabalhando...\n"
     ]
    },
    {
     "name": "stderr",
     "output_type": "stream",
     "text": [
      "Lote 99 (Step 7 OHSOME): 100%|██████████| 20/20 [09:02<00:00, 27.13s/it]\n"
     ]
    },
    {
     "name": "stdout",
     "output_type": "stream",
     "text": [
      "Lote 99 concluído em 0:09:02\n"
     ]
    },
    {
     "name": "stderr",
     "output_type": "stream",
     "text": [
      "Lote 100 (Step 7 OHSOME):   0%|          | 0/20 [00:00<?, ?it/s]"
     ]
    },
    {
     "name": "stdout",
     "output_type": "stream",
     "text": [
      "Ainda trabalhando...\n"
     ]
    },
    {
     "name": "stderr",
     "output_type": "stream",
     "text": [
      "Lote 100 (Step 7 OHSOME):  85%|████████▌ | 17/20 [05:44<00:31, 10.43s/it]"
     ]
    },
    {
     "name": "stdout",
     "output_type": "stream",
     "text": [
      "Ainda trabalhando...\n"
     ]
    },
    {
     "name": "stderr",
     "output_type": "stream",
     "text": [
      "Lote 100 (Step 7 OHSOME): 100%|██████████| 20/20 [06:20<00:00, 19.02s/it]\n"
     ]
    },
    {
     "name": "stdout",
     "output_type": "stream",
     "text": [
      "Lote 100 concluído em 0:06:20\n"
     ]
    },
    {
     "name": "stderr",
     "output_type": "stream",
     "text": [
      "Lote 101 (Step 7 OHSOME):  75%|███████▌  | 15/20 [04:23<01:55, 23.02s/it]"
     ]
    },
    {
     "name": "stdout",
     "output_type": "stream",
     "text": [
      "Ainda trabalhando...\n"
     ]
    },
    {
     "name": "stderr",
     "output_type": "stream",
     "text": [
      "Lote 101 (Step 7 OHSOME): 100%|██████████| 20/20 [05:43<00:00, 17.20s/it]\n"
     ]
    },
    {
     "name": "stdout",
     "output_type": "stream",
     "text": [
      "Lote 101 concluído em 0:05:44\n"
     ]
    },
    {
     "name": "stderr",
     "output_type": "stream",
     "text": [
      "Lote 102 (Step 7 OHSOME):  25%|██▌       | 5/20 [02:20<03:22, 13.49s/it] "
     ]
    },
    {
     "name": "stdout",
     "output_type": "stream",
     "text": [
      "Ainda trabalhando...\n"
     ]
    },
    {
     "name": "stderr",
     "output_type": "stream",
     "text": [
      "Lote 102 (Step 7 OHSOME):  80%|████████  | 16/20 [08:34<02:33, 38.40s/it]"
     ]
    },
    {
     "name": "stdout",
     "output_type": "stream",
     "text": [
      "Ainda trabalhando...\n"
     ]
    },
    {
     "name": "stderr",
     "output_type": "stream",
     "text": [
      "Lote 102 (Step 7 OHSOME): 100%|██████████| 20/20 [09:29<00:00, 28.47s/it]\n"
     ]
    },
    {
     "name": "stdout",
     "output_type": "stream",
     "text": [
      "Lote 102 concluído em 0:09:29\n"
     ]
    },
    {
     "name": "stderr",
     "output_type": "stream",
     "text": [
      "Lote 103 (Step 7 OHSOME):  35%|███▌      | 7/20 [04:07<07:39, 35.32s/it]"
     ]
    },
    {
     "name": "stdout",
     "output_type": "stream",
     "text": [
      "Ainda trabalhando...\n"
     ]
    },
    {
     "name": "stderr",
     "output_type": "stream",
     "text": [
      "Lote 103 (Step 7 OHSOME): 100%|██████████| 20/20 [06:59<00:00, 20.98s/it]\n"
     ]
    },
    {
     "name": "stdout",
     "output_type": "stream",
     "text": [
      "Lote 103 concluído em 0:06:59\n"
     ]
    },
    {
     "name": "stderr",
     "output_type": "stream",
     "text": [
      "Lote 104 (Step 7 OHSOME):  20%|██        | 4/20 [01:44<05:31, 20.70s/it]"
     ]
    },
    {
     "name": "stdout",
     "output_type": "stream",
     "text": [
      "Ainda trabalhando...\n"
     ]
    },
    {
     "name": "stderr",
     "output_type": "stream",
     "text": [
      "Lote 104 (Step 7 OHSOME): 100%|██████████| 20/20 [05:52<00:00, 17.62s/it]\n"
     ]
    },
    {
     "name": "stdout",
     "output_type": "stream",
     "text": [
      "Lote 104 concluído em 0:05:52\n"
     ]
    },
    {
     "name": "stderr",
     "output_type": "stream",
     "text": [
      "Lote 105 (Step 7 OHSOME):  20%|██        | 4/20 [01:05<03:10, 11.88s/it]"
     ]
    },
    {
     "name": "stdout",
     "output_type": "stream",
     "text": [
      "Ainda trabalhando...\n"
     ]
    },
    {
     "name": "stderr",
     "output_type": "stream",
     "text": [
      "Lote 105 (Step 7 OHSOME):  75%|███████▌  | 15/20 [05:46<00:57, 11.52s/it]"
     ]
    },
    {
     "name": "stdout",
     "output_type": "stream",
     "text": [
      "Ainda trabalhando...\n"
     ]
    },
    {
     "name": "stderr",
     "output_type": "stream",
     "text": [
      "Lote 105 (Step 7 OHSOME): 100%|██████████| 20/20 [08:26<00:00, 25.34s/it]\n"
     ]
    },
    {
     "name": "stdout",
     "output_type": "stream",
     "text": [
      "Lote 105 concluído em 0:08:27\n"
     ]
    },
    {
     "name": "stderr",
     "output_type": "stream",
     "text": [
      "Lote 106 (Step 7 OHSOME):  30%|███       | 6/20 [02:35<03:18, 14.17s/it]"
     ]
    },
    {
     "name": "stdout",
     "output_type": "stream",
     "text": [
      "Ainda trabalhando...\n"
     ]
    },
    {
     "name": "stderr",
     "output_type": "stream",
     "text": [
      "Lote 106 (Step 7 OHSOME): 100%|██████████| 20/20 [07:20<00:00, 22.02s/it]\n"
     ]
    },
    {
     "name": "stdout",
     "output_type": "stream",
     "text": [
      "Lote 106 concluído em 0:07:20\n"
     ]
    },
    {
     "name": "stderr",
     "output_type": "stream",
     "text": [
      "Lote 107 (Step 7 OHSOME):   0%|          | 0/20 [00:00<?, ?it/s]"
     ]
    },
    {
     "name": "stdout",
     "output_type": "stream",
     "text": [
      "Ainda trabalhando...\n"
     ]
    },
    {
     "name": "stderr",
     "output_type": "stream",
     "text": [
      "Lote 107 (Step 7 OHSOME):  55%|█████▌    | 11/20 [05:30<04:01, 26.80s/it]"
     ]
    },
    {
     "name": "stdout",
     "output_type": "stream",
     "text": [
      "Ainda trabalhando...\n"
     ]
    },
    {
     "name": "stderr",
     "output_type": "stream",
     "text": [
      "Lote 107 (Step 7 OHSOME): 100%|██████████| 20/20 [07:31<00:00, 22.59s/it]\n"
     ]
    },
    {
     "name": "stdout",
     "output_type": "stream",
     "text": [
      "Lote 107 concluído em 0:07:31\n"
     ]
    },
    {
     "name": "stderr",
     "output_type": "stream",
     "text": [
      "Lote 108 (Step 7 OHSOME): 100%|██████████| 20/20 [01:32<00:00,  4.62s/it]\n"
     ]
    },
    {
     "name": "stdout",
     "output_type": "stream",
     "text": [
      "Lote 108 concluído em 0:01:32\n"
     ]
    },
    {
     "name": "stderr",
     "output_type": "stream",
     "text": [
      "Lote 109 (Step 7 OHSOME):  15%|█▌        | 3/20 [01:29<05:48, 20.51s/it]"
     ]
    },
    {
     "name": "stdout",
     "output_type": "stream",
     "text": [
      "Ainda trabalhando...\n"
     ]
    },
    {
     "name": "stderr",
     "output_type": "stream",
     "text": [
      "Lote 109 (Step 7 OHSOME):  80%|████████  | 16/20 [06:10<00:52, 13.06s/it]"
     ]
    },
    {
     "name": "stdout",
     "output_type": "stream",
     "text": [
      "Ainda trabalhando...\n"
     ]
    },
    {
     "name": "stderr",
     "output_type": "stream",
     "text": [
      "Lote 109 (Step 7 OHSOME): 100%|██████████| 20/20 [07:13<00:00, 21.69s/it]\n"
     ]
    },
    {
     "name": "stdout",
     "output_type": "stream",
     "text": [
      "Lote 109 concluído em 0:07:13\n"
     ]
    },
    {
     "name": "stderr",
     "output_type": "stream",
     "text": [
      "Lote 110 (Step 7 OHSOME): 100%|██████████| 20/20 [02:25<00:00,  7.28s/it]\n"
     ]
    },
    {
     "name": "stdout",
     "output_type": "stream",
     "text": [
      "Lote 110 concluído em 0:02:25\n"
     ]
    },
    {
     "name": "stderr",
     "output_type": "stream",
     "text": [
      "Lote 111 (Step 7 OHSOME):  55%|█████▌    | 11/20 [01:48<01:56, 12.97s/it]"
     ]
    },
    {
     "name": "stdout",
     "output_type": "stream",
     "text": [
      "Ainda trabalhando...\n"
     ]
    },
    {
     "name": "stderr",
     "output_type": "stream",
     "text": [
      "Lote 111 (Step 7 OHSOME): 100%|██████████| 20/20 [04:58<00:00, 14.91s/it]\n"
     ]
    },
    {
     "name": "stdout",
     "output_type": "stream",
     "text": [
      "Lote 111 concluído em 0:04:58\n"
     ]
    },
    {
     "name": "stderr",
     "output_type": "stream",
     "text": [
      "Lote 112 (Step 7 OHSOME):   0%|          | 0/20 [00:00<?, ?it/s]"
     ]
    },
    {
     "name": "stdout",
     "output_type": "stream",
     "text": [
      "Ainda trabalhando...\n"
     ]
    },
    {
     "name": "stderr",
     "output_type": "stream",
     "text": [
      "Lote 112 (Step 7 OHSOME):  70%|███████   | 14/20 [06:10<02:11, 21.85s/it]"
     ]
    },
    {
     "name": "stdout",
     "output_type": "stream",
     "text": [
      "Ainda trabalhando...\n"
     ]
    },
    {
     "name": "stderr",
     "output_type": "stream",
     "text": [
      "Lote 112 (Step 7 OHSOME): 100%|██████████| 20/20 [09:09<00:00, 27.46s/it]\n"
     ]
    },
    {
     "name": "stdout",
     "output_type": "stream",
     "text": [
      "Lote 112 concluído em 0:09:09\n"
     ]
    },
    {
     "name": "stderr",
     "output_type": "stream",
     "text": [
      "Lote 113 (Step 7 OHSOME):  25%|██▌       | 5/20 [02:19<04:18, 17.27s/it] "
     ]
    },
    {
     "name": "stdout",
     "output_type": "stream",
     "text": [
      "Ainda trabalhando...\n"
     ]
    },
    {
     "name": "stderr",
     "output_type": "stream",
     "text": [
      "Lote 113 (Step 7 OHSOME): 100%|██████████| 20/20 [06:49<00:00, 20.45s/it]\n"
     ]
    },
    {
     "name": "stdout",
     "output_type": "stream",
     "text": [
      "Lote 113 concluído em 0:06:49\n"
     ]
    },
    {
     "name": "stderr",
     "output_type": "stream",
     "text": [
      "Lote 114 (Step 7 OHSOME):  60%|██████    | 3/5 [00:44<00:21, 10.56s/it]"
     ]
    },
    {
     "name": "stdout",
     "output_type": "stream",
     "text": [
      "Ainda trabalhando...\n"
     ]
    },
    {
     "name": "stderr",
     "output_type": "stream",
     "text": [
      "Lote 114 (Step 7 OHSOME): 100%|██████████| 5/5 [01:28<00:00, 17.74s/it]\n"
     ]
    },
    {
     "name": "stdout",
     "output_type": "stream",
     "text": [
      "Lote 114 concluído em 0:01:28\n",
      "Step 7 (OHSOME) finalizado com sucesso.\n"
     ]
    },
    {
     "name": "stdout",
     "output_type": "stream",
     "text": [
      "Ainda trabalhando...\n"
     ]
    }
   ],
   "source": [
    "# === STEP 7 (OHSOME API) ===\n",
    "# Com módulos utils e processar_com_ohsome\n",
    "\n",
    "# === Import necessary libraries and modules ===\n",
    "from src.utils import init_log, start_keep_alive, log_mensagem, consolidar_geojson\n",
    "from src.processar_com_ohsome import processar_com_ohsome\n",
    "\n",
    "from tqdm import tqdm\n",
    "from pathlib import Path\n",
    "from concurrent.futures import ThreadPoolExecutor, as_completed\n",
    "from datetime import timedelta\n",
    "import json, math, time\n",
    "\n",
    "# === CONFIGURAÇÕES GERAIS ===\n",
    "output_dir = Path(\"data/output_code1/step7_latest_name_ohsome\")\n",
    "output_dir.mkdir(parents=True, exist_ok=True)\n",
    "\n",
    "log_path = output_dir / \"log_step7_ohsome.csv\"\n",
    "ultimo_lote_path = output_dir / \"ultimo_lote_step7_ohsome.txt\"\n",
    "\n",
    "# === LOG E KEEP ALIVE ===\n",
    "# Flag global para controle\n",
    "\n",
    "init_log(log_path)\n",
    "keep_alive_flag = {\"running\": True}\n",
    "keep_alive_thread = start_keep_alive(log_path, keep_alive_flag)\n",
    "\n",
    "# === EXECUÇÃO EM LOTE ===\n",
    "try:\n",
    "    ultimo_lote = int(ultimo_lote_path.read_text().strip()) if ultimo_lote_path.exists() else 0\n",
    "    lote_size = 20\n",
    "    total_lotes = math.ceil(len(gdf_cells_valid) / lote_size)\n",
    "\n",
    "    for lote_index in range(ultimo_lote, total_lotes):\n",
    "        start_time = time.time()\n",
    "        features_final = []\n",
    "        subset = gdf_cells_valid.iloc[lote_index * lote_size: (lote_index + 1) * lote_size]\n",
    "\n",
    "        with ThreadPoolExecutor(max_workers=5) as executor:\n",
    "            futures = [\n",
    "                executor.submit(processar_com_ohsome, row, classe_et_edgv_to_tags, log_mensagem, log_path)\n",
    "                for _, row in subset.iterrows()\n",
    "            ]\n",
    "            for future in tqdm(as_completed(futures), total=len(futures), desc=f\"Lote {lote_index + 1} (Step 7 OHSOME)\"):\n",
    "                try:\n",
    "                    features_final.extend(future.result())\n",
    "                except Exception as e:\n",
    "                    log_mensagem(log_path, lote_index + 1, f\"[FALHA GERAL]: {e}\")\n",
    "\n",
    "        out_path = output_dir / f\"step7_lote{lote_index + 1}.geojson\"\n",
    "        with open(out_path, 'w', encoding='utf-8') as f:\n",
    "            json.dump({\"type\": \"FeatureCollection\", \"features\": features_final}, f)\n",
    "        log_mensagem(log_path, lote_index + 1, f\"SALVO {out_path.name}\")\n",
    "\n",
    "        total_feats = consolidar_geojson(output_dir, \"step7_lote*.geojson\", \"step7_consolidado.geojson\")\n",
    "        log_mensagem(log_path, lote_index + 1, f\"CONSOLIDADO atualizado: {total_feats} features\")\n",
    "\n",
    "        ultimo_lote_path.write_text(str(lote_index + 1))\n",
    "        print(f\"Lote {lote_index + 1} concluído em {str(timedelta(seconds=int(time.time() - start_time)))}\")\n",
    "\n",
    "    print(\"Step 7 (OHSOME) finalizado com sucesso.\")\n",
    "    log_mensagem(log_path, \"final\", \"Processamento concluído\")\n",
    "\n",
    "finally:\n",
    "    keep_alive_flag[\"running\"] = False\n",
    "    keep_alive_thread.join(timeout=1)"
   ]
  },
  {
   "cell_type": "markdown",
   "id": "79f06f86",
   "metadata": {},
   "source": [
    "#### **Request last toponyms and metadata – Overpass API**\n",
    "\n",
    " * [Overpass API](https://wiki.openstreetmap.org/wiki/Overpass_API)"
   ]
  },
  {
   "cell_type": "markdown",
   "id": "54578457",
   "metadata": {},
   "source": [
    "##### Implementação sem módulos externos"
   ]
  },
  {
   "cell_type": "code",
   "execution_count": null,
   "id": "8b1e02a7",
   "metadata": {},
   "outputs": [],
   "source": [
    "# === STEP 7: Último topônimo OSM por classe (via Overpass API) ===\n",
    "# Sem módulo utils\n",
    "\n",
    "from pathlib import Path\n",
    "from datetime import timedelta\n",
    "from concurrent.futures import ThreadPoolExecutor, as_completed\n",
    "import time, threading, math, json, csv, glob\n",
    "import pandas as pd\n",
    "\n",
    "# === CONFIGURAÇÕES GERAIS ===\n",
    "output_dir = Path(\"data/output_code1/step7_latest_name_overpass\")\n",
    "output_dir.mkdir(parents=True, exist_ok=True)\n",
    "\n",
    "log_path = output_dir / \"log_step7_overpass.csv\"\n",
    "ultimo_lote_path = output_dir / \"ultimo_lote_step7_overpass.txt\"\n",
    "\n",
    "# === INICIALIZAÇÃO DO LOG ===\n",
    "if not log_path.exists():\n",
    "    with open(log_path, 'w', newline='') as f:\n",
    "        csv.writer(f).writerow([\"lote\", \"mensagem\", \"timestamp\"])\n",
    "\n",
    "def log_mensagem(lote, mensagem):\n",
    "    timestamp = time.strftime('%Y-%m-%d %H:%M:%S')\n",
    "    with open(log_path, 'a', newline='') as f:\n",
    "        csv.writer(f).writerow([lote, mensagem, timestamp])\n",
    "\n",
    "# === KEEP ALIVE (com controle de término) ===\n",
    "keep_alive_running = True\n",
    "def keep_alive():\n",
    "    while keep_alive_running:\n",
    "        time.sleep(300)\n",
    "        print(\"Ainda trabalhando...\")\n",
    "        log_mensagem(\"keep_alive\", \"Ainda trabalhando...\")\n",
    "\n",
    "keep_alive_thread = threading.Thread(target=keep_alive, daemon=True)\n",
    "keep_alive_thread.start()\n",
    "\n",
    "# === EXECUÇÃO EM LOTE USANDO OVERPASS ===\n",
    "try:\n",
    "    ultimo_lote = 0\n",
    "    if ultimo_lote_path.exists():\n",
    "        with open(ultimo_lote_path, 'r') as f:\n",
    "            ultimo_lote = int(f.read().strip())\n",
    "\n",
    "    lote_size = 20\n",
    "    total_lotes = math.ceil(len(gdf_cells_valid) / lote_size)\n",
    "\n",
    "    for lote_index in range(ultimo_lote, total_lotes):\n",
    "        start_time = time.time()\n",
    "        features_final = []\n",
    "\n",
    "        subset = gdf_cells_valid.iloc[lote_index * lote_size: (lote_index + 1) * lote_size]\n",
    "\n",
    "        with ThreadPoolExecutor(max_workers=5) as executor:\n",
    "            futures = [executor.submit(processar_com_overpass, row, classe_et_edgv_to_tags, log_mensagem) for _, row in subset.iterrows()]\n",
    "            for future in as_completed(futures):\n",
    "                try:\n",
    "                    features_final.extend(future.result())\n",
    "                except Exception as e:\n",
    "                    log_mensagem(lote_index + 1, f\"[FALHA GERAL]: {e}\")\n",
    "\n",
    "        # Salva lote em GeoJSON\n",
    "        fc = {\"type\": \"FeatureCollection\", \"features\": features_final}\n",
    "        out_path = output_dir / f\"step7_lote{lote_index + 1}.geojson\"\n",
    "        with open(out_path, 'w', encoding='utf-8') as f:\n",
    "            json.dump(fc, f)\n",
    "        log_mensagem(lote_index + 1, f\"SALVO {out_path.name}\")\n",
    "\n",
    "        # Atualiza consolidação incremental\n",
    "        arquivos = sorted(output_dir.glob(\"step7_lote*.geojson\"))\n",
    "        todas_features = []\n",
    "        for arquivo in arquivos:\n",
    "            with open(arquivo, 'r', encoding='utf-8') as f:\n",
    "                fc_parcial = json.load(f)\n",
    "                todas_features.extend(fc_parcial['features'])\n",
    "\n",
    "        final_fc = {\"type\": \"FeatureCollection\", \"features\": todas_features}\n",
    "        with open(output_dir / \"step7_consolidado.geojson\", 'w', encoding='utf-8') as f:\n",
    "            json.dump(final_fc, f)\n",
    "        log_mensagem(lote_index + 1, \"CONSOLIDADO atualizado\")\n",
    "\n",
    "        with open(ultimo_lote_path, 'w') as f:\n",
    "            f.write(str(lote_index + 1))\n",
    "\n",
    "        tempo_msg = f\"Tempo lote {lote_index + 1}: {str(timedelta(seconds=int(time.time() - start_time)))}\"\n",
    "        print(tempo_msg)\n",
    "        log_mensagem(lote_index + 1, tempo_msg)\n",
    "\n",
    "    print(\"Step 7 (último topônimo por classe - Overpass) finalizado com sucesso.\")\n",
    "    log_mensagem(\"step7_overpass\", \"Processamento finalizado\")\n",
    "\n",
    "finally:\n",
    "    keep_alive_running = False\n",
    "    keep_alive_thread.join(timeout=1)\n"
   ]
  },
  {
   "cell_type": "markdown",
   "id": "93247bc3",
   "metadata": {},
   "source": [
    "##### Implementação com módulos externos"
   ]
  },
  {
   "cell_type": "code",
   "execution_count": null,
   "id": "55c48a5e",
   "metadata": {},
   "outputs": [],
   "source": [
    "# === STEP 7 (Overpass API) ===\n",
    "# Com módulos utils e processar_com_overpass\n",
    "\n",
    "from src.utils import init_log, start_keep_alive, log_mensagem, consolidar_geojson\n",
    "from src.processar_com_overpass import processar_com_overpass\n",
    "\n",
    "from pathlib import Path\n",
    "from datetime import timedelta\n",
    "from concurrent.futures import ThreadPoolExecutor, as_completed\n",
    "import math, json, time\n",
    "\n",
    "# === CONFIGURAÇÃO ===\n",
    "output_dir = Path(\"data/output_code1/step7_latest_name_overpass\")\n",
    "output_dir.mkdir(parents=True, exist_ok=True)\n",
    "log_path = output_dir / \"log_step7_overpass.csv\"\n",
    "ultimo_lote_path = output_dir / \"ultimo_lote_step7_overpass.txt\"\n",
    "\n",
    "# === LOG E KEEP ALIVE ===\n",
    "init_log(log_path)\n",
    "keep_alive_flag = {\"running\": True}\n",
    "keep_alive_thread = start_keep_alive(log_path, keep_alive_flag)\n",
    "\n",
    "# === EXECUÇÃO EM LOTE ===\n",
    "try:\n",
    "    ultimo_lote = int(ultimo_lote_path.read_text().strip()) if ultimo_lote_path.exists() else 0\n",
    "    lote_size = 20\n",
    "    total_lotes = math.ceil(len(gdf_cells_valid) / lote_size)\n",
    "\n",
    "    for lote_index in range(ultimo_lote, total_lotes):\n",
    "        start_time = time.time()\n",
    "        features_final = []\n",
    "        subset = gdf_cells_valid.iloc[lote_index * lote_size: (lote_index + 1) * lote_size]\n",
    "\n",
    "        with ThreadPoolExecutor(max_workers=5) as executor:\n",
    "            futures = [\n",
    "                executor.submit(processar_com_overpass, row, classe_et_edgv_to_tags, log_mensagem, log_path)\n",
    "                for _, row in subset.iterrows()\n",
    "            ]\n",
    "            for future in tqdm(as_completed(futures), total=len(futures), desc=f\"Lote {lote_index + 1} (Step 7 Overpass)\"):\n",
    "                try:\n",
    "                    features_final.extend(future.result())\n",
    "                except Exception as e:\n",
    "                    log_mensagem(log_path, lote_index + 1, f\"[FALHA GERAL]: {e}\")\n",
    "\n",
    "        # Salva lote\n",
    "        out_path = output_dir / f\"step7_lote{lote_index + 1}.geojson\"\n",
    "        with open(out_path, 'w', encoding='utf-8') as f:\n",
    "            json.dump({\"type\": \"FeatureCollection\", \"features\": features_final}, f)\n",
    "        log_mensagem(log_path, lote_index + 1, f\"SALVO {out_path.name}\")\n",
    "\n",
    "        # Consolida incremental\n",
    "        total_feats = consolidar_geojson(output_dir, \"step7_lote*.geojson\", \"step7_consolidado.geojson\")\n",
    "        log_mensagem(log_path, lote_index + 1, f\"CONSOLIDADO atualizado: {total_feats} features\")\n",
    "\n",
    "        # Atualiza lote\n",
    "        ultimo_lote_path.write_text(str(lote_index + 1))\n",
    "        print(f\"Lote {lote_index + 1} concluído em {str(timedelta(seconds=int(time.time() - start_time)))}\")\n",
    "\n",
    "    print(\"Step 7 (Overpass) finalizado com sucesso.\")\n",
    "    log_mensagem(log_path, \"final\", \"Processamento concluído\")\n",
    "\n",
    "finally:\n",
    "    keep_alive_flag[\"running\"] = False\n",
    "    keep_alive_thread.join(timeout=1)"
   ]
  },
  {
   "cell_type": "code",
   "execution_count": null,
   "id": "5c41c17d",
   "metadata": {},
   "outputs": [],
   "source": [
    "# === DEBUG MANUAL - PROCESSAR UMA CELULA ===\n",
    "\n",
    "# Rodar debug manual com apenas uma célula\n",
    "test_row = gdf_cells_valid.iloc[0]\n",
    "features = processar_com_overpass.processar_com_overpass(test_row, classe_et_edgv_to_tags, log_mensagem, log_path)\n",
    "\n",
    "print(json.dumps(features, indent=2))"
   ]
  },
  {
   "cell_type": "markdown",
   "id": "a938b8f7",
   "metadata": {},
   "source": [
    "#### PostGIS - Close the database connection"
   ]
  },
  {
   "cell_type": "code",
   "execution_count": 16,
   "id": "c11755da",
   "metadata": {},
   "outputs": [
    {
     "name": "stdout",
     "output_type": "stream",
     "text": [
      "Conexão com o banco de dados fechada.\n"
     ]
    }
   ],
   "source": [
    "# Close the database connection\n",
    "if conn and conn.closed == 0:\n",
    "    # conexão ainda aberta\n",
    "    with conn.cursor() as cur:\n",
    "        ...\n",
    "        cur.close()\n",
    "    conn.close()\n",
    "    print(\"Conexão com o banco de dados fechada.\")\n",
    "else:\n",
    "    print(\"Conexão com o banco de dados já estava fechada ou não foi estabelecida.\")\n"
   ]
  },
  {
   "cell_type": "markdown",
   "id": "da87d3cd",
   "metadata": {},
   "source": []
  }
 ],
 "metadata": {
  "kernelspec": {
   "display_name": "env-DScPythonGeo",
   "language": "python",
   "name": "python3"
  },
  "language_info": {
   "codemirror_mode": {
    "name": "ipython",
    "version": 3
   },
   "file_extension": ".py",
   "mimetype": "text/x-python",
   "name": "python",
   "nbconvert_exporter": "python",
   "pygments_lexer": "ipython3",
   "version": "3.12.4"
  }
 },
 "nbformat": 4,
 "nbformat_minor": 5
}
