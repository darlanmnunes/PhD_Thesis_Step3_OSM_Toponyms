{
 "cells": [
  {
   "cell_type": "code",
   "execution_count": 5,
   "id": "a241d1ad",
   "metadata": {},
   "outputs": [],
   "source": [
    "# Import necessary initial libraries\n",
    "import os\n",
    "import sys\n",
    "import importlib\n",
    "from importlib import reload"
   ]
  },
  {
   "cell_type": "code",
   "execution_count": 2,
   "id": "f664bbba",
   "metadata": {},
   "outputs": [],
   "source": [
    "# Sets the root directory of the project as the working directory\n",
    "os.chdir('..')"
   ]
  },
  {
   "cell_type": "code",
   "execution_count": 3,
   "id": "0ce1729b",
   "metadata": {},
   "outputs": [
    {
     "data": {
      "text/plain": [
       "'/Users/darlanmnunes/Dev/DSc_git/PhD_Thesis_Step3_OSM_Toponyms'"
      ]
     },
     "execution_count": 3,
     "metadata": {},
     "output_type": "execute_result"
    }
   ],
   "source": [
    "# Check the current working directory\n",
    "os.getcwd()"
   ]
  },
  {
   "cell_type": "code",
   "execution_count": 4,
   "id": "e4d8b6ca",
   "metadata": {},
   "outputs": [],
   "source": [
    "# Import necessary modules for this notebook\n",
    "from libs.merge_geojson_grids import *"
   ]
  },
  {
   "cell_type": "code",
   "execution_count": null,
   "id": "e71244b0",
   "metadata": {},
   "outputs": [
    {
     "data": {
      "text/plain": [
       "<module 'libs.merge_geojson_grids' from '/Users/darlanmnunes/Dev/DSc_git/PhD_Thesis_Step3_OSM_Toponyms/libs/merge_geojson_grids.py'>"
      ]
     },
     "execution_count": 8,
     "metadata": {},
     "output_type": "execute_result"
    }
   ],
   "source": [
    "# Reload the module to ensure the latest version is used\n",
    "reload(sys.modules['libs.merge_geojson_grids'])"
   ]
  },
  {
   "cell_type": "markdown",
   "id": "ff0dad5e",
   "metadata": {},
   "source": [
    "### Consolidação dos Arquivos GeoJSON das Grades Geoespaciais em um único arquivo"
   ]
  },
  {
   "cell_type": "code",
   "execution_count": null,
   "id": "7c206c57",
   "metadata": {},
   "outputs": [],
   "source": []
  },
  {
   "cell_type": "markdown",
   "id": "10c2eddc",
   "metadata": {},
   "source": [
    "### 3. Métricas de Tempo"
   ]
  },
  {
   "cell_type": "code",
   "execution_count": 6,
   "id": "d4841881",
   "metadata": {},
   "outputs": [],
   "source": [
    "# Leitura do Arquivo Excel\n",
    "file_name = 'tempo_processamento.xlsx'\n",
    "df = pd.read_excel(file_name, sheet_name='Planilha1')"
   ]
  },
  {
   "cell_type": "code",
   "execution_count": null,
   "id": "59eef86e",
   "metadata": {},
   "outputs": [
    {
     "data": {
      "text/html": [
       "<div>\n",
       "<style scoped>\n",
       "    .dataframe tbody tr th:only-of-type {\n",
       "        vertical-align: middle;\n",
       "    }\n",
       "\n",
       "    .dataframe tbody tr th {\n",
       "        vertical-align: top;\n",
       "    }\n",
       "\n",
       "    .dataframe thead th {\n",
       "        text-align: right;\n",
       "    }\n",
       "</style>\n",
       "<table border=\"1\" class=\"dataframe\">\n",
       "  <thead>\n",
       "    <tr style=\"text-align: right;\">\n",
       "      <th></th>\n",
       "      <th>Lote 1:   0%|          | 0/20 [00:00&lt;?</th>\n",
       "      <th>?it/s]Ainda trabalhando...</th>\n",
       "    </tr>\n",
       "  </thead>\n",
       "  <tbody>\n",
       "    <tr>\n",
       "      <th>0</th>\n",
       "      <td>Lote 1:  25%|██▌       | 5/20 [06:16&lt;08:19</td>\n",
       "      <td>33.27s/it]Ainda trabalhando...</td>\n",
       "    </tr>\n",
       "    <tr>\n",
       "      <th>1</th>\n",
       "      <td>Lote 1:  50%|█████     | 10/20 [13:24&lt;06:19</td>\n",
       "      <td>37.98s/it]Ainda trabalhando...</td>\n",
       "    </tr>\n",
       "    <tr>\n",
       "      <th>2</th>\n",
       "      <td>Ainda trabalhando...</td>\n",
       "      <td>NaN</td>\n",
       "    </tr>\n",
       "    <tr>\n",
       "      <th>3</th>\n",
       "      <td>Lote 1:  75%|███████▌  | 15/20 [21:42&lt;03:43</td>\n",
       "      <td>44.72s/it]Ainda trabalhando...</td>\n",
       "    </tr>\n",
       "    <tr>\n",
       "      <th>4</th>\n",
       "      <td>Ainda trabalhando...</td>\n",
       "      <td>NaN</td>\n",
       "    </tr>\n",
       "    <tr>\n",
       "      <th>5</th>\n",
       "      <td>Lote 1: 100%|██████████| 20/20 [30:34&lt;00:00</td>\n",
       "      <td>91.71s/it]</td>\n",
       "    </tr>\n",
       "    <tr>\n",
       "      <th>6</th>\n",
       "      <td>[SALVO] /content/drive/MyDrive/UFPR_PPGCG_DSc/...</td>\n",
       "      <td>NaN</td>\n",
       "    </tr>\n",
       "    <tr>\n",
       "      <th>7</th>\n",
       "      <td>[CONSOLIDADO] resultado_consolidado.geojson at...</td>\n",
       "      <td>NaN</td>\n",
       "    </tr>\n",
       "    <tr>\n",
       "      <th>8</th>\n",
       "      <td>Tempo do lote 1: 30.0 min 34.31 seg</td>\n",
       "      <td>NaN</td>\n",
       "    </tr>\n",
       "    <tr>\n",
       "      <th>9</th>\n",
       "      <td>Lote 2:   0%|          | 0/20 [00:00&lt;?</td>\n",
       "      <td>?it/s]Ainda trabalhando...</td>\n",
       "    </tr>\n",
       "  </tbody>\n",
       "</table>\n",
       "</div>"
      ],
      "text/plain": [
       "              Lote 1:   0%|          | 0/20 [00:00<?  \\\n",
       "0         Lote 1:  25%|██▌       | 5/20 [06:16<08:19   \n",
       "1        Lote 1:  50%|█████     | 10/20 [13:24<06:19   \n",
       "2                               Ainda trabalhando...   \n",
       "3        Lote 1:  75%|███████▌  | 15/20 [21:42<03:43   \n",
       "4                               Ainda trabalhando...   \n",
       "5        Lote 1: 100%|██████████| 20/20 [30:34<00:00   \n",
       "6  [SALVO] /content/drive/MyDrive/UFPR_PPGCG_DSc/...   \n",
       "7  [CONSOLIDADO] resultado_consolidado.geojson at...   \n",
       "8                Tempo do lote 1: 30.0 min 34.31 seg   \n",
       "9             Lote 2:   0%|          | 0/20 [00:00<?   \n",
       "\n",
       "        ?it/s]Ainda trabalhando...  \n",
       "0   33.27s/it]Ainda trabalhando...  \n",
       "1   37.98s/it]Ainda trabalhando...  \n",
       "2                              NaN  \n",
       "3   44.72s/it]Ainda trabalhando...  \n",
       "4                              NaN  \n",
       "5                       91.71s/it]  \n",
       "6                              NaN  \n",
       "7                              NaN  \n",
       "8                              NaN  \n",
       "9       ?it/s]Ainda trabalhando...  "
      ]
     },
     "metadata": {},
     "output_type": "display_data"
    }
   ],
   "source": [
    "# Exibe as primeiras linhas para validar\n",
    "display(df.head(10))"
   ]
  },
  {
   "cell_type": "code",
   "execution_count": null,
   "id": "1bfb7200",
   "metadata": {},
   "outputs": [
    {
     "data": {
      "text/html": [
       "<div>\n",
       "<style scoped>\n",
       "    .dataframe tbody tr th:only-of-type {\n",
       "        vertical-align: middle;\n",
       "    }\n",
       "\n",
       "    .dataframe tbody tr th {\n",
       "        vertical-align: top;\n",
       "    }\n",
       "\n",
       "    .dataframe thead th {\n",
       "        text-align: right;\n",
       "    }\n",
       "</style>\n",
       "<table border=\"1\" class=\"dataframe\">\n",
       "  <thead>\n",
       "    <tr style=\"text-align: right;\">\n",
       "      <th></th>\n",
       "      <th>Lote 1:   0%|          | 0/20 [00:00&lt;?</th>\n",
       "      <th>?it/s]Ainda trabalhando...</th>\n",
       "    </tr>\n",
       "  </thead>\n",
       "  <tbody>\n",
       "    <tr>\n",
       "      <th>1343</th>\n",
       "      <td>Lote 128:  35%|███▌      | 7/20 [11:04&lt;19:10</td>\n",
       "      <td>88.51s/it] Ainda trabalhando...</td>\n",
       "    </tr>\n",
       "    <tr>\n",
       "      <th>1344</th>\n",
       "      <td>Lote 128:  50%|█████     | 10/20 [11:18&lt;05:14</td>\n",
       "      <td>31.41s/it]Ainda trabalhando...</td>\n",
       "    </tr>\n",
       "    <tr>\n",
       "      <th>1345</th>\n",
       "      <td>Lote 128:  75%|███████▌  | 15/20 [17:08&lt;02:59</td>\n",
       "      <td>35.94s/it]Ainda trabalhando...</td>\n",
       "    </tr>\n",
       "    <tr>\n",
       "      <th>1346</th>\n",
       "      <td>Lote 128: 100%|██████████| 20/20 [23:19&lt;00:00</td>\n",
       "      <td>69.96s/it]</td>\n",
       "    </tr>\n",
       "    <tr>\n",
       "      <th>1347</th>\n",
       "      <td>[SALVO] /content/drive/MyDrive/UFPR_PPGCG_DSc/...</td>\n",
       "      <td>NaN</td>\n",
       "    </tr>\n",
       "    <tr>\n",
       "      <th>1348</th>\n",
       "      <td>[CONSOLIDADO] resultado_consolidado.geojson at...</td>\n",
       "      <td>NaN</td>\n",
       "    </tr>\n",
       "    <tr>\n",
       "      <th>1349</th>\n",
       "      <td>Tempo do lote 128: 23.0 min 20.09 seg</td>\n",
       "      <td>NaN</td>\n",
       "    </tr>\n",
       "    <tr>\n",
       "      <th>1350</th>\n",
       "      <td>Lote 129:   0%|          | 0/20 [00:00&lt;?</td>\n",
       "      <td>?it/s]Ainda trabalhando...</td>\n",
       "    </tr>\n",
       "    <tr>\n",
       "      <th>1351</th>\n",
       "      <td>Lote 129:  25%|██▌       | 5/20 [06:10&lt;08:40</td>\n",
       "      <td>34.71s/it]Ainda trabalhando...</td>\n",
       "    </tr>\n",
       "    <tr>\n",
       "      <th>1352</th>\n",
       "      <td>Lote 129:  50%|█████     | 10/20 [12:29&lt;05:58</td>\n",
       "      <td>35.85s/it]Ainda trabalhando...</td>\n",
       "    </tr>\n",
       "  </tbody>\n",
       "</table>\n",
       "</div>"
      ],
      "text/plain": [
       "                 Lote 1:   0%|          | 0/20 [00:00<?  \\\n",
       "1343       Lote 128:  35%|███▌      | 7/20 [11:04<19:10   \n",
       "1344      Lote 128:  50%|█████     | 10/20 [11:18<05:14   \n",
       "1345      Lote 128:  75%|███████▌  | 15/20 [17:08<02:59   \n",
       "1346      Lote 128: 100%|██████████| 20/20 [23:19<00:00   \n",
       "1347  [SALVO] /content/drive/MyDrive/UFPR_PPGCG_DSc/...   \n",
       "1348  [CONSOLIDADO] resultado_consolidado.geojson at...   \n",
       "1349              Tempo do lote 128: 23.0 min 20.09 seg   \n",
       "1350           Lote 129:   0%|          | 0/20 [00:00<?   \n",
       "1351       Lote 129:  25%|██▌       | 5/20 [06:10<08:40   \n",
       "1352      Lote 129:  50%|█████     | 10/20 [12:29<05:58   \n",
       "\n",
       "            ?it/s]Ainda trabalhando...  \n",
       "1343   88.51s/it] Ainda trabalhando...  \n",
       "1344    31.41s/it]Ainda trabalhando...  \n",
       "1345    35.94s/it]Ainda trabalhando...  \n",
       "1346                        69.96s/it]  \n",
       "1347                               NaN  \n",
       "1348                               NaN  \n",
       "1349                               NaN  \n",
       "1350        ?it/s]Ainda trabalhando...  \n",
       "1351    34.71s/it]Ainda trabalhando...  \n",
       "1352    35.85s/it]Ainda trabalhando...  "
      ]
     },
     "metadata": {},
     "output_type": "display_data"
    }
   ],
   "source": [
    "# Exibe as últimas linhas para validar\n",
    "display(df.tail(10))"
   ]
  },
  {
   "cell_type": "code",
   "execution_count": 8,
   "id": "c0978e08",
   "metadata": {},
   "outputs": [],
   "source": [
    "# Função para extrair tempos dos lotes\n",
    "def extrair_tempos(df):\n",
    "    resultados = []\n",
    "\n",
    "    for line in df.iloc[:, 0].dropna():\n",
    "        match = re.search(r'Tempo do lote (\\d+): (\\d+\\.?\\d*) min (\\d+\\.?\\d*) seg', line)\n",
    "        if match:\n",
    "            lote = int(match.group(1))\n",
    "            minutos = float(match.group(2))\n",
    "            segundos = float(match.group(3))\n",
    "            total_segundos = int(minutos * 60 + segundos)\n",
    "            resultados.append({\n",
    "                'Lote': lote,\n",
    "                'Minutos': minutos,\n",
    "                'Segundos': segundos,\n",
    "                'Total (s)': total_segundos,\n",
    "                'Total (min)': total_segundos / 60,\n",
    "                'Total (h)': total_segundos / 3600,\n",
    "                'Total (dias)': total_segundos / (3600 * 24),\n",
    "                'Duração (timedelta)': timedelta(seconds=total_segundos)\n",
    "            })\n",
    "\n",
    "    return pd.DataFrame(resultados)"
   ]
  },
  {
   "cell_type": "code",
   "execution_count": 9,
   "id": "501019d3",
   "metadata": {},
   "outputs": [
    {
     "data": {
      "text/html": [
       "<div>\n",
       "<style scoped>\n",
       "    .dataframe tbody tr th:only-of-type {\n",
       "        vertical-align: middle;\n",
       "    }\n",
       "\n",
       "    .dataframe tbody tr th {\n",
       "        vertical-align: top;\n",
       "    }\n",
       "\n",
       "    .dataframe thead th {\n",
       "        text-align: right;\n",
       "    }\n",
       "</style>\n",
       "<table border=\"1\" class=\"dataframe\">\n",
       "  <thead>\n",
       "    <tr style=\"text-align: right;\">\n",
       "      <th></th>\n",
       "      <th>Lote</th>\n",
       "      <th>Minutos</th>\n",
       "      <th>Segundos</th>\n",
       "      <th>Total (s)</th>\n",
       "      <th>Total (min)</th>\n",
       "      <th>Total (h)</th>\n",
       "      <th>Total (dias)</th>\n",
       "      <th>Duração (timedelta)</th>\n",
       "    </tr>\n",
       "  </thead>\n",
       "  <tbody>\n",
       "    <tr>\n",
       "      <th>0</th>\n",
       "      <td>1</td>\n",
       "      <td>30.0</td>\n",
       "      <td>34.31</td>\n",
       "      <td>1834</td>\n",
       "      <td>30.566667</td>\n",
       "      <td>0.509444</td>\n",
       "      <td>0.021227</td>\n",
       "      <td>0 days 00:30:34</td>\n",
       "    </tr>\n",
       "    <tr>\n",
       "      <th>1</th>\n",
       "      <td>2</td>\n",
       "      <td>31.0</td>\n",
       "      <td>23.44</td>\n",
       "      <td>1883</td>\n",
       "      <td>31.383333</td>\n",
       "      <td>0.523056</td>\n",
       "      <td>0.021794</td>\n",
       "      <td>0 days 00:31:23</td>\n",
       "    </tr>\n",
       "    <tr>\n",
       "      <th>2</th>\n",
       "      <td>3</td>\n",
       "      <td>27.0</td>\n",
       "      <td>41.91</td>\n",
       "      <td>1661</td>\n",
       "      <td>27.683333</td>\n",
       "      <td>0.461389</td>\n",
       "      <td>0.019225</td>\n",
       "      <td>0 days 00:27:41</td>\n",
       "    </tr>\n",
       "    <tr>\n",
       "      <th>3</th>\n",
       "      <td>4</td>\n",
       "      <td>28.0</td>\n",
       "      <td>20.47</td>\n",
       "      <td>1700</td>\n",
       "      <td>28.333333</td>\n",
       "      <td>0.472222</td>\n",
       "      <td>0.019676</td>\n",
       "      <td>0 days 00:28:20</td>\n",
       "    </tr>\n",
       "    <tr>\n",
       "      <th>4</th>\n",
       "      <td>5</td>\n",
       "      <td>25.0</td>\n",
       "      <td>27.84</td>\n",
       "      <td>1527</td>\n",
       "      <td>25.450000</td>\n",
       "      <td>0.424167</td>\n",
       "      <td>0.017674</td>\n",
       "      <td>0 days 00:25:27</td>\n",
       "    </tr>\n",
       "    <tr>\n",
       "      <th>...</th>\n",
       "      <td>...</td>\n",
       "      <td>...</td>\n",
       "      <td>...</td>\n",
       "      <td>...</td>\n",
       "      <td>...</td>\n",
       "      <td>...</td>\n",
       "      <td>...</td>\n",
       "      <td>...</td>\n",
       "    </tr>\n",
       "    <tr>\n",
       "      <th>123</th>\n",
       "      <td>124</td>\n",
       "      <td>25.0</td>\n",
       "      <td>5.30</td>\n",
       "      <td>1505</td>\n",
       "      <td>25.083333</td>\n",
       "      <td>0.418056</td>\n",
       "      <td>0.017419</td>\n",
       "      <td>0 days 00:25:05</td>\n",
       "    </tr>\n",
       "    <tr>\n",
       "      <th>124</th>\n",
       "      <td>125</td>\n",
       "      <td>24.0</td>\n",
       "      <td>26.13</td>\n",
       "      <td>1466</td>\n",
       "      <td>24.433333</td>\n",
       "      <td>0.407222</td>\n",
       "      <td>0.016968</td>\n",
       "      <td>0 days 00:24:26</td>\n",
       "    </tr>\n",
       "    <tr>\n",
       "      <th>125</th>\n",
       "      <td>126</td>\n",
       "      <td>27.0</td>\n",
       "      <td>30.72</td>\n",
       "      <td>1650</td>\n",
       "      <td>27.500000</td>\n",
       "      <td>0.458333</td>\n",
       "      <td>0.019097</td>\n",
       "      <td>0 days 00:27:30</td>\n",
       "    </tr>\n",
       "    <tr>\n",
       "      <th>126</th>\n",
       "      <td>127</td>\n",
       "      <td>28.0</td>\n",
       "      <td>9.41</td>\n",
       "      <td>1689</td>\n",
       "      <td>28.150000</td>\n",
       "      <td>0.469167</td>\n",
       "      <td>0.019549</td>\n",
       "      <td>0 days 00:28:09</td>\n",
       "    </tr>\n",
       "    <tr>\n",
       "      <th>127</th>\n",
       "      <td>128</td>\n",
       "      <td>23.0</td>\n",
       "      <td>20.09</td>\n",
       "      <td>1400</td>\n",
       "      <td>23.333333</td>\n",
       "      <td>0.388889</td>\n",
       "      <td>0.016204</td>\n",
       "      <td>0 days 00:23:20</td>\n",
       "    </tr>\n",
       "  </tbody>\n",
       "</table>\n",
       "<p>128 rows × 8 columns</p>\n",
       "</div>"
      ],
      "text/plain": [
       "     Lote  Minutos  Segundos  Total (s)  Total (min)  Total (h)  Total (dias)  \\\n",
       "0       1     30.0     34.31       1834    30.566667   0.509444      0.021227   \n",
       "1       2     31.0     23.44       1883    31.383333   0.523056      0.021794   \n",
       "2       3     27.0     41.91       1661    27.683333   0.461389      0.019225   \n",
       "3       4     28.0     20.47       1700    28.333333   0.472222      0.019676   \n",
       "4       5     25.0     27.84       1527    25.450000   0.424167      0.017674   \n",
       "..    ...      ...       ...        ...          ...        ...           ...   \n",
       "123   124     25.0      5.30       1505    25.083333   0.418056      0.017419   \n",
       "124   125     24.0     26.13       1466    24.433333   0.407222      0.016968   \n",
       "125   126     27.0     30.72       1650    27.500000   0.458333      0.019097   \n",
       "126   127     28.0      9.41       1689    28.150000   0.469167      0.019549   \n",
       "127   128     23.0     20.09       1400    23.333333   0.388889      0.016204   \n",
       "\n",
       "    Duração (timedelta)  \n",
       "0       0 days 00:30:34  \n",
       "1       0 days 00:31:23  \n",
       "2       0 days 00:27:41  \n",
       "3       0 days 00:28:20  \n",
       "4       0 days 00:25:27  \n",
       "..                  ...  \n",
       "123     0 days 00:25:05  \n",
       "124     0 days 00:24:26  \n",
       "125     0 days 00:27:30  \n",
       "126     0 days 00:28:09  \n",
       "127     0 days 00:23:20  \n",
       "\n",
       "[128 rows x 8 columns]"
      ]
     },
     "execution_count": 9,
     "metadata": {},
     "output_type": "execute_result"
    }
   ],
   "source": [
    "# Aplicar a função para extrair os tempos\n",
    "df_tempos = extrair_tempos(df)\n",
    "df_tempos"
   ]
  },
  {
   "cell_type": "code",
   "execution_count": 10,
   "id": "fa6d6a61",
   "metadata": {},
   "outputs": [
    {
     "name": "stdout",
     "output_type": "stream",
     "text": [
      "Tempo Total (todos os lotes): 58.34 horas\n",
      "Tempo Total (todos os lotes): 2.43 dias\n"
     ]
    }
   ],
   "source": [
    "# Cálculo do tempo total consolidado de todos os lotes\n",
    "total_horas = df_tempos['Total (h)'].sum()\n",
    "total_dias = df_tempos['Total (dias)'].sum()\n",
    "print(f\"Tempo Total (todos os lotes): {total_horas :.2f} horas\")\n",
    "print(f\"Tempo Total (todos os lotes): {total_dias :.2f} dias\")"
   ]
  },
  {
   "cell_type": "code",
   "execution_count": 11,
   "id": "541a1582",
   "metadata": {},
   "outputs": [
    {
     "data": {
      "application/vnd.plotly.v1+json": {
       "config": {
        "plotlyServerURL": "https://plot.ly"
       },
       "data": [
        {
         "customdata": [
          [
           30,
           34.31,
           0.5094444444444445,
           "P0DT0H30M34S"
          ],
          [
           31,
           23.44,
           0.5230555555555556,
           "P0DT0H31M23S"
          ],
          [
           27,
           41.91,
           0.4613888888888889,
           "P0DT0H27M41S"
          ],
          [
           28,
           20.47,
           0.4722222222222222,
           "P0DT0H28M20S"
          ],
          [
           25,
           27.84,
           0.4241666666666667,
           "P0DT0H25M27S"
          ],
          [
           27,
           10.84,
           0.4527777777777778,
           "P0DT0H27M10S"
          ],
          [
           25,
           16.63,
           0.4211111111111111,
           "P0DT0H25M16S"
          ],
          [
           26,
           1.25,
           0.4336111111111111,
           "P0DT0H26M1S"
          ],
          [
           25,
           38.84,
           0.4272222222222222,
           "P0DT0H25M38S"
          ],
          [
           26,
           32.47,
           0.44222222222222224,
           "P0DT0H26M32S"
          ],
          [
           25,
           56.68,
           0.43222222222222223,
           "P0DT0H25M56S"
          ],
          [
           27,
           43.83,
           0.46194444444444444,
           "P0DT0H27M43S"
          ],
          [
           26,
           4.01,
           0.43444444444444447,
           "P0DT0H26M4S"
          ],
          [
           26,
           34.91,
           0.44277777777777777,
           "P0DT0H26M34S"
          ],
          [
           22,
           59.14,
           0.38305555555555554,
           "P0DT0H22M59S"
          ],
          [
           24,
           7.19,
           0.40194444444444444,
           "P0DT0H24M7S"
          ],
          [
           25,
           30.67,
           0.425,
           "P0DT0H25M30S"
          ],
          [
           25,
           32.46,
           0.4255555555555556,
           "P0DT0H25M32S"
          ],
          [
           25,
           58.03,
           0.43277777777777776,
           "P0DT0H25M58S"
          ],
          [
           26,
           5.98,
           0.43472222222222223,
           "P0DT0H26M5S"
          ],
          [
           24,
           23.5,
           0.4063888888888889,
           "P0DT0H24M23S"
          ],
          [
           24,
           43.6,
           0.41194444444444445,
           "P0DT0H24M43S"
          ],
          [
           26,
           51.68,
           0.4475,
           "P0DT0H26M51S"
          ],
          [
           26,
           46.51,
           0.4461111111111111,
           "P0DT0H26M46S"
          ],
          [
           25,
           47.48,
           0.4297222222222222,
           "P0DT0H25M47S"
          ],
          [
           25,
           1.07,
           0.41694444444444445,
           "P0DT0H25M1S"
          ],
          [
           26,
           58.72,
           0.4494444444444444,
           "P0DT0H26M58S"
          ],
          [
           62,
           47.35,
           1.0463888888888888,
           "P0DT1H2M47S"
          ],
          [
           33,
           33.81,
           0.5591666666666667,
           "P0DT0H33M33S"
          ],
          [
           31,
           28.98,
           0.5244444444444445,
           "P0DT0H31M28S"
          ],
          [
           32,
           56.38,
           0.5488888888888889,
           "P0DT0H32M56S"
          ],
          [
           34,
           20.77,
           0.5722222222222222,
           "P0DT0H34M20S"
          ],
          [
           30,
           0.34,
           0.5,
           "P0DT0H30M0S"
          ],
          [
           29,
           27.52,
           0.49083333333333334,
           "P0DT0H29M27S"
          ],
          [
           29,
           4.74,
           0.48444444444444446,
           "P0DT0H29M4S"
          ],
          [
           24,
           12.77,
           0.4033333333333333,
           "P0DT0H24M12S"
          ],
          [
           28,
           14.73,
           0.47055555555555556,
           "P0DT0H28M14S"
          ],
          [
           26,
           11.03,
           0.4363888888888889,
           "P0DT0H26M11S"
          ],
          [
           25,
           59.87,
           0.4330555555555556,
           "P0DT0H25M59S"
          ],
          [
           23,
           58.47,
           0.39944444444444444,
           "P0DT0H23M58S"
          ],
          [
           27,
           56.94,
           0.46555555555555556,
           "P0DT0H27M56S"
          ],
          [
           24,
           6.4,
           0.40166666666666667,
           "P0DT0H24M6S"
          ],
          [
           26,
           56.75,
           0.4488888888888889,
           "P0DT0H26M56S"
          ],
          [
           26,
           25.73,
           0.44027777777777777,
           "P0DT0H26M25S"
          ],
          [
           26,
           7,
           0.43527777777777776,
           "P0DT0H26M7S"
          ],
          [
           25,
           57.63,
           0.4325,
           "P0DT0H25M57S"
          ],
          [
           31,
           31.67,
           0.5252777777777777,
           "P0DT0H31M31S"
          ],
          [
           22,
           24.14,
           0.37333333333333335,
           "P0DT0H22M24S"
          ],
          [
           25,
           24.46,
           0.42333333333333334,
           "P0DT0H25M24S"
          ],
          [
           27,
           22.07,
           0.45611111111111113,
           "P0DT0H27M22S"
          ],
          [
           26,
           8.52,
           0.43555555555555553,
           "P0DT0H26M8S"
          ],
          [
           25,
           25.23,
           0.4236111111111111,
           "P0DT0H25M25S"
          ],
          [
           24,
           42.54,
           0.4116666666666667,
           "P0DT0H24M42S"
          ],
          [
           25,
           15.34,
           0.42083333333333334,
           "P0DT0H25M15S"
          ],
          [
           25,
           8.96,
           0.41888888888888887,
           "P0DT0H25M8S"
          ],
          [
           26,
           43.87,
           0.4452777777777778,
           "P0DT0H26M43S"
          ],
          [
           25,
           42.49,
           0.42833333333333334,
           "P0DT0H25M42S"
          ],
          [
           26,
           22.23,
           0.43944444444444447,
           "P0DT0H26M22S"
          ],
          [
           25,
           10.92,
           0.41944444444444445,
           "P0DT0H25M10S"
          ],
          [
           29,
           26.41,
           0.4905555555555556,
           "P0DT0H29M26S"
          ],
          [
           27,
           13.41,
           0.45361111111111113,
           "P0DT0H27M13S"
          ],
          [
           26,
           53.79,
           0.44805555555555554,
           "P0DT0H26M53S"
          ],
          [
           27,
           41.9,
           0.4613888888888889,
           "P0DT0H27M41S"
          ],
          [
           27,
           31.49,
           0.45861111111111114,
           "P0DT0H27M31S"
          ],
          [
           26,
           6.93,
           0.435,
           "P0DT0H26M6S"
          ],
          [
           28,
           13.86,
           0.4702777777777778,
           "P0DT0H28M13S"
          ],
          [
           30,
           32.93,
           0.5088888888888888,
           "P0DT0H30M32S"
          ],
          [
           25,
           50.87,
           0.4305555555555556,
           "P0DT0H25M50S"
          ],
          [
           27,
           35.71,
           0.4597222222222222,
           "P0DT0H27M35S"
          ],
          [
           26,
           11.08,
           0.4363888888888889,
           "P0DT0H26M11S"
          ],
          [
           25,
           54.08,
           0.43166666666666664,
           "P0DT0H25M54S"
          ],
          [
           25,
           33.1,
           0.42583333333333334,
           "P0DT0H25M33S"
          ],
          [
           28,
           26.03,
           0.4738888888888889,
           "P0DT0H28M26S"
          ],
          [
           24,
           11.25,
           0.40305555555555556,
           "P0DT0H24M11S"
          ],
          [
           25,
           2.44,
           0.4172222222222222,
           "P0DT0H25M2S"
          ],
          [
           24,
           14.67,
           0.4038888888888889,
           "P0DT0H24M14S"
          ],
          [
           26,
           48.94,
           0.44666666666666666,
           "P0DT0H26M48S"
          ],
          [
           28,
           18.24,
           0.4716666666666667,
           "P0DT0H28M18S"
          ],
          [
           25,
           31.48,
           0.42527777777777775,
           "P0DT0H25M31S"
          ],
          [
           25,
           49.62,
           0.43027777777777776,
           "P0DT0H25M49S"
          ],
          [
           26,
           13.65,
           0.43694444444444447,
           "P0DT0H26M13S"
          ],
          [
           27,
           29.93,
           0.45805555555555555,
           "P0DT0H27M29S"
          ],
          [
           28,
           55.02,
           0.48194444444444445,
           "P0DT0H28M55S"
          ],
          [
           28,
           37.64,
           0.47694444444444445,
           "P0DT0H28M37S"
          ],
          [
           29,
           41.49,
           0.49472222222222223,
           "P0DT0H29M41S"
          ],
          [
           30,
           48.35,
           0.5133333333333333,
           "P0DT0H30M48S"
          ],
          [
           31,
           4.38,
           0.5177777777777778,
           "P0DT0H31M4S"
          ],
          [
           33,
           28.76,
           0.5577777777777778,
           "P0DT0H33M28S"
          ],
          [
           31,
           27.78,
           0.5241666666666667,
           "P0DT0H31M27S"
          ],
          [
           32,
           19.69,
           0.5386111111111112,
           "P0DT0H32M19S"
          ],
          [
           32,
           3.01,
           0.5341666666666667,
           "P0DT0H32M3S"
          ],
          [
           25,
           45.66,
           0.42916666666666664,
           "P0DT0H25M45S"
          ],
          [
           28,
           17.82,
           0.4713888888888889,
           "P0DT0H28M17S"
          ],
          [
           26,
           28.89,
           0.4411111111111111,
           "P0DT0H26M28S"
          ],
          [
           25,
           38.12,
           0.4272222222222222,
           "P0DT0H25M38S"
          ],
          [
           25,
           39.46,
           0.4275,
           "P0DT0H25M39S"
          ],
          [
           26,
           7.45,
           0.43527777777777776,
           "P0DT0H26M7S"
          ],
          [
           27,
           30.82,
           0.4583333333333333,
           "P0DT0H27M30S"
          ],
          [
           24,
           50.81,
           0.41388888888888886,
           "P0DT0H24M50S"
          ],
          [
           26,
           10.78,
           0.4361111111111111,
           "P0DT0H26M10S"
          ],
          [
           26,
           8.62,
           0.43555555555555553,
           "P0DT0H26M8S"
          ],
          [
           22,
           50.9,
           0.38055555555555554,
           "P0DT0H22M50S"
          ],
          [
           33,
           50.43,
           0.5638888888888889,
           "P0DT0H33M50S"
          ],
          [
           37,
           2.23,
           0.6172222222222222,
           "P0DT0H37M2S"
          ],
          [
           34,
           2.87,
           0.5672222222222222,
           "P0DT0H34M2S"
          ],
          [
           25,
           32.88,
           0.4255555555555556,
           "P0DT0H25M32S"
          ],
          [
           25,
           57.26,
           0.4325,
           "P0DT0H25M57S"
          ],
          [
           25,
           22.17,
           0.42277777777777775,
           "P0DT0H25M22S"
          ],
          [
           26,
           33.57,
           0.4425,
           "P0DT0H26M33S"
          ],
          [
           26,
           5.24,
           0.43472222222222223,
           "P0DT0H26M5S"
          ],
          [
           25,
           30.03,
           0.425,
           "P0DT0H25M30S"
          ],
          [
           26,
           1.76,
           0.4336111111111111,
           "P0DT0H26M1S"
          ],
          [
           25,
           13.26,
           0.42027777777777775,
           "P0DT0H25M13S"
          ],
          [
           24,
           41.29,
           0.4113888888888889,
           "P0DT0H24M41S"
          ],
          [
           24,
           30.53,
           0.4083333333333333,
           "P0DT0H24M30S"
          ],
          [
           25,
           49.84,
           0.43027777777777776,
           "P0DT0H25M49S"
          ],
          [
           24,
           53.75,
           0.4147222222222222,
           "P0DT0H24M53S"
          ],
          [
           27,
           14.23,
           0.4538888888888889,
           "P0DT0H27M14S"
          ],
          [
           24,
           58.68,
           0.4161111111111111,
           "P0DT0H24M58S"
          ],
          [
           26,
           3.46,
           0.43416666666666665,
           "P0DT0H26M3S"
          ],
          [
           27,
           48.12,
           0.4633333333333333,
           "P0DT0H27M48S"
          ],
          [
           27,
           19.98,
           0.4552777777777778,
           "P0DT0H27M19S"
          ],
          [
           29,
           9.94,
           0.48583333333333334,
           "P0DT0H29M9S"
          ],
          [
           25,
           5.3,
           0.41805555555555557,
           "P0DT0H25M5S"
          ],
          [
           24,
           26.13,
           0.4072222222222222,
           "P0DT0H24M26S"
          ],
          [
           27,
           30.72,
           0.4583333333333333,
           "P0DT0H27M30S"
          ],
          [
           28,
           9.41,
           0.4691666666666667,
           "P0DT0H28M9S"
          ],
          [
           23,
           20.09,
           0.3888888888888889,
           "P0DT0H23M20S"
          ]
         ],
         "hovertemplate": "Lote=%{x}<br>Duração (minutos)=%{y}<br>Minutos=%{customdata[0]:.2f}<br>Segundos=%{customdata[1]:.2f}<br>Total (h)=%{customdata[2]:.3f}<br>Duração (timedelta)=%{customdata[3]}<extra></extra>",
         "legendgroup": "",
         "marker": {
          "color": "royalblue",
          "pattern": {
           "shape": ""
          }
         },
         "name": "",
         "orientation": "v",
         "showlegend": false,
         "textposition": "auto",
         "type": "bar",
         "x": {
          "bdata": "AQACAAMABAAFAAYABwAIAAkACgALAAwADQAOAA8AEAARABIAEwAUABUAFgAXABgAGQAaABsAHAAdAB4AHwAgACEAIgAjACQAJQAmACcAKAApACoAKwAsAC0ALgAvADAAMQAyADMANAA1ADYANwA4ADkAOgA7ADwAPQA+AD8AQABBAEIAQwBEAEUARgBHAEgASQBKAEsATABNAE4ATwBQAFEAUgBTAFQAVQBWAFcAWABZAFoAWwBcAF0AXgBfAGAAYQBiAGMAZABlAGYAZwBoAGkAagBrAGwAbQBuAG8AcABxAHIAcwB0AHUAdgB3AHgAeQB6AHsAfAB9AH4AfwCAAA==",
          "dtype": "i2"
         },
         "xaxis": "x",
         "y": {
          "bdata": "ERERERGRPkAiIiIiImI/QO/u7u7urjtAVVVVVVVVPEAzMzMzM3M5QKuqqqqqKjtAREREREREOUBERERERAQ6QCIiIiIiojlAiYiIiIiIOkDv7u7u7u45QHd3d3d3tztAEREREREROkAREREREZE6QLy7u7u7+zZA3t3d3d0dOEAAAAAAAIA5QImIiIiIiDlAd3d3d3f3OUBVVVVVVRU6QCIiIiIiYjhAd3d3d3e3OECamZmZmdk6QERERERExDpAiYiIiIjIOUBERERERAQ5QHd3d3d39zpARERERERkT0BmZmZmZsZAQHd3d3d3dz9Ad3d3d3d3QECrqqqqqipBQAAAAAAAAD5AMzMzMzNzPUARERERERE9QDMzMzMzMzhAvLu7u7s7PEDv7u7u7i46QLy7u7u7+zlAd3d3d3f3N0Dv7u7u7u47QJqZmZmZGThA7+7u7u7uOkCrqqqqqmo6QN7d3d3dHTpAMzMzMzPzOUBERERERIQ/QGZmZmZmZjZAZmZmZmZmOUDe3d3d3V07QCIiIiIiIjpAq6qqqqpqOUAzMzMzM7M4QAAAAAAAQDlAIiIiIiIiOUB3d3d3d7c6QDMzMzMzszlA3t3d3d1dOkCrqqqqqio5QO/u7u7ubj1Ad3d3d3c3O0AiIiIiIuI6QO/u7u7urjtARERERESEO0CamZmZmRk6QHd3d3d3NzxAiYiIiIiIPkBVVVVVVdU5QFVVVVVVlTtA7+7u7u4uOkBmZmZmZuY5QM3MzMzMjDlA7+7u7u5uPEDv7u7u7i44QImIiIiICDlAvLu7u7s7OEDNzMzMzMw6QM3MzMzMTDxARERERESEOUAREREREdE5QHd3d3d3NzpAvLu7u7t7O0Crqqqqquo8QN7d3d3dnTxA7+7u7u6uPUDNzMzMzMw+QBERERERET9AvLu7u7u7QEAzMzMzM3M/QImIiIiIKEBAZmZmZmYGQEAAAAAAAMA5QImIiIiISDxAd3d3d3d3OkAiIiIiIqI5QGZmZmZmpjlA3t3d3d0dOkAAAAAAAIA7QFVVVVVV1ThAq6qqqqoqOkAiIiIiIiI6QFVVVVVV1TZAq6qqqqrqQEBERERERIRCQEREREREBEFAiYiIiIiIOUAzMzMzM/M5QN7d3d3dXTlAzczMzMyMOkBVVVVVVRU6QAAAAAAAgDlAREREREQEOkB3d3d3dzc5QO/u7u7urjhAAAAAAACAOEAREREREdE5QCIiIiIi4jhAvLu7u7s7O0B3d3d3d/c4QM3MzMzMDDpAzczMzMzMO0AREREREVE7QGZmZmZmJj1AVVVVVVUVOUDv7u7u7m44QAAAAAAAgDtAZmZmZmYmPEBVVVVVVVU3QA==",
          "dtype": "f8"
         },
         "yaxis": "y"
        }
       ],
       "layout": {
        "barmode": "relative",
        "hoverlabel": {
         "bgcolor": "white",
         "font": {
          "size": 13
         }
        },
        "legend": {
         "tracegroupgap": 0
        },
        "template": {
         "data": {
          "bar": [
           {
            "error_x": {
             "color": "#2a3f5f"
            },
            "error_y": {
             "color": "#2a3f5f"
            },
            "marker": {
             "line": {
              "color": "#E5ECF6",
              "width": 0.5
             },
             "pattern": {
              "fillmode": "overlay",
              "size": 10,
              "solidity": 0.2
             }
            },
            "type": "bar"
           }
          ],
          "barpolar": [
           {
            "marker": {
             "line": {
              "color": "#E5ECF6",
              "width": 0.5
             },
             "pattern": {
              "fillmode": "overlay",
              "size": 10,
              "solidity": 0.2
             }
            },
            "type": "barpolar"
           }
          ],
          "carpet": [
           {
            "aaxis": {
             "endlinecolor": "#2a3f5f",
             "gridcolor": "white",
             "linecolor": "white",
             "minorgridcolor": "white",
             "startlinecolor": "#2a3f5f"
            },
            "baxis": {
             "endlinecolor": "#2a3f5f",
             "gridcolor": "white",
             "linecolor": "white",
             "minorgridcolor": "white",
             "startlinecolor": "#2a3f5f"
            },
            "type": "carpet"
           }
          ],
          "choropleth": [
           {
            "colorbar": {
             "outlinewidth": 0,
             "ticks": ""
            },
            "type": "choropleth"
           }
          ],
          "contour": [
           {
            "colorbar": {
             "outlinewidth": 0,
             "ticks": ""
            },
            "colorscale": [
             [
              0,
              "#0d0887"
             ],
             [
              0.1111111111111111,
              "#46039f"
             ],
             [
              0.2222222222222222,
              "#7201a8"
             ],
             [
              0.3333333333333333,
              "#9c179e"
             ],
             [
              0.4444444444444444,
              "#bd3786"
             ],
             [
              0.5555555555555556,
              "#d8576b"
             ],
             [
              0.6666666666666666,
              "#ed7953"
             ],
             [
              0.7777777777777778,
              "#fb9f3a"
             ],
             [
              0.8888888888888888,
              "#fdca26"
             ],
             [
              1,
              "#f0f921"
             ]
            ],
            "type": "contour"
           }
          ],
          "contourcarpet": [
           {
            "colorbar": {
             "outlinewidth": 0,
             "ticks": ""
            },
            "type": "contourcarpet"
           }
          ],
          "heatmap": [
           {
            "colorbar": {
             "outlinewidth": 0,
             "ticks": ""
            },
            "colorscale": [
             [
              0,
              "#0d0887"
             ],
             [
              0.1111111111111111,
              "#46039f"
             ],
             [
              0.2222222222222222,
              "#7201a8"
             ],
             [
              0.3333333333333333,
              "#9c179e"
             ],
             [
              0.4444444444444444,
              "#bd3786"
             ],
             [
              0.5555555555555556,
              "#d8576b"
             ],
             [
              0.6666666666666666,
              "#ed7953"
             ],
             [
              0.7777777777777778,
              "#fb9f3a"
             ],
             [
              0.8888888888888888,
              "#fdca26"
             ],
             [
              1,
              "#f0f921"
             ]
            ],
            "type": "heatmap"
           }
          ],
          "histogram": [
           {
            "marker": {
             "pattern": {
              "fillmode": "overlay",
              "size": 10,
              "solidity": 0.2
             }
            },
            "type": "histogram"
           }
          ],
          "histogram2d": [
           {
            "colorbar": {
             "outlinewidth": 0,
             "ticks": ""
            },
            "colorscale": [
             [
              0,
              "#0d0887"
             ],
             [
              0.1111111111111111,
              "#46039f"
             ],
             [
              0.2222222222222222,
              "#7201a8"
             ],
             [
              0.3333333333333333,
              "#9c179e"
             ],
             [
              0.4444444444444444,
              "#bd3786"
             ],
             [
              0.5555555555555556,
              "#d8576b"
             ],
             [
              0.6666666666666666,
              "#ed7953"
             ],
             [
              0.7777777777777778,
              "#fb9f3a"
             ],
             [
              0.8888888888888888,
              "#fdca26"
             ],
             [
              1,
              "#f0f921"
             ]
            ],
            "type": "histogram2d"
           }
          ],
          "histogram2dcontour": [
           {
            "colorbar": {
             "outlinewidth": 0,
             "ticks": ""
            },
            "colorscale": [
             [
              0,
              "#0d0887"
             ],
             [
              0.1111111111111111,
              "#46039f"
             ],
             [
              0.2222222222222222,
              "#7201a8"
             ],
             [
              0.3333333333333333,
              "#9c179e"
             ],
             [
              0.4444444444444444,
              "#bd3786"
             ],
             [
              0.5555555555555556,
              "#d8576b"
             ],
             [
              0.6666666666666666,
              "#ed7953"
             ],
             [
              0.7777777777777778,
              "#fb9f3a"
             ],
             [
              0.8888888888888888,
              "#fdca26"
             ],
             [
              1,
              "#f0f921"
             ]
            ],
            "type": "histogram2dcontour"
           }
          ],
          "mesh3d": [
           {
            "colorbar": {
             "outlinewidth": 0,
             "ticks": ""
            },
            "type": "mesh3d"
           }
          ],
          "parcoords": [
           {
            "line": {
             "colorbar": {
              "outlinewidth": 0,
              "ticks": ""
             }
            },
            "type": "parcoords"
           }
          ],
          "pie": [
           {
            "automargin": true,
            "type": "pie"
           }
          ],
          "scatter": [
           {
            "fillpattern": {
             "fillmode": "overlay",
             "size": 10,
             "solidity": 0.2
            },
            "type": "scatter"
           }
          ],
          "scatter3d": [
           {
            "line": {
             "colorbar": {
              "outlinewidth": 0,
              "ticks": ""
             }
            },
            "marker": {
             "colorbar": {
              "outlinewidth": 0,
              "ticks": ""
             }
            },
            "type": "scatter3d"
           }
          ],
          "scattercarpet": [
           {
            "marker": {
             "colorbar": {
              "outlinewidth": 0,
              "ticks": ""
             }
            },
            "type": "scattercarpet"
           }
          ],
          "scattergeo": [
           {
            "marker": {
             "colorbar": {
              "outlinewidth": 0,
              "ticks": ""
             }
            },
            "type": "scattergeo"
           }
          ],
          "scattergl": [
           {
            "marker": {
             "colorbar": {
              "outlinewidth": 0,
              "ticks": ""
             }
            },
            "type": "scattergl"
           }
          ],
          "scattermap": [
           {
            "marker": {
             "colorbar": {
              "outlinewidth": 0,
              "ticks": ""
             }
            },
            "type": "scattermap"
           }
          ],
          "scattermapbox": [
           {
            "marker": {
             "colorbar": {
              "outlinewidth": 0,
              "ticks": ""
             }
            },
            "type": "scattermapbox"
           }
          ],
          "scatterpolar": [
           {
            "marker": {
             "colorbar": {
              "outlinewidth": 0,
              "ticks": ""
             }
            },
            "type": "scatterpolar"
           }
          ],
          "scatterpolargl": [
           {
            "marker": {
             "colorbar": {
              "outlinewidth": 0,
              "ticks": ""
             }
            },
            "type": "scatterpolargl"
           }
          ],
          "scatterternary": [
           {
            "marker": {
             "colorbar": {
              "outlinewidth": 0,
              "ticks": ""
             }
            },
            "type": "scatterternary"
           }
          ],
          "surface": [
           {
            "colorbar": {
             "outlinewidth": 0,
             "ticks": ""
            },
            "colorscale": [
             [
              0,
              "#0d0887"
             ],
             [
              0.1111111111111111,
              "#46039f"
             ],
             [
              0.2222222222222222,
              "#7201a8"
             ],
             [
              0.3333333333333333,
              "#9c179e"
             ],
             [
              0.4444444444444444,
              "#bd3786"
             ],
             [
              0.5555555555555556,
              "#d8576b"
             ],
             [
              0.6666666666666666,
              "#ed7953"
             ],
             [
              0.7777777777777778,
              "#fb9f3a"
             ],
             [
              0.8888888888888888,
              "#fdca26"
             ],
             [
              1,
              "#f0f921"
             ]
            ],
            "type": "surface"
           }
          ],
          "table": [
           {
            "cells": {
             "fill": {
              "color": "#EBF0F8"
             },
             "line": {
              "color": "white"
             }
            },
            "header": {
             "fill": {
              "color": "#C8D4E3"
             },
             "line": {
              "color": "white"
             }
            },
            "type": "table"
           }
          ]
         },
         "layout": {
          "annotationdefaults": {
           "arrowcolor": "#2a3f5f",
           "arrowhead": 0,
           "arrowwidth": 1
          },
          "autotypenumbers": "strict",
          "coloraxis": {
           "colorbar": {
            "outlinewidth": 0,
            "ticks": ""
           }
          },
          "colorscale": {
           "diverging": [
            [
             0,
             "#8e0152"
            ],
            [
             0.1,
             "#c51b7d"
            ],
            [
             0.2,
             "#de77ae"
            ],
            [
             0.3,
             "#f1b6da"
            ],
            [
             0.4,
             "#fde0ef"
            ],
            [
             0.5,
             "#f7f7f7"
            ],
            [
             0.6,
             "#e6f5d0"
            ],
            [
             0.7,
             "#b8e186"
            ],
            [
             0.8,
             "#7fbc41"
            ],
            [
             0.9,
             "#4d9221"
            ],
            [
             1,
             "#276419"
            ]
           ],
           "sequential": [
            [
             0,
             "#0d0887"
            ],
            [
             0.1111111111111111,
             "#46039f"
            ],
            [
             0.2222222222222222,
             "#7201a8"
            ],
            [
             0.3333333333333333,
             "#9c179e"
            ],
            [
             0.4444444444444444,
             "#bd3786"
            ],
            [
             0.5555555555555556,
             "#d8576b"
            ],
            [
             0.6666666666666666,
             "#ed7953"
            ],
            [
             0.7777777777777778,
             "#fb9f3a"
            ],
            [
             0.8888888888888888,
             "#fdca26"
            ],
            [
             1,
             "#f0f921"
            ]
           ],
           "sequentialminus": [
            [
             0,
             "#0d0887"
            ],
            [
             0.1111111111111111,
             "#46039f"
            ],
            [
             0.2222222222222222,
             "#7201a8"
            ],
            [
             0.3333333333333333,
             "#9c179e"
            ],
            [
             0.4444444444444444,
             "#bd3786"
            ],
            [
             0.5555555555555556,
             "#d8576b"
            ],
            [
             0.6666666666666666,
             "#ed7953"
            ],
            [
             0.7777777777777778,
             "#fb9f3a"
            ],
            [
             0.8888888888888888,
             "#fdca26"
            ],
            [
             1,
             "#f0f921"
            ]
           ]
          },
          "colorway": [
           "#636efa",
           "#EF553B",
           "#00cc96",
           "#ab63fa",
           "#FFA15A",
           "#19d3f3",
           "#FF6692",
           "#B6E880",
           "#FF97FF",
           "#FECB52"
          ],
          "font": {
           "color": "#2a3f5f"
          },
          "geo": {
           "bgcolor": "white",
           "lakecolor": "white",
           "landcolor": "#E5ECF6",
           "showlakes": true,
           "showland": true,
           "subunitcolor": "white"
          },
          "hoverlabel": {
           "align": "left"
          },
          "hovermode": "closest",
          "mapbox": {
           "style": "light"
          },
          "paper_bgcolor": "white",
          "plot_bgcolor": "#E5ECF6",
          "polar": {
           "angularaxis": {
            "gridcolor": "white",
            "linecolor": "white",
            "ticks": ""
           },
           "bgcolor": "#E5ECF6",
           "radialaxis": {
            "gridcolor": "white",
            "linecolor": "white",
            "ticks": ""
           }
          },
          "scene": {
           "xaxis": {
            "backgroundcolor": "#E5ECF6",
            "gridcolor": "white",
            "gridwidth": 2,
            "linecolor": "white",
            "showbackground": true,
            "ticks": "",
            "zerolinecolor": "white"
           },
           "yaxis": {
            "backgroundcolor": "#E5ECF6",
            "gridcolor": "white",
            "gridwidth": 2,
            "linecolor": "white",
            "showbackground": true,
            "ticks": "",
            "zerolinecolor": "white"
           },
           "zaxis": {
            "backgroundcolor": "#E5ECF6",
            "gridcolor": "white",
            "gridwidth": 2,
            "linecolor": "white",
            "showbackground": true,
            "ticks": "",
            "zerolinecolor": "white"
           }
          },
          "shapedefaults": {
           "line": {
            "color": "#2a3f5f"
           }
          },
          "ternary": {
           "aaxis": {
            "gridcolor": "white",
            "linecolor": "white",
            "ticks": ""
           },
           "baxis": {
            "gridcolor": "white",
            "linecolor": "white",
            "ticks": ""
           },
           "bgcolor": "#E5ECF6",
           "caxis": {
            "gridcolor": "white",
            "linecolor": "white",
            "ticks": ""
           }
          },
          "title": {
           "x": 0.05
          },
          "xaxis": {
           "automargin": true,
           "gridcolor": "white",
           "linecolor": "white",
           "ticks": "",
           "title": {
            "standoff": 15
           },
           "zerolinecolor": "white",
           "zerolinewidth": 2
          },
          "yaxis": {
           "automargin": true,
           "gridcolor": "white",
           "linecolor": "white",
           "ticks": "",
           "title": {
            "standoff": 15
           },
           "zerolinecolor": "white",
           "zerolinewidth": 2
          }
         }
        },
        "title": {
         "text": "Tempo de Processamento por Lote (Interativo)"
        },
        "xaxis": {
         "anchor": "y",
         "domain": [
          0,
          1
         ],
         "title": {
          "text": "Lote"
         }
        },
        "yaxis": {
         "anchor": "x",
         "domain": [
          0,
          1
         ],
         "title": {
          "text": "Duração (minutos)"
         }
        }
       }
      }
     },
     "metadata": {},
     "output_type": "display_data"
    }
   ],
   "source": [
    "# Gráfico de barras para visualizar os tempos de processamento\n",
    "fig = px.bar(\n",
    "    df_tempos,\n",
    "    x='Lote',\n",
    "    y='Total (min)',\n",
    "    hover_data={\n",
    "        'Minutos': ':.2f',\n",
    "        'Segundos': ':.2f',\n",
    "        'Total (h)': ':.3f',\n",
    "        'Duração (timedelta)': True\n",
    "    },\n",
    "    labels={'Total (min)': 'Duração (minutos)'},\n",
    "    title='Tempo de Processamento por Lote (Interativo)',\n",
    ")\n",
    "\n",
    "fig.update_traces(marker_color='royalblue')\n",
    "fig.update_layout(\n",
    "    xaxis_title='Lote',\n",
    "    yaxis_title='Duração (minutos)',\n",
    "    hoverlabel=dict(bgcolor=\"white\", font_size=13)\n",
    ")\n",
    "fig.show()"
   ]
  }
 ],
 "metadata": {
  "kernelspec": {
   "display_name": "env-DScPythonGeo",
   "language": "python",
   "name": "python3"
  },
  "language_info": {
   "codemirror_mode": {
    "name": "ipython",
    "version": 3
   },
   "file_extension": ".py",
   "mimetype": "text/x-python",
   "name": "python",
   "nbconvert_exporter": "python",
   "pygments_lexer": "ipython3",
   "version": "3.12.4"
  }
 },
 "nbformat": 4,
 "nbformat_minor": 5
}
