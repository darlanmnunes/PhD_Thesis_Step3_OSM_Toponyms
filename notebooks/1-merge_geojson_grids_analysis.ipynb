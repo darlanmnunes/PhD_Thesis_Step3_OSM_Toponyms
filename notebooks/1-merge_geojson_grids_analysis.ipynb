{
 "cells": [
  {
   "cell_type": "code",
   "execution_count": 45,
   "id": "a241d1ad",
   "metadata": {},
   "outputs": [],
   "source": [
    "# Import necessary initial libraries\n",
    "import os\n",
    "import sys\n",
    "import importlib\n",
    "from importlib import reload\n",
    "import logging\n",
    "import pandas as pd\n",
    "import geopandas as gpd\n",
    "import re\n",
    "from datetime import timedelta\n",
    "import plotly.express as px"
   ]
  },
  {
   "cell_type": "code",
   "execution_count": 2,
   "id": "f664bbba",
   "metadata": {},
   "outputs": [],
   "source": [
    "# Sets the root directory of the project as the working directory\n",
    "os.chdir('..')"
   ]
  },
  {
   "cell_type": "code",
   "execution_count": 7,
   "id": "0ce1729b",
   "metadata": {},
   "outputs": [
    {
     "data": {
      "text/plain": [
       "'/Users/darlanmnunes/Dev/DSc_git/PhD_Thesis_Step3_OSM_Toponyms'"
      ]
     },
     "execution_count": 7,
     "metadata": {},
     "output_type": "execute_result"
    }
   ],
   "source": [
    "# Check the current working directory\n",
    "os.getcwd()"
   ]
  },
  {
   "cell_type": "code",
   "execution_count": 52,
   "id": "e4d8b6ca",
   "metadata": {},
   "outputs": [],
   "source": [
    "# Import necessary modules for this notebook\n",
    "from  utils import (merge_geojson_grids)"
   ]
  },
  {
   "cell_type": "code",
   "execution_count": 53,
   "id": "e71244b0",
   "metadata": {},
   "outputs": [
    {
     "data": {
      "text/plain": [
       "<module 'utils.merge_geojson_grids' from '/Users/darlanmnunes/Dev/DSc_git/PhD_Thesis_Step3_OSM_Toponyms/utils/merge_geojson_grids.py'>"
      ]
     },
     "execution_count": 53,
     "metadata": {},
     "output_type": "execute_result"
    }
   ],
   "source": [
    "# Reload the module to ensure the latest version is used\n",
    "reload(merge_geojson_grids)"
   ]
  },
  {
   "cell_type": "markdown",
   "id": "ff0dad5e",
   "metadata": {},
   "source": [
    "### Consolidação dos Arquivos GeoJSON das Grades Geoespaciais em um único arquivo"
   ]
  },
  {
   "cell_type": "code",
   "execution_count": 54,
   "id": "7c206c57",
   "metadata": {},
   "outputs": [],
   "source": [
    "# Lista dos arquivos GeoJSON para merge (ordem importa - primeiro arquivo tem prioridade)\n",
    "input_files = [\n",
    "    \"results/1_output_grid/partial_results/step1_name_ratio/geo1.geojson\",\n",
    "    \"results/1_output_grid/partial_results/step1_name_ratio/geo2.geojson\",\n",
    "    \"results/1_output_grid/partial_results/step1_name_ratio/geo3.geojson\"\n",
    "]"
   ]
  },
  {
   "cell_type": "code",
   "execution_count": 55,
   "id": "dec9e56e",
   "metadata": {},
   "outputs": [],
   "source": [
    "# output file path\n",
    "output_path = \"results/1_output_grid/partial_results/step1_name_ratio\"\n",
    "output_file_name = \"step1_consolidado\""
   ]
  },
  {
   "cell_type": "code",
   "execution_count": null,
   "id": "fb672934",
   "metadata": {},
   "outputs": [
    {
     "name": "stdout",
     "output_type": "stream",
     "text": [
      "Merge concluído! Arquivo salvo como GeoPackage em: results/1_output_grid/partial_results/step1_name_ratio/step1_consolidado.gpkg\n",
      "CRS mantido: EPSG:4674\n",
      "Total de células únicas: 8652\n"
     ]
    }
   ],
   "source": [
    "\n",
    "# Executa o merge e salva o resultado em um arquivo GeoPackage\n",
    "merge_geojson_grids.merge_geojson_to_gpkg(input_files, os.path.join(output_path, output_file_name))"
   ]
  },
  {
   "cell_type": "code",
   "execution_count": 56,
   "id": "41be4b4f",
   "metadata": {},
   "outputs": [
    {
     "name": "stdout",
     "output_type": "stream",
     "text": [
      "Merge concluído! Arquivo salvo em: results/1_output_grid/partial_results/step1_name_ratio/step1_consolidado.geojson\n"
     ]
    }
   ],
   "source": [
    "# Executa o merge e salva o resultado em um arquivo geojson\n",
    "merge_geojson_grids.merge_geojson_files(input_files, os.path.join(output_path, output_file_name))"
   ]
  },
  {
   "cell_type": "markdown",
   "id": "10c2eddc",
   "metadata": {},
   "source": [
    "### 3. Métricas de Tempo"
   ]
  },
  {
   "cell_type": "code",
   "execution_count": 31,
   "id": "7b8946a2",
   "metadata": {},
   "outputs": [],
   "source": [
    "# Leitura do Arquivo Excel\n",
    "file_name = [\n",
    "    \"results/1_output_grid/time_metrics/time_log_OHSOME_requests.xlsx\"\n",
    "]"
   ]
  },
  {
   "cell_type": "code",
   "execution_count": 32,
   "id": "d4841881",
   "metadata": {},
   "outputs": [],
   "source": [
    "# Leitura do Arquivo Excel\n",
    "df_time = pd.read_excel(file_name[0], sheet_name='step1')"
   ]
  },
  {
   "cell_type": "code",
   "execution_count": 33,
   "id": "59eef86e",
   "metadata": {},
   "outputs": [
    {
     "data": {
      "text/html": [
       "<div>\n",
       "<style scoped>\n",
       "    .dataframe tbody tr th:only-of-type {\n",
       "        vertical-align: middle;\n",
       "    }\n",
       "\n",
       "    .dataframe tbody tr th {\n",
       "        vertical-align: top;\n",
       "    }\n",
       "\n",
       "    .dataframe thead th {\n",
       "        text-align: right;\n",
       "    }\n",
       "</style>\n",
       "<table border=\"1\" class=\"dataframe\">\n",
       "  <thead>\n",
       "    <tr style=\"text-align: right;\">\n",
       "      <th></th>\n",
       "      <th>Lote 1:   0%|          | 0/20 [00:00&lt;?</th>\n",
       "      <th>?it/s]Ainda trabalhando...</th>\n",
       "      <th>Unnamed: 2</th>\n",
       "      <th>Unnamed: 3</th>\n",
       "    </tr>\n",
       "  </thead>\n",
       "  <tbody>\n",
       "    <tr>\n",
       "      <th>0</th>\n",
       "      <td>Lote 1:  25%|██▌       | 5/20 [06:16&lt;08:19</td>\n",
       "      <td>33.27s/it]Ainda trabalhando...</td>\n",
       "      <td>NaN</td>\n",
       "      <td>NaN</td>\n",
       "    </tr>\n",
       "    <tr>\n",
       "      <th>1</th>\n",
       "      <td>Lote 1:  50%|█████     | 10/20 [13:24&lt;06:19</td>\n",
       "      <td>37.98s/it]Ainda trabalhando...</td>\n",
       "      <td>NaN</td>\n",
       "      <td>NaN</td>\n",
       "    </tr>\n",
       "    <tr>\n",
       "      <th>2</th>\n",
       "      <td>Ainda trabalhando...</td>\n",
       "      <td>NaN</td>\n",
       "      <td>NaN</td>\n",
       "      <td>NaN</td>\n",
       "    </tr>\n",
       "    <tr>\n",
       "      <th>3</th>\n",
       "      <td>Lote 1:  75%|███████▌  | 15/20 [21:42&lt;03:43</td>\n",
       "      <td>44.72s/it]Ainda trabalhando...</td>\n",
       "      <td>NaN</td>\n",
       "      <td>NaN</td>\n",
       "    </tr>\n",
       "    <tr>\n",
       "      <th>4</th>\n",
       "      <td>Ainda trabalhando...</td>\n",
       "      <td>NaN</td>\n",
       "      <td>NaN</td>\n",
       "      <td>NaN</td>\n",
       "    </tr>\n",
       "    <tr>\n",
       "      <th>5</th>\n",
       "      <td>Lote 1: 100%|██████████| 20/20 [30:34&lt;00:00</td>\n",
       "      <td>91.71s/it]</td>\n",
       "      <td>NaN</td>\n",
       "      <td>NaN</td>\n",
       "    </tr>\n",
       "    <tr>\n",
       "      <th>6</th>\n",
       "      <td>[SALVO] /content/drive/MyDrive/UFPR_PPGCG_DSc/...</td>\n",
       "      <td>NaN</td>\n",
       "      <td>NaN</td>\n",
       "      <td>NaN</td>\n",
       "    </tr>\n",
       "    <tr>\n",
       "      <th>7</th>\n",
       "      <td>[CONSOLIDADO] resultado_consolidado.geojson at...</td>\n",
       "      <td>NaN</td>\n",
       "      <td>NaN</td>\n",
       "      <td>NaN</td>\n",
       "    </tr>\n",
       "    <tr>\n",
       "      <th>8</th>\n",
       "      <td>Tempo do lote 1: 30.0 min 34.31 seg</td>\n",
       "      <td>NaN</td>\n",
       "      <td>NaN</td>\n",
       "      <td>NaN</td>\n",
       "    </tr>\n",
       "    <tr>\n",
       "      <th>9</th>\n",
       "      <td>Lote 2:   0%|          | 0/20 [00:00&lt;?</td>\n",
       "      <td>?it/s]Ainda trabalhando...</td>\n",
       "      <td>NaN</td>\n",
       "      <td>NaN</td>\n",
       "    </tr>\n",
       "  </tbody>\n",
       "</table>\n",
       "</div>"
      ],
      "text/plain": [
       "              Lote 1:   0%|          | 0/20 [00:00<?  \\\n",
       "0         Lote 1:  25%|██▌       | 5/20 [06:16<08:19   \n",
       "1        Lote 1:  50%|█████     | 10/20 [13:24<06:19   \n",
       "2                               Ainda trabalhando...   \n",
       "3        Lote 1:  75%|███████▌  | 15/20 [21:42<03:43   \n",
       "4                               Ainda trabalhando...   \n",
       "5        Lote 1: 100%|██████████| 20/20 [30:34<00:00   \n",
       "6  [SALVO] /content/drive/MyDrive/UFPR_PPGCG_DSc/...   \n",
       "7  [CONSOLIDADO] resultado_consolidado.geojson at...   \n",
       "8                Tempo do lote 1: 30.0 min 34.31 seg   \n",
       "9             Lote 2:   0%|          | 0/20 [00:00<?   \n",
       "\n",
       "        ?it/s]Ainda trabalhando... Unnamed: 2 Unnamed: 3  \n",
       "0   33.27s/it]Ainda trabalhando...        NaN        NaN  \n",
       "1   37.98s/it]Ainda trabalhando...        NaN        NaN  \n",
       "2                              NaN        NaN        NaN  \n",
       "3   44.72s/it]Ainda trabalhando...        NaN        NaN  \n",
       "4                              NaN        NaN        NaN  \n",
       "5                       91.71s/it]        NaN        NaN  \n",
       "6                              NaN        NaN        NaN  \n",
       "7                              NaN        NaN        NaN  \n",
       "8                              NaN        NaN        NaN  \n",
       "9       ?it/s]Ainda trabalhando...        NaN        NaN  "
      ]
     },
     "metadata": {},
     "output_type": "display_data"
    }
   ],
   "source": [
    "# Exibe as primeiras linhas para validar\n",
    "display(df_time.head(10))"
   ]
  },
  {
   "cell_type": "code",
   "execution_count": 34,
   "id": "1bfb7200",
   "metadata": {},
   "outputs": [
    {
     "data": {
      "text/html": [
       "<div>\n",
       "<style scoped>\n",
       "    .dataframe tbody tr th:only-of-type {\n",
       "        vertical-align: middle;\n",
       "    }\n",
       "\n",
       "    .dataframe tbody tr th {\n",
       "        vertical-align: top;\n",
       "    }\n",
       "\n",
       "    .dataframe thead th {\n",
       "        text-align: right;\n",
       "    }\n",
       "</style>\n",
       "<table border=\"1\" class=\"dataframe\">\n",
       "  <thead>\n",
       "    <tr style=\"text-align: right;\">\n",
       "      <th></th>\n",
       "      <th>Lote 1:   0%|          | 0/20 [00:00&lt;?</th>\n",
       "      <th>?it/s]Ainda trabalhando...</th>\n",
       "      <th>Unnamed: 2</th>\n",
       "      <th>Unnamed: 3</th>\n",
       "    </tr>\n",
       "  </thead>\n",
       "  <tbody>\n",
       "    <tr>\n",
       "      <th>4979</th>\n",
       "      <td>[CONSOLIDADO] resultado_consolidado.geojson at...</td>\n",
       "      <td>NaN</td>\n",
       "      <td>NaN</td>\n",
       "      <td>NaN</td>\n",
       "    </tr>\n",
       "    <tr>\n",
       "      <th>4980</th>\n",
       "      <td>Tempo do lote 432: 23.0 min 38.74 seg</td>\n",
       "      <td>NaN</td>\n",
       "      <td>NaN</td>\n",
       "      <td>NaN</td>\n",
       "    </tr>\n",
       "    <tr>\n",
       "      <th>4981</th>\n",
       "      <td>Lote 433:   0%|          | 0/12 [00:00&lt;?</td>\n",
       "      <td>?it/s]Ainda trabalhando...</td>\n",
       "      <td>NaN</td>\n",
       "      <td>NaN</td>\n",
       "    </tr>\n",
       "    <tr>\n",
       "      <th>4982</th>\n",
       "      <td>Lote 433:  42%|████▏     | 5/12 [06:00&lt;04:10</td>\n",
       "      <td>35.73s/it]Ainda trabalhando...</td>\n",
       "      <td>NaN</td>\n",
       "      <td>NaN</td>\n",
       "    </tr>\n",
       "    <tr>\n",
       "      <th>4983</th>\n",
       "      <td>Lote 433:  83%|████████▎ | 10/12 [12:06&lt;01:09</td>\n",
       "      <td>34.71s/it]Ainda trabalhando...</td>\n",
       "      <td>NaN</td>\n",
       "      <td>NaN</td>\n",
       "    </tr>\n",
       "    <tr>\n",
       "      <th>4984</th>\n",
       "      <td>Lote 433: 100%|██████████| 12/12 [15:57&lt;00:00</td>\n",
       "      <td>79.80s/it]</td>\n",
       "      <td>NaN</td>\n",
       "      <td>NaN</td>\n",
       "    </tr>\n",
       "    <tr>\n",
       "      <th>4985</th>\n",
       "      <td>[SALVO] /content/drive/MyDrive/UFPR_PPGCG_DSc/...</td>\n",
       "      <td>NaN</td>\n",
       "      <td>NaN</td>\n",
       "      <td>NaN</td>\n",
       "    </tr>\n",
       "    <tr>\n",
       "      <th>4986</th>\n",
       "      <td>[CONSOLIDADO] resultado_consolidado.geojson at...</td>\n",
       "      <td>NaN</td>\n",
       "      <td>NaN</td>\n",
       "      <td>NaN</td>\n",
       "    </tr>\n",
       "    <tr>\n",
       "      <th>4987</th>\n",
       "      <td>Tempo do lote 433: 15.0 min 58.39 seg</td>\n",
       "      <td>NaN</td>\n",
       "      <td>NaN</td>\n",
       "      <td>NaN</td>\n",
       "    </tr>\n",
       "    <tr>\n",
       "      <th>4988</th>\n",
       "      <td>Processamento completo de todos os lotes.</td>\n",
       "      <td>NaN</td>\n",
       "      <td>NaN</td>\n",
       "      <td>NaN</td>\n",
       "    </tr>\n",
       "  </tbody>\n",
       "</table>\n",
       "</div>"
      ],
      "text/plain": [
       "                 Lote 1:   0%|          | 0/20 [00:00<?  \\\n",
       "4979  [CONSOLIDADO] resultado_consolidado.geojson at...   \n",
       "4980              Tempo do lote 432: 23.0 min 38.74 seg   \n",
       "4981           Lote 433:   0%|          | 0/12 [00:00<?   \n",
       "4982       Lote 433:  42%|████▏     | 5/12 [06:00<04:10   \n",
       "4983      Lote 433:  83%|████████▎ | 10/12 [12:06<01:09   \n",
       "4984      Lote 433: 100%|██████████| 12/12 [15:57<00:00   \n",
       "4985  [SALVO] /content/drive/MyDrive/UFPR_PPGCG_DSc/...   \n",
       "4986  [CONSOLIDADO] resultado_consolidado.geojson at...   \n",
       "4987              Tempo do lote 433: 15.0 min 58.39 seg   \n",
       "4988          Processamento completo de todos os lotes.   \n",
       "\n",
       "           ?it/s]Ainda trabalhando... Unnamed: 2 Unnamed: 3  \n",
       "4979                              NaN        NaN        NaN  \n",
       "4980                              NaN        NaN        NaN  \n",
       "4981       ?it/s]Ainda trabalhando...        NaN        NaN  \n",
       "4982   35.73s/it]Ainda trabalhando...        NaN        NaN  \n",
       "4983   34.71s/it]Ainda trabalhando...        NaN        NaN  \n",
       "4984                       79.80s/it]        NaN        NaN  \n",
       "4985                              NaN        NaN        NaN  \n",
       "4986                              NaN        NaN        NaN  \n",
       "4987                              NaN        NaN        NaN  \n",
       "4988                              NaN        NaN        NaN  "
      ]
     },
     "metadata": {},
     "output_type": "display_data"
    }
   ],
   "source": [
    "# Exibe as últimas linhas para validar\n",
    "display(df_time.tail(10))"
   ]
  },
  {
   "cell_type": "code",
   "execution_count": 38,
   "id": "c0978e08",
   "metadata": {},
   "outputs": [],
   "source": [
    "# Função para extrair tempos dos lotes\n",
    "def extrair_tempos(df):\n",
    "    resultados = []\n",
    "\n",
    "    for line in df.iloc[:, 0].dropna():\n",
    "        match = re.search(r'Tempo do lote (\\d+): (\\d+\\.?\\d*) min (\\d+\\.?\\d*) seg', line)\n",
    "        if match:\n",
    "            lote = int(match.group(1))\n",
    "            minutos = float(match.group(2))\n",
    "            segundos = float(match.group(3))\n",
    "            total_segundos = int(minutos * 60 + segundos)\n",
    "            resultados.append({\n",
    "                'Lote': lote,\n",
    "                'Minutos': minutos,\n",
    "                'Segundos': segundos,\n",
    "                'Total (s)': total_segundos,\n",
    "                'Total (min)': total_segundos / 60,\n",
    "                'Total (h)': total_segundos / 3600,\n",
    "                'Total (dias)': total_segundos / (3600 * 24),\n",
    "                'Duração (timedelta)': timedelta(seconds=total_segundos)\n",
    "            })\n",
    "\n",
    "    return pd.DataFrame(resultados)"
   ]
  },
  {
   "cell_type": "code",
   "execution_count": 42,
   "id": "501019d3",
   "metadata": {},
   "outputs": [
    {
     "data": {
      "text/html": [
       "<div>\n",
       "<style scoped>\n",
       "    .dataframe tbody tr th:only-of-type {\n",
       "        vertical-align: middle;\n",
       "    }\n",
       "\n",
       "    .dataframe tbody tr th {\n",
       "        vertical-align: top;\n",
       "    }\n",
       "\n",
       "    .dataframe thead th {\n",
       "        text-align: right;\n",
       "    }\n",
       "</style>\n",
       "<table border=\"1\" class=\"dataframe\">\n",
       "  <thead>\n",
       "    <tr style=\"text-align: right;\">\n",
       "      <th></th>\n",
       "      <th>Lote</th>\n",
       "      <th>Minutos</th>\n",
       "      <th>Segundos</th>\n",
       "      <th>Total (s)</th>\n",
       "      <th>Total (min)</th>\n",
       "      <th>Total (h)</th>\n",
       "      <th>Total (dias)</th>\n",
       "      <th>Duração (timedelta)</th>\n",
       "    </tr>\n",
       "  </thead>\n",
       "  <tbody>\n",
       "    <tr>\n",
       "      <th>0</th>\n",
       "      <td>1</td>\n",
       "      <td>30.0</td>\n",
       "      <td>34.31</td>\n",
       "      <td>1834</td>\n",
       "      <td>30.566667</td>\n",
       "      <td>0.509444</td>\n",
       "      <td>0.021227</td>\n",
       "      <td>0 days 00:30:34</td>\n",
       "    </tr>\n",
       "    <tr>\n",
       "      <th>1</th>\n",
       "      <td>2</td>\n",
       "      <td>31.0</td>\n",
       "      <td>23.44</td>\n",
       "      <td>1883</td>\n",
       "      <td>31.383333</td>\n",
       "      <td>0.523056</td>\n",
       "      <td>0.021794</td>\n",
       "      <td>0 days 00:31:23</td>\n",
       "    </tr>\n",
       "    <tr>\n",
       "      <th>2</th>\n",
       "      <td>3</td>\n",
       "      <td>27.0</td>\n",
       "      <td>41.91</td>\n",
       "      <td>1661</td>\n",
       "      <td>27.683333</td>\n",
       "      <td>0.461389</td>\n",
       "      <td>0.019225</td>\n",
       "      <td>0 days 00:27:41</td>\n",
       "    </tr>\n",
       "    <tr>\n",
       "      <th>3</th>\n",
       "      <td>4</td>\n",
       "      <td>28.0</td>\n",
       "      <td>20.47</td>\n",
       "      <td>1700</td>\n",
       "      <td>28.333333</td>\n",
       "      <td>0.472222</td>\n",
       "      <td>0.019676</td>\n",
       "      <td>0 days 00:28:20</td>\n",
       "    </tr>\n",
       "    <tr>\n",
       "      <th>4</th>\n",
       "      <td>5</td>\n",
       "      <td>25.0</td>\n",
       "      <td>27.84</td>\n",
       "      <td>1527</td>\n",
       "      <td>25.450000</td>\n",
       "      <td>0.424167</td>\n",
       "      <td>0.017674</td>\n",
       "      <td>0 days 00:25:27</td>\n",
       "    </tr>\n",
       "    <tr>\n",
       "      <th>...</th>\n",
       "      <td>...</td>\n",
       "      <td>...</td>\n",
       "      <td>...</td>\n",
       "      <td>...</td>\n",
       "      <td>...</td>\n",
       "      <td>...</td>\n",
       "      <td>...</td>\n",
       "      <td>...</td>\n",
       "    </tr>\n",
       "    <tr>\n",
       "      <th>438</th>\n",
       "      <td>429</td>\n",
       "      <td>30.0</td>\n",
       "      <td>11.31</td>\n",
       "      <td>1811</td>\n",
       "      <td>30.183333</td>\n",
       "      <td>0.503056</td>\n",
       "      <td>0.020961</td>\n",
       "      <td>0 days 00:30:11</td>\n",
       "    </tr>\n",
       "    <tr>\n",
       "      <th>439</th>\n",
       "      <td>430</td>\n",
       "      <td>23.0</td>\n",
       "      <td>43.62</td>\n",
       "      <td>1423</td>\n",
       "      <td>23.716667</td>\n",
       "      <td>0.395278</td>\n",
       "      <td>0.016470</td>\n",
       "      <td>0 days 00:23:43</td>\n",
       "    </tr>\n",
       "    <tr>\n",
       "      <th>440</th>\n",
       "      <td>431</td>\n",
       "      <td>24.0</td>\n",
       "      <td>42.73</td>\n",
       "      <td>1482</td>\n",
       "      <td>24.700000</td>\n",
       "      <td>0.411667</td>\n",
       "      <td>0.017153</td>\n",
       "      <td>0 days 00:24:42</td>\n",
       "    </tr>\n",
       "    <tr>\n",
       "      <th>441</th>\n",
       "      <td>432</td>\n",
       "      <td>23.0</td>\n",
       "      <td>38.74</td>\n",
       "      <td>1418</td>\n",
       "      <td>23.633333</td>\n",
       "      <td>0.393889</td>\n",
       "      <td>0.016412</td>\n",
       "      <td>0 days 00:23:38</td>\n",
       "    </tr>\n",
       "    <tr>\n",
       "      <th>442</th>\n",
       "      <td>433</td>\n",
       "      <td>15.0</td>\n",
       "      <td>58.39</td>\n",
       "      <td>958</td>\n",
       "      <td>15.966667</td>\n",
       "      <td>0.266111</td>\n",
       "      <td>0.011088</td>\n",
       "      <td>0 days 00:15:58</td>\n",
       "    </tr>\n",
       "  </tbody>\n",
       "</table>\n",
       "<p>443 rows × 8 columns</p>\n",
       "</div>"
      ],
      "text/plain": [
       "     Lote  Minutos  Segundos  Total (s)  Total (min)  Total (h)  Total (dias)  \\\n",
       "0       1     30.0     34.31       1834    30.566667   0.509444      0.021227   \n",
       "1       2     31.0     23.44       1883    31.383333   0.523056      0.021794   \n",
       "2       3     27.0     41.91       1661    27.683333   0.461389      0.019225   \n",
       "3       4     28.0     20.47       1700    28.333333   0.472222      0.019676   \n",
       "4       5     25.0     27.84       1527    25.450000   0.424167      0.017674   \n",
       "..    ...      ...       ...        ...          ...        ...           ...   \n",
       "438   429     30.0     11.31       1811    30.183333   0.503056      0.020961   \n",
       "439   430     23.0     43.62       1423    23.716667   0.395278      0.016470   \n",
       "440   431     24.0     42.73       1482    24.700000   0.411667      0.017153   \n",
       "441   432     23.0     38.74       1418    23.633333   0.393889      0.016412   \n",
       "442   433     15.0     58.39        958    15.966667   0.266111      0.011088   \n",
       "\n",
       "    Duração (timedelta)  \n",
       "0       0 days 00:30:34  \n",
       "1       0 days 00:31:23  \n",
       "2       0 days 00:27:41  \n",
       "3       0 days 00:28:20  \n",
       "4       0 days 00:25:27  \n",
       "..                  ...  \n",
       "438     0 days 00:30:11  \n",
       "439     0 days 00:23:43  \n",
       "440     0 days 00:24:42  \n",
       "441     0 days 00:23:38  \n",
       "442     0 days 00:15:58  \n",
       "\n",
       "[443 rows x 8 columns]"
      ]
     },
     "execution_count": 42,
     "metadata": {},
     "output_type": "execute_result"
    }
   ],
   "source": [
    "# Aplicar a função para extrair os tempos\n",
    "df_tempos = extrair_tempos(df_time)\n",
    "df_tempos"
   ]
  },
  {
   "cell_type": "code",
   "execution_count": 43,
   "id": "fa6d6a61",
   "metadata": {},
   "outputs": [
    {
     "name": "stdout",
     "output_type": "stream",
     "text": [
      "Tempo Total (todos os lotes): 255.97 horas\n",
      "Tempo Total (todos os lotes): 10.67 dias\n"
     ]
    }
   ],
   "source": [
    "# Cálculo do tempo total consolidado de todos os lotes\n",
    "total_horas = df_tempos['Total (h)'].sum()\n",
    "total_dias = df_tempos['Total (dias)'].sum()\n",
    "print(f\"Tempo Total (todos os lotes): {total_horas :.2f} horas\")\n",
    "print(f\"Tempo Total (todos os lotes): {total_dias :.2f} dias\")"
   ]
  },
  {
   "cell_type": "code",
   "execution_count": 61,
   "id": "d6cb5e72",
   "metadata": {},
   "outputs": [
    {
     "data": {
      "application/vnd.plotly.v1+json": {
       "config": {
        "plotlyServerURL": "https://plot.ly"
       },
       "data": [
        {
         "customdata": {
          "bdata": "AAAAAAAAPkBI4XoUridBQKORgG9eTeA/AAAAAAAAP0BxPQrXo3A3QGhFIwHfvOA/AAAAAAAAO0AUrkfhevREQN3+IENlh90/AAAAAAAAPEC4HoXrUXg0QI7jOI7jON4/AAAAAAAAOUDXo3A9Ctc7QCa/WPKLJds/AAAAAAAAO0CuR+F6FK4lQKVP+qRP+tw/AAAAAAAAOUDhehSuR6EwQJ4VjQR889o/AAAAAAAAOkAAAAAAAAD0P2viWdFIwNs/AAAAAAAAOUDsUbgehWtDQK1oJOCbV9s/AAAAAAAAOkBcj8L1KDxAQKORgG9eTdw/AAAAAAAAOUDXo3A9CldMQP8gQ2WHqds/AAAAAAAAO0AK16NwPepFQDtMXW5/kN0/AAAAAAAAOkAK16NwPQoQQHlWNBLwzds/AAAAAAAAOkAUrkfhenRBQAHfvJp4Vtw/AAAAAAAANkBSuB6F65FNQNlh6nL7g9g/AAAAAAAAOEDD9Shcj8IcQGSo7DB1udk/AAAAAAAAOUDsUbgehas+QDMzMzMzM9s/AAAAAAAAOUB7FK5H4TpAQJKAb15NPNs/AAAAAAAAOUCkcD0K1wNNQF1uf5Chsts/AAAAAAAAOkDsUbgehesXQCh90id90ts/AAAAAAAAOEAAAAAAAIA3QFgTz4pGAto/AAAAAAAAOEDNzMzMzMxFQAgZKjtMXdo/AAAAAAAAOkDXo3A9CtdJQKRwPQrXo9w/AAAAAAAAOkDhehSuR0FHQDivJp4Vjdw/AAAAAAAAOUA9CtejcL1HQNbEs6KRgNs/AAAAAAAAOUAfhetRuB7xP1rRSMA3r9o/AAAAAAAAOkBcj8L1KFxNQG5/kKGyw9w/AAAAAAAAT0DNzMzMzKxHQBPPikYCvvA/AAAAAACAQEBI4XoUrudAQOUXS36x5OE/AAAAAAAAP0B7FK5H4fo8QB6mLrc/yOA/AAAAAAAAQEBxPQrXozBMQDtMXW5/kOE/AAAAAAAAQUCF61G4HsU0QPqkT/qkT+I/AAAAAAAAPkDD9Shcj8LVPwAAAAAAAOA/AAAAAAAAPUCF61G4HoU7QGoDnTbQad8/AAAAAAAAPUD2KFyPwvUSQKyJZ0UjAd8/AAAAAAAAOEAK16NwPYopQNBpA5020Nk/AAAAAAAAPED2KFyPwnUtQHP7gwyVHd4/AAAAAAAAOkCPwvUoXA8mQENlh6nL7ds/AAAAAAAAOUCPwvUoXO9NQA2VHaYut9s/AAAAAAAAN0Bcj8L1KDxNQDtMXW5/kNk/AAAAAAAAO0C4HoXrUXhMQCFDZYepy90/AAAAAAAAOECamZmZmZkZQLWBThvotNk/AAAAAAAAOkAAAAAAAGBMQBAyVHaYutw/AAAAAAAAOkB7FK5H4bo5QNiCLdiCLdw/AAAAAAAAOkAAAAAAAAAcQIbKDlOX29s/AAAAAAAAOUBxPQrXo9BMQK5H4XoUrts/AAAAAAAAP0DsUbgehas/QCTgm1cTz+A/AAAAAAAANkCkcD0K1yM4QOUXS36x5Nc/AAAAAAAAOUD2KFyPwnU4QBhLfrHkF9s/AAAAAAAAO0BSuB6F6xE2QNwfZKjsMN0/AAAAAAAAOkAK16NwPQohQDXxrGgk4Ns/AAAAAAAAOUB7FK5H4To5QMdxHMdxHNs/AAAAAAAAOECF61G4HkVFQFnyiyW/WNo/AAAAAAAAOUCuR+F6FK4uQO/u7u7u7to/AAAAAAAAOUDsUbgeheshQCTgm1cTz9o/AAAAAAAAOkCPwvUoXO9FQCo7TF1uf9w/AAAAAAAAOUAfhetRuD5FQGoDnTbQads/AAAAAAAAOkB7FK5H4To2QMsOU5fbH9w/AAAAAAAAOUDXo3A9CtclQIMt2IIt2No/AAAAAAAAPUApXI/C9Wg6QLvc/iBDZd8/AAAAAAAAO0BSuB6F69EqQLPD1OX2B90/AAAAAAAAOkCF61G4HuVKQAK+eTXxrNw/AAAAAAAAO0AzMzMzM/NEQN3+IENlh90/AAAAAAAAO0A9CtejcH0/QAV882riWd0/AAAAAAAAOkC4HoXrUbgbQNejcD0K19s/AAAAAAAAPEC4HoXrUbgrQMTU5fYHGd4/AAAAAAAAPkDXo3A9CndAQPNq4lnRSOA/AAAAAAAAOUCPwvUoXG9JQOQ4juM4jts/AAAAAAAAO0B7FK5H4dpBQMEWbMEWbN0/AAAAAAAAOkApXI/C9SgmQENlh6nL7ds/AAAAAAAAOUAK16NwPQpLQKDTBjptoNs/AAAAAAAAOUDNzMzMzIxAQEGnDXTaQNs/AAAAAAAAPEBI4XoUrgc6QKrL7Q8yVN4/AAAAAAAAOEAAAAAAAIAmQCFDZYepy9k/AAAAAAAAOUCF61G4HoUDQAn45tXEs9o/AAAAAAAAOEDXo3A9ClctQC+3P8hQ2dk/AAAAAAAAOkC4HoXrUXhIQJb8Yskvltw/AAAAAAAAPEA9CtejcD0yQDCW/GLJL94/AAAAAAAAOUB7FK5H4Xo/QOJZ0UjAN9s/AAAAAAAAOUCPwvUoXM9IQDQS8M2rids/AAAAAAAAOkDNzMzMzEwrQKKyw9Tl9ts/AAAAAAAAO0CuR+F6FO49QKYutz/IUN0/AAAAAAAAPEDD9Shcj4JLQIMt2IIt2N4/AAAAAAAAPEBSuB6F69FCQDF1uf1Bht4/AAAAAAAAPUAfhetRuL5EQP8gQ2WHqd8/AAAAAAAAPkDNzMzMzCxIQG2g0wY6beA/AAAAAAAAP0CF61G4HoURQOfVxLOikeA/AAAAAACAQEDD9Shcj8I8QC+3P8hQ2eE/AAAAAAAAP0BI4XoUrsc7QMaSXyz5xeA/AAAAAAAAQEBxPQrXo7AzQJKAb15NPOE/AAAAAAAAQEAUrkfhehQIQBhLfrHkF+E/AAAAAAAAOUAUrkfhetRGQHd3d3d3d9s/AAAAAAAAPEBSuB6F69ExQIFvXk08K94/AAAAAAAAOkCkcD0K1+M8QOb2BxkqO9w/AAAAAAAAOUCPwvUoXA9DQK1oJOCbV9s/AAAAAAAAOUB7FK5H4bpDQFyPwvUoXNs/AAAAAAAAOkDNzMzMzMwdQIbKDlOX29s/AAAAAAAAO0BSuB6F69E+QFVVVVVVVd0/AAAAAAAAOEBI4XoUrmdJQNInfdInfdo/AAAAAAAAOkCPwvUoXI8lQJQ+6ZM+6ds/AAAAAAAAOkA9CtejcD0hQDXxrGgk4Ns/AAAAAAAANkAzMzMzM3NJQLAFW7AFW9g/AAAAAACAQEDXo3A9CjdJQLZgC7ZgC+I/AAAAAACAQkDXo3A9CtcBQGviWdFIwOM/AAAAAAAAQUD2KFyPwvUGQNFIwDevJuI/AAAAAAAAOUBxPQrXo3BAQJKAb15NPNs/AAAAAAAAOUDhehSuR6FMQK5H4XoUrts/AAAAAAAAOUDsUbgehSs2QLn9QYbKDts/AAAAAAAAOkApXI/C9chAQFK4HoXrUdw/AAAAAAAAOkD2KFyPwvUUQCh90id90ts/AAAAAAAAOUBI4XoUrgc+QDMzMzMzM9s/AAAAAAAAOkApXI/C9Sj8P2viWdFIwNs/AAAAAAAAOUCF61G4HoUqQJChssPU5do/AAAAAAAAOECF61G4HqVEQKrL7Q8yVNo/AAAAAAAAOEBI4XoUroc+QCIiIiIiIto/AAAAAAAAOUDsUbgehetIQDQS8M2rids/AAAAAAAAOEAAAAAAAOBKQOCbVxPPito/AAAAAAAAO0D2KFyPwnUsQGLqcvuDDN0/AAAAAAAAOEDXo3A9CldNQExdbn+Qodo/AAAAAAAAOkCuR+F6FK4LQMkvlvxiyds/AAAAAAAAO0CPwvUoXA9IQKcNdNpAp90/AAAAAAAAO0B7FK5H4fozQM6riWdFI90/AAAAAAAAPUDhehSuR+EjQBhLfrHkF98/AAAAAAAAOUAzMzMzMzMVQBdswRZswdo/AAAAAAAAOEDhehSuRyE6QGWHqcvtD9o/AAAAAAAAO0C4HoXrUbg+QFVVVVVVVd0/AAAAAAAAPEBSuB6F69EiQAc6baDTBt4/AAAAAAAAN0DXo3A9Chc0QDmO4ziO49g/AAAAAACAQ0AfhetRuN48QGLqcvuDDOU/AAAAAAAAQ0CuR+F6FE5JQGELtmALtuQ/AAAAAAAAQ0AAAAAAAADQP0REREREROQ/AAAAAACAQ0BSuB6F67FAQBhLfrHkF+U/AAAAAACAQEApXI/C9Sg6QH+QobLD1OE/AAAAAAAAP0DsUbgehctDQOF6FK5H4eA/AAAAAAAAOkB7FK5H4Xo9QJUdpi63P9w/AAAAAAAAPUDXo3A9CrdNQFHZYepy+98/AAAAAAAAPEAUrkfhetQ/QBaNBHzzat4/AAAAAAAAO0A9CtejcP00QH3SJ33SJ90/AAAAAAAAOkDhehSuRyEyQA502kCnDdw/AAAAAACASEApXI/C9ShFQIJOG+i0geo/AAAAAAAASkDXo3A9CldLQDfQaQOdNuw/AAAAAAAATUB7FK5H4fpLQMEWbMEWbO8/AAAAAACASUDsUbgehWsrQKYutz/IUOs/AAAAAACASkCuR+F6FI5HQFrRSMA3r+w/AAAAAAAATEDsUbgehUtGQO0wdbn9Qe4/AAAAAAAAU0ApXI/C9SjsP0RERERERPQ/AAAAAADAUkBI4XoUrkc1QBhLfrHkF/Q/AAAAAACASkDNzMzMzExNQB6mLrc/yOw/AAAAAACASUDXo3A9Ctf7P4tGAr55Nes/AAAAAACASEApXI/C9SgxQPNq4lnRSOo/AAAAAAAASUD2KFyPwrU8QEDIUNlh6uo/AAAAAACASEDXo3A9CrdEQCo7TF1uf+o/AAAAAACASUD2KFyPwnVGQEKGyg5Tl+s/AAAAAAAASUCF61G4HkVHQGkk4JtXE+s/AAAAAACASUDNzMzMzEwlQJ/0SZ/0Ses/AAAAAAAAS0BI4XoUridGQNwfZKjsMO0/AAAAAAAASUCkcD0K16NEQLPD1OX2B+s/AAAAAAAASEBxPQrXo3BHQFgTz4pGAuo/AAAAAACASUDXo3A9CldHQPGsaCTgm+s/AAAAAAAASkD2KFyPwjVKQIepy+0PMuw/AAAAAAAATUCuR+F6FC4tQLn9QYbKDu8/AAAAAAAAS0A9CtejcP1AQBhLfrHkF+0/AAAAAAAATUCF61G4HoX/P0cCvnk18e4/AAAAAAAATECamZmZmdlKQAHfvJp4Vu4/AAAAAAAATED2KFyPwjU/QHo18axoJO4/AAAAAAAASUBcj8L1KBxAQJ4VjQR88+o/AAAAAACASkDXo3A9Ctc1QHTaQKcNdOw/AAAAAACAS0CF61G4HoUJQFyPwvUoXO0/AAAAAAAASEAAAAAAAAA4QNBpA5020Ok/AAAAAACASkBI4XoUrscvQGZmZmZmZuw/AAAAAACASUAzMzMzM7MpQE8b6LSBTus/AAAAAACASUCamZmZmZnpPzMzMzMzM+s/AAAAAACASUDsUbgehUtLQK5H4XoUrus/AAAAAAAASkCuR+F6FK4+QAAAAAAAAOw/AAAAAAAAS0B7FK5H4Xo6QLPD1OX2B+0/AAAAAACAS0CuR+F6FK42QN3+IENlh+0/AAAAAACAS0Bcj8L1KFwxQCeeFY0EfO0/AAAAAACATEDD9Shcj+JJQNpApw102u4/AAAAAACATEBcj8L1KFwkQNInfdInfe4/AAAAAAAATEDD9ShcjwIxQK8mnhWNBO4/AAAAAAAASkDsUbgehQtKQIepy+0PMuw/AAAAAAAASkDXo3A9CldFQBvotIFOG+w/AAAAAACAS0CkcD0K1+M/QPGsaCTgm+0/AAAAAAAASkApXI/C9ahIQIFvXk08K+w/AAAAAAAASkBxPQrXo3DxPxPPikYCvus/AAAAAACAS0AAAAAAAIArQMhQ2WHqcu0/AAAAAAAAQ0BmZmZmZmb2P5xXE8+KRuQ/AAAAAAAASkApXI/C9chMQD0K16NwPew/AAAAAAAASUAK16NwPapCQFR2mLrc/uo/AAAAAACAS0AK16NwPUoxQCeeFY0EfO0/AAAAAAAASkBI4XoUrudFQHP7gwyVHew/AAAAAACASkAK16NwPQoTQKORgG9eTew/AAAAAAAASkBSuB6F6zFBQF5NPCsaCew/AAAAAAAASkBSuB6F6/FAQAc6baDTBuw/AAAAAAAAS0DXo3A9CvdKQPDNq4lnRe0/AAAAAAAATEBcj8L1KJwwQFgTz4pGAu4/AAAAAAAASUBxPQrXo/ArQB6mLrc/yOo/AAAAAAAATUCPwvUoXK9LQMEWbMEWbO8/AAAAAAAAPUDNzMzMzMxMQPKLJb9Y8t8/AAAAAAAAPUBSuB6F61E/QCeeFY0EfN8/AAAAAAAAOkDNzMzMzAxHQDivJp4Vjdw/AAAAAAAAO0ApXI/C9chMQNBpA5020N0/AAAAAAAAPkCPwvUoXA9EQLAFW7AFW+A/AAAAAAAAPEAAAAAAACBEQD/pkz7pk94/AAAAAAAAOkApXI/C9Sg4QClcj8L1KNw/AAAAAAAAOkBmZmZmZuZHQOfVxLOikdw/AAAAAAAAOkCamZmZmVk9QJUdpi63P9w/AAAAAAAAPEBI4XoUrmdGQPuDDJUdpt4/AAAAAAAAPUAUrkfhelQ+QHd3d3d3d98/AAAAAAAAOkBmZmZmZmYcQIbKDlOX29s/AAAAAACASkA9CtejcD0yQG2g0wY6bew/AAAAAACASkB7FK5H4ZpAQI/C9Shcj+w/AAAAAACATUAAAAAAAABAQGviWdFIwO8/AAAAAACASUCamZmZmZmpPzMzMzMzM+s/AAAAAACAS0Bcj8L1KBxCQKcNdNpAp+0/AAAAAAAAS0CuR+F6FM5BQMdxHMdxHO0/AAAAAACARUBxPQrXo7BEQPcHGSo7TOc/AAAAAAAAPkA9CtejcL0tQMsOU5fbH+A/AAAAAAAAOEAzMzMzMxNLQI/C9Shcj9o/AAAAAAAAPEDD9Shcj8LVP97d3d3d3d0/AAAAAAAAOUBmZmZmZmZLQKDTBjptoNs/AAAAAAAAOEDXo3A9Clc3QFgTz4pGAto/AAAAAAAAO0BmZmZmZsZAQGPJL5b8Yt0/AAAAAAAAOkBcj8L1KFxNQG5/kKGyw9w/AAAAAAAAP0DD9ShcjwIyQLHkF0t+seA/AAAAAAAAOkAfhetRuF5LQLHkF0t+sdw/AAAAAAAAOkDNzMzMzAxCQGAs+cWSX9w/AAAAAAAAO0CkcD0K1yNHQEnAN68mnt0/AAAAAAAAPEDD9Shcj6JKQCTgm1cTz94/AAAAAACAUUB7FK5H4XpLQOi0gU4b6PI/AAAAAADAUkDXo3A9CldNQO0wdbn9QfQ/AAAAAAAATEBmZmZmZqZCQIepy+0PMu4/AAAAAACASUDXo3A9CjdDQDQS8M2ries/AAAAAACASECuR+F6FC4lQI7jOI7jOOo/AAAAAACASUA9CtejcH04QGoDnTbQaes/AAAAAAAASUDsUbgehesBQFrRSMA3r+o/AAAAAAAASkAK16NwPUpJQNiCLdiCLew/AAAAAAAASUBI4XoUrkdDQKyJZ0UjAes/AAAAAAAASkBSuB6F69E4QPKLJb9Y8us/AAAAAACAS0AAAAAAAAAgQBLwzauJZ+0/AAAAAACASUDNzMzMzMwtQP5BhsoOU+s/AAAAAAAASEAAAAAAAEA2QCFDZYepy+k/AAAAAAAASUBxPQrXo3A4QOF6FK5H4eo/AAAAAAAASkDsUbgehesHQGviWdFIwOs/AAAAAAAATUAK16NwPSpJQAu2YAu2YO8/AAAAAAAATECuR+F6FC4xQK8mnhWNBO4/AAAAAAAATUAK16NwPco5QH3SJ33SJ+8/AAAAAACATEB7FK5H4fpEQG5/kKGyw+4/AAAAAAAATEAfhetRuP5HQPNq4lnRSO4/AAAAAAAASUDNzMzMzKxFQGLqcvuDDOs/AAAAAAAASkApXI/C9YhLQI7jOI7jOOw/AAAAAACAS0DNzMzMzAxHQBPPikYCvu0/AAAAAAAASEDhehSuR2E9QIbKDlOX2+k/AAAAAACASkAK16NwPYo4QHsUrkfheuw/AAAAAACASUC4HoXrUbhMQLWBThvotOs/AAAAAACARUDhehSuR2E6QNXl9gcZKuc/AAAAAACASUB7FK5H4XolQJ/0SZ/0Ses/AAAAAACASEAAAAAAAGBDQCMB37yaeOo/AAAAAACASUDhehSuR4FKQFY0EvDNq+s/AAAAAACAS0ApXI/C9YhDQK5H4XoUru0/AAAAAAAASkDD9Shcj8JCQGWHqcvtD+w/AAAAAAAAS0CPwvUoXA80QKVP+qRP+uw/AAAAAAAATUBxPQrXozBMQBkqO0xdbu8/AAAAAAAAS0BmZmZmZmYeQDJUdpi63Ow/AAAAAACASkD2KFyPwvUvQGZmZmZmZuw/AAAAAAAASkCPwvUoXI8qQC+3P8hQ2es/AAAAAAAAS0DXo3A9CvdGQDMzMzMzM+0/AAAAAACASUAK16NwPYo8QMhQ2WHqcus/AAAAAAAAOkDXo3A9ChdKQFOX2x9kqNw/AAAAAAAAO0DsUbgehesNQNpApw102tw/AAAAAAAAOUB7FK5H4bowQJ4VjQR889o/AAAAAAAANkBxPQrXo3BKQA9Tl9sfZNg/AAAAAAAAOUCuR+F6FK5MQK5H4XoUrts/AAAAAAAAOEDXo3A9CldLQI/C9Shcj9o/AAAAAAAAOUAfhetRuB5BQPDNq4lnRds/AAAAAAAAO0A9CtejcL0oQAOdNtBpA90/AAAAAAAAOUDNzMzMzGxBQPDNq4lnRds/AAAAAAAAN0BI4XoUrqdLQC7Ygi3Ygtk/AAAAAAAAO0CPwvUoXI8nQFR2mLrc/tw/AAAAAAAAOUDXo3A9Cpc0QFuwBVuwBds/AAAAAAAAPECuR+F6FI5LQIMt2IIt2N4/AAAAAAAAO0B7FK5H4fpKQBPPikYCvt0/AAAAAAAAPEBxPQrXo3AxQIFvXk08K94/AAAAAAAAPECuR+F6FK4iQAc6baDTBt4/AAAAAAAAN0BI4XoUrkc9QGLqcvuDDNk/AAAAAAAAOUBcj8L1KFweQHW5/UGGyto/AAAAAAAANkBcj8L1KFxMQMztDzJUdtg/AAAAAAAAOUBI4XoUrkceQHW5/UGGyto/AAAAAAAAOUAAAAAAAMA4QBhLfrHkF9s/AAAAAAAAO0AUrkfhetQ2QNwfZKjsMN0/AAAAAAAANkAAAAAAAABEQNiCLdiCLdg/AAAAAACAQUAUrkfhepREQLPD1OX2B+M/AAAAAAAAS0AK16NwPYpNQP5BhsoOU+0/AAAAAAAAS0ApXI/C9UhGQNwfZKjsMO0/AAAAAAAASUC4HoXrUbgjQL9Y8oslv+o/AAAAAAAAS0CkcD0K1+M9QLn9QYbKDu0/AAAAAACASUCkcD0K12MwQK1oJOCbV+s/AAAAAAAAS0CkcD0K12NCQB+F61G4Hu0/AAAAAACASEBSuB6F6/FAQG2g0wY6beo/AAAAAACASkApXI/C9chEQExdbn+Qoew/AAAAAAAAS0BxPQrXo9BKQPDNq4lnRe0/AAAAAACATEBmZmZmZmYCQBaNBHzzau4/AAAAAACASUB7FK5H4TpBQNbEs6KRgOs/AAAAAAAAS0BI4XoUrkfpP83MzMzMzOw/AAAAAAAAO0BSuB6F61E2QNwfZKjsMN0/AAAAAAAAPUB7FK5H4dpMQPKLJb9Y8t8/AAAAAAAAR0D2KFyPwvUXQD/pkz7pk+g/AAAAAAAAN0DsUbgehWsuQM3MzMzMzNg/AAAAAAAAPEDXo3A9CtcjQAc6baDTBt4/AAAAAAAAOUC4HoXrUbhJQJNfLPnFkts/AAAAAAAAPUDD9Shcj8JMQPKLJb9Y8t8/AAAAAAAAOkAUrkfhetQ1QBvotIFOG9w/AAAAAAAAN0A9CtejcL0vQM3MzMzMzNg/AAAAAAAAN0BmZmZmZiYzQIpnRSMB39g/AAAAAAAAN0CPwvUoXI87QAOdNtBpA9k/AAAAAAAAOUDNzMzMzMw4QBhLfrHkF9s/AAAAAAAAN0Bcj8L1KNxLQC7Ygi3Ygtk/AAAAAAAAOEDNzMzMzCxNQExdbn+Qodo/AAAAAAAAOUCkcD0K16MxQE08KxoJ+No/AAAAAAAAOEDsUbgeheskQHIcx3Ecx9k/AAAAAAAAN0AAAAAAAIAkQGELtmALttg/AAAAAAAAOEDsUbgehesFQPjm1cSzotk/AAAAAAAAOkCuR+F6FC48QOb2BxkqO9w/AAAAAAAAOkBcj8L1KFwpQPKLJb9Y8ts/AAAAAAAAO0DXo3A9CvdMQNBpA5020N0/AAAAAAAAPECamZmZmRk0QI7jOI7jON4/AAAAAAAAPECkcD0K1wNJQBdswRZswd4/AAAAAAAAPEDD9Shcj8IkQLZgC7ZgC94/AAAAAAAAO0BmZmZmZuY4QDptoNMGOt0/AAAAAAAAP0C4HoXrUVhGQJfbH2So7OA/AAAAAAAAQEBmZmZmZiYxQOJZ0UjAN+E/AAAAAAAANkApXI/C9ag2QIbKDlOX29c/AAAAAAAAN0A9CtejcH0xQCsaCfjm1dg/AAAAAAAAOEDD9ShcjwJLQI/C9Shcj9o/AAAAAAAAPEC4HoXrUbgKQOxRuB6F690/AAAAAAAAOUAfhetRuN5GQHd3d3d3d9s/AAAAAAAAOkCF61G4HgU1QBvotIFOG9w/AAAAAAAAOkBSuB6F61FMQBAyVHaYutw/AAAAAAAAO0DsUbgehestQGLqcvuDDN0/AAAAAAAAPEAUrkfhepQwQNFIwDevJt4/AAAAAAAAOkD2KFyPwvUXQCh90id90ts/AAAAAAAAOUAfhetRuJ5FQBkqO0xdbts/AAAAAAAAOUCuR+F6FK44QBhLfrHkF9s/AAAAAAAAOkDNzMzMzIw1QBvotIFOG9w/AAAAAAAAOUAUrkfhejRIQIXrUbgehds/AAAAAAAAO0CuR+F6FK4YQOi0gU4b6Nw/AAAAAAAAOkBI4XoUrkcoQPKLJb9Y8ts/AAAAAAAAOkB7FK5H4XojQOUXS36x5Ns/AAAAAAAAO0AzMzMzM3NAQLSikYBvXt0/AAAAAAAAOkBxPQrXo7BDQG2g0wY6bdw/AAAAAAAAOkBmZmZmZuZGQImIiIiIiNw/AAAAAAAAOkB7FK5H4TpGQNlh6nL7g9w/AAAAAAAAO0A9CtejcD1DQM+KRgK+ed0/AAAAAAAAPEAfhetRuJ41QD0K16NwPd4/AAAAAAAAO0BI4XoUrgc4QDptoNMGOt0/AAAAAAAAPEBmZmZmZmYWQEqf9Emf9N0/AAAAAAAAPECF61G4HoUSQJt4VjQS8N0/AAAAAAAAOkCkcD0K16M4QClcj8L1KNw/AAAAAAAAO0BSuB6F6zFKQGSo7DB1ud0/AAAAAAAAO0CPwvUoXG9HQEnAN68mnt0/AAAAAAAAOkBcj8L1KNxDQG2g0wY6bdw/AAAAAAAAPECkcD0K12MxQIFvXk08K94/AAAAAAAAOkBxPQrXoxBBQAHfvJp4Vtw/AAAAAAAAOUCamZmZmblEQLvc/iBDZds/AAAAAAAAOkAUrkfhepQiQOUXS36x5Ns/AAAAAAAAPEAfhetRuH5FQJ020GkDnd4/AAAAAAAAPEAAAAAAAAATQJt4VjQS8N0/AAAAAAAAOUDXo3A9CvdEQLvc/iBDZds/AAAAAAAAOUBcj8L1KNxKQPGsaCTgm9s/AAAAAAAAOUA9CtejcH1CQE8b6LSBTts/AAAAAAAAOkAAAAAAAABAQKORgG9eTdw/AAAAAAAAO0DNzMzMzMxNQC+3P8hQ2d0/AAAAAAAAOkDhehSuR2FBQAHfvJp4Vtw/AAAAAAAAPEBmZmZmZuY/QBaNBHzzat4/AAAAAAAAO0DXo3A9CldFQIwlv1jyi90/AAAAAAAAPEBSuB6F65FDQI/C9Shcj94/AAAAAAAAPUCuR+F6FO5DQKDTBjptoN8/AAAAAAAAO0BSuB6F63FEQC7Ygi3Ygt0/AAAAAAAAPUCamZmZmdlAQIXrUbgehd8/AAAAAAAAOkCPwvUoXI84QClcj8L1KNw/AAAAAAAAOkBSuB6F61E2QMsOU5fbH9w/AAAAAAAAPUAfhetRuF49QMhQ2WHqct8/AAAAAAAAPEAUrkfherRKQCTgm1cTz94/AAAAAAAAOkAK16NwPUpMQBAyVHaYutw/AAAAAAAAOkBI4XoUrsdEQMztDzJUdtw/AAAAAAAAP0BxPQrXo/A4QL9Y8oslv+A/AAAAAACAREDXo3A9CldDQN+8mnhWNOY/AAAAAAAAPECF61G4HoU2QO0wdbn9Qd4/AAAAAAAAQUAUrkfhevRLQPVJn/RJn+I/AAAAAAAAQUDNzMzMzEw5QLAFW7AFW+I/AAAAAAAAPkCF61G4HoVIQMWzopGAb+A/AAAAAACAQECPwvUoXM9CQENlh6nL7eE/AAAAAAAAOEBmZmZmZqY5QLZgC7ZgC9o/AAAAAAAAO0ApXI/C9SgpQAOdNtBpA90/AAAAAAAAOUBSuB6F6/FJQJNfLPnFkts/AAAAAAAAOkC4HoXrUdhHQOfVxLOikdw/AAAAAAAAOkAK16NwPepCQA9Tl9sfZNw/AAAAAAAAPEC4HoXrUbhAQHTaQKcNdN4/AAAAAAAAOUBI4XoUrmdMQP8gQ2WHqds/AAAAAAAAO0D2KFyPwjU9QKYutz/IUN0/AAAAAAAAOkBI4XoUrsdBQLAFW7AFW9w/AAAAAAAAOUBxPQrXozBMQP8gQ2WHqds/AAAAAAAAOkAAAAAAAIAvQAAAAAAAANw/AAAAAAAAOkD2KFyPwnU5QNiCLdiCLdw/AAAAAAAAOkAUrkfhehQ0QGzBFmzBFtw/AAAAAAAAOkAAAAAAAOBHQOfVxLOikdw/AAAAAAAAOUB7FK5H4RpNQF1uf5Chsts/AAAAAAAAOUCkcD0K1wNCQE8b6LSBTts/AAAAAAAAOECPwvUoXI84QAc6baDTBto/AAAAAAAAOkDhehSuR2EqQKKyw9Tl9ts/AAAAAAAAPUBcj8L1KNwrQNXl9gcZKt8/AAAAAAAAQkDNzMzMzMwZQEGnDXTaQOM/AAAAAAAAQ0ApXI/C9SgKQEt+seQXS+Q/AAAAAAAAOUDXo3A9ChcyQP1iyS+W/No/AAAAAAAARECamZmZmXlEQAZbsAVbsOU/AAAAAAAAQECF61G4HqVEQBkqO0xdbuE/AAAAAAAAP0CPwvUoXO9KQKyJZ0UjAeE/AAAAAAAAP0DsUbgehesrQPuDDJUdpuA/AAAAAACAQkCamZmZmTlLQDfQaQOdNuQ/AAAAAAAARUAzMzMzM9NMQOi0gU4b6OY/AAAAAAAAREBxPQrXo3BNQC+3P8hQ2eU/AAAAAAAAP0DsUbgehas4QL9Y8oslv+A/AAAAAAAAOUCamZmZmXlIQIXrUbgehds/AAAAAAAAPEBxPQrXo3BKQHW5/UGGyt4/AAAAAAAAPEBcj8L1KFwWQEqf9Emf9N0/AAAAAAAAPkDsUbgehes8QJUdpi63P+A/AAAAAAAAPUBI4XoUrkdIQMkvlvxiyd8/AAAAAAAAP0DhehSuRyFCQNpApw102uA/AAAAAAAAPEAfhetRuB4pQBSuR+F6FN4/AAAAAAAAP0AK16NwPYpKQKyJZ0UjAeE/AAAAAAAAQUDD9Shcj2JAQBaNBHzzauI/AAAAAAAAP0C4HoXrUXhNQGLqcvuDDOE/AAAAAAAAQkDXo3A9Clc4QGoDnTbQaeM/AAAAAAAAO0AK16NwPQpHQEnAN68mnt0/AAAAAAAAOkCuR+F6FE5HQDivJp4Vjdw/AAAAAAAAO0DXo3A9CldNQH+QobLD1N0/AAAAAAAAOEBI4XoUrkc8QMTU5fYHGdo/AAAAAAAAO0AzMzMzM/NEQN3+IENlh90/AAAAAAAAPkAfhetRuJ4mQMTU5fYHGeA/AAAAAAAAN0CPwvUoXM9FQPcHGSo7TNk/AAAAAAAAOEA9CtejcF1FQFnyiyW/WNo/AAAAAAAAN0AfhetRuF5DQItGAr55Ndk/AAAAAAAALkBSuB6F6zFNQLPD1OX2B9E/",
          "dtype": "f8",
          "shape": "443, 3"
         },
         "hovertemplate": "Lote=%{x}<br>Duração (minutos)=%{y}<br>Minutos=%{customdata[0]:.1f}<br>Segundos=%{customdata[1]:.1f}<br>Total (h)=%{customdata[2]:.3f}<extra></extra>",
         "legendgroup": "",
         "marker": {
          "color": "royalblue",
          "pattern": {
           "shape": ""
          }
         },
         "name": "",
         "orientation": "v",
         "showlegend": false,
         "textposition": "auto",
         "type": "bar",
         "x": {
          "bdata": "AQACAAMABAAFAAYABwAIAAkACgALAAwADQAOAA8AEAARABIAEwAUABUAFgAXABgAGQAaABsAHAAdAB4AHwAgACEAIgAjACQAJQAmACcAKAApACoAKwAsAC0ALgAvADAAMQAyADMANAA1ADYANwA4ADkAOgA7ADwAPQA+AD8AQABBAEIAQwBEAEUARgBHAEgASQBKAEsATABNAE4ATwBQAFEAUgBTAFQAVQBWAFcAWABZAFoAWwBcAF0AXgBfAGAAYQBiAGMAZABlAGYAZwBoAGkAagBrAGwAbQBuAG8AcABxAHIAcwB0AHUAdgB3AHgAeQB6AHsAfAB9AH4AfwCAAIEAggCDAIQAhQCGAIcAiACJAIoAiwCMAI0AjgCPAJAAkQCSAJMAlACVAJYAlwCYAJkAmgCbAJwAnQCeAJ8AoAChAKIAowCkAKUApgCnAKgAqQCqAKsArACtAK4ArwCwALEAsgCzALQAtQC2ALcAuAC5ALoAuwC8AL0AvgC/AMAAwQDCAMMAxADFAMYAxwDIAMkAygDLAMwAzQDOAM8A0ADRANIAyQDKAMsAzADNAM4AzwDQANEA0gDTANQA1QDWANcA2ADZANoA2wDcAN0A3gDfAOAA4QDiAOMA5ADlAOYA5wDoAOkA6gDrAOwA7QDuAO8A8ADxAPIA8wD0APUA9gD3APgA+QD6APsA/AD9AP4A/wAAAQEBAgEDAQQBBQEGAQcBCAEJAQoBCwEMAQ0BDgEPARABEQESARMBFAEVARYBFwEYARkBGgEbARwBHQEeAR8BIAEhASIBIwEkASUBJgEnASgBKQEqASsBLAEtAS4BLwEwATEBMgEzATQBNQE2ATcBOAE5AToBOwE8AT0BPgE/AUABQQFCAUMBRAFFAUYBRwFIAUkBSgFLAUwBTQFOAU8BUAFRAVIBUwFUAVUBVgFXAVgBWQFaAVsBXAFdAV4BXwFgAWEBYgFjAWQBZQFmAWcBaAFpAWoBawFsAW0BbgFvAXABcQFyAXMBdAF1AXYBdwF4AXkBegF7AXwBfQF+AX8BgAGBAYIBgwGEAYUBhgGHAYgBiQGKAYsBjAGNAY4BjwGQAZEBkgGTAZQBlQGWAZcBmAGZAZoBmwGcAZ0BngGfAaABoQGiAaMBpAGlAaYBpwGoAakBqgGrAawBrQGuAa8BsAGxAQ==",
          "dtype": "i2"
         },
         "xaxis": "x",
         "y": {
          "bdata": "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",
          "dtype": "f8"
         },
         "yaxis": "y"
        }
       ],
       "layout": {
        "annotations": [
         {
          "align": "center",
          "font": {
           "size": 12
          },
          "showarrow": false,
          "text": "Duração Total: <br>(255.97 horas / 10.67 dias)",
          "x": 0.5,
          "xref": "paper",
          "y": -0.35,
          "yref": "paper"
         }
        ],
        "barmode": "relative",
        "hoverlabel": {
         "bgcolor": "white",
         "font": {
          "size": 13
         }
        },
        "legend": {
         "tracegroupgap": 0
        },
        "margin": {
         "b": 100
        },
        "template": {
         "data": {
          "bar": [
           {
            "error_x": {
             "color": "#2a3f5f"
            },
            "error_y": {
             "color": "#2a3f5f"
            },
            "marker": {
             "line": {
              "color": "#E5ECF6",
              "width": 0.5
             },
             "pattern": {
              "fillmode": "overlay",
              "size": 10,
              "solidity": 0.2
             }
            },
            "type": "bar"
           }
          ],
          "barpolar": [
           {
            "marker": {
             "line": {
              "color": "#E5ECF6",
              "width": 0.5
             },
             "pattern": {
              "fillmode": "overlay",
              "size": 10,
              "solidity": 0.2
             }
            },
            "type": "barpolar"
           }
          ],
          "carpet": [
           {
            "aaxis": {
             "endlinecolor": "#2a3f5f",
             "gridcolor": "white",
             "linecolor": "white",
             "minorgridcolor": "white",
             "startlinecolor": "#2a3f5f"
            },
            "baxis": {
             "endlinecolor": "#2a3f5f",
             "gridcolor": "white",
             "linecolor": "white",
             "minorgridcolor": "white",
             "startlinecolor": "#2a3f5f"
            },
            "type": "carpet"
           }
          ],
          "choropleth": [
           {
            "colorbar": {
             "outlinewidth": 0,
             "ticks": ""
            },
            "type": "choropleth"
           }
          ],
          "contour": [
           {
            "colorbar": {
             "outlinewidth": 0,
             "ticks": ""
            },
            "colorscale": [
             [
              0,
              "#0d0887"
             ],
             [
              0.1111111111111111,
              "#46039f"
             ],
             [
              0.2222222222222222,
              "#7201a8"
             ],
             [
              0.3333333333333333,
              "#9c179e"
             ],
             [
              0.4444444444444444,
              "#bd3786"
             ],
             [
              0.5555555555555556,
              "#d8576b"
             ],
             [
              0.6666666666666666,
              "#ed7953"
             ],
             [
              0.7777777777777778,
              "#fb9f3a"
             ],
             [
              0.8888888888888888,
              "#fdca26"
             ],
             [
              1,
              "#f0f921"
             ]
            ],
            "type": "contour"
           }
          ],
          "contourcarpet": [
           {
            "colorbar": {
             "outlinewidth": 0,
             "ticks": ""
            },
            "type": "contourcarpet"
           }
          ],
          "heatmap": [
           {
            "colorbar": {
             "outlinewidth": 0,
             "ticks": ""
            },
            "colorscale": [
             [
              0,
              "#0d0887"
             ],
             [
              0.1111111111111111,
              "#46039f"
             ],
             [
              0.2222222222222222,
              "#7201a8"
             ],
             [
              0.3333333333333333,
              "#9c179e"
             ],
             [
              0.4444444444444444,
              "#bd3786"
             ],
             [
              0.5555555555555556,
              "#d8576b"
             ],
             [
              0.6666666666666666,
              "#ed7953"
             ],
             [
              0.7777777777777778,
              "#fb9f3a"
             ],
             [
              0.8888888888888888,
              "#fdca26"
             ],
             [
              1,
              "#f0f921"
             ]
            ],
            "type": "heatmap"
           }
          ],
          "histogram": [
           {
            "marker": {
             "pattern": {
              "fillmode": "overlay",
              "size": 10,
              "solidity": 0.2
             }
            },
            "type": "histogram"
           }
          ],
          "histogram2d": [
           {
            "colorbar": {
             "outlinewidth": 0,
             "ticks": ""
            },
            "colorscale": [
             [
              0,
              "#0d0887"
             ],
             [
              0.1111111111111111,
              "#46039f"
             ],
             [
              0.2222222222222222,
              "#7201a8"
             ],
             [
              0.3333333333333333,
              "#9c179e"
             ],
             [
              0.4444444444444444,
              "#bd3786"
             ],
             [
              0.5555555555555556,
              "#d8576b"
             ],
             [
              0.6666666666666666,
              "#ed7953"
             ],
             [
              0.7777777777777778,
              "#fb9f3a"
             ],
             [
              0.8888888888888888,
              "#fdca26"
             ],
             [
              1,
              "#f0f921"
             ]
            ],
            "type": "histogram2d"
           }
          ],
          "histogram2dcontour": [
           {
            "colorbar": {
             "outlinewidth": 0,
             "ticks": ""
            },
            "colorscale": [
             [
              0,
              "#0d0887"
             ],
             [
              0.1111111111111111,
              "#46039f"
             ],
             [
              0.2222222222222222,
              "#7201a8"
             ],
             [
              0.3333333333333333,
              "#9c179e"
             ],
             [
              0.4444444444444444,
              "#bd3786"
             ],
             [
              0.5555555555555556,
              "#d8576b"
             ],
             [
              0.6666666666666666,
              "#ed7953"
             ],
             [
              0.7777777777777778,
              "#fb9f3a"
             ],
             [
              0.8888888888888888,
              "#fdca26"
             ],
             [
              1,
              "#f0f921"
             ]
            ],
            "type": "histogram2dcontour"
           }
          ],
          "mesh3d": [
           {
            "colorbar": {
             "outlinewidth": 0,
             "ticks": ""
            },
            "type": "mesh3d"
           }
          ],
          "parcoords": [
           {
            "line": {
             "colorbar": {
              "outlinewidth": 0,
              "ticks": ""
             }
            },
            "type": "parcoords"
           }
          ],
          "pie": [
           {
            "automargin": true,
            "type": "pie"
           }
          ],
          "scatter": [
           {
            "fillpattern": {
             "fillmode": "overlay",
             "size": 10,
             "solidity": 0.2
            },
            "type": "scatter"
           }
          ],
          "scatter3d": [
           {
            "line": {
             "colorbar": {
              "outlinewidth": 0,
              "ticks": ""
             }
            },
            "marker": {
             "colorbar": {
              "outlinewidth": 0,
              "ticks": ""
             }
            },
            "type": "scatter3d"
           }
          ],
          "scattercarpet": [
           {
            "marker": {
             "colorbar": {
              "outlinewidth": 0,
              "ticks": ""
             }
            },
            "type": "scattercarpet"
           }
          ],
          "scattergeo": [
           {
            "marker": {
             "colorbar": {
              "outlinewidth": 0,
              "ticks": ""
             }
            },
            "type": "scattergeo"
           }
          ],
          "scattergl": [
           {
            "marker": {
             "colorbar": {
              "outlinewidth": 0,
              "ticks": ""
             }
            },
            "type": "scattergl"
           }
          ],
          "scattermap": [
           {
            "marker": {
             "colorbar": {
              "outlinewidth": 0,
              "ticks": ""
             }
            },
            "type": "scattermap"
           }
          ],
          "scattermapbox": [
           {
            "marker": {
             "colorbar": {
              "outlinewidth": 0,
              "ticks": ""
             }
            },
            "type": "scattermapbox"
           }
          ],
          "scatterpolar": [
           {
            "marker": {
             "colorbar": {
              "outlinewidth": 0,
              "ticks": ""
             }
            },
            "type": "scatterpolar"
           }
          ],
          "scatterpolargl": [
           {
            "marker": {
             "colorbar": {
              "outlinewidth": 0,
              "ticks": ""
             }
            },
            "type": "scatterpolargl"
           }
          ],
          "scatterternary": [
           {
            "marker": {
             "colorbar": {
              "outlinewidth": 0,
              "ticks": ""
             }
            },
            "type": "scatterternary"
           }
          ],
          "surface": [
           {
            "colorbar": {
             "outlinewidth": 0,
             "ticks": ""
            },
            "colorscale": [
             [
              0,
              "#0d0887"
             ],
             [
              0.1111111111111111,
              "#46039f"
             ],
             [
              0.2222222222222222,
              "#7201a8"
             ],
             [
              0.3333333333333333,
              "#9c179e"
             ],
             [
              0.4444444444444444,
              "#bd3786"
             ],
             [
              0.5555555555555556,
              "#d8576b"
             ],
             [
              0.6666666666666666,
              "#ed7953"
             ],
             [
              0.7777777777777778,
              "#fb9f3a"
             ],
             [
              0.8888888888888888,
              "#fdca26"
             ],
             [
              1,
              "#f0f921"
             ]
            ],
            "type": "surface"
           }
          ],
          "table": [
           {
            "cells": {
             "fill": {
              "color": "#EBF0F8"
             },
             "line": {
              "color": "white"
             }
            },
            "header": {
             "fill": {
              "color": "#C8D4E3"
             },
             "line": {
              "color": "white"
             }
            },
            "type": "table"
           }
          ]
         },
         "layout": {
          "annotationdefaults": {
           "arrowcolor": "#2a3f5f",
           "arrowhead": 0,
           "arrowwidth": 1
          },
          "autotypenumbers": "strict",
          "coloraxis": {
           "colorbar": {
            "outlinewidth": 0,
            "ticks": ""
           }
          },
          "colorscale": {
           "diverging": [
            [
             0,
             "#8e0152"
            ],
            [
             0.1,
             "#c51b7d"
            ],
            [
             0.2,
             "#de77ae"
            ],
            [
             0.3,
             "#f1b6da"
            ],
            [
             0.4,
             "#fde0ef"
            ],
            [
             0.5,
             "#f7f7f7"
            ],
            [
             0.6,
             "#e6f5d0"
            ],
            [
             0.7,
             "#b8e186"
            ],
            [
             0.8,
             "#7fbc41"
            ],
            [
             0.9,
             "#4d9221"
            ],
            [
             1,
             "#276419"
            ]
           ],
           "sequential": [
            [
             0,
             "#0d0887"
            ],
            [
             0.1111111111111111,
             "#46039f"
            ],
            [
             0.2222222222222222,
             "#7201a8"
            ],
            [
             0.3333333333333333,
             "#9c179e"
            ],
            [
             0.4444444444444444,
             "#bd3786"
            ],
            [
             0.5555555555555556,
             "#d8576b"
            ],
            [
             0.6666666666666666,
             "#ed7953"
            ],
            [
             0.7777777777777778,
             "#fb9f3a"
            ],
            [
             0.8888888888888888,
             "#fdca26"
            ],
            [
             1,
             "#f0f921"
            ]
           ],
           "sequentialminus": [
            [
             0,
             "#0d0887"
            ],
            [
             0.1111111111111111,
             "#46039f"
            ],
            [
             0.2222222222222222,
             "#7201a8"
            ],
            [
             0.3333333333333333,
             "#9c179e"
            ],
            [
             0.4444444444444444,
             "#bd3786"
            ],
            [
             0.5555555555555556,
             "#d8576b"
            ],
            [
             0.6666666666666666,
             "#ed7953"
            ],
            [
             0.7777777777777778,
             "#fb9f3a"
            ],
            [
             0.8888888888888888,
             "#fdca26"
            ],
            [
             1,
             "#f0f921"
            ]
           ]
          },
          "colorway": [
           "#636efa",
           "#EF553B",
           "#00cc96",
           "#ab63fa",
           "#FFA15A",
           "#19d3f3",
           "#FF6692",
           "#B6E880",
           "#FF97FF",
           "#FECB52"
          ],
          "font": {
           "color": "#2a3f5f"
          },
          "geo": {
           "bgcolor": "white",
           "lakecolor": "white",
           "landcolor": "#E5ECF6",
           "showlakes": true,
           "showland": true,
           "subunitcolor": "white"
          },
          "hoverlabel": {
           "align": "left"
          },
          "hovermode": "closest",
          "mapbox": {
           "style": "light"
          },
          "paper_bgcolor": "white",
          "plot_bgcolor": "#E5ECF6",
          "polar": {
           "angularaxis": {
            "gridcolor": "white",
            "linecolor": "white",
            "ticks": ""
           },
           "bgcolor": "#E5ECF6",
           "radialaxis": {
            "gridcolor": "white",
            "linecolor": "white",
            "ticks": ""
           }
          },
          "scene": {
           "xaxis": {
            "backgroundcolor": "#E5ECF6",
            "gridcolor": "white",
            "gridwidth": 2,
            "linecolor": "white",
            "showbackground": true,
            "ticks": "",
            "zerolinecolor": "white"
           },
           "yaxis": {
            "backgroundcolor": "#E5ECF6",
            "gridcolor": "white",
            "gridwidth": 2,
            "linecolor": "white",
            "showbackground": true,
            "ticks": "",
            "zerolinecolor": "white"
           },
           "zaxis": {
            "backgroundcolor": "#E5ECF6",
            "gridcolor": "white",
            "gridwidth": 2,
            "linecolor": "white",
            "showbackground": true,
            "ticks": "",
            "zerolinecolor": "white"
           }
          },
          "shapedefaults": {
           "line": {
            "color": "#2a3f5f"
           }
          },
          "ternary": {
           "aaxis": {
            "gridcolor": "white",
            "linecolor": "white",
            "ticks": ""
           },
           "baxis": {
            "gridcolor": "white",
            "linecolor": "white",
            "ticks": ""
           },
           "bgcolor": "#E5ECF6",
           "caxis": {
            "gridcolor": "white",
            "linecolor": "white",
            "ticks": ""
           }
          },
          "title": {
           "x": 0.05
          },
          "xaxis": {
           "automargin": true,
           "gridcolor": "white",
           "linecolor": "white",
           "ticks": "",
           "title": {
            "standoff": 15
           },
           "zerolinecolor": "white",
           "zerolinewidth": 2
          },
          "yaxis": {
           "automargin": true,
           "gridcolor": "white",
           "linecolor": "white",
           "ticks": "",
           "title": {
            "standoff": 15
           },
           "zerolinecolor": "white",
           "zerolinewidth": 2
          }
         }
        },
        "title": {
         "text": "Tempo de Processamento por Lote (20 células) - Step 1 (name_ratio)",
         "x": 0.5
        },
        "xaxis": {
         "anchor": "y",
         "domain": [
          0,
          1
         ],
         "title": {
          "text": "Lote"
         }
        },
        "yaxis": {
         "anchor": "x",
         "domain": [
          0,
          1
         ],
         "title": {
          "text": "Duração (minutos)"
         }
        }
       }
      }
     },
     "metadata": {},
     "output_type": "display_data"
    }
   ],
   "source": [
    "# Gráfico de barras para visualizar os tempos de processamento\n",
    "fig = px.bar(\n",
    "    df_tempos,\n",
    "    x='Lote',\n",
    "    y='Total (min)',\n",
    "    hover_data={\n",
    "        'Minutos': ':.1f',\n",
    "        'Segundos': ':.1f',\n",
    "        'Total (h)': ':.3f'\n",
    "    },\n",
    "    labels={'Total (min)': 'Duração (minutos)'},\n",
    "    title='Tempo de Processamento por Lote (20 células) - Step 1 (name_ratio)',\n",
    ")\n",
    "\n",
    "# Cálculo do tempo total consolidado de todos os lotes\n",
    "total_horas = df_tempos['Total (h)'].sum()\n",
    "total_dias = df_tempos['Total (dias)'].sum()\n",
    "\n",
    "# Adiciona anotação com a duração total\n",
    "fig.add_annotation(\n",
    "    xref=\"paper\", \n",
    "    yref=\"paper\",\n",
    "    x=0.5, \n",
    "    y=-0.35,  # Ajuste a posição vertical aqui\n",
    "    text=f\"Duração Total: <br>({total_horas:.2f} horas / {total_dias:.2f} dias)\",\n",
    "    showarrow=False,\n",
    "    font=dict(size=12),\n",
    "    align=\"center\"\n",
    ")\n",
    "\n",
    "# Ajustes estéticos\n",
    "fig.update_traces(marker_color='royalblue')\n",
    "fig.update_layout(\n",
    "    title_x=0.5,\n",
    "    xaxis_title='Lote',\n",
    "    yaxis_title='Duração (minutos)',\n",
    "    hoverlabel=dict(bgcolor=\"white\", font_size=13),\n",
    "    margin=dict(b=100)  # Aumenta a margem inferior para caber a anotação\n",
    ")\n",
    "\n",
    "# Salva o gráfico em formato HTML\n",
    "fig.write_html(\"step1_tempo_processamento.html\")\n",
    "\n",
    "fig.show()"
   ]
  }
 ],
 "metadata": {
  "kernelspec": {
   "display_name": "env-DScPythonGeo",
   "language": "python",
   "name": "python3"
  },
  "language_info": {
   "codemirror_mode": {
    "name": "ipython",
    "version": 3
   },
   "file_extension": ".py",
   "mimetype": "text/x-python",
   "name": "python",
   "nbconvert_exporter": "python",
   "pygments_lexer": "ipython3",
   "version": "3.12.4"
  }
 },
 "nbformat": 4,
 "nbformat_minor": 5
}
