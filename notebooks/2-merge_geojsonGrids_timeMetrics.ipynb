{
 "cells": [
  {
   "cell_type": "code",
   "execution_count": null,
   "id": "a241d1ad",
   "metadata": {},
   "outputs": [],
   "source": [
    "# Import necessary initial libraries\n",
    "import os\n",
    "import sys\n",
    "import logging\n",
    "import re\n",
    "from datetime import timedelta\n",
    "import plotly.express as px"
   ]
  },
  {
   "cell_type": "code",
   "execution_count": null,
   "id": "f664bbba",
   "metadata": {},
   "outputs": [],
   "source": [
    "# Sets the root directory of the project as the working directory\n",
    "os.chdir('..')"
   ]
  },
  {
   "cell_type": "code",
   "execution_count": null,
   "id": "0ce1729b",
   "metadata": {},
   "outputs": [],
   "source": [
    "# Check the current working directory\n",
    "os.getcwd()"
   ]
  },
  {
   "cell_type": "code",
   "execution_count": 5,
   "id": "e4d8b6ca",
   "metadata": {},
   "outputs": [],
   "source": [
    "# Import the custom module\n",
    "from src import merge_geojsonGrids"
   ]
  },
  {
   "cell_type": "code",
   "execution_count": 6,
   "id": "e71244b0",
   "metadata": {},
   "outputs": [
    {
     "data": {
      "text/plain": [
       "<module 'src.merge_geojsonGrids' from '/Users/darlanmnunes/Dev/DSc_git/PhD_Thesis_Step3_OSM_Toponyms/src/merge_geojsonGrids.py'>"
      ]
     },
     "execution_count": 6,
     "metadata": {},
     "output_type": "execute_result"
    }
   ],
   "source": [
    "# Reload the module to ensure any changes are reflected\n",
    "import importlib\n",
    "from importlib import reload\n",
    "\n",
    "importlib.reload(merge_geojsonGrids)"
   ]
  },
  {
   "cell_type": "markdown",
   "id": "ff0dad5e",
   "metadata": {},
   "source": [
    "### Consolidação dos arquivos GeoJSON das Grades Geoespaciais, resultantes de cada step, em um único arquivo"
   ]
  },
  {
   "cell_type": "code",
   "execution_count": 8,
   "id": "7c206c57",
   "metadata": {},
   "outputs": [
    {
     "data": {
      "text/plain": [
       "['/Users/darlanmnunes/Dev/DSc_git/PhD_Thesis_Step3_OSM_Toponyms/data/output_code1/4cells_tests/step1_consolidado.geojson',\n",
       " '/Users/darlanmnunes/Dev/DSc_git/PhD_Thesis_Step3_OSM_Toponyms/data/output_code1/4cells_tests/step2_consolidado.geojson',\n",
       " '/Users/darlanmnunes/Dev/DSc_git/PhD_Thesis_Step3_OSM_Toponyms/data/output_code1/4cells_tests/step4_consolidado.geojson',\n",
       " '/Users/darlanmnunes/Dev/DSc_git/PhD_Thesis_Step3_OSM_Toponyms/data/output_code1/4cells_tests/step5_consolidado.geojson',\n",
       " '/Users/darlanmnunes/Dev/DSc_git/PhD_Thesis_Step3_OSM_Toponyms/data/output_code1/4cells_tests/step6_consolidado.geojson',\n",
       " '/Users/darlanmnunes/Dev/DSc_git/PhD_Thesis_Step3_OSM_Toponyms/data/output_code1/4cells_tests/steps_consolidado.geojson']"
      ]
     },
     "execution_count": 8,
     "metadata": {},
     "output_type": "execute_result"
    }
   ],
   "source": [
    "# Lista dos arquivos GeoJSON para merge (ordem importa - primeiro arquivo tem prioridade)\n",
    "# Usando pathlib para tornar o código mais legível e robusto\n",
    "from pathlib import Path\n",
    "\n",
    "testes_dir = Path(os.getcwd()) / 'data/output_code1/4cells_tests'\n",
    "output_code1_files = sorted([str(f) for f in testes_dir.glob('*.geojson')])\n",
    "output_code1_files\n"
   ]
  },
  {
   "cell_type": "code",
   "execution_count": null,
   "id": "fb672934",
   "metadata": {},
   "outputs": [],
   "source": [
    "# Salva os arquivos GeoJSON consolidados em um arquivo GeoPackage\n",
    "output_file_name = \"steps_consolidado.gpkg\"\n",
    "output_path = os.path.join(testes_dir, output_file_name)\n",
    "\n",
    "merge_geojsonGrids.merge_geojson2gpkg(output_code1_files, str(output_path))"
   ]
  },
  {
   "cell_type": "code",
   "execution_count": null,
   "id": "41be4b4f",
   "metadata": {},
   "outputs": [],
   "source": [
    "# Salva os arquivos GeoJSON consolidados em um único arquivo GeoJSON\n",
    "output_file_name = \"steps_consolidado.geojson\"\n",
    "output_path = os.path.join(testes_dir, output_file_name)\n",
    "\n",
    "merge_geojsonGrids.merge_geojson2geojson(output_code1_files, str(output_path))"
   ]
  },
  {
   "cell_type": "markdown",
   "id": "10c2eddc",
   "metadata": {},
   "source": [
    "### 3. Métricas de Tempo"
   ]
  },
  {
   "cell_type": "code",
   "execution_count": null,
   "id": "7b8946a2",
   "metadata": {},
   "outputs": [],
   "source": [
    "# Leitura do Arquivo Excel\n",
    "file_name = [\n",
    "    \"results/1_output_grid/time_metrics/time_log_OHSOME_requests.xlsx\"\n",
    "]"
   ]
  },
  {
   "cell_type": "code",
   "execution_count": null,
   "id": "d4841881",
   "metadata": {},
   "outputs": [],
   "source": [
    "# Leitura do Arquivo Excel\n",
    "df_time = pd.read_excel(file_name[0], sheet_name='step1')"
   ]
  },
  {
   "cell_type": "code",
   "execution_count": null,
   "id": "59eef86e",
   "metadata": {},
   "outputs": [],
   "source": [
    "# Exibe as primeiras linhas para validar\n",
    "display(df_time.head(10))"
   ]
  },
  {
   "cell_type": "code",
   "execution_count": null,
   "id": "1bfb7200",
   "metadata": {},
   "outputs": [],
   "source": [
    "# Exibe as últimas linhas para validar\n",
    "display(df_time.tail(10))"
   ]
  },
  {
   "cell_type": "code",
   "execution_count": null,
   "id": "c0978e08",
   "metadata": {},
   "outputs": [],
   "source": [
    "# Função para extrair tempos dos lotes\n",
    "def extrair_tempos(df):\n",
    "    resultados = []\n",
    "\n",
    "    for line in df.iloc[:, 0].dropna():\n",
    "        match = re.search(r'Tempo do lote (\\d+): (\\d+\\.?\\d*) min (\\d+\\.?\\d*) seg', line)\n",
    "        if match:\n",
    "            lote = int(match.group(1))\n",
    "            minutos = float(match.group(2))\n",
    "            segundos = float(match.group(3))\n",
    "            total_segundos = int(minutos * 60 + segundos)\n",
    "            resultados.append({\n",
    "                'Lote': lote,\n",
    "                'Minutos': minutos,\n",
    "                'Segundos': segundos,\n",
    "                'Total (s)': total_segundos,\n",
    "                'Total (min)': total_segundos / 60,\n",
    "                'Total (h)': total_segundos / 3600,\n",
    "                'Total (dias)': total_segundos / (3600 * 24),\n",
    "                'Duração (timedelta)': timedelta(seconds=total_segundos)\n",
    "            })\n",
    "\n",
    "    return pd.DataFrame(resultados)"
   ]
  },
  {
   "cell_type": "code",
   "execution_count": null,
   "id": "501019d3",
   "metadata": {},
   "outputs": [],
   "source": [
    "# Aplicar a função para extrair os tempos\n",
    "df_tempos = extrair_tempos(df_time)\n",
    "df_tempos"
   ]
  },
  {
   "cell_type": "code",
   "execution_count": null,
   "id": "fa6d6a61",
   "metadata": {},
   "outputs": [],
   "source": [
    "# Cálculo do tempo total consolidado de todos os lotes\n",
    "total_horas = df_tempos['Total (h)'].sum()\n",
    "total_dias = df_tempos['Total (dias)'].sum()\n",
    "print(f\"Tempo Total (todos os lotes): {total_horas :.2f} horas\")\n",
    "print(f\"Tempo Total (todos os lotes): {total_dias :.2f} dias\")"
   ]
  },
  {
   "cell_type": "code",
   "execution_count": null,
   "id": "d6cb5e72",
   "metadata": {},
   "outputs": [],
   "source": [
    "# Gráfico de barras para visualizar os tempos de processamento\n",
    "fig = px.bar(\n",
    "    df_tempos,\n",
    "    x='Lote',\n",
    "    y='Total (min)',\n",
    "    hover_data={\n",
    "        'Minutos': ':.1f',\n",
    "        'Segundos': ':.1f',\n",
    "        'Total (h)': ':.3f'\n",
    "    },\n",
    "    labels={'Total (min)': 'Duração (minutos)'},\n",
    "    title='Tempo de Processamento por Lote (20 células) - Step 1 (name_ratio)',\n",
    ")\n",
    "\n",
    "# Cálculo do tempo total consolidado de todos os lotes\n",
    "total_horas = df_tempos['Total (h)'].sum()\n",
    "total_dias = df_tempos['Total (dias)'].sum()\n",
    "\n",
    "# Adiciona anotação com a duração total\n",
    "fig.add_annotation(\n",
    "    xref=\"paper\", \n",
    "    yref=\"paper\",\n",
    "    x=0.5, \n",
    "    y=-0.35,  # Ajuste a posição vertical aqui\n",
    "    text=f\"Duração Total: <br>({total_horas:.2f} horas / {total_dias:.2f} dias)\",\n",
    "    showarrow=False,\n",
    "    font=dict(size=12),\n",
    "    align=\"center\"\n",
    ")\n",
    "\n",
    "# Ajustes estéticos\n",
    "fig.update_traces(marker_color='royalblue')\n",
    "fig.update_layout(\n",
    "    title_x=0.5,\n",
    "    xaxis_title='Lote',\n",
    "    yaxis_title='Duração (minutos)',\n",
    "    hoverlabel=dict(bgcolor=\"white\", font_size=13),\n",
    "    margin=dict(b=100)  # Aumenta a margem inferior para caber a anotação\n",
    ")\n",
    "\n",
    "# Salva o gráfico em formato HTML\n",
    "fig.write_html(\"step1_tempo_processamento.html\")\n",
    "\n",
    "fig.show()"
   ]
  }
 ],
 "metadata": {
  "kernelspec": {
   "display_name": "env-DScPythonGeo",
   "language": "python",
   "name": "python3"
  },
  "language_info": {
   "codemirror_mode": {
    "name": "ipython",
    "version": 3
   },
   "file_extension": ".py",
   "mimetype": "text/x-python",
   "name": "python",
   "nbconvert_exporter": "python",
   "pygments_lexer": "ipython3",
   "version": "3.12.4"
  }
 },
 "nbformat": 4,
 "nbformat_minor": 5
}
